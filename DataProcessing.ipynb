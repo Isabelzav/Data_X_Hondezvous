{
  "cells": [
    {
      "cell_type": "code",
      "metadata": {
        "tags": [],
        "cell_id": "00000-9023b3db-65b8-4dae-a64e-7f28383347ca",
        "deepnote_to_be_reexecuted": false,
        "source_hash": "17250f03",
        "execution_millis": 0,
        "execution_start": 1620255777974,
        "deepnote_cell_type": "code"
      },
      "source": "import numpy as np\nimport pandas as pd\nimport seaborn as sns\nimport geopandas as gpd\nfrom shapely.geometry import Point, Polygon\nfrom geopandas import GeoDataFrame\nimport matplotlib.pyplot as plt\nimport sklearn\nimport sklearn.utils\nfrom sklearn.pipeline import Pipeline\nfrom sklearn.preprocessing import StandardScaler\nfrom sklearn.cluster import DBSCAN\nimport matplotlib.pyplot as plt\nimport scipy.stats as stats\nfrom datetime import datetime\nimport datetime\nfrom datetime import timedelta",
      "outputs": [],
      "execution_count": null
    },
    {
      "cell_type": "code",
      "metadata": {
        "tags": [],
        "cell_id": "00001-7101199c-f875-4e52-aea4-95d700b11007",
        "deepnote_to_be_reexecuted": false,
        "source_hash": "31a2e102",
        "execution_millis": 2574,
        "execution_start": 1620255778674,
        "deepnote_cell_type": "code"
      },
      "source": "\"\"\"\nImporting csv file with new data and filtering it further.\n\n    Returns:\n    _ _ _ _ _ _ _ _ _ _ _ _ _\n    Dataframe with dropped nan values and dropped index.\n    \n\"\"\"\nnewdata = pd.read_csv(\"/work/Data/mergeddata.csv\")\nnewdata = newdata.dropna().drop(columns=[\"Unnamed: 0\"])\nnewdata",
      "outputs": [
        {
          "output_type": "execute_result",
          "execution_count": 20,
          "data": {
            "application/vnd.deepnote.dataframe.v2+json": {
              "row_count": 736063,
              "column_count": 7,
              "columns": [
                {
                  "name": "Unnamed: 0.1",
                  "dtype": "float64"
                },
                {
                  "name": "timestamp",
                  "dtype": "int64"
                },
                {
                  "name": "vin",
                  "dtype": "object"
                },
                {
                  "name": "sequence",
                  "dtype": "int64"
                },
                {
                  "name": "navigation_location_coordinate_latitude",
                  "dtype": "float64"
                },
                {
                  "name": "navigation_location_coordinate_longitude",
                  "dtype": "float64"
                },
                {
                  "name": "key",
                  "dtype": "object"
                },
                {
                  "name": "_deepnote_index_column",
                  "dtype": "int64"
                }
              ],
              "rows_top": [
                {
                  "Unnamed: 0.1": 138,
                  "timestamp": 1578942333714,
                  "vin": "00089af9f7d3588a888379cf0ffc53cc",
                  "sequence": 733,
                  "navigation_location_coordinate_latitude": 41.492962,
                  "navigation_location_coordinate_longitude": -81.995163,
                  "key": "eyJ0aW1lc3RhbXAiOjE1Nzg5NDIzMzM3MTQsInZpbiI6IjAwMDg5YWY5ZjdkMzU4OGE4ODgzNzljZjBmZmM1M2NjIn0=",
                  "_deepnote_index_column": 0
                },
                {
                  "Unnamed: 0.1": 3548,
                  "timestamp": 1578917535963,
                  "vin": "005b420fd9275f080ad79e1c4330357e",
                  "sequence": 1142,
                  "navigation_location_coordinate_latitude": 41.3350458,
                  "navigation_location_coordinate_longitude": -81.398117,
                  "key": "eyJ0aW1lc3RhbXAiOjE1Nzg5MTc1MzU5NjMsInZpbiI6IjAwNWI0MjBmZDkyNzVmMDgwYWQ3OWUxYzQzMzAzNTdlIn0=",
                  "_deepnote_index_column": 1
                },
                {
                  "Unnamed: 0.1": 3549,
                  "timestamp": 1578917659974,
                  "vin": "005b420fd9275f080ad79e1c4330357e",
                  "sequence": 1142,
                  "navigation_location_coordinate_latitude": 41.3379859,
                  "navigation_location_coordinate_longitude": -81.4026373,
                  "key": "eyJ0aW1lc3RhbXAiOjE1Nzg5MTc2NTk5NzQsInZpbiI6IjAwNWI0MjBmZDkyNzVmMDgwYWQ3OWUxYzQzMzAzNTdlIn0=",
                  "_deepnote_index_column": 2
                },
                {
                  "Unnamed: 0.1": 3550,
                  "timestamp": 1578917668955,
                  "vin": "005b420fd9275f080ad79e1c4330357e",
                  "sequence": 1142,
                  "navigation_location_coordinate_latitude": 41.3387224,
                  "navigation_location_coordinate_longitude": -81.4036095,
                  "key": "eyJ0aW1lc3RhbXAiOjE1Nzg5MTc2Njg5NTUsInZpbiI6IjAwNWI0MjBmZDkyNzVmMDgwYWQ3OWUxYzQzMzAzNTdlIn0=",
                  "_deepnote_index_column": 3
                },
                {
                  "Unnamed: 0.1": 3556,
                  "timestamp": 1578918206960,
                  "vin": "005b420fd9275f080ad79e1c4330357e",
                  "sequence": 1142,
                  "navigation_location_coordinate_latitude": 41.2922165,
                  "navigation_location_coordinate_longitude": -81.4094663,
                  "key": "eyJ0aW1lc3RhbXAiOjE1Nzg5MTgyMDY5NjAsInZpbiI6IjAwNWI0MjBmZDkyNzVmMDgwYWQ3OWUxYzQzMzAzNTdlIn0=",
                  "_deepnote_index_column": 4
                },
                {
                  "Unnamed: 0.1": 3564,
                  "timestamp": 1578927144985,
                  "vin": "005b420fd9275f080ad79e1c4330357e",
                  "sequence": 1143,
                  "navigation_location_coordinate_latitude": 41.2671182,
                  "navigation_location_coordinate_longitude": -81.3784668,
                  "key": "eyJ0aW1lc3RhbXAiOjE1Nzg5MjcxNDQ5ODUsInZpbiI6IjAwNWI0MjBmZDkyNzVmMDgwYWQ3OWUxYzQzMzAzNTdlIn0=",
                  "_deepnote_index_column": 5
                },
                {
                  "Unnamed: 0.1": 3570,
                  "timestamp": 1578927994968,
                  "vin": "005b420fd9275f080ad79e1c4330357e",
                  "sequence": 1143,
                  "navigation_location_coordinate_latitude": 41.4099042,
                  "navigation_location_coordinate_longitude": -81.4997248,
                  "key": "eyJ0aW1lc3RhbXAiOjE1Nzg5Mjc5OTQ5NjgsInZpbiI6IjAwNWI0MjBmZDkyNzVmMDgwYWQ3OWUxYzQzMzAzNTdlIn0=",
                  "_deepnote_index_column": 6
                },
                {
                  "Unnamed: 0.1": 3591,
                  "timestamp": 1578938069940,
                  "vin": "005b420fd9275f080ad79e1c4330357e",
                  "sequence": 1145,
                  "navigation_location_coordinate_latitude": 41.394377,
                  "navigation_location_coordinate_longitude": -81.4130821,
                  "key": "eyJ0aW1lc3RhbXAiOjE1Nzg5MzgwNjk5NDAsInZpbiI6IjAwNWI0MjBmZDkyNzVmMDgwYWQ3OWUxYzQzMzAzNTdlIn0=",
                  "_deepnote_index_column": 7
                },
                {
                  "Unnamed: 0.1": 3606,
                  "timestamp": 1578938869071,
                  "vin": "005b420fd9275f080ad79e1c4330357e",
                  "sequence": 1145,
                  "navigation_location_coordinate_latitude": 41.4127244,
                  "navigation_location_coordinate_longitude": -81.5055703,
                  "key": "eyJ0aW1lc3RhbXAiOjE1Nzg5Mzg4NjkwNzEsInZpbiI6IjAwNWI0MjBmZDkyNzVmMDgwYWQ3OWUxYzQzMzAzNTdlIn0=",
                  "_deepnote_index_column": 8
                },
                {
                  "Unnamed: 0.1": 3608,
                  "timestamp": 1578939136049,
                  "vin": "005b420fd9275f080ad79e1c4330357e",
                  "sequence": 1145,
                  "navigation_location_coordinate_latitude": 41.4143587,
                  "navigation_location_coordinate_longitude": -81.5043558,
                  "key": "eyJ0aW1lc3RhbXAiOjE1Nzg5MzkxMzYwNDksInZpbiI6IjAwNWI0MjBmZDkyNzVmMDgwYWQ3OWUxYzQzMzAzNTdlIn0=",
                  "_deepnote_index_column": 9
                },
                {
                  "Unnamed: 0.1": 3611,
                  "timestamp": 1578953321966,
                  "vin": "005b420fd9275f080ad79e1c4330357e",
                  "sequence": 1146,
                  "navigation_location_coordinate_latitude": 41.4086839,
                  "navigation_location_coordinate_longitude": -81.4974147,
                  "key": "eyJ0aW1lc3RhbXAiOjE1Nzg5NTMzMjE5NjYsInZpbiI6IjAwNWI0MjBmZDkyNzVmMDgwYWQ3OWUxYzQzMzAzNTdlIn0=",
                  "_deepnote_index_column": 10
                },
                {
                  "Unnamed: 0.1": 3618,
                  "timestamp": 1578953655969,
                  "vin": "005b420fd9275f080ad79e1c4330357e",
                  "sequence": 1146,
                  "navigation_location_coordinate_latitude": 41.394762,
                  "navigation_location_coordinate_longitude": -81.4579998,
                  "key": "eyJ0aW1lc3RhbXAiOjE1Nzg5NTM2NTU5NjksInZpbiI6IjAwNWI0MjBmZDkyNzVmMDgwYWQ3OWUxYzQzMzAzNTdlIn0=",
                  "_deepnote_index_column": 11
                },
                {
                  "Unnamed: 0.1": 3623,
                  "timestamp": 1578954028967,
                  "vin": "005b420fd9275f080ad79e1c4330357e",
                  "sequence": 1146,
                  "navigation_location_coordinate_latitude": 41.3792764,
                  "navigation_location_coordinate_longitude": -81.4267512,
                  "key": "eyJ0aW1lc3RhbXAiOjE1Nzg5NTQwMjg5NjcsInZpbiI6IjAwNWI0MjBmZDkyNzVmMDgwYWQ3OWUxYzQzMzAzNTdlIn0=",
                  "_deepnote_index_column": 12
                },
                {
                  "Unnamed: 0.1": 6924,
                  "timestamp": 1578396810688,
                  "vin": "008beb5671fb49a92dc0ef9de96979bf",
                  "sequence": 553,
                  "navigation_location_coordinate_latitude": 40.1485454,
                  "navigation_location_coordinate_longitude": -82.9041065,
                  "key": "eyJ0aW1lc3RhbXAiOjE1NzgzOTY4MTA2ODgsInZpbiI6IjAwOGJlYjU2NzFmYjQ5YTkyZGMwZWY5ZGU5Njk3OWJmIn0=",
                  "_deepnote_index_column": 13
                },
                {
                  "Unnamed: 0.1": 6935,
                  "timestamp": 1578396811445,
                  "vin": "008beb5671fb49a92dc0ef9de96979bf",
                  "sequence": 553,
                  "navigation_location_coordinate_latitude": 40.1485089,
                  "navigation_location_coordinate_longitude": -82.9040793,
                  "key": "eyJ0aW1lc3RhbXAiOjE1NzgzOTY4MTE0NDUsInZpbiI6IjAwOGJlYjU2NzFmYjQ5YTkyZGMwZWY5ZGU5Njk3OWJmIn0=",
                  "_deepnote_index_column": 14
                },
                {
                  "Unnamed: 0.1": 6943,
                  "timestamp": 1578396812440,
                  "vin": "008beb5671fb49a92dc0ef9de96979bf",
                  "sequence": 553,
                  "navigation_location_coordinate_latitude": 40.1484582,
                  "navigation_location_coordinate_longitude": -82.9040503,
                  "key": "eyJ0aW1lc3RhbXAiOjE1NzgzOTY4MTI0NDAsInZpbiI6IjAwOGJlYjU2NzFmYjQ5YTkyZGMwZWY5ZGU5Njk3OWJmIn0=",
                  "_deepnote_index_column": 15
                },
                {
                  "Unnamed: 0.1": 6953,
                  "timestamp": 1578396813516,
                  "vin": "008beb5671fb49a92dc0ef9de96979bf",
                  "sequence": 553,
                  "navigation_location_coordinate_latitude": 40.1483991,
                  "navigation_location_coordinate_longitude": -82.9040215,
                  "key": "eyJ0aW1lc3RhbXAiOjE1NzgzOTY4MTM1MTYsInZpbiI6IjAwOGJlYjU2NzFmYjQ5YTkyZGMwZWY5ZGU5Njk3OWJmIn0=",
                  "_deepnote_index_column": 16
                },
                {
                  "Unnamed: 0.1": 6963,
                  "timestamp": 1578396816432,
                  "vin": "008beb5671fb49a92dc0ef9de96979bf",
                  "sequence": 553,
                  "navigation_location_coordinate_latitude": 40.1482322,
                  "navigation_location_coordinate_longitude": -82.9039462,
                  "key": "eyJ0aW1lc3RhbXAiOjE1NzgzOTY4MTY0MzIsInZpbiI6IjAwOGJlYjU2NzFmYjQ5YTkyZGMwZWY5ZGU5Njk3OWJmIn0=",
                  "_deepnote_index_column": 17
                },
                {
                  "Unnamed: 0.1": 6965,
                  "timestamp": 1578396817904,
                  "vin": "008beb5671fb49a92dc0ef9de96979bf",
                  "sequence": 553,
                  "navigation_location_coordinate_latitude": 40.1481915,
                  "navigation_location_coordinate_longitude": -82.9039285,
                  "key": "eyJ0aW1lc3RhbXAiOjE1NzgzOTY4MTc5MDQsInZpbiI6IjAwOGJlYjU2NzFmYjQ5YTkyZGMwZWY5ZGU5Njk3OWJmIn0=",
                  "_deepnote_index_column": 18
                },
                {
                  "Unnamed: 0.1": 6988,
                  "timestamp": 1578396819597,
                  "vin": "008beb5671fb49a92dc0ef9de96979bf",
                  "sequence": 553,
                  "navigation_location_coordinate_latitude": 40.1481128,
                  "navigation_location_coordinate_longitude": -82.9039094,
                  "key": "eyJ0aW1lc3RhbXAiOjE1NzgzOTY4MTk1OTcsInZpbiI6IjAwOGJlYjU2NzFmYjQ5YTkyZGMwZWY5ZGU5Njk3OWJmIn0=",
                  "_deepnote_index_column": 19
                },
                {
                  "Unnamed: 0.1": 6993,
                  "timestamp": 1578396820431,
                  "vin": "008beb5671fb49a92dc0ef9de96979bf",
                  "sequence": 553,
                  "navigation_location_coordinate_latitude": 40.1480678,
                  "navigation_location_coordinate_longitude": -82.9039289,
                  "key": "eyJ0aW1lc3RhbXAiOjE1NzgzOTY4MjA0MzEsInZpbiI6IjAwOGJlYjU2NzFmYjQ5YTkyZGMwZWY5ZGU5Njk3OWJmIn0=",
                  "_deepnote_index_column": 20
                },
                {
                  "Unnamed: 0.1": 7006,
                  "timestamp": 1578396821476,
                  "vin": "008beb5671fb49a92dc0ef9de96979bf",
                  "sequence": 553,
                  "navigation_location_coordinate_latitude": 40.1480176,
                  "navigation_location_coordinate_longitude": -82.9039896,
                  "key": "eyJ0aW1lc3RhbXAiOjE1NzgzOTY4MjE0NzYsInZpbiI6IjAwOGJlYjU2NzFmYjQ5YTkyZGMwZWY5ZGU5Njk3OWJmIn0=",
                  "_deepnote_index_column": 21
                },
                {
                  "Unnamed: 0.1": 7022,
                  "timestamp": 1578396823428,
                  "vin": "008beb5671fb49a92dc0ef9de96979bf",
                  "sequence": 553,
                  "navigation_location_coordinate_latitude": 40.1479219,
                  "navigation_location_coordinate_longitude": -82.9041673,
                  "key": "eyJ0aW1lc3RhbXAiOjE1NzgzOTY4MjM0MjgsInZpbiI6IjAwOGJlYjU2NzFmYjQ5YTkyZGMwZWY5ZGU5Njk3OWJmIn0=",
                  "_deepnote_index_column": 22
                },
                {
                  "Unnamed: 0.1": 7032,
                  "timestamp": 1578396826485,
                  "vin": "008beb5671fb49a92dc0ef9de96979bf",
                  "sequence": 553,
                  "navigation_location_coordinate_latitude": 40.1477382,
                  "navigation_location_coordinate_longitude": -82.9044856,
                  "key": "eyJ0aW1lc3RhbXAiOjE1NzgzOTY4MjY0ODUsInZpbiI6IjAwOGJlYjU2NzFmYjQ5YTkyZGMwZWY5ZGU5Njk3OWJmIn0=",
                  "_deepnote_index_column": 23
                },
                {
                  "Unnamed: 0.1": 7037,
                  "timestamp": 1578396827471,
                  "vin": "008beb5671fb49a92dc0ef9de96979bf",
                  "sequence": 553,
                  "navigation_location_coordinate_latitude": 40.147671,
                  "navigation_location_coordinate_longitude": -82.9045978,
                  "key": "eyJ0aW1lc3RhbXAiOjE1NzgzOTY4Mjc0NzEsInZpbiI6IjAwOGJlYjU2NzFmYjQ5YTkyZGMwZWY5ZGU5Njk3OWJmIn0=",
                  "_deepnote_index_column": 24
                },
                {
                  "Unnamed: 0.1": 7039,
                  "timestamp": 1578396828474,
                  "vin": "008beb5671fb49a92dc0ef9de96979bf",
                  "sequence": 553,
                  "navigation_location_coordinate_latitude": 40.1476062,
                  "navigation_location_coordinate_longitude": -82.9047131,
                  "key": "eyJ0aW1lc3RhbXAiOjE1NzgzOTY4Mjg0NzQsInZpbiI6IjAwOGJlYjU2NzFmYjQ5YTkyZGMwZWY5ZGU5Njk3OWJmIn0=",
                  "_deepnote_index_column": 25
                },
                {
                  "Unnamed: 0.1": 7043,
                  "timestamp": 1578396829478,
                  "vin": "008beb5671fb49a92dc0ef9de96979bf",
                  "sequence": 553,
                  "navigation_location_coordinate_latitude": 40.1475457,
                  "navigation_location_coordinate_longitude": -82.9048327,
                  "key": "eyJ0aW1lc3RhbXAiOjE1NzgzOTY4Mjk0NzgsInZpbiI6IjAwOGJlYjU2NzFmYjQ5YTkyZGMwZWY5ZGU5Njk3OWJmIn0=",
                  "_deepnote_index_column": 26
                },
                {
                  "Unnamed: 0.1": 7046,
                  "timestamp": 1578396830476,
                  "vin": "008beb5671fb49a92dc0ef9de96979bf",
                  "sequence": 553,
                  "navigation_location_coordinate_latitude": 40.1474918,
                  "navigation_location_coordinate_longitude": -82.904957,
                  "key": "eyJ0aW1lc3RhbXAiOjE1NzgzOTY4MzA0NzYsInZpbiI6IjAwOGJlYjU2NzFmYjQ5YTkyZGMwZWY5ZGU5Njk3OWJmIn0=",
                  "_deepnote_index_column": 27
                },
                {
                  "Unnamed: 0.1": 7052,
                  "timestamp": 1578396832481,
                  "vin": "008beb5671fb49a92dc0ef9de96979bf",
                  "sequence": 553,
                  "navigation_location_coordinate_latitude": 40.1474101,
                  "navigation_location_coordinate_longitude": -82.9052183,
                  "key": "eyJ0aW1lc3RhbXAiOjE1NzgzOTY4MzI0ODEsInZpbiI6IjAwOGJlYjU2NzFmYjQ5YTkyZGMwZWY5ZGU5Njk3OWJmIn0=",
                  "_deepnote_index_column": 28
                },
                {
                  "Unnamed: 0.1": 7056,
                  "timestamp": 1578396833499,
                  "vin": "008beb5671fb49a92dc0ef9de96979bf",
                  "sequence": 553,
                  "navigation_location_coordinate_latitude": 40.1473847,
                  "navigation_location_coordinate_longitude": -82.9053538,
                  "key": "eyJ0aW1lc3RhbXAiOjE1NzgzOTY4MzM0OTksInZpbiI6IjAwOGJlYjU2NzFmYjQ5YTkyZGMwZWY5ZGU5Njk3OWJmIn0=",
                  "_deepnote_index_column": 29
                },
                {
                  "Unnamed: 0.1": 7063,
                  "timestamp": 1578396835442,
                  "vin": "008beb5671fb49a92dc0ef9de96979bf",
                  "sequence": 553,
                  "navigation_location_coordinate_latitude": 40.1473734,
                  "navigation_location_coordinate_longitude": -82.9056294,
                  "key": "eyJ0aW1lc3RhbXAiOjE1NzgzOTY4MzU0NDIsInZpbiI6IjAwOGJlYjU2NzFmYjQ5YTkyZGMwZWY5ZGU5Njk3OWJmIn0=",
                  "_deepnote_index_column": 30
                },
                {
                  "Unnamed: 0.1": 7074,
                  "timestamp": 1578396837488,
                  "vin": "008beb5671fb49a92dc0ef9de96979bf",
                  "sequence": 553,
                  "navigation_location_coordinate_latitude": 40.1473965,
                  "navigation_location_coordinate_longitude": -82.9059181,
                  "key": "eyJ0aW1lc3RhbXAiOjE1NzgzOTY4Mzc0ODgsInZpbiI6IjAwOGJlYjU2NzFmYjQ5YTkyZGMwZWY5ZGU5Njk3OWJmIn0=",
                  "_deepnote_index_column": 31
                },
                {
                  "Unnamed: 0.1": 7076,
                  "timestamp": 1578396838481,
                  "vin": "008beb5671fb49a92dc0ef9de96979bf",
                  "sequence": 553,
                  "navigation_location_coordinate_latitude": 40.1474087,
                  "navigation_location_coordinate_longitude": -82.906057,
                  "key": "eyJ0aW1lc3RhbXAiOjE1NzgzOTY4Mzg0ODEsInZpbiI6IjAwOGJlYjU2NzFmYjQ5YTkyZGMwZWY5ZGU5Njk3OWJmIn0=",
                  "_deepnote_index_column": 32
                },
                {
                  "Unnamed: 0.1": 7092,
                  "timestamp": 1578396840485,
                  "vin": "008beb5671fb49a92dc0ef9de96979bf",
                  "sequence": 553,
                  "navigation_location_coordinate_latitude": 40.1474179,
                  "navigation_location_coordinate_longitude": -82.9062948,
                  "key": "eyJ0aW1lc3RhbXAiOjE1NzgzOTY4NDA0ODUsInZpbiI6IjAwOGJlYjU2NzFmYjQ5YTkyZGMwZWY5ZGU5Njk3OWJmIn0=",
                  "_deepnote_index_column": 33
                },
                {
                  "Unnamed: 0.1": 7108,
                  "timestamp": 1578396841475,
                  "vin": "008beb5671fb49a92dc0ef9de96979bf",
                  "sequence": 553,
                  "navigation_location_coordinate_latitude": 40.1474002,
                  "navigation_location_coordinate_longitude": -82.9063913,
                  "key": "eyJ0aW1lc3RhbXAiOjE1NzgzOTY4NDE0NzUsInZpbiI6IjAwOGJlYjU2NzFmYjQ5YTkyZGMwZWY5ZGU5Njk3OWJmIn0=",
                  "_deepnote_index_column": 34
                },
                {
                  "Unnamed: 0.1": 7114,
                  "timestamp": 1578396842477,
                  "vin": "008beb5671fb49a92dc0ef9de96979bf",
                  "sequence": 553,
                  "navigation_location_coordinate_latitude": 40.1473604,
                  "navigation_location_coordinate_longitude": -82.9064692,
                  "key": "eyJ0aW1lc3RhbXAiOjE1NzgzOTY4NDI0NzcsInZpbiI6IjAwOGJlYjU2NzFmYjQ5YTkyZGMwZWY5ZGU5Njk3OWJmIn0=",
                  "_deepnote_index_column": 35
                },
                {
                  "Unnamed: 0.1": 7117,
                  "timestamp": 1578396843476,
                  "vin": "008beb5671fb49a92dc0ef9de96979bf",
                  "sequence": 553,
                  "navigation_location_coordinate_latitude": 40.1473012,
                  "navigation_location_coordinate_longitude": -82.9065214,
                  "key": "eyJ0aW1lc3RhbXAiOjE1NzgzOTY4NDM0NzYsInZpbiI6IjAwOGJlYjU2NzFmYjQ5YTkyZGMwZWY5ZGU5Njk3OWJmIn0=",
                  "_deepnote_index_column": 36
                },
                {
                  "Unnamed: 0.1": 7129,
                  "timestamp": 1578396845472,
                  "vin": "008beb5671fb49a92dc0ef9de96979bf",
                  "sequence": 553,
                  "navigation_location_coordinate_latitude": 40.1471438,
                  "navigation_location_coordinate_longitude": -82.9065481,
                  "key": "eyJ0aW1lc3RhbXAiOjE1NzgzOTY4NDU0NzIsInZpbiI6IjAwOGJlYjU2NzFmYjQ5YTkyZGMwZWY5ZGU5Njk3OWJmIn0=",
                  "_deepnote_index_column": 37
                },
                {
                  "Unnamed: 0.1": 7141,
                  "timestamp": 1578396847425,
                  "vin": "008beb5671fb49a92dc0ef9de96979bf",
                  "sequence": 553,
                  "navigation_location_coordinate_latitude": 40.1469465,
                  "navigation_location_coordinate_longitude": -82.9065527,
                  "key": "eyJ0aW1lc3RhbXAiOjE1NzgzOTY4NDc0MjUsInZpbiI6IjAwOGJlYjU2NzFmYjQ5YTkyZGMwZWY5ZGU5Njk3OWJmIn0=",
                  "_deepnote_index_column": 38
                },
                {
                  "Unnamed: 0.1": 7147,
                  "timestamp": 1578396848434,
                  "vin": "008beb5671fb49a92dc0ef9de96979bf",
                  "sequence": 553,
                  "navigation_location_coordinate_latitude": 40.1468357,
                  "navigation_location_coordinate_longitude": -82.9065589,
                  "key": "eyJ0aW1lc3RhbXAiOjE1NzgzOTY4NDg0MzQsInZpbiI6IjAwOGJlYjU2NzFmYjQ5YTkyZGMwZWY5ZGU5Njk3OWJmIn0=",
                  "_deepnote_index_column": 39
                },
                {
                  "Unnamed: 0.1": 7156,
                  "timestamp": 1578396851449,
                  "vin": "008beb5671fb49a92dc0ef9de96979bf",
                  "sequence": 553,
                  "navigation_location_coordinate_latitude": 40.1464961,
                  "navigation_location_coordinate_longitude": -82.9065842,
                  "key": "eyJ0aW1lc3RhbXAiOjE1NzgzOTY4NTE0NDksInZpbiI6IjAwOGJlYjU2NzFmYjQ5YTkyZGMwZWY5ZGU5Njk3OWJmIn0=",
                  "_deepnote_index_column": 40
                },
                {
                  "Unnamed: 0.1": 7159,
                  "timestamp": 1578396852430,
                  "vin": "008beb5671fb49a92dc0ef9de96979bf",
                  "sequence": 553,
                  "navigation_location_coordinate_latitude": 40.1463917,
                  "navigation_location_coordinate_longitude": -82.9065966,
                  "key": "eyJ0aW1lc3RhbXAiOjE1NzgzOTY4NTI0MzAsInZpbiI6IjAwOGJlYjU2NzFmYjQ5YTkyZGMwZWY5ZGU5Njk3OWJmIn0=",
                  "_deepnote_index_column": 41
                },
                {
                  "Unnamed: 0.1": 7162,
                  "timestamp": 1578396853553,
                  "vin": "008beb5671fb49a92dc0ef9de96979bf",
                  "sequence": 553,
                  "navigation_location_coordinate_latitude": 40.1462983,
                  "navigation_location_coordinate_longitude": -82.9066098,
                  "key": "eyJ0aW1lc3RhbXAiOjE1NzgzOTY4NTM1NTMsInZpbiI6IjAwOGJlYjU2NzFmYjQ5YTkyZGMwZWY5ZGU5Njk3OWJmIn0=",
                  "_deepnote_index_column": 42
                },
                {
                  "Unnamed: 0.1": 7167,
                  "timestamp": 1578396854423,
                  "vin": "008beb5671fb49a92dc0ef9de96979bf",
                  "sequence": 553,
                  "navigation_location_coordinate_latitude": 40.1462193,
                  "navigation_location_coordinate_longitude": -82.9066242,
                  "key": "eyJ0aW1lc3RhbXAiOjE1NzgzOTY4NTQ0MjMsInZpbiI6IjAwOGJlYjU2NzFmYjQ5YTkyZGMwZWY5ZGU5Njk3OWJmIn0=",
                  "_deepnote_index_column": 43
                },
                {
                  "Unnamed: 0.1": 7173,
                  "timestamp": 1578396855455,
                  "vin": "008beb5671fb49a92dc0ef9de96979bf",
                  "sequence": 553,
                  "navigation_location_coordinate_latitude": 40.1461586,
                  "navigation_location_coordinate_longitude": -82.9066402,
                  "key": "eyJ0aW1lc3RhbXAiOjE1NzgzOTY4NTU0NTUsInZpbiI6IjAwOGJlYjU2NzFmYjQ5YTkyZGMwZWY5ZGU5Njk3OWJmIn0=",
                  "_deepnote_index_column": 44
                },
                {
                  "Unnamed: 0.1": 7184,
                  "timestamp": 1578396858446,
                  "vin": "008beb5671fb49a92dc0ef9de96979bf",
                  "sequence": 553,
                  "navigation_location_coordinate_latitude": 40.1460976,
                  "navigation_location_coordinate_longitude": -82.9066662,
                  "key": "eyJ0aW1lc3RhbXAiOjE1NzgzOTY4NTg0NDYsInZpbiI6IjAwOGJlYjU2NzFmYjQ5YTkyZGMwZWY5ZGU5Njk3OWJmIn0=",
                  "_deepnote_index_column": 45
                },
                {
                  "Unnamed: 0.1": 7198,
                  "timestamp": 1578396868435,
                  "vin": "008beb5671fb49a92dc0ef9de96979bf",
                  "sequence": 553,
                  "navigation_location_coordinate_latitude": 40.1460884,
                  "navigation_location_coordinate_longitude": -82.9066725,
                  "key": "eyJ0aW1lc3RhbXAiOjE1NzgzOTY4Njg0MzUsInZpbiI6IjAwOGJlYjU2NzFmYjQ5YTkyZGMwZWY5ZGU5Njk3OWJmIn0=",
                  "_deepnote_index_column": 46
                },
                {
                  "Unnamed: 0.1": 7210,
                  "timestamp": 1578396869435,
                  "vin": "008beb5671fb49a92dc0ef9de96979bf",
                  "sequence": 553,
                  "navigation_location_coordinate_latitude": 40.1460652,
                  "navigation_location_coordinate_longitude": -82.9066931,
                  "key": "eyJ0aW1lc3RhbXAiOjE1NzgzOTY4Njk0MzUsInZpbiI6IjAwOGJlYjU2NzFmYjQ5YTkyZGMwZWY5ZGU5Njk3OWJmIn0=",
                  "_deepnote_index_column": 47
                },
                {
                  "Unnamed: 0.1": 7222,
                  "timestamp": 1578396870428,
                  "vin": "008beb5671fb49a92dc0ef9de96979bf",
                  "sequence": 553,
                  "navigation_location_coordinate_latitude": 40.1460402,
                  "navigation_location_coordinate_longitude": -82.9067404,
                  "key": "eyJ0aW1lc3RhbXAiOjE1NzgzOTY4NzA0MjgsInZpbiI6IjAwOGJlYjU2NzFmYjQ5YTkyZGMwZWY5ZGU5Njk3OWJmIn0=",
                  "_deepnote_index_column": 48
                },
                {
                  "Unnamed: 0.1": 7236,
                  "timestamp": 1578396871438,
                  "vin": "008beb5671fb49a92dc0ef9de96979bf",
                  "sequence": 553,
                  "navigation_location_coordinate_latitude": 40.1460266,
                  "navigation_location_coordinate_longitude": -82.9068221,
                  "key": "eyJ0aW1lc3RhbXAiOjE1NzgzOTY4NzE0MzgsInZpbiI6IjAwOGJlYjU2NzFmYjQ5YTkyZGMwZWY5ZGU5Njk3OWJmIn0=",
                  "_deepnote_index_column": 49
                },
                {
                  "Unnamed: 0.1": 7251,
                  "timestamp": 1578396873436,
                  "vin": "008beb5671fb49a92dc0ef9de96979bf",
                  "sequence": 553,
                  "navigation_location_coordinate_latitude": 40.1460317,
                  "navigation_location_coordinate_longitude": -82.907074,
                  "key": "eyJ0aW1lc3RhbXAiOjE1NzgzOTY4NzM0MzYsInZpbiI6IjAwOGJlYjU2NzFmYjQ5YTkyZGMwZWY5ZGU5Njk3OWJmIn0=",
                  "_deepnote_index_column": 50
                },
                {
                  "Unnamed: 0.1": 7256,
                  "timestamp": 1578396874433,
                  "vin": "008beb5671fb49a92dc0ef9de96979bf",
                  "sequence": 553,
                  "navigation_location_coordinate_latitude": 40.1460388,
                  "navigation_location_coordinate_longitude": -82.907241,
                  "key": "eyJ0aW1lc3RhbXAiOjE1NzgzOTY4NzQ0MzMsInZpbiI6IjAwOGJlYjU2NzFmYjQ5YTkyZGMwZWY5ZGU5Njk3OWJmIn0=",
                  "_deepnote_index_column": 51
                },
                {
                  "Unnamed: 0.1": 7281,
                  "timestamp": 1578396878477,
                  "vin": "008beb5671fb49a92dc0ef9de96979bf",
                  "sequence": 553,
                  "navigation_location_coordinate_latitude": 40.1460746,
                  "navigation_location_coordinate_longitude": -82.9081302,
                  "key": "eyJ0aW1lc3RhbXAiOjE1NzgzOTY4Nzg0NzcsInZpbiI6IjAwOGJlYjU2NzFmYjQ5YTkyZGMwZWY5ZGU5Njk3OWJmIn0=",
                  "_deepnote_index_column": 52
                },
                {
                  "Unnamed: 0.1": 7284,
                  "timestamp": 1578396879475,
                  "vin": "008beb5671fb49a92dc0ef9de96979bf",
                  "sequence": 553,
                  "navigation_location_coordinate_latitude": 40.146084,
                  "navigation_location_coordinate_longitude": -82.9083838,
                  "key": "eyJ0aW1lc3RhbXAiOjE1NzgzOTY4Nzk0NzUsInZpbiI6IjAwOGJlYjU2NzFmYjQ5YTkyZGMwZWY5ZGU5Njk3OWJmIn0=",
                  "_deepnote_index_column": 53
                },
                {
                  "Unnamed: 0.1": 7290,
                  "timestamp": 1578396881470,
                  "vin": "008beb5671fb49a92dc0ef9de96979bf",
                  "sequence": 553,
                  "navigation_location_coordinate_latitude": 40.1461033,
                  "navigation_location_coordinate_longitude": -82.9089043,
                  "key": "eyJ0aW1lc3RhbXAiOjE1NzgzOTY4ODE0NzAsInZpbiI6IjAwOGJlYjU2NzFmYjQ5YTkyZGMwZWY5ZGU5Njk3OWJmIn0=",
                  "_deepnote_index_column": 54
                },
                {
                  "Unnamed: 0.1": 7293,
                  "timestamp": 1578396882474,
                  "vin": "008beb5671fb49a92dc0ef9de96979bf",
                  "sequence": 553,
                  "navigation_location_coordinate_latitude": 40.1461143,
                  "navigation_location_coordinate_longitude": -82.9091685,
                  "key": "eyJ0aW1lc3RhbXAiOjE1NzgzOTY4ODI0NzQsInZpbiI6IjAwOGJlYjU2NzFmYjQ5YTkyZGMwZWY5ZGU5Njk3OWJmIn0=",
                  "_deepnote_index_column": 55
                },
                {
                  "Unnamed: 0.1": 7294,
                  "timestamp": 1578396883469,
                  "vin": "008beb5671fb49a92dc0ef9de96979bf",
                  "sequence": 553,
                  "navigation_location_coordinate_latitude": 40.1461239,
                  "navigation_location_coordinate_longitude": -82.9094345,
                  "key": "eyJ0aW1lc3RhbXAiOjE1NzgzOTY4ODM0NjksInZpbiI6IjAwOGJlYjU2NzFmYjQ5YTkyZGMwZWY5ZGU5Njk3OWJmIn0=",
                  "_deepnote_index_column": 56
                },
                {
                  "Unnamed: 0.1": 7296,
                  "timestamp": 1578396884471,
                  "vin": "008beb5671fb49a92dc0ef9de96979bf",
                  "sequence": 553,
                  "navigation_location_coordinate_latitude": 40.1461337,
                  "navigation_location_coordinate_longitude": -82.9097019,
                  "key": "eyJ0aW1lc3RhbXAiOjE1NzgzOTY4ODQ0NzEsInZpbiI6IjAwOGJlYjU2NzFmYjQ5YTkyZGMwZWY5ZGU5Njk3OWJmIn0=",
                  "_deepnote_index_column": 57
                },
                {
                  "Unnamed: 0.1": 7304,
                  "timestamp": 1578396890423,
                  "vin": "008beb5671fb49a92dc0ef9de96979bf",
                  "sequence": 553,
                  "navigation_location_coordinate_latitude": 40.1461988,
                  "navigation_location_coordinate_longitude": -82.9112694,
                  "key": "eyJ0aW1lc3RhbXAiOjE1NzgzOTY4OTA0MjMsInZpbiI6IjAwOGJlYjU2NzFmYjQ5YTkyZGMwZWY5ZGU5Njk3OWJmIn0=",
                  "_deepnote_index_column": 58
                },
                {
                  "Unnamed: 0.1": 7307,
                  "timestamp": 1578396891478,
                  "vin": "008beb5671fb49a92dc0ef9de96979bf",
                  "sequence": 553,
                  "navigation_location_coordinate_latitude": 40.1462094,
                  "navigation_location_coordinate_longitude": -82.9115231,
                  "key": "eyJ0aW1lc3RhbXAiOjE1NzgzOTY4OTE0NzgsInZpbiI6IjAwOGJlYjU2NzFmYjQ5YTkyZGMwZWY5ZGU5Njk3OWJmIn0=",
                  "_deepnote_index_column": 59
                },
                {
                  "Unnamed: 0.1": 7308,
                  "timestamp": 1578396892474,
                  "vin": "008beb5671fb49a92dc0ef9de96979bf",
                  "sequence": 553,
                  "navigation_location_coordinate_latitude": 40.1462212,
                  "navigation_location_coordinate_longitude": -82.9117784,
                  "key": "eyJ0aW1lc3RhbXAiOjE1NzgzOTY4OTI0NzQsInZpbiI6IjAwOGJlYjU2NzFmYjQ5YTkyZGMwZWY5ZGU5Njk3OWJmIn0=",
                  "_deepnote_index_column": 60
                },
                {
                  "Unnamed: 0.1": 7310,
                  "timestamp": 1578396893473,
                  "vin": "008beb5671fb49a92dc0ef9de96979bf",
                  "sequence": 553,
                  "navigation_location_coordinate_latitude": 40.1462329,
                  "navigation_location_coordinate_longitude": -82.9120355,
                  "key": "eyJ0aW1lc3RhbXAiOjE1NzgzOTY4OTM0NzMsInZpbiI6IjAwOGJlYjU2NzFmYjQ5YTkyZGMwZWY5ZGU5Njk3OWJmIn0=",
                  "_deepnote_index_column": 61
                },
                {
                  "Unnamed: 0.1": 7312,
                  "timestamp": 1578396894474,
                  "vin": "008beb5671fb49a92dc0ef9de96979bf",
                  "sequence": 553,
                  "navigation_location_coordinate_latitude": 40.1462448,
                  "navigation_location_coordinate_longitude": -82.9122928,
                  "key": "eyJ0aW1lc3RhbXAiOjE1NzgzOTY4OTQ0NzQsInZpbiI6IjAwOGJlYjU2NzFmYjQ5YTkyZGMwZWY5ZGU5Njk3OWJmIn0=",
                  "_deepnote_index_column": 62
                },
                {
                  "Unnamed: 0.1": 7314,
                  "timestamp": 1578396895476,
                  "vin": "008beb5671fb49a92dc0ef9de96979bf",
                  "sequence": 553,
                  "navigation_location_coordinate_latitude": 40.1462568,
                  "navigation_location_coordinate_longitude": -82.9125494,
                  "key": "eyJ0aW1lc3RhbXAiOjE1NzgzOTY4OTU0NzYsInZpbiI6IjAwOGJlYjU2NzFmYjQ5YTkyZGMwZWY5ZGU5Njk3OWJmIn0=",
                  "_deepnote_index_column": 63
                },
                {
                  "Unnamed: 0.1": 7317,
                  "timestamp": 1578396896472,
                  "vin": "008beb5671fb49a92dc0ef9de96979bf",
                  "sequence": 553,
                  "navigation_location_coordinate_latitude": 40.1462683,
                  "navigation_location_coordinate_longitude": -82.9128054,
                  "key": "eyJ0aW1lc3RhbXAiOjE1NzgzOTY4OTY0NzIsInZpbiI6IjAwOGJlYjU2NzFmYjQ5YTkyZGMwZWY5ZGU5Njk3OWJmIn0=",
                  "_deepnote_index_column": 64
                },
                {
                  "Unnamed: 0.1": 7318,
                  "timestamp": 1578396897425,
                  "vin": "008beb5671fb49a92dc0ef9de96979bf",
                  "sequence": 553,
                  "navigation_location_coordinate_latitude": 40.146279,
                  "navigation_location_coordinate_longitude": -82.9130595,
                  "key": "eyJ0aW1lc3RhbXAiOjE1NzgzOTY4OTc0MjUsInZpbiI6IjAwOGJlYjU2NzFmYjQ5YTkyZGMwZWY5ZGU5Njk3OWJmIn0=",
                  "_deepnote_index_column": 65
                },
                {
                  "Unnamed: 0.1": 7321,
                  "timestamp": 1578396899448,
                  "vin": "008beb5671fb49a92dc0ef9de96979bf",
                  "sequence": 553,
                  "navigation_location_coordinate_latitude": 40.1462999,
                  "navigation_location_coordinate_longitude": -82.9135659,
                  "key": "eyJ0aW1lc3RhbXAiOjE1NzgzOTY4OTk0NDgsInZpbiI6IjAwOGJlYjU2NzFmYjQ5YTkyZGMwZWY5ZGU5Njk3OWJmIn0=",
                  "_deepnote_index_column": 66
                },
                {
                  "Unnamed: 0.1": 7322,
                  "timestamp": 1578396900431,
                  "vin": "008beb5671fb49a92dc0ef9de96979bf",
                  "sequence": 553,
                  "navigation_location_coordinate_latitude": 40.1463106,
                  "navigation_location_coordinate_longitude": -82.9138177,
                  "key": "eyJ0aW1lc3RhbXAiOjE1NzgzOTY5MDA0MzEsInZpbiI6IjAwOGJlYjU2NzFmYjQ5YTkyZGMwZWY5ZGU5Njk3OWJmIn0=",
                  "_deepnote_index_column": 67
                },
                {
                  "Unnamed: 0.1": 7325,
                  "timestamp": 1578396903463,
                  "vin": "008beb5671fb49a92dc0ef9de96979bf",
                  "sequence": 553,
                  "navigation_location_coordinate_latitude": 40.1463433,
                  "navigation_location_coordinate_longitude": -82.9145693,
                  "key": "eyJ0aW1lc3RhbXAiOjE1NzgzOTY5MDM0NjMsInZpbiI6IjAwOGJlYjU2NzFmYjQ5YTkyZGMwZWY5ZGU5Njk3OWJmIn0=",
                  "_deepnote_index_column": 68
                },
                {
                  "Unnamed: 0.1": 7332,
                  "timestamp": 1578396907427,
                  "vin": "008beb5671fb49a92dc0ef9de96979bf",
                  "sequence": 553,
                  "navigation_location_coordinate_latitude": 40.1463874,
                  "navigation_location_coordinate_longitude": -82.9155578,
                  "key": "eyJ0aW1lc3RhbXAiOjE1NzgzOTY5MDc0MjcsInZpbiI6IjAwOGJlYjU2NzFmYjQ5YTkyZGMwZWY5ZGU5Njk3OWJmIn0=",
                  "_deepnote_index_column": 69
                },
                {
                  "Unnamed: 0.1": 7343,
                  "timestamp": 1578396915425,
                  "vin": "008beb5671fb49a92dc0ef9de96979bf",
                  "sequence": 553,
                  "navigation_location_coordinate_latitude": 40.1464779,
                  "navigation_location_coordinate_longitude": -82.9175653,
                  "key": "eyJ0aW1lc3RhbXAiOjE1NzgzOTY5MTU0MjUsInZpbiI6IjAwOGJlYjU2NzFmYjQ5YTkyZGMwZWY5ZGU5Njk3OWJmIn0=",
                  "_deepnote_index_column": 70
                }
              ],
              "rows_bottom": [
                {
                  "Unnamed: 0.1": 429,
                  "timestamp": 1580774327594,
                  "vin": "123b9a7bbd7775662d3a55656dc2379b",
                  "sequence": 2065,
                  "navigation_location_coordinate_latitude": 39.9109608,
                  "navigation_location_coordinate_longitude": -82.797376,
                  "key": "eyJ0aW1lc3RhbXAiOjE1ODA3NzQzMjc1OTQsInZpbiI6IjEyM2I5YTdiYmQ3Nzc1NjYyZDNhNTU2NTZkYzIzNzliIn0=",
                  "_deepnote_index_column": 735992
                },
                {
                  "Unnamed: 0.1": 536,
                  "timestamp": 1580774329596,
                  "vin": "123b9a7bbd7775662d3a55656dc2379b",
                  "sequence": 2065,
                  "navigation_location_coordinate_latitude": 39.910984,
                  "navigation_location_coordinate_longitude": -82.797863,
                  "key": "eyJ0aW1lc3RhbXAiOjE1ODA3NzQzMjk1OTYsInZpbiI6IjEyM2I5YTdiYmQ3Nzc1NjYyZDNhNTU2NTZkYzIzNzliIn0=",
                  "_deepnote_index_column": 735993
                },
                {
                  "Unnamed: 0.1": 591,
                  "timestamp": 1580774330600,
                  "vin": "123b9a7bbd7775662d3a55656dc2379b",
                  "sequence": 2065,
                  "navigation_location_coordinate_latitude": 39.910995,
                  "navigation_location_coordinate_longitude": -82.7981086,
                  "key": "eyJ0aW1lc3RhbXAiOjE1ODA3NzQzMzA2MDAsInZpbiI6IjEyM2I5YTdiYmQ3Nzc1NjYyZDNhNTU2NTZkYzIzNzliIn0=",
                  "_deepnote_index_column": 735994
                },
                {
                  "Unnamed: 0.1": 645,
                  "timestamp": 1580774331598,
                  "vin": "123b9a7bbd7775662d3a55656dc2379b",
                  "sequence": 2065,
                  "navigation_location_coordinate_latitude": 39.9110061,
                  "navigation_location_coordinate_longitude": -82.7983548,
                  "key": "eyJ0aW1lc3RhbXAiOjE1ODA3NzQzMzE1OTgsInZpbiI6IjEyM2I5YTdiYmQ3Nzc1NjYyZDNhNTU2NTZkYzIzNzliIn0=",
                  "_deepnote_index_column": 735995
                },
                {
                  "Unnamed: 0.1": 752,
                  "timestamp": 1580774333647,
                  "vin": "123b9a7bbd7775662d3a55656dc2379b",
                  "sequence": 2065,
                  "navigation_location_coordinate_latitude": 39.9110298,
                  "navigation_location_coordinate_longitude": -82.7988499,
                  "key": "eyJ0aW1lc3RhbXAiOjE1ODA3NzQzMzM2NDcsInZpbiI6IjEyM2I5YTdiYmQ3Nzc1NjYyZDNhNTU2NTZkYzIzNzliIn0=",
                  "_deepnote_index_column": 735996
                },
                {
                  "Unnamed: 0.1": 858,
                  "timestamp": 1580774335595,
                  "vin": "123b9a7bbd7775662d3a55656dc2379b",
                  "sequence": 2065,
                  "navigation_location_coordinate_latitude": 39.9110565,
                  "navigation_location_coordinate_longitude": -82.7993454,
                  "key": "eyJ0aW1lc3RhbXAiOjE1ODA3NzQzMzU1OTUsInZpbiI6IjEyM2I5YTdiYmQ3Nzc1NjYyZDNhNTU2NTZkYzIzNzliIn0=",
                  "_deepnote_index_column": 735997
                },
                {
                  "Unnamed: 0.1": 915,
                  "timestamp": 1580774336596,
                  "vin": "123b9a7bbd7775662d3a55656dc2379b",
                  "sequence": 2065,
                  "navigation_location_coordinate_latitude": 39.9110691,
                  "navigation_location_coordinate_longitude": -82.7995883,
                  "key": "eyJ0aW1lc3RhbXAiOjE1ODA3NzQzMzY1OTYsInZpbiI6IjEyM2I5YTdiYmQ3Nzc1NjYyZDNhNTU2NTZkYzIzNzliIn0=",
                  "_deepnote_index_column": 735998
                },
                {
                  "Unnamed: 0.1": 964,
                  "timestamp": 1580774337595,
                  "vin": "123b9a7bbd7775662d3a55656dc2379b",
                  "sequence": 2065,
                  "navigation_location_coordinate_latitude": 39.9110813,
                  "navigation_location_coordinate_longitude": -82.7998269,
                  "key": "eyJ0aW1lc3RhbXAiOjE1ODA3NzQzMzc1OTUsInZpbiI6IjEyM2I5YTdiYmQ3Nzc1NjYyZDNhNTU2NTZkYzIzNzliIn0=",
                  "_deepnote_index_column": 735999
                },
                {
                  "Unnamed: 0.1": 71,
                  "timestamp": 1580774339599,
                  "vin": "123b9a7bbd7775662d3a55656dc2379b",
                  "sequence": 2065,
                  "navigation_location_coordinate_latitude": 39.9111073,
                  "navigation_location_coordinate_longitude": -82.8002921,
                  "key": "eyJ0aW1lc3RhbXAiOjE1ODA3NzQzMzk1OTksInZpbiI6IjEyM2I5YTdiYmQ3Nzc1NjYyZDNhNTU2NTZkYzIzNzliIn0=",
                  "_deepnote_index_column": 736000
                },
                {
                  "Unnamed: 0.1": 211,
                  "timestamp": 1580774342597,
                  "vin": "123b9a7bbd7775662d3a55656dc2379b",
                  "sequence": 2065,
                  "navigation_location_coordinate_latitude": 39.9111483,
                  "navigation_location_coordinate_longitude": -82.8009845,
                  "key": "eyJ0aW1lc3RhbXAiOjE1ODA3NzQzNDI1OTcsInZpbiI6IjEyM2I5YTdiYmQ3Nzc1NjYyZDNhNTU2NTZkYzIzNzliIn0=",
                  "_deepnote_index_column": 736001
                },
                {
                  "Unnamed: 0.1": 433,
                  "timestamp": 1580774347602,
                  "vin": "123b9a7bbd7775662d3a55656dc2379b",
                  "sequence": 2065,
                  "navigation_location_coordinate_latitude": 39.9111969,
                  "navigation_location_coordinate_longitude": -82.8021234,
                  "key": "eyJ0aW1lc3RhbXAiOjE1ODA3NzQzNDc2MDIsInZpbiI6IjEyM2I5YTdiYmQ3Nzc1NjYyZDNhNTU2NTZkYzIzNzliIn0=",
                  "_deepnote_index_column": 736002
                },
                {
                  "Unnamed: 0.1": 532,
                  "timestamp": 1580774349597,
                  "vin": "123b9a7bbd7775662d3a55656dc2379b",
                  "sequence": 2065,
                  "navigation_location_coordinate_latitude": 39.9112144,
                  "navigation_location_coordinate_longitude": -82.8025705,
                  "key": "eyJ0aW1lc3RhbXAiOjE1ODA3NzQzNDk1OTcsInZpbiI6IjEyM2I5YTdiYmQ3Nzc1NjYyZDNhNTU2NTZkYzIzNzliIn0=",
                  "_deepnote_index_column": 736003
                },
                {
                  "Unnamed: 0.1": 742,
                  "timestamp": 1580774353597,
                  "vin": "123b9a7bbd7775662d3a55656dc2379b",
                  "sequence": 2065,
                  "navigation_location_coordinate_latitude": 39.9112546,
                  "navigation_location_coordinate_longitude": -82.803462,
                  "key": "eyJ0aW1lc3RhbXAiOjE1ODA3NzQzNTM1OTcsInZpbiI6IjEyM2I5YTdiYmQ3Nzc1NjYyZDNhNTU2NTZkYzIzNzliIn0=",
                  "_deepnote_index_column": 736004
                },
                {
                  "Unnamed: 0.1": 804,
                  "timestamp": 1580774354595,
                  "vin": "123b9a7bbd7775662d3a55656dc2379b",
                  "sequence": 2065,
                  "navigation_location_coordinate_latitude": 39.9112617,
                  "navigation_location_coordinate_longitude": -82.8036716,
                  "key": "eyJ0aW1lc3RhbXAiOjE1ODA3NzQzNTQ1OTUsInZpbiI6IjEyM2I5YTdiYmQ3Nzc1NjYyZDNhNTU2NTZkYzIzNzliIn0=",
                  "_deepnote_index_column": 736005
                },
                {
                  "Unnamed: 0.1": 859,
                  "timestamp": 1580774355594,
                  "vin": "123b9a7bbd7775662d3a55656dc2379b",
                  "sequence": 2065,
                  "navigation_location_coordinate_latitude": 39.9112685,
                  "navigation_location_coordinate_longitude": -82.8038729,
                  "key": "eyJ0aW1lc3RhbXAiOjE1ODA3NzQzNTU1OTQsInZpbiI6IjEyM2I5YTdiYmQ3Nzc1NjYyZDNhNTU2NTZkYzIzNzliIn0=",
                  "_deepnote_index_column": 736006
                },
                {
                  "Unnamed: 0.1": 917,
                  "timestamp": 1580774356493,
                  "vin": "123b9a7bbd7775662d3a55656dc2379b",
                  "sequence": 2065,
                  "navigation_location_coordinate_latitude": 39.911274,
                  "navigation_location_coordinate_longitude": -82.804048,
                  "key": "eyJ0aW1lc3RhbXAiOjE1ODA3NzQzNTY0OTMsInZpbiI6IjEyM2I5YTdiYmQ3Nzc1NjYyZDNhNTU2NTZkYzIzNzliIn0=",
                  "_deepnote_index_column": 736007
                },
                {
                  "Unnamed: 0.1": 979,
                  "timestamp": 1580774357497,
                  "vin": "123b9a7bbd7775662d3a55656dc2379b",
                  "sequence": 2065,
                  "navigation_location_coordinate_latitude": 39.911283,
                  "navigation_location_coordinate_longitude": -82.804232,
                  "key": "eyJ0aW1lc3RhbXAiOjE1ODA3NzQzNTc0OTcsInZpbiI6IjEyM2I5YTdiYmQ3Nzc1NjYyZDNhNTU2NTZkYzIzNzliIn0=",
                  "_deepnote_index_column": 736008
                },
                {
                  "Unnamed: 0.1": 36,
                  "timestamp": 1580774358497,
                  "vin": "123b9a7bbd7775662d3a55656dc2379b",
                  "sequence": 2065,
                  "navigation_location_coordinate_latitude": 39.911294,
                  "navigation_location_coordinate_longitude": -82.804406,
                  "key": "eyJ0aW1lc3RhbXAiOjE1ODA3NzQzNTg0OTcsInZpbiI6IjEyM2I5YTdiYmQ3Nzc1NjYyZDNhNTU2NTZkYzIzNzliIn0=",
                  "_deepnote_index_column": 736009
                },
                {
                  "Unnamed: 0.1": 101,
                  "timestamp": 1580774359501,
                  "vin": "123b9a7bbd7775662d3a55656dc2379b",
                  "sequence": 2065,
                  "navigation_location_coordinate_latitude": 39.911302,
                  "navigation_location_coordinate_longitude": -82.804574,
                  "key": "eyJ0aW1lc3RhbXAiOjE1ODA3NzQzNTk1MDEsInZpbiI6IjEyM2I5YTdiYmQ3Nzc1NjYyZDNhNTU2NTZkYzIzNzliIn0=",
                  "_deepnote_index_column": 736010
                },
                {
                  "Unnamed: 0.1": 149,
                  "timestamp": 1580774360504,
                  "vin": "123b9a7bbd7775662d3a55656dc2379b",
                  "sequence": 2065,
                  "navigation_location_coordinate_latitude": 39.91131,
                  "navigation_location_coordinate_longitude": -82.804735,
                  "key": "eyJ0aW1lc3RhbXAiOjE1ODA3NzQzNjA1MDQsInZpbiI6IjEyM2I5YTdiYmQ3Nzc1NjYyZDNhNTU2NTZkYzIzNzliIn0=",
                  "_deepnote_index_column": 736011
                },
                {
                  "Unnamed: 0.1": 195,
                  "timestamp": 1580774361504,
                  "vin": "123b9a7bbd7775662d3a55656dc2379b",
                  "sequence": 2065,
                  "navigation_location_coordinate_latitude": 39.911321,
                  "navigation_location_coordinate_longitude": -82.804898,
                  "key": "eyJ0aW1lc3RhbXAiOjE1ODA3NzQzNjE1MDQsInZpbiI6IjEyM2I5YTdiYmQ3Nzc1NjYyZDNhNTU2NTZkYzIzNzliIn0=",
                  "_deepnote_index_column": 736012
                },
                {
                  "Unnamed: 0.1": 248,
                  "timestamp": 1580774362510,
                  "vin": "123b9a7bbd7775662d3a55656dc2379b",
                  "sequence": 2065,
                  "navigation_location_coordinate_latitude": 39.911328,
                  "navigation_location_coordinate_longitude": -82.805042,
                  "key": "eyJ0aW1lc3RhbXAiOjE1ODA3NzQzNjI1MTAsInZpbiI6IjEyM2I5YTdiYmQ3Nzc1NjYyZDNhNTU2NTZkYzIzNzliIn0=",
                  "_deepnote_index_column": 736013
                },
                {
                  "Unnamed: 0.1": 300,
                  "timestamp": 1580774363512,
                  "vin": "123b9a7bbd7775662d3a55656dc2379b",
                  "sequence": 2065,
                  "navigation_location_coordinate_latitude": 39.911334,
                  "navigation_location_coordinate_longitude": -82.805189,
                  "key": "eyJ0aW1lc3RhbXAiOjE1ODA3NzQzNjM1MTIsInZpbiI6IjEyM2I5YTdiYmQ3Nzc1NjYyZDNhNTU2NTZkYzIzNzliIn0=",
                  "_deepnote_index_column": 736014
                },
                {
                  "Unnamed: 0.1": 343,
                  "timestamp": 1580774364514,
                  "vin": "123b9a7bbd7775662d3a55656dc2379b",
                  "sequence": 2065,
                  "navigation_location_coordinate_latitude": 39.91134,
                  "navigation_location_coordinate_longitude": -82.805336,
                  "key": "eyJ0aW1lc3RhbXAiOjE1ODA3NzQzNjQ1MTQsInZpbiI6IjEyM2I5YTdiYmQ3Nzc1NjYyZDNhNTU2NTZkYzIzNzliIn0=",
                  "_deepnote_index_column": 736015
                },
                {
                  "Unnamed: 0.1": 388,
                  "timestamp": 1580774365515,
                  "vin": "123b9a7bbd7775662d3a55656dc2379b",
                  "sequence": 2065,
                  "navigation_location_coordinate_latitude": 39.911347,
                  "navigation_location_coordinate_longitude": -82.805498,
                  "key": "eyJ0aW1lc3RhbXAiOjE1ODA3NzQzNjU1MTUsInZpbiI6IjEyM2I5YTdiYmQ3Nzc1NjYyZDNhNTU2NTZkYzIzNzliIn0=",
                  "_deepnote_index_column": 736016
                },
                {
                  "Unnamed: 0.1": 484,
                  "timestamp": 1580774367522,
                  "vin": "123b9a7bbd7775662d3a55656dc2379b",
                  "sequence": 2065,
                  "navigation_location_coordinate_latitude": 39.911365,
                  "navigation_location_coordinate_longitude": -82.805798,
                  "key": "eyJ0aW1lc3RhbXAiOjE1ODA3NzQzNjc1MjIsInZpbiI6IjEyM2I5YTdiYmQ3Nzc1NjYyZDNhNTU2NTZkYzIzNzliIn0=",
                  "_deepnote_index_column": 736017
                },
                {
                  "Unnamed: 0.1": 582,
                  "timestamp": 1580774369524,
                  "vin": "123b9a7bbd7775662d3a55656dc2379b",
                  "sequence": 2065,
                  "navigation_location_coordinate_latitude": 39.911384,
                  "navigation_location_coordinate_longitude": -82.806123,
                  "key": "eyJ0aW1lc3RhbXAiOjE1ODA3NzQzNjk1MjQsInZpbiI6IjEyM2I5YTdiYmQ3Nzc1NjYyZDNhNTU2NTZkYzIzNzliIn0=",
                  "_deepnote_index_column": 736018
                },
                {
                  "Unnamed: 0.1": 628,
                  "timestamp": 1580774370526,
                  "vin": "123b9a7bbd7775662d3a55656dc2379b",
                  "sequence": 2065,
                  "navigation_location_coordinate_latitude": 39.911392,
                  "navigation_location_coordinate_longitude": -82.806292,
                  "key": "eyJ0aW1lc3RhbXAiOjE1ODA3NzQzNzA1MjYsInZpbiI6IjEyM2I5YTdiYmQ3Nzc1NjYyZDNhNTU2NTZkYzIzNzliIn0=",
                  "_deepnote_index_column": 736019
                },
                {
                  "Unnamed: 0.1": 717,
                  "timestamp": 1580774372530,
                  "vin": "123b9a7bbd7775662d3a55656dc2379b",
                  "sequence": 2065,
                  "navigation_location_coordinate_latitude": 39.911405,
                  "navigation_location_coordinate_longitude": -82.806657,
                  "key": "eyJ0aW1lc3RhbXAiOjE1ODA3NzQzNzI1MzAsInZpbiI6IjEyM2I5YTdiYmQ3Nzc1NjYyZDNhNTU2NTZkYzIzNzliIn0=",
                  "_deepnote_index_column": 736020
                },
                {
                  "Unnamed: 0.1": 806,
                  "timestamp": 1580774374536,
                  "vin": "123b9a7bbd7775662d3a55656dc2379b",
                  "sequence": 2065,
                  "navigation_location_coordinate_latitude": 39.911421,
                  "navigation_location_coordinate_longitude": -82.807033,
                  "key": "eyJ0aW1lc3RhbXAiOjE1ODA3NzQzNzQ1MzYsInZpbiI6IjEyM2I5YTdiYmQ3Nzc1NjYyZDNhNTU2NTZkYzIzNzliIn0=",
                  "_deepnote_index_column": 736021
                },
                {
                  "Unnamed: 0.1": 855,
                  "timestamp": 1580774375538,
                  "vin": "123b9a7bbd7775662d3a55656dc2379b",
                  "sequence": 2065,
                  "navigation_location_coordinate_latitude": 39.911434,
                  "navigation_location_coordinate_longitude": -82.807235,
                  "key": "eyJ0aW1lc3RhbXAiOjE1ODA3NzQzNzU1MzgsInZpbiI6IjEyM2I5YTdiYmQ3Nzc1NjYyZDNhNTU2NTZkYzIzNzliIn0=",
                  "_deepnote_index_column": 736022
                },
                {
                  "Unnamed: 0.1": 903,
                  "timestamp": 1580774376540,
                  "vin": "123b9a7bbd7775662d3a55656dc2379b",
                  "sequence": 2065,
                  "navigation_location_coordinate_latitude": 39.911445,
                  "navigation_location_coordinate_longitude": -82.807443,
                  "key": "eyJ0aW1lc3RhbXAiOjE1ODA3NzQzNzY1NDAsInZpbiI6IjEyM2I5YTdiYmQ3Nzc1NjYyZDNhNTU2NTZkYzIzNzliIn0=",
                  "_deepnote_index_column": 736023
                },
                {
                  "Unnamed: 0.1": 959,
                  "timestamp": 1580774377543,
                  "vin": "123b9a7bbd7775662d3a55656dc2379b",
                  "sequence": 2065,
                  "navigation_location_coordinate_latitude": 39.911456,
                  "navigation_location_coordinate_longitude": -82.807653,
                  "key": "eyJ0aW1lc3RhbXAiOjE1ODA3NzQzNzc1NDMsInZpbiI6IjEyM2I5YTdiYmQ3Nzc1NjYyZDNhNTU2NTZkYzIzNzliIn0=",
                  "_deepnote_index_column": 736024
                },
                {
                  "Unnamed: 0.1": 14,
                  "timestamp": 1580774378545,
                  "vin": "123b9a7bbd7775662d3a55656dc2379b",
                  "sequence": 2065,
                  "navigation_location_coordinate_latitude": 39.911465,
                  "navigation_location_coordinate_longitude": -82.807857,
                  "key": "eyJ0aW1lc3RhbXAiOjE1ODA3NzQzNzg1NDUsInZpbiI6IjEyM2I5YTdiYmQ3Nzc1NjYyZDNhNTU2NTZkYzIzNzliIn0=",
                  "_deepnote_index_column": 736025
                },
                {
                  "Unnamed: 0.1": 83,
                  "timestamp": 1580774379547,
                  "vin": "123b9a7bbd7775662d3a55656dc2379b",
                  "sequence": 2065,
                  "navigation_location_coordinate_latitude": 39.911475,
                  "navigation_location_coordinate_longitude": -82.808054,
                  "key": "eyJ0aW1lc3RhbXAiOjE1ODA3NzQzNzk1NDcsInZpbiI6IjEyM2I5YTdiYmQ3Nzc1NjYyZDNhNTU2NTZkYzIzNzliIn0=",
                  "_deepnote_index_column": 736026
                },
                {
                  "Unnamed: 0.1": 129,
                  "timestamp": 1580774380549,
                  "vin": "123b9a7bbd7775662d3a55656dc2379b",
                  "sequence": 2065,
                  "navigation_location_coordinate_latitude": 39.911489,
                  "navigation_location_coordinate_longitude": -82.808244,
                  "key": "eyJ0aW1lc3RhbXAiOjE1ODA3NzQzODA1NDksInZpbiI6IjEyM2I5YTdiYmQ3Nzc1NjYyZDNhNTU2NTZkYzIzNzliIn0=",
                  "_deepnote_index_column": 736027
                },
                {
                  "Unnamed: 0.1": 176,
                  "timestamp": 1580774381552,
                  "vin": "123b9a7bbd7775662d3a55656dc2379b",
                  "sequence": 2065,
                  "navigation_location_coordinate_latitude": 39.911499,
                  "navigation_location_coordinate_longitude": -82.808428,
                  "key": "eyJ0aW1lc3RhbXAiOjE1ODA3NzQzODE1NTIsInZpbiI6IjEyM2I5YTdiYmQ3Nzc1NjYyZDNhNTU2NTZkYzIzNzliIn0=",
                  "_deepnote_index_column": 736028
                },
                {
                  "Unnamed: 0.1": 286,
                  "timestamp": 1580774383557,
                  "vin": "123b9a7bbd7775662d3a55656dc2379b",
                  "sequence": 2065,
                  "navigation_location_coordinate_latitude": 39.911518,
                  "navigation_location_coordinate_longitude": -82.808764,
                  "key": "eyJ0aW1lc3RhbXAiOjE1ODA3NzQzODM1NTcsInZpbiI6IjEyM2I5YTdiYmQ3Nzc1NjYyZDNhNTU2NTZkYzIzNzliIn0=",
                  "_deepnote_index_column": 736029
                },
                {
                  "Unnamed: 0.1": 336,
                  "timestamp": 1580774384560,
                  "vin": "123b9a7bbd7775662d3a55656dc2379b",
                  "sequence": 2065,
                  "navigation_location_coordinate_latitude": 39.911526,
                  "navigation_location_coordinate_longitude": -82.808932,
                  "key": "eyJ0aW1lc3RhbXAiOjE1ODA3NzQzODQ1NjAsInZpbiI6IjEyM2I5YTdiYmQ3Nzc1NjYyZDNhNTU2NTZkYzIzNzliIn0=",
                  "_deepnote_index_column": 736030
                },
                {
                  "Unnamed: 0.1": 379,
                  "timestamp": 1580774385564,
                  "vin": "123b9a7bbd7775662d3a55656dc2379b",
                  "sequence": 2065,
                  "navigation_location_coordinate_latitude": 39.911532,
                  "navigation_location_coordinate_longitude": -82.809063,
                  "key": "eyJ0aW1lc3RhbXAiOjE1ODA3NzQzODU1NjQsInZpbiI6IjEyM2I5YTdiYmQ3Nzc1NjYyZDNhNTU2NTZkYzIzNzliIn0=",
                  "_deepnote_index_column": 736031
                },
                {
                  "Unnamed: 0.1": 423,
                  "timestamp": 1580774386564,
                  "vin": "123b9a7bbd7775662d3a55656dc2379b",
                  "sequence": 2065,
                  "navigation_location_coordinate_latitude": 39.911541,
                  "navigation_location_coordinate_longitude": -82.809257,
                  "key": "eyJ0aW1lc3RhbXAiOjE1ODA3NzQzODY1NjQsInZpbiI6IjEyM2I5YTdiYmQ3Nzc1NjYyZDNhNTU2NTZkYzIzNzliIn0=",
                  "_deepnote_index_column": 736032
                },
                {
                  "Unnamed: 0.1": 518,
                  "timestamp": 1580774388569,
                  "vin": "123b9a7bbd7775662d3a55656dc2379b",
                  "sequence": 2065,
                  "navigation_location_coordinate_latitude": 39.911562,
                  "navigation_location_coordinate_longitude": -82.809595,
                  "key": "eyJ0aW1lc3RhbXAiOjE1ODA3NzQzODg1NjksInZpbiI6IjEyM2I5YTdiYmQ3Nzc1NjYyZDNhNTU2NTZkYzIzNzliIn0=",
                  "_deepnote_index_column": 736033
                },
                {
                  "Unnamed: 0.1": 665,
                  "timestamp": 1580774391575,
                  "vin": "123b9a7bbd7775662d3a55656dc2379b",
                  "sequence": 2065,
                  "navigation_location_coordinate_latitude": 39.911582,
                  "navigation_location_coordinate_longitude": -82.809981,
                  "key": "eyJ0aW1lc3RhbXAiOjE1ODA3NzQzOTE1NzUsInZpbiI6IjEyM2I5YTdiYmQ3Nzc1NjYyZDNhNTU2NTZkYzIzNzliIn0=",
                  "_deepnote_index_column": 736034
                },
                {
                  "Unnamed: 0.1": 704,
                  "timestamp": 1580774392576,
                  "vin": "123b9a7bbd7775662d3a55656dc2379b",
                  "sequence": 2065,
                  "navigation_location_coordinate_latitude": 39.911588,
                  "navigation_location_coordinate_longitude": -82.810107,
                  "key": "eyJ0aW1lc3RhbXAiOjE1ODA3NzQzOTI1NzYsInZpbiI6IjEyM2I5YTdiYmQ3Nzc1NjYyZDNhNTU2NTZkYzIzNzliIn0=",
                  "_deepnote_index_column": 736035
                },
                {
                  "Unnamed: 0.1": 872,
                  "timestamp": 1580774395585,
                  "vin": "123b9a7bbd7775662d3a55656dc2379b",
                  "sequence": 2065,
                  "navigation_location_coordinate_latitude": 39.911613,
                  "navigation_location_coordinate_longitude": -82.810595,
                  "key": "eyJ0aW1lc3RhbXAiOjE1ODA3NzQzOTU1ODUsInZpbiI6IjEyM2I5YTdiYmQ3Nzc1NjYyZDNhNTU2NTZkYzIzNzliIn0=",
                  "_deepnote_index_column": 736036
                },
                {
                  "Unnamed: 0.1": 918,
                  "timestamp": 1580774396586,
                  "vin": "123b9a7bbd7775662d3a55656dc2379b",
                  "sequence": 2065,
                  "navigation_location_coordinate_latitude": 39.911628,
                  "navigation_location_coordinate_longitude": -82.810793,
                  "key": "eyJ0aW1lc3RhbXAiOjE1ODA3NzQzOTY1ODYsInZpbiI6IjEyM2I5YTdiYmQ3Nzc1NjYyZDNhNTU2NTZkYzIzNzliIn0=",
                  "_deepnote_index_column": 736037
                },
                {
                  "Unnamed: 0.1": 980,
                  "timestamp": 1580774397589,
                  "vin": "123b9a7bbd7775662d3a55656dc2379b",
                  "sequence": 2065,
                  "navigation_location_coordinate_latitude": 39.911642,
                  "navigation_location_coordinate_longitude": -82.810996,
                  "key": "eyJ0aW1lc3RhbXAiOjE1ODA3NzQzOTc1ODksInZpbiI6IjEyM2I5YTdiYmQ3Nzc1NjYyZDNhNTU2NTZkYzIzNzliIn0=",
                  "_deepnote_index_column": 736038
                },
                {
                  "Unnamed: 0.1": 107,
                  "timestamp": 1580774399972,
                  "vin": "1356f34861fd4cf3d98dd81d3b2efeb2",
                  "sequence": 278,
                  "navigation_location_coordinate_latitude": 39.9703229,
                  "navigation_location_coordinate_longitude": -83.0224384,
                  "key": "eyJ0aW1lc3RhbXAiOjE1ODA3NzQzOTk5NzIsInZpbiI6IjEzNTZmMzQ4NjFmZDRjZjNkOThkZDgxZDNiMmVmZWIyIn0=",
                  "_deepnote_index_column": 736039
                },
                {
                  "Unnamed: 0.1": 146,
                  "timestamp": 1580774398913,
                  "vin": "31acdeda9fa6b46430ee89a9c773b11d",
                  "sequence": 646,
                  "navigation_location_coordinate_latitude": 40.1568799,
                  "navigation_location_coordinate_longitude": -83.0188129,
                  "key": "eyJ0aW1lc3RhbXAiOjE1ODA3NzQzOTg5MTMsInZpbiI6IjMxYWNkZWRhOWZhNmI0NjQzMGVlODlhOWM3NzNiMTFkIn0=",
                  "_deepnote_index_column": 736040
                },
                {
                  "Unnamed: 0.1": 156,
                  "timestamp": 1580774398924,
                  "vin": "5b829e08f4610f638675da0b6871866e",
                  "sequence": 442,
                  "navigation_location_coordinate_latitude": 40.0558583,
                  "navigation_location_coordinate_longitude": -82.9161745,
                  "key": "eyJ0aW1lc3RhbXAiOjE1ODA3NzQzOTg5MjQsInZpbiI6IjViODI5ZTA4ZjQ2MTBmNjM4Njc1ZGEwYjY4NzE4NjZlIn0=",
                  "_deepnote_index_column": 736041
                },
                {
                  "Unnamed: 0.1": 159,
                  "timestamp": 1580774399912,
                  "vin": "5b829e08f4610f638675da0b6871866e",
                  "sequence": 442,
                  "navigation_location_coordinate_latitude": 40.0558094,
                  "navigation_location_coordinate_longitude": -82.9163123,
                  "key": "eyJ0aW1lc3RhbXAiOjE1ODA3NzQzOTk5MTIsInZpbiI6IjViODI5ZTA4ZjQ2MTBmNjM4Njc1ZGEwYjY4NzE4NjZlIn0=",
                  "_deepnote_index_column": 736042
                },
                {
                  "Unnamed: 0.1": 160,
                  "timestamp": 1580774398390,
                  "vin": "5c58bdaf7bcebb50706ec0216ef901bc",
                  "sequence": 1113,
                  "navigation_location_coordinate_latitude": 39.991025,
                  "navigation_location_coordinate_longitude": -82.936689,
                  "key": "eyJ0aW1lc3RhbXAiOjE1ODA3NzQzOTgzOTAsInZpbiI6IjVjNThiZGFmN2JjZWJiNTA3MDZlYzAyMTZlZjkwMWJjIn0=",
                  "_deepnote_index_column": 736043
                },
                {
                  "Unnamed: 0.1": 184,
                  "timestamp": 1580774398964,
                  "vin": "647353ec630718a358cdfbf99a990888",
                  "sequence": 1407,
                  "navigation_location_coordinate_latitude": 40.0581579,
                  "navigation_location_coordinate_longitude": -82.8633569,
                  "key": "eyJ0aW1lc3RhbXAiOjE1ODA3NzQzOTg5NjQsInZpbiI6IjY0NzM1M2VjNjMwNzE4YTM1OGNkZmJmOTlhOTkwODg4In0=",
                  "_deepnote_index_column": 736044
                },
                {
                  "Unnamed: 0.1": 192,
                  "timestamp": 1580774399978,
                  "vin": "647353ec630718a358cdfbf99a990888",
                  "sequence": 1407,
                  "navigation_location_coordinate_latitude": 40.0581582,
                  "navigation_location_coordinate_longitude": -82.8633754,
                  "key": "eyJ0aW1lc3RhbXAiOjE1ODA3NzQzOTk5NzgsInZpbiI6IjY0NzM1M2VjNjMwNzE4YTM1OGNkZmJmOTlhOTkwODg4In0=",
                  "_deepnote_index_column": 736045
                },
                {
                  "Unnamed: 0.1": 194,
                  "timestamp": 1580774398934,
                  "vin": "697b9384cfde1330324dc92f5ff1bd44",
                  "sequence": 440,
                  "navigation_location_coordinate_latitude": 39.978606,
                  "navigation_location_coordinate_longitude": -82.975974,
                  "key": "eyJ0aW1lc3RhbXAiOjE1ODA3NzQzOTg5MzQsInZpbiI6IjY5N2I5Mzg0Y2ZkZTEzMzAzMjRkYzkyZjVmZjFiZDQ0In0=",
                  "_deepnote_index_column": 736046
                },
                {
                  "Unnamed: 0.1": 200,
                  "timestamp": 1580774399936,
                  "vin": "697b9384cfde1330324dc92f5ff1bd44",
                  "sequence": 440,
                  "navigation_location_coordinate_latitude": 39.978605,
                  "navigation_location_coordinate_longitude": -82.976335,
                  "key": "eyJ0aW1lc3RhbXAiOjE1ODA3NzQzOTk5MzYsInZpbiI6IjY5N2I5Mzg0Y2ZkZTEzMzAzMjRkYzkyZjVmZjFiZDQ0In0=",
                  "_deepnote_index_column": 736047
                },
                {
                  "Unnamed: 0.1": 203,
                  "timestamp": 1580774398993,
                  "vin": "6a8380efe35a2fd39a3ffe916e4a8d93",
                  "sequence": 180,
                  "navigation_location_coordinate_latitude": 40.1256195,
                  "navigation_location_coordinate_longitude": -82.9802408,
                  "key": "eyJ0aW1lc3RhbXAiOjE1ODA3NzQzOTg5OTMsInZpbiI6IjZhODM4MGVmZTM1YTJmZDM5YTNmZmU5MTZlNGE4ZDkzIn0=",
                  "_deepnote_index_column": 736048
                },
                {
                  "Unnamed: 0.1": 206,
                  "timestamp": 1580774398953,
                  "vin": "6ebfb90731342ccc92956d5c9623163e",
                  "sequence": 947,
                  "navigation_location_coordinate_latitude": 39.943225,
                  "navigation_location_coordinate_longitude": -82.8469228,
                  "key": "eyJ0aW1lc3RhbXAiOjE1ODA3NzQzOTg5NTMsInZpbiI6IjZlYmZiOTA3MzEzNDJjY2M5Mjk1NmQ1Yzk2MjMxNjNlIn0=",
                  "_deepnote_index_column": 736049
                },
                {
                  "Unnamed: 0.1": 210,
                  "timestamp": 1580774399971,
                  "vin": "75745529f421c99f0636efa2f5ba6a4e",
                  "sequence": 1466,
                  "navigation_location_coordinate_latitude": 39.9717604,
                  "navigation_location_coordinate_longitude": -82.9159141,
                  "key": "eyJ0aW1lc3RhbXAiOjE1ODA3NzQzOTk5NzEsInZpbiI6Ijc1NzQ1NTI5ZjQyMWM5OWYwNjM2ZWZhMmY1YmE2YTRlIn0=",
                  "_deepnote_index_column": 736050
                },
                {
                  "Unnamed: 0.1": 211,
                  "timestamp": 1580774398975,
                  "vin": "86752012e17bbc28fb9b8f938412626a",
                  "sequence": 817,
                  "navigation_location_coordinate_latitude": 39.850719,
                  "navigation_location_coordinate_longitude": -83.0814442,
                  "key": "eyJ0aW1lc3RhbXAiOjE1ODA3NzQzOTg5NzUsInZpbiI6Ijg2NzUyMDEyZTE3YmJjMjhmYjliOGY5Mzg0MTI2MjZhIn0=",
                  "_deepnote_index_column": 736051
                },
                {
                  "Unnamed: 0.1": 212,
                  "timestamp": 1580774399978,
                  "vin": "86752012e17bbc28fb9b8f938412626a",
                  "sequence": 817,
                  "navigation_location_coordinate_latitude": 39.8509289,
                  "navigation_location_coordinate_longitude": -83.0812064,
                  "key": "eyJ0aW1lc3RhbXAiOjE1ODA3NzQzOTk5NzgsInZpbiI6Ijg2NzUyMDEyZTE3YmJjMjhmYjliOGY5Mzg0MTI2MjZhIn0=",
                  "_deepnote_index_column": 736052
                },
                {
                  "Unnamed: 0.1": 213,
                  "timestamp": 1580774399995,
                  "vin": "92e64fbb0355adc2c4cd663d288b7932",
                  "sequence": 26,
                  "navigation_location_coordinate_latitude": 39.8757136,
                  "navigation_location_coordinate_longitude": -83.0380503,
                  "key": "eyJ0aW1lc3RhbXAiOjE1ODA3NzQzOTk5OTUsInZpbiI6IjkyZTY0ZmJiMDM1NWFkYzJjNGNkNjYzZDI4OGI3OTMyIn0=",
                  "_deepnote_index_column": 736053
                },
                {
                  "Unnamed: 0.1": 214,
                  "timestamp": 1580774398895,
                  "vin": "96e49f659f0ecb52c8874ff84d4e7145",
                  "sequence": 834,
                  "navigation_location_coordinate_latitude": 39.9831683,
                  "navigation_location_coordinate_longitude": -83.0013858,
                  "key": "eyJ0aW1lc3RhbXAiOjE1ODA3NzQzOTg4OTUsInZpbiI6Ijk2ZTQ5ZjY1OWYwZWNiNTJjODg3NGZmODRkNGU3MTQ1In0=",
                  "_deepnote_index_column": 736054
                },
                {
                  "Unnamed: 0.1": 215,
                  "timestamp": 1580774399894,
                  "vin": "96e49f659f0ecb52c8874ff84d4e7145",
                  "sequence": 834,
                  "navigation_location_coordinate_latitude": 39.9831683,
                  "navigation_location_coordinate_longitude": -83.0013858,
                  "key": "eyJ0aW1lc3RhbXAiOjE1ODA3NzQzOTk4OTQsInZpbiI6Ijk2ZTQ5ZjY1OWYwZWNiNTJjODg3NGZmODRkNGU3MTQ1In0=",
                  "_deepnote_index_column": 736055
                },
                {
                  "Unnamed: 0.1": 233,
                  "timestamp": 1580774398951,
                  "vin": "b34dd8de136a18de746890894797372a",
                  "sequence": 928,
                  "navigation_location_coordinate_latitude": 39.9431997,
                  "navigation_location_coordinate_longitude": -83.012294,
                  "key": "eyJ0aW1lc3RhbXAiOjE1ODA3NzQzOTg5NTEsInZpbiI6ImIzNGRkOGRlMTM2YTE4ZGU3NDY4OTA4OTQ3OTczNzJhIn0=",
                  "_deepnote_index_column": 736056
                },
                {
                  "Unnamed: 0.1": 234,
                  "timestamp": 1580774399897,
                  "vin": "b34dd8de136a18de746890894797372a",
                  "sequence": 928,
                  "navigation_location_coordinate_latitude": 39.943009,
                  "navigation_location_coordinate_longitude": -83.012161,
                  "key": "eyJ0aW1lc3RhbXAiOjE1ODA3NzQzOTk4OTcsInZpbiI6ImIzNGRkOGRlMTM2YTE4ZGU3NDY4OTA4OTQ3OTczNzJhIn0=",
                  "_deepnote_index_column": 736057
                },
                {
                  "Unnamed: 0.1": 235,
                  "timestamp": 1580774398987,
                  "vin": "cc63c9825a40f6dc03a7ccfc6cdc7e8d",
                  "sequence": 623,
                  "navigation_location_coordinate_latitude": 40.0891268,
                  "navigation_location_coordinate_longitude": -82.8389782,
                  "key": "eyJ0aW1lc3RhbXAiOjE1ODA3NzQzOTg5ODcsInZpbiI6ImNjNjNjOTgyNWE0MGY2ZGMwM2E3Y2NmYzZjZGM3ZThkIn0=",
                  "_deepnote_index_column": 736058
                },
                {
                  "Unnamed: 0.1": 238,
                  "timestamp": 1580774399993,
                  "vin": "cc63c9825a40f6dc03a7ccfc6cdc7e8d",
                  "sequence": 623,
                  "navigation_location_coordinate_latitude": 40.0892453,
                  "navigation_location_coordinate_longitude": -82.8386506,
                  "key": "eyJ0aW1lc3RhbXAiOjE1ODA3NzQzOTk5OTMsInZpbiI6ImNjNjNjOTgyNWE0MGY2ZGMwM2E3Y2NmYzZjZGM3ZThkIn0=",
                  "_deepnote_index_column": 736059
                },
                {
                  "Unnamed: 0.1": 241,
                  "timestamp": 1580774398878,
                  "vin": "d8538c269b6cb7eec9a1f3b2bd8fc2d7",
                  "sequence": 764,
                  "navigation_location_coordinate_latitude": 40.3040511,
                  "navigation_location_coordinate_longitude": -83.5249137,
                  "key": "eyJ0aW1lc3RhbXAiOjE1ODA3NzQzOTg4NzgsInZpbiI6ImQ4NTM4YzI2OWI2Y2I3ZWVjOWExZjNiMmJkOGZjMmQ3In0=",
                  "_deepnote_index_column": 736060
                },
                {
                  "Unnamed: 0.1": 242,
                  "timestamp": 1580774399879,
                  "vin": "d8538c269b6cb7eec9a1f3b2bd8fc2d7",
                  "sequence": 764,
                  "navigation_location_coordinate_latitude": 40.3040083,
                  "navigation_location_coordinate_longitude": -83.5248705,
                  "key": "eyJ0aW1lc3RhbXAiOjE1ODA3NzQzOTk4NzksInZpbiI6ImQ4NTM4YzI2OWI2Y2I3ZWVjOWExZjNiMmJkOGZjMmQ3In0=",
                  "_deepnote_index_column": 736061
                },
                {
                  "Unnamed: 0.1": 263,
                  "timestamp": 1580774398905,
                  "vin": "dc1133b0088aacfd4583783ff9ee06cb",
                  "sequence": 765,
                  "navigation_location_coordinate_latitude": 39.9670598,
                  "navigation_location_coordinate_longitude": -82.9245589,
                  "key": "eyJ0aW1lc3RhbXAiOjE1ODA3NzQzOTg5MDUsInZpbiI6ImRjMTEzM2IwMDg4YWFjZmQ0NTgzNzgzZmY5ZWUwNmNiIn0=",
                  "_deepnote_index_column": 736062
                }
              ]
            },
            "text/plain": "        Unnamed: 0.1      timestamp                               vin  \\\n0              138.0  1578942333714  00089af9f7d3588a888379cf0ffc53cc   \n1             3548.0  1578917535963  005b420fd9275f080ad79e1c4330357e   \n2             3549.0  1578917659974  005b420fd9275f080ad79e1c4330357e   \n3             3550.0  1578917668955  005b420fd9275f080ad79e1c4330357e   \n4             3556.0  1578918206960  005b420fd9275f080ad79e1c4330357e   \n...              ...            ...                               ...   \n736058         235.0  1580774398987  cc63c9825a40f6dc03a7ccfc6cdc7e8d   \n736059         238.0  1580774399993  cc63c9825a40f6dc03a7ccfc6cdc7e8d   \n736060         241.0  1580774398878  d8538c269b6cb7eec9a1f3b2bd8fc2d7   \n736061         242.0  1580774399879  d8538c269b6cb7eec9a1f3b2bd8fc2d7   \n736062         263.0  1580774398905  dc1133b0088aacfd4583783ff9ee06cb   \n\n        sequence  navigation_location_coordinate_latitude  \\\n0            733                                41.492962   \n1           1142                                41.335046   \n2           1142                                41.337986   \n3           1142                                41.338722   \n4           1142                                41.292217   \n...          ...                                      ...   \n736058       623                                40.089127   \n736059       623                                40.089245   \n736060       764                                40.304051   \n736061       764                                40.304008   \n736062       765                                39.967060   \n\n        navigation_location_coordinate_longitude  \\\n0                                     -81.995163   \n1                                     -81.398117   \n2                                     -81.402637   \n3                                     -81.403610   \n4                                     -81.409466   \n...                                          ...   \n736058                                -82.838978   \n736059                                -82.838651   \n736060                                -83.524914   \n736061                                -83.524871   \n736062                                -82.924559   \n\n                                                      key  \n0       eyJ0aW1lc3RhbXAiOjE1Nzg5NDIzMzM3MTQsInZpbiI6Ij...  \n1       eyJ0aW1lc3RhbXAiOjE1Nzg5MTc1MzU5NjMsInZpbiI6Ij...  \n2       eyJ0aW1lc3RhbXAiOjE1Nzg5MTc2NTk5NzQsInZpbiI6Ij...  \n3       eyJ0aW1lc3RhbXAiOjE1Nzg5MTc2Njg5NTUsInZpbiI6Ij...  \n4       eyJ0aW1lc3RhbXAiOjE1Nzg5MTgyMDY5NjAsInZpbiI6Ij...  \n...                                                   ...  \n736058  eyJ0aW1lc3RhbXAiOjE1ODA3NzQzOTg5ODcsInZpbiI6Im...  \n736059  eyJ0aW1lc3RhbXAiOjE1ODA3NzQzOTk5OTMsInZpbiI6Im...  \n736060  eyJ0aW1lc3RhbXAiOjE1ODA3NzQzOTg4NzgsInZpbiI6Im...  \n736061  eyJ0aW1lc3RhbXAiOjE1ODA3NzQzOTk4NzksInZpbiI6Im...  \n736062  eyJ0aW1lc3RhbXAiOjE1ODA3NzQzOTg5MDUsInZpbiI6Im...  \n\n[736063 rows x 7 columns]",
            "text/html": "<div>\n<style scoped>\n    .dataframe tbody tr th:only-of-type {\n        vertical-align: middle;\n    }\n\n    .dataframe tbody tr th {\n        vertical-align: top;\n    }\n\n    .dataframe thead th {\n        text-align: right;\n    }\n</style>\n<table border=\"1\" class=\"dataframe\">\n  <thead>\n    <tr style=\"text-align: right;\">\n      <th></th>\n      <th>Unnamed: 0.1</th>\n      <th>timestamp</th>\n      <th>vin</th>\n      <th>sequence</th>\n      <th>navigation_location_coordinate_latitude</th>\n      <th>navigation_location_coordinate_longitude</th>\n      <th>key</th>\n    </tr>\n  </thead>\n  <tbody>\n    <tr>\n      <th>0</th>\n      <td>138.0</td>\n      <td>1578942333714</td>\n      <td>00089af9f7d3588a888379cf0ffc53cc</td>\n      <td>733</td>\n      <td>41.492962</td>\n      <td>-81.995163</td>\n      <td>eyJ0aW1lc3RhbXAiOjE1Nzg5NDIzMzM3MTQsInZpbiI6Ij...</td>\n    </tr>\n    <tr>\n      <th>1</th>\n      <td>3548.0</td>\n      <td>1578917535963</td>\n      <td>005b420fd9275f080ad79e1c4330357e</td>\n      <td>1142</td>\n      <td>41.335046</td>\n      <td>-81.398117</td>\n      <td>eyJ0aW1lc3RhbXAiOjE1Nzg5MTc1MzU5NjMsInZpbiI6Ij...</td>\n    </tr>\n    <tr>\n      <th>2</th>\n      <td>3549.0</td>\n      <td>1578917659974</td>\n      <td>005b420fd9275f080ad79e1c4330357e</td>\n      <td>1142</td>\n      <td>41.337986</td>\n      <td>-81.402637</td>\n      <td>eyJ0aW1lc3RhbXAiOjE1Nzg5MTc2NTk5NzQsInZpbiI6Ij...</td>\n    </tr>\n    <tr>\n      <th>3</th>\n      <td>3550.0</td>\n      <td>1578917668955</td>\n      <td>005b420fd9275f080ad79e1c4330357e</td>\n      <td>1142</td>\n      <td>41.338722</td>\n      <td>-81.403610</td>\n      <td>eyJ0aW1lc3RhbXAiOjE1Nzg5MTc2Njg5NTUsInZpbiI6Ij...</td>\n    </tr>\n    <tr>\n      <th>4</th>\n      <td>3556.0</td>\n      <td>1578918206960</td>\n      <td>005b420fd9275f080ad79e1c4330357e</td>\n      <td>1142</td>\n      <td>41.292217</td>\n      <td>-81.409466</td>\n      <td>eyJ0aW1lc3RhbXAiOjE1Nzg5MTgyMDY5NjAsInZpbiI6Ij...</td>\n    </tr>\n    <tr>\n      <th>...</th>\n      <td>...</td>\n      <td>...</td>\n      <td>...</td>\n      <td>...</td>\n      <td>...</td>\n      <td>...</td>\n      <td>...</td>\n    </tr>\n    <tr>\n      <th>736058</th>\n      <td>235.0</td>\n      <td>1580774398987</td>\n      <td>cc63c9825a40f6dc03a7ccfc6cdc7e8d</td>\n      <td>623</td>\n      <td>40.089127</td>\n      <td>-82.838978</td>\n      <td>eyJ0aW1lc3RhbXAiOjE1ODA3NzQzOTg5ODcsInZpbiI6Im...</td>\n    </tr>\n    <tr>\n      <th>736059</th>\n      <td>238.0</td>\n      <td>1580774399993</td>\n      <td>cc63c9825a40f6dc03a7ccfc6cdc7e8d</td>\n      <td>623</td>\n      <td>40.089245</td>\n      <td>-82.838651</td>\n      <td>eyJ0aW1lc3RhbXAiOjE1ODA3NzQzOTk5OTMsInZpbiI6Im...</td>\n    </tr>\n    <tr>\n      <th>736060</th>\n      <td>241.0</td>\n      <td>1580774398878</td>\n      <td>d8538c269b6cb7eec9a1f3b2bd8fc2d7</td>\n      <td>764</td>\n      <td>40.304051</td>\n      <td>-83.524914</td>\n      <td>eyJ0aW1lc3RhbXAiOjE1ODA3NzQzOTg4NzgsInZpbiI6Im...</td>\n    </tr>\n    <tr>\n      <th>736061</th>\n      <td>242.0</td>\n      <td>1580774399879</td>\n      <td>d8538c269b6cb7eec9a1f3b2bd8fc2d7</td>\n      <td>764</td>\n      <td>40.304008</td>\n      <td>-83.524871</td>\n      <td>eyJ0aW1lc3RhbXAiOjE1ODA3NzQzOTk4NzksInZpbiI6Im...</td>\n    </tr>\n    <tr>\n      <th>736062</th>\n      <td>263.0</td>\n      <td>1580774398905</td>\n      <td>dc1133b0088aacfd4583783ff9ee06cb</td>\n      <td>765</td>\n      <td>39.967060</td>\n      <td>-82.924559</td>\n      <td>eyJ0aW1lc3RhbXAiOjE1ODA3NzQzOTg5MDUsInZpbiI6Im...</td>\n    </tr>\n  </tbody>\n</table>\n<p>736063 rows × 7 columns</p>\n</div>"
          },
          "metadata": {}
        }
      ],
      "execution_count": null
    },
    {
      "cell_type": "code",
      "metadata": {
        "tags": [],
        "cell_id": "00003-a99dad56-66cb-4fd5-ba11-7ba4c68fdd44",
        "deepnote_to_be_reexecuted": false,
        "source_hash": "88a4878",
        "execution_millis": 1001,
        "execution_start": 1620255781245,
        "deepnote_cell_type": "code"
      },
      "source": "\"\"\"\n\nMaking sure there are no duplicated values in the dataframe.\n\n\"\"\"\nnewdata[newdata.duplicated()]",
      "outputs": [
        {
          "output_type": "execute_result",
          "execution_count": 21,
          "data": {
            "application/vnd.deepnote.dataframe.v2+json": {
              "row_count": 64624,
              "column_count": 7,
              "columns": [
                {
                  "name": "Unnamed: 0.1",
                  "dtype": "float64",
                  "stats": {
                    "unique_count": 19404,
                    "nan_count": 0,
                    "min": "0.0",
                    "max": "99996.0",
                    "histogram": [
                      {
                        "bin_start": 0,
                        "bin_end": 9999.6,
                        "count": 46049
                      },
                      {
                        "bin_start": 9999.6,
                        "bin_end": 19999.2,
                        "count": 2046
                      },
                      {
                        "bin_start": 19999.2,
                        "bin_end": 29998.800000000003,
                        "count": 1714
                      },
                      {
                        "bin_start": 29998.800000000003,
                        "bin_end": 39998.4,
                        "count": 2038
                      },
                      {
                        "bin_start": 39998.4,
                        "bin_end": 49998,
                        "count": 1919
                      },
                      {
                        "bin_start": 49998,
                        "bin_end": 59997.600000000006,
                        "count": 1872
                      },
                      {
                        "bin_start": 59997.600000000006,
                        "bin_end": 69997.2,
                        "count": 1866
                      },
                      {
                        "bin_start": 69997.2,
                        "bin_end": 79996.8,
                        "count": 1932
                      },
                      {
                        "bin_start": 79996.8,
                        "bin_end": 89996.40000000001,
                        "count": 1752
                      },
                      {
                        "bin_start": 89996.40000000001,
                        "bin_end": 99996,
                        "count": 3436
                      }
                    ]
                  }
                },
                {
                  "name": "timestamp",
                  "dtype": "int64"
                },
                {
                  "name": "vin",
                  "dtype": "object"
                },
                {
                  "name": "sequence",
                  "dtype": "int64"
                },
                {
                  "name": "navigation_location_coordinate_latitude",
                  "dtype": "float64"
                },
                {
                  "name": "navigation_location_coordinate_longitude",
                  "dtype": "float64"
                },
                {
                  "name": "key",
                  "dtype": "object"
                },
                {
                  "name": "_deepnote_index_column",
                  "dtype": "int64"
                }
              ],
              "rows_top": [
                {
                  "Unnamed: 0.1": 138,
                  "timestamp": 1578942333714,
                  "vin": "00089af9f7d3588a888379cf0ffc53cc",
                  "sequence": 733,
                  "navigation_location_coordinate_latitude": 41.492962,
                  "navigation_location_coordinate_longitude": -81.995163,
                  "key": "eyJ0aW1lc3RhbXAiOjE1Nzg5NDIzMzM3MTQsInZpbiI6IjAwMDg5YWY5ZjdkMzU4OGE4ODgzNzljZjBmZmM1M2NjIn0=",
                  "_deepnote_index_column": 352151
                },
                {
                  "Unnamed: 0.1": 3548,
                  "timestamp": 1578917535963,
                  "vin": "005b420fd9275f080ad79e1c4330357e",
                  "sequence": 1142,
                  "navigation_location_coordinate_latitude": 41.3350458,
                  "navigation_location_coordinate_longitude": -81.398117,
                  "key": "eyJ0aW1lc3RhbXAiOjE1Nzg5MTc1MzU5NjMsInZpbiI6IjAwNWI0MjBmZDkyNzVmMDgwYWQ3OWUxYzQzMzAzNTdlIn0=",
                  "_deepnote_index_column": 352152
                },
                {
                  "Unnamed: 0.1": 3549,
                  "timestamp": 1578917659974,
                  "vin": "005b420fd9275f080ad79e1c4330357e",
                  "sequence": 1142,
                  "navigation_location_coordinate_latitude": 41.3379859,
                  "navigation_location_coordinate_longitude": -81.4026373,
                  "key": "eyJ0aW1lc3RhbXAiOjE1Nzg5MTc2NTk5NzQsInZpbiI6IjAwNWI0MjBmZDkyNzVmMDgwYWQ3OWUxYzQzMzAzNTdlIn0=",
                  "_deepnote_index_column": 352153
                },
                {
                  "Unnamed: 0.1": 3550,
                  "timestamp": 1578917668955,
                  "vin": "005b420fd9275f080ad79e1c4330357e",
                  "sequence": 1142,
                  "navigation_location_coordinate_latitude": 41.3387224,
                  "navigation_location_coordinate_longitude": -81.4036095,
                  "key": "eyJ0aW1lc3RhbXAiOjE1Nzg5MTc2Njg5NTUsInZpbiI6IjAwNWI0MjBmZDkyNzVmMDgwYWQ3OWUxYzQzMzAzNTdlIn0=",
                  "_deepnote_index_column": 352154
                },
                {
                  "Unnamed: 0.1": 3556,
                  "timestamp": 1578918206960,
                  "vin": "005b420fd9275f080ad79e1c4330357e",
                  "sequence": 1142,
                  "navigation_location_coordinate_latitude": 41.2922165,
                  "navigation_location_coordinate_longitude": -81.4094663,
                  "key": "eyJ0aW1lc3RhbXAiOjE1Nzg5MTgyMDY5NjAsInZpbiI6IjAwNWI0MjBmZDkyNzVmMDgwYWQ3OWUxYzQzMzAzNTdlIn0=",
                  "_deepnote_index_column": 352155
                },
                {
                  "Unnamed: 0.1": 3564,
                  "timestamp": 1578927144985,
                  "vin": "005b420fd9275f080ad79e1c4330357e",
                  "sequence": 1143,
                  "navigation_location_coordinate_latitude": 41.2671182,
                  "navigation_location_coordinate_longitude": -81.3784668,
                  "key": "eyJ0aW1lc3RhbXAiOjE1Nzg5MjcxNDQ5ODUsInZpbiI6IjAwNWI0MjBmZDkyNzVmMDgwYWQ3OWUxYzQzMzAzNTdlIn0=",
                  "_deepnote_index_column": 352156
                },
                {
                  "Unnamed: 0.1": 3570,
                  "timestamp": 1578927994968,
                  "vin": "005b420fd9275f080ad79e1c4330357e",
                  "sequence": 1143,
                  "navigation_location_coordinate_latitude": 41.4099042,
                  "navigation_location_coordinate_longitude": -81.4997248,
                  "key": "eyJ0aW1lc3RhbXAiOjE1Nzg5Mjc5OTQ5NjgsInZpbiI6IjAwNWI0MjBmZDkyNzVmMDgwYWQ3OWUxYzQzMzAzNTdlIn0=",
                  "_deepnote_index_column": 352157
                },
                {
                  "Unnamed: 0.1": 3591,
                  "timestamp": 1578938069940,
                  "vin": "005b420fd9275f080ad79e1c4330357e",
                  "sequence": 1145,
                  "navigation_location_coordinate_latitude": 41.394377,
                  "navigation_location_coordinate_longitude": -81.4130821,
                  "key": "eyJ0aW1lc3RhbXAiOjE1Nzg5MzgwNjk5NDAsInZpbiI6IjAwNWI0MjBmZDkyNzVmMDgwYWQ3OWUxYzQzMzAzNTdlIn0=",
                  "_deepnote_index_column": 352158
                },
                {
                  "Unnamed: 0.1": 3606,
                  "timestamp": 1578938869071,
                  "vin": "005b420fd9275f080ad79e1c4330357e",
                  "sequence": 1145,
                  "navigation_location_coordinate_latitude": 41.4127244,
                  "navigation_location_coordinate_longitude": -81.5055703,
                  "key": "eyJ0aW1lc3RhbXAiOjE1Nzg5Mzg4NjkwNzEsInZpbiI6IjAwNWI0MjBmZDkyNzVmMDgwYWQ3OWUxYzQzMzAzNTdlIn0=",
                  "_deepnote_index_column": 352159
                },
                {
                  "Unnamed: 0.1": 3608,
                  "timestamp": 1578939136049,
                  "vin": "005b420fd9275f080ad79e1c4330357e",
                  "sequence": 1145,
                  "navigation_location_coordinate_latitude": 41.4143587,
                  "navigation_location_coordinate_longitude": -81.5043558,
                  "key": "eyJ0aW1lc3RhbXAiOjE1Nzg5MzkxMzYwNDksInZpbiI6IjAwNWI0MjBmZDkyNzVmMDgwYWQ3OWUxYzQzMzAzNTdlIn0=",
                  "_deepnote_index_column": 352160
                },
                {
                  "Unnamed: 0.1": 3611,
                  "timestamp": 1578953321966,
                  "vin": "005b420fd9275f080ad79e1c4330357e",
                  "sequence": 1146,
                  "navigation_location_coordinate_latitude": 41.4086839,
                  "navigation_location_coordinate_longitude": -81.4974147,
                  "key": "eyJ0aW1lc3RhbXAiOjE1Nzg5NTMzMjE5NjYsInZpbiI6IjAwNWI0MjBmZDkyNzVmMDgwYWQ3OWUxYzQzMzAzNTdlIn0=",
                  "_deepnote_index_column": 352161
                },
                {
                  "Unnamed: 0.1": 3618,
                  "timestamp": 1578953655969,
                  "vin": "005b420fd9275f080ad79e1c4330357e",
                  "sequence": 1146,
                  "navigation_location_coordinate_latitude": 41.394762,
                  "navigation_location_coordinate_longitude": -81.4579998,
                  "key": "eyJ0aW1lc3RhbXAiOjE1Nzg5NTM2NTU5NjksInZpbiI6IjAwNWI0MjBmZDkyNzVmMDgwYWQ3OWUxYzQzMzAzNTdlIn0=",
                  "_deepnote_index_column": 352162
                },
                {
                  "Unnamed: 0.1": 3623,
                  "timestamp": 1578954028967,
                  "vin": "005b420fd9275f080ad79e1c4330357e",
                  "sequence": 1146,
                  "navigation_location_coordinate_latitude": 41.3792764,
                  "navigation_location_coordinate_longitude": -81.4267512,
                  "key": "eyJ0aW1lc3RhbXAiOjE1Nzg5NTQwMjg5NjcsInZpbiI6IjAwNWI0MjBmZDkyNzVmMDgwYWQ3OWUxYzQzMzAzNTdlIn0=",
                  "_deepnote_index_column": 352163
                },
                {
                  "Unnamed: 0.1": 6924,
                  "timestamp": 1578396810688,
                  "vin": "008beb5671fb49a92dc0ef9de96979bf",
                  "sequence": 553,
                  "navigation_location_coordinate_latitude": 40.1485454,
                  "navigation_location_coordinate_longitude": -82.9041065,
                  "key": "eyJ0aW1lc3RhbXAiOjE1NzgzOTY4MTA2ODgsInZpbiI6IjAwOGJlYjU2NzFmYjQ5YTkyZGMwZWY5ZGU5Njk3OWJmIn0=",
                  "_deepnote_index_column": 352164
                },
                {
                  "Unnamed: 0.1": 6935,
                  "timestamp": 1578396811445,
                  "vin": "008beb5671fb49a92dc0ef9de96979bf",
                  "sequence": 553,
                  "navigation_location_coordinate_latitude": 40.1485089,
                  "navigation_location_coordinate_longitude": -82.9040793,
                  "key": "eyJ0aW1lc3RhbXAiOjE1NzgzOTY4MTE0NDUsInZpbiI6IjAwOGJlYjU2NzFmYjQ5YTkyZGMwZWY5ZGU5Njk3OWJmIn0=",
                  "_deepnote_index_column": 352165
                },
                {
                  "Unnamed: 0.1": 6943,
                  "timestamp": 1578396812440,
                  "vin": "008beb5671fb49a92dc0ef9de96979bf",
                  "sequence": 553,
                  "navigation_location_coordinate_latitude": 40.1484582,
                  "navigation_location_coordinate_longitude": -82.9040503,
                  "key": "eyJ0aW1lc3RhbXAiOjE1NzgzOTY4MTI0NDAsInZpbiI6IjAwOGJlYjU2NzFmYjQ5YTkyZGMwZWY5ZGU5Njk3OWJmIn0=",
                  "_deepnote_index_column": 352166
                },
                {
                  "Unnamed: 0.1": 6953,
                  "timestamp": 1578396813516,
                  "vin": "008beb5671fb49a92dc0ef9de96979bf",
                  "sequence": 553,
                  "navigation_location_coordinate_latitude": 40.1483991,
                  "navigation_location_coordinate_longitude": -82.9040215,
                  "key": "eyJ0aW1lc3RhbXAiOjE1NzgzOTY4MTM1MTYsInZpbiI6IjAwOGJlYjU2NzFmYjQ5YTkyZGMwZWY5ZGU5Njk3OWJmIn0=",
                  "_deepnote_index_column": 352167
                },
                {
                  "Unnamed: 0.1": 6963,
                  "timestamp": 1578396816432,
                  "vin": "008beb5671fb49a92dc0ef9de96979bf",
                  "sequence": 553,
                  "navigation_location_coordinate_latitude": 40.1482322,
                  "navigation_location_coordinate_longitude": -82.9039462,
                  "key": "eyJ0aW1lc3RhbXAiOjE1NzgzOTY4MTY0MzIsInZpbiI6IjAwOGJlYjU2NzFmYjQ5YTkyZGMwZWY5ZGU5Njk3OWJmIn0=",
                  "_deepnote_index_column": 352168
                },
                {
                  "Unnamed: 0.1": 6965,
                  "timestamp": 1578396817904,
                  "vin": "008beb5671fb49a92dc0ef9de96979bf",
                  "sequence": 553,
                  "navigation_location_coordinate_latitude": 40.1481915,
                  "navigation_location_coordinate_longitude": -82.9039285,
                  "key": "eyJ0aW1lc3RhbXAiOjE1NzgzOTY4MTc5MDQsInZpbiI6IjAwOGJlYjU2NzFmYjQ5YTkyZGMwZWY5ZGU5Njk3OWJmIn0=",
                  "_deepnote_index_column": 352169
                },
                {
                  "Unnamed: 0.1": 6988,
                  "timestamp": 1578396819597,
                  "vin": "008beb5671fb49a92dc0ef9de96979bf",
                  "sequence": 553,
                  "navigation_location_coordinate_latitude": 40.1481128,
                  "navigation_location_coordinate_longitude": -82.9039094,
                  "key": "eyJ0aW1lc3RhbXAiOjE1NzgzOTY4MTk1OTcsInZpbiI6IjAwOGJlYjU2NzFmYjQ5YTkyZGMwZWY5ZGU5Njk3OWJmIn0=",
                  "_deepnote_index_column": 352170
                },
                {
                  "Unnamed: 0.1": 6993,
                  "timestamp": 1578396820431,
                  "vin": "008beb5671fb49a92dc0ef9de96979bf",
                  "sequence": 553,
                  "navigation_location_coordinate_latitude": 40.1480678,
                  "navigation_location_coordinate_longitude": -82.9039289,
                  "key": "eyJ0aW1lc3RhbXAiOjE1NzgzOTY4MjA0MzEsInZpbiI6IjAwOGJlYjU2NzFmYjQ5YTkyZGMwZWY5ZGU5Njk3OWJmIn0=",
                  "_deepnote_index_column": 352171
                },
                {
                  "Unnamed: 0.1": 7006,
                  "timestamp": 1578396821476,
                  "vin": "008beb5671fb49a92dc0ef9de96979bf",
                  "sequence": 553,
                  "navigation_location_coordinate_latitude": 40.1480176,
                  "navigation_location_coordinate_longitude": -82.9039896,
                  "key": "eyJ0aW1lc3RhbXAiOjE1NzgzOTY4MjE0NzYsInZpbiI6IjAwOGJlYjU2NzFmYjQ5YTkyZGMwZWY5ZGU5Njk3OWJmIn0=",
                  "_deepnote_index_column": 352172
                },
                {
                  "Unnamed: 0.1": 7022,
                  "timestamp": 1578396823428,
                  "vin": "008beb5671fb49a92dc0ef9de96979bf",
                  "sequence": 553,
                  "navigation_location_coordinate_latitude": 40.1479219,
                  "navigation_location_coordinate_longitude": -82.9041673,
                  "key": "eyJ0aW1lc3RhbXAiOjE1NzgzOTY4MjM0MjgsInZpbiI6IjAwOGJlYjU2NzFmYjQ5YTkyZGMwZWY5ZGU5Njk3OWJmIn0=",
                  "_deepnote_index_column": 352173
                },
                {
                  "Unnamed: 0.1": 7032,
                  "timestamp": 1578396826485,
                  "vin": "008beb5671fb49a92dc0ef9de96979bf",
                  "sequence": 553,
                  "navigation_location_coordinate_latitude": 40.1477382,
                  "navigation_location_coordinate_longitude": -82.9044856,
                  "key": "eyJ0aW1lc3RhbXAiOjE1NzgzOTY4MjY0ODUsInZpbiI6IjAwOGJlYjU2NzFmYjQ5YTkyZGMwZWY5ZGU5Njk3OWJmIn0=",
                  "_deepnote_index_column": 352174
                },
                {
                  "Unnamed: 0.1": 7037,
                  "timestamp": 1578396827471,
                  "vin": "008beb5671fb49a92dc0ef9de96979bf",
                  "sequence": 553,
                  "navigation_location_coordinate_latitude": 40.147671,
                  "navigation_location_coordinate_longitude": -82.9045978,
                  "key": "eyJ0aW1lc3RhbXAiOjE1NzgzOTY4Mjc0NzEsInZpbiI6IjAwOGJlYjU2NzFmYjQ5YTkyZGMwZWY5ZGU5Njk3OWJmIn0=",
                  "_deepnote_index_column": 352175
                },
                {
                  "Unnamed: 0.1": 7039,
                  "timestamp": 1578396828474,
                  "vin": "008beb5671fb49a92dc0ef9de96979bf",
                  "sequence": 553,
                  "navigation_location_coordinate_latitude": 40.1476062,
                  "navigation_location_coordinate_longitude": -82.9047131,
                  "key": "eyJ0aW1lc3RhbXAiOjE1NzgzOTY4Mjg0NzQsInZpbiI6IjAwOGJlYjU2NzFmYjQ5YTkyZGMwZWY5ZGU5Njk3OWJmIn0=",
                  "_deepnote_index_column": 352176
                },
                {
                  "Unnamed: 0.1": 7043,
                  "timestamp": 1578396829478,
                  "vin": "008beb5671fb49a92dc0ef9de96979bf",
                  "sequence": 553,
                  "navigation_location_coordinate_latitude": 40.1475457,
                  "navigation_location_coordinate_longitude": -82.9048327,
                  "key": "eyJ0aW1lc3RhbXAiOjE1NzgzOTY4Mjk0NzgsInZpbiI6IjAwOGJlYjU2NzFmYjQ5YTkyZGMwZWY5ZGU5Njk3OWJmIn0=",
                  "_deepnote_index_column": 352177
                },
                {
                  "Unnamed: 0.1": 7046,
                  "timestamp": 1578396830476,
                  "vin": "008beb5671fb49a92dc0ef9de96979bf",
                  "sequence": 553,
                  "navigation_location_coordinate_latitude": 40.1474918,
                  "navigation_location_coordinate_longitude": -82.904957,
                  "key": "eyJ0aW1lc3RhbXAiOjE1NzgzOTY4MzA0NzYsInZpbiI6IjAwOGJlYjU2NzFmYjQ5YTkyZGMwZWY5ZGU5Njk3OWJmIn0=",
                  "_deepnote_index_column": 352178
                },
                {
                  "Unnamed: 0.1": 7052,
                  "timestamp": 1578396832481,
                  "vin": "008beb5671fb49a92dc0ef9de96979bf",
                  "sequence": 553,
                  "navigation_location_coordinate_latitude": 40.1474101,
                  "navigation_location_coordinate_longitude": -82.9052183,
                  "key": "eyJ0aW1lc3RhbXAiOjE1NzgzOTY4MzI0ODEsInZpbiI6IjAwOGJlYjU2NzFmYjQ5YTkyZGMwZWY5ZGU5Njk3OWJmIn0=",
                  "_deepnote_index_column": 352179
                },
                {
                  "Unnamed: 0.1": 7056,
                  "timestamp": 1578396833499,
                  "vin": "008beb5671fb49a92dc0ef9de96979bf",
                  "sequence": 553,
                  "navigation_location_coordinate_latitude": 40.1473847,
                  "navigation_location_coordinate_longitude": -82.9053538,
                  "key": "eyJ0aW1lc3RhbXAiOjE1NzgzOTY4MzM0OTksInZpbiI6IjAwOGJlYjU2NzFmYjQ5YTkyZGMwZWY5ZGU5Njk3OWJmIn0=",
                  "_deepnote_index_column": 352180
                },
                {
                  "Unnamed: 0.1": 7063,
                  "timestamp": 1578396835442,
                  "vin": "008beb5671fb49a92dc0ef9de96979bf",
                  "sequence": 553,
                  "navigation_location_coordinate_latitude": 40.1473734,
                  "navigation_location_coordinate_longitude": -82.9056294,
                  "key": "eyJ0aW1lc3RhbXAiOjE1NzgzOTY4MzU0NDIsInZpbiI6IjAwOGJlYjU2NzFmYjQ5YTkyZGMwZWY5ZGU5Njk3OWJmIn0=",
                  "_deepnote_index_column": 352181
                },
                {
                  "Unnamed: 0.1": 7074,
                  "timestamp": 1578396837488,
                  "vin": "008beb5671fb49a92dc0ef9de96979bf",
                  "sequence": 553,
                  "navigation_location_coordinate_latitude": 40.1473965,
                  "navigation_location_coordinate_longitude": -82.9059181,
                  "key": "eyJ0aW1lc3RhbXAiOjE1NzgzOTY4Mzc0ODgsInZpbiI6IjAwOGJlYjU2NzFmYjQ5YTkyZGMwZWY5ZGU5Njk3OWJmIn0=",
                  "_deepnote_index_column": 352182
                },
                {
                  "Unnamed: 0.1": 7076,
                  "timestamp": 1578396838481,
                  "vin": "008beb5671fb49a92dc0ef9de96979bf",
                  "sequence": 553,
                  "navigation_location_coordinate_latitude": 40.1474087,
                  "navigation_location_coordinate_longitude": -82.906057,
                  "key": "eyJ0aW1lc3RhbXAiOjE1NzgzOTY4Mzg0ODEsInZpbiI6IjAwOGJlYjU2NzFmYjQ5YTkyZGMwZWY5ZGU5Njk3OWJmIn0=",
                  "_deepnote_index_column": 352183
                },
                {
                  "Unnamed: 0.1": 7092,
                  "timestamp": 1578396840485,
                  "vin": "008beb5671fb49a92dc0ef9de96979bf",
                  "sequence": 553,
                  "navigation_location_coordinate_latitude": 40.1474179,
                  "navigation_location_coordinate_longitude": -82.9062948,
                  "key": "eyJ0aW1lc3RhbXAiOjE1NzgzOTY4NDA0ODUsInZpbiI6IjAwOGJlYjU2NzFmYjQ5YTkyZGMwZWY5ZGU5Njk3OWJmIn0=",
                  "_deepnote_index_column": 352184
                },
                {
                  "Unnamed: 0.1": 7108,
                  "timestamp": 1578396841475,
                  "vin": "008beb5671fb49a92dc0ef9de96979bf",
                  "sequence": 553,
                  "navigation_location_coordinate_latitude": 40.1474002,
                  "navigation_location_coordinate_longitude": -82.9063913,
                  "key": "eyJ0aW1lc3RhbXAiOjE1NzgzOTY4NDE0NzUsInZpbiI6IjAwOGJlYjU2NzFmYjQ5YTkyZGMwZWY5ZGU5Njk3OWJmIn0=",
                  "_deepnote_index_column": 352185
                },
                {
                  "Unnamed: 0.1": 7114,
                  "timestamp": 1578396842477,
                  "vin": "008beb5671fb49a92dc0ef9de96979bf",
                  "sequence": 553,
                  "navigation_location_coordinate_latitude": 40.1473604,
                  "navigation_location_coordinate_longitude": -82.9064692,
                  "key": "eyJ0aW1lc3RhbXAiOjE1NzgzOTY4NDI0NzcsInZpbiI6IjAwOGJlYjU2NzFmYjQ5YTkyZGMwZWY5ZGU5Njk3OWJmIn0=",
                  "_deepnote_index_column": 352186
                },
                {
                  "Unnamed: 0.1": 7117,
                  "timestamp": 1578396843476,
                  "vin": "008beb5671fb49a92dc0ef9de96979bf",
                  "sequence": 553,
                  "navigation_location_coordinate_latitude": 40.1473012,
                  "navigation_location_coordinate_longitude": -82.9065214,
                  "key": "eyJ0aW1lc3RhbXAiOjE1NzgzOTY4NDM0NzYsInZpbiI6IjAwOGJlYjU2NzFmYjQ5YTkyZGMwZWY5ZGU5Njk3OWJmIn0=",
                  "_deepnote_index_column": 352187
                },
                {
                  "Unnamed: 0.1": 7129,
                  "timestamp": 1578396845472,
                  "vin": "008beb5671fb49a92dc0ef9de96979bf",
                  "sequence": 553,
                  "navigation_location_coordinate_latitude": 40.1471438,
                  "navigation_location_coordinate_longitude": -82.9065481,
                  "key": "eyJ0aW1lc3RhbXAiOjE1NzgzOTY4NDU0NzIsInZpbiI6IjAwOGJlYjU2NzFmYjQ5YTkyZGMwZWY5ZGU5Njk3OWJmIn0=",
                  "_deepnote_index_column": 352188
                },
                {
                  "Unnamed: 0.1": 7141,
                  "timestamp": 1578396847425,
                  "vin": "008beb5671fb49a92dc0ef9de96979bf",
                  "sequence": 553,
                  "navigation_location_coordinate_latitude": 40.1469465,
                  "navigation_location_coordinate_longitude": -82.9065527,
                  "key": "eyJ0aW1lc3RhbXAiOjE1NzgzOTY4NDc0MjUsInZpbiI6IjAwOGJlYjU2NzFmYjQ5YTkyZGMwZWY5ZGU5Njk3OWJmIn0=",
                  "_deepnote_index_column": 352189
                },
                {
                  "Unnamed: 0.1": 7147,
                  "timestamp": 1578396848434,
                  "vin": "008beb5671fb49a92dc0ef9de96979bf",
                  "sequence": 553,
                  "navigation_location_coordinate_latitude": 40.1468357,
                  "navigation_location_coordinate_longitude": -82.9065589,
                  "key": "eyJ0aW1lc3RhbXAiOjE1NzgzOTY4NDg0MzQsInZpbiI6IjAwOGJlYjU2NzFmYjQ5YTkyZGMwZWY5ZGU5Njk3OWJmIn0=",
                  "_deepnote_index_column": 352190
                },
                {
                  "Unnamed: 0.1": 7156,
                  "timestamp": 1578396851449,
                  "vin": "008beb5671fb49a92dc0ef9de96979bf",
                  "sequence": 553,
                  "navigation_location_coordinate_latitude": 40.1464961,
                  "navigation_location_coordinate_longitude": -82.9065842,
                  "key": "eyJ0aW1lc3RhbXAiOjE1NzgzOTY4NTE0NDksInZpbiI6IjAwOGJlYjU2NzFmYjQ5YTkyZGMwZWY5ZGU5Njk3OWJmIn0=",
                  "_deepnote_index_column": 352191
                },
                {
                  "Unnamed: 0.1": 7159,
                  "timestamp": 1578396852430,
                  "vin": "008beb5671fb49a92dc0ef9de96979bf",
                  "sequence": 553,
                  "navigation_location_coordinate_latitude": 40.1463917,
                  "navigation_location_coordinate_longitude": -82.9065966,
                  "key": "eyJ0aW1lc3RhbXAiOjE1NzgzOTY4NTI0MzAsInZpbiI6IjAwOGJlYjU2NzFmYjQ5YTkyZGMwZWY5ZGU5Njk3OWJmIn0=",
                  "_deepnote_index_column": 352192
                },
                {
                  "Unnamed: 0.1": 7162,
                  "timestamp": 1578396853553,
                  "vin": "008beb5671fb49a92dc0ef9de96979bf",
                  "sequence": 553,
                  "navigation_location_coordinate_latitude": 40.1462983,
                  "navigation_location_coordinate_longitude": -82.9066098,
                  "key": "eyJ0aW1lc3RhbXAiOjE1NzgzOTY4NTM1NTMsInZpbiI6IjAwOGJlYjU2NzFmYjQ5YTkyZGMwZWY5ZGU5Njk3OWJmIn0=",
                  "_deepnote_index_column": 352193
                },
                {
                  "Unnamed: 0.1": 7167,
                  "timestamp": 1578396854423,
                  "vin": "008beb5671fb49a92dc0ef9de96979bf",
                  "sequence": 553,
                  "navigation_location_coordinate_latitude": 40.1462193,
                  "navigation_location_coordinate_longitude": -82.9066242,
                  "key": "eyJ0aW1lc3RhbXAiOjE1NzgzOTY4NTQ0MjMsInZpbiI6IjAwOGJlYjU2NzFmYjQ5YTkyZGMwZWY5ZGU5Njk3OWJmIn0=",
                  "_deepnote_index_column": 352194
                },
                {
                  "Unnamed: 0.1": 7173,
                  "timestamp": 1578396855455,
                  "vin": "008beb5671fb49a92dc0ef9de96979bf",
                  "sequence": 553,
                  "navigation_location_coordinate_latitude": 40.1461586,
                  "navigation_location_coordinate_longitude": -82.9066402,
                  "key": "eyJ0aW1lc3RhbXAiOjE1NzgzOTY4NTU0NTUsInZpbiI6IjAwOGJlYjU2NzFmYjQ5YTkyZGMwZWY5ZGU5Njk3OWJmIn0=",
                  "_deepnote_index_column": 352195
                },
                {
                  "Unnamed: 0.1": 7184,
                  "timestamp": 1578396858446,
                  "vin": "008beb5671fb49a92dc0ef9de96979bf",
                  "sequence": 553,
                  "navigation_location_coordinate_latitude": 40.1460976,
                  "navigation_location_coordinate_longitude": -82.9066662,
                  "key": "eyJ0aW1lc3RhbXAiOjE1NzgzOTY4NTg0NDYsInZpbiI6IjAwOGJlYjU2NzFmYjQ5YTkyZGMwZWY5ZGU5Njk3OWJmIn0=",
                  "_deepnote_index_column": 352196
                },
                {
                  "Unnamed: 0.1": 7198,
                  "timestamp": 1578396868435,
                  "vin": "008beb5671fb49a92dc0ef9de96979bf",
                  "sequence": 553,
                  "navigation_location_coordinate_latitude": 40.1460884,
                  "navigation_location_coordinate_longitude": -82.9066725,
                  "key": "eyJ0aW1lc3RhbXAiOjE1NzgzOTY4Njg0MzUsInZpbiI6IjAwOGJlYjU2NzFmYjQ5YTkyZGMwZWY5ZGU5Njk3OWJmIn0=",
                  "_deepnote_index_column": 352197
                },
                {
                  "Unnamed: 0.1": 7210,
                  "timestamp": 1578396869435,
                  "vin": "008beb5671fb49a92dc0ef9de96979bf",
                  "sequence": 553,
                  "navigation_location_coordinate_latitude": 40.1460652,
                  "navigation_location_coordinate_longitude": -82.9066931,
                  "key": "eyJ0aW1lc3RhbXAiOjE1NzgzOTY4Njk0MzUsInZpbiI6IjAwOGJlYjU2NzFmYjQ5YTkyZGMwZWY5ZGU5Njk3OWJmIn0=",
                  "_deepnote_index_column": 352198
                },
                {
                  "Unnamed: 0.1": 7222,
                  "timestamp": 1578396870428,
                  "vin": "008beb5671fb49a92dc0ef9de96979bf",
                  "sequence": 553,
                  "navigation_location_coordinate_latitude": 40.1460402,
                  "navigation_location_coordinate_longitude": -82.9067404,
                  "key": "eyJ0aW1lc3RhbXAiOjE1NzgzOTY4NzA0MjgsInZpbiI6IjAwOGJlYjU2NzFmYjQ5YTkyZGMwZWY5ZGU5Njk3OWJmIn0=",
                  "_deepnote_index_column": 352199
                },
                {
                  "Unnamed: 0.1": 7236,
                  "timestamp": 1578396871438,
                  "vin": "008beb5671fb49a92dc0ef9de96979bf",
                  "sequence": 553,
                  "navigation_location_coordinate_latitude": 40.1460266,
                  "navigation_location_coordinate_longitude": -82.9068221,
                  "key": "eyJ0aW1lc3RhbXAiOjE1NzgzOTY4NzE0MzgsInZpbiI6IjAwOGJlYjU2NzFmYjQ5YTkyZGMwZWY5ZGU5Njk3OWJmIn0=",
                  "_deepnote_index_column": 352200
                },
                {
                  "Unnamed: 0.1": 7251,
                  "timestamp": 1578396873436,
                  "vin": "008beb5671fb49a92dc0ef9de96979bf",
                  "sequence": 553,
                  "navigation_location_coordinate_latitude": 40.1460317,
                  "navigation_location_coordinate_longitude": -82.907074,
                  "key": "eyJ0aW1lc3RhbXAiOjE1NzgzOTY4NzM0MzYsInZpbiI6IjAwOGJlYjU2NzFmYjQ5YTkyZGMwZWY5ZGU5Njk3OWJmIn0=",
                  "_deepnote_index_column": 352201
                },
                {
                  "Unnamed: 0.1": 7256,
                  "timestamp": 1578396874433,
                  "vin": "008beb5671fb49a92dc0ef9de96979bf",
                  "sequence": 553,
                  "navigation_location_coordinate_latitude": 40.1460388,
                  "navigation_location_coordinate_longitude": -82.907241,
                  "key": "eyJ0aW1lc3RhbXAiOjE1NzgzOTY4NzQ0MzMsInZpbiI6IjAwOGJlYjU2NzFmYjQ5YTkyZGMwZWY5ZGU5Njk3OWJmIn0=",
                  "_deepnote_index_column": 352202
                },
                {
                  "Unnamed: 0.1": 7281,
                  "timestamp": 1578396878477,
                  "vin": "008beb5671fb49a92dc0ef9de96979bf",
                  "sequence": 553,
                  "navigation_location_coordinate_latitude": 40.1460746,
                  "navigation_location_coordinate_longitude": -82.9081302,
                  "key": "eyJ0aW1lc3RhbXAiOjE1NzgzOTY4Nzg0NzcsInZpbiI6IjAwOGJlYjU2NzFmYjQ5YTkyZGMwZWY5ZGU5Njk3OWJmIn0=",
                  "_deepnote_index_column": 352203
                },
                {
                  "Unnamed: 0.1": 7284,
                  "timestamp": 1578396879475,
                  "vin": "008beb5671fb49a92dc0ef9de96979bf",
                  "sequence": 553,
                  "navigation_location_coordinate_latitude": 40.146084,
                  "navigation_location_coordinate_longitude": -82.9083838,
                  "key": "eyJ0aW1lc3RhbXAiOjE1NzgzOTY4Nzk0NzUsInZpbiI6IjAwOGJlYjU2NzFmYjQ5YTkyZGMwZWY5ZGU5Njk3OWJmIn0=",
                  "_deepnote_index_column": 352204
                },
                {
                  "Unnamed: 0.1": 7290,
                  "timestamp": 1578396881470,
                  "vin": "008beb5671fb49a92dc0ef9de96979bf",
                  "sequence": 553,
                  "navigation_location_coordinate_latitude": 40.1461033,
                  "navigation_location_coordinate_longitude": -82.9089043,
                  "key": "eyJ0aW1lc3RhbXAiOjE1NzgzOTY4ODE0NzAsInZpbiI6IjAwOGJlYjU2NzFmYjQ5YTkyZGMwZWY5ZGU5Njk3OWJmIn0=",
                  "_deepnote_index_column": 352205
                },
                {
                  "Unnamed: 0.1": 7293,
                  "timestamp": 1578396882474,
                  "vin": "008beb5671fb49a92dc0ef9de96979bf",
                  "sequence": 553,
                  "navigation_location_coordinate_latitude": 40.1461143,
                  "navigation_location_coordinate_longitude": -82.9091685,
                  "key": "eyJ0aW1lc3RhbXAiOjE1NzgzOTY4ODI0NzQsInZpbiI6IjAwOGJlYjU2NzFmYjQ5YTkyZGMwZWY5ZGU5Njk3OWJmIn0=",
                  "_deepnote_index_column": 352206
                },
                {
                  "Unnamed: 0.1": 7294,
                  "timestamp": 1578396883469,
                  "vin": "008beb5671fb49a92dc0ef9de96979bf",
                  "sequence": 553,
                  "navigation_location_coordinate_latitude": 40.1461239,
                  "navigation_location_coordinate_longitude": -82.9094345,
                  "key": "eyJ0aW1lc3RhbXAiOjE1NzgzOTY4ODM0NjksInZpbiI6IjAwOGJlYjU2NzFmYjQ5YTkyZGMwZWY5ZGU5Njk3OWJmIn0=",
                  "_deepnote_index_column": 352207
                },
                {
                  "Unnamed: 0.1": 7296,
                  "timestamp": 1578396884471,
                  "vin": "008beb5671fb49a92dc0ef9de96979bf",
                  "sequence": 553,
                  "navigation_location_coordinate_latitude": 40.1461337,
                  "navigation_location_coordinate_longitude": -82.9097019,
                  "key": "eyJ0aW1lc3RhbXAiOjE1NzgzOTY4ODQ0NzEsInZpbiI6IjAwOGJlYjU2NzFmYjQ5YTkyZGMwZWY5ZGU5Njk3OWJmIn0=",
                  "_deepnote_index_column": 352208
                },
                {
                  "Unnamed: 0.1": 7304,
                  "timestamp": 1578396890423,
                  "vin": "008beb5671fb49a92dc0ef9de96979bf",
                  "sequence": 553,
                  "navigation_location_coordinate_latitude": 40.1461988,
                  "navigation_location_coordinate_longitude": -82.9112694,
                  "key": "eyJ0aW1lc3RhbXAiOjE1NzgzOTY4OTA0MjMsInZpbiI6IjAwOGJlYjU2NzFmYjQ5YTkyZGMwZWY5ZGU5Njk3OWJmIn0=",
                  "_deepnote_index_column": 352209
                },
                {
                  "Unnamed: 0.1": 7307,
                  "timestamp": 1578396891478,
                  "vin": "008beb5671fb49a92dc0ef9de96979bf",
                  "sequence": 553,
                  "navigation_location_coordinate_latitude": 40.1462094,
                  "navigation_location_coordinate_longitude": -82.9115231,
                  "key": "eyJ0aW1lc3RhbXAiOjE1NzgzOTY4OTE0NzgsInZpbiI6IjAwOGJlYjU2NzFmYjQ5YTkyZGMwZWY5ZGU5Njk3OWJmIn0=",
                  "_deepnote_index_column": 352210
                },
                {
                  "Unnamed: 0.1": 7308,
                  "timestamp": 1578396892474,
                  "vin": "008beb5671fb49a92dc0ef9de96979bf",
                  "sequence": 553,
                  "navigation_location_coordinate_latitude": 40.1462212,
                  "navigation_location_coordinate_longitude": -82.9117784,
                  "key": "eyJ0aW1lc3RhbXAiOjE1NzgzOTY4OTI0NzQsInZpbiI6IjAwOGJlYjU2NzFmYjQ5YTkyZGMwZWY5ZGU5Njk3OWJmIn0=",
                  "_deepnote_index_column": 352211
                },
                {
                  "Unnamed: 0.1": 7310,
                  "timestamp": 1578396893473,
                  "vin": "008beb5671fb49a92dc0ef9de96979bf",
                  "sequence": 553,
                  "navigation_location_coordinate_latitude": 40.1462329,
                  "navigation_location_coordinate_longitude": -82.9120355,
                  "key": "eyJ0aW1lc3RhbXAiOjE1NzgzOTY4OTM0NzMsInZpbiI6IjAwOGJlYjU2NzFmYjQ5YTkyZGMwZWY5ZGU5Njk3OWJmIn0=",
                  "_deepnote_index_column": 352212
                },
                {
                  "Unnamed: 0.1": 7312,
                  "timestamp": 1578396894474,
                  "vin": "008beb5671fb49a92dc0ef9de96979bf",
                  "sequence": 553,
                  "navigation_location_coordinate_latitude": 40.1462448,
                  "navigation_location_coordinate_longitude": -82.9122928,
                  "key": "eyJ0aW1lc3RhbXAiOjE1NzgzOTY4OTQ0NzQsInZpbiI6IjAwOGJlYjU2NzFmYjQ5YTkyZGMwZWY5ZGU5Njk3OWJmIn0=",
                  "_deepnote_index_column": 352213
                },
                {
                  "Unnamed: 0.1": 7314,
                  "timestamp": 1578396895476,
                  "vin": "008beb5671fb49a92dc0ef9de96979bf",
                  "sequence": 553,
                  "navigation_location_coordinate_latitude": 40.1462568,
                  "navigation_location_coordinate_longitude": -82.9125494,
                  "key": "eyJ0aW1lc3RhbXAiOjE1NzgzOTY4OTU0NzYsInZpbiI6IjAwOGJlYjU2NzFmYjQ5YTkyZGMwZWY5ZGU5Njk3OWJmIn0=",
                  "_deepnote_index_column": 352214
                },
                {
                  "Unnamed: 0.1": 7317,
                  "timestamp": 1578396896472,
                  "vin": "008beb5671fb49a92dc0ef9de96979bf",
                  "sequence": 553,
                  "navigation_location_coordinate_latitude": 40.1462683,
                  "navigation_location_coordinate_longitude": -82.9128054,
                  "key": "eyJ0aW1lc3RhbXAiOjE1NzgzOTY4OTY0NzIsInZpbiI6IjAwOGJlYjU2NzFmYjQ5YTkyZGMwZWY5ZGU5Njk3OWJmIn0=",
                  "_deepnote_index_column": 352215
                },
                {
                  "Unnamed: 0.1": 7318,
                  "timestamp": 1578396897425,
                  "vin": "008beb5671fb49a92dc0ef9de96979bf",
                  "sequence": 553,
                  "navigation_location_coordinate_latitude": 40.146279,
                  "navigation_location_coordinate_longitude": -82.9130595,
                  "key": "eyJ0aW1lc3RhbXAiOjE1NzgzOTY4OTc0MjUsInZpbiI6IjAwOGJlYjU2NzFmYjQ5YTkyZGMwZWY5ZGU5Njk3OWJmIn0=",
                  "_deepnote_index_column": 352216
                },
                {
                  "Unnamed: 0.1": 7321,
                  "timestamp": 1578396899448,
                  "vin": "008beb5671fb49a92dc0ef9de96979bf",
                  "sequence": 553,
                  "navigation_location_coordinate_latitude": 40.1462999,
                  "navigation_location_coordinate_longitude": -82.9135659,
                  "key": "eyJ0aW1lc3RhbXAiOjE1NzgzOTY4OTk0NDgsInZpbiI6IjAwOGJlYjU2NzFmYjQ5YTkyZGMwZWY5ZGU5Njk3OWJmIn0=",
                  "_deepnote_index_column": 352217
                },
                {
                  "Unnamed: 0.1": 7322,
                  "timestamp": 1578396900431,
                  "vin": "008beb5671fb49a92dc0ef9de96979bf",
                  "sequence": 553,
                  "navigation_location_coordinate_latitude": 40.1463106,
                  "navigation_location_coordinate_longitude": -82.9138177,
                  "key": "eyJ0aW1lc3RhbXAiOjE1NzgzOTY5MDA0MzEsInZpbiI6IjAwOGJlYjU2NzFmYjQ5YTkyZGMwZWY5ZGU5Njk3OWJmIn0=",
                  "_deepnote_index_column": 352218
                },
                {
                  "Unnamed: 0.1": 7325,
                  "timestamp": 1578396903463,
                  "vin": "008beb5671fb49a92dc0ef9de96979bf",
                  "sequence": 553,
                  "navigation_location_coordinate_latitude": 40.1463433,
                  "navigation_location_coordinate_longitude": -82.9145693,
                  "key": "eyJ0aW1lc3RhbXAiOjE1NzgzOTY5MDM0NjMsInZpbiI6IjAwOGJlYjU2NzFmYjQ5YTkyZGMwZWY5ZGU5Njk3OWJmIn0=",
                  "_deepnote_index_column": 352219
                },
                {
                  "Unnamed: 0.1": 7332,
                  "timestamp": 1578396907427,
                  "vin": "008beb5671fb49a92dc0ef9de96979bf",
                  "sequence": 553,
                  "navigation_location_coordinate_latitude": 40.1463874,
                  "navigation_location_coordinate_longitude": -82.9155578,
                  "key": "eyJ0aW1lc3RhbXAiOjE1NzgzOTY5MDc0MjcsInZpbiI6IjAwOGJlYjU2NzFmYjQ5YTkyZGMwZWY5ZGU5Njk3OWJmIn0=",
                  "_deepnote_index_column": 352220
                },
                {
                  "Unnamed: 0.1": 7343,
                  "timestamp": 1578396915425,
                  "vin": "008beb5671fb49a92dc0ef9de96979bf",
                  "sequence": 553,
                  "navigation_location_coordinate_latitude": 40.1464779,
                  "navigation_location_coordinate_longitude": -82.9175653,
                  "key": "eyJ0aW1lc3RhbXAiOjE1NzgzOTY5MTU0MjUsInZpbiI6IjAwOGJlYjU2NzFmYjQ5YTkyZGMwZWY5ZGU5Njk3OWJmIn0=",
                  "_deepnote_index_column": 352221
                }
              ],
              "rows_bottom": [
                {
                  "Unnamed: 0.1": 77,
                  "timestamp": 1580774310393,
                  "vin": "00f3381dd2f2ab78011c562fa6127df7",
                  "sequence": 462,
                  "navigation_location_coordinate_latitude": 40.1792795,
                  "navigation_location_coordinate_longitude": -83.1900026,
                  "key": "eyJ0aW1lc3RhbXAiOjE1ODA3NzQzMTAzOTMsInZpbiI6IjAwZjMzODFkZDJmMmFiNzgwMTFjNTYyZmE2MTI3ZGY3In0=",
                  "_deepnote_index_column": 416704
                },
                {
                  "Unnamed: 0.1": 88,
                  "timestamp": 1580774311395,
                  "vin": "00f3381dd2f2ab78011c562fa6127df7",
                  "sequence": 462,
                  "navigation_location_coordinate_latitude": 40.1793545,
                  "navigation_location_coordinate_longitude": -83.1900112,
                  "key": "eyJ0aW1lc3RhbXAiOjE1ODA3NzQzMTEzOTUsInZpbiI6IjAwZjMzODFkZDJmMmFiNzgwMTFjNTYyZmE2MTI3ZGY3In0=",
                  "_deepnote_index_column": 416705
                },
                {
                  "Unnamed: 0.1": 1,
                  "timestamp": 1580774312400,
                  "vin": "00f3381dd2f2ab78011c562fa6127df7",
                  "sequence": 462,
                  "navigation_location_coordinate_latitude": 40.1794171,
                  "navigation_location_coordinate_longitude": -83.1900267,
                  "key": "eyJ0aW1lc3RhbXAiOjE1ODA3NzQzMTI0MDAsInZpbiI6IjAwZjMzODFkZDJmMmFiNzgwMTFjNTYyZmE2MTI3ZGY3In0=",
                  "_deepnote_index_column": 416706
                },
                {
                  "Unnamed: 0.1": 23,
                  "timestamp": 1580774316403,
                  "vin": "00f3381dd2f2ab78011c562fa6127df7",
                  "sequence": 462,
                  "navigation_location_coordinate_latitude": 40.1795428,
                  "navigation_location_coordinate_longitude": -83.1902983,
                  "key": "eyJ0aW1lc3RhbXAiOjE1ODA3NzQzMTY0MDMsInZpbiI6IjAwZjMzODFkZDJmMmFiNzgwMTFjNTYyZmE2MTI3ZGY3In0=",
                  "_deepnote_index_column": 416707
                },
                {
                  "Unnamed: 0.1": 29,
                  "timestamp": 1580774317394,
                  "vin": "00f3381dd2f2ab78011c562fa6127df7",
                  "sequence": 462,
                  "navigation_location_coordinate_latitude": 40.1795387,
                  "navigation_location_coordinate_longitude": -83.1904063,
                  "key": "eyJ0aW1lc3RhbXAiOjE1ODA3NzQzMTczOTQsInZpbiI6IjAwZjMzODFkZDJmMmFiNzgwMTFjNTYyZmE2MTI3ZGY3In0=",
                  "_deepnote_index_column": 416708
                },
                {
                  "Unnamed: 0.1": 37,
                  "timestamp": 1580774318452,
                  "vin": "00f3381dd2f2ab78011c562fa6127df7",
                  "sequence": 462,
                  "navigation_location_coordinate_latitude": 40.17953,
                  "navigation_location_coordinate_longitude": -83.1905199,
                  "key": "eyJ0aW1lc3RhbXAiOjE1ODA3NzQzMTg0NTIsInZpbiI6IjAwZjMzODFkZDJmMmFiNzgwMTFjNTYyZmE2MTI3ZGY3In0=",
                  "_deepnote_index_column": 416709
                },
                {
                  "Unnamed: 0.1": 40,
                  "timestamp": 1580774319444,
                  "vin": "00f3381dd2f2ab78011c562fa6127df7",
                  "sequence": 462,
                  "navigation_location_coordinate_latitude": 40.1795208,
                  "navigation_location_coordinate_longitude": -83.1906336,
                  "key": "eyJ0aW1lc3RhbXAiOjE1ODA3NzQzMTk0NDQsInZpbiI6IjAwZjMzODFkZDJmMmFiNzgwMTFjNTYyZmE2MTI3ZGY3In0=",
                  "_deepnote_index_column": 416710
                },
                {
                  "Unnamed: 0.1": 42,
                  "timestamp": 1580774320395,
                  "vin": "00f3381dd2f2ab78011c562fa6127df7",
                  "sequence": 462,
                  "navigation_location_coordinate_latitude": 40.1795113,
                  "navigation_location_coordinate_longitude": -83.1907447,
                  "key": "eyJ0aW1lc3RhbXAiOjE1ODA3NzQzMjAzOTUsInZpbiI6IjAwZjMzODFkZDJmMmFiNzgwMTFjNTYyZmE2MTI3ZGY3In0=",
                  "_deepnote_index_column": 416711
                },
                {
                  "Unnamed: 0.1": 47,
                  "timestamp": 1580774321394,
                  "vin": "00f3381dd2f2ab78011c562fa6127df7",
                  "sequence": 462,
                  "navigation_location_coordinate_latitude": 40.1795006,
                  "navigation_location_coordinate_longitude": -83.1908491,
                  "key": "eyJ0aW1lc3RhbXAiOjE1ODA3NzQzMjEzOTQsInZpbiI6IjAwZjMzODFkZDJmMmFiNzgwMTFjNTYyZmE2MTI3ZGY3In0=",
                  "_deepnote_index_column": 416712
                },
                {
                  "Unnamed: 0.1": 63,
                  "timestamp": 1580774323391,
                  "vin": "00f3381dd2f2ab78011c562fa6127df7",
                  "sequence": 462,
                  "navigation_location_coordinate_latitude": 40.1794824,
                  "navigation_location_coordinate_longitude": -83.1910222,
                  "key": "eyJ0aW1lc3RhbXAiOjE1ODA3NzQzMjMzOTEsInZpbiI6IjAwZjMzODFkZDJmMmFiNzgwMTFjNTYyZmE2MTI3ZGY3In0=",
                  "_deepnote_index_column": 416713
                },
                {
                  "Unnamed: 0.1": 73,
                  "timestamp": 1580774324395,
                  "vin": "00f3381dd2f2ab78011c562fa6127df7",
                  "sequence": 462,
                  "navigation_location_coordinate_latitude": 40.1794874,
                  "navigation_location_coordinate_longitude": -83.1910925,
                  "key": "eyJ0aW1lc3RhbXAiOjE1ODA3NzQzMjQzOTUsInZpbiI6IjAwZjMzODFkZDJmMmFiNzgwMTFjNTYyZmE2MTI3ZGY3In0=",
                  "_deepnote_index_column": 416714
                },
                {
                  "Unnamed: 0.1": 84,
                  "timestamp": 1580774326396,
                  "vin": "00f3381dd2f2ab78011c562fa6127df7",
                  "sequence": 462,
                  "navigation_location_coordinate_latitude": 40.1795499,
                  "navigation_location_coordinate_longitude": -83.1912026,
                  "key": "eyJ0aW1lc3RhbXAiOjE1ODA3NzQzMjYzOTYsInZpbiI6IjAwZjMzODFkZDJmMmFiNzgwMTFjNTYyZmE2MTI3ZGY3In0=",
                  "_deepnote_index_column": 416715
                },
                {
                  "Unnamed: 0.1": 4,
                  "timestamp": 1580774328395,
                  "vin": "00f3381dd2f2ab78011c562fa6127df7",
                  "sequence": 462,
                  "navigation_location_coordinate_latitude": 40.1796928,
                  "navigation_location_coordinate_longitude": -83.1912467,
                  "key": "eyJ0aW1lc3RhbXAiOjE1ODA3NzQzMjgzOTUsInZpbiI6IjAwZjMzODFkZDJmMmFiNzgwMTFjNTYyZmE2MTI3ZGY3In0=",
                  "_deepnote_index_column": 416716
                },
                {
                  "Unnamed: 0.1": 20,
                  "timestamp": 1580774331443,
                  "vin": "00f3381dd2f2ab78011c562fa6127df7",
                  "sequence": 462,
                  "navigation_location_coordinate_latitude": 40.1800033,
                  "navigation_location_coordinate_longitude": -83.1912899,
                  "key": "eyJ0aW1lc3RhbXAiOjE1ODA3NzQzMzE0NDMsInZpbiI6IjAwZjMzODFkZDJmMmFiNzgwMTFjNTYyZmE2MTI3ZGY3In0=",
                  "_deepnote_index_column": 416717
                },
                {
                  "Unnamed: 0.1": 35,
                  "timestamp": 1580774333447,
                  "vin": "00f3381dd2f2ab78011c562fa6127df7",
                  "sequence": 462,
                  "navigation_location_coordinate_latitude": 40.1802407,
                  "navigation_location_coordinate_longitude": -83.1913168,
                  "key": "eyJ0aW1lc3RhbXAiOjE1ODA3NzQzMzM0NDcsInZpbiI6IjAwZjMzODFkZDJmMmFiNzgwMTFjNTYyZmE2MTI3ZGY3In0=",
                  "_deepnote_index_column": 416718
                },
                {
                  "Unnamed: 0.1": 42,
                  "timestamp": 1580774335395,
                  "vin": "00f3381dd2f2ab78011c562fa6127df7",
                  "sequence": 462,
                  "navigation_location_coordinate_latitude": 40.1804931,
                  "navigation_location_coordinate_longitude": -83.1913486,
                  "key": "eyJ0aW1lc3RhbXAiOjE1ODA3NzQzMzUzOTUsInZpbiI6IjAwZjMzODFkZDJmMmFiNzgwMTFjNTYyZmE2MTI3ZGY3In0=",
                  "_deepnote_index_column": 416719
                },
                {
                  "Unnamed: 0.1": 49,
                  "timestamp": 1580774336394,
                  "vin": "00f3381dd2f2ab78011c562fa6127df7",
                  "sequence": 462,
                  "navigation_location_coordinate_latitude": 40.1806226,
                  "navigation_location_coordinate_longitude": -83.1913664,
                  "key": "eyJ0aW1lc3RhbXAiOjE1ODA3NzQzMzYzOTQsInZpbiI6IjAwZjMzODFkZDJmMmFiNzgwMTFjNTYyZmE2MTI3ZGY3In0=",
                  "_deepnote_index_column": 416720
                },
                {
                  "Unnamed: 0.1": 52,
                  "timestamp": 1580774337395,
                  "vin": "00f3381dd2f2ab78011c562fa6127df7",
                  "sequence": 462,
                  "navigation_location_coordinate_latitude": 40.1807536,
                  "navigation_location_coordinate_longitude": -83.1913841,
                  "key": "eyJ0aW1lc3RhbXAiOjE1ODA3NzQzMzczOTUsInZpbiI6IjAwZjMzODFkZDJmMmFiNzgwMTFjNTYyZmE2MTI3ZGY3In0=",
                  "_deepnote_index_column": 416721
                },
                {
                  "Unnamed: 0.1": 54,
                  "timestamp": 1580774338398,
                  "vin": "00f3381dd2f2ab78011c562fa6127df7",
                  "sequence": 462,
                  "navigation_location_coordinate_latitude": 40.1808849,
                  "navigation_location_coordinate_longitude": -83.1913989,
                  "key": "eyJ0aW1lc3RhbXAiOjE1ODA3NzQzMzgzOTgsInZpbiI6IjAwZjMzODFkZDJmMmFiNzgwMTFjNTYyZmE2MTI3ZGY3In0=",
                  "_deepnote_index_column": 416722
                },
                {
                  "Unnamed: 0.1": 64,
                  "timestamp": 1580774340395,
                  "vin": "00f3381dd2f2ab78011c562fa6127df7",
                  "sequence": 462,
                  "navigation_location_coordinate_latitude": 40.1811426,
                  "navigation_location_coordinate_longitude": -83.1914008,
                  "key": "eyJ0aW1lc3RhbXAiOjE1ODA3NzQzNDAzOTUsInZpbiI6IjAwZjMzODFkZDJmMmFiNzgwMTFjNTYyZmE2MTI3ZGY3In0=",
                  "_deepnote_index_column": 416723
                },
                {
                  "Unnamed: 0.1": 89,
                  "timestamp": 1580774346405,
                  "vin": "00f3381dd2f2ab78011c562fa6127df7",
                  "sequence": 462,
                  "navigation_location_coordinate_latitude": 40.1818701,
                  "navigation_location_coordinate_longitude": -83.1911659,
                  "key": "eyJ0aW1lc3RhbXAiOjE1ODA3NzQzNDY0MDUsInZpbiI6IjAwZjMzODFkZDJmMmFiNzgwMTFjNTYyZmE2MTI3ZGY3In0=",
                  "_deepnote_index_column": 416724
                },
                {
                  "Unnamed: 0.1": 93,
                  "timestamp": 1580774348447,
                  "vin": "00f3381dd2f2ab78011c562fa6127df7",
                  "sequence": 462,
                  "navigation_location_coordinate_latitude": 40.1821193,
                  "navigation_location_coordinate_longitude": -83.1912114,
                  "key": "eyJ0aW1lc3RhbXAiOjE1ODA3NzQzNDg0NDcsInZpbiI6IjAwZjMzODFkZDJmMmFiNzgwMTFjNTYyZmE2MTI3ZGY3In0=",
                  "_deepnote_index_column": 416725
                },
                {
                  "Unnamed: 0.1": 96,
                  "timestamp": 1580774349404,
                  "vin": "00f3381dd2f2ab78011c562fa6127df7",
                  "sequence": 462,
                  "navigation_location_coordinate_latitude": 40.1822354,
                  "navigation_location_coordinate_longitude": -83.191267,
                  "key": "eyJ0aW1lc3RhbXAiOjE1ODA3NzQzNDk0MDQsInZpbiI6IjAwZjMzODFkZDJmMmFiNzgwMTFjNTYyZmE2MTI3ZGY3In0=",
                  "_deepnote_index_column": 416726
                },
                {
                  "Unnamed: 0.1": 2,
                  "timestamp": 1580774350397,
                  "vin": "00f3381dd2f2ab78011c562fa6127df7",
                  "sequence": 462,
                  "navigation_location_coordinate_latitude": 40.1823413,
                  "navigation_location_coordinate_longitude": -83.1913414,
                  "key": "eyJ0aW1lc3RhbXAiOjE1ODA3NzQzNTAzOTcsInZpbiI6IjAwZjMzODFkZDJmMmFiNzgwMTFjNTYyZmE2MTI3ZGY3In0=",
                  "_deepnote_index_column": 416727
                },
                {
                  "Unnamed: 0.1": 8,
                  "timestamp": 1580774352445,
                  "vin": "00f3381dd2f2ab78011c562fa6127df7",
                  "sequence": 462,
                  "navigation_location_coordinate_latitude": 40.1825222,
                  "navigation_location_coordinate_longitude": -83.1915324,
                  "key": "eyJ0aW1lc3RhbXAiOjE1ODA3NzQzNTI0NDUsInZpbiI6IjAwZjMzODFkZDJmMmFiNzgwMTFjNTYyZmE2MTI3ZGY3In0=",
                  "_deepnote_index_column": 416728
                },
                {
                  "Unnamed: 0.1": 13,
                  "timestamp": 1580774354403,
                  "vin": "00f3381dd2f2ab78011c562fa6127df7",
                  "sequence": 462,
                  "navigation_location_coordinate_latitude": 40.1826605,
                  "navigation_location_coordinate_longitude": -83.1917636,
                  "key": "eyJ0aW1lc3RhbXAiOjE1ODA3NzQzNTQ0MDMsInZpbiI6IjAwZjMzODFkZDJmMmFiNzgwMTFjNTYyZmE2MTI3ZGY3In0=",
                  "_deepnote_index_column": 416729
                },
                {
                  "Unnamed: 0.1": 20,
                  "timestamp": 1580774358400,
                  "vin": "00f3381dd2f2ab78011c562fa6127df7",
                  "sequence": 462,
                  "navigation_location_coordinate_latitude": 40.1827647,
                  "navigation_location_coordinate_longitude": -83.1923031,
                  "key": "eyJ0aW1lc3RhbXAiOjE1ODA3NzQzNTg0MDAsInZpbiI6IjAwZjMzODFkZDJmMmFiNzgwMTFjNTYyZmE2MTI3ZGY3In0=",
                  "_deepnote_index_column": 416730
                },
                {
                  "Unnamed: 0.1": 23,
                  "timestamp": 1580774359403,
                  "vin": "00f3381dd2f2ab78011c562fa6127df7",
                  "sequence": 462,
                  "navigation_location_coordinate_latitude": 40.1827618,
                  "navigation_location_coordinate_longitude": -83.1924403,
                  "key": "eyJ0aW1lc3RhbXAiOjE1ODA3NzQzNTk0MDMsInZpbiI6IjAwZjMzODFkZDJmMmFiNzgwMTFjNTYyZmE2MTI3ZGY3In0=",
                  "_deepnote_index_column": 416731
                },
                {
                  "Unnamed: 0.1": 26,
                  "timestamp": 1580774360391,
                  "vin": "00f3381dd2f2ab78011c562fa6127df7",
                  "sequence": 462,
                  "navigation_location_coordinate_latitude": 40.1827554,
                  "navigation_location_coordinate_longitude": -83.1925734,
                  "key": "eyJ0aW1lc3RhbXAiOjE1ODA3NzQzNjAzOTEsInZpbiI6IjAwZjMzODFkZDJmMmFiNzgwMTFjNTYyZmE2MTI3ZGY3In0=",
                  "_deepnote_index_column": 416732
                },
                {
                  "Unnamed: 0.1": 29,
                  "timestamp": 1580774361393,
                  "vin": "00f3381dd2f2ab78011c562fa6127df7",
                  "sequence": 462,
                  "navigation_location_coordinate_latitude": 40.182747,
                  "navigation_location_coordinate_longitude": -83.1927012,
                  "key": "eyJ0aW1lc3RhbXAiOjE1ODA3NzQzNjEzOTMsInZpbiI6IjAwZjMzODFkZDJmMmFiNzgwMTFjNTYyZmE2MTI3ZGY3In0=",
                  "_deepnote_index_column": 416733
                },
                {
                  "Unnamed: 0.1": 35,
                  "timestamp": 1580774363392,
                  "vin": "00f3381dd2f2ab78011c562fa6127df7",
                  "sequence": 462,
                  "navigation_location_coordinate_latitude": 40.182729,
                  "navigation_location_coordinate_longitude": -83.1929418,
                  "key": "eyJ0aW1lc3RhbXAiOjE1ODA3NzQzNjMzOTIsInZpbiI6IjAwZjMzODFkZDJmMmFiNzgwMTFjNTYyZmE2MTI3ZGY3In0=",
                  "_deepnote_index_column": 416734
                },
                {
                  "Unnamed: 0.1": 38,
                  "timestamp": 1580774364440,
                  "vin": "00f3381dd2f2ab78011c562fa6127df7",
                  "sequence": 462,
                  "navigation_location_coordinate_latitude": 40.1827201,
                  "navigation_location_coordinate_longitude": -83.1930545,
                  "key": "eyJ0aW1lc3RhbXAiOjE1ODA3NzQzNjQ0NDAsInZpbiI6IjAwZjMzODFkZDJmMmFiNzgwMTFjNTYyZmE2MTI3ZGY3In0=",
                  "_deepnote_index_column": 416735
                },
                {
                  "Unnamed: 0.1": 43,
                  "timestamp": 1580774365450,
                  "vin": "00f3381dd2f2ab78011c562fa6127df7",
                  "sequence": 462,
                  "navigation_location_coordinate_latitude": 40.182711,
                  "navigation_location_coordinate_longitude": -83.1931616,
                  "key": "eyJ0aW1lc3RhbXAiOjE1ODA3NzQzNjU0NTAsInZpbiI6IjAwZjMzODFkZDJmMmFiNzgwMTFjNTYyZmE2MTI3ZGY3In0=",
                  "_deepnote_index_column": 416736
                },
                {
                  "Unnamed: 0.1": 45,
                  "timestamp": 1580774366474,
                  "vin": "00f3381dd2f2ab78011c562fa6127df7",
                  "sequence": 462,
                  "navigation_location_coordinate_latitude": 40.182703,
                  "navigation_location_coordinate_longitude": -83.1932605,
                  "key": "eyJ0aW1lc3RhbXAiOjE1ODA3NzQzNjY0NzQsInZpbiI6IjAwZjMzODFkZDJmMmFiNzgwMTFjNTYyZmE2MTI3ZGY3In0=",
                  "_deepnote_index_column": 416737
                },
                {
                  "Unnamed: 0.1": 51,
                  "timestamp": 1580774367465,
                  "vin": "00f3381dd2f2ab78011c562fa6127df7",
                  "sequence": 462,
                  "navigation_location_coordinate_latitude": 40.1826956,
                  "navigation_location_coordinate_longitude": -83.1933496,
                  "key": "eyJ0aW1lc3RhbXAiOjE1ODA3NzQzNjc0NjUsInZpbiI6IjAwZjMzODFkZDJmMmFiNzgwMTFjNTYyZmE2MTI3ZGY3In0=",
                  "_deepnote_index_column": 416738
                },
                {
                  "Unnamed: 0.1": 53,
                  "timestamp": 1580774368390,
                  "vin": "00f3381dd2f2ab78011c562fa6127df7",
                  "sequence": 462,
                  "navigation_location_coordinate_latitude": 40.1826882,
                  "navigation_location_coordinate_longitude": -83.1934307,
                  "key": "eyJ0aW1lc3RhbXAiOjE1ODA3NzQzNjgzOTAsInZpbiI6IjAwZjMzODFkZDJmMmFiNzgwMTFjNTYyZmE2MTI3ZGY3In0=",
                  "_deepnote_index_column": 416739
                },
                {
                  "Unnamed: 0.1": 58,
                  "timestamp": 1580774369388,
                  "vin": "00f3381dd2f2ab78011c562fa6127df7",
                  "sequence": 462,
                  "navigation_location_coordinate_latitude": 40.1826813,
                  "navigation_location_coordinate_longitude": -83.1935011,
                  "key": "eyJ0aW1lc3RhbXAiOjE1ODA3NzQzNjkzODgsInZpbiI6IjAwZjMzODFkZDJmMmFiNzgwMTFjNTYyZmE2MTI3ZGY3In0=",
                  "_deepnote_index_column": 416740
                },
                {
                  "Unnamed: 0.1": 75,
                  "timestamp": 1580774371451,
                  "vin": "00f3381dd2f2ab78011c562fa6127df7",
                  "sequence": 462,
                  "navigation_location_coordinate_latitude": 40.1826603,
                  "navigation_location_coordinate_longitude": -83.1936026,
                  "key": "eyJ0aW1lc3RhbXAiOjE1ODA3NzQzNzE0NTEsInZpbiI6IjAwZjMzODFkZDJmMmFiNzgwMTFjNTYyZmE2MTI3ZGY3In0=",
                  "_deepnote_index_column": 416741
                },
                {
                  "Unnamed: 0.1": 79,
                  "timestamp": 1580774372393,
                  "vin": "00f3381dd2f2ab78011c562fa6127df7",
                  "sequence": 462,
                  "navigation_location_coordinate_latitude": 40.1826352,
                  "navigation_location_coordinate_longitude": -83.1936435,
                  "key": "eyJ0aW1lc3RhbXAiOjE1ODA3NzQzNzIzOTMsInZpbiI6IjAwZjMzODFkZDJmMmFiNzgwMTFjNTYyZmE2MTI3ZGY3In0=",
                  "_deepnote_index_column": 416742
                },
                {
                  "Unnamed: 0.1": 92,
                  "timestamp": 1580774374396,
                  "vin": "00f3381dd2f2ab78011c562fa6127df7",
                  "sequence": 462,
                  "navigation_location_coordinate_latitude": 40.1825522,
                  "navigation_location_coordinate_longitude": -83.1936895,
                  "key": "eyJ0aW1lc3RhbXAiOjE1ODA3NzQzNzQzOTYsInZpbiI6IjAwZjMzODFkZDJmMmFiNzgwMTFjNTYyZmE2MTI3ZGY3In0=",
                  "_deepnote_index_column": 416743
                },
                {
                  "Unnamed: 0.1": 4,
                  "timestamp": 1580774375394,
                  "vin": "00f3381dd2f2ab78011c562fa6127df7",
                  "sequence": 462,
                  "navigation_location_coordinate_latitude": 40.1824974,
                  "navigation_location_coordinate_longitude": -83.1936872,
                  "key": "eyJ0aW1lc3RhbXAiOjE1ODA3NzQzNzUzOTQsInZpbiI6IjAwZjMzODFkZDJmMmFiNzgwMTFjNTYyZmE2MTI3ZGY3In0=",
                  "_deepnote_index_column": 416744
                },
                {
                  "Unnamed: 0.1": 14,
                  "timestamp": 1580774377447,
                  "vin": "00f3381dd2f2ab78011c562fa6127df7",
                  "sequence": 462,
                  "navigation_location_coordinate_latitude": 40.1823705,
                  "navigation_location_coordinate_longitude": -83.1936653,
                  "key": "eyJ0aW1lc3RhbXAiOjE1ODA3NzQzNzc0NDcsInZpbiI6IjAwZjMzODFkZDJmMmFiNzgwMTFjNTYyZmE2MTI3ZGY3In0=",
                  "_deepnote_index_column": 416745
                },
                {
                  "Unnamed: 0.1": 21,
                  "timestamp": 1580774378397,
                  "vin": "00f3381dd2f2ab78011c562fa6127df7",
                  "sequence": 462,
                  "navigation_location_coordinate_latitude": 40.1823011,
                  "navigation_location_coordinate_longitude": -83.193655,
                  "key": "eyJ0aW1lc3RhbXAiOjE1ODA3NzQzNzgzOTcsInZpbiI6IjAwZjMzODFkZDJmMmFiNzgwMTFjNTYyZmE2MTI3ZGY3In0=",
                  "_deepnote_index_column": 416746
                },
                {
                  "Unnamed: 0.1": 25,
                  "timestamp": 1580774380410,
                  "vin": "00f3381dd2f2ab78011c562fa6127df7",
                  "sequence": 462,
                  "navigation_location_coordinate_latitude": 40.1821594,
                  "navigation_location_coordinate_longitude": -83.1936398,
                  "key": "eyJ0aW1lc3RhbXAiOjE1ODA3NzQzODA0MTAsInZpbiI6IjAwZjMzODFkZDJmMmFiNzgwMTFjNTYyZmE2MTI3ZGY3In0=",
                  "_deepnote_index_column": 416747
                },
                {
                  "Unnamed: 0.1": 31,
                  "timestamp": 1580774382399,
                  "vin": "00f3381dd2f2ab78011c562fa6127df7",
                  "sequence": 462,
                  "navigation_location_coordinate_latitude": 40.1820222,
                  "navigation_location_coordinate_longitude": -83.19363,
                  "key": "eyJ0aW1lc3RhbXAiOjE1ODA3NzQzODIzOTksInZpbiI6IjAwZjMzODFkZDJmMmFiNzgwMTFjNTYyZmE2MTI3ZGY3In0=",
                  "_deepnote_index_column": 416748
                },
                {
                  "Unnamed: 0.1": 36,
                  "timestamp": 1580774383409,
                  "vin": "00f3381dd2f2ab78011c562fa6127df7",
                  "sequence": 462,
                  "navigation_location_coordinate_latitude": 40.1819595,
                  "navigation_location_coordinate_longitude": -83.1936239,
                  "key": "eyJ0aW1lc3RhbXAiOjE1ODA3NzQzODM0MDksInZpbiI6IjAwZjMzODFkZDJmMmFiNzgwMTFjNTYyZmE2MTI3ZGY3In0=",
                  "_deepnote_index_column": 416749
                },
                {
                  "Unnamed: 0.1": 44,
                  "timestamp": 1580774384398,
                  "vin": "00f3381dd2f2ab78011c562fa6127df7",
                  "sequence": 462,
                  "navigation_location_coordinate_latitude": 40.1819063,
                  "navigation_location_coordinate_longitude": -83.1936158,
                  "key": "eyJ0aW1lc3RhbXAiOjE1ODA3NzQzODQzOTgsInZpbiI6IjAwZjMzODFkZDJmMmFiNzgwMTFjNTYyZmE2MTI3ZGY3In0=",
                  "_deepnote_index_column": 416750
                },
                {
                  "Unnamed: 0.1": 75,
                  "timestamp": 1580774389396,
                  "vin": "00f3381dd2f2ab78011c562fa6127df7",
                  "sequence": 462,
                  "navigation_location_coordinate_latitude": 40.181722,
                  "navigation_location_coordinate_longitude": -83.1935049,
                  "key": "eyJ0aW1lc3RhbXAiOjE1ODA3NzQzODkzOTYsInZpbiI6IjAwZjMzODFkZDJmMmFiNzgwMTFjNTYyZmE2MTI3ZGY3In0=",
                  "_deepnote_index_column": 416751
                },
                {
                  "Unnamed: 0.1": 85,
                  "timestamp": 1580774390396,
                  "vin": "00f3381dd2f2ab78011c562fa6127df7",
                  "sequence": 462,
                  "navigation_location_coordinate_latitude": 40.1816932,
                  "navigation_location_coordinate_longitude": -83.1934812,
                  "key": "eyJ0aW1lc3RhbXAiOjE1ODA3NzQzOTAzOTYsInZpbiI6IjAwZjMzODFkZDJmMmFiNzgwMTFjNTYyZmE2MTI3ZGY3In0=",
                  "_deepnote_index_column": 416752
                },
                {
                  "Unnamed: 0.1": 91,
                  "timestamp": 1580774391394,
                  "vin": "00f3381dd2f2ab78011c562fa6127df7",
                  "sequence": 462,
                  "navigation_location_coordinate_latitude": 40.1816666,
                  "navigation_location_coordinate_longitude": -83.1934681,
                  "key": "eyJ0aW1lc3RhbXAiOjE1ODA3NzQzOTEzOTQsInZpbiI6IjAwZjMzODFkZDJmMmFiNzgwMTFjNTYyZmE2MTI3ZGY3In0=",
                  "_deepnote_index_column": 416753
                },
                {
                  "Unnamed: 0.1": 0,
                  "timestamp": 1580774392400,
                  "vin": "00f3381dd2f2ab78011c562fa6127df7",
                  "sequence": 462,
                  "navigation_location_coordinate_latitude": 40.1816421,
                  "navigation_location_coordinate_longitude": -83.1934603,
                  "key": "eyJ0aW1lc3RhbXAiOjE1ODA3NzQzOTI0MDAsInZpbiI6IjAwZjMzODFkZDJmMmFiNzgwMTFjNTYyZmE2MTI3ZGY3In0=",
                  "_deepnote_index_column": 416754
                },
                {
                  "Unnamed: 0.1": 5,
                  "timestamp": 1580774393391,
                  "vin": "00f3381dd2f2ab78011c562fa6127df7",
                  "sequence": 462,
                  "navigation_location_coordinate_latitude": 40.1816205,
                  "navigation_location_coordinate_longitude": -83.1934548,
                  "key": "eyJ0aW1lc3RhbXAiOjE1ODA3NzQzOTMzOTEsInZpbiI6IjAwZjMzODFkZDJmMmFiNzgwMTFjNTYyZmE2MTI3ZGY3In0=",
                  "_deepnote_index_column": 416755
                },
                {
                  "Unnamed: 0.1": 12,
                  "timestamp": 1580774394399,
                  "vin": "00f3381dd2f2ab78011c562fa6127df7",
                  "sequence": 462,
                  "navigation_location_coordinate_latitude": 40.1816052,
                  "navigation_location_coordinate_longitude": -83.1934518,
                  "key": "eyJ0aW1lc3RhbXAiOjE1ODA3NzQzOTQzOTksInZpbiI6IjAwZjMzODFkZDJmMmFiNzgwMTFjNTYyZmE2MTI3ZGY3In0=",
                  "_deepnote_index_column": 416756
                },
                {
                  "Unnamed: 0.1": 26,
                  "timestamp": 1580774397394,
                  "vin": "00f3381dd2f2ab78011c562fa6127df7",
                  "sequence": 462,
                  "navigation_location_coordinate_latitude": 40.1815846,
                  "navigation_location_coordinate_longitude": -83.1934479,
                  "key": "eyJ0aW1lc3RhbXAiOjE1ODA3NzQzOTczOTQsInZpbiI6IjAwZjMzODFkZDJmMmFiNzgwMTFjNTYyZmE2MTI3ZGY3In0=",
                  "_deepnote_index_column": 416757
                },
                {
                  "Unnamed: 0.1": 35,
                  "timestamp": 1580774398399,
                  "vin": "00f3381dd2f2ab78011c562fa6127df7",
                  "sequence": 462,
                  "navigation_location_coordinate_latitude": 40.1815846,
                  "navigation_location_coordinate_longitude": -83.1934479,
                  "key": "eyJ0aW1lc3RhbXAiOjE1ODA3NzQzOTgzOTksInZpbiI6IjAwZjMzODFkZDJmMmFiNzgwMTFjNTYyZmE2MTI3ZGY3In0=",
                  "_deepnote_index_column": 416758
                },
                {
                  "Unnamed: 0.1": 51,
                  "timestamp": 1580774393856,
                  "vin": "0696bc7174d838c675dad4e3f245c4f8",
                  "sequence": 1004,
                  "navigation_location_coordinate_latitude": 40.022294,
                  "navigation_location_coordinate_longitude": -82.9339152,
                  "key": "eyJ0aW1lc3RhbXAiOjE1ODA3NzQzOTM4NTYsInZpbiI6IjA2OTZiYzcxNzRkODM4YzY3NWRhZDRlM2YyNDVjNGY4In0=",
                  "_deepnote_index_column": 416759
                },
                {
                  "Unnamed: 0.1": 57,
                  "timestamp": 1580774396887,
                  "vin": "0696bc7174d838c675dad4e3f245c4f8",
                  "sequence": 1004,
                  "navigation_location_coordinate_latitude": 40.0228174,
                  "navigation_location_coordinate_longitude": -82.9338893,
                  "key": "eyJ0aW1lc3RhbXAiOjE1ODA3NzQzOTY4ODcsInZpbiI6IjA2OTZiYzcxNzRkODM4YzY3NWRhZDRlM2YyNDVjNGY4In0=",
                  "_deepnote_index_column": 416760
                },
                {
                  "Unnamed: 0.1": 65,
                  "timestamp": 1580774398898,
                  "vin": "0696bc7174d838c675dad4e3f245c4f8",
                  "sequence": 1004,
                  "navigation_location_coordinate_latitude": 40.0231702,
                  "navigation_location_coordinate_longitude": -82.933865,
                  "key": "eyJ0aW1lc3RhbXAiOjE1ODA3NzQzOTg4OTgsInZpbiI6IjA2OTZiYzcxNzRkODM4YzY3NWRhZDRlM2YyNDVjNGY4In0=",
                  "_deepnote_index_column": 416761
                },
                {
                  "Unnamed: 0.1": 77,
                  "timestamp": 1580774393430,
                  "vin": "0bcc747a3058781002212b6269c3edc2",
                  "sequence": 361,
                  "navigation_location_coordinate_latitude": 40.278582,
                  "navigation_location_coordinate_longitude": -83.095721,
                  "key": "eyJ0aW1lc3RhbXAiOjE1ODA3NzQzOTM0MzAsInZpbiI6IjBiY2M3NDdhMzA1ODc4MTAwMjIxMmI2MjY5YzNlZGMyIn0=",
                  "_deepnote_index_column": 416762
                },
                {
                  "Unnamed: 0.1": 82,
                  "timestamp": 1580774394428,
                  "vin": "0bcc747a3058781002212b6269c3edc2",
                  "sequence": 361,
                  "navigation_location_coordinate_latitude": 40.278586,
                  "navigation_location_coordinate_longitude": -83.095693,
                  "key": "eyJ0aW1lc3RhbXAiOjE1ODA3NzQzOTQ0MjgsInZpbiI6IjBiY2M3NDdhMzA1ODc4MTAwMjIxMmI2MjY5YzNlZGMyIn0=",
                  "_deepnote_index_column": 416763
                },
                {
                  "Unnamed: 0.1": 95,
                  "timestamp": 1580774398437,
                  "vin": "0bcc747a3058781002212b6269c3edc2",
                  "sequence": 361,
                  "navigation_location_coordinate_latitude": 40.27859,
                  "navigation_location_coordinate_longitude": -83.095656,
                  "key": "eyJ0aW1lc3RhbXAiOjE1ODA3NzQzOTg0MzcsInZpbiI6IjBiY2M3NDdhMzA1ODc4MTAwMjIxMmI2MjY5YzNlZGMyIn0=",
                  "_deepnote_index_column": 416764
                },
                {
                  "Unnamed: 0.1": 4,
                  "timestamp": 1580774392576,
                  "vin": "123b9a7bbd7775662d3a55656dc2379b",
                  "sequence": 2065,
                  "navigation_location_coordinate_latitude": 39.911588,
                  "navigation_location_coordinate_longitude": -82.810107,
                  "key": "eyJ0aW1lc3RhbXAiOjE1ODA3NzQzOTI1NzYsInZpbiI6IjEyM2I5YTdiYmQ3Nzc1NjYyZDNhNTU2NTZkYzIzNzliIn0=",
                  "_deepnote_index_column": 416765
                },
                {
                  "Unnamed: 0.1": 72,
                  "timestamp": 1580774395585,
                  "vin": "123b9a7bbd7775662d3a55656dc2379b",
                  "sequence": 2065,
                  "navigation_location_coordinate_latitude": 39.911613,
                  "navigation_location_coordinate_longitude": -82.810595,
                  "key": "eyJ0aW1lc3RhbXAiOjE1ODA3NzQzOTU1ODUsInZpbiI6IjEyM2I5YTdiYmQ3Nzc1NjYyZDNhNTU2NTZkYzIzNzliIn0=",
                  "_deepnote_index_column": 416766
                },
                {
                  "Unnamed: 0.1": 18,
                  "timestamp": 1580774396586,
                  "vin": "123b9a7bbd7775662d3a55656dc2379b",
                  "sequence": 2065,
                  "navigation_location_coordinate_latitude": 39.911628,
                  "navigation_location_coordinate_longitude": -82.810793,
                  "key": "eyJ0aW1lc3RhbXAiOjE1ODA3NzQzOTY1ODYsInZpbiI6IjEyM2I5YTdiYmQ3Nzc1NjYyZDNhNTU2NTZkYzIzNzliIn0=",
                  "_deepnote_index_column": 416767
                },
                {
                  "Unnamed: 0.1": 80,
                  "timestamp": 1580774397589,
                  "vin": "123b9a7bbd7775662d3a55656dc2379b",
                  "sequence": 2065,
                  "navigation_location_coordinate_latitude": 39.911642,
                  "navigation_location_coordinate_longitude": -82.810996,
                  "key": "eyJ0aW1lc3RhbXAiOjE1ODA3NzQzOTc1ODksInZpbiI6IjEyM2I5YTdiYmQ3Nzc1NjYyZDNhNTU2NTZkYzIzNzliIn0=",
                  "_deepnote_index_column": 416768
                },
                {
                  "Unnamed: 0.1": 0,
                  "timestamp": 1580774399972,
                  "vin": "1356f34861fd4cf3d98dd81d3b2efeb2",
                  "sequence": 278,
                  "navigation_location_coordinate_latitude": 39.9703229,
                  "navigation_location_coordinate_longitude": -83.0224384,
                  "key": "eyJ0aW1lc3RhbXAiOjE1ODA3NzQzOTk5NzIsInZpbiI6IjEzNTZmMzQ4NjFmZDRjZjNkOThkZDgxZDNiMmVmZWIyIn0=",
                  "_deepnote_index_column": 416769
                },
                {
                  "Unnamed: 0.1": 3,
                  "timestamp": 1580774399978,
                  "vin": "647353ec630718a358cdfbf99a990888",
                  "sequence": 1407,
                  "navigation_location_coordinate_latitude": 40.0581582,
                  "navigation_location_coordinate_longitude": -82.8633754,
                  "key": "eyJ0aW1lc3RhbXAiOjE1ODA3NzQzOTk5NzgsInZpbiI6IjY0NzM1M2VjNjMwNzE4YTM1OGNkZmJmOTlhOTkwODg4In0=",
                  "_deepnote_index_column": 416770
                },
                {
                  "Unnamed: 0.1": 4,
                  "timestamp": 1580774399971,
                  "vin": "75745529f421c99f0636efa2f5ba6a4e",
                  "sequence": 1466,
                  "navigation_location_coordinate_latitude": 39.9717604,
                  "navigation_location_coordinate_longitude": -82.9159141,
                  "key": "eyJ0aW1lc3RhbXAiOjE1ODA3NzQzOTk5NzEsInZpbiI6Ijc1NzQ1NTI5ZjQyMWM5OWYwNjM2ZWZhMmY1YmE2YTRlIn0=",
                  "_deepnote_index_column": 416771
                },
                {
                  "Unnamed: 0.1": 5,
                  "timestamp": 1580774399978,
                  "vin": "86752012e17bbc28fb9b8f938412626a",
                  "sequence": 817,
                  "navigation_location_coordinate_latitude": 39.8509289,
                  "navigation_location_coordinate_longitude": -83.0812064,
                  "key": "eyJ0aW1lc3RhbXAiOjE1ODA3NzQzOTk5NzgsInZpbiI6Ijg2NzUyMDEyZTE3YmJjMjhmYjliOGY5Mzg0MTI2MjZhIn0=",
                  "_deepnote_index_column": 416772
                },
                {
                  "Unnamed: 0.1": 6,
                  "timestamp": 1580774399995,
                  "vin": "92e64fbb0355adc2c4cd663d288b7932",
                  "sequence": 26,
                  "navigation_location_coordinate_latitude": 39.8757136,
                  "navigation_location_coordinate_longitude": -83.0380503,
                  "key": "eyJ0aW1lc3RhbXAiOjE1ODA3NzQzOTk5OTUsInZpbiI6IjkyZTY0ZmJiMDM1NWFkYzJjNGNkNjYzZDI4OGI3OTMyIn0=",
                  "_deepnote_index_column": 416773
                },
                {
                  "Unnamed: 0.1": 7,
                  "timestamp": 1580774399993,
                  "vin": "cc63c9825a40f6dc03a7ccfc6cdc7e8d",
                  "sequence": 623,
                  "navigation_location_coordinate_latitude": 40.0892453,
                  "navigation_location_coordinate_longitude": -82.8386506,
                  "key": "eyJ0aW1lc3RhbXAiOjE1ODA3NzQzOTk5OTMsInZpbiI6ImNjNjNjOTgyNWE0MGY2ZGMwM2E3Y2NmYzZjZGM3ZThkIn0=",
                  "_deepnote_index_column": 416774
                }
              ]
            },
            "text/plain": "        Unnamed: 0.1      timestamp                               vin  \\\n352151         138.0  1578942333714  00089af9f7d3588a888379cf0ffc53cc   \n352152        3548.0  1578917535963  005b420fd9275f080ad79e1c4330357e   \n352153        3549.0  1578917659974  005b420fd9275f080ad79e1c4330357e   \n352154        3550.0  1578917668955  005b420fd9275f080ad79e1c4330357e   \n352155        3556.0  1578918206960  005b420fd9275f080ad79e1c4330357e   \n...              ...            ...                               ...   \n416770           3.0  1580774399978  647353ec630718a358cdfbf99a990888   \n416771           4.0  1580774399971  75745529f421c99f0636efa2f5ba6a4e   \n416772           5.0  1580774399978  86752012e17bbc28fb9b8f938412626a   \n416773           6.0  1580774399995  92e64fbb0355adc2c4cd663d288b7932   \n416774           7.0  1580774399993  cc63c9825a40f6dc03a7ccfc6cdc7e8d   \n\n        sequence  navigation_location_coordinate_latitude  \\\n352151       733                                41.492962   \n352152      1142                                41.335046   \n352153      1142                                41.337986   \n352154      1142                                41.338722   \n352155      1142                                41.292217   \n...          ...                                      ...   \n416770      1407                                40.058158   \n416771      1466                                39.971760   \n416772       817                                39.850929   \n416773        26                                39.875714   \n416774       623                                40.089245   \n\n        navigation_location_coordinate_longitude  \\\n352151                                -81.995163   \n352152                                -81.398117   \n352153                                -81.402637   \n352154                                -81.403610   \n352155                                -81.409466   \n...                                          ...   \n416770                                -82.863375   \n416771                                -82.915914   \n416772                                -83.081206   \n416773                                -83.038050   \n416774                                -82.838651   \n\n                                                      key  \n352151  eyJ0aW1lc3RhbXAiOjE1Nzg5NDIzMzM3MTQsInZpbiI6Ij...  \n352152  eyJ0aW1lc3RhbXAiOjE1Nzg5MTc1MzU5NjMsInZpbiI6Ij...  \n352153  eyJ0aW1lc3RhbXAiOjE1Nzg5MTc2NTk5NzQsInZpbiI6Ij...  \n352154  eyJ0aW1lc3RhbXAiOjE1Nzg5MTc2Njg5NTUsInZpbiI6Ij...  \n352155  eyJ0aW1lc3RhbXAiOjE1Nzg5MTgyMDY5NjAsInZpbiI6Ij...  \n...                                                   ...  \n416770  eyJ0aW1lc3RhbXAiOjE1ODA3NzQzOTk5NzgsInZpbiI6Ij...  \n416771  eyJ0aW1lc3RhbXAiOjE1ODA3NzQzOTk5NzEsInZpbiI6Ij...  \n416772  eyJ0aW1lc3RhbXAiOjE1ODA3NzQzOTk5NzgsInZpbiI6Ij...  \n416773  eyJ0aW1lc3RhbXAiOjE1ODA3NzQzOTk5OTUsInZpbiI6Ij...  \n416774  eyJ0aW1lc3RhbXAiOjE1ODA3NzQzOTk5OTMsInZpbiI6Im...  \n\n[64624 rows x 7 columns]",
            "text/html": "<div>\n<style scoped>\n    .dataframe tbody tr th:only-of-type {\n        vertical-align: middle;\n    }\n\n    .dataframe tbody tr th {\n        vertical-align: top;\n    }\n\n    .dataframe thead th {\n        text-align: right;\n    }\n</style>\n<table border=\"1\" class=\"dataframe\">\n  <thead>\n    <tr style=\"text-align: right;\">\n      <th></th>\n      <th>Unnamed: 0.1</th>\n      <th>timestamp</th>\n      <th>vin</th>\n      <th>sequence</th>\n      <th>navigation_location_coordinate_latitude</th>\n      <th>navigation_location_coordinate_longitude</th>\n      <th>key</th>\n    </tr>\n  </thead>\n  <tbody>\n    <tr>\n      <th>352151</th>\n      <td>138.0</td>\n      <td>1578942333714</td>\n      <td>00089af9f7d3588a888379cf0ffc53cc</td>\n      <td>733</td>\n      <td>41.492962</td>\n      <td>-81.995163</td>\n      <td>eyJ0aW1lc3RhbXAiOjE1Nzg5NDIzMzM3MTQsInZpbiI6Ij...</td>\n    </tr>\n    <tr>\n      <th>352152</th>\n      <td>3548.0</td>\n      <td>1578917535963</td>\n      <td>005b420fd9275f080ad79e1c4330357e</td>\n      <td>1142</td>\n      <td>41.335046</td>\n      <td>-81.398117</td>\n      <td>eyJ0aW1lc3RhbXAiOjE1Nzg5MTc1MzU5NjMsInZpbiI6Ij...</td>\n    </tr>\n    <tr>\n      <th>352153</th>\n      <td>3549.0</td>\n      <td>1578917659974</td>\n      <td>005b420fd9275f080ad79e1c4330357e</td>\n      <td>1142</td>\n      <td>41.337986</td>\n      <td>-81.402637</td>\n      <td>eyJ0aW1lc3RhbXAiOjE1Nzg5MTc2NTk5NzQsInZpbiI6Ij...</td>\n    </tr>\n    <tr>\n      <th>352154</th>\n      <td>3550.0</td>\n      <td>1578917668955</td>\n      <td>005b420fd9275f080ad79e1c4330357e</td>\n      <td>1142</td>\n      <td>41.338722</td>\n      <td>-81.403610</td>\n      <td>eyJ0aW1lc3RhbXAiOjE1Nzg5MTc2Njg5NTUsInZpbiI6Ij...</td>\n    </tr>\n    <tr>\n      <th>352155</th>\n      <td>3556.0</td>\n      <td>1578918206960</td>\n      <td>005b420fd9275f080ad79e1c4330357e</td>\n      <td>1142</td>\n      <td>41.292217</td>\n      <td>-81.409466</td>\n      <td>eyJ0aW1lc3RhbXAiOjE1Nzg5MTgyMDY5NjAsInZpbiI6Ij...</td>\n    </tr>\n    <tr>\n      <th>...</th>\n      <td>...</td>\n      <td>...</td>\n      <td>...</td>\n      <td>...</td>\n      <td>...</td>\n      <td>...</td>\n      <td>...</td>\n    </tr>\n    <tr>\n      <th>416770</th>\n      <td>3.0</td>\n      <td>1580774399978</td>\n      <td>647353ec630718a358cdfbf99a990888</td>\n      <td>1407</td>\n      <td>40.058158</td>\n      <td>-82.863375</td>\n      <td>eyJ0aW1lc3RhbXAiOjE1ODA3NzQzOTk5NzgsInZpbiI6Ij...</td>\n    </tr>\n    <tr>\n      <th>416771</th>\n      <td>4.0</td>\n      <td>1580774399971</td>\n      <td>75745529f421c99f0636efa2f5ba6a4e</td>\n      <td>1466</td>\n      <td>39.971760</td>\n      <td>-82.915914</td>\n      <td>eyJ0aW1lc3RhbXAiOjE1ODA3NzQzOTk5NzEsInZpbiI6Ij...</td>\n    </tr>\n    <tr>\n      <th>416772</th>\n      <td>5.0</td>\n      <td>1580774399978</td>\n      <td>86752012e17bbc28fb9b8f938412626a</td>\n      <td>817</td>\n      <td>39.850929</td>\n      <td>-83.081206</td>\n      <td>eyJ0aW1lc3RhbXAiOjE1ODA3NzQzOTk5NzgsInZpbiI6Ij...</td>\n    </tr>\n    <tr>\n      <th>416773</th>\n      <td>6.0</td>\n      <td>1580774399995</td>\n      <td>92e64fbb0355adc2c4cd663d288b7932</td>\n      <td>26</td>\n      <td>39.875714</td>\n      <td>-83.038050</td>\n      <td>eyJ0aW1lc3RhbXAiOjE1ODA3NzQzOTk5OTUsInZpbiI6Ij...</td>\n    </tr>\n    <tr>\n      <th>416774</th>\n      <td>7.0</td>\n      <td>1580774399993</td>\n      <td>cc63c9825a40f6dc03a7ccfc6cdc7e8d</td>\n      <td>623</td>\n      <td>40.089245</td>\n      <td>-82.838651</td>\n      <td>eyJ0aW1lc3RhbXAiOjE1ODA3NzQzOTk5OTMsInZpbiI6Im...</td>\n    </tr>\n  </tbody>\n</table>\n<p>64624 rows × 7 columns</p>\n</div>"
          },
          "metadata": {}
        }
      ],
      "execution_count": null
    },
    {
      "cell_type": "code",
      "metadata": {
        "tags": [],
        "cell_id": "00004-28ef2097-b102-4809-9fc4-c6a17fe58c80",
        "deepnote_to_be_reexecuted": false,
        "source_hash": "a8786dd6",
        "execution_millis": 1,
        "execution_start": 1620255794642,
        "deepnote_cell_type": "code"
      },
      "source": "\"\"\"\n\nConverting the timestamp column in the dataframe from milliseconds into seconds.\n\nMaking a new column in the dataframe with the converted timestamp column as a datetime object.\n\n\"\"\"\n\nnewdata['timestamp'] = newdata['timestamp']/1000\nnewdata['datetime'] = pd.to_datetime(newdata['timestamp'], unit = 's')",
      "outputs": [],
      "execution_count": null
    },
    {
      "cell_type": "code",
      "metadata": {
        "tags": [],
        "cell_id": "00005-8863458d-3eff-477f-97a8-6943865ebd64",
        "deepnote_to_be_reexecuted": false,
        "source_hash": "b1e75b1e",
        "execution_millis": 88,
        "execution_start": 1620255796164,
        "deepnote_cell_type": "code"
      },
      "source": "## Getting first and last locations based on trip_sequence(engine cycle)\ndatetimeFormat = '%Y-%m-%d %H:%M:%S.%f'\ntimeline_df = newdata.groupby(\"sequence\")[\"datetime\"].agg([\"first\",\"last\"])\ntimeline_df\n\n## Getting the last latitude and longitude for each trip or sequence\ntimeline_df[\"latitude\"] = newdata.groupby(\"sequence\")[\"navigation_location_coordinate_latitude\"].agg([\"last\"])\ntimeline_df[\"longitude\"] = newdata.groupby(\"sequence\")[\"navigation_location_coordinate_longitude\"].agg([\"last\"])\n\nx = timeline_df[\"last\"]-timeline_df[\"first\"]\nduration = pd.to_timedelta(x.values, unit = 's').total_seconds()\ntimeline_df[\"trip_duration_s\"] = duration",
      "outputs": [],
      "execution_count": null
    },
    {
      "cell_type": "code",
      "metadata": {
        "tags": [],
        "cell_id": "00006-4103d6b1-f750-46a3-8765-d019ceeaf3a2",
        "deepnote_to_be_reexecuted": false,
        "source_hash": "56df70a2",
        "execution_millis": 4,
        "execution_start": 1620255797383,
        "deepnote_cell_type": "code"
      },
      "source": "\"\"\"\nProcess filtered dataframe into a dataframe grouped by vin and sequence and aggregate by first \nand last to find the start latitude and longitudes and end latitudes and longitudes.\n\n    Returns:\n    _ _ _ _ _ _ _ _ _ _ _ _ _\n    Dataframe grouped by vin and sequence with four new columns for start/end latitudes and longitudes.\n\n\"\"\"\ndef gen_timeline_df(df):\n    timeline = df.groupby([\"vin\",\"sequence\"])[\"timestamp\"].agg([\"first\",\"last\"])\n    timeline[\"start_lat\"] = df.groupby([\"vin\",\"sequence\"])[\"navigation_location_coordinate_latitude\"].agg([\"first\"])\n    timeline[\"start_long\"] = df.groupby([\"vin\",\"sequence\"])[\"navigation_location_coordinate_longitude\"].agg([\"first\"])\n    timeline[\"latitude\"] = df.groupby([\"vin\",\"sequence\"])[\"navigation_location_coordinate_latitude\"].agg([\"last\"])\n    timeline[\"longitude\"] = df.groupby([\"vin\",\"sequence\"])[\"navigation_location_coordinate_longitude\"].agg([\"last\"])\n    return timeline\n\"\"\"\nProcess filtered dataframe into a dataframe with the dwell time duration for each completed trip\n(time of previous trip location with engine off to time of current trip with engine on)\n    \n    Returns:\n    _ _ _ _ _ _ _ _ _ _ _ _ _\n    Dataframe with new column for dwell time duration in seconds.\n\n\"\"\"\ndef calc_dwell_duration(df):\n    df['dwell time duration (seconds)'] = ''\n    vins = df.index.levels[0]\n    for i in vins:\n        num_trips = len(df.loc[i])\n        for j in np.arange(num_trips):\n            if j == 0:\n                ## first trip has no associated dwell time\n                df.loc[i].iloc[j,6] = ''\n            else:\n                ## find differences in timestamps between consecutive trips (dwell time)\n                if df.loc[i].iloc[j, 0] - df.loc[i].iloc[j - 1, 1] < 0:\n                    df.loc[i].iloc[j,6] = ''\n                else:\n                    df.loc[i].iloc[j,6] = df.loc[i].iloc[j, 0] - df.loc[i].iloc[j - 1, 1]\n    \n",
      "outputs": [],
      "execution_count": null
    },
    {
      "cell_type": "code",
      "metadata": {
        "tags": [],
        "cell_id": "00007-883c12e7-070d-42f1-9055-64d86cc0d6ae",
        "deepnote_to_be_reexecuted": false,
        "source_hash": "36d110de",
        "execution_millis": 1728,
        "execution_start": 1620255797994,
        "deepnote_cell_type": "code"
      },
      "source": "\"\"\"\n\nCreate a new dataframe with the original newdata dataframe using the two functions above to find \nthe dwell time duration in seconds.\n\n\"\"\"\ndwell_df = gen_timeline_df(newdata)\ncalc_dwell_duration(dwell_df)\ndwell_df.loc['123b9a7bbd7775662d3a55656dc2379b']",
      "outputs": [
        {
          "name": "stderr",
          "text": "/shared-libs/python3.9/py/lib/python3.9/site-packages/pandas/core/indexing.py:1720: SettingWithCopyWarning: \nA value is trying to be set on a copy of a slice from a DataFrame.\nTry using .loc[row_indexer,col_indexer] = value instead\n\nSee the caveats in the documentation: https://pandas.pydata.org/pandas-docs/stable/user_guide/indexing.html#returning-a-view-versus-a-copy\n  self._setitem_single_column(loc, value, pi)\n",
          "output_type": "stream"
        },
        {
          "output_type": "execute_result",
          "execution_count": 25,
          "data": {
            "application/vnd.deepnote.dataframe.v2+json": {
              "row_count": 3,
              "column_count": 7,
              "columns": [
                {
                  "name": "first",
                  "dtype": "float64",
                  "stats": {
                    "unique_count": 3,
                    "nan_count": 0,
                    "min": "1580767460.995",
                    "max": "1580774190.542",
                    "histogram": [
                      {
                        "bin_start": 1580767460.995,
                        "bin_end": 1580768133.9496999,
                        "count": 2
                      },
                      {
                        "bin_start": 1580768133.9496999,
                        "bin_end": 1580768806.9043999,
                        "count": 0
                      },
                      {
                        "bin_start": 1580768806.9043999,
                        "bin_end": 1580769479.8590999,
                        "count": 0
                      },
                      {
                        "bin_start": 1580769479.8590999,
                        "bin_end": 1580770152.8137999,
                        "count": 0
                      },
                      {
                        "bin_start": 1580770152.8137999,
                        "bin_end": 1580770825.7684999,
                        "count": 0
                      },
                      {
                        "bin_start": 1580770825.7684999,
                        "bin_end": 1580771498.7232,
                        "count": 0
                      },
                      {
                        "bin_start": 1580771498.7232,
                        "bin_end": 1580772171.6779,
                        "count": 0
                      },
                      {
                        "bin_start": 1580772171.6779,
                        "bin_end": 1580772844.6326,
                        "count": 0
                      },
                      {
                        "bin_start": 1580772844.6326,
                        "bin_end": 1580773517.5873,
                        "count": 0
                      },
                      {
                        "bin_start": 1580773517.5873,
                        "bin_end": 1580774190.542,
                        "count": 1
                      }
                    ]
                  }
                },
                {
                  "name": "last",
                  "dtype": "float64",
                  "stats": {
                    "unique_count": 3,
                    "nan_count": 0,
                    "min": "1580768000.009",
                    "max": "1580774397.589",
                    "histogram": [
                      {
                        "bin_start": 1580768000.009,
                        "bin_end": 1580768639.767,
                        "count": 1
                      },
                      {
                        "bin_start": 1580768639.767,
                        "bin_end": 1580769279.525,
                        "count": 0
                      },
                      {
                        "bin_start": 1580769279.525,
                        "bin_end": 1580769919.283,
                        "count": 1
                      },
                      {
                        "bin_start": 1580769919.283,
                        "bin_end": 1580770559.0410001,
                        "count": 0
                      },
                      {
                        "bin_start": 1580770559.0410001,
                        "bin_end": 1580771198.799,
                        "count": 0
                      },
                      {
                        "bin_start": 1580771198.799,
                        "bin_end": 1580771838.557,
                        "count": 0
                      },
                      {
                        "bin_start": 1580771838.557,
                        "bin_end": 1580772478.315,
                        "count": 0
                      },
                      {
                        "bin_start": 1580772478.315,
                        "bin_end": 1580773118.073,
                        "count": 0
                      },
                      {
                        "bin_start": 1580773118.073,
                        "bin_end": 1580773757.831,
                        "count": 0
                      },
                      {
                        "bin_start": 1580773757.831,
                        "bin_end": 1580774397.589,
                        "count": 1
                      }
                    ]
                  }
                },
                {
                  "name": "start_lat",
                  "dtype": "float64",
                  "stats": {
                    "unique_count": 3,
                    "nan_count": 0,
                    "min": "39.911455",
                    "max": "41.5261629",
                    "histogram": [
                      {
                        "bin_start": 39.911455,
                        "bin_end": 40.07292579,
                        "count": 1
                      },
                      {
                        "bin_start": 40.07292579,
                        "bin_end": 40.234396579999995,
                        "count": 1
                      },
                      {
                        "bin_start": 40.234396579999995,
                        "bin_end": 40.39586737,
                        "count": 0
                      },
                      {
                        "bin_start": 40.39586737,
                        "bin_end": 40.55733816,
                        "count": 0
                      },
                      {
                        "bin_start": 40.55733816,
                        "bin_end": 40.718808949999996,
                        "count": 0
                      },
                      {
                        "bin_start": 40.718808949999996,
                        "bin_end": 40.88027974,
                        "count": 0
                      },
                      {
                        "bin_start": 40.88027974,
                        "bin_end": 41.04175053,
                        "count": 0
                      },
                      {
                        "bin_start": 41.04175053,
                        "bin_end": 41.203221320000004,
                        "count": 0
                      },
                      {
                        "bin_start": 41.203221320000004,
                        "bin_end": 41.36469211,
                        "count": 0
                      },
                      {
                        "bin_start": 41.36469211,
                        "bin_end": 41.5261629,
                        "count": 1
                      }
                    ]
                  }
                },
                {
                  "name": "start_long",
                  "dtype": "float64",
                  "stats": {
                    "unique_count": 3,
                    "nan_count": 0,
                    "min": "-83.633261",
                    "max": "-82.776403",
                    "histogram": [
                      {
                        "bin_start": -83.633261,
                        "bin_end": -83.54757520000001,
                        "count": 1
                      },
                      {
                        "bin_start": -83.54757520000001,
                        "bin_end": -83.4618894,
                        "count": 0
                      },
                      {
                        "bin_start": -83.4618894,
                        "bin_end": -83.3762036,
                        "count": 0
                      },
                      {
                        "bin_start": -83.3762036,
                        "bin_end": -83.2905178,
                        "count": 0
                      },
                      {
                        "bin_start": -83.2905178,
                        "bin_end": -83.20483200000001,
                        "count": 0
                      },
                      {
                        "bin_start": -83.20483200000001,
                        "bin_end": -83.1191462,
                        "count": 0
                      },
                      {
                        "bin_start": -83.1191462,
                        "bin_end": -83.0334604,
                        "count": 0
                      },
                      {
                        "bin_start": -83.0334604,
                        "bin_end": -82.9477746,
                        "count": 0
                      },
                      {
                        "bin_start": -82.9477746,
                        "bin_end": -82.86208880000001,
                        "count": 0
                      },
                      {
                        "bin_start": -82.86208880000001,
                        "bin_end": -82.776403,
                        "count": 2
                      }
                    ]
                  }
                },
                {
                  "name": "latitude",
                  "dtype": "float64",
                  "stats": {
                    "unique_count": 3,
                    "nan_count": 0,
                    "min": "39.911642",
                    "max": "41.5707693",
                    "histogram": [
                      {
                        "bin_start": 39.911642,
                        "bin_end": 40.07755473,
                        "count": 1
                      },
                      {
                        "bin_start": 40.07755473,
                        "bin_end": 40.24346746,
                        "count": 1
                      },
                      {
                        "bin_start": 40.24346746,
                        "bin_end": 40.40938019,
                        "count": 0
                      },
                      {
                        "bin_start": 40.40938019,
                        "bin_end": 40.57529292,
                        "count": 0
                      },
                      {
                        "bin_start": 40.57529292,
                        "bin_end": 40.74120565,
                        "count": 0
                      },
                      {
                        "bin_start": 40.74120565,
                        "bin_end": 40.90711838,
                        "count": 0
                      },
                      {
                        "bin_start": 40.90711838,
                        "bin_end": 41.07303111,
                        "count": 0
                      },
                      {
                        "bin_start": 41.07303111,
                        "bin_end": 41.238943840000005,
                        "count": 0
                      },
                      {
                        "bin_start": 41.238943840000005,
                        "bin_end": 41.40485657,
                        "count": 0
                      },
                      {
                        "bin_start": 41.40485657,
                        "bin_end": 41.5707693,
                        "count": 1
                      }
                    ]
                  }
                },
                {
                  "name": "longitude",
                  "dtype": "float64",
                  "stats": {
                    "unique_count": 3,
                    "nan_count": 0,
                    "min": "-83.6579307",
                    "max": "-82.810996",
                    "histogram": [
                      {
                        "bin_start": -83.6579307,
                        "bin_end": -83.57323722999999,
                        "count": 1
                      },
                      {
                        "bin_start": -83.57323722999999,
                        "bin_end": -83.48854376,
                        "count": 0
                      },
                      {
                        "bin_start": -83.48854376,
                        "bin_end": -83.40385029,
                        "count": 0
                      },
                      {
                        "bin_start": -83.40385029,
                        "bin_end": -83.31915682,
                        "count": 0
                      },
                      {
                        "bin_start": -83.31915682,
                        "bin_end": -83.23446335,
                        "count": 0
                      },
                      {
                        "bin_start": -83.23446335,
                        "bin_end": -83.14976988,
                        "count": 0
                      },
                      {
                        "bin_start": -83.14976988,
                        "bin_end": -83.06507641,
                        "count": 1
                      },
                      {
                        "bin_start": -83.06507641,
                        "bin_end": -82.98038294,
                        "count": 0
                      },
                      {
                        "bin_start": -82.98038294,
                        "bin_end": -82.89568947000001,
                        "count": 0
                      },
                      {
                        "bin_start": -82.89568947000001,
                        "bin_end": -82.810996,
                        "count": 1
                      }
                    ]
                  }
                },
                {
                  "name": "dwell time duration (seconds)",
                  "dtype": "object",
                  "stats": {
                    "unique_count": 2,
                    "nan_count": 0,
                    "categories": [
                      {
                        "name": "",
                        "count": 2
                      },
                      {
                        "name": "6190.532999992371",
                        "count": 1
                      }
                    ]
                  }
                },
                {
                  "name": "_deepnote_index_column",
                  "dtype": "int64"
                }
              ],
              "rows_top": [
                {
                  "first": 1580767608.496,
                  "last": 1580769818.862,
                  "start_lat": 40.092665,
                  "start_long": -82.776403,
                  "latitude": 40.161695,
                  "longitude": -83.146587,
                  "dwell time duration (seconds)": "",
                  "_deepnote_index_column": 182
                },
                {
                  "first": 1580767460.995,
                  "last": 1580768000.009,
                  "start_lat": 41.5261629,
                  "start_long": -83.633261,
                  "latitude": 41.5707693,
                  "longitude": -83.6579307,
                  "dwell time duration (seconds)": "",
                  "_deepnote_index_column": 1185
                },
                {
                  "first": 1580774190.542,
                  "last": 1580774397.589,
                  "start_lat": 39.911455,
                  "start_long": -82.784533,
                  "latitude": 39.911642,
                  "longitude": -82.810996,
                  "dwell time duration (seconds)": "6190.532999992371",
                  "_deepnote_index_column": 2065
                }
              ],
              "rows_bottom": null
            },
            "text/plain": "                 first          last  start_lat  start_long   latitude  \\\nsequence                                                                 \n182       1.580768e+09  1.580770e+09  40.092665  -82.776403  40.161695   \n1185      1.580767e+09  1.580768e+09  41.526163  -83.633261  41.570769   \n2065      1.580774e+09  1.580774e+09  39.911455  -82.784533  39.911642   \n\n          longitude dwell time duration (seconds)  \nsequence                                           \n182      -83.146587                                \n1185     -83.657931                                \n2065     -82.810996                      6190.533  ",
            "text/html": "<div>\n<style scoped>\n    .dataframe tbody tr th:only-of-type {\n        vertical-align: middle;\n    }\n\n    .dataframe tbody tr th {\n        vertical-align: top;\n    }\n\n    .dataframe thead th {\n        text-align: right;\n    }\n</style>\n<table border=\"1\" class=\"dataframe\">\n  <thead>\n    <tr style=\"text-align: right;\">\n      <th></th>\n      <th>first</th>\n      <th>last</th>\n      <th>start_lat</th>\n      <th>start_long</th>\n      <th>latitude</th>\n      <th>longitude</th>\n      <th>dwell time duration (seconds)</th>\n    </tr>\n    <tr>\n      <th>sequence</th>\n      <th></th>\n      <th></th>\n      <th></th>\n      <th></th>\n      <th></th>\n      <th></th>\n      <th></th>\n    </tr>\n  </thead>\n  <tbody>\n    <tr>\n      <th>182</th>\n      <td>1.580768e+09</td>\n      <td>1.580770e+09</td>\n      <td>40.092665</td>\n      <td>-82.776403</td>\n      <td>40.161695</td>\n      <td>-83.146587</td>\n      <td></td>\n    </tr>\n    <tr>\n      <th>1185</th>\n      <td>1.580767e+09</td>\n      <td>1.580768e+09</td>\n      <td>41.526163</td>\n      <td>-83.633261</td>\n      <td>41.570769</td>\n      <td>-83.657931</td>\n      <td></td>\n    </tr>\n    <tr>\n      <th>2065</th>\n      <td>1.580774e+09</td>\n      <td>1.580774e+09</td>\n      <td>39.911455</td>\n      <td>-82.784533</td>\n      <td>39.911642</td>\n      <td>-82.810996</td>\n      <td>6190.533</td>\n    </tr>\n  </tbody>\n</table>\n</div>"
          },
          "metadata": {}
        }
      ],
      "execution_count": null
    },
    {
      "cell_type": "code",
      "metadata": {
        "tags": [],
        "cell_id": "00008-dddde421-1fc1-4879-b83c-c55e0a9784fb",
        "deepnote_to_be_reexecuted": false,
        "source_hash": "2568a5f1",
        "execution_millis": 25,
        "execution_start": 1620255799729,
        "deepnote_cell_type": "code"
      },
      "source": "\"\"\"\n\nConvert final dataframe with all necessary columns into a csv file to import into other notebooks\nfor model implementation.\n\n\"\"\"\ndwell_df.to_csv(\"final_dwell_duration.csv\", index = True,  float_format='%.3f' )",
      "outputs": [],
      "execution_count": null
    },
    {
      "cell_type": "code",
      "metadata": {
        "tags": [],
        "cell_id": "00009-043188e3-4643-4367-928d-afaccddc021a",
        "deepnote_to_be_reexecuted": false,
        "source_hash": "f804c160",
        "execution_millis": 278,
        "execution_start": 1617929518452,
        "deepnote_cell_type": "code"
      },
      "source": "",
      "execution_count": null,
      "outputs": [
        {
          "output_type": "execute_result",
          "execution_count": 31,
          "data": {
            "application/vnd.deepnote.dataframe.v2+json": {
              "row_count": 671439,
              "column_count": 8,
              "columns": [
                {
                  "name": "Unnamed: 0.1",
                  "dtype": "float64"
                },
                {
                  "name": "timestamp",
                  "dtype": "float64"
                },
                {
                  "name": "vin",
                  "dtype": "object"
                },
                {
                  "name": "sequence",
                  "dtype": "int64"
                },
                {
                  "name": "navigation_location_coordinate_latitude",
                  "dtype": "float64"
                },
                {
                  "name": "navigation_location_coordinate_longitude",
                  "dtype": "float64"
                },
                {
                  "name": "key",
                  "dtype": "object"
                },
                {
                  "name": "datetime",
                  "dtype": "datetime64[ns]"
                },
                {
                  "name": "_deepnote_index_column",
                  "dtype": "int64"
                }
              ],
              "rows_top": [
                {
                  "Unnamed: 0.1": 138,
                  "timestamp": 1578942333.714,
                  "vin": "00089af9f7d3588a888379cf0ffc53cc",
                  "sequence": 733,
                  "navigation_location_coordinate_latitude": 41.492962,
                  "navigation_location_coordinate_longitude": -81.995163,
                  "key": "eyJ0aW1lc3RhbXAiOjE1Nzg5NDIzMzM3MTQsInZpbiI6IjAwMDg5YWY5ZjdkMzU4OGE4ODgzNzljZjBmZmM1M2NjIn0=",
                  "datetime": "2020-01-13T19:05:33.713999",
                  "_deepnote_index_column": 0
                },
                {
                  "Unnamed: 0.1": 3548,
                  "timestamp": 1578917535.963,
                  "vin": "005b420fd9275f080ad79e1c4330357e",
                  "sequence": 1142,
                  "navigation_location_coordinate_latitude": 41.3350458,
                  "navigation_location_coordinate_longitude": -81.398117,
                  "key": "eyJ0aW1lc3RhbXAiOjE1Nzg5MTc1MzU5NjMsInZpbiI6IjAwNWI0MjBmZDkyNzVmMDgwYWQ3OWUxYzQzMzAzNTdlIn0=",
                  "datetime": "2020-01-13T12:12:15.963000",
                  "_deepnote_index_column": 1
                },
                {
                  "Unnamed: 0.1": 3549,
                  "timestamp": 1578917659.974,
                  "vin": "005b420fd9275f080ad79e1c4330357e",
                  "sequence": 1142,
                  "navigation_location_coordinate_latitude": 41.3379859,
                  "navigation_location_coordinate_longitude": -81.4026373,
                  "key": "eyJ0aW1lc3RhbXAiOjE1Nzg5MTc2NTk5NzQsInZpbiI6IjAwNWI0MjBmZDkyNzVmMDgwYWQ3OWUxYzQzMzAzNTdlIn0=",
                  "datetime": "2020-01-13T12:14:19.973999",
                  "_deepnote_index_column": 2
                },
                {
                  "Unnamed: 0.1": 3550,
                  "timestamp": 1578917668.955,
                  "vin": "005b420fd9275f080ad79e1c4330357e",
                  "sequence": 1142,
                  "navigation_location_coordinate_latitude": 41.3387224,
                  "navigation_location_coordinate_longitude": -81.4036095,
                  "key": "eyJ0aW1lc3RhbXAiOjE1Nzg5MTc2Njg5NTUsInZpbiI6IjAwNWI0MjBmZDkyNzVmMDgwYWQ3OWUxYzQzMzAzNTdlIn0=",
                  "datetime": "2020-01-13T12:14:28.954999",
                  "_deepnote_index_column": 3
                },
                {
                  "Unnamed: 0.1": 3556,
                  "timestamp": 1578918206.96,
                  "vin": "005b420fd9275f080ad79e1c4330357e",
                  "sequence": 1142,
                  "navigation_location_coordinate_latitude": 41.2922165,
                  "navigation_location_coordinate_longitude": -81.4094663,
                  "key": "eyJ0aW1lc3RhbXAiOjE1Nzg5MTgyMDY5NjAsInZpbiI6IjAwNWI0MjBmZDkyNzVmMDgwYWQ3OWUxYzQzMzAzNTdlIn0=",
                  "datetime": "2020-01-13T12:23:26.960000",
                  "_deepnote_index_column": 4
                },
                {
                  "Unnamed: 0.1": 3564,
                  "timestamp": 1578927144.985,
                  "vin": "005b420fd9275f080ad79e1c4330357e",
                  "sequence": 1143,
                  "navigation_location_coordinate_latitude": 41.2671182,
                  "navigation_location_coordinate_longitude": -81.3784668,
                  "key": "eyJ0aW1lc3RhbXAiOjE1Nzg5MjcxNDQ5ODUsInZpbiI6IjAwNWI0MjBmZDkyNzVmMDgwYWQ3OWUxYzQzMzAzNTdlIn0=",
                  "datetime": "2020-01-13T14:52:24.984999",
                  "_deepnote_index_column": 5
                },
                {
                  "Unnamed: 0.1": 3570,
                  "timestamp": 1578927994.968,
                  "vin": "005b420fd9275f080ad79e1c4330357e",
                  "sequence": 1143,
                  "navigation_location_coordinate_latitude": 41.4099042,
                  "navigation_location_coordinate_longitude": -81.4997248,
                  "key": "eyJ0aW1lc3RhbXAiOjE1Nzg5Mjc5OTQ5NjgsInZpbiI6IjAwNWI0MjBmZDkyNzVmMDgwYWQ3OWUxYzQzMzAzNTdlIn0=",
                  "datetime": "2020-01-13T15:06:34.968000",
                  "_deepnote_index_column": 6
                },
                {
                  "Unnamed: 0.1": 3591,
                  "timestamp": 1578938069.94,
                  "vin": "005b420fd9275f080ad79e1c4330357e",
                  "sequence": 1145,
                  "navigation_location_coordinate_latitude": 41.394377,
                  "navigation_location_coordinate_longitude": -81.4130821,
                  "key": "eyJ0aW1lc3RhbXAiOjE1Nzg5MzgwNjk5NDAsInZpbiI6IjAwNWI0MjBmZDkyNzVmMDgwYWQ3OWUxYzQzMzAzNTdlIn0=",
                  "datetime": "2020-01-13T17:54:29.940000",
                  "_deepnote_index_column": 7
                },
                {
                  "Unnamed: 0.1": 3606,
                  "timestamp": 1578938869.071,
                  "vin": "005b420fd9275f080ad79e1c4330357e",
                  "sequence": 1145,
                  "navigation_location_coordinate_latitude": 41.4127244,
                  "navigation_location_coordinate_longitude": -81.5055703,
                  "key": "eyJ0aW1lc3RhbXAiOjE1Nzg5Mzg4NjkwNzEsInZpbiI6IjAwNWI0MjBmZDkyNzVmMDgwYWQ3OWUxYzQzMzAzNTdlIn0=",
                  "datetime": "2020-01-13T18:07:49.071000",
                  "_deepnote_index_column": 8
                },
                {
                  "Unnamed: 0.1": 3608,
                  "timestamp": 1578939136.049,
                  "vin": "005b420fd9275f080ad79e1c4330357e",
                  "sequence": 1145,
                  "navigation_location_coordinate_latitude": 41.4143587,
                  "navigation_location_coordinate_longitude": -81.5043558,
                  "key": "eyJ0aW1lc3RhbXAiOjE1Nzg5MzkxMzYwNDksInZpbiI6IjAwNWI0MjBmZDkyNzVmMDgwYWQ3OWUxYzQzMzAzNTdlIn0=",
                  "datetime": "2020-01-13T18:12:16.048999",
                  "_deepnote_index_column": 9
                },
                {
                  "Unnamed: 0.1": 3611,
                  "timestamp": 1578953321.966,
                  "vin": "005b420fd9275f080ad79e1c4330357e",
                  "sequence": 1146,
                  "navigation_location_coordinate_latitude": 41.4086839,
                  "navigation_location_coordinate_longitude": -81.4974147,
                  "key": "eyJ0aW1lc3RhbXAiOjE1Nzg5NTMzMjE5NjYsInZpbiI6IjAwNWI0MjBmZDkyNzVmMDgwYWQ3OWUxYzQzMzAzNTdlIn0=",
                  "datetime": "2020-01-13T22:08:41.966000",
                  "_deepnote_index_column": 10
                },
                {
                  "Unnamed: 0.1": 3618,
                  "timestamp": 1578953655.969,
                  "vin": "005b420fd9275f080ad79e1c4330357e",
                  "sequence": 1146,
                  "navigation_location_coordinate_latitude": 41.394762,
                  "navigation_location_coordinate_longitude": -81.4579998,
                  "key": "eyJ0aW1lc3RhbXAiOjE1Nzg5NTM2NTU5NjksInZpbiI6IjAwNWI0MjBmZDkyNzVmMDgwYWQ3OWUxYzQzMzAzNTdlIn0=",
                  "datetime": "2020-01-13T22:14:15.969000",
                  "_deepnote_index_column": 11
                },
                {
                  "Unnamed: 0.1": 3623,
                  "timestamp": 1578954028.967,
                  "vin": "005b420fd9275f080ad79e1c4330357e",
                  "sequence": 1146,
                  "navigation_location_coordinate_latitude": 41.3792764,
                  "navigation_location_coordinate_longitude": -81.4267512,
                  "key": "eyJ0aW1lc3RhbXAiOjE1Nzg5NTQwMjg5NjcsInZpbiI6IjAwNWI0MjBmZDkyNzVmMDgwYWQ3OWUxYzQzMzAzNTdlIn0=",
                  "datetime": "2020-01-13T22:20:28.967000",
                  "_deepnote_index_column": 12
                },
                {
                  "Unnamed: 0.1": 6924,
                  "timestamp": 1578396810.688,
                  "vin": "008beb5671fb49a92dc0ef9de96979bf",
                  "sequence": 553,
                  "navigation_location_coordinate_latitude": 40.1485454,
                  "navigation_location_coordinate_longitude": -82.9041065,
                  "key": "eyJ0aW1lc3RhbXAiOjE1NzgzOTY4MTA2ODgsInZpbiI6IjAwOGJlYjU2NzFmYjQ5YTkyZGMwZWY5ZGU5Njk3OWJmIn0=",
                  "datetime": "2020-01-07T11:33:30.688000",
                  "_deepnote_index_column": 13
                },
                {
                  "Unnamed: 0.1": 6935,
                  "timestamp": 1578396811.445,
                  "vin": "008beb5671fb49a92dc0ef9de96979bf",
                  "sequence": 553,
                  "navigation_location_coordinate_latitude": 40.1485089,
                  "navigation_location_coordinate_longitude": -82.9040793,
                  "key": "eyJ0aW1lc3RhbXAiOjE1NzgzOTY4MTE0NDUsInZpbiI6IjAwOGJlYjU2NzFmYjQ5YTkyZGMwZWY5ZGU5Njk3OWJmIn0=",
                  "datetime": "2020-01-07T11:33:31.444999",
                  "_deepnote_index_column": 14
                },
                {
                  "Unnamed: 0.1": 6943,
                  "timestamp": 1578396812.44,
                  "vin": "008beb5671fb49a92dc0ef9de96979bf",
                  "sequence": 553,
                  "navigation_location_coordinate_latitude": 40.1484582,
                  "navigation_location_coordinate_longitude": -82.9040503,
                  "key": "eyJ0aW1lc3RhbXAiOjE1NzgzOTY4MTI0NDAsInZpbiI6IjAwOGJlYjU2NzFmYjQ5YTkyZGMwZWY5ZGU5Njk3OWJmIn0=",
                  "datetime": "2020-01-07T11:33:32.440000",
                  "_deepnote_index_column": 15
                },
                {
                  "Unnamed: 0.1": 6953,
                  "timestamp": 1578396813.516,
                  "vin": "008beb5671fb49a92dc0ef9de96979bf",
                  "sequence": 553,
                  "navigation_location_coordinate_latitude": 40.1483991,
                  "navigation_location_coordinate_longitude": -82.9040215,
                  "key": "eyJ0aW1lc3RhbXAiOjE1NzgzOTY4MTM1MTYsInZpbiI6IjAwOGJlYjU2NzFmYjQ5YTkyZGMwZWY5ZGU5Njk3OWJmIn0=",
                  "datetime": "2020-01-07T11:33:33.516000",
                  "_deepnote_index_column": 16
                },
                {
                  "Unnamed: 0.1": 6963,
                  "timestamp": 1578396816.432,
                  "vin": "008beb5671fb49a92dc0ef9de96979bf",
                  "sequence": 553,
                  "navigation_location_coordinate_latitude": 40.1482322,
                  "navigation_location_coordinate_longitude": -82.9039462,
                  "key": "eyJ0aW1lc3RhbXAiOjE1NzgzOTY4MTY0MzIsInZpbiI6IjAwOGJlYjU2NzFmYjQ5YTkyZGMwZWY5ZGU5Njk3OWJmIn0=",
                  "datetime": "2020-01-07T11:33:36.432000",
                  "_deepnote_index_column": 17
                },
                {
                  "Unnamed: 0.1": 6965,
                  "timestamp": 1578396817.904,
                  "vin": "008beb5671fb49a92dc0ef9de96979bf",
                  "sequence": 553,
                  "navigation_location_coordinate_latitude": 40.1481915,
                  "navigation_location_coordinate_longitude": -82.9039285,
                  "key": "eyJ0aW1lc3RhbXAiOjE1NzgzOTY4MTc5MDQsInZpbiI6IjAwOGJlYjU2NzFmYjQ5YTkyZGMwZWY5ZGU5Njk3OWJmIn0=",
                  "datetime": "2020-01-07T11:33:37.904000",
                  "_deepnote_index_column": 18
                },
                {
                  "Unnamed: 0.1": 6988,
                  "timestamp": 1578396819.597,
                  "vin": "008beb5671fb49a92dc0ef9de96979bf",
                  "sequence": 553,
                  "navigation_location_coordinate_latitude": 40.1481128,
                  "navigation_location_coordinate_longitude": -82.9039094,
                  "key": "eyJ0aW1lc3RhbXAiOjE1NzgzOTY4MTk1OTcsInZpbiI6IjAwOGJlYjU2NzFmYjQ5YTkyZGMwZWY5ZGU5Njk3OWJmIn0=",
                  "datetime": "2020-01-07T11:33:39.596999",
                  "_deepnote_index_column": 19
                },
                {
                  "Unnamed: 0.1": 6993,
                  "timestamp": 1578396820.431,
                  "vin": "008beb5671fb49a92dc0ef9de96979bf",
                  "sequence": 553,
                  "navigation_location_coordinate_latitude": 40.1480678,
                  "navigation_location_coordinate_longitude": -82.9039289,
                  "key": "eyJ0aW1lc3RhbXAiOjE1NzgzOTY4MjA0MzEsInZpbiI6IjAwOGJlYjU2NzFmYjQ5YTkyZGMwZWY5ZGU5Njk3OWJmIn0=",
                  "datetime": "2020-01-07T11:33:40.431000",
                  "_deepnote_index_column": 20
                },
                {
                  "Unnamed: 0.1": 7006,
                  "timestamp": 1578396821.476,
                  "vin": "008beb5671fb49a92dc0ef9de96979bf",
                  "sequence": 553,
                  "navigation_location_coordinate_latitude": 40.1480176,
                  "navigation_location_coordinate_longitude": -82.9039896,
                  "key": "eyJ0aW1lc3RhbXAiOjE1NzgzOTY4MjE0NzYsInZpbiI6IjAwOGJlYjU2NzFmYjQ5YTkyZGMwZWY5ZGU5Njk3OWJmIn0=",
                  "datetime": "2020-01-07T11:33:41.476000",
                  "_deepnote_index_column": 21
                },
                {
                  "Unnamed: 0.1": 7022,
                  "timestamp": 1578396823.428,
                  "vin": "008beb5671fb49a92dc0ef9de96979bf",
                  "sequence": 553,
                  "navigation_location_coordinate_latitude": 40.1479219,
                  "navigation_location_coordinate_longitude": -82.9041673,
                  "key": "eyJ0aW1lc3RhbXAiOjE1NzgzOTY4MjM0MjgsInZpbiI6IjAwOGJlYjU2NzFmYjQ5YTkyZGMwZWY5ZGU5Njk3OWJmIn0=",
                  "datetime": "2020-01-07T11:33:43.428000",
                  "_deepnote_index_column": 22
                },
                {
                  "Unnamed: 0.1": 7032,
                  "timestamp": 1578396826.485,
                  "vin": "008beb5671fb49a92dc0ef9de96979bf",
                  "sequence": 553,
                  "navigation_location_coordinate_latitude": 40.1477382,
                  "navigation_location_coordinate_longitude": -82.9044856,
                  "key": "eyJ0aW1lc3RhbXAiOjE1NzgzOTY4MjY0ODUsInZpbiI6IjAwOGJlYjU2NzFmYjQ5YTkyZGMwZWY5ZGU5Njk3OWJmIn0=",
                  "datetime": "2020-01-07T11:33:46.484999",
                  "_deepnote_index_column": 23
                },
                {
                  "Unnamed: 0.1": 7037,
                  "timestamp": 1578396827.471,
                  "vin": "008beb5671fb49a92dc0ef9de96979bf",
                  "sequence": 553,
                  "navigation_location_coordinate_latitude": 40.147671,
                  "navigation_location_coordinate_longitude": -82.9045978,
                  "key": "eyJ0aW1lc3RhbXAiOjE1NzgzOTY4Mjc0NzEsInZpbiI6IjAwOGJlYjU2NzFmYjQ5YTkyZGMwZWY5ZGU5Njk3OWJmIn0=",
                  "datetime": "2020-01-07T11:33:47.471000",
                  "_deepnote_index_column": 24
                },
                {
                  "Unnamed: 0.1": 7039,
                  "timestamp": 1578396828.474,
                  "vin": "008beb5671fb49a92dc0ef9de96979bf",
                  "sequence": 553,
                  "navigation_location_coordinate_latitude": 40.1476062,
                  "navigation_location_coordinate_longitude": -82.9047131,
                  "key": "eyJ0aW1lc3RhbXAiOjE1NzgzOTY4Mjg0NzQsInZpbiI6IjAwOGJlYjU2NzFmYjQ5YTkyZGMwZWY5ZGU5Njk3OWJmIn0=",
                  "datetime": "2020-01-07T11:33:48.473999",
                  "_deepnote_index_column": 25
                },
                {
                  "Unnamed: 0.1": 7043,
                  "timestamp": 1578396829.478,
                  "vin": "008beb5671fb49a92dc0ef9de96979bf",
                  "sequence": 553,
                  "navigation_location_coordinate_latitude": 40.1475457,
                  "navigation_location_coordinate_longitude": -82.9048327,
                  "key": "eyJ0aW1lc3RhbXAiOjE1NzgzOTY4Mjk0NzgsInZpbiI6IjAwOGJlYjU2NzFmYjQ5YTkyZGMwZWY5ZGU5Njk3OWJmIn0=",
                  "datetime": "2020-01-07T11:33:49.477999",
                  "_deepnote_index_column": 26
                },
                {
                  "Unnamed: 0.1": 7046,
                  "timestamp": 1578396830.476,
                  "vin": "008beb5671fb49a92dc0ef9de96979bf",
                  "sequence": 553,
                  "navigation_location_coordinate_latitude": 40.1474918,
                  "navigation_location_coordinate_longitude": -82.904957,
                  "key": "eyJ0aW1lc3RhbXAiOjE1NzgzOTY4MzA0NzYsInZpbiI6IjAwOGJlYjU2NzFmYjQ5YTkyZGMwZWY5ZGU5Njk3OWJmIn0=",
                  "datetime": "2020-01-07T11:33:50.476000",
                  "_deepnote_index_column": 27
                },
                {
                  "Unnamed: 0.1": 7052,
                  "timestamp": 1578396832.481,
                  "vin": "008beb5671fb49a92dc0ef9de96979bf",
                  "sequence": 553,
                  "navigation_location_coordinate_latitude": 40.1474101,
                  "navigation_location_coordinate_longitude": -82.9052183,
                  "key": "eyJ0aW1lc3RhbXAiOjE1NzgzOTY4MzI0ODEsInZpbiI6IjAwOGJlYjU2NzFmYjQ5YTkyZGMwZWY5ZGU5Njk3OWJmIn0=",
                  "datetime": "2020-01-07T11:33:52.480999",
                  "_deepnote_index_column": 28
                },
                {
                  "Unnamed: 0.1": 7056,
                  "timestamp": 1578396833.499,
                  "vin": "008beb5671fb49a92dc0ef9de96979bf",
                  "sequence": 553,
                  "navigation_location_coordinate_latitude": 40.1473847,
                  "navigation_location_coordinate_longitude": -82.9053538,
                  "key": "eyJ0aW1lc3RhbXAiOjE1NzgzOTY4MzM0OTksInZpbiI6IjAwOGJlYjU2NzFmYjQ5YTkyZGMwZWY5ZGU5Njk3OWJmIn0=",
                  "datetime": "2020-01-07T11:33:53.499000",
                  "_deepnote_index_column": 29
                },
                {
                  "Unnamed: 0.1": 7063,
                  "timestamp": 1578396835.442,
                  "vin": "008beb5671fb49a92dc0ef9de96979bf",
                  "sequence": 553,
                  "navigation_location_coordinate_latitude": 40.1473734,
                  "navigation_location_coordinate_longitude": -82.9056294,
                  "key": "eyJ0aW1lc3RhbXAiOjE1NzgzOTY4MzU0NDIsInZpbiI6IjAwOGJlYjU2NzFmYjQ5YTkyZGMwZWY5ZGU5Njk3OWJmIn0=",
                  "datetime": "2020-01-07T11:33:55.441999",
                  "_deepnote_index_column": 30
                },
                {
                  "Unnamed: 0.1": 7074,
                  "timestamp": 1578396837.488,
                  "vin": "008beb5671fb49a92dc0ef9de96979bf",
                  "sequence": 553,
                  "navigation_location_coordinate_latitude": 40.1473965,
                  "navigation_location_coordinate_longitude": -82.9059181,
                  "key": "eyJ0aW1lc3RhbXAiOjE1NzgzOTY4Mzc0ODgsInZpbiI6IjAwOGJlYjU2NzFmYjQ5YTkyZGMwZWY5ZGU5Njk3OWJmIn0=",
                  "datetime": "2020-01-07T11:33:57.488000",
                  "_deepnote_index_column": 31
                },
                {
                  "Unnamed: 0.1": 7076,
                  "timestamp": 1578396838.481,
                  "vin": "008beb5671fb49a92dc0ef9de96979bf",
                  "sequence": 553,
                  "navigation_location_coordinate_latitude": 40.1474087,
                  "navigation_location_coordinate_longitude": -82.906057,
                  "key": "eyJ0aW1lc3RhbXAiOjE1NzgzOTY4Mzg0ODEsInZpbiI6IjAwOGJlYjU2NzFmYjQ5YTkyZGMwZWY5ZGU5Njk3OWJmIn0=",
                  "datetime": "2020-01-07T11:33:58.480999",
                  "_deepnote_index_column": 32
                },
                {
                  "Unnamed: 0.1": 7092,
                  "timestamp": 1578396840.485,
                  "vin": "008beb5671fb49a92dc0ef9de96979bf",
                  "sequence": 553,
                  "navigation_location_coordinate_latitude": 40.1474179,
                  "navigation_location_coordinate_longitude": -82.9062948,
                  "key": "eyJ0aW1lc3RhbXAiOjE1NzgzOTY4NDA0ODUsInZpbiI6IjAwOGJlYjU2NzFmYjQ5YTkyZGMwZWY5ZGU5Njk3OWJmIn0=",
                  "datetime": "2020-01-07T11:34:00.484999",
                  "_deepnote_index_column": 33
                },
                {
                  "Unnamed: 0.1": 7108,
                  "timestamp": 1578396841.475,
                  "vin": "008beb5671fb49a92dc0ef9de96979bf",
                  "sequence": 553,
                  "navigation_location_coordinate_latitude": 40.1474002,
                  "navigation_location_coordinate_longitude": -82.9063913,
                  "key": "eyJ0aW1lc3RhbXAiOjE1NzgzOTY4NDE0NzUsInZpbiI6IjAwOGJlYjU2NzFmYjQ5YTkyZGMwZWY5ZGU5Njk3OWJmIn0=",
                  "datetime": "2020-01-07T11:34:01.474999",
                  "_deepnote_index_column": 34
                },
                {
                  "Unnamed: 0.1": 7114,
                  "timestamp": 1578396842.477,
                  "vin": "008beb5671fb49a92dc0ef9de96979bf",
                  "sequence": 553,
                  "navigation_location_coordinate_latitude": 40.1473604,
                  "navigation_location_coordinate_longitude": -82.9064692,
                  "key": "eyJ0aW1lc3RhbXAiOjE1NzgzOTY4NDI0NzcsInZpbiI6IjAwOGJlYjU2NzFmYjQ5YTkyZGMwZWY5ZGU5Njk3OWJmIn0=",
                  "datetime": "2020-01-07T11:34:02.476999",
                  "_deepnote_index_column": 35
                },
                {
                  "Unnamed: 0.1": 7117,
                  "timestamp": 1578396843.476,
                  "vin": "008beb5671fb49a92dc0ef9de96979bf",
                  "sequence": 553,
                  "navigation_location_coordinate_latitude": 40.1473012,
                  "navigation_location_coordinate_longitude": -82.9065214,
                  "key": "eyJ0aW1lc3RhbXAiOjE1NzgzOTY4NDM0NzYsInZpbiI6IjAwOGJlYjU2NzFmYjQ5YTkyZGMwZWY5ZGU5Njk3OWJmIn0=",
                  "datetime": "2020-01-07T11:34:03.476000",
                  "_deepnote_index_column": 36
                },
                {
                  "Unnamed: 0.1": 7129,
                  "timestamp": 1578396845.472,
                  "vin": "008beb5671fb49a92dc0ef9de96979bf",
                  "sequence": 553,
                  "navigation_location_coordinate_latitude": 40.1471438,
                  "navigation_location_coordinate_longitude": -82.9065481,
                  "key": "eyJ0aW1lc3RhbXAiOjE1NzgzOTY4NDU0NzIsInZpbiI6IjAwOGJlYjU2NzFmYjQ5YTkyZGMwZWY5ZGU5Njk3OWJmIn0=",
                  "datetime": "2020-01-07T11:34:05.472000",
                  "_deepnote_index_column": 37
                },
                {
                  "Unnamed: 0.1": 7141,
                  "timestamp": 1578396847.425,
                  "vin": "008beb5671fb49a92dc0ef9de96979bf",
                  "sequence": 553,
                  "navigation_location_coordinate_latitude": 40.1469465,
                  "navigation_location_coordinate_longitude": -82.9065527,
                  "key": "eyJ0aW1lc3RhbXAiOjE1NzgzOTY4NDc0MjUsInZpbiI6IjAwOGJlYjU2NzFmYjQ5YTkyZGMwZWY5ZGU5Njk3OWJmIn0=",
                  "datetime": "2020-01-07T11:34:07.424999",
                  "_deepnote_index_column": 38
                },
                {
                  "Unnamed: 0.1": 7147,
                  "timestamp": 1578396848.434,
                  "vin": "008beb5671fb49a92dc0ef9de96979bf",
                  "sequence": 553,
                  "navigation_location_coordinate_latitude": 40.1468357,
                  "navigation_location_coordinate_longitude": -82.9065589,
                  "key": "eyJ0aW1lc3RhbXAiOjE1NzgzOTY4NDg0MzQsInZpbiI6IjAwOGJlYjU2NzFmYjQ5YTkyZGMwZWY5ZGU5Njk3OWJmIn0=",
                  "datetime": "2020-01-07T11:34:08.434000",
                  "_deepnote_index_column": 39
                },
                {
                  "Unnamed: 0.1": 7156,
                  "timestamp": 1578396851.449,
                  "vin": "008beb5671fb49a92dc0ef9de96979bf",
                  "sequence": 553,
                  "navigation_location_coordinate_latitude": 40.1464961,
                  "navigation_location_coordinate_longitude": -82.9065842,
                  "key": "eyJ0aW1lc3RhbXAiOjE1NzgzOTY4NTE0NDksInZpbiI6IjAwOGJlYjU2NzFmYjQ5YTkyZGMwZWY5ZGU5Njk3OWJmIn0=",
                  "datetime": "2020-01-07T11:34:11.448999",
                  "_deepnote_index_column": 40
                },
                {
                  "Unnamed: 0.1": 7159,
                  "timestamp": 1578396852.43,
                  "vin": "008beb5671fb49a92dc0ef9de96979bf",
                  "sequence": 553,
                  "navigation_location_coordinate_latitude": 40.1463917,
                  "navigation_location_coordinate_longitude": -82.9065966,
                  "key": "eyJ0aW1lc3RhbXAiOjE1NzgzOTY4NTI0MzAsInZpbiI6IjAwOGJlYjU2NzFmYjQ5YTkyZGMwZWY5ZGU5Njk3OWJmIn0=",
                  "datetime": "2020-01-07T11:34:12.430000",
                  "_deepnote_index_column": 41
                },
                {
                  "Unnamed: 0.1": 7162,
                  "timestamp": 1578396853.553,
                  "vin": "008beb5671fb49a92dc0ef9de96979bf",
                  "sequence": 553,
                  "navigation_location_coordinate_latitude": 40.1462983,
                  "navigation_location_coordinate_longitude": -82.9066098,
                  "key": "eyJ0aW1lc3RhbXAiOjE1NzgzOTY4NTM1NTMsInZpbiI6IjAwOGJlYjU2NzFmYjQ5YTkyZGMwZWY5ZGU5Njk3OWJmIn0=",
                  "datetime": "2020-01-07T11:34:13.552999",
                  "_deepnote_index_column": 42
                },
                {
                  "Unnamed: 0.1": 7167,
                  "timestamp": 1578396854.423,
                  "vin": "008beb5671fb49a92dc0ef9de96979bf",
                  "sequence": 553,
                  "navigation_location_coordinate_latitude": 40.1462193,
                  "navigation_location_coordinate_longitude": -82.9066242,
                  "key": "eyJ0aW1lc3RhbXAiOjE1NzgzOTY4NTQ0MjMsInZpbiI6IjAwOGJlYjU2NzFmYjQ5YTkyZGMwZWY5ZGU5Njk3OWJmIn0=",
                  "datetime": "2020-01-07T11:34:14.423000",
                  "_deepnote_index_column": 43
                },
                {
                  "Unnamed: 0.1": 7173,
                  "timestamp": 1578396855.455,
                  "vin": "008beb5671fb49a92dc0ef9de96979bf",
                  "sequence": 553,
                  "navigation_location_coordinate_latitude": 40.1461586,
                  "navigation_location_coordinate_longitude": -82.9066402,
                  "key": "eyJ0aW1lc3RhbXAiOjE1NzgzOTY4NTU0NTUsInZpbiI6IjAwOGJlYjU2NzFmYjQ5YTkyZGMwZWY5ZGU5Njk3OWJmIn0=",
                  "datetime": "2020-01-07T11:34:15.454999",
                  "_deepnote_index_column": 44
                },
                {
                  "Unnamed: 0.1": 7184,
                  "timestamp": 1578396858.446,
                  "vin": "008beb5671fb49a92dc0ef9de96979bf",
                  "sequence": 553,
                  "navigation_location_coordinate_latitude": 40.1460976,
                  "navigation_location_coordinate_longitude": -82.9066662,
                  "key": "eyJ0aW1lc3RhbXAiOjE1NzgzOTY4NTg0NDYsInZpbiI6IjAwOGJlYjU2NzFmYjQ5YTkyZGMwZWY5ZGU5Njk3OWJmIn0=",
                  "datetime": "2020-01-07T11:34:18.446000",
                  "_deepnote_index_column": 45
                },
                {
                  "Unnamed: 0.1": 7198,
                  "timestamp": 1578396868.435,
                  "vin": "008beb5671fb49a92dc0ef9de96979bf",
                  "sequence": 553,
                  "navigation_location_coordinate_latitude": 40.1460884,
                  "navigation_location_coordinate_longitude": -82.9066725,
                  "key": "eyJ0aW1lc3RhbXAiOjE1NzgzOTY4Njg0MzUsInZpbiI6IjAwOGJlYjU2NzFmYjQ5YTkyZGMwZWY5ZGU5Njk3OWJmIn0=",
                  "datetime": "2020-01-07T11:34:28.435000",
                  "_deepnote_index_column": 46
                },
                {
                  "Unnamed: 0.1": 7210,
                  "timestamp": 1578396869.435,
                  "vin": "008beb5671fb49a92dc0ef9de96979bf",
                  "sequence": 553,
                  "navigation_location_coordinate_latitude": 40.1460652,
                  "navigation_location_coordinate_longitude": -82.9066931,
                  "key": "eyJ0aW1lc3RhbXAiOjE1NzgzOTY4Njk0MzUsInZpbiI6IjAwOGJlYjU2NzFmYjQ5YTkyZGMwZWY5ZGU5Njk3OWJmIn0=",
                  "datetime": "2020-01-07T11:34:29.435000",
                  "_deepnote_index_column": 47
                },
                {
                  "Unnamed: 0.1": 7222,
                  "timestamp": 1578396870.428,
                  "vin": "008beb5671fb49a92dc0ef9de96979bf",
                  "sequence": 553,
                  "navigation_location_coordinate_latitude": 40.1460402,
                  "navigation_location_coordinate_longitude": -82.9067404,
                  "key": "eyJ0aW1lc3RhbXAiOjE1NzgzOTY4NzA0MjgsInZpbiI6IjAwOGJlYjU2NzFmYjQ5YTkyZGMwZWY5ZGU5Njk3OWJmIn0=",
                  "datetime": "2020-01-07T11:34:30.428000",
                  "_deepnote_index_column": 48
                },
                {
                  "Unnamed: 0.1": 7236,
                  "timestamp": 1578396871.438,
                  "vin": "008beb5671fb49a92dc0ef9de96979bf",
                  "sequence": 553,
                  "navigation_location_coordinate_latitude": 40.1460266,
                  "navigation_location_coordinate_longitude": -82.9068221,
                  "key": "eyJ0aW1lc3RhbXAiOjE1NzgzOTY4NzE0MzgsInZpbiI6IjAwOGJlYjU2NzFmYjQ5YTkyZGMwZWY5ZGU5Njk3OWJmIn0=",
                  "datetime": "2020-01-07T11:34:31.437999",
                  "_deepnote_index_column": 49
                },
                {
                  "Unnamed: 0.1": 7251,
                  "timestamp": 1578396873.436,
                  "vin": "008beb5671fb49a92dc0ef9de96979bf",
                  "sequence": 553,
                  "navigation_location_coordinate_latitude": 40.1460317,
                  "navigation_location_coordinate_longitude": -82.907074,
                  "key": "eyJ0aW1lc3RhbXAiOjE1NzgzOTY4NzM0MzYsInZpbiI6IjAwOGJlYjU2NzFmYjQ5YTkyZGMwZWY5ZGU5Njk3OWJmIn0=",
                  "datetime": "2020-01-07T11:34:33.436000",
                  "_deepnote_index_column": 50
                },
                {
                  "Unnamed: 0.1": 7256,
                  "timestamp": 1578396874.433,
                  "vin": "008beb5671fb49a92dc0ef9de96979bf",
                  "sequence": 553,
                  "navigation_location_coordinate_latitude": 40.1460388,
                  "navigation_location_coordinate_longitude": -82.907241,
                  "key": "eyJ0aW1lc3RhbXAiOjE1NzgzOTY4NzQ0MzMsInZpbiI6IjAwOGJlYjU2NzFmYjQ5YTkyZGMwZWY5ZGU5Njk3OWJmIn0=",
                  "datetime": "2020-01-07T11:34:34.433000",
                  "_deepnote_index_column": 51
                },
                {
                  "Unnamed: 0.1": 7281,
                  "timestamp": 1578396878.477,
                  "vin": "008beb5671fb49a92dc0ef9de96979bf",
                  "sequence": 553,
                  "navigation_location_coordinate_latitude": 40.1460746,
                  "navigation_location_coordinate_longitude": -82.9081302,
                  "key": "eyJ0aW1lc3RhbXAiOjE1NzgzOTY4Nzg0NzcsInZpbiI6IjAwOGJlYjU2NzFmYjQ5YTkyZGMwZWY5ZGU5Njk3OWJmIn0=",
                  "datetime": "2020-01-07T11:34:38.476999",
                  "_deepnote_index_column": 52
                },
                {
                  "Unnamed: 0.1": 7284,
                  "timestamp": 1578396879.475,
                  "vin": "008beb5671fb49a92dc0ef9de96979bf",
                  "sequence": 553,
                  "navigation_location_coordinate_latitude": 40.146084,
                  "navigation_location_coordinate_longitude": -82.9083838,
                  "key": "eyJ0aW1lc3RhbXAiOjE1NzgzOTY4Nzk0NzUsInZpbiI6IjAwOGJlYjU2NzFmYjQ5YTkyZGMwZWY5ZGU5Njk3OWJmIn0=",
                  "datetime": "2020-01-07T11:34:39.474999",
                  "_deepnote_index_column": 53
                },
                {
                  "Unnamed: 0.1": 7290,
                  "timestamp": 1578396881.47,
                  "vin": "008beb5671fb49a92dc0ef9de96979bf",
                  "sequence": 553,
                  "navigation_location_coordinate_latitude": 40.1461033,
                  "navigation_location_coordinate_longitude": -82.9089043,
                  "key": "eyJ0aW1lc3RhbXAiOjE1NzgzOTY4ODE0NzAsInZpbiI6IjAwOGJlYjU2NzFmYjQ5YTkyZGMwZWY5ZGU5Njk3OWJmIn0=",
                  "datetime": "2020-01-07T11:34:41.470000",
                  "_deepnote_index_column": 54
                },
                {
                  "Unnamed: 0.1": 7293,
                  "timestamp": 1578396882.474,
                  "vin": "008beb5671fb49a92dc0ef9de96979bf",
                  "sequence": 553,
                  "navigation_location_coordinate_latitude": 40.1461143,
                  "navigation_location_coordinate_longitude": -82.9091685,
                  "key": "eyJ0aW1lc3RhbXAiOjE1NzgzOTY4ODI0NzQsInZpbiI6IjAwOGJlYjU2NzFmYjQ5YTkyZGMwZWY5ZGU5Njk3OWJmIn0=",
                  "datetime": "2020-01-07T11:34:42.473999",
                  "_deepnote_index_column": 55
                },
                {
                  "Unnamed: 0.1": 7294,
                  "timestamp": 1578396883.469,
                  "vin": "008beb5671fb49a92dc0ef9de96979bf",
                  "sequence": 553,
                  "navigation_location_coordinate_latitude": 40.1461239,
                  "navigation_location_coordinate_longitude": -82.9094345,
                  "key": "eyJ0aW1lc3RhbXAiOjE1NzgzOTY4ODM0NjksInZpbiI6IjAwOGJlYjU2NzFmYjQ5YTkyZGMwZWY5ZGU5Njk3OWJmIn0=",
                  "datetime": "2020-01-07T11:34:43.469000",
                  "_deepnote_index_column": 56
                },
                {
                  "Unnamed: 0.1": 7296,
                  "timestamp": 1578396884.471,
                  "vin": "008beb5671fb49a92dc0ef9de96979bf",
                  "sequence": 553,
                  "navigation_location_coordinate_latitude": 40.1461337,
                  "navigation_location_coordinate_longitude": -82.9097019,
                  "key": "eyJ0aW1lc3RhbXAiOjE1NzgzOTY4ODQ0NzEsInZpbiI6IjAwOGJlYjU2NzFmYjQ5YTkyZGMwZWY5ZGU5Njk3OWJmIn0=",
                  "datetime": "2020-01-07T11:34:44.471000",
                  "_deepnote_index_column": 57
                },
                {
                  "Unnamed: 0.1": 7304,
                  "timestamp": 1578396890.423,
                  "vin": "008beb5671fb49a92dc0ef9de96979bf",
                  "sequence": 553,
                  "navigation_location_coordinate_latitude": 40.1461988,
                  "navigation_location_coordinate_longitude": -82.9112694,
                  "key": "eyJ0aW1lc3RhbXAiOjE1NzgzOTY4OTA0MjMsInZpbiI6IjAwOGJlYjU2NzFmYjQ5YTkyZGMwZWY5ZGU5Njk3OWJmIn0=",
                  "datetime": "2020-01-07T11:34:50.423000",
                  "_deepnote_index_column": 58
                },
                {
                  "Unnamed: 0.1": 7307,
                  "timestamp": 1578396891.478,
                  "vin": "008beb5671fb49a92dc0ef9de96979bf",
                  "sequence": 553,
                  "navigation_location_coordinate_latitude": 40.1462094,
                  "navigation_location_coordinate_longitude": -82.9115231,
                  "key": "eyJ0aW1lc3RhbXAiOjE1NzgzOTY4OTE0NzgsInZpbiI6IjAwOGJlYjU2NzFmYjQ5YTkyZGMwZWY5ZGU5Njk3OWJmIn0=",
                  "datetime": "2020-01-07T11:34:51.477999",
                  "_deepnote_index_column": 59
                },
                {
                  "Unnamed: 0.1": 7308,
                  "timestamp": 1578396892.474,
                  "vin": "008beb5671fb49a92dc0ef9de96979bf",
                  "sequence": 553,
                  "navigation_location_coordinate_latitude": 40.1462212,
                  "navigation_location_coordinate_longitude": -82.9117784,
                  "key": "eyJ0aW1lc3RhbXAiOjE1NzgzOTY4OTI0NzQsInZpbiI6IjAwOGJlYjU2NzFmYjQ5YTkyZGMwZWY5ZGU5Njk3OWJmIn0=",
                  "datetime": "2020-01-07T11:34:52.473999",
                  "_deepnote_index_column": 60
                },
                {
                  "Unnamed: 0.1": 7310,
                  "timestamp": 1578396893.473,
                  "vin": "008beb5671fb49a92dc0ef9de96979bf",
                  "sequence": 553,
                  "navigation_location_coordinate_latitude": 40.1462329,
                  "navigation_location_coordinate_longitude": -82.9120355,
                  "key": "eyJ0aW1lc3RhbXAiOjE1NzgzOTY4OTM0NzMsInZpbiI6IjAwOGJlYjU2NzFmYjQ5YTkyZGMwZWY5ZGU5Njk3OWJmIn0=",
                  "datetime": "2020-01-07T11:34:53.472999",
                  "_deepnote_index_column": 61
                }
              ],
              "rows_bottom": [
                {
                  "Unnamed: 0.1": 71,
                  "timestamp": 1580774339.599,
                  "vin": "123b9a7bbd7775662d3a55656dc2379b",
                  "sequence": 2065,
                  "navigation_location_coordinate_latitude": 39.9111073,
                  "navigation_location_coordinate_longitude": -82.8002921,
                  "key": "eyJ0aW1lc3RhbXAiOjE1ODA3NzQzMzk1OTksInZpbiI6IjEyM2I5YTdiYmQ3Nzc1NjYyZDNhNTU2NTZkYzIzNzliIn0=",
                  "datetime": "2020-02-03T23:58:59.599000",
                  "_deepnote_index_column": 736001
                },
                {
                  "Unnamed: 0.1": 211,
                  "timestamp": 1580774342.597,
                  "vin": "123b9a7bbd7775662d3a55656dc2379b",
                  "sequence": 2065,
                  "navigation_location_coordinate_latitude": 39.9111483,
                  "navigation_location_coordinate_longitude": -82.8009845,
                  "key": "eyJ0aW1lc3RhbXAiOjE1ODA3NzQzNDI1OTcsInZpbiI6IjEyM2I5YTdiYmQ3Nzc1NjYyZDNhNTU2NTZkYzIzNzliIn0=",
                  "datetime": "2020-02-03T23:59:02.596999",
                  "_deepnote_index_column": 736002
                },
                {
                  "Unnamed: 0.1": 433,
                  "timestamp": 1580774347.602,
                  "vin": "123b9a7bbd7775662d3a55656dc2379b",
                  "sequence": 2065,
                  "navigation_location_coordinate_latitude": 39.9111969,
                  "navigation_location_coordinate_longitude": -82.8021234,
                  "key": "eyJ0aW1lc3RhbXAiOjE1ODA3NzQzNDc2MDIsInZpbiI6IjEyM2I5YTdiYmQ3Nzc1NjYyZDNhNTU2NTZkYzIzNzliIn0=",
                  "datetime": "2020-02-03T23:59:07.601999",
                  "_deepnote_index_column": 736003
                },
                {
                  "Unnamed: 0.1": 532,
                  "timestamp": 1580774349.597,
                  "vin": "123b9a7bbd7775662d3a55656dc2379b",
                  "sequence": 2065,
                  "navigation_location_coordinate_latitude": 39.9112144,
                  "navigation_location_coordinate_longitude": -82.8025705,
                  "key": "eyJ0aW1lc3RhbXAiOjE1ODA3NzQzNDk1OTcsInZpbiI6IjEyM2I5YTdiYmQ3Nzc1NjYyZDNhNTU2NTZkYzIzNzliIn0=",
                  "datetime": "2020-02-03T23:59:09.596999",
                  "_deepnote_index_column": 736004
                },
                {
                  "Unnamed: 0.1": 742,
                  "timestamp": 1580774353.597,
                  "vin": "123b9a7bbd7775662d3a55656dc2379b",
                  "sequence": 2065,
                  "navigation_location_coordinate_latitude": 39.9112546,
                  "navigation_location_coordinate_longitude": -82.803462,
                  "key": "eyJ0aW1lc3RhbXAiOjE1ODA3NzQzNTM1OTcsInZpbiI6IjEyM2I5YTdiYmQ3Nzc1NjYyZDNhNTU2NTZkYzIzNzliIn0=",
                  "datetime": "2020-02-03T23:59:13.596999",
                  "_deepnote_index_column": 736005
                },
                {
                  "Unnamed: 0.1": 804,
                  "timestamp": 1580774354.595,
                  "vin": "123b9a7bbd7775662d3a55656dc2379b",
                  "sequence": 2065,
                  "navigation_location_coordinate_latitude": 39.9112617,
                  "navigation_location_coordinate_longitude": -82.8036716,
                  "key": "eyJ0aW1lc3RhbXAiOjE1ODA3NzQzNTQ1OTUsInZpbiI6IjEyM2I5YTdiYmQ3Nzc1NjYyZDNhNTU2NTZkYzIzNzliIn0=",
                  "datetime": "2020-02-03T23:59:14.595000",
                  "_deepnote_index_column": 736006
                },
                {
                  "Unnamed: 0.1": 859,
                  "timestamp": 1580774355.594,
                  "vin": "123b9a7bbd7775662d3a55656dc2379b",
                  "sequence": 2065,
                  "navigation_location_coordinate_latitude": 39.9112685,
                  "navigation_location_coordinate_longitude": -82.8038729,
                  "key": "eyJ0aW1lc3RhbXAiOjE1ODA3NzQzNTU1OTQsInZpbiI6IjEyM2I5YTdiYmQ3Nzc1NjYyZDNhNTU2NTZkYzIzNzliIn0=",
                  "datetime": "2020-02-03T23:59:15.594000",
                  "_deepnote_index_column": 736007
                },
                {
                  "Unnamed: 0.1": 917,
                  "timestamp": 1580774356.493,
                  "vin": "123b9a7bbd7775662d3a55656dc2379b",
                  "sequence": 2065,
                  "navigation_location_coordinate_latitude": 39.911274,
                  "navigation_location_coordinate_longitude": -82.804048,
                  "key": "eyJ0aW1lc3RhbXAiOjE1ODA3NzQzNTY0OTMsInZpbiI6IjEyM2I5YTdiYmQ3Nzc1NjYyZDNhNTU2NTZkYzIzNzliIn0=",
                  "datetime": "2020-02-03T23:59:16.492999",
                  "_deepnote_index_column": 736008
                },
                {
                  "Unnamed: 0.1": 979,
                  "timestamp": 1580774357.497,
                  "vin": "123b9a7bbd7775662d3a55656dc2379b",
                  "sequence": 2065,
                  "navigation_location_coordinate_latitude": 39.911283,
                  "navigation_location_coordinate_longitude": -82.804232,
                  "key": "eyJ0aW1lc3RhbXAiOjE1ODA3NzQzNTc0OTcsInZpbiI6IjEyM2I5YTdiYmQ3Nzc1NjYyZDNhNTU2NTZkYzIzNzliIn0=",
                  "datetime": "2020-02-03T23:59:17.496999",
                  "_deepnote_index_column": 736009
                },
                {
                  "Unnamed: 0.1": 36,
                  "timestamp": 1580774358.497,
                  "vin": "123b9a7bbd7775662d3a55656dc2379b",
                  "sequence": 2065,
                  "navigation_location_coordinate_latitude": 39.911294,
                  "navigation_location_coordinate_longitude": -82.804406,
                  "key": "eyJ0aW1lc3RhbXAiOjE1ODA3NzQzNTg0OTcsInZpbiI6IjEyM2I5YTdiYmQ3Nzc1NjYyZDNhNTU2NTZkYzIzNzliIn0=",
                  "datetime": "2020-02-03T23:59:18.496999",
                  "_deepnote_index_column": 736010
                },
                {
                  "Unnamed: 0.1": 101,
                  "timestamp": 1580774359.501,
                  "vin": "123b9a7bbd7775662d3a55656dc2379b",
                  "sequence": 2065,
                  "navigation_location_coordinate_latitude": 39.911302,
                  "navigation_location_coordinate_longitude": -82.804574,
                  "key": "eyJ0aW1lc3RhbXAiOjE1ODA3NzQzNTk1MDEsInZpbiI6IjEyM2I5YTdiYmQ3Nzc1NjYyZDNhNTU2NTZkYzIzNzliIn0=",
                  "datetime": "2020-02-03T23:59:19.500999",
                  "_deepnote_index_column": 736011
                },
                {
                  "Unnamed: 0.1": 149,
                  "timestamp": 1580774360.504,
                  "vin": "123b9a7bbd7775662d3a55656dc2379b",
                  "sequence": 2065,
                  "navigation_location_coordinate_latitude": 39.91131,
                  "navigation_location_coordinate_longitude": -82.804735,
                  "key": "eyJ0aW1lc3RhbXAiOjE1ODA3NzQzNjA1MDQsInZpbiI6IjEyM2I5YTdiYmQ3Nzc1NjYyZDNhNTU2NTZkYzIzNzliIn0=",
                  "datetime": "2020-02-03T23:59:20.504000",
                  "_deepnote_index_column": 736012
                },
                {
                  "Unnamed: 0.1": 195,
                  "timestamp": 1580774361.504,
                  "vin": "123b9a7bbd7775662d3a55656dc2379b",
                  "sequence": 2065,
                  "navigation_location_coordinate_latitude": 39.911321,
                  "navigation_location_coordinate_longitude": -82.804898,
                  "key": "eyJ0aW1lc3RhbXAiOjE1ODA3NzQzNjE1MDQsInZpbiI6IjEyM2I5YTdiYmQ3Nzc1NjYyZDNhNTU2NTZkYzIzNzliIn0=",
                  "datetime": "2020-02-03T23:59:21.504000",
                  "_deepnote_index_column": 736013
                },
                {
                  "Unnamed: 0.1": 248,
                  "timestamp": 1580774362.51,
                  "vin": "123b9a7bbd7775662d3a55656dc2379b",
                  "sequence": 2065,
                  "navigation_location_coordinate_latitude": 39.911328,
                  "navigation_location_coordinate_longitude": -82.805042,
                  "key": "eyJ0aW1lc3RhbXAiOjE1ODA3NzQzNjI1MTAsInZpbiI6IjEyM2I5YTdiYmQ3Nzc1NjYyZDNhNTU2NTZkYzIzNzliIn0=",
                  "datetime": "2020-02-03T23:59:22.509999",
                  "_deepnote_index_column": 736014
                },
                {
                  "Unnamed: 0.1": 300,
                  "timestamp": 1580774363.512,
                  "vin": "123b9a7bbd7775662d3a55656dc2379b",
                  "sequence": 2065,
                  "navigation_location_coordinate_latitude": 39.911334,
                  "navigation_location_coordinate_longitude": -82.805189,
                  "key": "eyJ0aW1lc3RhbXAiOjE1ODA3NzQzNjM1MTIsInZpbiI6IjEyM2I5YTdiYmQ3Nzc1NjYyZDNhNTU2NTZkYzIzNzliIn0=",
                  "datetime": "2020-02-03T23:59:23.512000",
                  "_deepnote_index_column": 736015
                },
                {
                  "Unnamed: 0.1": 343,
                  "timestamp": 1580774364.514,
                  "vin": "123b9a7bbd7775662d3a55656dc2379b",
                  "sequence": 2065,
                  "navigation_location_coordinate_latitude": 39.91134,
                  "navigation_location_coordinate_longitude": -82.805336,
                  "key": "eyJ0aW1lc3RhbXAiOjE1ODA3NzQzNjQ1MTQsInZpbiI6IjEyM2I5YTdiYmQ3Nzc1NjYyZDNhNTU2NTZkYzIzNzliIn0=",
                  "datetime": "2020-02-03T23:59:24.513999",
                  "_deepnote_index_column": 736016
                },
                {
                  "Unnamed: 0.1": 388,
                  "timestamp": 1580774365.515,
                  "vin": "123b9a7bbd7775662d3a55656dc2379b",
                  "sequence": 2065,
                  "navigation_location_coordinate_latitude": 39.911347,
                  "navigation_location_coordinate_longitude": -82.805498,
                  "key": "eyJ0aW1lc3RhbXAiOjE1ODA3NzQzNjU1MTUsInZpbiI6IjEyM2I5YTdiYmQ3Nzc1NjYyZDNhNTU2NTZkYzIzNzliIn0=",
                  "datetime": "2020-02-03T23:59:25.515000",
                  "_deepnote_index_column": 736017
                },
                {
                  "Unnamed: 0.1": 484,
                  "timestamp": 1580774367.522,
                  "vin": "123b9a7bbd7775662d3a55656dc2379b",
                  "sequence": 2065,
                  "navigation_location_coordinate_latitude": 39.911365,
                  "navigation_location_coordinate_longitude": -82.805798,
                  "key": "eyJ0aW1lc3RhbXAiOjE1ODA3NzQzNjc1MjIsInZpbiI6IjEyM2I5YTdiYmQ3Nzc1NjYyZDNhNTU2NTZkYzIzNzliIn0=",
                  "datetime": "2020-02-03T23:59:27.522000",
                  "_deepnote_index_column": 736018
                },
                {
                  "Unnamed: 0.1": 582,
                  "timestamp": 1580774369.524,
                  "vin": "123b9a7bbd7775662d3a55656dc2379b",
                  "sequence": 2065,
                  "navigation_location_coordinate_latitude": 39.911384,
                  "navigation_location_coordinate_longitude": -82.806123,
                  "key": "eyJ0aW1lc3RhbXAiOjE1ODA3NzQzNjk1MjQsInZpbiI6IjEyM2I5YTdiYmQ3Nzc1NjYyZDNhNTU2NTZkYzIzNzliIn0=",
                  "datetime": "2020-02-03T23:59:29.524000",
                  "_deepnote_index_column": 736019
                },
                {
                  "Unnamed: 0.1": 628,
                  "timestamp": 1580774370.526,
                  "vin": "123b9a7bbd7775662d3a55656dc2379b",
                  "sequence": 2065,
                  "navigation_location_coordinate_latitude": 39.911392,
                  "navigation_location_coordinate_longitude": -82.806292,
                  "key": "eyJ0aW1lc3RhbXAiOjE1ODA3NzQzNzA1MjYsInZpbiI6IjEyM2I5YTdiYmQ3Nzc1NjYyZDNhNTU2NTZkYzIzNzliIn0=",
                  "datetime": "2020-02-03T23:59:30.526000",
                  "_deepnote_index_column": 736020
                },
                {
                  "Unnamed: 0.1": 717,
                  "timestamp": 1580774372.53,
                  "vin": "123b9a7bbd7775662d3a55656dc2379b",
                  "sequence": 2065,
                  "navigation_location_coordinate_latitude": 39.911405,
                  "navigation_location_coordinate_longitude": -82.806657,
                  "key": "eyJ0aW1lc3RhbXAiOjE1ODA3NzQzNzI1MzAsInZpbiI6IjEyM2I5YTdiYmQ3Nzc1NjYyZDNhNTU2NTZkYzIzNzliIn0=",
                  "datetime": "2020-02-03T23:59:32.529999",
                  "_deepnote_index_column": 736021
                },
                {
                  "Unnamed: 0.1": 806,
                  "timestamp": 1580774374.536,
                  "vin": "123b9a7bbd7775662d3a55656dc2379b",
                  "sequence": 2065,
                  "navigation_location_coordinate_latitude": 39.911421,
                  "navigation_location_coordinate_longitude": -82.807033,
                  "key": "eyJ0aW1lc3RhbXAiOjE1ODA3NzQzNzQ1MzYsInZpbiI6IjEyM2I5YTdiYmQ3Nzc1NjYyZDNhNTU2NTZkYzIzNzliIn0=",
                  "datetime": "2020-02-03T23:59:34.536000",
                  "_deepnote_index_column": 736022
                },
                {
                  "Unnamed: 0.1": 855,
                  "timestamp": 1580774375.538,
                  "vin": "123b9a7bbd7775662d3a55656dc2379b",
                  "sequence": 2065,
                  "navigation_location_coordinate_latitude": 39.911434,
                  "navigation_location_coordinate_longitude": -82.807235,
                  "key": "eyJ0aW1lc3RhbXAiOjE1ODA3NzQzNzU1MzgsInZpbiI6IjEyM2I5YTdiYmQ3Nzc1NjYyZDNhNTU2NTZkYzIzNzliIn0=",
                  "datetime": "2020-02-03T23:59:35.538000",
                  "_deepnote_index_column": 736023
                },
                {
                  "Unnamed: 0.1": 903,
                  "timestamp": 1580774376.54,
                  "vin": "123b9a7bbd7775662d3a55656dc2379b",
                  "sequence": 2065,
                  "navigation_location_coordinate_latitude": 39.911445,
                  "navigation_location_coordinate_longitude": -82.807443,
                  "key": "eyJ0aW1lc3RhbXAiOjE1ODA3NzQzNzY1NDAsInZpbiI6IjEyM2I5YTdiYmQ3Nzc1NjYyZDNhNTU2NTZkYzIzNzliIn0=",
                  "datetime": "2020-02-03T23:59:36.540000",
                  "_deepnote_index_column": 736024
                },
                {
                  "Unnamed: 0.1": 959,
                  "timestamp": 1580774377.543,
                  "vin": "123b9a7bbd7775662d3a55656dc2379b",
                  "sequence": 2065,
                  "navigation_location_coordinate_latitude": 39.911456,
                  "navigation_location_coordinate_longitude": -82.807653,
                  "key": "eyJ0aW1lc3RhbXAiOjE1ODA3NzQzNzc1NDMsInZpbiI6IjEyM2I5YTdiYmQ3Nzc1NjYyZDNhNTU2NTZkYzIzNzliIn0=",
                  "datetime": "2020-02-03T23:59:37.543000",
                  "_deepnote_index_column": 736025
                },
                {
                  "Unnamed: 0.1": 14,
                  "timestamp": 1580774378.545,
                  "vin": "123b9a7bbd7775662d3a55656dc2379b",
                  "sequence": 2065,
                  "navigation_location_coordinate_latitude": 39.911465,
                  "navigation_location_coordinate_longitude": -82.807857,
                  "key": "eyJ0aW1lc3RhbXAiOjE1ODA3NzQzNzg1NDUsInZpbiI6IjEyM2I5YTdiYmQ3Nzc1NjYyZDNhNTU2NTZkYzIzNzliIn0=",
                  "datetime": "2020-02-03T23:59:38.545000",
                  "_deepnote_index_column": 736026
                },
                {
                  "Unnamed: 0.1": 83,
                  "timestamp": 1580774379.547,
                  "vin": "123b9a7bbd7775662d3a55656dc2379b",
                  "sequence": 2065,
                  "navigation_location_coordinate_latitude": 39.911475,
                  "navigation_location_coordinate_longitude": -82.808054,
                  "key": "eyJ0aW1lc3RhbXAiOjE1ODA3NzQzNzk1NDcsInZpbiI6IjEyM2I5YTdiYmQ3Nzc1NjYyZDNhNTU2NTZkYzIzNzliIn0=",
                  "datetime": "2020-02-03T23:59:39.546999",
                  "_deepnote_index_column": 736027
                },
                {
                  "Unnamed: 0.1": 129,
                  "timestamp": 1580774380.549,
                  "vin": "123b9a7bbd7775662d3a55656dc2379b",
                  "sequence": 2065,
                  "navigation_location_coordinate_latitude": 39.911489,
                  "navigation_location_coordinate_longitude": -82.808244,
                  "key": "eyJ0aW1lc3RhbXAiOjE1ODA3NzQzODA1NDksInZpbiI6IjEyM2I5YTdiYmQ3Nzc1NjYyZDNhNTU2NTZkYzIzNzliIn0=",
                  "datetime": "2020-02-03T23:59:40.548999",
                  "_deepnote_index_column": 736028
                },
                {
                  "Unnamed: 0.1": 176,
                  "timestamp": 1580774381.552,
                  "vin": "123b9a7bbd7775662d3a55656dc2379b",
                  "sequence": 2065,
                  "navigation_location_coordinate_latitude": 39.911499,
                  "navigation_location_coordinate_longitude": -82.808428,
                  "key": "eyJ0aW1lc3RhbXAiOjE1ODA3NzQzODE1NTIsInZpbiI6IjEyM2I5YTdiYmQ3Nzc1NjYyZDNhNTU2NTZkYzIzNzliIn0=",
                  "datetime": "2020-02-03T23:59:41.552000",
                  "_deepnote_index_column": 736029
                },
                {
                  "Unnamed: 0.1": 286,
                  "timestamp": 1580774383.557,
                  "vin": "123b9a7bbd7775662d3a55656dc2379b",
                  "sequence": 2065,
                  "navigation_location_coordinate_latitude": 39.911518,
                  "navigation_location_coordinate_longitude": -82.808764,
                  "key": "eyJ0aW1lc3RhbXAiOjE1ODA3NzQzODM1NTcsInZpbiI6IjEyM2I5YTdiYmQ3Nzc1NjYyZDNhNTU2NTZkYzIzNzliIn0=",
                  "datetime": "2020-02-03T23:59:43.556999",
                  "_deepnote_index_column": 736030
                },
                {
                  "Unnamed: 0.1": 336,
                  "timestamp": 1580774384.56,
                  "vin": "123b9a7bbd7775662d3a55656dc2379b",
                  "sequence": 2065,
                  "navigation_location_coordinate_latitude": 39.911526,
                  "navigation_location_coordinate_longitude": -82.808932,
                  "key": "eyJ0aW1lc3RhbXAiOjE1ODA3NzQzODQ1NjAsInZpbiI6IjEyM2I5YTdiYmQ3Nzc1NjYyZDNhNTU2NTZkYzIzNzliIn0=",
                  "datetime": "2020-02-03T23:59:44.560000",
                  "_deepnote_index_column": 736031
                },
                {
                  "Unnamed: 0.1": 379,
                  "timestamp": 1580774385.564,
                  "vin": "123b9a7bbd7775662d3a55656dc2379b",
                  "sequence": 2065,
                  "navigation_location_coordinate_latitude": 39.911532,
                  "navigation_location_coordinate_longitude": -82.809063,
                  "key": "eyJ0aW1lc3RhbXAiOjE1ODA3NzQzODU1NjQsInZpbiI6IjEyM2I5YTdiYmQ3Nzc1NjYyZDNhNTU2NTZkYzIzNzliIn0=",
                  "datetime": "2020-02-03T23:59:45.564000",
                  "_deepnote_index_column": 736032
                },
                {
                  "Unnamed: 0.1": 423,
                  "timestamp": 1580774386.564,
                  "vin": "123b9a7bbd7775662d3a55656dc2379b",
                  "sequence": 2065,
                  "navigation_location_coordinate_latitude": 39.911541,
                  "navigation_location_coordinate_longitude": -82.809257,
                  "key": "eyJ0aW1lc3RhbXAiOjE1ODA3NzQzODY1NjQsInZpbiI6IjEyM2I5YTdiYmQ3Nzc1NjYyZDNhNTU2NTZkYzIzNzliIn0=",
                  "datetime": "2020-02-03T23:59:46.564000",
                  "_deepnote_index_column": 736033
                },
                {
                  "Unnamed: 0.1": 518,
                  "timestamp": 1580774388.569,
                  "vin": "123b9a7bbd7775662d3a55656dc2379b",
                  "sequence": 2065,
                  "navigation_location_coordinate_latitude": 39.911562,
                  "navigation_location_coordinate_longitude": -82.809595,
                  "key": "eyJ0aW1lc3RhbXAiOjE1ODA3NzQzODg1NjksInZpbiI6IjEyM2I5YTdiYmQ3Nzc1NjYyZDNhNTU2NTZkYzIzNzliIn0=",
                  "datetime": "2020-02-03T23:59:48.568999",
                  "_deepnote_index_column": 736034
                },
                {
                  "Unnamed: 0.1": 665,
                  "timestamp": 1580774391.575,
                  "vin": "123b9a7bbd7775662d3a55656dc2379b",
                  "sequence": 2065,
                  "navigation_location_coordinate_latitude": 39.911582,
                  "navigation_location_coordinate_longitude": -82.809981,
                  "key": "eyJ0aW1lc3RhbXAiOjE1ODA3NzQzOTE1NzUsInZpbiI6IjEyM2I5YTdiYmQ3Nzc1NjYyZDNhNTU2NTZkYzIzNzliIn0=",
                  "datetime": "2020-02-03T23:59:51.575000",
                  "_deepnote_index_column": 736035
                },
                {
                  "Unnamed: 0.1": 704,
                  "timestamp": 1580774392.576,
                  "vin": "123b9a7bbd7775662d3a55656dc2379b",
                  "sequence": 2065,
                  "navigation_location_coordinate_latitude": 39.911588,
                  "navigation_location_coordinate_longitude": -82.810107,
                  "key": "eyJ0aW1lc3RhbXAiOjE1ODA3NzQzOTI1NzYsInZpbiI6IjEyM2I5YTdiYmQ3Nzc1NjYyZDNhNTU2NTZkYzIzNzliIn0=",
                  "datetime": "2020-02-03T23:59:52.576000",
                  "_deepnote_index_column": 736036
                },
                {
                  "Unnamed: 0.1": 872,
                  "timestamp": 1580774395.585,
                  "vin": "123b9a7bbd7775662d3a55656dc2379b",
                  "sequence": 2065,
                  "navigation_location_coordinate_latitude": 39.911613,
                  "navigation_location_coordinate_longitude": -82.810595,
                  "key": "eyJ0aW1lc3RhbXAiOjE1ODA3NzQzOTU1ODUsInZpbiI6IjEyM2I5YTdiYmQ3Nzc1NjYyZDNhNTU2NTZkYzIzNzliIn0=",
                  "datetime": "2020-02-03T23:59:55.584999",
                  "_deepnote_index_column": 736037
                },
                {
                  "Unnamed: 0.1": 918,
                  "timestamp": 1580774396.586,
                  "vin": "123b9a7bbd7775662d3a55656dc2379b",
                  "sequence": 2065,
                  "navigation_location_coordinate_latitude": 39.911628,
                  "navigation_location_coordinate_longitude": -82.810793,
                  "key": "eyJ0aW1lc3RhbXAiOjE1ODA3NzQzOTY1ODYsInZpbiI6IjEyM2I5YTdiYmQ3Nzc1NjYyZDNhNTU2NTZkYzIzNzliIn0=",
                  "datetime": "2020-02-03T23:59:56.585999",
                  "_deepnote_index_column": 736038
                },
                {
                  "Unnamed: 0.1": 980,
                  "timestamp": 1580774397.589,
                  "vin": "123b9a7bbd7775662d3a55656dc2379b",
                  "sequence": 2065,
                  "navigation_location_coordinate_latitude": 39.911642,
                  "navigation_location_coordinate_longitude": -82.810996,
                  "key": "eyJ0aW1lc3RhbXAiOjE1ODA3NzQzOTc1ODksInZpbiI6IjEyM2I5YTdiYmQ3Nzc1NjYyZDNhNTU2NTZkYzIzNzliIn0=",
                  "datetime": "2020-02-03T23:59:57.588999",
                  "_deepnote_index_column": 736039
                },
                {
                  "Unnamed: 0.1": 107,
                  "timestamp": 1580774399.972,
                  "vin": "1356f34861fd4cf3d98dd81d3b2efeb2",
                  "sequence": 278,
                  "navigation_location_coordinate_latitude": 39.9703229,
                  "navigation_location_coordinate_longitude": -83.0224384,
                  "key": "eyJ0aW1lc3RhbXAiOjE1ODA3NzQzOTk5NzIsInZpbiI6IjEzNTZmMzQ4NjFmZDRjZjNkOThkZDgxZDNiMmVmZWIyIn0=",
                  "datetime": "2020-02-03T23:59:59.972000",
                  "_deepnote_index_column": 736040
                },
                {
                  "Unnamed: 0.1": 146,
                  "timestamp": 1580774398.913,
                  "vin": "31acdeda9fa6b46430ee89a9c773b11d",
                  "sequence": 646,
                  "navigation_location_coordinate_latitude": 40.1568799,
                  "navigation_location_coordinate_longitude": -83.0188129,
                  "key": "eyJ0aW1lc3RhbXAiOjE1ODA3NzQzOTg5MTMsInZpbiI6IjMxYWNkZWRhOWZhNmI0NjQzMGVlODlhOWM3NzNiMTFkIn0=",
                  "datetime": "2020-02-03T23:59:58.913000",
                  "_deepnote_index_column": 736041
                },
                {
                  "Unnamed: 0.1": 156,
                  "timestamp": 1580774398.924,
                  "vin": "5b829e08f4610f638675da0b6871866e",
                  "sequence": 442,
                  "navigation_location_coordinate_latitude": 40.0558583,
                  "navigation_location_coordinate_longitude": -82.9161745,
                  "key": "eyJ0aW1lc3RhbXAiOjE1ODA3NzQzOTg5MjQsInZpbiI6IjViODI5ZTA4ZjQ2MTBmNjM4Njc1ZGEwYjY4NzE4NjZlIn0=",
                  "datetime": "2020-02-03T23:59:58.924000",
                  "_deepnote_index_column": 736042
                },
                {
                  "Unnamed: 0.1": 159,
                  "timestamp": 1580774399.912,
                  "vin": "5b829e08f4610f638675da0b6871866e",
                  "sequence": 442,
                  "navigation_location_coordinate_latitude": 40.0558094,
                  "navigation_location_coordinate_longitude": -82.9163123,
                  "key": "eyJ0aW1lc3RhbXAiOjE1ODA3NzQzOTk5MTIsInZpbiI6IjViODI5ZTA4ZjQ2MTBmNjM4Njc1ZGEwYjY4NzE4NjZlIn0=",
                  "datetime": "2020-02-03T23:59:59.912000",
                  "_deepnote_index_column": 736043
                },
                {
                  "Unnamed: 0.1": 160,
                  "timestamp": 1580774398.39,
                  "vin": "5c58bdaf7bcebb50706ec0216ef901bc",
                  "sequence": 1113,
                  "navigation_location_coordinate_latitude": 39.991025,
                  "navigation_location_coordinate_longitude": -82.936689,
                  "key": "eyJ0aW1lc3RhbXAiOjE1ODA3NzQzOTgzOTAsInZpbiI6IjVjNThiZGFmN2JjZWJiNTA3MDZlYzAyMTZlZjkwMWJjIn0=",
                  "datetime": "2020-02-03T23:59:58.390000",
                  "_deepnote_index_column": 736044
                },
                {
                  "Unnamed: 0.1": 184,
                  "timestamp": 1580774398.964,
                  "vin": "647353ec630718a358cdfbf99a990888",
                  "sequence": 1407,
                  "navigation_location_coordinate_latitude": 40.0581579,
                  "navigation_location_coordinate_longitude": -82.8633569,
                  "key": "eyJ0aW1lc3RhbXAiOjE1ODA3NzQzOTg5NjQsInZpbiI6IjY0NzM1M2VjNjMwNzE4YTM1OGNkZmJmOTlhOTkwODg4In0=",
                  "datetime": "2020-02-03T23:59:58.964000",
                  "_deepnote_index_column": 736045
                },
                {
                  "Unnamed: 0.1": 192,
                  "timestamp": 1580774399.978,
                  "vin": "647353ec630718a358cdfbf99a990888",
                  "sequence": 1407,
                  "navigation_location_coordinate_latitude": 40.0581582,
                  "navigation_location_coordinate_longitude": -82.8633754,
                  "key": "eyJ0aW1lc3RhbXAiOjE1ODA3NzQzOTk5NzgsInZpbiI6IjY0NzM1M2VjNjMwNzE4YTM1OGNkZmJmOTlhOTkwODg4In0=",
                  "datetime": "2020-02-03T23:59:59.977999",
                  "_deepnote_index_column": 736046
                },
                {
                  "Unnamed: 0.1": 194,
                  "timestamp": 1580774398.934,
                  "vin": "697b9384cfde1330324dc92f5ff1bd44",
                  "sequence": 440,
                  "navigation_location_coordinate_latitude": 39.978606,
                  "navigation_location_coordinate_longitude": -82.975974,
                  "key": "eyJ0aW1lc3RhbXAiOjE1ODA3NzQzOTg5MzQsInZpbiI6IjY5N2I5Mzg0Y2ZkZTEzMzAzMjRkYzkyZjVmZjFiZDQ0In0=",
                  "datetime": "2020-02-03T23:59:58.934000",
                  "_deepnote_index_column": 736047
                },
                {
                  "Unnamed: 0.1": 200,
                  "timestamp": 1580774399.936,
                  "vin": "697b9384cfde1330324dc92f5ff1bd44",
                  "sequence": 440,
                  "navigation_location_coordinate_latitude": 39.978605,
                  "navigation_location_coordinate_longitude": -82.976335,
                  "key": "eyJ0aW1lc3RhbXAiOjE1ODA3NzQzOTk5MzYsInZpbiI6IjY5N2I5Mzg0Y2ZkZTEzMzAzMjRkYzkyZjVmZjFiZDQ0In0=",
                  "datetime": "2020-02-03T23:59:59.936000",
                  "_deepnote_index_column": 736048
                },
                {
                  "Unnamed: 0.1": 203,
                  "timestamp": 1580774398.993,
                  "vin": "6a8380efe35a2fd39a3ffe916e4a8d93",
                  "sequence": 180,
                  "navigation_location_coordinate_latitude": 40.1256195,
                  "navigation_location_coordinate_longitude": -82.9802408,
                  "key": "eyJ0aW1lc3RhbXAiOjE1ODA3NzQzOTg5OTMsInZpbiI6IjZhODM4MGVmZTM1YTJmZDM5YTNmZmU5MTZlNGE4ZDkzIn0=",
                  "datetime": "2020-02-03T23:59:58.992999",
                  "_deepnote_index_column": 736049
                },
                {
                  "Unnamed: 0.1": 206,
                  "timestamp": 1580774398.953,
                  "vin": "6ebfb90731342ccc92956d5c9623163e",
                  "sequence": 947,
                  "navigation_location_coordinate_latitude": 39.943225,
                  "navigation_location_coordinate_longitude": -82.8469228,
                  "key": "eyJ0aW1lc3RhbXAiOjE1ODA3NzQzOTg5NTMsInZpbiI6IjZlYmZiOTA3MzEzNDJjY2M5Mjk1NmQ1Yzk2MjMxNjNlIn0=",
                  "datetime": "2020-02-03T23:59:58.953000",
                  "_deepnote_index_column": 736050
                },
                {
                  "Unnamed: 0.1": 210,
                  "timestamp": 1580774399.971,
                  "vin": "75745529f421c99f0636efa2f5ba6a4e",
                  "sequence": 1466,
                  "navigation_location_coordinate_latitude": 39.9717604,
                  "navigation_location_coordinate_longitude": -82.9159141,
                  "key": "eyJ0aW1lc3RhbXAiOjE1ODA3NzQzOTk5NzEsInZpbiI6Ijc1NzQ1NTI5ZjQyMWM5OWYwNjM2ZWZhMmY1YmE2YTRlIn0=",
                  "datetime": "2020-02-03T23:59:59.971000",
                  "_deepnote_index_column": 736051
                },
                {
                  "Unnamed: 0.1": 211,
                  "timestamp": 1580774398.975,
                  "vin": "86752012e17bbc28fb9b8f938412626a",
                  "sequence": 817,
                  "navigation_location_coordinate_latitude": 39.850719,
                  "navigation_location_coordinate_longitude": -83.0814442,
                  "key": "eyJ0aW1lc3RhbXAiOjE1ODA3NzQzOTg5NzUsInZpbiI6Ijg2NzUyMDEyZTE3YmJjMjhmYjliOGY5Mzg0MTI2MjZhIn0=",
                  "datetime": "2020-02-03T23:59:58.974999",
                  "_deepnote_index_column": 736052
                },
                {
                  "Unnamed: 0.1": 212,
                  "timestamp": 1580774399.978,
                  "vin": "86752012e17bbc28fb9b8f938412626a",
                  "sequence": 817,
                  "navigation_location_coordinate_latitude": 39.8509289,
                  "navigation_location_coordinate_longitude": -83.0812064,
                  "key": "eyJ0aW1lc3RhbXAiOjE1ODA3NzQzOTk5NzgsInZpbiI6Ijg2NzUyMDEyZTE3YmJjMjhmYjliOGY5Mzg0MTI2MjZhIn0=",
                  "datetime": "2020-02-03T23:59:59.977999",
                  "_deepnote_index_column": 736053
                },
                {
                  "Unnamed: 0.1": 213,
                  "timestamp": 1580774399.995,
                  "vin": "92e64fbb0355adc2c4cd663d288b7932",
                  "sequence": 26,
                  "navigation_location_coordinate_latitude": 39.8757136,
                  "navigation_location_coordinate_longitude": -83.0380503,
                  "key": "eyJ0aW1lc3RhbXAiOjE1ODA3NzQzOTk5OTUsInZpbiI6IjkyZTY0ZmJiMDM1NWFkYzJjNGNkNjYzZDI4OGI3OTMyIn0=",
                  "datetime": "2020-02-03T23:59:59.994999",
                  "_deepnote_index_column": 736054
                },
                {
                  "Unnamed: 0.1": 214,
                  "timestamp": 1580774398.895,
                  "vin": "96e49f659f0ecb52c8874ff84d4e7145",
                  "sequence": 834,
                  "navigation_location_coordinate_latitude": 39.9831683,
                  "navigation_location_coordinate_longitude": -83.0013858,
                  "key": "eyJ0aW1lc3RhbXAiOjE1ODA3NzQzOTg4OTUsInZpbiI6Ijk2ZTQ5ZjY1OWYwZWNiNTJjODg3NGZmODRkNGU3MTQ1In0=",
                  "datetime": "2020-02-03T23:59:58.895000",
                  "_deepnote_index_column": 736055
                },
                {
                  "Unnamed: 0.1": 215,
                  "timestamp": 1580774399.894,
                  "vin": "96e49f659f0ecb52c8874ff84d4e7145",
                  "sequence": 834,
                  "navigation_location_coordinate_latitude": 39.9831683,
                  "navigation_location_coordinate_longitude": -83.0013858,
                  "key": "eyJ0aW1lc3RhbXAiOjE1ODA3NzQzOTk4OTQsInZpbiI6Ijk2ZTQ5ZjY1OWYwZWNiNTJjODg3NGZmODRkNGU3MTQ1In0=",
                  "datetime": "2020-02-03T23:59:59.894000",
                  "_deepnote_index_column": 736056
                },
                {
                  "Unnamed: 0.1": 233,
                  "timestamp": 1580774398.951,
                  "vin": "b34dd8de136a18de746890894797372a",
                  "sequence": 928,
                  "navigation_location_coordinate_latitude": 39.9431997,
                  "navigation_location_coordinate_longitude": -83.012294,
                  "key": "eyJ0aW1lc3RhbXAiOjE1ODA3NzQzOTg5NTEsInZpbiI6ImIzNGRkOGRlMTM2YTE4ZGU3NDY4OTA4OTQ3OTczNzJhIn0=",
                  "datetime": "2020-02-03T23:59:58.951000",
                  "_deepnote_index_column": 736057
                },
                {
                  "Unnamed: 0.1": 234,
                  "timestamp": 1580774399.897,
                  "vin": "b34dd8de136a18de746890894797372a",
                  "sequence": 928,
                  "navigation_location_coordinate_latitude": 39.943009,
                  "navigation_location_coordinate_longitude": -83.012161,
                  "key": "eyJ0aW1lc3RhbXAiOjE1ODA3NzQzOTk4OTcsInZpbiI6ImIzNGRkOGRlMTM2YTE4ZGU3NDY4OTA4OTQ3OTczNzJhIn0=",
                  "datetime": "2020-02-03T23:59:59.897000",
                  "_deepnote_index_column": 736058
                },
                {
                  "Unnamed: 0.1": 235,
                  "timestamp": 1580774398.987,
                  "vin": "cc63c9825a40f6dc03a7ccfc6cdc7e8d",
                  "sequence": 623,
                  "navigation_location_coordinate_latitude": 40.0891268,
                  "navigation_location_coordinate_longitude": -82.8389782,
                  "key": "eyJ0aW1lc3RhbXAiOjE1ODA3NzQzOTg5ODcsInZpbiI6ImNjNjNjOTgyNWE0MGY2ZGMwM2E3Y2NmYzZjZGM3ZThkIn0=",
                  "datetime": "2020-02-03T23:59:58.987000",
                  "_deepnote_index_column": 736059
                },
                {
                  "Unnamed: 0.1": 238,
                  "timestamp": 1580774399.993,
                  "vin": "cc63c9825a40f6dc03a7ccfc6cdc7e8d",
                  "sequence": 623,
                  "navigation_location_coordinate_latitude": 40.0892453,
                  "navigation_location_coordinate_longitude": -82.8386506,
                  "key": "eyJ0aW1lc3RhbXAiOjE1ODA3NzQzOTk5OTMsInZpbiI6ImNjNjNjOTgyNWE0MGY2ZGMwM2E3Y2NmYzZjZGM3ZThkIn0=",
                  "datetime": "2020-02-03T23:59:59.992999",
                  "_deepnote_index_column": 736060
                },
                {
                  "Unnamed: 0.1": 241,
                  "timestamp": 1580774398.878,
                  "vin": "d8538c269b6cb7eec9a1f3b2bd8fc2d7",
                  "sequence": 764,
                  "navigation_location_coordinate_latitude": 40.3040511,
                  "navigation_location_coordinate_longitude": -83.5249137,
                  "key": "eyJ0aW1lc3RhbXAiOjE1ODA3NzQzOTg4NzgsInZpbiI6ImQ4NTM4YzI2OWI2Y2I3ZWVjOWExZjNiMmJkOGZjMmQ3In0=",
                  "datetime": "2020-02-03T23:59:58.878000",
                  "_deepnote_index_column": 736061
                },
                {
                  "Unnamed: 0.1": 242,
                  "timestamp": 1580774399.879,
                  "vin": "d8538c269b6cb7eec9a1f3b2bd8fc2d7",
                  "sequence": 764,
                  "navigation_location_coordinate_latitude": 40.3040083,
                  "navigation_location_coordinate_longitude": -83.5248705,
                  "key": "eyJ0aW1lc3RhbXAiOjE1ODA3NzQzOTk4NzksInZpbiI6ImQ4NTM4YzI2OWI2Y2I3ZWVjOWExZjNiMmJkOGZjMmQ3In0=",
                  "datetime": "2020-02-03T23:59:59.879000",
                  "_deepnote_index_column": 736062
                },
                {
                  "Unnamed: 0.1": 263,
                  "timestamp": 1580774398.905,
                  "vin": "dc1133b0088aacfd4583783ff9ee06cb",
                  "sequence": 765,
                  "navigation_location_coordinate_latitude": 39.9670598,
                  "navigation_location_coordinate_longitude": -82.9245589,
                  "key": "eyJ0aW1lc3RhbXAiOjE1ODA3NzQzOTg5MDUsInZpbiI6ImRjMTEzM2IwMDg4YWFjZmQ0NTgzNzgzZmY5ZWUwNmNiIn0=",
                  "datetime": "2020-02-03T23:59:58.904999",
                  "_deepnote_index_column": 736063
                }
              ]
            },
            "text/plain": "        Unnamed: 0.1     timestamp                               vin  \\\n0              138.0  1.578942e+09  00089af9f7d3588a888379cf0ffc53cc   \n1             3548.0  1.578918e+09  005b420fd9275f080ad79e1c4330357e   \n2             3549.0  1.578918e+09  005b420fd9275f080ad79e1c4330357e   \n3             3550.0  1.578918e+09  005b420fd9275f080ad79e1c4330357e   \n4             3556.0  1.578918e+09  005b420fd9275f080ad79e1c4330357e   \n...              ...           ...                               ...   \n736059         235.0  1.580774e+09  cc63c9825a40f6dc03a7ccfc6cdc7e8d   \n736060         238.0  1.580774e+09  cc63c9825a40f6dc03a7ccfc6cdc7e8d   \n736061         241.0  1.580774e+09  d8538c269b6cb7eec9a1f3b2bd8fc2d7   \n736062         242.0  1.580774e+09  d8538c269b6cb7eec9a1f3b2bd8fc2d7   \n736063         263.0  1.580774e+09  dc1133b0088aacfd4583783ff9ee06cb   \n\n        sequence  navigation_location_coordinate_latitude  \\\n0            733                                41.492962   \n1           1142                                41.335046   \n2           1142                                41.337986   \n3           1142                                41.338722   \n4           1142                                41.292217   \n...          ...                                      ...   \n736059       623                                40.089127   \n736060       623                                40.089245   \n736061       764                                40.304051   \n736062       764                                40.304008   \n736063       765                                39.967060   \n\n        navigation_location_coordinate_longitude  \\\n0                                     -81.995163   \n1                                     -81.398117   \n2                                     -81.402637   \n3                                     -81.403610   \n4                                     -81.409466   \n...                                          ...   \n736059                                -82.838978   \n736060                                -82.838651   \n736061                                -83.524914   \n736062                                -83.524871   \n736063                                -82.924559   \n\n                                                      key  \\\n0       eyJ0aW1lc3RhbXAiOjE1Nzg5NDIzMzM3MTQsInZpbiI6Ij...   \n1       eyJ0aW1lc3RhbXAiOjE1Nzg5MTc1MzU5NjMsInZpbiI6Ij...   \n2       eyJ0aW1lc3RhbXAiOjE1Nzg5MTc2NTk5NzQsInZpbiI6Ij...   \n3       eyJ0aW1lc3RhbXAiOjE1Nzg5MTc2Njg5NTUsInZpbiI6Ij...   \n4       eyJ0aW1lc3RhbXAiOjE1Nzg5MTgyMDY5NjAsInZpbiI6Ij...   \n...                                                   ...   \n736059  eyJ0aW1lc3RhbXAiOjE1ODA3NzQzOTg5ODcsInZpbiI6Im...   \n736060  eyJ0aW1lc3RhbXAiOjE1ODA3NzQzOTk5OTMsInZpbiI6Im...   \n736061  eyJ0aW1lc3RhbXAiOjE1ODA3NzQzOTg4NzgsInZpbiI6Im...   \n736062  eyJ0aW1lc3RhbXAiOjE1ODA3NzQzOTk4NzksInZpbiI6Im...   \n736063  eyJ0aW1lc3RhbXAiOjE1ODA3NzQzOTg5MDUsInZpbiI6Im...   \n\n                            datetime  \n0      2020-01-13 19:05:33.713999872  \n1      2020-01-13 12:12:15.963000064  \n2      2020-01-13 12:14:19.973999872  \n3      2020-01-13 12:14:28.954999808  \n4      2020-01-13 12:23:26.960000000  \n...                              ...  \n736059 2020-02-03 23:59:58.987000064  \n736060 2020-02-03 23:59:59.992999936  \n736061 2020-02-03 23:59:58.878000128  \n736062 2020-02-03 23:59:59.879000064  \n736063 2020-02-03 23:59:58.904999936  \n\n[671439 rows x 8 columns]",
            "text/html": "<div>\n<style scoped>\n    .dataframe tbody tr th:only-of-type {\n        vertical-align: middle;\n    }\n\n    .dataframe tbody tr th {\n        vertical-align: top;\n    }\n\n    .dataframe thead th {\n        text-align: right;\n    }\n</style>\n<table border=\"1\" class=\"dataframe\">\n  <thead>\n    <tr style=\"text-align: right;\">\n      <th></th>\n      <th>Unnamed: 0.1</th>\n      <th>timestamp</th>\n      <th>vin</th>\n      <th>sequence</th>\n      <th>navigation_location_coordinate_latitude</th>\n      <th>navigation_location_coordinate_longitude</th>\n      <th>key</th>\n      <th>datetime</th>\n    </tr>\n  </thead>\n  <tbody>\n    <tr>\n      <th>0</th>\n      <td>138.0</td>\n      <td>1.578942e+09</td>\n      <td>00089af9f7d3588a888379cf0ffc53cc</td>\n      <td>733</td>\n      <td>41.492962</td>\n      <td>-81.995163</td>\n      <td>eyJ0aW1lc3RhbXAiOjE1Nzg5NDIzMzM3MTQsInZpbiI6Ij...</td>\n      <td>2020-01-13 19:05:33.713999872</td>\n    </tr>\n    <tr>\n      <th>1</th>\n      <td>3548.0</td>\n      <td>1.578918e+09</td>\n      <td>005b420fd9275f080ad79e1c4330357e</td>\n      <td>1142</td>\n      <td>41.335046</td>\n      <td>-81.398117</td>\n      <td>eyJ0aW1lc3RhbXAiOjE1Nzg5MTc1MzU5NjMsInZpbiI6Ij...</td>\n      <td>2020-01-13 12:12:15.963000064</td>\n    </tr>\n    <tr>\n      <th>2</th>\n      <td>3549.0</td>\n      <td>1.578918e+09</td>\n      <td>005b420fd9275f080ad79e1c4330357e</td>\n      <td>1142</td>\n      <td>41.337986</td>\n      <td>-81.402637</td>\n      <td>eyJ0aW1lc3RhbXAiOjE1Nzg5MTc2NTk5NzQsInZpbiI6Ij...</td>\n      <td>2020-01-13 12:14:19.973999872</td>\n    </tr>\n    <tr>\n      <th>3</th>\n      <td>3550.0</td>\n      <td>1.578918e+09</td>\n      <td>005b420fd9275f080ad79e1c4330357e</td>\n      <td>1142</td>\n      <td>41.338722</td>\n      <td>-81.403610</td>\n      <td>eyJ0aW1lc3RhbXAiOjE1Nzg5MTc2Njg5NTUsInZpbiI6Ij...</td>\n      <td>2020-01-13 12:14:28.954999808</td>\n    </tr>\n    <tr>\n      <th>4</th>\n      <td>3556.0</td>\n      <td>1.578918e+09</td>\n      <td>005b420fd9275f080ad79e1c4330357e</td>\n      <td>1142</td>\n      <td>41.292217</td>\n      <td>-81.409466</td>\n      <td>eyJ0aW1lc3RhbXAiOjE1Nzg5MTgyMDY5NjAsInZpbiI6Ij...</td>\n      <td>2020-01-13 12:23:26.960000000</td>\n    </tr>\n    <tr>\n      <th>...</th>\n      <td>...</td>\n      <td>...</td>\n      <td>...</td>\n      <td>...</td>\n      <td>...</td>\n      <td>...</td>\n      <td>...</td>\n      <td>...</td>\n    </tr>\n    <tr>\n      <th>736059</th>\n      <td>235.0</td>\n      <td>1.580774e+09</td>\n      <td>cc63c9825a40f6dc03a7ccfc6cdc7e8d</td>\n      <td>623</td>\n      <td>40.089127</td>\n      <td>-82.838978</td>\n      <td>eyJ0aW1lc3RhbXAiOjE1ODA3NzQzOTg5ODcsInZpbiI6Im...</td>\n      <td>2020-02-03 23:59:58.987000064</td>\n    </tr>\n    <tr>\n      <th>736060</th>\n      <td>238.0</td>\n      <td>1.580774e+09</td>\n      <td>cc63c9825a40f6dc03a7ccfc6cdc7e8d</td>\n      <td>623</td>\n      <td>40.089245</td>\n      <td>-82.838651</td>\n      <td>eyJ0aW1lc3RhbXAiOjE1ODA3NzQzOTk5OTMsInZpbiI6Im...</td>\n      <td>2020-02-03 23:59:59.992999936</td>\n    </tr>\n    <tr>\n      <th>736061</th>\n      <td>241.0</td>\n      <td>1.580774e+09</td>\n      <td>d8538c269b6cb7eec9a1f3b2bd8fc2d7</td>\n      <td>764</td>\n      <td>40.304051</td>\n      <td>-83.524914</td>\n      <td>eyJ0aW1lc3RhbXAiOjE1ODA3NzQzOTg4NzgsInZpbiI6Im...</td>\n      <td>2020-02-03 23:59:58.878000128</td>\n    </tr>\n    <tr>\n      <th>736062</th>\n      <td>242.0</td>\n      <td>1.580774e+09</td>\n      <td>d8538c269b6cb7eec9a1f3b2bd8fc2d7</td>\n      <td>764</td>\n      <td>40.304008</td>\n      <td>-83.524871</td>\n      <td>eyJ0aW1lc3RhbXAiOjE1ODA3NzQzOTk4NzksInZpbiI6Im...</td>\n      <td>2020-02-03 23:59:59.879000064</td>\n    </tr>\n    <tr>\n      <th>736063</th>\n      <td>263.0</td>\n      <td>1.580774e+09</td>\n      <td>dc1133b0088aacfd4583783ff9ee06cb</td>\n      <td>765</td>\n      <td>39.967060</td>\n      <td>-82.924559</td>\n      <td>eyJ0aW1lc3RhbXAiOjE1ODA3NzQzOTg5MDUsInZpbiI6Im...</td>\n      <td>2020-02-03 23:59:58.904999936</td>\n    </tr>\n  </tbody>\n</table>\n<p>671439 rows × 8 columns</p>\n</div>"
          },
          "metadata": {}
        }
      ]
    },
    {
      "cell_type": "markdown",
      "source": "<a style='text-decoration:none;line-height:16px;display:flex;color:#5B5B62;padding:10px;justify-content:end;' href='https://deepnote.com?utm_source=created-in-deepnote-cell&projectId=608d4940-9d52-4d53-8e1b-b72eb309e61f' target=\"_blank\">\n<img alt='Created in deepnote.com' style='display:inline;max-height:16px;margin:0px;margin-right:7.5px;' src='data:image/svg+xml;base64,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' > </img>\nCreated in <span style='font-weight:600;margin-left:4px;'>Deepnote</span></a>",
      "metadata": {
        "tags": [],
        "created_in_deepnote_cell": true,
        "deepnote_cell_type": "markdown"
      }
    }
  ],
  "nbformat": 4,
  "nbformat_minor": 2,
  "metadata": {
    "orig_nbformat": 2,
    "deepnote_notebook_id": "a3e62046-d78e-4858-8a3e-f963aaf0f505",
    "deepnote": {},
    "deepnote_execution_queue": []
  }
}