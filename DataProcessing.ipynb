{
  "cells": [
    {
      "cell_type": "code",
      "metadata": {
        "tags": [],
        "cell_id": "00000-9023b3db-65b8-4dae-a64e-7f28383347ca",
        "deepnote_to_be_reexecuted": false,
        "source_hash": "17250f03",
        "execution_millis": 5,
        "execution_start": 1620203434578,
        "deepnote_cell_type": "code"
      },
      "source": "import numpy as np\nimport pandas as pd\nimport seaborn as sns\nimport geopandas as gpd\nfrom shapely.geometry import Point, Polygon\nfrom geopandas import GeoDataFrame\nimport matplotlib.pyplot as plt\nimport sklearn\nimport sklearn.utils\nfrom sklearn.pipeline import Pipeline\nfrom sklearn.preprocessing import StandardScaler\nfrom sklearn.cluster import DBSCAN\nimport matplotlib.pyplot as plt\nimport scipy.stats as stats\nfrom datetime import datetime\nimport datetime\nfrom datetime import timedelta",
      "execution_count": 16,
      "outputs": []
    },
    {
      "cell_type": "code",
      "metadata": {
        "tags": [],
        "cell_id": "00001-7101199c-f875-4e52-aea4-95d700b11007",
        "deepnote_to_be_reexecuted": false,
        "source_hash": "f0f56d3d",
        "execution_millis": 1236,
        "execution_start": 1620203435436,
        "deepnote_cell_type": "code"
      },
      "source": "\"\"\"\nImporting csv file with new data and filtering it further.\n\n    Returns:\n    _ _ _ _ _ _ _ _ _ _ _ _ _\n    Dataframe with dropped nan values and dropped index.\n    \n\"\"\"\nnewdata = pd.read_csv(\"/work/Data/newdataset.csv\")\nnewdata = newdata.dropna().drop(columns=[\"Unnamed: 0\"])\nnewdata",
      "execution_count": 17,
      "outputs": [
        {
          "output_type": "execute_result",
          "execution_count": 17,
          "data": {
            "application/vnd.deepnote.dataframe.v2+json": {
              "row_count": 47141,
              "column_count": 9,
              "columns": [
                {
                  "name": "vin",
                  "dtype": "object",
                  "stats": {
                    "unique_count": 953,
                    "nan_count": 0,
                    "categories": [
                      {
                        "name": "f9f14cc8f0891d7158cb72ffb949351b",
                        "count": 302
                      },
                      {
                        "name": "1b125fdb98fb568d04066ad0c249e11f",
                        "count": 229
                      },
                      {
                        "name": "951 others",
                        "count": 46610
                      }
                    ]
                  }
                },
                {
                  "name": "sequence",
                  "dtype": "int64",
                  "stats": {
                    "unique_count": 2438,
                    "nan_count": 0,
                    "min": "1",
                    "max": "4127",
                    "histogram": [
                      {
                        "bin_start": 1,
                        "bin_end": 413.6,
                        "count": 14722
                      },
                      {
                        "bin_start": 413.6,
                        "bin_end": 826.2,
                        "count": 20031
                      },
                      {
                        "bin_start": 826.2,
                        "bin_end": 1238.8000000000002,
                        "count": 8435
                      },
                      {
                        "bin_start": 1238.8000000000002,
                        "bin_end": 1651.4,
                        "count": 2245
                      },
                      {
                        "bin_start": 1651.4,
                        "bin_end": 2064,
                        "count": 1095
                      },
                      {
                        "bin_start": 2064,
                        "bin_end": 2476.6000000000004,
                        "count": 449
                      },
                      {
                        "bin_start": 2476.6000000000004,
                        "bin_end": 2889.2000000000003,
                        "count": 44
                      },
                      {
                        "bin_start": 2889.2000000000003,
                        "bin_end": 3301.8,
                        "count": 5
                      },
                      {
                        "bin_start": 3301.8,
                        "bin_end": 3714.4,
                        "count": 24
                      },
                      {
                        "bin_start": 3714.4,
                        "bin_end": 4127,
                        "count": 91
                      }
                    ]
                  }
                },
                {
                  "name": "first",
                  "dtype": "float64"
                },
                {
                  "name": "last",
                  "dtype": "float64"
                },
                {
                  "name": "start_lat",
                  "dtype": "float64"
                },
                {
                  "name": "start_long",
                  "dtype": "float64"
                },
                {
                  "name": "latitude",
                  "dtype": "float64"
                },
                {
                  "name": "longitude",
                  "dtype": "float64"
                },
                {
                  "name": "dwell time duration (seconds)",
                  "dtype": "float64"
                },
                {
                  "name": "_deepnote_index_column",
                  "dtype": "int64"
                }
              ],
              "rows_top": [
                {
                  "vin": "005b420fd9275f080ad79e1c4330357e",
                  "sequence": 1143,
                  "first": 1578927144.985,
                  "last": 1578927994.968,
                  "start_lat": 41.267,
                  "start_long": -81.378,
                  "latitude": 41.41,
                  "longitude": -81.5,
                  "dwell time duration (seconds)": 8938.025,
                  "_deepnote_index_column": 2
                },
                {
                  "vin": "005b420fd9275f080ad79e1c4330357e",
                  "sequence": 1145,
                  "first": 1578938069.94,
                  "last": 1578939136.049,
                  "start_lat": 41.394,
                  "start_long": -81.413,
                  "latitude": 41.414,
                  "longitude": -81.504,
                  "dwell time duration (seconds)": 10074.972,
                  "_deepnote_index_column": 3
                },
                {
                  "vin": "005b420fd9275f080ad79e1c4330357e",
                  "sequence": 1146,
                  "first": 1578953321.966,
                  "last": 1578954028.967,
                  "start_lat": 41.409,
                  "start_long": -81.497,
                  "latitude": 41.379,
                  "longitude": -81.427,
                  "dwell time duration (seconds)": 14185.917,
                  "_deepnote_index_column": 4
                },
                {
                  "vin": "008beb5671fb49a92dc0ef9de96979bf",
                  "sequence": 555,
                  "first": 1578443263.896,
                  "last": 1578444607.89,
                  "start_lat": 40.1,
                  "start_long": -83.166,
                  "latitude": 40.149,
                  "longitude": -82.904,
                  "dwell time duration (seconds)": 45104.446,
                  "_deepnote_index_column": 6
                },
                {
                  "vin": "008beb5671fb49a92dc0ef9de96979bf",
                  "sequence": 556,
                  "first": 1578482376.448,
                  "last": 1578484036.969,
                  "start_lat": 40.149,
                  "start_long": -82.904,
                  "latitude": 40.1,
                  "longitude": -83.166,
                  "dwell time duration (seconds)": 37768.558,
                  "_deepnote_index_column": 7
                },
                {
                  "vin": "008beb5671fb49a92dc0ef9de96979bf",
                  "sequence": 558,
                  "first": 1578530126.928,
                  "last": 1578531627.955,
                  "start_lat": 40.1,
                  "start_long": -83.166,
                  "latitude": 40.149,
                  "longitude": -82.904,
                  "dwell time duration (seconds)": 46089.959,
                  "_deepnote_index_column": 8
                },
                {
                  "vin": "008beb5671fb49a92dc0ef9de96979bf",
                  "sequence": 559,
                  "first": 1578569447.929,
                  "last": 1578570632.109,
                  "start_lat": 40.149,
                  "start_long": -82.904,
                  "latitude": 40.1,
                  "longitude": -83.167,
                  "dwell time duration (seconds)": 37819.974,
                  "_deepnote_index_column": 9
                },
                {
                  "vin": "008beb5671fb49a92dc0ef9de96979bf",
                  "sequence": 561,
                  "first": 1578616173.954,
                  "last": 1578617636.176,
                  "start_lat": 40.1,
                  "start_long": -83.167,
                  "latitude": 40.149,
                  "longitude": -82.904,
                  "dwell time duration (seconds)": 45541.845,
                  "_deepnote_index_column": 10
                },
                {
                  "vin": "008beb5671fb49a92dc0ef9de96979bf",
                  "sequence": 562,
                  "first": 1578696879.961,
                  "last": 1578698135.98,
                  "start_lat": 40.149,
                  "start_long": -82.904,
                  "latitude": 40.058,
                  "longitude": -82.915,
                  "dwell time duration (seconds)": 79243.785,
                  "_deepnote_index_column": 11
                },
                {
                  "vin": "008beb5671fb49a92dc0ef9de96979bf",
                  "sequence": 564,
                  "first": 1578704475.965,
                  "last": 1578705355.95,
                  "start_lat": 40.059,
                  "start_long": -82.915,
                  "latitude": 39.923,
                  "longitude": -82.836,
                  "dwell time duration (seconds)": 6339.985,
                  "_deepnote_index_column": 12
                },
                {
                  "vin": "008beb5671fb49a92dc0ef9de96979bf",
                  "sequence": 565,
                  "first": 1578711521.029,
                  "last": 1578713266.987,
                  "start_lat": 39.922,
                  "start_long": -82.836,
                  "latitude": 40.149,
                  "longitude": -82.904,
                  "dwell time duration (seconds)": 6165.079,
                  "_deepnote_index_column": 13
                },
                {
                  "vin": "008beb5671fb49a92dc0ef9de96979bf",
                  "sequence": 567,
                  "first": 1578746830.985,
                  "last": 1578747416.04,
                  "start_lat": 40.149,
                  "start_long": -82.904,
                  "latitude": 40.128,
                  "longitude": -82.932,
                  "dwell time duration (seconds)": 33563.998,
                  "_deepnote_index_column": 14
                },
                {
                  "vin": "008beb5671fb49a92dc0ef9de96979bf",
                  "sequence": 568,
                  "first": 1578750996.488,
                  "last": 1578752316.942,
                  "start_lat": 40.128,
                  "start_long": -82.932,
                  "latitude": 40.149,
                  "longitude": -82.904,
                  "dwell time duration (seconds)": 3580.448,
                  "_deepnote_index_column": 15
                },
                {
                  "vin": "008beb5671fb49a92dc0ef9de96979bf",
                  "sequence": 570,
                  "first": 1578758614.962,
                  "last": 1578758709.994,
                  "start_lat": 40.149,
                  "start_long": -82.904,
                  "latitude": 40.149,
                  "longitude": -82.904,
                  "dwell time duration (seconds)": 6298.02,
                  "_deepnote_index_column": 16
                },
                {
                  "vin": "008beb5671fb49a92dc0ef9de96979bf",
                  "sequence": 571,
                  "first": 1578762329.788,
                  "last": 1578762369.781,
                  "start_lat": 40.149,
                  "start_long": -82.904,
                  "latitude": 40.149,
                  "longitude": -82.904,
                  "dwell time duration (seconds)": 3619.794,
                  "_deepnote_index_column": 17
                },
                {
                  "vin": "008beb5671fb49a92dc0ef9de96979bf",
                  "sequence": 573,
                  "first": 1578766570.212,
                  "last": 1578766580.927,
                  "start_lat": 40.149,
                  "start_long": -82.904,
                  "latitude": 40.149,
                  "longitude": -82.904,
                  "dwell time duration (seconds)": 4200.431,
                  "_deepnote_index_column": 18
                },
                {
                  "vin": "008beb5671fb49a92dc0ef9de96979bf",
                  "sequence": 574,
                  "first": 1578778651.983,
                  "last": 1578779369.97,
                  "start_lat": 40.149,
                  "start_long": -82.904,
                  "latitude": 40.14,
                  "longitude": -82.982,
                  "dwell time duration (seconds)": 12071.056,
                  "_deepnote_index_column": 19
                },
                {
                  "vin": "008beb5671fb49a92dc0ef9de96979bf",
                  "sequence": 576,
                  "first": 1578781055.921,
                  "last": 1578782387.951,
                  "start_lat": 40.14,
                  "start_long": -82.982,
                  "latitude": 40.149,
                  "longitude": -82.904,
                  "dwell time duration (seconds)": 1685.951,
                  "_deepnote_index_column": 20
                },
                {
                  "vin": "008beb5671fb49a92dc0ef9de96979bf",
                  "sequence": 577,
                  "first": 1578782612.904,
                  "last": 1578782625.905,
                  "start_lat": 40.149,
                  "start_long": -82.904,
                  "latitude": 40.149,
                  "longitude": -82.904,
                  "dwell time duration (seconds)": 224.953,
                  "_deepnote_index_column": 21
                },
                {
                  "vin": "008beb5671fb49a92dc0ef9de96979bf",
                  "sequence": 585,
                  "first": 1578918291.429,
                  "last": 1578919847.554,
                  "start_lat": 40.149,
                  "start_long": -82.904,
                  "latitude": 40.1,
                  "longitude": -83.167,
                  "dwell time duration (seconds)": 135665.524,
                  "_deepnote_index_column": 22
                },
                {
                  "vin": "008beb5671fb49a92dc0ef9de96979bf",
                  "sequence": 586,
                  "first": 1578961627.98,
                  "last": 1578963020.994,
                  "start_lat": 40.1,
                  "start_long": -83.166,
                  "latitude": 40.149,
                  "longitude": -82.904,
                  "dwell time duration (seconds)": 41780.426,
                  "_deepnote_index_column": 23
                },
                {
                  "vin": "008beb5671fb49a92dc0ef9de96979bf",
                  "sequence": 588,
                  "first": 1579001282.871,
                  "last": 1579002531.966,
                  "start_lat": 40.149,
                  "start_long": -82.904,
                  "latitude": 40.1,
                  "longitude": -83.167,
                  "dwell time duration (seconds)": 38261.877,
                  "_deepnote_index_column": 24
                },
                {
                  "vin": "008beb5671fb49a92dc0ef9de96979bf",
                  "sequence": 589,
                  "first": 1579048090.911,
                  "last": 1579049311.005,
                  "start_lat": 40.1,
                  "start_long": -83.167,
                  "latitude": 40.146,
                  "longitude": -82.916,
                  "dwell time duration (seconds)": 45558.945,
                  "_deepnote_index_column": 25
                },
                {
                  "vin": "008beb5671fb49a92dc0ef9de96979bf",
                  "sequence": 591,
                  "first": 1579097522.974,
                  "last": 1579098132.712,
                  "start_lat": 40.149,
                  "start_long": -82.904,
                  "latitude": 40.148,
                  "longitude": -82.977,
                  "dwell time duration (seconds)": 48211.969,
                  "_deepnote_index_column": 26
                },
                {
                  "vin": "008beb5671fb49a92dc0ef9de96979bf",
                  "sequence": 592,
                  "first": 1579102549.942,
                  "last": 1579103031.927,
                  "start_lat": 40.148,
                  "start_long": -82.977,
                  "latitude": 40.149,
                  "longitude": -82.904,
                  "dwell time duration (seconds)": 4417.23,
                  "_deepnote_index_column": 27
                },
                {
                  "vin": "008beb5671fb49a92dc0ef9de96979bf",
                  "sequence": 594,
                  "first": 1579120513.309,
                  "last": 1579121189.165,
                  "start_lat": 40.148,
                  "start_long": -82.905,
                  "latitude": 40.149,
                  "longitude": -82.979,
                  "dwell time duration (seconds)": 17481.382,
                  "_deepnote_index_column": 28
                },
                {
                  "vin": "008beb5671fb49a92dc0ef9de96979bf",
                  "sequence": 595,
                  "first": 1579130062.821,
                  "last": 1579130197.943,
                  "start_lat": 40.149,
                  "start_long": -82.979,
                  "latitude": 40.15,
                  "longitude": -82.977,
                  "dwell time duration (seconds)": 8873.656,
                  "_deepnote_index_column": 29
                },
                {
                  "vin": "008beb5671fb49a92dc0ef9de96979bf",
                  "sequence": 597,
                  "first": 1579131686.796,
                  "last": 1579132512.798,
                  "start_lat": 40.15,
                  "start_long": -82.976,
                  "latitude": 40.149,
                  "longitude": -82.904,
                  "dwell time duration (seconds)": 1488.853,
                  "_deepnote_index_column": 30
                },
                {
                  "vin": "008beb5671fb49a92dc0ef9de96979bf",
                  "sequence": 602,
                  "first": 1579259789.418,
                  "last": 1579261599.369,
                  "start_lat": 40.149,
                  "start_long": -82.904,
                  "latitude": 40.101,
                  "longitude": -83.166,
                  "dwell time duration (seconds)": 127276.62,
                  "_deepnote_index_column": 31
                },
                {
                  "vin": "008beb5671fb49a92dc0ef9de96979bf",
                  "sequence": 603,
                  "first": 1579305819.931,
                  "last": 1579306991.942,
                  "start_lat": 40.1,
                  "start_long": -83.166,
                  "latitude": 40.149,
                  "longitude": -82.921,
                  "dwell time duration (seconds)": 44220.562,
                  "_deepnote_index_column": 32
                },
                {
                  "vin": "008beb5671fb49a92dc0ef9de96979bf",
                  "sequence": 604,
                  "first": 1579307775.954,
                  "last": 1579307972.919,
                  "start_lat": 40.148,
                  "start_long": -82.921,
                  "latitude": 40.149,
                  "longitude": -82.904,
                  "dwell time duration (seconds)": 784.012,
                  "_deepnote_index_column": 33
                },
                {
                  "vin": "008beb5671fb49a92dc0ef9de96979bf",
                  "sequence": 606,
                  "first": 1579351401.888,
                  "last": 1579351864.878,
                  "start_lat": 40.149,
                  "start_long": -82.904,
                  "latitude": 40.127,
                  "longitude": -82.932,
                  "dwell time duration (seconds)": 43428.969,
                  "_deepnote_index_column": 34
                },
                {
                  "vin": "008beb5671fb49a92dc0ef9de96979bf",
                  "sequence": 607,
                  "first": 1579355684.948,
                  "last": 1579356097.953,
                  "start_lat": 40.127,
                  "start_long": -82.932,
                  "latitude": 40.149,
                  "longitude": -82.904,
                  "dwell time duration (seconds)": 3820.07,
                  "_deepnote_index_column": 35
                },
                {
                  "vin": "008beb5671fb49a92dc0ef9de96979bf",
                  "sequence": 609,
                  "first": 1579388261.939,
                  "last": 1579395318.138,
                  "start_lat": 40.149,
                  "start_long": -82.904,
                  "latitude": 41.374,
                  "longitude": -83.65,
                  "dwell time duration (seconds)": 32163.986,
                  "_deepnote_index_column": 36
                },
                {
                  "vin": "008beb5671fb49a92dc0ef9de96979bf",
                  "sequence": 610,
                  "first": 1579401451.914,
                  "last": 1579401859.914,
                  "start_lat": 41.374,
                  "start_long": -83.65,
                  "latitude": 41.379,
                  "longitude": -83.629,
                  "dwell time duration (seconds)": 6133.776,
                  "_deepnote_index_column": 37
                },
                {
                  "vin": "008beb5671fb49a92dc0ef9de96979bf",
                  "sequence": 612,
                  "first": 1579405215.904,
                  "last": 1579405360.9,
                  "start_lat": 41.379,
                  "start_long": -83.629,
                  "latitude": 41.374,
                  "longitude": -83.623,
                  "dwell time duration (seconds)": 3355.99,
                  "_deepnote_index_column": 38
                },
                {
                  "vin": "008beb5671fb49a92dc0ef9de96979bf",
                  "sequence": 613,
                  "first": 1579405625.87,
                  "last": 1579405780.007,
                  "start_lat": 41.374,
                  "start_long": -83.624,
                  "latitude": 41.379,
                  "longitude": -83.629,
                  "dwell time duration (seconds)": 264.97,
                  "_deepnote_index_column": 39
                },
                {
                  "vin": "008beb5671fb49a92dc0ef9de96979bf",
                  "sequence": 615,
                  "first": 1579411077.949,
                  "last": 1579411306.953,
                  "start_lat": 41.379,
                  "start_long": -83.629,
                  "latitude": 41.379,
                  "longitude": -83.629,
                  "dwell time duration (seconds)": 5297.942,
                  "_deepnote_index_column": 40
                },
                {
                  "vin": "008beb5671fb49a92dc0ef9de96979bf",
                  "sequence": 616,
                  "first": 1579412482.902,
                  "last": 1579419111.206,
                  "start_lat": 41.378,
                  "start_long": -83.628,
                  "latitude": 40.149,
                  "longitude": -82.904,
                  "dwell time duration (seconds)": 1175.949,
                  "_deepnote_index_column": 41
                },
                {
                  "vin": "008beb5671fb49a92dc0ef9de96979bf",
                  "sequence": 618,
                  "first": 1579453611.809,
                  "last": 1579455309.844,
                  "start_lat": 40.149,
                  "start_long": -82.904,
                  "latitude": 40.051,
                  "longitude": -82.913,
                  "dwell time duration (seconds)": 34500.603,
                  "_deepnote_index_column": 42
                },
                {
                  "vin": "008beb5671fb49a92dc0ef9de96979bf",
                  "sequence": 619,
                  "first": 1579459887.693,
                  "last": 1579460138.9,
                  "start_lat": 40.052,
                  "start_long": -82.914,
                  "latitude": 40.055,
                  "longitude": -82.909,
                  "dwell time duration (seconds)": 4577.849,
                  "_deepnote_index_column": 43
                },
                {
                  "vin": "008beb5671fb49a92dc0ef9de96979bf",
                  "sequence": 621,
                  "first": 1579462143.889,
                  "last": 1579462365.932,
                  "start_lat": 40.056,
                  "start_long": -82.909,
                  "latitude": 40.057,
                  "longitude": -82.909,
                  "dwell time duration (seconds)": 2004.989,
                  "_deepnote_index_column": 44
                },
                {
                  "vin": "008beb5671fb49a92dc0ef9de96979bf",
                  "sequence": 622,
                  "first": 1579463900.983,
                  "last": 1579464861.941,
                  "start_lat": 40.057,
                  "start_long": -82.909,
                  "latitude": 40.149,
                  "longitude": -82.904,
                  "dwell time duration (seconds)": 1535.051,
                  "_deepnote_index_column": 45
                },
                {
                  "vin": "008beb5671fb49a92dc0ef9de96979bf",
                  "sequence": 624,
                  "first": 1579523409.13,
                  "last": 1579524674.106,
                  "start_lat": 40.149,
                  "start_long": -82.904,
                  "latitude": 40.1,
                  "longitude": -83.163,
                  "dwell time duration (seconds)": 58547.189,
                  "_deepnote_index_column": 46
                },
                {
                  "vin": "008beb5671fb49a92dc0ef9de96979bf",
                  "sequence": 628,
                  "first": 1579653171.373,
                  "last": 1579654579.971,
                  "start_lat": 40.101,
                  "start_long": -83.166,
                  "latitude": 40.149,
                  "longitude": -82.904,
                  "dwell time duration (seconds)": 128497.267,
                  "_deepnote_index_column": 47
                },
                {
                  "vin": "008beb5671fb49a92dc0ef9de96979bf",
                  "sequence": 630,
                  "first": 1579711418.708,
                  "last": 1579712150.96,
                  "start_lat": 40.148,
                  "start_long": -82.904,
                  "latitude": 40.148,
                  "longitude": -82.977,
                  "dwell time duration (seconds)": 56838.737,
                  "_deepnote_index_column": 48
                },
                {
                  "vin": "008beb5671fb49a92dc0ef9de96979bf",
                  "sequence": 631,
                  "first": 1579715973.74,
                  "last": 1579716152.955,
                  "start_lat": 40.148,
                  "start_long": -82.978,
                  "latitude": 40.149,
                  "longitude": -82.976,
                  "dwell time duration (seconds)": 3822.78,
                  "_deepnote_index_column": 49
                },
                {
                  "vin": "008beb5671fb49a92dc0ef9de96979bf",
                  "sequence": 633,
                  "first": 1579716334.418,
                  "last": 1579717056.949,
                  "start_lat": 40.15,
                  "start_long": -82.976,
                  "latitude": 40.149,
                  "longitude": -82.904,
                  "dwell time duration (seconds)": 181.463,
                  "_deepnote_index_column": 50
                },
                {
                  "vin": "008beb5671fb49a92dc0ef9de96979bf",
                  "sequence": 634,
                  "first": 1579732011.973,
                  "last": 1579734253.069,
                  "start_lat": 40.149,
                  "start_long": -82.904,
                  "latitude": 39.971,
                  "longitude": -83.004,
                  "dwell time duration (seconds)": 14955.024,
                  "_deepnote_index_column": 51
                },
                {
                  "vin": "008beb5671fb49a92dc0ef9de96979bf",
                  "sequence": 636,
                  "first": 1579749725.74,
                  "last": 1579752666.87,
                  "start_lat": 39.971,
                  "start_long": -83.004,
                  "latitude": 40.149,
                  "longitude": -82.904,
                  "dwell time duration (seconds)": 15472.671,
                  "_deepnote_index_column": 52
                },
                {
                  "vin": "008beb5671fb49a92dc0ef9de96979bf",
                  "sequence": 637,
                  "first": 1579779230.168,
                  "last": 1579780592.938,
                  "start_lat": 40.149,
                  "start_long": -82.904,
                  "latitude": 40.1,
                  "longitude": -83.167,
                  "dwell time duration (seconds)": 26563.298,
                  "_deepnote_index_column": 53
                },
                {
                  "vin": "008beb5671fb49a92dc0ef9de96979bf",
                  "sequence": 639,
                  "first": 1579824258.983,
                  "last": 1579825707.962,
                  "start_lat": 40.1,
                  "start_long": -83.166,
                  "latitude": 40.149,
                  "longitude": -82.904,
                  "dwell time duration (seconds)": 43666.045,
                  "_deepnote_index_column": 54
                },
                {
                  "vin": "008beb5671fb49a92dc0ef9de96979bf",
                  "sequence": 640,
                  "first": 1579874994.679,
                  "last": 1579875633.689,
                  "start_lat": 40.148,
                  "start_long": -82.904,
                  "latitude": 40.148,
                  "longitude": -82.977,
                  "dwell time duration (seconds)": 49286.717,
                  "_deepnote_index_column": 55
                },
                {
                  "vin": "008beb5671fb49a92dc0ef9de96979bf",
                  "sequence": 642,
                  "first": 1579880039.503,
                  "last": 1579880515.993,
                  "start_lat": 40.148,
                  "start_long": -82.977,
                  "latitude": 40.149,
                  "longitude": -82.904,
                  "dwell time duration (seconds)": 4405.814,
                  "_deepnote_index_column": 56
                },
                {
                  "vin": "008beb5671fb49a92dc0ef9de96979bf",
                  "sequence": 643,
                  "first": 1579907978.118,
                  "last": 1579908233.896,
                  "start_lat": 40.149,
                  "start_long": -82.904,
                  "latitude": 40.149,
                  "longitude": -82.921,
                  "dwell time duration (seconds)": 27462.125,
                  "_deepnote_index_column": 57
                }
              ],
              "rows_bottom": [
                {
                  "vin": "ffabe3f9905f857b5f4c64150c4945f0",
                  "sequence": 77,
                  "first": 1579732465.026,
                  "last": 1579732823.859,
                  "start_lat": 39.97,
                  "start_long": -83.002,
                  "latitude": 39.971,
                  "longitude": -83.004,
                  "dwell time duration (seconds)": 241.008,
                  "_deepnote_index_column": 48159
                },
                {
                  "vin": "ffabe3f9905f857b5f4c64150c4945f0",
                  "sequence": 78,
                  "first": 1579744251.977,
                  "last": 1579745995.983,
                  "start_lat": 39.972,
                  "start_long": -83.003,
                  "latitude": 40.084,
                  "longitude": -82.84,
                  "dwell time duration (seconds)": 11428.118,
                  "_deepnote_index_column": 48160
                },
                {
                  "vin": "ffabe3f9905f857b5f4c64150c4945f0",
                  "sequence": 79,
                  "first": 1579787801,
                  "last": 1579788990.944,
                  "start_lat": 40.084,
                  "start_long": -82.839,
                  "latitude": 40.112,
                  "longitude": -83.005,
                  "dwell time duration (seconds)": 41805.017,
                  "_deepnote_index_column": 48161
                },
                {
                  "vin": "ffabe3f9905f857b5f4c64150c4945f0",
                  "sequence": 80,
                  "first": 1579812901.153,
                  "last": 1579813033.754,
                  "start_lat": 40.113,
                  "start_long": -83.005,
                  "latitude": 40.118,
                  "longitude": -83.012,
                  "dwell time duration (seconds)": 23910.209,
                  "_deepnote_index_column": 48162
                },
                {
                  "vin": "ffabe3f9905f857b5f4c64150c4945f0",
                  "sequence": 81,
                  "first": 1579821462.418,
                  "last": 1579822468.953,
                  "start_lat": 40.118,
                  "start_long": -83.012,
                  "latitude": 40.084,
                  "longitude": -82.84,
                  "dwell time duration (seconds)": 8428.664,
                  "_deepnote_index_column": 48163
                },
                {
                  "vin": "ffabe3f9905f857b5f4c64150c4945f0",
                  "sequence": 82,
                  "first": 1579872682.93,
                  "last": 1579873976.93,
                  "start_lat": 40.084,
                  "start_long": -82.84,
                  "latitude": 40.112,
                  "longitude": -83.004,
                  "dwell time duration (seconds)": 50213.977,
                  "_deepnote_index_column": 48164
                },
                {
                  "vin": "ffabe3f9905f857b5f4c64150c4945f0",
                  "sequence": 83,
                  "first": 1579901202.193,
                  "last": 1579902951.204,
                  "start_lat": 40.114,
                  "start_long": -83.006,
                  "latitude": 40.08,
                  "longitude": -82.813,
                  "dwell time duration (seconds)": 27225.263,
                  "_deepnote_index_column": 48165
                },
                {
                  "vin": "ffabe3f9905f857b5f4c64150c4945f0",
                  "sequence": 84,
                  "first": 1579903309.016,
                  "last": 1579903706.988,
                  "start_lat": 40.08,
                  "start_long": -82.814,
                  "latitude": 40.084,
                  "longitude": -82.84,
                  "dwell time duration (seconds)": 357.812,
                  "_deepnote_index_column": 48166
                },
                {
                  "vin": "ffabe3f9905f857b5f4c64150c4945f0",
                  "sequence": 85,
                  "first": 1579906527.991,
                  "last": 1579907514.972,
                  "start_lat": 40.084,
                  "start_long": -82.84,
                  "latitude": 40.084,
                  "longitude": -82.84,
                  "dwell time duration (seconds)": 2821.003,
                  "_deepnote_index_column": 48167
                },
                {
                  "vin": "ffabe3f9905f857b5f4c64150c4945f0",
                  "sequence": 86,
                  "first": 1579909338.959,
                  "last": 1579909734.136,
                  "start_lat": 40.084,
                  "start_long": -82.84,
                  "latitude": 40.083,
                  "longitude": -82.808,
                  "dwell time duration (seconds)": 1823.987,
                  "_deepnote_index_column": 48168
                },
                {
                  "vin": "ffabe3f9905f857b5f4c64150c4945f0",
                  "sequence": 87,
                  "first": 1579909937.023,
                  "last": 1579910341.987,
                  "start_lat": 40.083,
                  "start_long": -82.808,
                  "latitude": 40.084,
                  "longitude": -82.84,
                  "dwell time duration (seconds)": 202.887,
                  "_deepnote_index_column": 48169
                },
                {
                  "vin": "ffabe3f9905f857b5f4c64150c4945f0",
                  "sequence": 88,
                  "first": 1579966501.92,
                  "last": 1579967362.928,
                  "start_lat": 40.084,
                  "start_long": -82.84,
                  "latitude": 40.055,
                  "longitude": -82.914,
                  "dwell time duration (seconds)": 56159.933,
                  "_deepnote_index_column": 48170
                },
                {
                  "vin": "ffabe3f9905f857b5f4c64150c4945f0",
                  "sequence": 89,
                  "first": 1579969723.045,
                  "last": 1579969983.958,
                  "start_lat": 40.055,
                  "start_long": -82.914,
                  "latitude": 40.053,
                  "longitude": -82.908,
                  "dwell time duration (seconds)": 2360.117,
                  "_deepnote_index_column": 48171
                },
                {
                  "vin": "ffabe3f9905f857b5f4c64150c4945f0",
                  "sequence": 90,
                  "first": 1579970141.06,
                  "last": 1579970208.778,
                  "start_lat": 40.053,
                  "start_long": -82.908,
                  "latitude": 40.054,
                  "longitude": -82.906,
                  "dwell time duration (seconds)": 157.102,
                  "_deepnote_index_column": 48172
                },
                {
                  "vin": "ffabe3f9905f857b5f4c64150c4945f0",
                  "sequence": 91,
                  "first": 1579972035.984,
                  "last": 1579972403.988,
                  "start_lat": 40.054,
                  "start_long": -82.906,
                  "latitude": 40.049,
                  "longitude": -82.918,
                  "dwell time duration (seconds)": 1827.206,
                  "_deepnote_index_column": 48173
                },
                {
                  "vin": "ffabe3f9905f857b5f4c64150c4945f0",
                  "sequence": 92,
                  "first": 1579973751.894,
                  "last": 1579974711.964,
                  "start_lat": 40.049,
                  "start_long": -82.918,
                  "latitude": 40.084,
                  "longitude": -82.84,
                  "dwell time duration (seconds)": 1347.906,
                  "_deepnote_index_column": 48174
                },
                {
                  "vin": "ffabe3f9905f857b5f4c64150c4945f0",
                  "sequence": 93,
                  "first": 1579977164.259,
                  "last": 1579977821.899,
                  "start_lat": 40.084,
                  "start_long": -82.84,
                  "latitude": 40.04,
                  "longitude": -82.863,
                  "dwell time duration (seconds)": 2452.295,
                  "_deepnote_index_column": 48175
                },
                {
                  "vin": "ffabe3f9905f857b5f4c64150c4945f0",
                  "sequence": 94,
                  "first": 1579979794.403,
                  "last": 1579983385.039,
                  "start_lat": 40.04,
                  "start_long": -82.863,
                  "latitude": 40.079,
                  "longitude": -82.852,
                  "dwell time duration (seconds)": 1972.504,
                  "_deepnote_index_column": 48176
                },
                {
                  "vin": "ffabe3f9905f857b5f4c64150c4945f0",
                  "sequence": 95,
                  "first": 1579994818.877,
                  "last": 1579995536.039,
                  "start_lat": 40.083,
                  "start_long": -82.84,
                  "latitude": 40.081,
                  "longitude": -82.816,
                  "dwell time duration (seconds)": 11433.838,
                  "_deepnote_index_column": 48177
                },
                {
                  "vin": "ffabe3f9905f857b5f4c64150c4945f0",
                  "sequence": 98,
                  "first": 1580131985.753,
                  "last": 1580133174.792,
                  "start_lat": 40.084,
                  "start_long": -82.839,
                  "latitude": 40.113,
                  "longitude": -83.005,
                  "dwell time duration (seconds)": 136449.714,
                  "_deepnote_index_column": 48178
                },
                {
                  "vin": "ffabe3f9905f857b5f4c64150c4945f0",
                  "sequence": 99,
                  "first": 1580134926.897,
                  "last": 1580135166.664,
                  "start_lat": 40.113,
                  "start_long": -83.005,
                  "latitude": 40.112,
                  "longitude": -83.006,
                  "dwell time duration (seconds)": 1752.105,
                  "_deepnote_index_column": 48179
                },
                {
                  "vin": "ffabe3f9905f857b5f4c64150c4945f0",
                  "sequence": 100,
                  "first": 1580166484.198,
                  "last": 1580167720.959,
                  "start_lat": 40.113,
                  "start_long": -83.006,
                  "latitude": 40.084,
                  "longitude": -82.84,
                  "dwell time duration (seconds)": 31317.534,
                  "_deepnote_index_column": 48180
                },
                {
                  "vin": "ffabe3f9905f857b5f4c64150c4945f0",
                  "sequence": 101,
                  "first": 1580213191.198,
                  "last": 1580215213.864,
                  "start_lat": 40.084,
                  "start_long": -82.84,
                  "latitude": 39.962,
                  "longitude": -83.002,
                  "dwell time duration (seconds)": 45470.239,
                  "_deepnote_index_column": 48181
                },
                {
                  "vin": "ffabe3f9905f857b5f4c64150c4945f0",
                  "sequence": 102,
                  "first": 1580239551.264,
                  "last": 1580240797.364,
                  "start_lat": 39.959,
                  "start_long": -82.997,
                  "latitude": 40.113,
                  "longitude": -83.005,
                  "dwell time duration (seconds)": 24337.4,
                  "_deepnote_index_column": 48182
                },
                {
                  "vin": "ffabe3f9905f857b5f4c64150c4945f0",
                  "sequence": 103,
                  "first": 1580254077.19,
                  "last": 1580255198.957,
                  "start_lat": 40.113,
                  "start_long": -83.005,
                  "latitude": 40.084,
                  "longitude": -82.84,
                  "dwell time duration (seconds)": 13279.826,
                  "_deepnote_index_column": 48183
                },
                {
                  "vin": "ffabe3f9905f857b5f4c64150c4945f0",
                  "sequence": 104,
                  "first": 1580310943.252,
                  "last": 1580311637.152,
                  "start_lat": 40.084,
                  "start_long": -82.839,
                  "latitude": 40.04,
                  "longitude": -82.863,
                  "dwell time duration (seconds)": 55744.295,
                  "_deepnote_index_column": 48184
                },
                {
                  "vin": "ffabe3f9905f857b5f4c64150c4945f0",
                  "sequence": 105,
                  "first": 1580312264.302,
                  "last": 1580312332.961,
                  "start_lat": 40.04,
                  "start_long": -82.862,
                  "latitude": 40.039,
                  "longitude": -82.862,
                  "dwell time duration (seconds)": 627.15,
                  "_deepnote_index_column": 48185
                },
                {
                  "vin": "ffabe3f9905f857b5f4c64150c4945f0",
                  "sequence": 106,
                  "first": 1580312715.187,
                  "last": 1580316344.961,
                  "start_lat": 40.039,
                  "start_long": -82.862,
                  "latitude": 40.112,
                  "longitude": -83.005,
                  "dwell time duration (seconds)": 382.226,
                  "_deepnote_index_column": 48186
                },
                {
                  "vin": "ffabe3f9905f857b5f4c64150c4945f0",
                  "sequence": 107,
                  "first": 1580326921.193,
                  "last": 1580327653.755,
                  "start_lat": 40.113,
                  "start_long": -83.004,
                  "latitude": 40.095,
                  "longitude": -83.066,
                  "dwell time duration (seconds)": 10576.232,
                  "_deepnote_index_column": 48187
                },
                {
                  "vin": "ffabe3f9905f857b5f4c64150c4945f0",
                  "sequence": 108,
                  "first": 1580333273.89,
                  "last": 1580334865.995,
                  "start_lat": 40.095,
                  "start_long": -83.066,
                  "latitude": 40.084,
                  "longitude": -82.84,
                  "dwell time duration (seconds)": 5620.135,
                  "_deepnote_index_column": 48188
                },
                {
                  "vin": "ffabe3f9905f857b5f4c64150c4945f0",
                  "sequence": 109,
                  "first": 1580336404.632,
                  "last": 1580337106.887,
                  "start_lat": 40.083,
                  "start_long": -82.839,
                  "latitude": 40.039,
                  "longitude": -82.862,
                  "dwell time duration (seconds)": 1538.637,
                  "_deepnote_index_column": 48189
                },
                {
                  "vin": "ffabe3f9905f857b5f4c64150c4945f0",
                  "sequence": 110,
                  "first": 1580338235.061,
                  "last": 1580340158.101,
                  "start_lat": 40.039,
                  "start_long": -82.862,
                  "latitude": 40.084,
                  "longitude": -82.84,
                  "dwell time duration (seconds)": 1128.174,
                  "_deepnote_index_column": 48190
                },
                {
                  "vin": "ffabe3f9905f857b5f4c64150c4945f0",
                  "sequence": 111,
                  "first": 1580390836.782,
                  "last": 1580392062.05,
                  "start_lat": 40.084,
                  "start_long": -82.84,
                  "latitude": 40.111,
                  "longitude": -82.993,
                  "dwell time duration (seconds)": 50678.681,
                  "_deepnote_index_column": 48191
                },
                {
                  "vin": "ffabe3f9905f857b5f4c64150c4945f0",
                  "sequence": 112,
                  "first": 1580427567.265,
                  "last": 1580428807.281,
                  "start_lat": 40.113,
                  "start_long": -83.005,
                  "latitude": 40.094,
                  "longitude": -82.824,
                  "dwell time duration (seconds)": 35505.215,
                  "_deepnote_index_column": 48192
                },
                {
                  "vin": "ffabe3f9905f857b5f4c64150c4945f0",
                  "sequence": 113,
                  "first": 1580429227.539,
                  "last": 1580429538.991,
                  "start_lat": 40.095,
                  "start_long": -82.825,
                  "latitude": 40.084,
                  "longitude": -82.84,
                  "dwell time duration (seconds)": 420.258,
                  "_deepnote_index_column": 48193
                },
                {
                  "vin": "ffabe3f9905f857b5f4c64150c4945f0",
                  "sequence": 114,
                  "first": 1580477158.963,
                  "last": 1580478210.935,
                  "start_lat": 40.084,
                  "start_long": -82.839,
                  "latitude": 40.112,
                  "longitude": -83.005,
                  "dwell time duration (seconds)": 47619.972,
                  "_deepnote_index_column": 48194
                },
                {
                  "vin": "ffabe3f9905f857b5f4c64150c4945f0",
                  "sequence": 115,
                  "first": 1580503940.169,
                  "last": 1580505621.178,
                  "start_lat": 40.113,
                  "start_long": -83.005,
                  "latitude": 40.081,
                  "longitude": -82.813,
                  "dwell time duration (seconds)": 25729.234,
                  "_deepnote_index_column": 48195
                },
                {
                  "vin": "ffabe3f9905f857b5f4c64150c4945f0",
                  "sequence": 116,
                  "first": 1580505872.001,
                  "last": 1580506049.032,
                  "start_lat": 40.081,
                  "start_long": -82.813,
                  "latitude": 40.081,
                  "longitude": -82.827,
                  "dwell time duration (seconds)": 250.823,
                  "_deepnote_index_column": 48196
                },
                {
                  "vin": "ffabe3f9905f857b5f4c64150c4945f0",
                  "sequence": 117,
                  "first": 1580561093.867,
                  "last": 1580562037.944,
                  "start_lat": 40.084,
                  "start_long": -82.84,
                  "latitude": 40.117,
                  "longitude": -82.928,
                  "dwell time duration (seconds)": 55044.835,
                  "_deepnote_index_column": 48197
                },
                {
                  "vin": "ffabe3f9905f857b5f4c64150c4945f0",
                  "sequence": 118,
                  "first": 1580565045.967,
                  "last": 1580565762.121,
                  "start_lat": 40.117,
                  "start_long": -82.928,
                  "latitude": 40.084,
                  "longitude": -82.84,
                  "dwell time duration (seconds)": 3008.023,
                  "_deepnote_index_column": 48198
                },
                {
                  "vin": "ffabe3f9905f857b5f4c64150c4945f0",
                  "sequence": 119,
                  "first": 1580661648.505,
                  "last": 1580661923.01,
                  "start_lat": 40.084,
                  "start_long": -82.84,
                  "latitude": 40.081,
                  "longitude": -82.816,
                  "dwell time duration (seconds)": 95886.384,
                  "_deepnote_index_column": 48199
                },
                {
                  "vin": "ffabe3f9905f857b5f4c64150c4945f0",
                  "sequence": 120,
                  "first": 1580665962.962,
                  "last": 1580666385.955,
                  "start_lat": 40.081,
                  "start_long": -82.816,
                  "latitude": 40.084,
                  "longitude": -82.84,
                  "dwell time duration (seconds)": 4039.952,
                  "_deepnote_index_column": 48200
                },
                {
                  "vin": "ffabe3f9905f857b5f4c64150c4945f0",
                  "sequence": 121,
                  "first": 1580680514.903,
                  "last": 1580681271.769,
                  "start_lat": 40.084,
                  "start_long": -82.84,
                  "latitude": 40.061,
                  "longitude": -82.875,
                  "dwell time duration (seconds)": 14128.948,
                  "_deepnote_index_column": 48201
                },
                {
                  "vin": "ffabe3f9905f857b5f4c64150c4945f0",
                  "sequence": 122,
                  "first": 1580693301.963,
                  "last": 1580694098.976,
                  "start_lat": 40.061,
                  "start_long": -82.875,
                  "latitude": 40.084,
                  "longitude": -82.84,
                  "dwell time duration (seconds)": 12030.194,
                  "_deepnote_index_column": 48202
                },
                {
                  "vin": "ffabe3f9905f857b5f4c64150c4945f0",
                  "sequence": 123,
                  "first": 1580738070.91,
                  "last": 1580738492.89,
                  "start_lat": 40.084,
                  "start_long": -82.839,
                  "latitude": 40.093,
                  "longitude": -82.85,
                  "dwell time duration (seconds)": 43971.934,
                  "_deepnote_index_column": 48203
                },
                {
                  "vin": "ffabe3f9905f857b5f4c64150c4945f0",
                  "sequence": 124,
                  "first": 1580738868.938,
                  "last": 1580739808.998,
                  "start_lat": 40.093,
                  "start_long": -82.85,
                  "latitude": 40.113,
                  "longitude": -83.005,
                  "dwell time duration (seconds)": 376.048,
                  "_deepnote_index_column": 48204
                },
                {
                  "vin": "ffabe3f9905f857b5f4c64150c4945f0",
                  "sequence": 125,
                  "first": 1580763670.126,
                  "last": 1580764072.126,
                  "start_lat": 40.114,
                  "start_long": -83.006,
                  "latitude": 40.105,
                  "longitude": -83.018,
                  "dwell time duration (seconds)": 23861.128,
                  "_deepnote_index_column": 48205
                },
                {
                  "vin": "ffabe3f9905f857b5f4c64150c4945f0",
                  "sequence": 126,
                  "first": 1580764474.946,
                  "last": 1580765577.907,
                  "start_lat": 40.105,
                  "start_long": -83.018,
                  "latitude": 40.084,
                  "longitude": -82.84,
                  "dwell time duration (seconds)": 402.82,
                  "_deepnote_index_column": 48206
                },
                {
                  "vin": "ffabe3f9905f857b5f4c64150c4945f0",
                  "sequence": 127,
                  "first": 1580767493.25,
                  "last": 1580767692.922,
                  "start_lat": 40.084,
                  "start_long": -82.84,
                  "latitude": 40.076,
                  "longitude": -82.837,
                  "dwell time duration (seconds)": 1915.343,
                  "_deepnote_index_column": 48207
                },
                {
                  "vin": "ffabe3f9905f857b5f4c64150c4945f0",
                  "sequence": 128,
                  "first": 1580770148.914,
                  "last": 1580770677.937,
                  "start_lat": 40.076,
                  "start_long": -82.837,
                  "latitude": 40.084,
                  "longitude": -82.84,
                  "dwell time duration (seconds)": 2455.992,
                  "_deepnote_index_column": 48208
                },
                {
                  "vin": "ffffe9555b16c2d737f6f2e8616b1e68",
                  "sequence": 643,
                  "first": 1578853591.445,
                  "last": 1578854077.922,
                  "start_lat": 40.136,
                  "start_long": -82.996,
                  "latitude": 40.178,
                  "longitude": -82.997,
                  "dwell time duration (seconds)": 48941.494,
                  "_deepnote_index_column": 48211
                },
                {
                  "vin": "ffffe9555b16c2d737f6f2e8616b1e68",
                  "sequence": 644,
                  "first": 1578858341.968,
                  "last": 1578860348.915,
                  "start_lat": 40.178,
                  "start_long": -82.997,
                  "latitude": 39.943,
                  "longitude": -82.827,
                  "dwell time duration (seconds)": 4264.046,
                  "_deepnote_index_column": 48212
                },
                {
                  "vin": "ffffe9555b16c2d737f6f2e8616b1e68",
                  "sequence": 645,
                  "first": 1578877323.191,
                  "last": 1578880133.103,
                  "start_lat": 39.942,
                  "start_long": -82.827,
                  "latitude": 40.178,
                  "longitude": -82.997,
                  "dwell time duration (seconds)": 16974.276,
                  "_deepnote_index_column": 48213
                },
                {
                  "vin": "ffffe9555b16c2d737f6f2e8616b1e68",
                  "sequence": 646,
                  "first": 1578886381.313,
                  "last": 1578886996.91,
                  "start_lat": 40.178,
                  "start_long": -82.997,
                  "latitude": 40.136,
                  "longitude": -82.996,
                  "dwell time duration (seconds)": 6248.21,
                  "_deepnote_index_column": 48214
                },
                {
                  "vin": "ffffe9555b16c2d737f6f2e8616b1e68",
                  "sequence": 647,
                  "first": 1578954185.29,
                  "last": 1578954441.243,
                  "start_lat": 40.136,
                  "start_long": -82.997,
                  "latitude": 40.15,
                  "longitude": -82.997,
                  "dwell time duration (seconds)": 67188.38,
                  "_deepnote_index_column": 48215
                },
                {
                  "vin": "ffffe9555b16c2d737f6f2e8616b1e68",
                  "sequence": 648,
                  "first": 1578955030.99,
                  "last": 1578955433.963,
                  "start_lat": 40.15,
                  "start_long": -82.997,
                  "latitude": 40.178,
                  "longitude": -82.997,
                  "dwell time duration (seconds)": 589.747,
                  "_deepnote_index_column": 48216
                }
              ]
            },
            "text/plain": "                                    vin  sequence         first          last  \\\n2      005b420fd9275f080ad79e1c4330357e      1143  1.578927e+09  1.578928e+09   \n3      005b420fd9275f080ad79e1c4330357e      1145  1.578938e+09  1.578939e+09   \n4      005b420fd9275f080ad79e1c4330357e      1146  1.578953e+09  1.578954e+09   \n6      008beb5671fb49a92dc0ef9de96979bf       555  1.578443e+09  1.578445e+09   \n7      008beb5671fb49a92dc0ef9de96979bf       556  1.578482e+09  1.578484e+09   \n...                                 ...       ...           ...           ...   \n48212  ffffe9555b16c2d737f6f2e8616b1e68       644  1.578858e+09  1.578860e+09   \n48213  ffffe9555b16c2d737f6f2e8616b1e68       645  1.578877e+09  1.578880e+09   \n48214  ffffe9555b16c2d737f6f2e8616b1e68       646  1.578886e+09  1.578887e+09   \n48215  ffffe9555b16c2d737f6f2e8616b1e68       647  1.578954e+09  1.578954e+09   \n48216  ffffe9555b16c2d737f6f2e8616b1e68       648  1.578955e+09  1.578955e+09   \n\n       start_lat  start_long  latitude  longitude  \\\n2         41.267     -81.378    41.410    -81.500   \n3         41.394     -81.413    41.414    -81.504   \n4         41.409     -81.497    41.379    -81.427   \n6         40.100     -83.166    40.149    -82.904   \n7         40.149     -82.904    40.100    -83.166   \n...          ...         ...       ...        ...   \n48212     40.178     -82.997    39.943    -82.827   \n48213     39.942     -82.827    40.178    -82.997   \n48214     40.178     -82.997    40.136    -82.996   \n48215     40.136     -82.997    40.150    -82.997   \n48216     40.150     -82.997    40.178    -82.997   \n\n       dwell time duration (seconds)  \n2                           8938.025  \n3                          10074.972  \n4                          14185.917  \n6                          45104.446  \n7                          37768.558  \n...                              ...  \n48212                       4264.046  \n48213                      16974.276  \n48214                       6248.210  \n48215                      67188.380  \n48216                        589.747  \n\n[47141 rows x 9 columns]",
            "text/html": "<div>\n<style scoped>\n    .dataframe tbody tr th:only-of-type {\n        vertical-align: middle;\n    }\n\n    .dataframe tbody tr th {\n        vertical-align: top;\n    }\n\n    .dataframe thead th {\n        text-align: right;\n    }\n</style>\n<table border=\"1\" class=\"dataframe\">\n  <thead>\n    <tr style=\"text-align: right;\">\n      <th></th>\n      <th>vin</th>\n      <th>sequence</th>\n      <th>first</th>\n      <th>last</th>\n      <th>start_lat</th>\n      <th>start_long</th>\n      <th>latitude</th>\n      <th>longitude</th>\n      <th>dwell time duration (seconds)</th>\n    </tr>\n  </thead>\n  <tbody>\n    <tr>\n      <th>2</th>\n      <td>005b420fd9275f080ad79e1c4330357e</td>\n      <td>1143</td>\n      <td>1.578927e+09</td>\n      <td>1.578928e+09</td>\n      <td>41.267</td>\n      <td>-81.378</td>\n      <td>41.410</td>\n      <td>-81.500</td>\n      <td>8938.025</td>\n    </tr>\n    <tr>\n      <th>3</th>\n      <td>005b420fd9275f080ad79e1c4330357e</td>\n      <td>1145</td>\n      <td>1.578938e+09</td>\n      <td>1.578939e+09</td>\n      <td>41.394</td>\n      <td>-81.413</td>\n      <td>41.414</td>\n      <td>-81.504</td>\n      <td>10074.972</td>\n    </tr>\n    <tr>\n      <th>4</th>\n      <td>005b420fd9275f080ad79e1c4330357e</td>\n      <td>1146</td>\n      <td>1.578953e+09</td>\n      <td>1.578954e+09</td>\n      <td>41.409</td>\n      <td>-81.497</td>\n      <td>41.379</td>\n      <td>-81.427</td>\n      <td>14185.917</td>\n    </tr>\n    <tr>\n      <th>6</th>\n      <td>008beb5671fb49a92dc0ef9de96979bf</td>\n      <td>555</td>\n      <td>1.578443e+09</td>\n      <td>1.578445e+09</td>\n      <td>40.100</td>\n      <td>-83.166</td>\n      <td>40.149</td>\n      <td>-82.904</td>\n      <td>45104.446</td>\n    </tr>\n    <tr>\n      <th>7</th>\n      <td>008beb5671fb49a92dc0ef9de96979bf</td>\n      <td>556</td>\n      <td>1.578482e+09</td>\n      <td>1.578484e+09</td>\n      <td>40.149</td>\n      <td>-82.904</td>\n      <td>40.100</td>\n      <td>-83.166</td>\n      <td>37768.558</td>\n    </tr>\n    <tr>\n      <th>...</th>\n      <td>...</td>\n      <td>...</td>\n      <td>...</td>\n      <td>...</td>\n      <td>...</td>\n      <td>...</td>\n      <td>...</td>\n      <td>...</td>\n      <td>...</td>\n    </tr>\n    <tr>\n      <th>48212</th>\n      <td>ffffe9555b16c2d737f6f2e8616b1e68</td>\n      <td>644</td>\n      <td>1.578858e+09</td>\n      <td>1.578860e+09</td>\n      <td>40.178</td>\n      <td>-82.997</td>\n      <td>39.943</td>\n      <td>-82.827</td>\n      <td>4264.046</td>\n    </tr>\n    <tr>\n      <th>48213</th>\n      <td>ffffe9555b16c2d737f6f2e8616b1e68</td>\n      <td>645</td>\n      <td>1.578877e+09</td>\n      <td>1.578880e+09</td>\n      <td>39.942</td>\n      <td>-82.827</td>\n      <td>40.178</td>\n      <td>-82.997</td>\n      <td>16974.276</td>\n    </tr>\n    <tr>\n      <th>48214</th>\n      <td>ffffe9555b16c2d737f6f2e8616b1e68</td>\n      <td>646</td>\n      <td>1.578886e+09</td>\n      <td>1.578887e+09</td>\n      <td>40.178</td>\n      <td>-82.997</td>\n      <td>40.136</td>\n      <td>-82.996</td>\n      <td>6248.210</td>\n    </tr>\n    <tr>\n      <th>48215</th>\n      <td>ffffe9555b16c2d737f6f2e8616b1e68</td>\n      <td>647</td>\n      <td>1.578954e+09</td>\n      <td>1.578954e+09</td>\n      <td>40.136</td>\n      <td>-82.997</td>\n      <td>40.150</td>\n      <td>-82.997</td>\n      <td>67188.380</td>\n    </tr>\n    <tr>\n      <th>48216</th>\n      <td>ffffe9555b16c2d737f6f2e8616b1e68</td>\n      <td>648</td>\n      <td>1.578955e+09</td>\n      <td>1.578955e+09</td>\n      <td>40.150</td>\n      <td>-82.997</td>\n      <td>40.178</td>\n      <td>-82.997</td>\n      <td>589.747</td>\n    </tr>\n  </tbody>\n</table>\n<p>47141 rows × 9 columns</p>\n</div>"
          },
          "metadata": {}
        }
      ]
    },
    {
      "cell_type": "code",
      "metadata": {
        "tags": [],
        "cell_id": "00003-a99dad56-66cb-4fd5-ba11-7ba4c68fdd44",
        "deepnote_to_be_reexecuted": false,
        "source_hash": "88a4878",
        "execution_millis": 263,
        "execution_start": 1620203436807,
        "deepnote_cell_type": "code"
      },
      "source": "\"\"\"\n\nMaking sure there are no duplicated values in the dataframe.\n\n\"\"\"\nnewdata[newdata.duplicated()]",
      "execution_count": 18,
      "outputs": [
        {
          "output_type": "execute_result",
          "execution_count": 18,
          "data": {
            "application/vnd.deepnote.dataframe.v2+json": {
              "row_count": 0,
              "column_count": 9,
              "columns": [
                {
                  "name": "vin",
                  "dtype": "object",
                  "stats": {
                    "unique_count": 0,
                    "nan_count": 0,
                    "categories": []
                  }
                },
                {
                  "name": "sequence",
                  "dtype": "int64",
                  "stats": {
                    "unique_count": 0,
                    "nan_count": 0,
                    "min": null,
                    "max": null,
                    "histogram": [
                      {
                        "bin_start": 0,
                        "bin_end": 0.1,
                        "count": 0
                      },
                      {
                        "bin_start": 0.1,
                        "bin_end": 0.2,
                        "count": 0
                      },
                      {
                        "bin_start": 0.2,
                        "bin_end": 0.30000000000000004,
                        "count": 0
                      },
                      {
                        "bin_start": 0.30000000000000004,
                        "bin_end": 0.4,
                        "count": 0
                      },
                      {
                        "bin_start": 0.4,
                        "bin_end": 0.5,
                        "count": 0
                      },
                      {
                        "bin_start": 0.5,
                        "bin_end": 0.6000000000000001,
                        "count": 0
                      },
                      {
                        "bin_start": 0.6000000000000001,
                        "bin_end": 0.7000000000000001,
                        "count": 0
                      },
                      {
                        "bin_start": 0.7000000000000001,
                        "bin_end": 0.8,
                        "count": 0
                      },
                      {
                        "bin_start": 0.8,
                        "bin_end": 0.9,
                        "count": 0
                      },
                      {
                        "bin_start": 0.9,
                        "bin_end": 1,
                        "count": 0
                      }
                    ]
                  }
                },
                {
                  "name": "first",
                  "dtype": "float64",
                  "stats": {
                    "unique_count": 0,
                    "nan_count": 0,
                    "min": null,
                    "max": null,
                    "histogram": [
                      {
                        "bin_start": 0,
                        "bin_end": 0.1,
                        "count": 0
                      },
                      {
                        "bin_start": 0.1,
                        "bin_end": 0.2,
                        "count": 0
                      },
                      {
                        "bin_start": 0.2,
                        "bin_end": 0.30000000000000004,
                        "count": 0
                      },
                      {
                        "bin_start": 0.30000000000000004,
                        "bin_end": 0.4,
                        "count": 0
                      },
                      {
                        "bin_start": 0.4,
                        "bin_end": 0.5,
                        "count": 0
                      },
                      {
                        "bin_start": 0.5,
                        "bin_end": 0.6000000000000001,
                        "count": 0
                      },
                      {
                        "bin_start": 0.6000000000000001,
                        "bin_end": 0.7000000000000001,
                        "count": 0
                      },
                      {
                        "bin_start": 0.7000000000000001,
                        "bin_end": 0.8,
                        "count": 0
                      },
                      {
                        "bin_start": 0.8,
                        "bin_end": 0.9,
                        "count": 0
                      },
                      {
                        "bin_start": 0.9,
                        "bin_end": 1,
                        "count": 0
                      }
                    ]
                  }
                },
                {
                  "name": "last",
                  "dtype": "float64",
                  "stats": {
                    "unique_count": 0,
                    "nan_count": 0,
                    "min": null,
                    "max": null,
                    "histogram": [
                      {
                        "bin_start": 0,
                        "bin_end": 0.1,
                        "count": 0
                      },
                      {
                        "bin_start": 0.1,
                        "bin_end": 0.2,
                        "count": 0
                      },
                      {
                        "bin_start": 0.2,
                        "bin_end": 0.30000000000000004,
                        "count": 0
                      },
                      {
                        "bin_start": 0.30000000000000004,
                        "bin_end": 0.4,
                        "count": 0
                      },
                      {
                        "bin_start": 0.4,
                        "bin_end": 0.5,
                        "count": 0
                      },
                      {
                        "bin_start": 0.5,
                        "bin_end": 0.6000000000000001,
                        "count": 0
                      },
                      {
                        "bin_start": 0.6000000000000001,
                        "bin_end": 0.7000000000000001,
                        "count": 0
                      },
                      {
                        "bin_start": 0.7000000000000001,
                        "bin_end": 0.8,
                        "count": 0
                      },
                      {
                        "bin_start": 0.8,
                        "bin_end": 0.9,
                        "count": 0
                      },
                      {
                        "bin_start": 0.9,
                        "bin_end": 1,
                        "count": 0
                      }
                    ]
                  }
                },
                {
                  "name": "start_lat",
                  "dtype": "float64",
                  "stats": {
                    "unique_count": 0,
                    "nan_count": 0,
                    "min": null,
                    "max": null,
                    "histogram": [
                      {
                        "bin_start": 0,
                        "bin_end": 0.1,
                        "count": 0
                      },
                      {
                        "bin_start": 0.1,
                        "bin_end": 0.2,
                        "count": 0
                      },
                      {
                        "bin_start": 0.2,
                        "bin_end": 0.30000000000000004,
                        "count": 0
                      },
                      {
                        "bin_start": 0.30000000000000004,
                        "bin_end": 0.4,
                        "count": 0
                      },
                      {
                        "bin_start": 0.4,
                        "bin_end": 0.5,
                        "count": 0
                      },
                      {
                        "bin_start": 0.5,
                        "bin_end": 0.6000000000000001,
                        "count": 0
                      },
                      {
                        "bin_start": 0.6000000000000001,
                        "bin_end": 0.7000000000000001,
                        "count": 0
                      },
                      {
                        "bin_start": 0.7000000000000001,
                        "bin_end": 0.8,
                        "count": 0
                      },
                      {
                        "bin_start": 0.8,
                        "bin_end": 0.9,
                        "count": 0
                      },
                      {
                        "bin_start": 0.9,
                        "bin_end": 1,
                        "count": 0
                      }
                    ]
                  }
                },
                {
                  "name": "start_long",
                  "dtype": "float64",
                  "stats": {
                    "unique_count": 0,
                    "nan_count": 0,
                    "min": null,
                    "max": null,
                    "histogram": [
                      {
                        "bin_start": 0,
                        "bin_end": 0.1,
                        "count": 0
                      },
                      {
                        "bin_start": 0.1,
                        "bin_end": 0.2,
                        "count": 0
                      },
                      {
                        "bin_start": 0.2,
                        "bin_end": 0.30000000000000004,
                        "count": 0
                      },
                      {
                        "bin_start": 0.30000000000000004,
                        "bin_end": 0.4,
                        "count": 0
                      },
                      {
                        "bin_start": 0.4,
                        "bin_end": 0.5,
                        "count": 0
                      },
                      {
                        "bin_start": 0.5,
                        "bin_end": 0.6000000000000001,
                        "count": 0
                      },
                      {
                        "bin_start": 0.6000000000000001,
                        "bin_end": 0.7000000000000001,
                        "count": 0
                      },
                      {
                        "bin_start": 0.7000000000000001,
                        "bin_end": 0.8,
                        "count": 0
                      },
                      {
                        "bin_start": 0.8,
                        "bin_end": 0.9,
                        "count": 0
                      },
                      {
                        "bin_start": 0.9,
                        "bin_end": 1,
                        "count": 0
                      }
                    ]
                  }
                },
                {
                  "name": "latitude",
                  "dtype": "float64",
                  "stats": {
                    "unique_count": 0,
                    "nan_count": 0,
                    "min": null,
                    "max": null,
                    "histogram": [
                      {
                        "bin_start": 0,
                        "bin_end": 0.1,
                        "count": 0
                      },
                      {
                        "bin_start": 0.1,
                        "bin_end": 0.2,
                        "count": 0
                      },
                      {
                        "bin_start": 0.2,
                        "bin_end": 0.30000000000000004,
                        "count": 0
                      },
                      {
                        "bin_start": 0.30000000000000004,
                        "bin_end": 0.4,
                        "count": 0
                      },
                      {
                        "bin_start": 0.4,
                        "bin_end": 0.5,
                        "count": 0
                      },
                      {
                        "bin_start": 0.5,
                        "bin_end": 0.6000000000000001,
                        "count": 0
                      },
                      {
                        "bin_start": 0.6000000000000001,
                        "bin_end": 0.7000000000000001,
                        "count": 0
                      },
                      {
                        "bin_start": 0.7000000000000001,
                        "bin_end": 0.8,
                        "count": 0
                      },
                      {
                        "bin_start": 0.8,
                        "bin_end": 0.9,
                        "count": 0
                      },
                      {
                        "bin_start": 0.9,
                        "bin_end": 1,
                        "count": 0
                      }
                    ]
                  }
                },
                {
                  "name": "longitude",
                  "dtype": "float64",
                  "stats": {
                    "unique_count": 0,
                    "nan_count": 0,
                    "min": null,
                    "max": null,
                    "histogram": [
                      {
                        "bin_start": 0,
                        "bin_end": 0.1,
                        "count": 0
                      },
                      {
                        "bin_start": 0.1,
                        "bin_end": 0.2,
                        "count": 0
                      },
                      {
                        "bin_start": 0.2,
                        "bin_end": 0.30000000000000004,
                        "count": 0
                      },
                      {
                        "bin_start": 0.30000000000000004,
                        "bin_end": 0.4,
                        "count": 0
                      },
                      {
                        "bin_start": 0.4,
                        "bin_end": 0.5,
                        "count": 0
                      },
                      {
                        "bin_start": 0.5,
                        "bin_end": 0.6000000000000001,
                        "count": 0
                      },
                      {
                        "bin_start": 0.6000000000000001,
                        "bin_end": 0.7000000000000001,
                        "count": 0
                      },
                      {
                        "bin_start": 0.7000000000000001,
                        "bin_end": 0.8,
                        "count": 0
                      },
                      {
                        "bin_start": 0.8,
                        "bin_end": 0.9,
                        "count": 0
                      },
                      {
                        "bin_start": 0.9,
                        "bin_end": 1,
                        "count": 0
                      }
                    ]
                  }
                },
                {
                  "name": "dwell time duration (seconds)",
                  "dtype": "float64",
                  "stats": {
                    "unique_count": 0,
                    "nan_count": 0,
                    "min": null,
                    "max": null,
                    "histogram": [
                      {
                        "bin_start": 0,
                        "bin_end": 0.1,
                        "count": 0
                      },
                      {
                        "bin_start": 0.1,
                        "bin_end": 0.2,
                        "count": 0
                      },
                      {
                        "bin_start": 0.2,
                        "bin_end": 0.30000000000000004,
                        "count": 0
                      },
                      {
                        "bin_start": 0.30000000000000004,
                        "bin_end": 0.4,
                        "count": 0
                      },
                      {
                        "bin_start": 0.4,
                        "bin_end": 0.5,
                        "count": 0
                      },
                      {
                        "bin_start": 0.5,
                        "bin_end": 0.6000000000000001,
                        "count": 0
                      },
                      {
                        "bin_start": 0.6000000000000001,
                        "bin_end": 0.7000000000000001,
                        "count": 0
                      },
                      {
                        "bin_start": 0.7000000000000001,
                        "bin_end": 0.8,
                        "count": 0
                      },
                      {
                        "bin_start": 0.8,
                        "bin_end": 0.9,
                        "count": 0
                      },
                      {
                        "bin_start": 0.9,
                        "bin_end": 1,
                        "count": 0
                      }
                    ]
                  }
                },
                {
                  "name": "_deepnote_index_column",
                  "dtype": "int64"
                }
              ],
              "rows_top": [],
              "rows_bottom": null
            },
            "text/plain": "Empty DataFrame\nColumns: [vin, sequence, first, last, start_lat, start_long, latitude, longitude, dwell time duration (seconds)]\nIndex: []",
            "text/html": "<div>\n<style scoped>\n    .dataframe tbody tr th:only-of-type {\n        vertical-align: middle;\n    }\n\n    .dataframe tbody tr th {\n        vertical-align: top;\n    }\n\n    .dataframe thead th {\n        text-align: right;\n    }\n</style>\n<table border=\"1\" class=\"dataframe\">\n  <thead>\n    <tr style=\"text-align: right;\">\n      <th></th>\n      <th>vin</th>\n      <th>sequence</th>\n      <th>first</th>\n      <th>last</th>\n      <th>start_lat</th>\n      <th>start_long</th>\n      <th>latitude</th>\n      <th>longitude</th>\n      <th>dwell time duration (seconds)</th>\n    </tr>\n  </thead>\n  <tbody>\n  </tbody>\n</table>\n</div>"
          },
          "metadata": {}
        }
      ]
    },
    {
      "cell_type": "code",
      "metadata": {
        "tags": [],
        "cell_id": "00004-28ef2097-b102-4809-9fc4-c6a17fe58c80",
        "deepnote_to_be_reexecuted": false,
        "source_hash": "a8786dd6",
        "execution_millis": 282,
        "execution_start": 1620202831386,
        "deepnote_cell_type": "code"
      },
      "source": "\"\"\"\n\nConverting the timestamp column in the dataframe from milliseconds into seconds.\n\nMaking a new column in the dataframe with the converted timestamp column as a datetime object.\n\n\"\"\"\n\nnewdata['timestamp'] = newdata['timestamp']/1000\nnewdata['datetime'] = pd.to_datetime(newdata['timestamp'], unit = 's')",
      "execution_count": 10,
      "outputs": [
        {
          "output_type": "error",
          "ename": "KeyError",
          "evalue": "'timestamp'",
          "traceback": [
            "\u001b[0;31m---------------------------------------------------------------------------\u001b[0m",
            "\u001b[0;31mKeyError\u001b[0m                                  Traceback (most recent call last)",
            "\u001b[0;32m/shared-libs/python3.9/py/lib/python3.9/site-packages/pandas/core/indexes/base.py\u001b[0m in \u001b[0;36mget_loc\u001b[0;34m(self, key, method, tolerance)\u001b[0m\n\u001b[1;32m   3079\u001b[0m             \u001b[0;32mtry\u001b[0m\u001b[0;34m:\u001b[0m\u001b[0;34m\u001b[0m\u001b[0;34m\u001b[0m\u001b[0m\n\u001b[0;32m-> 3080\u001b[0;31m                 \u001b[0;32mreturn\u001b[0m \u001b[0mself\u001b[0m\u001b[0;34m.\u001b[0m\u001b[0m_engine\u001b[0m\u001b[0;34m.\u001b[0m\u001b[0mget_loc\u001b[0m\u001b[0;34m(\u001b[0m\u001b[0mcasted_key\u001b[0m\u001b[0;34m)\u001b[0m\u001b[0;34m\u001b[0m\u001b[0;34m\u001b[0m\u001b[0m\n\u001b[0m\u001b[1;32m   3081\u001b[0m             \u001b[0;32mexcept\u001b[0m \u001b[0mKeyError\u001b[0m \u001b[0;32mas\u001b[0m \u001b[0merr\u001b[0m\u001b[0;34m:\u001b[0m\u001b[0;34m\u001b[0m\u001b[0;34m\u001b[0m\u001b[0m\n",
            "\u001b[0;32mpandas/_libs/index.pyx\u001b[0m in \u001b[0;36mpandas._libs.index.IndexEngine.get_loc\u001b[0;34m()\u001b[0m\n",
            "\u001b[0;32mpandas/_libs/index.pyx\u001b[0m in \u001b[0;36mpandas._libs.index.IndexEngine.get_loc\u001b[0;34m()\u001b[0m\n",
            "\u001b[0;32mpandas/_libs/hashtable_class_helper.pxi\u001b[0m in \u001b[0;36mpandas._libs.hashtable.PyObjectHashTable.get_item\u001b[0;34m()\u001b[0m\n",
            "\u001b[0;32mpandas/_libs/hashtable_class_helper.pxi\u001b[0m in \u001b[0;36mpandas._libs.hashtable.PyObjectHashTable.get_item\u001b[0;34m()\u001b[0m\n",
            "\u001b[0;31mKeyError\u001b[0m: 'timestamp'",
            "\nThe above exception was the direct cause of the following exception:\n",
            "\u001b[0;31mKeyError\u001b[0m                                  Traceback (most recent call last)",
            "\u001b[0;32m<ipython-input-10-ac08179ff112>\u001b[0m in \u001b[0;36m<module>\u001b[0;34m\u001b[0m\n\u001b[1;32m      7\u001b[0m \"\"\"\n\u001b[1;32m      8\u001b[0m \u001b[0;34m\u001b[0m\u001b[0m\n\u001b[0;32m----> 9\u001b[0;31m \u001b[0mnewdata\u001b[0m\u001b[0;34m[\u001b[0m\u001b[0;34m'timestamp'\u001b[0m\u001b[0;34m]\u001b[0m \u001b[0;34m=\u001b[0m \u001b[0mnewdata\u001b[0m\u001b[0;34m[\u001b[0m\u001b[0;34m'timestamp'\u001b[0m\u001b[0;34m]\u001b[0m\u001b[0;34m/\u001b[0m\u001b[0;36m1000\u001b[0m\u001b[0;34m\u001b[0m\u001b[0;34m\u001b[0m\u001b[0m\n\u001b[0m\u001b[1;32m     10\u001b[0m \u001b[0mnewdata\u001b[0m\u001b[0;34m[\u001b[0m\u001b[0;34m'datetime'\u001b[0m\u001b[0;34m]\u001b[0m \u001b[0;34m=\u001b[0m \u001b[0mpd\u001b[0m\u001b[0;34m.\u001b[0m\u001b[0mto_datetime\u001b[0m\u001b[0;34m(\u001b[0m\u001b[0mnewdata\u001b[0m\u001b[0;34m[\u001b[0m\u001b[0;34m'timestamp'\u001b[0m\u001b[0;34m]\u001b[0m\u001b[0;34m,\u001b[0m \u001b[0munit\u001b[0m \u001b[0;34m=\u001b[0m \u001b[0;34m's'\u001b[0m\u001b[0;34m)\u001b[0m\u001b[0;34m\u001b[0m\u001b[0;34m\u001b[0m\u001b[0m\n",
            "\u001b[0;32m/shared-libs/python3.9/py/lib/python3.9/site-packages/pandas/core/frame.py\u001b[0m in \u001b[0;36m__getitem__\u001b[0;34m(self, key)\u001b[0m\n\u001b[1;32m   3022\u001b[0m             \u001b[0;32mif\u001b[0m \u001b[0mself\u001b[0m\u001b[0;34m.\u001b[0m\u001b[0mcolumns\u001b[0m\u001b[0;34m.\u001b[0m\u001b[0mnlevels\u001b[0m \u001b[0;34m>\u001b[0m \u001b[0;36m1\u001b[0m\u001b[0;34m:\u001b[0m\u001b[0;34m\u001b[0m\u001b[0;34m\u001b[0m\u001b[0m\n\u001b[1;32m   3023\u001b[0m                 \u001b[0;32mreturn\u001b[0m \u001b[0mself\u001b[0m\u001b[0;34m.\u001b[0m\u001b[0m_getitem_multilevel\u001b[0m\u001b[0;34m(\u001b[0m\u001b[0mkey\u001b[0m\u001b[0;34m)\u001b[0m\u001b[0;34m\u001b[0m\u001b[0;34m\u001b[0m\u001b[0m\n\u001b[0;32m-> 3024\u001b[0;31m             \u001b[0mindexer\u001b[0m \u001b[0;34m=\u001b[0m \u001b[0mself\u001b[0m\u001b[0;34m.\u001b[0m\u001b[0mcolumns\u001b[0m\u001b[0;34m.\u001b[0m\u001b[0mget_loc\u001b[0m\u001b[0;34m(\u001b[0m\u001b[0mkey\u001b[0m\u001b[0;34m)\u001b[0m\u001b[0;34m\u001b[0m\u001b[0;34m\u001b[0m\u001b[0m\n\u001b[0m\u001b[1;32m   3025\u001b[0m             \u001b[0;32mif\u001b[0m \u001b[0mis_integer\u001b[0m\u001b[0;34m(\u001b[0m\u001b[0mindexer\u001b[0m\u001b[0;34m)\u001b[0m\u001b[0;34m:\u001b[0m\u001b[0;34m\u001b[0m\u001b[0;34m\u001b[0m\u001b[0m\n\u001b[1;32m   3026\u001b[0m                 \u001b[0mindexer\u001b[0m \u001b[0;34m=\u001b[0m \u001b[0;34m[\u001b[0m\u001b[0mindexer\u001b[0m\u001b[0;34m]\u001b[0m\u001b[0;34m\u001b[0m\u001b[0;34m\u001b[0m\u001b[0m\n",
            "\u001b[0;32m/shared-libs/python3.9/py/lib/python3.9/site-packages/pandas/core/indexes/base.py\u001b[0m in \u001b[0;36mget_loc\u001b[0;34m(self, key, method, tolerance)\u001b[0m\n\u001b[1;32m   3080\u001b[0m                 \u001b[0;32mreturn\u001b[0m \u001b[0mself\u001b[0m\u001b[0;34m.\u001b[0m\u001b[0m_engine\u001b[0m\u001b[0;34m.\u001b[0m\u001b[0mget_loc\u001b[0m\u001b[0;34m(\u001b[0m\u001b[0mcasted_key\u001b[0m\u001b[0;34m)\u001b[0m\u001b[0;34m\u001b[0m\u001b[0;34m\u001b[0m\u001b[0m\n\u001b[1;32m   3081\u001b[0m             \u001b[0;32mexcept\u001b[0m \u001b[0mKeyError\u001b[0m \u001b[0;32mas\u001b[0m \u001b[0merr\u001b[0m\u001b[0;34m:\u001b[0m\u001b[0;34m\u001b[0m\u001b[0;34m\u001b[0m\u001b[0m\n\u001b[0;32m-> 3082\u001b[0;31m                 \u001b[0;32mraise\u001b[0m \u001b[0mKeyError\u001b[0m\u001b[0;34m(\u001b[0m\u001b[0mkey\u001b[0m\u001b[0;34m)\u001b[0m \u001b[0;32mfrom\u001b[0m \u001b[0merr\u001b[0m\u001b[0;34m\u001b[0m\u001b[0;34m\u001b[0m\u001b[0m\n\u001b[0m\u001b[1;32m   3083\u001b[0m \u001b[0;34m\u001b[0m\u001b[0m\n\u001b[1;32m   3084\u001b[0m         \u001b[0;32mif\u001b[0m \u001b[0mtolerance\u001b[0m \u001b[0;32mis\u001b[0m \u001b[0;32mnot\u001b[0m \u001b[0;32mNone\u001b[0m\u001b[0;34m:\u001b[0m\u001b[0;34m\u001b[0m\u001b[0;34m\u001b[0m\u001b[0m\n",
            "\u001b[0;31mKeyError\u001b[0m: 'timestamp'"
          ]
        }
      ]
    },
    {
      "cell_type": "code",
      "metadata": {
        "tags": [],
        "cell_id": "00005-8863458d-3eff-477f-97a8-6943865ebd64",
        "deepnote_to_be_reexecuted": false,
        "source_hash": "2b04af03",
        "execution_millis": 15,
        "execution_start": 1618785474408,
        "deepnote_cell_type": "code"
      },
      "source": "## Getting first and last locations based on trip_sequence(engine cycle)\ndatetimeFormat = '%Y-%m-%d %H:%M:%S.%f'\ntimeline_df = newdata.groupby(\"sequence\")[\"datetime\"].agg([\"first\",\"last\"])\ntimeline_df\n\n## Getting the last latitude and longitude for each trip or sequence\ntimeline_df[\"latitude\"] = newdata.groupby(\"sequence\")[\"navigation_location_coordinate_latitude\"].agg([\"last\"])\ntimeline_df[\"longitude\"] = newdata.groupby(\"sequence\")[\"navigation_location_coordinate_longitude\"].agg([\"last\"])\n\nx = timeline_df[\"last\"]-timeline_df[\"first\"]\nduration = pd.to_timedelta(x.values, unit = 's').total_seconds()\ntimeline_df[\"trip_duration_s\"] = duration",
      "execution_count": null,
      "outputs": [
        {
          "output_type": "error",
          "ename": "NameError",
          "evalue": "name 'df' is not defined",
          "traceback": [
            "\u001b[0;31m---------------------------------------------------------------------------\u001b[0m",
            "\u001b[0;31mNameError\u001b[0m                                 Traceback (most recent call last)",
            "\u001b[0;32m<ipython-input-5-ed683dde1225>\u001b[0m in \u001b[0;36m<module>\u001b[0;34m\u001b[0m\n\u001b[1;32m      1\u001b[0m \u001b[0;31m## Getting first and last locations based on trip_sequence(engine cycle)\u001b[0m\u001b[0;34m\u001b[0m\u001b[0;34m\u001b[0m\u001b[0;34m\u001b[0m\u001b[0m\n\u001b[1;32m      2\u001b[0m \u001b[0mdatetimeFormat\u001b[0m \u001b[0;34m=\u001b[0m \u001b[0;34m'%Y-%m-%d %H:%M:%S.%f'\u001b[0m\u001b[0;34m\u001b[0m\u001b[0;34m\u001b[0m\u001b[0m\n\u001b[0;32m----> 3\u001b[0;31m \u001b[0mtimeline_df\u001b[0m \u001b[0;34m=\u001b[0m \u001b[0mdf\u001b[0m\u001b[0;34m.\u001b[0m\u001b[0mgroupby\u001b[0m\u001b[0;34m(\u001b[0m\u001b[0;34m\"sequence\"\u001b[0m\u001b[0;34m)\u001b[0m\u001b[0;34m[\u001b[0m\u001b[0;34m\"datetime\"\u001b[0m\u001b[0;34m]\u001b[0m\u001b[0;34m.\u001b[0m\u001b[0magg\u001b[0m\u001b[0;34m(\u001b[0m\u001b[0;34m[\u001b[0m\u001b[0;34m\"first\"\u001b[0m\u001b[0;34m,\u001b[0m\u001b[0;34m\"last\"\u001b[0m\u001b[0;34m]\u001b[0m\u001b[0;34m)\u001b[0m\u001b[0;34m\u001b[0m\u001b[0;34m\u001b[0m\u001b[0m\n\u001b[0m\u001b[1;32m      4\u001b[0m \u001b[0mtimeline_df\u001b[0m\u001b[0;34m\u001b[0m\u001b[0;34m\u001b[0m\u001b[0m\n\u001b[1;32m      5\u001b[0m \u001b[0;34m\u001b[0m\u001b[0m\n",
            "\u001b[0;31mNameError\u001b[0m: name 'df' is not defined"
          ]
        }
      ]
    },
    {
      "cell_type": "code",
      "metadata": {
        "tags": [],
        "cell_id": "00006-4103d6b1-f750-46a3-8765-d019ceeaf3a2",
        "deepnote_to_be_reexecuted": false,
        "source_hash": "56df70a2",
        "execution_millis": 16,
        "execution_start": 1620203266682,
        "deepnote_cell_type": "code"
      },
      "source": "\"\"\"\nProcess filtered dataframe into a dataframe grouped by vin and sequence and aggregate by first \nand last to find the start latitude and longitudes and end latitudes and longitudes.\n\n    Returns:\n    _ _ _ _ _ _ _ _ _ _ _ _ _\n    Dataframe grouped by vin and sequence with four new columns for start/end latitudes and longitudes.\n\n\"\"\"\ndef gen_timeline_df(df):\n    timeline = df.groupby([\"vin\",\"sequence\"])[\"timestamp\"].agg([\"first\",\"last\"])\n    timeline[\"start_lat\"] = df.groupby([\"vin\",\"sequence\"])[\"navigation_location_coordinate_latitude\"].agg([\"first\"])\n    timeline[\"start_long\"] = df.groupby([\"vin\",\"sequence\"])[\"navigation_location_coordinate_longitude\"].agg([\"first\"])\n    timeline[\"latitude\"] = df.groupby([\"vin\",\"sequence\"])[\"navigation_location_coordinate_latitude\"].agg([\"last\"])\n    timeline[\"longitude\"] = df.groupby([\"vin\",\"sequence\"])[\"navigation_location_coordinate_longitude\"].agg([\"last\"])\n    return timeline\n\"\"\"\nProcess filtered dataframe into a dataframe with the dwell time duration for each completed trip\n(time of previous trip location with engine off to time of current trip with engine on)\n    \n    Returns:\n    _ _ _ _ _ _ _ _ _ _ _ _ _\n    Dataframe with new column for dwell time duration in seconds.\n\n\"\"\"\ndef calc_dwell_duration(df):\n    df['dwell time duration (seconds)'] = ''\n    vins = df.index.levels[0]\n    for i in vins:\n        num_trips = len(df.loc[i])\n        for j in np.arange(num_trips):\n            if j == 0:\n                ## first trip has no associated dwell time\n                df.loc[i].iloc[j,6] = ''\n            else:\n                ## find differences in timestamps between consecutive trips (dwell time)\n                if df.loc[i].iloc[j, 0] - df.loc[i].iloc[j - 1, 1] < 0:\n                    df.loc[i].iloc[j,6] = ''\n                else:\n                    df.loc[i].iloc[j,6] = df.loc[i].iloc[j, 0] - df.loc[i].iloc[j - 1, 1]\n    \n",
      "execution_count": 14,
      "outputs": []
    },
    {
      "cell_type": "code",
      "metadata": {
        "tags": [],
        "cell_id": "00007-883c12e7-070d-42f1-9055-64d86cc0d6ae",
        "deepnote_to_be_reexecuted": false,
        "source_hash": "36d110de",
        "execution_millis": 90,
        "execution_start": 1620203365179,
        "deepnote_cell_type": "code"
      },
      "source": "\"\"\"\n\nCreate a new dataframe with the original newdata dataframe using the two functions above to find \nthe dwell time duration in seconds.\n\n\"\"\"\ndwell_df = gen_timeline_df(newdata)\ncalc_dwell_duration(dwell_df)\ndwell_df.loc['123b9a7bbd7775662d3a55656dc2379b']",
      "execution_count": 15,
      "outputs": [
        {
          "output_type": "error",
          "ename": "KeyError",
          "evalue": "'Column not found: timestamp'",
          "traceback": [
            "\u001b[0;31m---------------------------------------------------------------------------\u001b[0m",
            "\u001b[0;31mKeyError\u001b[0m                                  Traceback (most recent call last)",
            "\u001b[0;32m<ipython-input-15-7715c76abf32>\u001b[0m in \u001b[0;36m<module>\u001b[0;34m\u001b[0m\n\u001b[1;32m      5\u001b[0m \u001b[0;34m\u001b[0m\u001b[0m\n\u001b[1;32m      6\u001b[0m \"\"\"\n\u001b[0;32m----> 7\u001b[0;31m \u001b[0mdwell_df\u001b[0m \u001b[0;34m=\u001b[0m \u001b[0mgen_timeline_df\u001b[0m\u001b[0;34m(\u001b[0m\u001b[0mnewdata\u001b[0m\u001b[0;34m)\u001b[0m\u001b[0;34m\u001b[0m\u001b[0;34m\u001b[0m\u001b[0m\n\u001b[0m\u001b[1;32m      8\u001b[0m \u001b[0mcalc_dwell_duration\u001b[0m\u001b[0;34m(\u001b[0m\u001b[0mdwell_df\u001b[0m\u001b[0;34m)\u001b[0m\u001b[0;34m\u001b[0m\u001b[0;34m\u001b[0m\u001b[0m\n\u001b[1;32m      9\u001b[0m \u001b[0mdwell_df\u001b[0m\u001b[0;34m.\u001b[0m\u001b[0mloc\u001b[0m\u001b[0;34m[\u001b[0m\u001b[0;34m'123b9a7bbd7775662d3a55656dc2379b'\u001b[0m\u001b[0;34m]\u001b[0m\u001b[0;34m\u001b[0m\u001b[0;34m\u001b[0m\u001b[0m\n",
            "\u001b[0;32m<ipython-input-14-2e8b7d69cf67>\u001b[0m in \u001b[0;36mgen_timeline_df\u001b[0;34m(df)\u001b[0m\n\u001b[1;32m      9\u001b[0m \"\"\"\n\u001b[1;32m     10\u001b[0m \u001b[0;32mdef\u001b[0m \u001b[0mgen_timeline_df\u001b[0m\u001b[0;34m(\u001b[0m\u001b[0mdf\u001b[0m\u001b[0;34m)\u001b[0m\u001b[0;34m:\u001b[0m\u001b[0;34m\u001b[0m\u001b[0;34m\u001b[0m\u001b[0m\n\u001b[0;32m---> 11\u001b[0;31m     \u001b[0mtimeline\u001b[0m \u001b[0;34m=\u001b[0m \u001b[0mdf\u001b[0m\u001b[0;34m.\u001b[0m\u001b[0mgroupby\u001b[0m\u001b[0;34m(\u001b[0m\u001b[0;34m[\u001b[0m\u001b[0;34m\"vin\"\u001b[0m\u001b[0;34m,\u001b[0m\u001b[0;34m\"sequence\"\u001b[0m\u001b[0;34m]\u001b[0m\u001b[0;34m)\u001b[0m\u001b[0;34m[\u001b[0m\u001b[0;34m\"timestamp\"\u001b[0m\u001b[0;34m]\u001b[0m\u001b[0;34m.\u001b[0m\u001b[0magg\u001b[0m\u001b[0;34m(\u001b[0m\u001b[0;34m[\u001b[0m\u001b[0;34m\"first\"\u001b[0m\u001b[0;34m,\u001b[0m\u001b[0;34m\"last\"\u001b[0m\u001b[0;34m]\u001b[0m\u001b[0;34m)\u001b[0m\u001b[0;34m\u001b[0m\u001b[0;34m\u001b[0m\u001b[0m\n\u001b[0m\u001b[1;32m     12\u001b[0m     \u001b[0mtimeline\u001b[0m\u001b[0;34m[\u001b[0m\u001b[0;34m\"start_lat\"\u001b[0m\u001b[0;34m]\u001b[0m \u001b[0;34m=\u001b[0m \u001b[0mdf\u001b[0m\u001b[0;34m.\u001b[0m\u001b[0mgroupby\u001b[0m\u001b[0;34m(\u001b[0m\u001b[0;34m[\u001b[0m\u001b[0;34m\"vin\"\u001b[0m\u001b[0;34m,\u001b[0m\u001b[0;34m\"sequence\"\u001b[0m\u001b[0;34m]\u001b[0m\u001b[0;34m)\u001b[0m\u001b[0;34m[\u001b[0m\u001b[0;34m\"navigation_location_coordinate_latitude\"\u001b[0m\u001b[0;34m]\u001b[0m\u001b[0;34m.\u001b[0m\u001b[0magg\u001b[0m\u001b[0;34m(\u001b[0m\u001b[0;34m[\u001b[0m\u001b[0;34m\"first\"\u001b[0m\u001b[0;34m]\u001b[0m\u001b[0;34m)\u001b[0m\u001b[0;34m\u001b[0m\u001b[0;34m\u001b[0m\u001b[0m\n\u001b[1;32m     13\u001b[0m     \u001b[0mtimeline\u001b[0m\u001b[0;34m[\u001b[0m\u001b[0;34m\"start_long\"\u001b[0m\u001b[0;34m]\u001b[0m \u001b[0;34m=\u001b[0m \u001b[0mdf\u001b[0m\u001b[0;34m.\u001b[0m\u001b[0mgroupby\u001b[0m\u001b[0;34m(\u001b[0m\u001b[0;34m[\u001b[0m\u001b[0;34m\"vin\"\u001b[0m\u001b[0;34m,\u001b[0m\u001b[0;34m\"sequence\"\u001b[0m\u001b[0;34m]\u001b[0m\u001b[0;34m)\u001b[0m\u001b[0;34m[\u001b[0m\u001b[0;34m\"navigation_location_coordinate_longitude\"\u001b[0m\u001b[0;34m]\u001b[0m\u001b[0;34m.\u001b[0m\u001b[0magg\u001b[0m\u001b[0;34m(\u001b[0m\u001b[0;34m[\u001b[0m\u001b[0;34m\"first\"\u001b[0m\u001b[0;34m]\u001b[0m\u001b[0;34m)\u001b[0m\u001b[0;34m\u001b[0m\u001b[0;34m\u001b[0m\u001b[0m\n",
            "\u001b[0;32m/shared-libs/python3.9/py/lib/python3.9/site-packages/pandas/core/groupby/generic.py\u001b[0m in \u001b[0;36m__getitem__\u001b[0;34m(self, key)\u001b[0m\n\u001b[1;32m   1540\u001b[0m                 \u001b[0mstacklevel\u001b[0m\u001b[0;34m=\u001b[0m\u001b[0;36m2\u001b[0m\u001b[0;34m,\u001b[0m\u001b[0;34m\u001b[0m\u001b[0;34m\u001b[0m\u001b[0m\n\u001b[1;32m   1541\u001b[0m             )\n\u001b[0;32m-> 1542\u001b[0;31m         \u001b[0;32mreturn\u001b[0m \u001b[0msuper\u001b[0m\u001b[0;34m(\u001b[0m\u001b[0;34m)\u001b[0m\u001b[0;34m.\u001b[0m\u001b[0m__getitem__\u001b[0m\u001b[0;34m(\u001b[0m\u001b[0mkey\u001b[0m\u001b[0;34m)\u001b[0m\u001b[0;34m\u001b[0m\u001b[0;34m\u001b[0m\u001b[0m\n\u001b[0m\u001b[1;32m   1543\u001b[0m \u001b[0;34m\u001b[0m\u001b[0m\n\u001b[1;32m   1544\u001b[0m     \u001b[0;32mdef\u001b[0m \u001b[0m_gotitem\u001b[0m\u001b[0;34m(\u001b[0m\u001b[0mself\u001b[0m\u001b[0;34m,\u001b[0m \u001b[0mkey\u001b[0m\u001b[0;34m,\u001b[0m \u001b[0mndim\u001b[0m\u001b[0;34m:\u001b[0m \u001b[0mint\u001b[0m\u001b[0;34m,\u001b[0m \u001b[0msubset\u001b[0m\u001b[0;34m=\u001b[0m\u001b[0;32mNone\u001b[0m\u001b[0;34m)\u001b[0m\u001b[0;34m:\u001b[0m\u001b[0;34m\u001b[0m\u001b[0;34m\u001b[0m\u001b[0m\n",
            "\u001b[0;32m/shared-libs/python3.9/py/lib/python3.9/site-packages/pandas/core/base.py\u001b[0m in \u001b[0;36m__getitem__\u001b[0;34m(self, key)\u001b[0m\n\u001b[1;32m    278\u001b[0m             \u001b[0;31m# error: \"SelectionMixin\" has no attribute \"obj\"  [attr-defined]\u001b[0m\u001b[0;34m\u001b[0m\u001b[0;34m\u001b[0m\u001b[0;34m\u001b[0m\u001b[0m\n\u001b[1;32m    279\u001b[0m             \u001b[0;32mif\u001b[0m \u001b[0mkey\u001b[0m \u001b[0;32mnot\u001b[0m \u001b[0;32min\u001b[0m \u001b[0mself\u001b[0m\u001b[0;34m.\u001b[0m\u001b[0mobj\u001b[0m\u001b[0;34m:\u001b[0m  \u001b[0;31m# type: ignore[attr-defined]\u001b[0m\u001b[0;34m\u001b[0m\u001b[0;34m\u001b[0m\u001b[0m\n\u001b[0;32m--> 280\u001b[0;31m                 \u001b[0;32mraise\u001b[0m \u001b[0mKeyError\u001b[0m\u001b[0;34m(\u001b[0m\u001b[0;34mf\"Column not found: {key}\"\u001b[0m\u001b[0;34m)\u001b[0m\u001b[0;34m\u001b[0m\u001b[0;34m\u001b[0m\u001b[0m\n\u001b[0m\u001b[1;32m    281\u001b[0m             \u001b[0;32mreturn\u001b[0m \u001b[0mself\u001b[0m\u001b[0;34m.\u001b[0m\u001b[0m_gotitem\u001b[0m\u001b[0;34m(\u001b[0m\u001b[0mkey\u001b[0m\u001b[0;34m,\u001b[0m \u001b[0mndim\u001b[0m\u001b[0;34m=\u001b[0m\u001b[0;36m1\u001b[0m\u001b[0;34m)\u001b[0m\u001b[0;34m\u001b[0m\u001b[0;34m\u001b[0m\u001b[0m\n\u001b[1;32m    282\u001b[0m \u001b[0;34m\u001b[0m\u001b[0m\n",
            "\u001b[0;31mKeyError\u001b[0m: 'Column not found: timestamp'"
          ]
        }
      ]
    },
    {
      "cell_type": "code",
      "metadata": {
        "tags": [],
        "cell_id": "00008-dddde421-1fc1-4879-b83c-c55e0a9784fb",
        "deepnote_to_be_reexecuted": false,
        "source_hash": "6797cbe3",
        "execution_millis": 14,
        "execution_start": 1617930333618,
        "deepnote_cell_type": "code"
      },
      "source": "\"\"\"\n\nConvert final dataframe with all necessary columns into a csv file to import into other notebooks\nfor model implementation.\n\n\"\"\"\ndwell_df.to_csv(\"final_dwell_duration.csv\", index = True,  float_format='%.3f' )",
      "execution_count": null,
      "outputs": []
    },
    {
      "cell_type": "code",
      "metadata": {
        "tags": [],
        "cell_id": "00009-043188e3-4643-4367-928d-afaccddc021a",
        "deepnote_to_be_reexecuted": false,
        "source_hash": "f804c160",
        "execution_millis": 278,
        "execution_start": 1617929518452,
        "deepnote_cell_type": "code"
      },
      "source": "",
      "execution_count": null,
      "outputs": [
        {
          "output_type": "execute_result",
          "execution_count": 31,
          "data": {
            "application/vnd.deepnote.dataframe.v2+json": {
              "row_count": 671439,
              "column_count": 8,
              "columns": [
                {
                  "name": "Unnamed: 0.1",
                  "dtype": "float64"
                },
                {
                  "name": "timestamp",
                  "dtype": "float64"
                },
                {
                  "name": "vin",
                  "dtype": "object"
                },
                {
                  "name": "sequence",
                  "dtype": "int64"
                },
                {
                  "name": "navigation_location_coordinate_latitude",
                  "dtype": "float64"
                },
                {
                  "name": "navigation_location_coordinate_longitude",
                  "dtype": "float64"
                },
                {
                  "name": "key",
                  "dtype": "object"
                },
                {
                  "name": "datetime",
                  "dtype": "datetime64[ns]"
                },
                {
                  "name": "_deepnote_index_column",
                  "dtype": "int64"
                }
              ],
              "rows_top": [
                {
                  "Unnamed: 0.1": 138,
                  "timestamp": 1578942333.714,
                  "vin": "00089af9f7d3588a888379cf0ffc53cc",
                  "sequence": 733,
                  "navigation_location_coordinate_latitude": 41.492962,
                  "navigation_location_coordinate_longitude": -81.995163,
                  "key": "eyJ0aW1lc3RhbXAiOjE1Nzg5NDIzMzM3MTQsInZpbiI6IjAwMDg5YWY5ZjdkMzU4OGE4ODgzNzljZjBmZmM1M2NjIn0=",
                  "datetime": "2020-01-13T19:05:33.713999",
                  "_deepnote_index_column": 0
                },
                {
                  "Unnamed: 0.1": 3548,
                  "timestamp": 1578917535.963,
                  "vin": "005b420fd9275f080ad79e1c4330357e",
                  "sequence": 1142,
                  "navigation_location_coordinate_latitude": 41.3350458,
                  "navigation_location_coordinate_longitude": -81.398117,
                  "key": "eyJ0aW1lc3RhbXAiOjE1Nzg5MTc1MzU5NjMsInZpbiI6IjAwNWI0MjBmZDkyNzVmMDgwYWQ3OWUxYzQzMzAzNTdlIn0=",
                  "datetime": "2020-01-13T12:12:15.963000",
                  "_deepnote_index_column": 1
                },
                {
                  "Unnamed: 0.1": 3549,
                  "timestamp": 1578917659.974,
                  "vin": "005b420fd9275f080ad79e1c4330357e",
                  "sequence": 1142,
                  "navigation_location_coordinate_latitude": 41.3379859,
                  "navigation_location_coordinate_longitude": -81.4026373,
                  "key": "eyJ0aW1lc3RhbXAiOjE1Nzg5MTc2NTk5NzQsInZpbiI6IjAwNWI0MjBmZDkyNzVmMDgwYWQ3OWUxYzQzMzAzNTdlIn0=",
                  "datetime": "2020-01-13T12:14:19.973999",
                  "_deepnote_index_column": 2
                },
                {
                  "Unnamed: 0.1": 3550,
                  "timestamp": 1578917668.955,
                  "vin": "005b420fd9275f080ad79e1c4330357e",
                  "sequence": 1142,
                  "navigation_location_coordinate_latitude": 41.3387224,
                  "navigation_location_coordinate_longitude": -81.4036095,
                  "key": "eyJ0aW1lc3RhbXAiOjE1Nzg5MTc2Njg5NTUsInZpbiI6IjAwNWI0MjBmZDkyNzVmMDgwYWQ3OWUxYzQzMzAzNTdlIn0=",
                  "datetime": "2020-01-13T12:14:28.954999",
                  "_deepnote_index_column": 3
                },
                {
                  "Unnamed: 0.1": 3556,
                  "timestamp": 1578918206.96,
                  "vin": "005b420fd9275f080ad79e1c4330357e",
                  "sequence": 1142,
                  "navigation_location_coordinate_latitude": 41.2922165,
                  "navigation_location_coordinate_longitude": -81.4094663,
                  "key": "eyJ0aW1lc3RhbXAiOjE1Nzg5MTgyMDY5NjAsInZpbiI6IjAwNWI0MjBmZDkyNzVmMDgwYWQ3OWUxYzQzMzAzNTdlIn0=",
                  "datetime": "2020-01-13T12:23:26.960000",
                  "_deepnote_index_column": 4
                },
                {
                  "Unnamed: 0.1": 3564,
                  "timestamp": 1578927144.985,
                  "vin": "005b420fd9275f080ad79e1c4330357e",
                  "sequence": 1143,
                  "navigation_location_coordinate_latitude": 41.2671182,
                  "navigation_location_coordinate_longitude": -81.3784668,
                  "key": "eyJ0aW1lc3RhbXAiOjE1Nzg5MjcxNDQ5ODUsInZpbiI6IjAwNWI0MjBmZDkyNzVmMDgwYWQ3OWUxYzQzMzAzNTdlIn0=",
                  "datetime": "2020-01-13T14:52:24.984999",
                  "_deepnote_index_column": 5
                },
                {
                  "Unnamed: 0.1": 3570,
                  "timestamp": 1578927994.968,
                  "vin": "005b420fd9275f080ad79e1c4330357e",
                  "sequence": 1143,
                  "navigation_location_coordinate_latitude": 41.4099042,
                  "navigation_location_coordinate_longitude": -81.4997248,
                  "key": "eyJ0aW1lc3RhbXAiOjE1Nzg5Mjc5OTQ5NjgsInZpbiI6IjAwNWI0MjBmZDkyNzVmMDgwYWQ3OWUxYzQzMzAzNTdlIn0=",
                  "datetime": "2020-01-13T15:06:34.968000",
                  "_deepnote_index_column": 6
                },
                {
                  "Unnamed: 0.1": 3591,
                  "timestamp": 1578938069.94,
                  "vin": "005b420fd9275f080ad79e1c4330357e",
                  "sequence": 1145,
                  "navigation_location_coordinate_latitude": 41.394377,
                  "navigation_location_coordinate_longitude": -81.4130821,
                  "key": "eyJ0aW1lc3RhbXAiOjE1Nzg5MzgwNjk5NDAsInZpbiI6IjAwNWI0MjBmZDkyNzVmMDgwYWQ3OWUxYzQzMzAzNTdlIn0=",
                  "datetime": "2020-01-13T17:54:29.940000",
                  "_deepnote_index_column": 7
                },
                {
                  "Unnamed: 0.1": 3606,
                  "timestamp": 1578938869.071,
                  "vin": "005b420fd9275f080ad79e1c4330357e",
                  "sequence": 1145,
                  "navigation_location_coordinate_latitude": 41.4127244,
                  "navigation_location_coordinate_longitude": -81.5055703,
                  "key": "eyJ0aW1lc3RhbXAiOjE1Nzg5Mzg4NjkwNzEsInZpbiI6IjAwNWI0MjBmZDkyNzVmMDgwYWQ3OWUxYzQzMzAzNTdlIn0=",
                  "datetime": "2020-01-13T18:07:49.071000",
                  "_deepnote_index_column": 8
                },
                {
                  "Unnamed: 0.1": 3608,
                  "timestamp": 1578939136.049,
                  "vin": "005b420fd9275f080ad79e1c4330357e",
                  "sequence": 1145,
                  "navigation_location_coordinate_latitude": 41.4143587,
                  "navigation_location_coordinate_longitude": -81.5043558,
                  "key": "eyJ0aW1lc3RhbXAiOjE1Nzg5MzkxMzYwNDksInZpbiI6IjAwNWI0MjBmZDkyNzVmMDgwYWQ3OWUxYzQzMzAzNTdlIn0=",
                  "datetime": "2020-01-13T18:12:16.048999",
                  "_deepnote_index_column": 9
                },
                {
                  "Unnamed: 0.1": 3611,
                  "timestamp": 1578953321.966,
                  "vin": "005b420fd9275f080ad79e1c4330357e",
                  "sequence": 1146,
                  "navigation_location_coordinate_latitude": 41.4086839,
                  "navigation_location_coordinate_longitude": -81.4974147,
                  "key": "eyJ0aW1lc3RhbXAiOjE1Nzg5NTMzMjE5NjYsInZpbiI6IjAwNWI0MjBmZDkyNzVmMDgwYWQ3OWUxYzQzMzAzNTdlIn0=",
                  "datetime": "2020-01-13T22:08:41.966000",
                  "_deepnote_index_column": 10
                },
                {
                  "Unnamed: 0.1": 3618,
                  "timestamp": 1578953655.969,
                  "vin": "005b420fd9275f080ad79e1c4330357e",
                  "sequence": 1146,
                  "navigation_location_coordinate_latitude": 41.394762,
                  "navigation_location_coordinate_longitude": -81.4579998,
                  "key": "eyJ0aW1lc3RhbXAiOjE1Nzg5NTM2NTU5NjksInZpbiI6IjAwNWI0MjBmZDkyNzVmMDgwYWQ3OWUxYzQzMzAzNTdlIn0=",
                  "datetime": "2020-01-13T22:14:15.969000",
                  "_deepnote_index_column": 11
                },
                {
                  "Unnamed: 0.1": 3623,
                  "timestamp": 1578954028.967,
                  "vin": "005b420fd9275f080ad79e1c4330357e",
                  "sequence": 1146,
                  "navigation_location_coordinate_latitude": 41.3792764,
                  "navigation_location_coordinate_longitude": -81.4267512,
                  "key": "eyJ0aW1lc3RhbXAiOjE1Nzg5NTQwMjg5NjcsInZpbiI6IjAwNWI0MjBmZDkyNzVmMDgwYWQ3OWUxYzQzMzAzNTdlIn0=",
                  "datetime": "2020-01-13T22:20:28.967000",
                  "_deepnote_index_column": 12
                },
                {
                  "Unnamed: 0.1": 6924,
                  "timestamp": 1578396810.688,
                  "vin": "008beb5671fb49a92dc0ef9de96979bf",
                  "sequence": 553,
                  "navigation_location_coordinate_latitude": 40.1485454,
                  "navigation_location_coordinate_longitude": -82.9041065,
                  "key": "eyJ0aW1lc3RhbXAiOjE1NzgzOTY4MTA2ODgsInZpbiI6IjAwOGJlYjU2NzFmYjQ5YTkyZGMwZWY5ZGU5Njk3OWJmIn0=",
                  "datetime": "2020-01-07T11:33:30.688000",
                  "_deepnote_index_column": 13
                },
                {
                  "Unnamed: 0.1": 6935,
                  "timestamp": 1578396811.445,
                  "vin": "008beb5671fb49a92dc0ef9de96979bf",
                  "sequence": 553,
                  "navigation_location_coordinate_latitude": 40.1485089,
                  "navigation_location_coordinate_longitude": -82.9040793,
                  "key": "eyJ0aW1lc3RhbXAiOjE1NzgzOTY4MTE0NDUsInZpbiI6IjAwOGJlYjU2NzFmYjQ5YTkyZGMwZWY5ZGU5Njk3OWJmIn0=",
                  "datetime": "2020-01-07T11:33:31.444999",
                  "_deepnote_index_column": 14
                },
                {
                  "Unnamed: 0.1": 6943,
                  "timestamp": 1578396812.44,
                  "vin": "008beb5671fb49a92dc0ef9de96979bf",
                  "sequence": 553,
                  "navigation_location_coordinate_latitude": 40.1484582,
                  "navigation_location_coordinate_longitude": -82.9040503,
                  "key": "eyJ0aW1lc3RhbXAiOjE1NzgzOTY4MTI0NDAsInZpbiI6IjAwOGJlYjU2NzFmYjQ5YTkyZGMwZWY5ZGU5Njk3OWJmIn0=",
                  "datetime": "2020-01-07T11:33:32.440000",
                  "_deepnote_index_column": 15
                },
                {
                  "Unnamed: 0.1": 6953,
                  "timestamp": 1578396813.516,
                  "vin": "008beb5671fb49a92dc0ef9de96979bf",
                  "sequence": 553,
                  "navigation_location_coordinate_latitude": 40.1483991,
                  "navigation_location_coordinate_longitude": -82.9040215,
                  "key": "eyJ0aW1lc3RhbXAiOjE1NzgzOTY4MTM1MTYsInZpbiI6IjAwOGJlYjU2NzFmYjQ5YTkyZGMwZWY5ZGU5Njk3OWJmIn0=",
                  "datetime": "2020-01-07T11:33:33.516000",
                  "_deepnote_index_column": 16
                },
                {
                  "Unnamed: 0.1": 6963,
                  "timestamp": 1578396816.432,
                  "vin": "008beb5671fb49a92dc0ef9de96979bf",
                  "sequence": 553,
                  "navigation_location_coordinate_latitude": 40.1482322,
                  "navigation_location_coordinate_longitude": -82.9039462,
                  "key": "eyJ0aW1lc3RhbXAiOjE1NzgzOTY4MTY0MzIsInZpbiI6IjAwOGJlYjU2NzFmYjQ5YTkyZGMwZWY5ZGU5Njk3OWJmIn0=",
                  "datetime": "2020-01-07T11:33:36.432000",
                  "_deepnote_index_column": 17
                },
                {
                  "Unnamed: 0.1": 6965,
                  "timestamp": 1578396817.904,
                  "vin": "008beb5671fb49a92dc0ef9de96979bf",
                  "sequence": 553,
                  "navigation_location_coordinate_latitude": 40.1481915,
                  "navigation_location_coordinate_longitude": -82.9039285,
                  "key": "eyJ0aW1lc3RhbXAiOjE1NzgzOTY4MTc5MDQsInZpbiI6IjAwOGJlYjU2NzFmYjQ5YTkyZGMwZWY5ZGU5Njk3OWJmIn0=",
                  "datetime": "2020-01-07T11:33:37.904000",
                  "_deepnote_index_column": 18
                },
                {
                  "Unnamed: 0.1": 6988,
                  "timestamp": 1578396819.597,
                  "vin": "008beb5671fb49a92dc0ef9de96979bf",
                  "sequence": 553,
                  "navigation_location_coordinate_latitude": 40.1481128,
                  "navigation_location_coordinate_longitude": -82.9039094,
                  "key": "eyJ0aW1lc3RhbXAiOjE1NzgzOTY4MTk1OTcsInZpbiI6IjAwOGJlYjU2NzFmYjQ5YTkyZGMwZWY5ZGU5Njk3OWJmIn0=",
                  "datetime": "2020-01-07T11:33:39.596999",
                  "_deepnote_index_column": 19
                },
                {
                  "Unnamed: 0.1": 6993,
                  "timestamp": 1578396820.431,
                  "vin": "008beb5671fb49a92dc0ef9de96979bf",
                  "sequence": 553,
                  "navigation_location_coordinate_latitude": 40.1480678,
                  "navigation_location_coordinate_longitude": -82.9039289,
                  "key": "eyJ0aW1lc3RhbXAiOjE1NzgzOTY4MjA0MzEsInZpbiI6IjAwOGJlYjU2NzFmYjQ5YTkyZGMwZWY5ZGU5Njk3OWJmIn0=",
                  "datetime": "2020-01-07T11:33:40.431000",
                  "_deepnote_index_column": 20
                },
                {
                  "Unnamed: 0.1": 7006,
                  "timestamp": 1578396821.476,
                  "vin": "008beb5671fb49a92dc0ef9de96979bf",
                  "sequence": 553,
                  "navigation_location_coordinate_latitude": 40.1480176,
                  "navigation_location_coordinate_longitude": -82.9039896,
                  "key": "eyJ0aW1lc3RhbXAiOjE1NzgzOTY4MjE0NzYsInZpbiI6IjAwOGJlYjU2NzFmYjQ5YTkyZGMwZWY5ZGU5Njk3OWJmIn0=",
                  "datetime": "2020-01-07T11:33:41.476000",
                  "_deepnote_index_column": 21
                },
                {
                  "Unnamed: 0.1": 7022,
                  "timestamp": 1578396823.428,
                  "vin": "008beb5671fb49a92dc0ef9de96979bf",
                  "sequence": 553,
                  "navigation_location_coordinate_latitude": 40.1479219,
                  "navigation_location_coordinate_longitude": -82.9041673,
                  "key": "eyJ0aW1lc3RhbXAiOjE1NzgzOTY4MjM0MjgsInZpbiI6IjAwOGJlYjU2NzFmYjQ5YTkyZGMwZWY5ZGU5Njk3OWJmIn0=",
                  "datetime": "2020-01-07T11:33:43.428000",
                  "_deepnote_index_column": 22
                },
                {
                  "Unnamed: 0.1": 7032,
                  "timestamp": 1578396826.485,
                  "vin": "008beb5671fb49a92dc0ef9de96979bf",
                  "sequence": 553,
                  "navigation_location_coordinate_latitude": 40.1477382,
                  "navigation_location_coordinate_longitude": -82.9044856,
                  "key": "eyJ0aW1lc3RhbXAiOjE1NzgzOTY4MjY0ODUsInZpbiI6IjAwOGJlYjU2NzFmYjQ5YTkyZGMwZWY5ZGU5Njk3OWJmIn0=",
                  "datetime": "2020-01-07T11:33:46.484999",
                  "_deepnote_index_column": 23
                },
                {
                  "Unnamed: 0.1": 7037,
                  "timestamp": 1578396827.471,
                  "vin": "008beb5671fb49a92dc0ef9de96979bf",
                  "sequence": 553,
                  "navigation_location_coordinate_latitude": 40.147671,
                  "navigation_location_coordinate_longitude": -82.9045978,
                  "key": "eyJ0aW1lc3RhbXAiOjE1NzgzOTY4Mjc0NzEsInZpbiI6IjAwOGJlYjU2NzFmYjQ5YTkyZGMwZWY5ZGU5Njk3OWJmIn0=",
                  "datetime": "2020-01-07T11:33:47.471000",
                  "_deepnote_index_column": 24
                },
                {
                  "Unnamed: 0.1": 7039,
                  "timestamp": 1578396828.474,
                  "vin": "008beb5671fb49a92dc0ef9de96979bf",
                  "sequence": 553,
                  "navigation_location_coordinate_latitude": 40.1476062,
                  "navigation_location_coordinate_longitude": -82.9047131,
                  "key": "eyJ0aW1lc3RhbXAiOjE1NzgzOTY4Mjg0NzQsInZpbiI6IjAwOGJlYjU2NzFmYjQ5YTkyZGMwZWY5ZGU5Njk3OWJmIn0=",
                  "datetime": "2020-01-07T11:33:48.473999",
                  "_deepnote_index_column": 25
                },
                {
                  "Unnamed: 0.1": 7043,
                  "timestamp": 1578396829.478,
                  "vin": "008beb5671fb49a92dc0ef9de96979bf",
                  "sequence": 553,
                  "navigation_location_coordinate_latitude": 40.1475457,
                  "navigation_location_coordinate_longitude": -82.9048327,
                  "key": "eyJ0aW1lc3RhbXAiOjE1NzgzOTY4Mjk0NzgsInZpbiI6IjAwOGJlYjU2NzFmYjQ5YTkyZGMwZWY5ZGU5Njk3OWJmIn0=",
                  "datetime": "2020-01-07T11:33:49.477999",
                  "_deepnote_index_column": 26
                },
                {
                  "Unnamed: 0.1": 7046,
                  "timestamp": 1578396830.476,
                  "vin": "008beb5671fb49a92dc0ef9de96979bf",
                  "sequence": 553,
                  "navigation_location_coordinate_latitude": 40.1474918,
                  "navigation_location_coordinate_longitude": -82.904957,
                  "key": "eyJ0aW1lc3RhbXAiOjE1NzgzOTY4MzA0NzYsInZpbiI6IjAwOGJlYjU2NzFmYjQ5YTkyZGMwZWY5ZGU5Njk3OWJmIn0=",
                  "datetime": "2020-01-07T11:33:50.476000",
                  "_deepnote_index_column": 27
                },
                {
                  "Unnamed: 0.1": 7052,
                  "timestamp": 1578396832.481,
                  "vin": "008beb5671fb49a92dc0ef9de96979bf",
                  "sequence": 553,
                  "navigation_location_coordinate_latitude": 40.1474101,
                  "navigation_location_coordinate_longitude": -82.9052183,
                  "key": "eyJ0aW1lc3RhbXAiOjE1NzgzOTY4MzI0ODEsInZpbiI6IjAwOGJlYjU2NzFmYjQ5YTkyZGMwZWY5ZGU5Njk3OWJmIn0=",
                  "datetime": "2020-01-07T11:33:52.480999",
                  "_deepnote_index_column": 28
                },
                {
                  "Unnamed: 0.1": 7056,
                  "timestamp": 1578396833.499,
                  "vin": "008beb5671fb49a92dc0ef9de96979bf",
                  "sequence": 553,
                  "navigation_location_coordinate_latitude": 40.1473847,
                  "navigation_location_coordinate_longitude": -82.9053538,
                  "key": "eyJ0aW1lc3RhbXAiOjE1NzgzOTY4MzM0OTksInZpbiI6IjAwOGJlYjU2NzFmYjQ5YTkyZGMwZWY5ZGU5Njk3OWJmIn0=",
                  "datetime": "2020-01-07T11:33:53.499000",
                  "_deepnote_index_column": 29
                },
                {
                  "Unnamed: 0.1": 7063,
                  "timestamp": 1578396835.442,
                  "vin": "008beb5671fb49a92dc0ef9de96979bf",
                  "sequence": 553,
                  "navigation_location_coordinate_latitude": 40.1473734,
                  "navigation_location_coordinate_longitude": -82.9056294,
                  "key": "eyJ0aW1lc3RhbXAiOjE1NzgzOTY4MzU0NDIsInZpbiI6IjAwOGJlYjU2NzFmYjQ5YTkyZGMwZWY5ZGU5Njk3OWJmIn0=",
                  "datetime": "2020-01-07T11:33:55.441999",
                  "_deepnote_index_column": 30
                },
                {
                  "Unnamed: 0.1": 7074,
                  "timestamp": 1578396837.488,
                  "vin": "008beb5671fb49a92dc0ef9de96979bf",
                  "sequence": 553,
                  "navigation_location_coordinate_latitude": 40.1473965,
                  "navigation_location_coordinate_longitude": -82.9059181,
                  "key": "eyJ0aW1lc3RhbXAiOjE1NzgzOTY4Mzc0ODgsInZpbiI6IjAwOGJlYjU2NzFmYjQ5YTkyZGMwZWY5ZGU5Njk3OWJmIn0=",
                  "datetime": "2020-01-07T11:33:57.488000",
                  "_deepnote_index_column": 31
                },
                {
                  "Unnamed: 0.1": 7076,
                  "timestamp": 1578396838.481,
                  "vin": "008beb5671fb49a92dc0ef9de96979bf",
                  "sequence": 553,
                  "navigation_location_coordinate_latitude": 40.1474087,
                  "navigation_location_coordinate_longitude": -82.906057,
                  "key": "eyJ0aW1lc3RhbXAiOjE1NzgzOTY4Mzg0ODEsInZpbiI6IjAwOGJlYjU2NzFmYjQ5YTkyZGMwZWY5ZGU5Njk3OWJmIn0=",
                  "datetime": "2020-01-07T11:33:58.480999",
                  "_deepnote_index_column": 32
                },
                {
                  "Unnamed: 0.1": 7092,
                  "timestamp": 1578396840.485,
                  "vin": "008beb5671fb49a92dc0ef9de96979bf",
                  "sequence": 553,
                  "navigation_location_coordinate_latitude": 40.1474179,
                  "navigation_location_coordinate_longitude": -82.9062948,
                  "key": "eyJ0aW1lc3RhbXAiOjE1NzgzOTY4NDA0ODUsInZpbiI6IjAwOGJlYjU2NzFmYjQ5YTkyZGMwZWY5ZGU5Njk3OWJmIn0=",
                  "datetime": "2020-01-07T11:34:00.484999",
                  "_deepnote_index_column": 33
                },
                {
                  "Unnamed: 0.1": 7108,
                  "timestamp": 1578396841.475,
                  "vin": "008beb5671fb49a92dc0ef9de96979bf",
                  "sequence": 553,
                  "navigation_location_coordinate_latitude": 40.1474002,
                  "navigation_location_coordinate_longitude": -82.9063913,
                  "key": "eyJ0aW1lc3RhbXAiOjE1NzgzOTY4NDE0NzUsInZpbiI6IjAwOGJlYjU2NzFmYjQ5YTkyZGMwZWY5ZGU5Njk3OWJmIn0=",
                  "datetime": "2020-01-07T11:34:01.474999",
                  "_deepnote_index_column": 34
                },
                {
                  "Unnamed: 0.1": 7114,
                  "timestamp": 1578396842.477,
                  "vin": "008beb5671fb49a92dc0ef9de96979bf",
                  "sequence": 553,
                  "navigation_location_coordinate_latitude": 40.1473604,
                  "navigation_location_coordinate_longitude": -82.9064692,
                  "key": "eyJ0aW1lc3RhbXAiOjE1NzgzOTY4NDI0NzcsInZpbiI6IjAwOGJlYjU2NzFmYjQ5YTkyZGMwZWY5ZGU5Njk3OWJmIn0=",
                  "datetime": "2020-01-07T11:34:02.476999",
                  "_deepnote_index_column": 35
                },
                {
                  "Unnamed: 0.1": 7117,
                  "timestamp": 1578396843.476,
                  "vin": "008beb5671fb49a92dc0ef9de96979bf",
                  "sequence": 553,
                  "navigation_location_coordinate_latitude": 40.1473012,
                  "navigation_location_coordinate_longitude": -82.9065214,
                  "key": "eyJ0aW1lc3RhbXAiOjE1NzgzOTY4NDM0NzYsInZpbiI6IjAwOGJlYjU2NzFmYjQ5YTkyZGMwZWY5ZGU5Njk3OWJmIn0=",
                  "datetime": "2020-01-07T11:34:03.476000",
                  "_deepnote_index_column": 36
                },
                {
                  "Unnamed: 0.1": 7129,
                  "timestamp": 1578396845.472,
                  "vin": "008beb5671fb49a92dc0ef9de96979bf",
                  "sequence": 553,
                  "navigation_location_coordinate_latitude": 40.1471438,
                  "navigation_location_coordinate_longitude": -82.9065481,
                  "key": "eyJ0aW1lc3RhbXAiOjE1NzgzOTY4NDU0NzIsInZpbiI6IjAwOGJlYjU2NzFmYjQ5YTkyZGMwZWY5ZGU5Njk3OWJmIn0=",
                  "datetime": "2020-01-07T11:34:05.472000",
                  "_deepnote_index_column": 37
                },
                {
                  "Unnamed: 0.1": 7141,
                  "timestamp": 1578396847.425,
                  "vin": "008beb5671fb49a92dc0ef9de96979bf",
                  "sequence": 553,
                  "navigation_location_coordinate_latitude": 40.1469465,
                  "navigation_location_coordinate_longitude": -82.9065527,
                  "key": "eyJ0aW1lc3RhbXAiOjE1NzgzOTY4NDc0MjUsInZpbiI6IjAwOGJlYjU2NzFmYjQ5YTkyZGMwZWY5ZGU5Njk3OWJmIn0=",
                  "datetime": "2020-01-07T11:34:07.424999",
                  "_deepnote_index_column": 38
                },
                {
                  "Unnamed: 0.1": 7147,
                  "timestamp": 1578396848.434,
                  "vin": "008beb5671fb49a92dc0ef9de96979bf",
                  "sequence": 553,
                  "navigation_location_coordinate_latitude": 40.1468357,
                  "navigation_location_coordinate_longitude": -82.9065589,
                  "key": "eyJ0aW1lc3RhbXAiOjE1NzgzOTY4NDg0MzQsInZpbiI6IjAwOGJlYjU2NzFmYjQ5YTkyZGMwZWY5ZGU5Njk3OWJmIn0=",
                  "datetime": "2020-01-07T11:34:08.434000",
                  "_deepnote_index_column": 39
                },
                {
                  "Unnamed: 0.1": 7156,
                  "timestamp": 1578396851.449,
                  "vin": "008beb5671fb49a92dc0ef9de96979bf",
                  "sequence": 553,
                  "navigation_location_coordinate_latitude": 40.1464961,
                  "navigation_location_coordinate_longitude": -82.9065842,
                  "key": "eyJ0aW1lc3RhbXAiOjE1NzgzOTY4NTE0NDksInZpbiI6IjAwOGJlYjU2NzFmYjQ5YTkyZGMwZWY5ZGU5Njk3OWJmIn0=",
                  "datetime": "2020-01-07T11:34:11.448999",
                  "_deepnote_index_column": 40
                },
                {
                  "Unnamed: 0.1": 7159,
                  "timestamp": 1578396852.43,
                  "vin": "008beb5671fb49a92dc0ef9de96979bf",
                  "sequence": 553,
                  "navigation_location_coordinate_latitude": 40.1463917,
                  "navigation_location_coordinate_longitude": -82.9065966,
                  "key": "eyJ0aW1lc3RhbXAiOjE1NzgzOTY4NTI0MzAsInZpbiI6IjAwOGJlYjU2NzFmYjQ5YTkyZGMwZWY5ZGU5Njk3OWJmIn0=",
                  "datetime": "2020-01-07T11:34:12.430000",
                  "_deepnote_index_column": 41
                },
                {
                  "Unnamed: 0.1": 7162,
                  "timestamp": 1578396853.553,
                  "vin": "008beb5671fb49a92dc0ef9de96979bf",
                  "sequence": 553,
                  "navigation_location_coordinate_latitude": 40.1462983,
                  "navigation_location_coordinate_longitude": -82.9066098,
                  "key": "eyJ0aW1lc3RhbXAiOjE1NzgzOTY4NTM1NTMsInZpbiI6IjAwOGJlYjU2NzFmYjQ5YTkyZGMwZWY5ZGU5Njk3OWJmIn0=",
                  "datetime": "2020-01-07T11:34:13.552999",
                  "_deepnote_index_column": 42
                },
                {
                  "Unnamed: 0.1": 7167,
                  "timestamp": 1578396854.423,
                  "vin": "008beb5671fb49a92dc0ef9de96979bf",
                  "sequence": 553,
                  "navigation_location_coordinate_latitude": 40.1462193,
                  "navigation_location_coordinate_longitude": -82.9066242,
                  "key": "eyJ0aW1lc3RhbXAiOjE1NzgzOTY4NTQ0MjMsInZpbiI6IjAwOGJlYjU2NzFmYjQ5YTkyZGMwZWY5ZGU5Njk3OWJmIn0=",
                  "datetime": "2020-01-07T11:34:14.423000",
                  "_deepnote_index_column": 43
                },
                {
                  "Unnamed: 0.1": 7173,
                  "timestamp": 1578396855.455,
                  "vin": "008beb5671fb49a92dc0ef9de96979bf",
                  "sequence": 553,
                  "navigation_location_coordinate_latitude": 40.1461586,
                  "navigation_location_coordinate_longitude": -82.9066402,
                  "key": "eyJ0aW1lc3RhbXAiOjE1NzgzOTY4NTU0NTUsInZpbiI6IjAwOGJlYjU2NzFmYjQ5YTkyZGMwZWY5ZGU5Njk3OWJmIn0=",
                  "datetime": "2020-01-07T11:34:15.454999",
                  "_deepnote_index_column": 44
                },
                {
                  "Unnamed: 0.1": 7184,
                  "timestamp": 1578396858.446,
                  "vin": "008beb5671fb49a92dc0ef9de96979bf",
                  "sequence": 553,
                  "navigation_location_coordinate_latitude": 40.1460976,
                  "navigation_location_coordinate_longitude": -82.9066662,
                  "key": "eyJ0aW1lc3RhbXAiOjE1NzgzOTY4NTg0NDYsInZpbiI6IjAwOGJlYjU2NzFmYjQ5YTkyZGMwZWY5ZGU5Njk3OWJmIn0=",
                  "datetime": "2020-01-07T11:34:18.446000",
                  "_deepnote_index_column": 45
                },
                {
                  "Unnamed: 0.1": 7198,
                  "timestamp": 1578396868.435,
                  "vin": "008beb5671fb49a92dc0ef9de96979bf",
                  "sequence": 553,
                  "navigation_location_coordinate_latitude": 40.1460884,
                  "navigation_location_coordinate_longitude": -82.9066725,
                  "key": "eyJ0aW1lc3RhbXAiOjE1NzgzOTY4Njg0MzUsInZpbiI6IjAwOGJlYjU2NzFmYjQ5YTkyZGMwZWY5ZGU5Njk3OWJmIn0=",
                  "datetime": "2020-01-07T11:34:28.435000",
                  "_deepnote_index_column": 46
                },
                {
                  "Unnamed: 0.1": 7210,
                  "timestamp": 1578396869.435,
                  "vin": "008beb5671fb49a92dc0ef9de96979bf",
                  "sequence": 553,
                  "navigation_location_coordinate_latitude": 40.1460652,
                  "navigation_location_coordinate_longitude": -82.9066931,
                  "key": "eyJ0aW1lc3RhbXAiOjE1NzgzOTY4Njk0MzUsInZpbiI6IjAwOGJlYjU2NzFmYjQ5YTkyZGMwZWY5ZGU5Njk3OWJmIn0=",
                  "datetime": "2020-01-07T11:34:29.435000",
                  "_deepnote_index_column": 47
                },
                {
                  "Unnamed: 0.1": 7222,
                  "timestamp": 1578396870.428,
                  "vin": "008beb5671fb49a92dc0ef9de96979bf",
                  "sequence": 553,
                  "navigation_location_coordinate_latitude": 40.1460402,
                  "navigation_location_coordinate_longitude": -82.9067404,
                  "key": "eyJ0aW1lc3RhbXAiOjE1NzgzOTY4NzA0MjgsInZpbiI6IjAwOGJlYjU2NzFmYjQ5YTkyZGMwZWY5ZGU5Njk3OWJmIn0=",
                  "datetime": "2020-01-07T11:34:30.428000",
                  "_deepnote_index_column": 48
                },
                {
                  "Unnamed: 0.1": 7236,
                  "timestamp": 1578396871.438,
                  "vin": "008beb5671fb49a92dc0ef9de96979bf",
                  "sequence": 553,
                  "navigation_location_coordinate_latitude": 40.1460266,
                  "navigation_location_coordinate_longitude": -82.9068221,
                  "key": "eyJ0aW1lc3RhbXAiOjE1NzgzOTY4NzE0MzgsInZpbiI6IjAwOGJlYjU2NzFmYjQ5YTkyZGMwZWY5ZGU5Njk3OWJmIn0=",
                  "datetime": "2020-01-07T11:34:31.437999",
                  "_deepnote_index_column": 49
                },
                {
                  "Unnamed: 0.1": 7251,
                  "timestamp": 1578396873.436,
                  "vin": "008beb5671fb49a92dc0ef9de96979bf",
                  "sequence": 553,
                  "navigation_location_coordinate_latitude": 40.1460317,
                  "navigation_location_coordinate_longitude": -82.907074,
                  "key": "eyJ0aW1lc3RhbXAiOjE1NzgzOTY4NzM0MzYsInZpbiI6IjAwOGJlYjU2NzFmYjQ5YTkyZGMwZWY5ZGU5Njk3OWJmIn0=",
                  "datetime": "2020-01-07T11:34:33.436000",
                  "_deepnote_index_column": 50
                },
                {
                  "Unnamed: 0.1": 7256,
                  "timestamp": 1578396874.433,
                  "vin": "008beb5671fb49a92dc0ef9de96979bf",
                  "sequence": 553,
                  "navigation_location_coordinate_latitude": 40.1460388,
                  "navigation_location_coordinate_longitude": -82.907241,
                  "key": "eyJ0aW1lc3RhbXAiOjE1NzgzOTY4NzQ0MzMsInZpbiI6IjAwOGJlYjU2NzFmYjQ5YTkyZGMwZWY5ZGU5Njk3OWJmIn0=",
                  "datetime": "2020-01-07T11:34:34.433000",
                  "_deepnote_index_column": 51
                },
                {
                  "Unnamed: 0.1": 7281,
                  "timestamp": 1578396878.477,
                  "vin": "008beb5671fb49a92dc0ef9de96979bf",
                  "sequence": 553,
                  "navigation_location_coordinate_latitude": 40.1460746,
                  "navigation_location_coordinate_longitude": -82.9081302,
                  "key": "eyJ0aW1lc3RhbXAiOjE1NzgzOTY4Nzg0NzcsInZpbiI6IjAwOGJlYjU2NzFmYjQ5YTkyZGMwZWY5ZGU5Njk3OWJmIn0=",
                  "datetime": "2020-01-07T11:34:38.476999",
                  "_deepnote_index_column": 52
                },
                {
                  "Unnamed: 0.1": 7284,
                  "timestamp": 1578396879.475,
                  "vin": "008beb5671fb49a92dc0ef9de96979bf",
                  "sequence": 553,
                  "navigation_location_coordinate_latitude": 40.146084,
                  "navigation_location_coordinate_longitude": -82.9083838,
                  "key": "eyJ0aW1lc3RhbXAiOjE1NzgzOTY4Nzk0NzUsInZpbiI6IjAwOGJlYjU2NzFmYjQ5YTkyZGMwZWY5ZGU5Njk3OWJmIn0=",
                  "datetime": "2020-01-07T11:34:39.474999",
                  "_deepnote_index_column": 53
                },
                {
                  "Unnamed: 0.1": 7290,
                  "timestamp": 1578396881.47,
                  "vin": "008beb5671fb49a92dc0ef9de96979bf",
                  "sequence": 553,
                  "navigation_location_coordinate_latitude": 40.1461033,
                  "navigation_location_coordinate_longitude": -82.9089043,
                  "key": "eyJ0aW1lc3RhbXAiOjE1NzgzOTY4ODE0NzAsInZpbiI6IjAwOGJlYjU2NzFmYjQ5YTkyZGMwZWY5ZGU5Njk3OWJmIn0=",
                  "datetime": "2020-01-07T11:34:41.470000",
                  "_deepnote_index_column": 54
                },
                {
                  "Unnamed: 0.1": 7293,
                  "timestamp": 1578396882.474,
                  "vin": "008beb5671fb49a92dc0ef9de96979bf",
                  "sequence": 553,
                  "navigation_location_coordinate_latitude": 40.1461143,
                  "navigation_location_coordinate_longitude": -82.9091685,
                  "key": "eyJ0aW1lc3RhbXAiOjE1NzgzOTY4ODI0NzQsInZpbiI6IjAwOGJlYjU2NzFmYjQ5YTkyZGMwZWY5ZGU5Njk3OWJmIn0=",
                  "datetime": "2020-01-07T11:34:42.473999",
                  "_deepnote_index_column": 55
                },
                {
                  "Unnamed: 0.1": 7294,
                  "timestamp": 1578396883.469,
                  "vin": "008beb5671fb49a92dc0ef9de96979bf",
                  "sequence": 553,
                  "navigation_location_coordinate_latitude": 40.1461239,
                  "navigation_location_coordinate_longitude": -82.9094345,
                  "key": "eyJ0aW1lc3RhbXAiOjE1NzgzOTY4ODM0NjksInZpbiI6IjAwOGJlYjU2NzFmYjQ5YTkyZGMwZWY5ZGU5Njk3OWJmIn0=",
                  "datetime": "2020-01-07T11:34:43.469000",
                  "_deepnote_index_column": 56
                },
                {
                  "Unnamed: 0.1": 7296,
                  "timestamp": 1578396884.471,
                  "vin": "008beb5671fb49a92dc0ef9de96979bf",
                  "sequence": 553,
                  "navigation_location_coordinate_latitude": 40.1461337,
                  "navigation_location_coordinate_longitude": -82.9097019,
                  "key": "eyJ0aW1lc3RhbXAiOjE1NzgzOTY4ODQ0NzEsInZpbiI6IjAwOGJlYjU2NzFmYjQ5YTkyZGMwZWY5ZGU5Njk3OWJmIn0=",
                  "datetime": "2020-01-07T11:34:44.471000",
                  "_deepnote_index_column": 57
                },
                {
                  "Unnamed: 0.1": 7304,
                  "timestamp": 1578396890.423,
                  "vin": "008beb5671fb49a92dc0ef9de96979bf",
                  "sequence": 553,
                  "navigation_location_coordinate_latitude": 40.1461988,
                  "navigation_location_coordinate_longitude": -82.9112694,
                  "key": "eyJ0aW1lc3RhbXAiOjE1NzgzOTY4OTA0MjMsInZpbiI6IjAwOGJlYjU2NzFmYjQ5YTkyZGMwZWY5ZGU5Njk3OWJmIn0=",
                  "datetime": "2020-01-07T11:34:50.423000",
                  "_deepnote_index_column": 58
                },
                {
                  "Unnamed: 0.1": 7307,
                  "timestamp": 1578396891.478,
                  "vin": "008beb5671fb49a92dc0ef9de96979bf",
                  "sequence": 553,
                  "navigation_location_coordinate_latitude": 40.1462094,
                  "navigation_location_coordinate_longitude": -82.9115231,
                  "key": "eyJ0aW1lc3RhbXAiOjE1NzgzOTY4OTE0NzgsInZpbiI6IjAwOGJlYjU2NzFmYjQ5YTkyZGMwZWY5ZGU5Njk3OWJmIn0=",
                  "datetime": "2020-01-07T11:34:51.477999",
                  "_deepnote_index_column": 59
                },
                {
                  "Unnamed: 0.1": 7308,
                  "timestamp": 1578396892.474,
                  "vin": "008beb5671fb49a92dc0ef9de96979bf",
                  "sequence": 553,
                  "navigation_location_coordinate_latitude": 40.1462212,
                  "navigation_location_coordinate_longitude": -82.9117784,
                  "key": "eyJ0aW1lc3RhbXAiOjE1NzgzOTY4OTI0NzQsInZpbiI6IjAwOGJlYjU2NzFmYjQ5YTkyZGMwZWY5ZGU5Njk3OWJmIn0=",
                  "datetime": "2020-01-07T11:34:52.473999",
                  "_deepnote_index_column": 60
                },
                {
                  "Unnamed: 0.1": 7310,
                  "timestamp": 1578396893.473,
                  "vin": "008beb5671fb49a92dc0ef9de96979bf",
                  "sequence": 553,
                  "navigation_location_coordinate_latitude": 40.1462329,
                  "navigation_location_coordinate_longitude": -82.9120355,
                  "key": "eyJ0aW1lc3RhbXAiOjE1NzgzOTY4OTM0NzMsInZpbiI6IjAwOGJlYjU2NzFmYjQ5YTkyZGMwZWY5ZGU5Njk3OWJmIn0=",
                  "datetime": "2020-01-07T11:34:53.472999",
                  "_deepnote_index_column": 61
                }
              ],
              "rows_bottom": [
                {
                  "Unnamed: 0.1": 71,
                  "timestamp": 1580774339.599,
                  "vin": "123b9a7bbd7775662d3a55656dc2379b",
                  "sequence": 2065,
                  "navigation_location_coordinate_latitude": 39.9111073,
                  "navigation_location_coordinate_longitude": -82.8002921,
                  "key": "eyJ0aW1lc3RhbXAiOjE1ODA3NzQzMzk1OTksInZpbiI6IjEyM2I5YTdiYmQ3Nzc1NjYyZDNhNTU2NTZkYzIzNzliIn0=",
                  "datetime": "2020-02-03T23:58:59.599000",
                  "_deepnote_index_column": 736001
                },
                {
                  "Unnamed: 0.1": 211,
                  "timestamp": 1580774342.597,
                  "vin": "123b9a7bbd7775662d3a55656dc2379b",
                  "sequence": 2065,
                  "navigation_location_coordinate_latitude": 39.9111483,
                  "navigation_location_coordinate_longitude": -82.8009845,
                  "key": "eyJ0aW1lc3RhbXAiOjE1ODA3NzQzNDI1OTcsInZpbiI6IjEyM2I5YTdiYmQ3Nzc1NjYyZDNhNTU2NTZkYzIzNzliIn0=",
                  "datetime": "2020-02-03T23:59:02.596999",
                  "_deepnote_index_column": 736002
                },
                {
                  "Unnamed: 0.1": 433,
                  "timestamp": 1580774347.602,
                  "vin": "123b9a7bbd7775662d3a55656dc2379b",
                  "sequence": 2065,
                  "navigation_location_coordinate_latitude": 39.9111969,
                  "navigation_location_coordinate_longitude": -82.8021234,
                  "key": "eyJ0aW1lc3RhbXAiOjE1ODA3NzQzNDc2MDIsInZpbiI6IjEyM2I5YTdiYmQ3Nzc1NjYyZDNhNTU2NTZkYzIzNzliIn0=",
                  "datetime": "2020-02-03T23:59:07.601999",
                  "_deepnote_index_column": 736003
                },
                {
                  "Unnamed: 0.1": 532,
                  "timestamp": 1580774349.597,
                  "vin": "123b9a7bbd7775662d3a55656dc2379b",
                  "sequence": 2065,
                  "navigation_location_coordinate_latitude": 39.9112144,
                  "navigation_location_coordinate_longitude": -82.8025705,
                  "key": "eyJ0aW1lc3RhbXAiOjE1ODA3NzQzNDk1OTcsInZpbiI6IjEyM2I5YTdiYmQ3Nzc1NjYyZDNhNTU2NTZkYzIzNzliIn0=",
                  "datetime": "2020-02-03T23:59:09.596999",
                  "_deepnote_index_column": 736004
                },
                {
                  "Unnamed: 0.1": 742,
                  "timestamp": 1580774353.597,
                  "vin": "123b9a7bbd7775662d3a55656dc2379b",
                  "sequence": 2065,
                  "navigation_location_coordinate_latitude": 39.9112546,
                  "navigation_location_coordinate_longitude": -82.803462,
                  "key": "eyJ0aW1lc3RhbXAiOjE1ODA3NzQzNTM1OTcsInZpbiI6IjEyM2I5YTdiYmQ3Nzc1NjYyZDNhNTU2NTZkYzIzNzliIn0=",
                  "datetime": "2020-02-03T23:59:13.596999",
                  "_deepnote_index_column": 736005
                },
                {
                  "Unnamed: 0.1": 804,
                  "timestamp": 1580774354.595,
                  "vin": "123b9a7bbd7775662d3a55656dc2379b",
                  "sequence": 2065,
                  "navigation_location_coordinate_latitude": 39.9112617,
                  "navigation_location_coordinate_longitude": -82.8036716,
                  "key": "eyJ0aW1lc3RhbXAiOjE1ODA3NzQzNTQ1OTUsInZpbiI6IjEyM2I5YTdiYmQ3Nzc1NjYyZDNhNTU2NTZkYzIzNzliIn0=",
                  "datetime": "2020-02-03T23:59:14.595000",
                  "_deepnote_index_column": 736006
                },
                {
                  "Unnamed: 0.1": 859,
                  "timestamp": 1580774355.594,
                  "vin": "123b9a7bbd7775662d3a55656dc2379b",
                  "sequence": 2065,
                  "navigation_location_coordinate_latitude": 39.9112685,
                  "navigation_location_coordinate_longitude": -82.8038729,
                  "key": "eyJ0aW1lc3RhbXAiOjE1ODA3NzQzNTU1OTQsInZpbiI6IjEyM2I5YTdiYmQ3Nzc1NjYyZDNhNTU2NTZkYzIzNzliIn0=",
                  "datetime": "2020-02-03T23:59:15.594000",
                  "_deepnote_index_column": 736007
                },
                {
                  "Unnamed: 0.1": 917,
                  "timestamp": 1580774356.493,
                  "vin": "123b9a7bbd7775662d3a55656dc2379b",
                  "sequence": 2065,
                  "navigation_location_coordinate_latitude": 39.911274,
                  "navigation_location_coordinate_longitude": -82.804048,
                  "key": "eyJ0aW1lc3RhbXAiOjE1ODA3NzQzNTY0OTMsInZpbiI6IjEyM2I5YTdiYmQ3Nzc1NjYyZDNhNTU2NTZkYzIzNzliIn0=",
                  "datetime": "2020-02-03T23:59:16.492999",
                  "_deepnote_index_column": 736008
                },
                {
                  "Unnamed: 0.1": 979,
                  "timestamp": 1580774357.497,
                  "vin": "123b9a7bbd7775662d3a55656dc2379b",
                  "sequence": 2065,
                  "navigation_location_coordinate_latitude": 39.911283,
                  "navigation_location_coordinate_longitude": -82.804232,
                  "key": "eyJ0aW1lc3RhbXAiOjE1ODA3NzQzNTc0OTcsInZpbiI6IjEyM2I5YTdiYmQ3Nzc1NjYyZDNhNTU2NTZkYzIzNzliIn0=",
                  "datetime": "2020-02-03T23:59:17.496999",
                  "_deepnote_index_column": 736009
                },
                {
                  "Unnamed: 0.1": 36,
                  "timestamp": 1580774358.497,
                  "vin": "123b9a7bbd7775662d3a55656dc2379b",
                  "sequence": 2065,
                  "navigation_location_coordinate_latitude": 39.911294,
                  "navigation_location_coordinate_longitude": -82.804406,
                  "key": "eyJ0aW1lc3RhbXAiOjE1ODA3NzQzNTg0OTcsInZpbiI6IjEyM2I5YTdiYmQ3Nzc1NjYyZDNhNTU2NTZkYzIzNzliIn0=",
                  "datetime": "2020-02-03T23:59:18.496999",
                  "_deepnote_index_column": 736010
                },
                {
                  "Unnamed: 0.1": 101,
                  "timestamp": 1580774359.501,
                  "vin": "123b9a7bbd7775662d3a55656dc2379b",
                  "sequence": 2065,
                  "navigation_location_coordinate_latitude": 39.911302,
                  "navigation_location_coordinate_longitude": -82.804574,
                  "key": "eyJ0aW1lc3RhbXAiOjE1ODA3NzQzNTk1MDEsInZpbiI6IjEyM2I5YTdiYmQ3Nzc1NjYyZDNhNTU2NTZkYzIzNzliIn0=",
                  "datetime": "2020-02-03T23:59:19.500999",
                  "_deepnote_index_column": 736011
                },
                {
                  "Unnamed: 0.1": 149,
                  "timestamp": 1580774360.504,
                  "vin": "123b9a7bbd7775662d3a55656dc2379b",
                  "sequence": 2065,
                  "navigation_location_coordinate_latitude": 39.91131,
                  "navigation_location_coordinate_longitude": -82.804735,
                  "key": "eyJ0aW1lc3RhbXAiOjE1ODA3NzQzNjA1MDQsInZpbiI6IjEyM2I5YTdiYmQ3Nzc1NjYyZDNhNTU2NTZkYzIzNzliIn0=",
                  "datetime": "2020-02-03T23:59:20.504000",
                  "_deepnote_index_column": 736012
                },
                {
                  "Unnamed: 0.1": 195,
                  "timestamp": 1580774361.504,
                  "vin": "123b9a7bbd7775662d3a55656dc2379b",
                  "sequence": 2065,
                  "navigation_location_coordinate_latitude": 39.911321,
                  "navigation_location_coordinate_longitude": -82.804898,
                  "key": "eyJ0aW1lc3RhbXAiOjE1ODA3NzQzNjE1MDQsInZpbiI6IjEyM2I5YTdiYmQ3Nzc1NjYyZDNhNTU2NTZkYzIzNzliIn0=",
                  "datetime": "2020-02-03T23:59:21.504000",
                  "_deepnote_index_column": 736013
                },
                {
                  "Unnamed: 0.1": 248,
                  "timestamp": 1580774362.51,
                  "vin": "123b9a7bbd7775662d3a55656dc2379b",
                  "sequence": 2065,
                  "navigation_location_coordinate_latitude": 39.911328,
                  "navigation_location_coordinate_longitude": -82.805042,
                  "key": "eyJ0aW1lc3RhbXAiOjE1ODA3NzQzNjI1MTAsInZpbiI6IjEyM2I5YTdiYmQ3Nzc1NjYyZDNhNTU2NTZkYzIzNzliIn0=",
                  "datetime": "2020-02-03T23:59:22.509999",
                  "_deepnote_index_column": 736014
                },
                {
                  "Unnamed: 0.1": 300,
                  "timestamp": 1580774363.512,
                  "vin": "123b9a7bbd7775662d3a55656dc2379b",
                  "sequence": 2065,
                  "navigation_location_coordinate_latitude": 39.911334,
                  "navigation_location_coordinate_longitude": -82.805189,
                  "key": "eyJ0aW1lc3RhbXAiOjE1ODA3NzQzNjM1MTIsInZpbiI6IjEyM2I5YTdiYmQ3Nzc1NjYyZDNhNTU2NTZkYzIzNzliIn0=",
                  "datetime": "2020-02-03T23:59:23.512000",
                  "_deepnote_index_column": 736015
                },
                {
                  "Unnamed: 0.1": 343,
                  "timestamp": 1580774364.514,
                  "vin": "123b9a7bbd7775662d3a55656dc2379b",
                  "sequence": 2065,
                  "navigation_location_coordinate_latitude": 39.91134,
                  "navigation_location_coordinate_longitude": -82.805336,
                  "key": "eyJ0aW1lc3RhbXAiOjE1ODA3NzQzNjQ1MTQsInZpbiI6IjEyM2I5YTdiYmQ3Nzc1NjYyZDNhNTU2NTZkYzIzNzliIn0=",
                  "datetime": "2020-02-03T23:59:24.513999",
                  "_deepnote_index_column": 736016
                },
                {
                  "Unnamed: 0.1": 388,
                  "timestamp": 1580774365.515,
                  "vin": "123b9a7bbd7775662d3a55656dc2379b",
                  "sequence": 2065,
                  "navigation_location_coordinate_latitude": 39.911347,
                  "navigation_location_coordinate_longitude": -82.805498,
                  "key": "eyJ0aW1lc3RhbXAiOjE1ODA3NzQzNjU1MTUsInZpbiI6IjEyM2I5YTdiYmQ3Nzc1NjYyZDNhNTU2NTZkYzIzNzliIn0=",
                  "datetime": "2020-02-03T23:59:25.515000",
                  "_deepnote_index_column": 736017
                },
                {
                  "Unnamed: 0.1": 484,
                  "timestamp": 1580774367.522,
                  "vin": "123b9a7bbd7775662d3a55656dc2379b",
                  "sequence": 2065,
                  "navigation_location_coordinate_latitude": 39.911365,
                  "navigation_location_coordinate_longitude": -82.805798,
                  "key": "eyJ0aW1lc3RhbXAiOjE1ODA3NzQzNjc1MjIsInZpbiI6IjEyM2I5YTdiYmQ3Nzc1NjYyZDNhNTU2NTZkYzIzNzliIn0=",
                  "datetime": "2020-02-03T23:59:27.522000",
                  "_deepnote_index_column": 736018
                },
                {
                  "Unnamed: 0.1": 582,
                  "timestamp": 1580774369.524,
                  "vin": "123b9a7bbd7775662d3a55656dc2379b",
                  "sequence": 2065,
                  "navigation_location_coordinate_latitude": 39.911384,
                  "navigation_location_coordinate_longitude": -82.806123,
                  "key": "eyJ0aW1lc3RhbXAiOjE1ODA3NzQzNjk1MjQsInZpbiI6IjEyM2I5YTdiYmQ3Nzc1NjYyZDNhNTU2NTZkYzIzNzliIn0=",
                  "datetime": "2020-02-03T23:59:29.524000",
                  "_deepnote_index_column": 736019
                },
                {
                  "Unnamed: 0.1": 628,
                  "timestamp": 1580774370.526,
                  "vin": "123b9a7bbd7775662d3a55656dc2379b",
                  "sequence": 2065,
                  "navigation_location_coordinate_latitude": 39.911392,
                  "navigation_location_coordinate_longitude": -82.806292,
                  "key": "eyJ0aW1lc3RhbXAiOjE1ODA3NzQzNzA1MjYsInZpbiI6IjEyM2I5YTdiYmQ3Nzc1NjYyZDNhNTU2NTZkYzIzNzliIn0=",
                  "datetime": "2020-02-03T23:59:30.526000",
                  "_deepnote_index_column": 736020
                },
                {
                  "Unnamed: 0.1": 717,
                  "timestamp": 1580774372.53,
                  "vin": "123b9a7bbd7775662d3a55656dc2379b",
                  "sequence": 2065,
                  "navigation_location_coordinate_latitude": 39.911405,
                  "navigation_location_coordinate_longitude": -82.806657,
                  "key": "eyJ0aW1lc3RhbXAiOjE1ODA3NzQzNzI1MzAsInZpbiI6IjEyM2I5YTdiYmQ3Nzc1NjYyZDNhNTU2NTZkYzIzNzliIn0=",
                  "datetime": "2020-02-03T23:59:32.529999",
                  "_deepnote_index_column": 736021
                },
                {
                  "Unnamed: 0.1": 806,
                  "timestamp": 1580774374.536,
                  "vin": "123b9a7bbd7775662d3a55656dc2379b",
                  "sequence": 2065,
                  "navigation_location_coordinate_latitude": 39.911421,
                  "navigation_location_coordinate_longitude": -82.807033,
                  "key": "eyJ0aW1lc3RhbXAiOjE1ODA3NzQzNzQ1MzYsInZpbiI6IjEyM2I5YTdiYmQ3Nzc1NjYyZDNhNTU2NTZkYzIzNzliIn0=",
                  "datetime": "2020-02-03T23:59:34.536000",
                  "_deepnote_index_column": 736022
                },
                {
                  "Unnamed: 0.1": 855,
                  "timestamp": 1580774375.538,
                  "vin": "123b9a7bbd7775662d3a55656dc2379b",
                  "sequence": 2065,
                  "navigation_location_coordinate_latitude": 39.911434,
                  "navigation_location_coordinate_longitude": -82.807235,
                  "key": "eyJ0aW1lc3RhbXAiOjE1ODA3NzQzNzU1MzgsInZpbiI6IjEyM2I5YTdiYmQ3Nzc1NjYyZDNhNTU2NTZkYzIzNzliIn0=",
                  "datetime": "2020-02-03T23:59:35.538000",
                  "_deepnote_index_column": 736023
                },
                {
                  "Unnamed: 0.1": 903,
                  "timestamp": 1580774376.54,
                  "vin": "123b9a7bbd7775662d3a55656dc2379b",
                  "sequence": 2065,
                  "navigation_location_coordinate_latitude": 39.911445,
                  "navigation_location_coordinate_longitude": -82.807443,
                  "key": "eyJ0aW1lc3RhbXAiOjE1ODA3NzQzNzY1NDAsInZpbiI6IjEyM2I5YTdiYmQ3Nzc1NjYyZDNhNTU2NTZkYzIzNzliIn0=",
                  "datetime": "2020-02-03T23:59:36.540000",
                  "_deepnote_index_column": 736024
                },
                {
                  "Unnamed: 0.1": 959,
                  "timestamp": 1580774377.543,
                  "vin": "123b9a7bbd7775662d3a55656dc2379b",
                  "sequence": 2065,
                  "navigation_location_coordinate_latitude": 39.911456,
                  "navigation_location_coordinate_longitude": -82.807653,
                  "key": "eyJ0aW1lc3RhbXAiOjE1ODA3NzQzNzc1NDMsInZpbiI6IjEyM2I5YTdiYmQ3Nzc1NjYyZDNhNTU2NTZkYzIzNzliIn0=",
                  "datetime": "2020-02-03T23:59:37.543000",
                  "_deepnote_index_column": 736025
                },
                {
                  "Unnamed: 0.1": 14,
                  "timestamp": 1580774378.545,
                  "vin": "123b9a7bbd7775662d3a55656dc2379b",
                  "sequence": 2065,
                  "navigation_location_coordinate_latitude": 39.911465,
                  "navigation_location_coordinate_longitude": -82.807857,
                  "key": "eyJ0aW1lc3RhbXAiOjE1ODA3NzQzNzg1NDUsInZpbiI6IjEyM2I5YTdiYmQ3Nzc1NjYyZDNhNTU2NTZkYzIzNzliIn0=",
                  "datetime": "2020-02-03T23:59:38.545000",
                  "_deepnote_index_column": 736026
                },
                {
                  "Unnamed: 0.1": 83,
                  "timestamp": 1580774379.547,
                  "vin": "123b9a7bbd7775662d3a55656dc2379b",
                  "sequence": 2065,
                  "navigation_location_coordinate_latitude": 39.911475,
                  "navigation_location_coordinate_longitude": -82.808054,
                  "key": "eyJ0aW1lc3RhbXAiOjE1ODA3NzQzNzk1NDcsInZpbiI6IjEyM2I5YTdiYmQ3Nzc1NjYyZDNhNTU2NTZkYzIzNzliIn0=",
                  "datetime": "2020-02-03T23:59:39.546999",
                  "_deepnote_index_column": 736027
                },
                {
                  "Unnamed: 0.1": 129,
                  "timestamp": 1580774380.549,
                  "vin": "123b9a7bbd7775662d3a55656dc2379b",
                  "sequence": 2065,
                  "navigation_location_coordinate_latitude": 39.911489,
                  "navigation_location_coordinate_longitude": -82.808244,
                  "key": "eyJ0aW1lc3RhbXAiOjE1ODA3NzQzODA1NDksInZpbiI6IjEyM2I5YTdiYmQ3Nzc1NjYyZDNhNTU2NTZkYzIzNzliIn0=",
                  "datetime": "2020-02-03T23:59:40.548999",
                  "_deepnote_index_column": 736028
                },
                {
                  "Unnamed: 0.1": 176,
                  "timestamp": 1580774381.552,
                  "vin": "123b9a7bbd7775662d3a55656dc2379b",
                  "sequence": 2065,
                  "navigation_location_coordinate_latitude": 39.911499,
                  "navigation_location_coordinate_longitude": -82.808428,
                  "key": "eyJ0aW1lc3RhbXAiOjE1ODA3NzQzODE1NTIsInZpbiI6IjEyM2I5YTdiYmQ3Nzc1NjYyZDNhNTU2NTZkYzIzNzliIn0=",
                  "datetime": "2020-02-03T23:59:41.552000",
                  "_deepnote_index_column": 736029
                },
                {
                  "Unnamed: 0.1": 286,
                  "timestamp": 1580774383.557,
                  "vin": "123b9a7bbd7775662d3a55656dc2379b",
                  "sequence": 2065,
                  "navigation_location_coordinate_latitude": 39.911518,
                  "navigation_location_coordinate_longitude": -82.808764,
                  "key": "eyJ0aW1lc3RhbXAiOjE1ODA3NzQzODM1NTcsInZpbiI6IjEyM2I5YTdiYmQ3Nzc1NjYyZDNhNTU2NTZkYzIzNzliIn0=",
                  "datetime": "2020-02-03T23:59:43.556999",
                  "_deepnote_index_column": 736030
                },
                {
                  "Unnamed: 0.1": 336,
                  "timestamp": 1580774384.56,
                  "vin": "123b9a7bbd7775662d3a55656dc2379b",
                  "sequence": 2065,
                  "navigation_location_coordinate_latitude": 39.911526,
                  "navigation_location_coordinate_longitude": -82.808932,
                  "key": "eyJ0aW1lc3RhbXAiOjE1ODA3NzQzODQ1NjAsInZpbiI6IjEyM2I5YTdiYmQ3Nzc1NjYyZDNhNTU2NTZkYzIzNzliIn0=",
                  "datetime": "2020-02-03T23:59:44.560000",
                  "_deepnote_index_column": 736031
                },
                {
                  "Unnamed: 0.1": 379,
                  "timestamp": 1580774385.564,
                  "vin": "123b9a7bbd7775662d3a55656dc2379b",
                  "sequence": 2065,
                  "navigation_location_coordinate_latitude": 39.911532,
                  "navigation_location_coordinate_longitude": -82.809063,
                  "key": "eyJ0aW1lc3RhbXAiOjE1ODA3NzQzODU1NjQsInZpbiI6IjEyM2I5YTdiYmQ3Nzc1NjYyZDNhNTU2NTZkYzIzNzliIn0=",
                  "datetime": "2020-02-03T23:59:45.564000",
                  "_deepnote_index_column": 736032
                },
                {
                  "Unnamed: 0.1": 423,
                  "timestamp": 1580774386.564,
                  "vin": "123b9a7bbd7775662d3a55656dc2379b",
                  "sequence": 2065,
                  "navigation_location_coordinate_latitude": 39.911541,
                  "navigation_location_coordinate_longitude": -82.809257,
                  "key": "eyJ0aW1lc3RhbXAiOjE1ODA3NzQzODY1NjQsInZpbiI6IjEyM2I5YTdiYmQ3Nzc1NjYyZDNhNTU2NTZkYzIzNzliIn0=",
                  "datetime": "2020-02-03T23:59:46.564000",
                  "_deepnote_index_column": 736033
                },
                {
                  "Unnamed: 0.1": 518,
                  "timestamp": 1580774388.569,
                  "vin": "123b9a7bbd7775662d3a55656dc2379b",
                  "sequence": 2065,
                  "navigation_location_coordinate_latitude": 39.911562,
                  "navigation_location_coordinate_longitude": -82.809595,
                  "key": "eyJ0aW1lc3RhbXAiOjE1ODA3NzQzODg1NjksInZpbiI6IjEyM2I5YTdiYmQ3Nzc1NjYyZDNhNTU2NTZkYzIzNzliIn0=",
                  "datetime": "2020-02-03T23:59:48.568999",
                  "_deepnote_index_column": 736034
                },
                {
                  "Unnamed: 0.1": 665,
                  "timestamp": 1580774391.575,
                  "vin": "123b9a7bbd7775662d3a55656dc2379b",
                  "sequence": 2065,
                  "navigation_location_coordinate_latitude": 39.911582,
                  "navigation_location_coordinate_longitude": -82.809981,
                  "key": "eyJ0aW1lc3RhbXAiOjE1ODA3NzQzOTE1NzUsInZpbiI6IjEyM2I5YTdiYmQ3Nzc1NjYyZDNhNTU2NTZkYzIzNzliIn0=",
                  "datetime": "2020-02-03T23:59:51.575000",
                  "_deepnote_index_column": 736035
                },
                {
                  "Unnamed: 0.1": 704,
                  "timestamp": 1580774392.576,
                  "vin": "123b9a7bbd7775662d3a55656dc2379b",
                  "sequence": 2065,
                  "navigation_location_coordinate_latitude": 39.911588,
                  "navigation_location_coordinate_longitude": -82.810107,
                  "key": "eyJ0aW1lc3RhbXAiOjE1ODA3NzQzOTI1NzYsInZpbiI6IjEyM2I5YTdiYmQ3Nzc1NjYyZDNhNTU2NTZkYzIzNzliIn0=",
                  "datetime": "2020-02-03T23:59:52.576000",
                  "_deepnote_index_column": 736036
                },
                {
                  "Unnamed: 0.1": 872,
                  "timestamp": 1580774395.585,
                  "vin": "123b9a7bbd7775662d3a55656dc2379b",
                  "sequence": 2065,
                  "navigation_location_coordinate_latitude": 39.911613,
                  "navigation_location_coordinate_longitude": -82.810595,
                  "key": "eyJ0aW1lc3RhbXAiOjE1ODA3NzQzOTU1ODUsInZpbiI6IjEyM2I5YTdiYmQ3Nzc1NjYyZDNhNTU2NTZkYzIzNzliIn0=",
                  "datetime": "2020-02-03T23:59:55.584999",
                  "_deepnote_index_column": 736037
                },
                {
                  "Unnamed: 0.1": 918,
                  "timestamp": 1580774396.586,
                  "vin": "123b9a7bbd7775662d3a55656dc2379b",
                  "sequence": 2065,
                  "navigation_location_coordinate_latitude": 39.911628,
                  "navigation_location_coordinate_longitude": -82.810793,
                  "key": "eyJ0aW1lc3RhbXAiOjE1ODA3NzQzOTY1ODYsInZpbiI6IjEyM2I5YTdiYmQ3Nzc1NjYyZDNhNTU2NTZkYzIzNzliIn0=",
                  "datetime": "2020-02-03T23:59:56.585999",
                  "_deepnote_index_column": 736038
                },
                {
                  "Unnamed: 0.1": 980,
                  "timestamp": 1580774397.589,
                  "vin": "123b9a7bbd7775662d3a55656dc2379b",
                  "sequence": 2065,
                  "navigation_location_coordinate_latitude": 39.911642,
                  "navigation_location_coordinate_longitude": -82.810996,
                  "key": "eyJ0aW1lc3RhbXAiOjE1ODA3NzQzOTc1ODksInZpbiI6IjEyM2I5YTdiYmQ3Nzc1NjYyZDNhNTU2NTZkYzIzNzliIn0=",
                  "datetime": "2020-02-03T23:59:57.588999",
                  "_deepnote_index_column": 736039
                },
                {
                  "Unnamed: 0.1": 107,
                  "timestamp": 1580774399.972,
                  "vin": "1356f34861fd4cf3d98dd81d3b2efeb2",
                  "sequence": 278,
                  "navigation_location_coordinate_latitude": 39.9703229,
                  "navigation_location_coordinate_longitude": -83.0224384,
                  "key": "eyJ0aW1lc3RhbXAiOjE1ODA3NzQzOTk5NzIsInZpbiI6IjEzNTZmMzQ4NjFmZDRjZjNkOThkZDgxZDNiMmVmZWIyIn0=",
                  "datetime": "2020-02-03T23:59:59.972000",
                  "_deepnote_index_column": 736040
                },
                {
                  "Unnamed: 0.1": 146,
                  "timestamp": 1580774398.913,
                  "vin": "31acdeda9fa6b46430ee89a9c773b11d",
                  "sequence": 646,
                  "navigation_location_coordinate_latitude": 40.1568799,
                  "navigation_location_coordinate_longitude": -83.0188129,
                  "key": "eyJ0aW1lc3RhbXAiOjE1ODA3NzQzOTg5MTMsInZpbiI6IjMxYWNkZWRhOWZhNmI0NjQzMGVlODlhOWM3NzNiMTFkIn0=",
                  "datetime": "2020-02-03T23:59:58.913000",
                  "_deepnote_index_column": 736041
                },
                {
                  "Unnamed: 0.1": 156,
                  "timestamp": 1580774398.924,
                  "vin": "5b829e08f4610f638675da0b6871866e",
                  "sequence": 442,
                  "navigation_location_coordinate_latitude": 40.0558583,
                  "navigation_location_coordinate_longitude": -82.9161745,
                  "key": "eyJ0aW1lc3RhbXAiOjE1ODA3NzQzOTg5MjQsInZpbiI6IjViODI5ZTA4ZjQ2MTBmNjM4Njc1ZGEwYjY4NzE4NjZlIn0=",
                  "datetime": "2020-02-03T23:59:58.924000",
                  "_deepnote_index_column": 736042
                },
                {
                  "Unnamed: 0.1": 159,
                  "timestamp": 1580774399.912,
                  "vin": "5b829e08f4610f638675da0b6871866e",
                  "sequence": 442,
                  "navigation_location_coordinate_latitude": 40.0558094,
                  "navigation_location_coordinate_longitude": -82.9163123,
                  "key": "eyJ0aW1lc3RhbXAiOjE1ODA3NzQzOTk5MTIsInZpbiI6IjViODI5ZTA4ZjQ2MTBmNjM4Njc1ZGEwYjY4NzE4NjZlIn0=",
                  "datetime": "2020-02-03T23:59:59.912000",
                  "_deepnote_index_column": 736043
                },
                {
                  "Unnamed: 0.1": 160,
                  "timestamp": 1580774398.39,
                  "vin": "5c58bdaf7bcebb50706ec0216ef901bc",
                  "sequence": 1113,
                  "navigation_location_coordinate_latitude": 39.991025,
                  "navigation_location_coordinate_longitude": -82.936689,
                  "key": "eyJ0aW1lc3RhbXAiOjE1ODA3NzQzOTgzOTAsInZpbiI6IjVjNThiZGFmN2JjZWJiNTA3MDZlYzAyMTZlZjkwMWJjIn0=",
                  "datetime": "2020-02-03T23:59:58.390000",
                  "_deepnote_index_column": 736044
                },
                {
                  "Unnamed: 0.1": 184,
                  "timestamp": 1580774398.964,
                  "vin": "647353ec630718a358cdfbf99a990888",
                  "sequence": 1407,
                  "navigation_location_coordinate_latitude": 40.0581579,
                  "navigation_location_coordinate_longitude": -82.8633569,
                  "key": "eyJ0aW1lc3RhbXAiOjE1ODA3NzQzOTg5NjQsInZpbiI6IjY0NzM1M2VjNjMwNzE4YTM1OGNkZmJmOTlhOTkwODg4In0=",
                  "datetime": "2020-02-03T23:59:58.964000",
                  "_deepnote_index_column": 736045
                },
                {
                  "Unnamed: 0.1": 192,
                  "timestamp": 1580774399.978,
                  "vin": "647353ec630718a358cdfbf99a990888",
                  "sequence": 1407,
                  "navigation_location_coordinate_latitude": 40.0581582,
                  "navigation_location_coordinate_longitude": -82.8633754,
                  "key": "eyJ0aW1lc3RhbXAiOjE1ODA3NzQzOTk5NzgsInZpbiI6IjY0NzM1M2VjNjMwNzE4YTM1OGNkZmJmOTlhOTkwODg4In0=",
                  "datetime": "2020-02-03T23:59:59.977999",
                  "_deepnote_index_column": 736046
                },
                {
                  "Unnamed: 0.1": 194,
                  "timestamp": 1580774398.934,
                  "vin": "697b9384cfde1330324dc92f5ff1bd44",
                  "sequence": 440,
                  "navigation_location_coordinate_latitude": 39.978606,
                  "navigation_location_coordinate_longitude": -82.975974,
                  "key": "eyJ0aW1lc3RhbXAiOjE1ODA3NzQzOTg5MzQsInZpbiI6IjY5N2I5Mzg0Y2ZkZTEzMzAzMjRkYzkyZjVmZjFiZDQ0In0=",
                  "datetime": "2020-02-03T23:59:58.934000",
                  "_deepnote_index_column": 736047
                },
                {
                  "Unnamed: 0.1": 200,
                  "timestamp": 1580774399.936,
                  "vin": "697b9384cfde1330324dc92f5ff1bd44",
                  "sequence": 440,
                  "navigation_location_coordinate_latitude": 39.978605,
                  "navigation_location_coordinate_longitude": -82.976335,
                  "key": "eyJ0aW1lc3RhbXAiOjE1ODA3NzQzOTk5MzYsInZpbiI6IjY5N2I5Mzg0Y2ZkZTEzMzAzMjRkYzkyZjVmZjFiZDQ0In0=",
                  "datetime": "2020-02-03T23:59:59.936000",
                  "_deepnote_index_column": 736048
                },
                {
                  "Unnamed: 0.1": 203,
                  "timestamp": 1580774398.993,
                  "vin": "6a8380efe35a2fd39a3ffe916e4a8d93",
                  "sequence": 180,
                  "navigation_location_coordinate_latitude": 40.1256195,
                  "navigation_location_coordinate_longitude": -82.9802408,
                  "key": "eyJ0aW1lc3RhbXAiOjE1ODA3NzQzOTg5OTMsInZpbiI6IjZhODM4MGVmZTM1YTJmZDM5YTNmZmU5MTZlNGE4ZDkzIn0=",
                  "datetime": "2020-02-03T23:59:58.992999",
                  "_deepnote_index_column": 736049
                },
                {
                  "Unnamed: 0.1": 206,
                  "timestamp": 1580774398.953,
                  "vin": "6ebfb90731342ccc92956d5c9623163e",
                  "sequence": 947,
                  "navigation_location_coordinate_latitude": 39.943225,
                  "navigation_location_coordinate_longitude": -82.8469228,
                  "key": "eyJ0aW1lc3RhbXAiOjE1ODA3NzQzOTg5NTMsInZpbiI6IjZlYmZiOTA3MzEzNDJjY2M5Mjk1NmQ1Yzk2MjMxNjNlIn0=",
                  "datetime": "2020-02-03T23:59:58.953000",
                  "_deepnote_index_column": 736050
                },
                {
                  "Unnamed: 0.1": 210,
                  "timestamp": 1580774399.971,
                  "vin": "75745529f421c99f0636efa2f5ba6a4e",
                  "sequence": 1466,
                  "navigation_location_coordinate_latitude": 39.9717604,
                  "navigation_location_coordinate_longitude": -82.9159141,
                  "key": "eyJ0aW1lc3RhbXAiOjE1ODA3NzQzOTk5NzEsInZpbiI6Ijc1NzQ1NTI5ZjQyMWM5OWYwNjM2ZWZhMmY1YmE2YTRlIn0=",
                  "datetime": "2020-02-03T23:59:59.971000",
                  "_deepnote_index_column": 736051
                },
                {
                  "Unnamed: 0.1": 211,
                  "timestamp": 1580774398.975,
                  "vin": "86752012e17bbc28fb9b8f938412626a",
                  "sequence": 817,
                  "navigation_location_coordinate_latitude": 39.850719,
                  "navigation_location_coordinate_longitude": -83.0814442,
                  "key": "eyJ0aW1lc3RhbXAiOjE1ODA3NzQzOTg5NzUsInZpbiI6Ijg2NzUyMDEyZTE3YmJjMjhmYjliOGY5Mzg0MTI2MjZhIn0=",
                  "datetime": "2020-02-03T23:59:58.974999",
                  "_deepnote_index_column": 736052
                },
                {
                  "Unnamed: 0.1": 212,
                  "timestamp": 1580774399.978,
                  "vin": "86752012e17bbc28fb9b8f938412626a",
                  "sequence": 817,
                  "navigation_location_coordinate_latitude": 39.8509289,
                  "navigation_location_coordinate_longitude": -83.0812064,
                  "key": "eyJ0aW1lc3RhbXAiOjE1ODA3NzQzOTk5NzgsInZpbiI6Ijg2NzUyMDEyZTE3YmJjMjhmYjliOGY5Mzg0MTI2MjZhIn0=",
                  "datetime": "2020-02-03T23:59:59.977999",
                  "_deepnote_index_column": 736053
                },
                {
                  "Unnamed: 0.1": 213,
                  "timestamp": 1580774399.995,
                  "vin": "92e64fbb0355adc2c4cd663d288b7932",
                  "sequence": 26,
                  "navigation_location_coordinate_latitude": 39.8757136,
                  "navigation_location_coordinate_longitude": -83.0380503,
                  "key": "eyJ0aW1lc3RhbXAiOjE1ODA3NzQzOTk5OTUsInZpbiI6IjkyZTY0ZmJiMDM1NWFkYzJjNGNkNjYzZDI4OGI3OTMyIn0=",
                  "datetime": "2020-02-03T23:59:59.994999",
                  "_deepnote_index_column": 736054
                },
                {
                  "Unnamed: 0.1": 214,
                  "timestamp": 1580774398.895,
                  "vin": "96e49f659f0ecb52c8874ff84d4e7145",
                  "sequence": 834,
                  "navigation_location_coordinate_latitude": 39.9831683,
                  "navigation_location_coordinate_longitude": -83.0013858,
                  "key": "eyJ0aW1lc3RhbXAiOjE1ODA3NzQzOTg4OTUsInZpbiI6Ijk2ZTQ5ZjY1OWYwZWNiNTJjODg3NGZmODRkNGU3MTQ1In0=",
                  "datetime": "2020-02-03T23:59:58.895000",
                  "_deepnote_index_column": 736055
                },
                {
                  "Unnamed: 0.1": 215,
                  "timestamp": 1580774399.894,
                  "vin": "96e49f659f0ecb52c8874ff84d4e7145",
                  "sequence": 834,
                  "navigation_location_coordinate_latitude": 39.9831683,
                  "navigation_location_coordinate_longitude": -83.0013858,
                  "key": "eyJ0aW1lc3RhbXAiOjE1ODA3NzQzOTk4OTQsInZpbiI6Ijk2ZTQ5ZjY1OWYwZWNiNTJjODg3NGZmODRkNGU3MTQ1In0=",
                  "datetime": "2020-02-03T23:59:59.894000",
                  "_deepnote_index_column": 736056
                },
                {
                  "Unnamed: 0.1": 233,
                  "timestamp": 1580774398.951,
                  "vin": "b34dd8de136a18de746890894797372a",
                  "sequence": 928,
                  "navigation_location_coordinate_latitude": 39.9431997,
                  "navigation_location_coordinate_longitude": -83.012294,
                  "key": "eyJ0aW1lc3RhbXAiOjE1ODA3NzQzOTg5NTEsInZpbiI6ImIzNGRkOGRlMTM2YTE4ZGU3NDY4OTA4OTQ3OTczNzJhIn0=",
                  "datetime": "2020-02-03T23:59:58.951000",
                  "_deepnote_index_column": 736057
                },
                {
                  "Unnamed: 0.1": 234,
                  "timestamp": 1580774399.897,
                  "vin": "b34dd8de136a18de746890894797372a",
                  "sequence": 928,
                  "navigation_location_coordinate_latitude": 39.943009,
                  "navigation_location_coordinate_longitude": -83.012161,
                  "key": "eyJ0aW1lc3RhbXAiOjE1ODA3NzQzOTk4OTcsInZpbiI6ImIzNGRkOGRlMTM2YTE4ZGU3NDY4OTA4OTQ3OTczNzJhIn0=",
                  "datetime": "2020-02-03T23:59:59.897000",
                  "_deepnote_index_column": 736058
                },
                {
                  "Unnamed: 0.1": 235,
                  "timestamp": 1580774398.987,
                  "vin": "cc63c9825a40f6dc03a7ccfc6cdc7e8d",
                  "sequence": 623,
                  "navigation_location_coordinate_latitude": 40.0891268,
                  "navigation_location_coordinate_longitude": -82.8389782,
                  "key": "eyJ0aW1lc3RhbXAiOjE1ODA3NzQzOTg5ODcsInZpbiI6ImNjNjNjOTgyNWE0MGY2ZGMwM2E3Y2NmYzZjZGM3ZThkIn0=",
                  "datetime": "2020-02-03T23:59:58.987000",
                  "_deepnote_index_column": 736059
                },
                {
                  "Unnamed: 0.1": 238,
                  "timestamp": 1580774399.993,
                  "vin": "cc63c9825a40f6dc03a7ccfc6cdc7e8d",
                  "sequence": 623,
                  "navigation_location_coordinate_latitude": 40.0892453,
                  "navigation_location_coordinate_longitude": -82.8386506,
                  "key": "eyJ0aW1lc3RhbXAiOjE1ODA3NzQzOTk5OTMsInZpbiI6ImNjNjNjOTgyNWE0MGY2ZGMwM2E3Y2NmYzZjZGM3ZThkIn0=",
                  "datetime": "2020-02-03T23:59:59.992999",
                  "_deepnote_index_column": 736060
                },
                {
                  "Unnamed: 0.1": 241,
                  "timestamp": 1580774398.878,
                  "vin": "d8538c269b6cb7eec9a1f3b2bd8fc2d7",
                  "sequence": 764,
                  "navigation_location_coordinate_latitude": 40.3040511,
                  "navigation_location_coordinate_longitude": -83.5249137,
                  "key": "eyJ0aW1lc3RhbXAiOjE1ODA3NzQzOTg4NzgsInZpbiI6ImQ4NTM4YzI2OWI2Y2I3ZWVjOWExZjNiMmJkOGZjMmQ3In0=",
                  "datetime": "2020-02-03T23:59:58.878000",
                  "_deepnote_index_column": 736061
                },
                {
                  "Unnamed: 0.1": 242,
                  "timestamp": 1580774399.879,
                  "vin": "d8538c269b6cb7eec9a1f3b2bd8fc2d7",
                  "sequence": 764,
                  "navigation_location_coordinate_latitude": 40.3040083,
                  "navigation_location_coordinate_longitude": -83.5248705,
                  "key": "eyJ0aW1lc3RhbXAiOjE1ODA3NzQzOTk4NzksInZpbiI6ImQ4NTM4YzI2OWI2Y2I3ZWVjOWExZjNiMmJkOGZjMmQ3In0=",
                  "datetime": "2020-02-03T23:59:59.879000",
                  "_deepnote_index_column": 736062
                },
                {
                  "Unnamed: 0.1": 263,
                  "timestamp": 1580774398.905,
                  "vin": "dc1133b0088aacfd4583783ff9ee06cb",
                  "sequence": 765,
                  "navigation_location_coordinate_latitude": 39.9670598,
                  "navigation_location_coordinate_longitude": -82.9245589,
                  "key": "eyJ0aW1lc3RhbXAiOjE1ODA3NzQzOTg5MDUsInZpbiI6ImRjMTEzM2IwMDg4YWFjZmQ0NTgzNzgzZmY5ZWUwNmNiIn0=",
                  "datetime": "2020-02-03T23:59:58.904999",
                  "_deepnote_index_column": 736063
                }
              ]
            },
            "text/plain": "        Unnamed: 0.1     timestamp                               vin  \\\n0              138.0  1.578942e+09  00089af9f7d3588a888379cf0ffc53cc   \n1             3548.0  1.578918e+09  005b420fd9275f080ad79e1c4330357e   \n2             3549.0  1.578918e+09  005b420fd9275f080ad79e1c4330357e   \n3             3550.0  1.578918e+09  005b420fd9275f080ad79e1c4330357e   \n4             3556.0  1.578918e+09  005b420fd9275f080ad79e1c4330357e   \n...              ...           ...                               ...   \n736059         235.0  1.580774e+09  cc63c9825a40f6dc03a7ccfc6cdc7e8d   \n736060         238.0  1.580774e+09  cc63c9825a40f6dc03a7ccfc6cdc7e8d   \n736061         241.0  1.580774e+09  d8538c269b6cb7eec9a1f3b2bd8fc2d7   \n736062         242.0  1.580774e+09  d8538c269b6cb7eec9a1f3b2bd8fc2d7   \n736063         263.0  1.580774e+09  dc1133b0088aacfd4583783ff9ee06cb   \n\n        sequence  navigation_location_coordinate_latitude  \\\n0            733                                41.492962   \n1           1142                                41.335046   \n2           1142                                41.337986   \n3           1142                                41.338722   \n4           1142                                41.292217   \n...          ...                                      ...   \n736059       623                                40.089127   \n736060       623                                40.089245   \n736061       764                                40.304051   \n736062       764                                40.304008   \n736063       765                                39.967060   \n\n        navigation_location_coordinate_longitude  \\\n0                                     -81.995163   \n1                                     -81.398117   \n2                                     -81.402637   \n3                                     -81.403610   \n4                                     -81.409466   \n...                                          ...   \n736059                                -82.838978   \n736060                                -82.838651   \n736061                                -83.524914   \n736062                                -83.524871   \n736063                                -82.924559   \n\n                                                      key  \\\n0       eyJ0aW1lc3RhbXAiOjE1Nzg5NDIzMzM3MTQsInZpbiI6Ij...   \n1       eyJ0aW1lc3RhbXAiOjE1Nzg5MTc1MzU5NjMsInZpbiI6Ij...   \n2       eyJ0aW1lc3RhbXAiOjE1Nzg5MTc2NTk5NzQsInZpbiI6Ij...   \n3       eyJ0aW1lc3RhbXAiOjE1Nzg5MTc2Njg5NTUsInZpbiI6Ij...   \n4       eyJ0aW1lc3RhbXAiOjE1Nzg5MTgyMDY5NjAsInZpbiI6Ij...   \n...                                                   ...   \n736059  eyJ0aW1lc3RhbXAiOjE1ODA3NzQzOTg5ODcsInZpbiI6Im...   \n736060  eyJ0aW1lc3RhbXAiOjE1ODA3NzQzOTk5OTMsInZpbiI6Im...   \n736061  eyJ0aW1lc3RhbXAiOjE1ODA3NzQzOTg4NzgsInZpbiI6Im...   \n736062  eyJ0aW1lc3RhbXAiOjE1ODA3NzQzOTk4NzksInZpbiI6Im...   \n736063  eyJ0aW1lc3RhbXAiOjE1ODA3NzQzOTg5MDUsInZpbiI6Im...   \n\n                            datetime  \n0      2020-01-13 19:05:33.713999872  \n1      2020-01-13 12:12:15.963000064  \n2      2020-01-13 12:14:19.973999872  \n3      2020-01-13 12:14:28.954999808  \n4      2020-01-13 12:23:26.960000000  \n...                              ...  \n736059 2020-02-03 23:59:58.987000064  \n736060 2020-02-03 23:59:59.992999936  \n736061 2020-02-03 23:59:58.878000128  \n736062 2020-02-03 23:59:59.879000064  \n736063 2020-02-03 23:59:58.904999936  \n\n[671439 rows x 8 columns]",
            "text/html": "<div>\n<style scoped>\n    .dataframe tbody tr th:only-of-type {\n        vertical-align: middle;\n    }\n\n    .dataframe tbody tr th {\n        vertical-align: top;\n    }\n\n    .dataframe thead th {\n        text-align: right;\n    }\n</style>\n<table border=\"1\" class=\"dataframe\">\n  <thead>\n    <tr style=\"text-align: right;\">\n      <th></th>\n      <th>Unnamed: 0.1</th>\n      <th>timestamp</th>\n      <th>vin</th>\n      <th>sequence</th>\n      <th>navigation_location_coordinate_latitude</th>\n      <th>navigation_location_coordinate_longitude</th>\n      <th>key</th>\n      <th>datetime</th>\n    </tr>\n  </thead>\n  <tbody>\n    <tr>\n      <th>0</th>\n      <td>138.0</td>\n      <td>1.578942e+09</td>\n      <td>00089af9f7d3588a888379cf0ffc53cc</td>\n      <td>733</td>\n      <td>41.492962</td>\n      <td>-81.995163</td>\n      <td>eyJ0aW1lc3RhbXAiOjE1Nzg5NDIzMzM3MTQsInZpbiI6Ij...</td>\n      <td>2020-01-13 19:05:33.713999872</td>\n    </tr>\n    <tr>\n      <th>1</th>\n      <td>3548.0</td>\n      <td>1.578918e+09</td>\n      <td>005b420fd9275f080ad79e1c4330357e</td>\n      <td>1142</td>\n      <td>41.335046</td>\n      <td>-81.398117</td>\n      <td>eyJ0aW1lc3RhbXAiOjE1Nzg5MTc1MzU5NjMsInZpbiI6Ij...</td>\n      <td>2020-01-13 12:12:15.963000064</td>\n    </tr>\n    <tr>\n      <th>2</th>\n      <td>3549.0</td>\n      <td>1.578918e+09</td>\n      <td>005b420fd9275f080ad79e1c4330357e</td>\n      <td>1142</td>\n      <td>41.337986</td>\n      <td>-81.402637</td>\n      <td>eyJ0aW1lc3RhbXAiOjE1Nzg5MTc2NTk5NzQsInZpbiI6Ij...</td>\n      <td>2020-01-13 12:14:19.973999872</td>\n    </tr>\n    <tr>\n      <th>3</th>\n      <td>3550.0</td>\n      <td>1.578918e+09</td>\n      <td>005b420fd9275f080ad79e1c4330357e</td>\n      <td>1142</td>\n      <td>41.338722</td>\n      <td>-81.403610</td>\n      <td>eyJ0aW1lc3RhbXAiOjE1Nzg5MTc2Njg5NTUsInZpbiI6Ij...</td>\n      <td>2020-01-13 12:14:28.954999808</td>\n    </tr>\n    <tr>\n      <th>4</th>\n      <td>3556.0</td>\n      <td>1.578918e+09</td>\n      <td>005b420fd9275f080ad79e1c4330357e</td>\n      <td>1142</td>\n      <td>41.292217</td>\n      <td>-81.409466</td>\n      <td>eyJ0aW1lc3RhbXAiOjE1Nzg5MTgyMDY5NjAsInZpbiI6Ij...</td>\n      <td>2020-01-13 12:23:26.960000000</td>\n    </tr>\n    <tr>\n      <th>...</th>\n      <td>...</td>\n      <td>...</td>\n      <td>...</td>\n      <td>...</td>\n      <td>...</td>\n      <td>...</td>\n      <td>...</td>\n      <td>...</td>\n    </tr>\n    <tr>\n      <th>736059</th>\n      <td>235.0</td>\n      <td>1.580774e+09</td>\n      <td>cc63c9825a40f6dc03a7ccfc6cdc7e8d</td>\n      <td>623</td>\n      <td>40.089127</td>\n      <td>-82.838978</td>\n      <td>eyJ0aW1lc3RhbXAiOjE1ODA3NzQzOTg5ODcsInZpbiI6Im...</td>\n      <td>2020-02-03 23:59:58.987000064</td>\n    </tr>\n    <tr>\n      <th>736060</th>\n      <td>238.0</td>\n      <td>1.580774e+09</td>\n      <td>cc63c9825a40f6dc03a7ccfc6cdc7e8d</td>\n      <td>623</td>\n      <td>40.089245</td>\n      <td>-82.838651</td>\n      <td>eyJ0aW1lc3RhbXAiOjE1ODA3NzQzOTk5OTMsInZpbiI6Im...</td>\n      <td>2020-02-03 23:59:59.992999936</td>\n    </tr>\n    <tr>\n      <th>736061</th>\n      <td>241.0</td>\n      <td>1.580774e+09</td>\n      <td>d8538c269b6cb7eec9a1f3b2bd8fc2d7</td>\n      <td>764</td>\n      <td>40.304051</td>\n      <td>-83.524914</td>\n      <td>eyJ0aW1lc3RhbXAiOjE1ODA3NzQzOTg4NzgsInZpbiI6Im...</td>\n      <td>2020-02-03 23:59:58.878000128</td>\n    </tr>\n    <tr>\n      <th>736062</th>\n      <td>242.0</td>\n      <td>1.580774e+09</td>\n      <td>d8538c269b6cb7eec9a1f3b2bd8fc2d7</td>\n      <td>764</td>\n      <td>40.304008</td>\n      <td>-83.524871</td>\n      <td>eyJ0aW1lc3RhbXAiOjE1ODA3NzQzOTk4NzksInZpbiI6Im...</td>\n      <td>2020-02-03 23:59:59.879000064</td>\n    </tr>\n    <tr>\n      <th>736063</th>\n      <td>263.0</td>\n      <td>1.580774e+09</td>\n      <td>dc1133b0088aacfd4583783ff9ee06cb</td>\n      <td>765</td>\n      <td>39.967060</td>\n      <td>-82.924559</td>\n      <td>eyJ0aW1lc3RhbXAiOjE1ODA3NzQzOTg5MDUsInZpbiI6Im...</td>\n      <td>2020-02-03 23:59:58.904999936</td>\n    </tr>\n  </tbody>\n</table>\n<p>671439 rows × 8 columns</p>\n</div>"
          },
          "metadata": {}
        }
      ]
    },
    {
      "cell_type": "markdown",
      "source": "<a style='text-decoration:none;line-height:16px;display:flex;color:#5B5B62;padding:10px;justify-content:end;' href='https://deepnote.com?utm_source=created-in-deepnote-cell&projectId=608d4940-9d52-4d53-8e1b-b72eb309e61f' target=\"_blank\">\n<img alt='Created in deepnote.com' style='display:inline;max-height:16px;margin:0px;margin-right:7.5px;' src='data:image/svg+xml;base64,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' > </img>\nCreated in <span style='font-weight:600;margin-left:4px;'>Deepnote</span></a>",
      "metadata": {
        "tags": [],
        "created_in_deepnote_cell": true,
        "deepnote_cell_type": "markdown"
      }
    }
  ],
  "nbformat": 4,
  "nbformat_minor": 2,
  "metadata": {
    "orig_nbformat": 2,
    "deepnote_notebook_id": "a3e62046-d78e-4858-8a3e-f963aaf0f505",
    "deepnote": {},
    "deepnote_execution_queue": []
  }
}