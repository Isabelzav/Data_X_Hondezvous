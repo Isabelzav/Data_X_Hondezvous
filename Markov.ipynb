{
 "cells": [
  {
   "cell_type": "code",
   "metadata": {
    "tags": [],
    "cell_id": "00000-d589d949-2741-4854-8160-a228fd173696",
    "deepnote_to_be_reexecuted": false,
    "source_hash": "2c718a8f",
    "execution_millis": 1,
    "execution_start": 1620331919886,
    "deepnote_cell_type": "code"
   },
   "source": "import numpy as np\nimport pandas as pd\nimport seaborn as sns\nimport geopandas as gpd\nfrom shapely.geometry import Point, Polygon\nfrom geopandas import GeoDataFrame\nimport matplotlib.pyplot as plt\nimport sklearn\nimport sklearn.utils\nfrom sklearn.pipeline import Pipeline\nfrom sklearn.preprocessing import StandardScaler\nfrom sklearn.cluster import DBSCAN\nimport matplotlib.pyplot as plt\nimport scipy.stats as stats\nfrom datetime import datetime\nimport datetime\nfrom datetime import timedelta\n## Load the required module\nfrom sklearn.model_selection import cross_val_score, KFold, cross_validate, RandomizedSearchCV\nfrom sklearn.model_selection import train_test_split\nfrom sklearn.neighbors import KNeighborsClassifier\nfrom sklearn import metrics",
   "execution_count": 54,
   "outputs": []
  },
  {
   "cell_type": "code",
   "source": "pip install datascience",
   "metadata": {
    "tags": [],
    "cell_id": "00001-4e3caf33-70e8-4686-9397-a0fbc27e08d2",
    "deepnote_to_be_reexecuted": false,
    "source_hash": "de0723aa",
    "execution_start": 1620331934055,
    "execution_millis": 4688,
    "deepnote_cell_type": "code"
   },
   "outputs": [
    {
     "name": "stdout",
     "text": "Requirement already satisfied: datascience in /shared-libs/python3.9/py/lib/python3.9/site-packages (0.17.0)\nRequirement already satisfied: scipy in /shared-libs/python3.9/py/lib/python3.9/site-packages (from datascience) (1.6.3)\nRequirement already satisfied: coveralls in /shared-libs/python3.9/py/lib/python3.9/site-packages (from datascience) (3.0.1)\nRequirement already satisfied: nbsphinx in /shared-libs/python3.9/py/lib/python3.9/site-packages (from datascience) (0.8.4)\nRequirement already satisfied: pytest in /shared-libs/python3.9/py/lib/python3.9/site-packages (from datascience) (6.2.4)\nRequirement already satisfied: matplotlib>=3.0.0 in /shared-libs/python3.9/py/lib/python3.9/site-packages (from datascience) (3.4.1)\nRequirement already satisfied: sphinx in /shared-libs/python3.9/py/lib/python3.9/site-packages (from datascience) (3.5.4)\nRequirement already satisfied: coverage in /shared-libs/python3.9/py/lib/python3.9/site-packages (from datascience) (5.5)\nRequirement already satisfied: folium>=0.9.1 in /shared-libs/python3.9/py/lib/python3.9/site-packages (from datascience) (0.12.1)\nRequirement already satisfied: bokeh in /shared-libs/python3.9/py/lib/python3.9/site-packages (from datascience) (2.3.1)\nRequirement already satisfied: plotly in /shared-libs/python3.9/py/lib/python3.9/site-packages (from datascience) (4.14.3)\nRequirement already satisfied: ipython in /shared-libs/python3.9/py-core/lib/python3.9/site-packages (from datascience) (7.23.0)\nRequirement already satisfied: branca in /shared-libs/python3.9/py/lib/python3.9/site-packages (from datascience) (0.4.2)\nRequirement already satisfied: setuptools in /root/venv/lib/python3.9/site-packages (from datascience) (56.0.0)\nRequirement already satisfied: pandas in /shared-libs/python3.9/py/lib/python3.9/site-packages (from datascience) (1.2.4)\nRequirement already satisfied: numpy in /shared-libs/python3.9/py/lib/python3.9/site-packages (from datascience) (1.20.2)\nRequirement already satisfied: jinja2>=2.9 in /shared-libs/python3.9/py-core/lib/python3.9/site-packages (from folium>=0.9.1->datascience) (2.11.3)\nRequirement already satisfied: requests in /shared-libs/python3.9/py/lib/python3.9/site-packages (from folium>=0.9.1->datascience) (2.25.1)\nRequirement already satisfied: MarkupSafe>=0.23 in /shared-libs/python3.9/py-core/lib/python3.9/site-packages (from jinja2>=2.9->folium>=0.9.1->datascience) (1.1.1)\nRequirement already satisfied: pyparsing>=2.2.1 in /shared-libs/python3.9/py-core/lib/python3.9/site-packages (from matplotlib>=3.0.0->datascience) (2.4.7)\nRequirement already satisfied: cycler>=0.10 in /shared-libs/python3.9/py/lib/python3.9/site-packages (from matplotlib>=3.0.0->datascience) (0.10.0)\nRequirement already satisfied: kiwisolver>=1.0.1 in /shared-libs/python3.9/py/lib/python3.9/site-packages (from matplotlib>=3.0.0->datascience) (1.3.1)\nRequirement already satisfied: python-dateutil>=2.7 in /shared-libs/python3.9/py-core/lib/python3.9/site-packages (from matplotlib>=3.0.0->datascience) (2.8.1)\nRequirement already satisfied: pillow>=6.2.0 in /shared-libs/python3.9/py/lib/python3.9/site-packages (from matplotlib>=3.0.0->datascience) (8.2.0)\nRequirement already satisfied: six in /shared-libs/python3.9/py-core/lib/python3.9/site-packages (from cycler>=0.10->matplotlib>=3.0.0->datascience) (1.16.0)\nRequirement already satisfied: PyYAML>=3.10 in /shared-libs/python3.9/py/lib/python3.9/site-packages (from bokeh->datascience) (5.4.1)\nRequirement already satisfied: typing-extensions>=3.7.4 in /shared-libs/python3.9/py/lib/python3.9/site-packages (from bokeh->datascience) (3.10.0.0)\nRequirement already satisfied: packaging>=16.8 in /shared-libs/python3.9/py-core/lib/python3.9/site-packages (from bokeh->datascience) (20.9)\nRequirement already satisfied: tornado>=5.1 in /shared-libs/python3.9/py-core/lib/python3.9/site-packages (from bokeh->datascience) (6.1)\nRequirement already satisfied: docopt>=0.6.1 in /shared-libs/python3.9/py/lib/python3.9/site-packages (from coveralls->datascience) (0.6.2)\nRequirement already satisfied: certifi>=2017.4.17 in /shared-libs/python3.9/py/lib/python3.9/site-packages (from requests->folium>=0.9.1->datascience) (2020.12.5)\nRequirement already satisfied: urllib3<1.27,>=1.21.1 in /shared-libs/python3.9/py/lib/python3.9/site-packages (from requests->folium>=0.9.1->datascience) (1.26.4)\nRequirement already satisfied: idna<3,>=2.5 in /shared-libs/python3.9/py/lib/python3.9/site-packages (from requests->folium>=0.9.1->datascience) (2.10)\nRequirement already satisfied: chardet<5,>=3.0.2 in /shared-libs/python3.9/py/lib/python3.9/site-packages (from requests->folium>=0.9.1->datascience) (3.0.4)\nRequirement already satisfied: pickleshare in /shared-libs/python3.9/py-core/lib/python3.9/site-packages (from ipython->datascience) (0.7.5)\nRequirement already satisfied: backcall in /shared-libs/python3.9/py-core/lib/python3.9/site-packages (from ipython->datascience) (0.2.0)\nRequirement already satisfied: traitlets>=4.2 in /shared-libs/python3.9/py-core/lib/python3.9/site-packages (from ipython->datascience) (5.0.5)\nRequirement already satisfied: pexpect>4.3 in /shared-libs/python3.9/py-core/lib/python3.9/site-packages (from ipython->datascience) (4.8.0)\nRequirement already satisfied: pygments in /shared-libs/python3.9/py-core/lib/python3.9/site-packages (from ipython->datascience) (2.9.0)\nRequirement already satisfied: matplotlib-inline in /shared-libs/python3.9/py-core/lib/python3.9/site-packages (from ipython->datascience) (0.1.2)\nRequirement already satisfied: decorator in /shared-libs/python3.9/py-core/lib/python3.9/site-packages (from ipython->datascience) (5.0.7)\nRequirement already satisfied: prompt-toolkit!=3.0.0,!=3.0.1,<3.1.0,>=2.0.0 in /shared-libs/python3.9/py-core/lib/python3.9/site-packages (from ipython->datascience) (3.0.18)\nRequirement already satisfied: jedi>=0.16 in /shared-libs/python3.9/py-core/lib/python3.9/site-packages (from ipython->datascience) (0.17.2)\nRequirement already satisfied: parso<0.8.0,>=0.7.0 in /shared-libs/python3.9/py-core/lib/python3.9/site-packages (from jedi>=0.16->ipython->datascience) (0.7.1)\nRequirement already satisfied: ptyprocess>=0.5 in /shared-libs/python3.9/py-core/lib/python3.9/site-packages (from pexpect>4.3->ipython->datascience) (0.7.0)\nRequirement already satisfied: wcwidth in /shared-libs/python3.9/py-core/lib/python3.9/site-packages (from prompt-toolkit!=3.0.0,!=3.0.1,<3.1.0,>=2.0.0->ipython->datascience) (0.2.5)\nRequirement already satisfied: ipython-genutils in /shared-libs/python3.9/py-core/lib/python3.9/site-packages (from traitlets>=4.2->ipython->datascience) (0.2.0)\nRequirement already satisfied: nbconvert!=5.4 in /shared-libs/python3.9/py-core/lib/python3.9/site-packages (from nbsphinx->datascience) (6.0.7)\nRequirement already satisfied: nbformat in /shared-libs/python3.9/py-core/lib/python3.9/site-packages (from nbsphinx->datascience) (5.1.3)\nRequirement already satisfied: docutils in /shared-libs/python3.9/py/lib/python3.9/site-packages (from nbsphinx->datascience) (0.16)\nRequirement already satisfied: mistune<2,>=0.8.1 in /shared-libs/python3.9/py-core/lib/python3.9/site-packages (from nbconvert!=5.4->nbsphinx->datascience) (0.8.4)\nRequirement already satisfied: bleach in /shared-libs/python3.9/py-core/lib/python3.9/site-packages (from nbconvert!=5.4->nbsphinx->datascience) (3.3.0)\nRequirement already satisfied: defusedxml in /shared-libs/python3.9/py-core/lib/python3.9/site-packages (from nbconvert!=5.4->nbsphinx->datascience) (0.7.1)\nRequirement already satisfied: jupyter-core in /shared-libs/python3.9/py-core/lib/python3.9/site-packages (from nbconvert!=5.4->nbsphinx->datascience) (4.7.1)\nRequirement already satisfied: jupyterlab-pygments in /shared-libs/python3.9/py-core/lib/python3.9/site-packages (from nbconvert!=5.4->nbsphinx->datascience) (0.1.2)\nRequirement already satisfied: pandocfilters>=1.4.1 in /shared-libs/python3.9/py-core/lib/python3.9/site-packages (from nbconvert!=5.4->nbsphinx->datascience) (1.4.3)\nRequirement already satisfied: nbclient<0.6.0,>=0.5.0 in /shared-libs/python3.9/py-core/lib/python3.9/site-packages (from nbconvert!=5.4->nbsphinx->datascience) (0.5.3)\nRequirement already satisfied: testpath in /shared-libs/python3.9/py-core/lib/python3.9/site-packages (from nbconvert!=5.4->nbsphinx->datascience) (0.4.4)\nRequirement already satisfied: entrypoints>=0.2.2 in /shared-libs/python3.9/py-core/lib/python3.9/site-packages (from nbconvert!=5.4->nbsphinx->datascience) (0.3)\nRequirement already satisfied: async-generator in /shared-libs/python3.9/py-core/lib/python3.9/site-packages (from nbclient<0.6.0,>=0.5.0->nbconvert!=5.4->nbsphinx->datascience) (1.10)\nRequirement already satisfied: nest-asyncio in /shared-libs/python3.9/py-core/lib/python3.9/site-packages (from nbclient<0.6.0,>=0.5.0->nbconvert!=5.4->nbsphinx->datascience) (1.5.1)\nRequirement already satisfied: jupyter-client>=6.1.5 in /shared-libs/python3.9/py-core/lib/python3.9/site-packages (from nbclient<0.6.0,>=0.5.0->nbconvert!=5.4->nbsphinx->datascience) (6.1.12)\nRequirement already satisfied: pyzmq>=13 in /shared-libs/python3.9/py-core/lib/python3.9/site-packages (from jupyter-client>=6.1.5->nbclient<0.6.0,>=0.5.0->nbconvert!=5.4->nbsphinx->datascience) (22.0.3)\nRequirement already satisfied: jsonschema!=2.5.0,>=2.4 in /shared-libs/python3.9/py-core/lib/python3.9/site-packages (from nbformat->nbsphinx->datascience) (3.2.0)\nRequirement already satisfied: pyrsistent>=0.14.0 in /shared-libs/python3.9/py-core/lib/python3.9/site-packages (from jsonschema!=2.5.0,>=2.4->nbformat->nbsphinx->datascience) (0.17.3)\nRequirement already satisfied: attrs>=17.4.0 in /shared-libs/python3.9/py-core/lib/python3.9/site-packages (from jsonschema!=2.5.0,>=2.4->nbformat->nbsphinx->datascience) (20.3.0)\nRequirement already satisfied: sphinxcontrib-applehelp in /shared-libs/python3.9/py/lib/python3.9/site-packages (from sphinx->datascience) (1.0.2)\nRequirement already satisfied: babel>=1.3 in /shared-libs/python3.9/py/lib/python3.9/site-packages (from sphinx->datascience) (2.9.1)\nRequirement already satisfied: snowballstemmer>=1.1 in /shared-libs/python3.9/py/lib/python3.9/site-packages (from sphinx->datascience) (2.1.0)\nRequirement already satisfied: sphinxcontrib-serializinghtml in /shared-libs/python3.9/py/lib/python3.9/site-packages (from sphinx->datascience) (1.1.4)\nRequirement already satisfied: sphinxcontrib-qthelp in /shared-libs/python3.9/py/lib/python3.9/site-packages (from sphinx->datascience) (1.0.3)\nRequirement already satisfied: imagesize in /shared-libs/python3.9/py/lib/python3.9/site-packages (from sphinx->datascience) (1.2.0)\nRequirement already satisfied: alabaster<0.8,>=0.7 in /shared-libs/python3.9/py/lib/python3.9/site-packages (from sphinx->datascience) (0.7.12)\nRequirement already satisfied: sphinxcontrib-htmlhelp in /shared-libs/python3.9/py/lib/python3.9/site-packages (from sphinx->datascience) (1.0.3)\nRequirement already satisfied: sphinxcontrib-jsmath in /shared-libs/python3.9/py/lib/python3.9/site-packages (from sphinx->datascience) (1.0.1)\nRequirement already satisfied: sphinxcontrib-devhelp in /shared-libs/python3.9/py/lib/python3.9/site-packages (from sphinx->datascience) (1.0.2)\nRequirement already satisfied: pytz>=2015.7 in /shared-libs/python3.9/py/lib/python3.9/site-packages (from babel>=1.3->sphinx->datascience) (2021.1)\nRequirement already satisfied: webencodings in /shared-libs/python3.9/py-core/lib/python3.9/site-packages (from bleach->nbconvert!=5.4->nbsphinx->datascience) (0.5.1)\nRequirement already satisfied: retrying>=1.3.3 in /shared-libs/python3.9/py/lib/python3.9/site-packages (from plotly->datascience) (1.3.3)\nRequirement already satisfied: pluggy<1.0.0a1,>=0.12 in /shared-libs/python3.9/py-core/lib/python3.9/site-packages (from pytest->datascience) (0.13.1)\nRequirement already satisfied: iniconfig in /shared-libs/python3.9/py/lib/python3.9/site-packages (from pytest->datascience) (1.1.1)\nRequirement already satisfied: toml in /shared-libs/python3.9/py/lib/python3.9/site-packages (from pytest->datascience) (0.10.2)\nRequirement already satisfied: py>=1.8.2 in /shared-libs/python3.9/py/lib/python3.9/site-packages (from pytest->datascience) (1.10.0)\n\u001b[33mWARNING: Running pip as root will break packages and permissions. You should install packages reliably by using venv: https://pip.pypa.io/warnings/venv\u001b[0m\nNote: you may need to restart the kernel to use updated packages.\n",
     "output_type": "stream"
    }
   ],
   "execution_count": 55
  },
  {
   "cell_type": "code",
   "source": "pip install prob140",
   "metadata": {
    "tags": [],
    "cell_id": "00002-c6145d5e-eaeb-4d95-a13b-4105b6e5c3e6",
    "deepnote_to_be_reexecuted": false,
    "source_hash": "e96c3136",
    "execution_start": 1620331938798,
    "execution_millis": 3880,
    "deepnote_cell_type": "code"
   },
   "outputs": [
    {
     "name": "stdout",
     "text": "Requirement already satisfied: prob140 in /usr/local/lib/python3.9/site-packages (0.4.1.5)\nRequirement already satisfied: datascience in /shared-libs/python3.9/py/lib/python3.9/site-packages (from prob140) (0.17.0)\nRequirement already satisfied: setuptools in /root/venv/lib/python3.9/site-packages (from prob140) (56.0.0)\nRequirement already satisfied: folium in /shared-libs/python3.9/py/lib/python3.9/site-packages (from prob140) (0.12.1)\nRequirement already satisfied: sphinx in /shared-libs/python3.9/py/lib/python3.9/site-packages (from prob140) (3.5.4)\nRequirement already satisfied: sympy in /shared-libs/python3.9/py/lib/python3.9/site-packages (from prob140) (1.8)\nRequirement already satisfied: branca in /shared-libs/python3.9/py/lib/python3.9/site-packages (from datascience->prob140) (0.4.2)\nRequirement already satisfied: matplotlib>=3.0.0 in /shared-libs/python3.9/py/lib/python3.9/site-packages (from datascience->prob140) (3.4.1)\nRequirement already satisfied: nbsphinx in /shared-libs/python3.9/py/lib/python3.9/site-packages (from datascience->prob140) (0.8.4)\nRequirement already satisfied: numpy in /shared-libs/python3.9/py/lib/python3.9/site-packages (from datascience->prob140) (1.20.2)\nRequirement already satisfied: coverage in /shared-libs/python3.9/py/lib/python3.9/site-packages (from datascience->prob140) (5.5)\nRequirement already satisfied: ipython in /shared-libs/python3.9/py-core/lib/python3.9/site-packages (from datascience->prob140) (7.23.0)\nRequirement already satisfied: coveralls in /shared-libs/python3.9/py/lib/python3.9/site-packages (from datascience->prob140) (3.0.1)\nRequirement already satisfied: pytest in /shared-libs/python3.9/py/lib/python3.9/site-packages (from datascience->prob140) (6.2.4)\nRequirement already satisfied: bokeh in /shared-libs/python3.9/py/lib/python3.9/site-packages (from datascience->prob140) (2.3.1)\nRequirement already satisfied: plotly in /shared-libs/python3.9/py/lib/python3.9/site-packages (from datascience->prob140) (4.14.3)\nRequirement already satisfied: pandas in /shared-libs/python3.9/py/lib/python3.9/site-packages (from datascience->prob140) (1.2.4)\nRequirement already satisfied: scipy in /shared-libs/python3.9/py/lib/python3.9/site-packages (from datascience->prob140) (1.6.3)\nRequirement already satisfied: jinja2>=2.9 in /shared-libs/python3.9/py-core/lib/python3.9/site-packages (from folium->prob140) (2.11.3)\nRequirement already satisfied: requests in /shared-libs/python3.9/py/lib/python3.9/site-packages (from folium->prob140) (2.25.1)\nRequirement already satisfied: MarkupSafe>=0.23 in /shared-libs/python3.9/py-core/lib/python3.9/site-packages (from jinja2>=2.9->folium->prob140) (1.1.1)\nRequirement already satisfied: cycler>=0.10 in /shared-libs/python3.9/py/lib/python3.9/site-packages (from matplotlib>=3.0.0->datascience->prob140) (0.10.0)\nRequirement already satisfied: pillow>=6.2.0 in /shared-libs/python3.9/py/lib/python3.9/site-packages (from matplotlib>=3.0.0->datascience->prob140) (8.2.0)\nRequirement already satisfied: python-dateutil>=2.7 in /shared-libs/python3.9/py-core/lib/python3.9/site-packages (from matplotlib>=3.0.0->datascience->prob140) (2.8.1)\nRequirement already satisfied: kiwisolver>=1.0.1 in /shared-libs/python3.9/py/lib/python3.9/site-packages (from matplotlib>=3.0.0->datascience->prob140) (1.3.1)\nRequirement already satisfied: pyparsing>=2.2.1 in /shared-libs/python3.9/py-core/lib/python3.9/site-packages (from matplotlib>=3.0.0->datascience->prob140) (2.4.7)\nRequirement already satisfied: six in /shared-libs/python3.9/py-core/lib/python3.9/site-packages (from cycler>=0.10->matplotlib>=3.0.0->datascience->prob140) (1.16.0)\nRequirement already satisfied: typing-extensions>=3.7.4 in /shared-libs/python3.9/py/lib/python3.9/site-packages (from bokeh->datascience->prob140) (3.10.0.0)\nRequirement already satisfied: packaging>=16.8 in /shared-libs/python3.9/py-core/lib/python3.9/site-packages (from bokeh->datascience->prob140) (20.9)\nRequirement already satisfied: tornado>=5.1 in /shared-libs/python3.9/py-core/lib/python3.9/site-packages (from bokeh->datascience->prob140) (6.1)\nRequirement already satisfied: PyYAML>=3.10 in /shared-libs/python3.9/py/lib/python3.9/site-packages (from bokeh->datascience->prob140) (5.4.1)\nRequirement already satisfied: docopt>=0.6.1 in /shared-libs/python3.9/py/lib/python3.9/site-packages (from coveralls->datascience->prob140) (0.6.2)\nRequirement already satisfied: chardet<5,>=3.0.2 in /shared-libs/python3.9/py/lib/python3.9/site-packages (from requests->folium->prob140) (3.0.4)\nRequirement already satisfied: certifi>=2017.4.17 in /shared-libs/python3.9/py/lib/python3.9/site-packages (from requests->folium->prob140) (2020.12.5)\nRequirement already satisfied: urllib3<1.27,>=1.21.1 in /shared-libs/python3.9/py/lib/python3.9/site-packages (from requests->folium->prob140) (1.26.4)\nRequirement already satisfied: idna<3,>=2.5 in /shared-libs/python3.9/py/lib/python3.9/site-packages (from requests->folium->prob140) (2.10)\nRequirement already satisfied: decorator in /shared-libs/python3.9/py-core/lib/python3.9/site-packages (from ipython->datascience->prob140) (5.0.7)\nRequirement already satisfied: prompt-toolkit!=3.0.0,!=3.0.1,<3.1.0,>=2.0.0 in /shared-libs/python3.9/py-core/lib/python3.9/site-packages (from ipython->datascience->prob140) (3.0.18)\nRequirement already satisfied: matplotlib-inline in /shared-libs/python3.9/py-core/lib/python3.9/site-packages (from ipython->datascience->prob140) (0.1.2)\nRequirement already satisfied: traitlets>=4.2 in /shared-libs/python3.9/py-core/lib/python3.9/site-packages (from ipython->datascience->prob140) (5.0.5)\nRequirement already satisfied: pexpect>4.3 in /shared-libs/python3.9/py-core/lib/python3.9/site-packages (from ipython->datascience->prob140) (4.8.0)\nRequirement already satisfied: backcall in /shared-libs/python3.9/py-core/lib/python3.9/site-packages (from ipython->datascience->prob140) (0.2.0)\nRequirement already satisfied: jedi>=0.16 in /shared-libs/python3.9/py-core/lib/python3.9/site-packages (from ipython->datascience->prob140) (0.17.2)\nRequirement already satisfied: pickleshare in /shared-libs/python3.9/py-core/lib/python3.9/site-packages (from ipython->datascience->prob140) (0.7.5)\nRequirement already satisfied: pygments in /shared-libs/python3.9/py-core/lib/python3.9/site-packages (from ipython->datascience->prob140) (2.9.0)\nRequirement already satisfied: parso<0.8.0,>=0.7.0 in /shared-libs/python3.9/py-core/lib/python3.9/site-packages (from jedi>=0.16->ipython->datascience->prob140) (0.7.1)\nRequirement already satisfied: ptyprocess>=0.5 in /shared-libs/python3.9/py-core/lib/python3.9/site-packages (from pexpect>4.3->ipython->datascience->prob140) (0.7.0)\nRequirement already satisfied: wcwidth in /shared-libs/python3.9/py-core/lib/python3.9/site-packages (from prompt-toolkit!=3.0.0,!=3.0.1,<3.1.0,>=2.0.0->ipython->datascience->prob140) (0.2.5)\nRequirement already satisfied: ipython-genutils in /shared-libs/python3.9/py-core/lib/python3.9/site-packages (from traitlets>=4.2->ipython->datascience->prob140) (0.2.0)\nRequirement already satisfied: nbconvert!=5.4 in /shared-libs/python3.9/py-core/lib/python3.9/site-packages (from nbsphinx->datascience->prob140) (6.0.7)\nRequirement already satisfied: docutils in /shared-libs/python3.9/py/lib/python3.9/site-packages (from nbsphinx->datascience->prob140) (0.16)\nRequirement already satisfied: nbformat in /shared-libs/python3.9/py-core/lib/python3.9/site-packages (from nbsphinx->datascience->prob140) (5.1.3)\nRequirement already satisfied: testpath in /shared-libs/python3.9/py-core/lib/python3.9/site-packages (from nbconvert!=5.4->nbsphinx->datascience->prob140) (0.4.4)\nRequirement already satisfied: bleach in /shared-libs/python3.9/py-core/lib/python3.9/site-packages (from nbconvert!=5.4->nbsphinx->datascience->prob140) (3.3.0)\nRequirement already satisfied: defusedxml in /shared-libs/python3.9/py-core/lib/python3.9/site-packages (from nbconvert!=5.4->nbsphinx->datascience->prob140) (0.7.1)\nRequirement already satisfied: jupyter-core in /shared-libs/python3.9/py-core/lib/python3.9/site-packages (from nbconvert!=5.4->nbsphinx->datascience->prob140) (4.7.1)\nRequirement already satisfied: jupyterlab-pygments in /shared-libs/python3.9/py-core/lib/python3.9/site-packages (from nbconvert!=5.4->nbsphinx->datascience->prob140) (0.1.2)\nRequirement already satisfied: entrypoints>=0.2.2 in /shared-libs/python3.9/py-core/lib/python3.9/site-packages (from nbconvert!=5.4->nbsphinx->datascience->prob140) (0.3)\nRequirement already satisfied: pandocfilters>=1.4.1 in /shared-libs/python3.9/py-core/lib/python3.9/site-packages (from nbconvert!=5.4->nbsphinx->datascience->prob140) (1.4.3)\nRequirement already satisfied: mistune<2,>=0.8.1 in /shared-libs/python3.9/py-core/lib/python3.9/site-packages (from nbconvert!=5.4->nbsphinx->datascience->prob140) (0.8.4)\nRequirement already satisfied: nbclient<0.6.0,>=0.5.0 in /shared-libs/python3.9/py-core/lib/python3.9/site-packages (from nbconvert!=5.4->nbsphinx->datascience->prob140) (0.5.3)\nRequirement already satisfied: async-generator in /shared-libs/python3.9/py-core/lib/python3.9/site-packages (from nbclient<0.6.0,>=0.5.0->nbconvert!=5.4->nbsphinx->datascience->prob140) (1.10)\nRequirement already satisfied: jupyter-client>=6.1.5 in /shared-libs/python3.9/py-core/lib/python3.9/site-packages (from nbclient<0.6.0,>=0.5.0->nbconvert!=5.4->nbsphinx->datascience->prob140) (6.1.12)\nRequirement already satisfied: nest-asyncio in /shared-libs/python3.9/py-core/lib/python3.9/site-packages (from nbclient<0.6.0,>=0.5.0->nbconvert!=5.4->nbsphinx->datascience->prob140) (1.5.1)\nRequirement already satisfied: pyzmq>=13 in /shared-libs/python3.9/py-core/lib/python3.9/site-packages (from jupyter-client>=6.1.5->nbclient<0.6.0,>=0.5.0->nbconvert!=5.4->nbsphinx->datascience->prob140) (22.0.3)\nRequirement already satisfied: jsonschema!=2.5.0,>=2.4 in /shared-libs/python3.9/py-core/lib/python3.9/site-packages (from nbformat->nbsphinx->datascience->prob140) (3.2.0)\nRequirement already satisfied: pyrsistent>=0.14.0 in /shared-libs/python3.9/py-core/lib/python3.9/site-packages (from jsonschema!=2.5.0,>=2.4->nbformat->nbsphinx->datascience->prob140) (0.17.3)\nRequirement already satisfied: attrs>=17.4.0 in /shared-libs/python3.9/py-core/lib/python3.9/site-packages (from jsonschema!=2.5.0,>=2.4->nbformat->nbsphinx->datascience->prob140) (20.3.0)\nRequirement already satisfied: sphinxcontrib-jsmath in /shared-libs/python3.9/py/lib/python3.9/site-packages (from sphinx->prob140) (1.0.1)\nRequirement already satisfied: sphinxcontrib-qthelp in /shared-libs/python3.9/py/lib/python3.9/site-packages (from sphinx->prob140) (1.0.3)\nRequirement already satisfied: sphinxcontrib-devhelp in /shared-libs/python3.9/py/lib/python3.9/site-packages (from sphinx->prob140) (1.0.2)\nRequirement already satisfied: sphinxcontrib-serializinghtml in /shared-libs/python3.9/py/lib/python3.9/site-packages (from sphinx->prob140) (1.1.4)\nRequirement already satisfied: sphinxcontrib-applehelp in /shared-libs/python3.9/py/lib/python3.9/site-packages (from sphinx->prob140) (1.0.2)\nRequirement already satisfied: snowballstemmer>=1.1 in /shared-libs/python3.9/py/lib/python3.9/site-packages (from sphinx->prob140) (2.1.0)\nRequirement already satisfied: imagesize in /shared-libs/python3.9/py/lib/python3.9/site-packages (from sphinx->prob140) (1.2.0)\nRequirement already satisfied: sphinxcontrib-htmlhelp in /shared-libs/python3.9/py/lib/python3.9/site-packages (from sphinx->prob140) (1.0.3)\nRequirement already satisfied: alabaster<0.8,>=0.7 in /shared-libs/python3.9/py/lib/python3.9/site-packages (from sphinx->prob140) (0.7.12)\nRequirement already satisfied: babel>=1.3 in /shared-libs/python3.9/py/lib/python3.9/site-packages (from sphinx->prob140) (2.9.1)\nRequirement already satisfied: pytz>=2015.7 in /shared-libs/python3.9/py/lib/python3.9/site-packages (from babel>=1.3->sphinx->prob140) (2021.1)\nRequirement already satisfied: webencodings in /shared-libs/python3.9/py-core/lib/python3.9/site-packages (from bleach->nbconvert!=5.4->nbsphinx->datascience->prob140) (0.5.1)\nRequirement already satisfied: retrying>=1.3.3 in /shared-libs/python3.9/py/lib/python3.9/site-packages (from plotly->datascience->prob140) (1.3.3)\nRequirement already satisfied: py>=1.8.2 in /shared-libs/python3.9/py/lib/python3.9/site-packages (from pytest->datascience->prob140) (1.10.0)\nRequirement already satisfied: toml in /shared-libs/python3.9/py/lib/python3.9/site-packages (from pytest->datascience->prob140) (0.10.2)\nRequirement already satisfied: pluggy<1.0.0a1,>=0.12 in /shared-libs/python3.9/py-core/lib/python3.9/site-packages (from pytest->datascience->prob140) (0.13.1)\nRequirement already satisfied: iniconfig in /shared-libs/python3.9/py/lib/python3.9/site-packages (from pytest->datascience->prob140) (1.1.1)\nRequirement already satisfied: mpmath>=0.19 in /shared-libs/python3.9/py/lib/python3.9/site-packages (from sympy->prob140) (1.2.1)\n\u001b[33mWARNING: Running pip as root will break packages and permissions. You should install packages reliably by using venv: https://pip.pypa.io/warnings/venv\u001b[0m\nNote: you may need to restart the kernel to use updated packages.\n",
     "output_type": "stream"
    }
   ],
   "execution_count": 56
  },
  {
   "cell_type": "code",
   "source": "!pip install ipywidgets",
   "metadata": {
    "tags": [],
    "cell_id": "00003-b7a56243-fb35-4520-a8ee-2fd0fdd7ef3a",
    "deepnote_to_be_reexecuted": false,
    "source_hash": "681e86b0",
    "execution_start": 1620331943778,
    "execution_millis": 3818,
    "deepnote_cell_type": "code"
   },
   "outputs": [
    {
     "name": "stdout",
     "text": "Requirement already satisfied: ipywidgets in /root/venv/lib/python3.9/site-packages (7.6.3)\nRequirement already satisfied: ipython>=4.0.0 in /shared-libs/python3.9/py-core/lib/python3.9/site-packages (from ipywidgets) (7.23.0)\nRequirement already satisfied: jupyterlab-widgets>=1.0.0 in /root/venv/lib/python3.9/site-packages (from ipywidgets) (1.0.0)\nRequirement already satisfied: nbformat>=4.2.0 in /shared-libs/python3.9/py-core/lib/python3.9/site-packages (from ipywidgets) (5.1.3)\nRequirement already satisfied: ipykernel>=4.5.1 in /shared-libs/python3.9/py-core/lib/python3.9/site-packages (from ipywidgets) (5.5.3)\nRequirement already satisfied: widgetsnbextension~=3.5.0 in /root/venv/lib/python3.9/site-packages (from ipywidgets) (3.5.1)\nRequirement already satisfied: traitlets>=4.3.1 in /shared-libs/python3.9/py-core/lib/python3.9/site-packages (from ipywidgets) (5.0.5)\nRequirement already satisfied: jupyter-client in /shared-libs/python3.9/py-core/lib/python3.9/site-packages (from ipykernel>=4.5.1->ipywidgets) (6.1.12)\nRequirement already satisfied: tornado>=4.2 in /shared-libs/python3.9/py-core/lib/python3.9/site-packages (from ipykernel>=4.5.1->ipywidgets) (6.1)\nRequirement already satisfied: pygments in /shared-libs/python3.9/py-core/lib/python3.9/site-packages (from ipython>=4.0.0->ipywidgets) (2.9.0)\nRequirement already satisfied: backcall in /shared-libs/python3.9/py-core/lib/python3.9/site-packages (from ipython>=4.0.0->ipywidgets) (0.2.0)\nRequirement already satisfied: setuptools>=18.5 in /root/venv/lib/python3.9/site-packages (from ipython>=4.0.0->ipywidgets) (56.0.0)\nRequirement already satisfied: decorator in /shared-libs/python3.9/py-core/lib/python3.9/site-packages (from ipython>=4.0.0->ipywidgets) (5.0.7)\nRequirement already satisfied: pickleshare in /shared-libs/python3.9/py-core/lib/python3.9/site-packages (from ipython>=4.0.0->ipywidgets) (0.7.5)\nRequirement already satisfied: matplotlib-inline in /shared-libs/python3.9/py-core/lib/python3.9/site-packages (from ipython>=4.0.0->ipywidgets) (0.1.2)\nRequirement already satisfied: prompt-toolkit!=3.0.0,!=3.0.1,<3.1.0,>=2.0.0 in /shared-libs/python3.9/py-core/lib/python3.9/site-packages (from ipython>=4.0.0->ipywidgets) (3.0.18)\nRequirement already satisfied: jedi>=0.16 in /shared-libs/python3.9/py-core/lib/python3.9/site-packages (from ipython>=4.0.0->ipywidgets) (0.17.2)\nRequirement already satisfied: pexpect>4.3 in /shared-libs/python3.9/py-core/lib/python3.9/site-packages (from ipython>=4.0.0->ipywidgets) (4.8.0)\nRequirement already satisfied: parso<0.8.0,>=0.7.0 in /shared-libs/python3.9/py-core/lib/python3.9/site-packages (from jedi>=0.16->ipython>=4.0.0->ipywidgets) (0.7.1)\nRequirement already satisfied: ipython-genutils in /shared-libs/python3.9/py-core/lib/python3.9/site-packages (from nbformat>=4.2.0->ipywidgets) (0.2.0)\nRequirement already satisfied: jsonschema!=2.5.0,>=2.4 in /shared-libs/python3.9/py-core/lib/python3.9/site-packages (from nbformat>=4.2.0->ipywidgets) (3.2.0)\nRequirement already satisfied: jupyter-core in /shared-libs/python3.9/py-core/lib/python3.9/site-packages (from nbformat>=4.2.0->ipywidgets) (4.7.1)\nRequirement already satisfied: six>=1.11.0 in /shared-libs/python3.9/py-core/lib/python3.9/site-packages (from jsonschema!=2.5.0,>=2.4->nbformat>=4.2.0->ipywidgets) (1.16.0)\nRequirement already satisfied: attrs>=17.4.0 in /shared-libs/python3.9/py-core/lib/python3.9/site-packages (from jsonschema!=2.5.0,>=2.4->nbformat>=4.2.0->ipywidgets) (20.3.0)\nRequirement already satisfied: pyrsistent>=0.14.0 in /shared-libs/python3.9/py-core/lib/python3.9/site-packages (from jsonschema!=2.5.0,>=2.4->nbformat>=4.2.0->ipywidgets) (0.17.3)\nRequirement already satisfied: ptyprocess>=0.5 in /shared-libs/python3.9/py-core/lib/python3.9/site-packages (from pexpect>4.3->ipython>=4.0.0->ipywidgets) (0.7.0)\nRequirement already satisfied: wcwidth in /shared-libs/python3.9/py-core/lib/python3.9/site-packages (from prompt-toolkit!=3.0.0,!=3.0.1,<3.1.0,>=2.0.0->ipython>=4.0.0->ipywidgets) (0.2.5)\nRequirement already satisfied: notebook>=4.4.1 in /shared-libs/python3.9/py-core/lib/python3.9/site-packages (from widgetsnbextension~=3.5.0->ipywidgets) (7.0.0.dev0)\nRequirement already satisfied: terminado>=0.8.3 in /shared-libs/python3.9/py-core/lib/python3.9/site-packages (from notebook>=4.4.1->widgetsnbextension~=3.5.0->ipywidgets) (0.9.4)\nRequirement already satisfied: jinja2 in /shared-libs/python3.9/py-core/lib/python3.9/site-packages (from notebook>=4.4.1->widgetsnbextension~=3.5.0->ipywidgets) (2.11.3)\nRequirement already satisfied: prometheus-client in /shared-libs/python3.9/py-core/lib/python3.9/site-packages (from notebook>=4.4.1->widgetsnbextension~=3.5.0->ipywidgets) (0.10.1)\nRequirement already satisfied: Send2Trash>=1.5.0 in /shared-libs/python3.9/py-core/lib/python3.9/site-packages (from notebook>=4.4.1->widgetsnbextension~=3.5.0->ipywidgets) (1.5.0)\nRequirement already satisfied: nbconvert in /shared-libs/python3.9/py-core/lib/python3.9/site-packages (from notebook>=4.4.1->widgetsnbextension~=3.5.0->ipywidgets) (6.0.7)\nRequirement already satisfied: pyzmq>=17 in /shared-libs/python3.9/py-core/lib/python3.9/site-packages (from notebook>=4.4.1->widgetsnbextension~=3.5.0->ipywidgets) (22.0.3)\nRequirement already satisfied: argon2-cffi in /shared-libs/python3.9/py-core/lib/python3.9/site-packages (from notebook>=4.4.1->widgetsnbextension~=3.5.0->ipywidgets) (20.1.0)\nRequirement already satisfied: python-dateutil>=2.1 in /shared-libs/python3.9/py-core/lib/python3.9/site-packages (from jupyter-client->ipykernel>=4.5.1->ipywidgets) (2.8.1)\nRequirement already satisfied: cffi>=1.0.0 in /shared-libs/python3.9/py-core/lib/python3.9/site-packages (from argon2-cffi->notebook>=4.4.1->widgetsnbextension~=3.5.0->ipywidgets) (1.14.5)\nRequirement already satisfied: pycparser in /shared-libs/python3.9/py-core/lib/python3.9/site-packages (from cffi>=1.0.0->argon2-cffi->notebook>=4.4.1->widgetsnbextension~=3.5.0->ipywidgets) (2.20)\nRequirement already satisfied: MarkupSafe>=0.23 in /shared-libs/python3.9/py-core/lib/python3.9/site-packages (from jinja2->notebook>=4.4.1->widgetsnbextension~=3.5.0->ipywidgets) (1.1.1)\nRequirement already satisfied: bleach in /shared-libs/python3.9/py-core/lib/python3.9/site-packages (from nbconvert->notebook>=4.4.1->widgetsnbextension~=3.5.0->ipywidgets) (3.3.0)\nRequirement already satisfied: nbclient<0.6.0,>=0.5.0 in /shared-libs/python3.9/py-core/lib/python3.9/site-packages (from nbconvert->notebook>=4.4.1->widgetsnbextension~=3.5.0->ipywidgets) (0.5.3)\nRequirement already satisfied: jupyterlab-pygments in /shared-libs/python3.9/py-core/lib/python3.9/site-packages (from nbconvert->notebook>=4.4.1->widgetsnbextension~=3.5.0->ipywidgets) (0.1.2)\nRequirement already satisfied: testpath in /shared-libs/python3.9/py-core/lib/python3.9/site-packages (from nbconvert->notebook>=4.4.1->widgetsnbextension~=3.5.0->ipywidgets) (0.4.4)\nRequirement already satisfied: defusedxml in /shared-libs/python3.9/py-core/lib/python3.9/site-packages (from nbconvert->notebook>=4.4.1->widgetsnbextension~=3.5.0->ipywidgets) (0.7.1)\nRequirement already satisfied: pandocfilters>=1.4.1 in /shared-libs/python3.9/py-core/lib/python3.9/site-packages (from nbconvert->notebook>=4.4.1->widgetsnbextension~=3.5.0->ipywidgets) (1.4.3)\nRequirement already satisfied: entrypoints>=0.2.2 in /shared-libs/python3.9/py-core/lib/python3.9/site-packages (from nbconvert->notebook>=4.4.1->widgetsnbextension~=3.5.0->ipywidgets) (0.3)\nRequirement already satisfied: mistune<2,>=0.8.1 in /shared-libs/python3.9/py-core/lib/python3.9/site-packages (from nbconvert->notebook>=4.4.1->widgetsnbextension~=3.5.0->ipywidgets) (0.8.4)\nRequirement already satisfied: async-generator in /shared-libs/python3.9/py-core/lib/python3.9/site-packages (from nbclient<0.6.0,>=0.5.0->nbconvert->notebook>=4.4.1->widgetsnbextension~=3.5.0->ipywidgets) (1.10)\nRequirement already satisfied: nest-asyncio in /shared-libs/python3.9/py-core/lib/python3.9/site-packages (from nbclient<0.6.0,>=0.5.0->nbconvert->notebook>=4.4.1->widgetsnbextension~=3.5.0->ipywidgets) (1.5.1)\nRequirement already satisfied: packaging in /shared-libs/python3.9/py-core/lib/python3.9/site-packages (from bleach->nbconvert->notebook>=4.4.1->widgetsnbextension~=3.5.0->ipywidgets) (20.9)\nRequirement already satisfied: webencodings in /shared-libs/python3.9/py-core/lib/python3.9/site-packages (from bleach->nbconvert->notebook>=4.4.1->widgetsnbextension~=3.5.0->ipywidgets) (0.5.1)\nRequirement already satisfied: pyparsing>=2.0.2 in /shared-libs/python3.9/py-core/lib/python3.9/site-packages (from packaging->bleach->nbconvert->notebook>=4.4.1->widgetsnbextension~=3.5.0->ipywidgets) (2.4.7)\n",
     "output_type": "stream"
    }
   ],
   "execution_count": 57
  },
  {
   "cell_type": "code",
   "metadata": {
    "tags": [],
    "cell_id": "00003-b171b02d-e24e-4468-b3f1-469155c528b5",
    "deepnote_to_be_reexecuted": false,
    "source_hash": "3fb495e8",
    "execution_millis": 42,
    "execution_start": 1620331947604,
    "deepnote_cell_type": "code"
   },
   "source": "import warnings\nwarnings.filterwarnings(\"ignore\")",
   "execution_count": 58,
   "outputs": []
  },
  {
   "cell_type": "code",
   "metadata": {
    "tags": [],
    "cell_id": "00002-a9bc81c5-6c8c-435c-b386-3aaaab685182",
    "deepnote_to_be_reexecuted": false,
    "source_hash": "cea81922",
    "execution_millis": 0,
    "execution_start": 1620331947647,
    "deepnote_cell_type": "code"
   },
   "source": "from datascience import *\nfrom prob140 import *\n%matplotlib inline\nplt.style.use('fivethirtyeight')",
   "execution_count": 59,
   "outputs": []
  },
  {
   "cell_type": "code",
   "metadata": {
    "tags": [],
    "cell_id": "00004-dcf22e0d-5594-4cf8-91d3-0dfdedd1ce1f",
    "deepnote_to_be_reexecuted": false,
    "source_hash": "d3c8b7c1",
    "execution_millis": 195,
    "execution_start": 1620331948959,
    "deepnote_cell_type": "code"
   },
   "source": "\"\"\"\n\nDropping nan values and the columns with timestamps and dwell time duration.\n\n    Returns:\n    _ _ _ _ _ _ _ _ _ _ _ _ _ \n    Dataframe with the sequence number, starting latitude and longitude, and ending latitude \n    and longitude for each vin.\n\n\"\"\"\n\ndf = pd.read_csv(\"/work/Data/newdataset.csv\", index_col= [0,1])\ndf = df.dropna().drop(columns=['first', 'last', 'dwell time duration (seconds)'])\ndf",
   "execution_count": 60,
   "outputs": [
    {
     "output_type": "execute_result",
     "execution_count": 60,
     "data": {
      "application/vnd.deepnote.dataframe.v2+json": {
       "row_count": 47141,
       "column_count": 5,
       "columns": [
        {
         "name": "sequence",
         "dtype": "int64",
         "stats": {
          "unique_count": 2438,
          "nan_count": 0,
          "min": "1",
          "max": "4127",
          "histogram": [
           {
            "bin_start": 1,
            "bin_end": 413.6,
            "count": 14722
           },
           {
            "bin_start": 413.6,
            "bin_end": 826.2,
            "count": 20031
           },
           {
            "bin_start": 826.2,
            "bin_end": 1238.8000000000002,
            "count": 8435
           },
           {
            "bin_start": 1238.8000000000002,
            "bin_end": 1651.4,
            "count": 2245
           },
           {
            "bin_start": 1651.4,
            "bin_end": 2064,
            "count": 1095
           },
           {
            "bin_start": 2064,
            "bin_end": 2476.6000000000004,
            "count": 449
           },
           {
            "bin_start": 2476.6000000000004,
            "bin_end": 2889.2000000000003,
            "count": 44
           },
           {
            "bin_start": 2889.2000000000003,
            "bin_end": 3301.8,
            "count": 5
           },
           {
            "bin_start": 3301.8,
            "bin_end": 3714.4,
            "count": 24
           },
           {
            "bin_start": 3714.4,
            "bin_end": 4127,
            "count": 91
           }
          ]
         }
        },
        {
         "name": "start_lat",
         "dtype": "float64",
         "stats": {
          "unique_count": 1644,
          "nan_count": 0,
          "min": "38.586",
          "max": "41.976",
          "histogram": [
           {
            "bin_start": 38.586,
            "bin_end": 38.925,
            "count": 43
           },
           {
            "bin_start": 38.925,
            "bin_end": 39.263999999999996,
            "count": 222
           },
           {
            "bin_start": 39.263999999999996,
            "bin_end": 39.603,
            "count": 470
           },
           {
            "bin_start": 39.603,
            "bin_end": 39.942,
            "count": 5575
           },
           {
            "bin_start": 39.942,
            "bin_end": 40.281,
            "count": 38631
           },
           {
            "bin_start": 40.281,
            "bin_end": 40.62,
            "count": 1085
           },
           {
            "bin_start": 40.62,
            "bin_end": 40.958999999999996,
            "count": 264
           },
           {
            "bin_start": 40.958999999999996,
            "bin_end": 41.298,
            "count": 378
           },
           {
            "bin_start": 41.298,
            "bin_end": 41.637,
            "count": 411
           },
           {
            "bin_start": 41.637,
            "bin_end": 41.976,
            "count": 62
           }
          ]
         }
        },
        {
         "name": "start_long",
         "dtype": "float64"
        },
        {
         "name": "latitude",
         "dtype": "float64"
        },
        {
         "name": "longitude",
         "dtype": "float64"
        },
        {
         "name": "_deepnote_index_column",
         "dtype": "object"
        }
       ],
       "rows_top": [
        {
         "sequence": 1143,
         "start_lat": 41.267,
         "start_long": -81.378,
         "latitude": 41.41,
         "longitude": -81.5,
         "_deepnote_index_column": "(2, '005b420fd9275f080ad79e1c4330357e')"
        },
        {
         "sequence": 1145,
         "start_lat": 41.394,
         "start_long": -81.413,
         "latitude": 41.414,
         "longitude": -81.504,
         "_deepnote_index_column": "(3, '005b420fd9275f080ad79e1c4330357e')"
        },
        {
         "sequence": 1146,
         "start_lat": 41.409,
         "start_long": -81.497,
         "latitude": 41.379,
         "longitude": -81.427,
         "_deepnote_index_column": "(4, '005b420fd9275f080ad79e1c4330357e')"
        },
        {
         "sequence": 555,
         "start_lat": 40.1,
         "start_long": -83.166,
         "latitude": 40.149,
         "longitude": -82.904,
         "_deepnote_index_column": "(6, '008beb5671fb49a92dc0ef9de96979bf')"
        },
        {
         "sequence": 556,
         "start_lat": 40.149,
         "start_long": -82.904,
         "latitude": 40.1,
         "longitude": -83.166,
         "_deepnote_index_column": "(7, '008beb5671fb49a92dc0ef9de96979bf')"
        },
        {
         "sequence": 558,
         "start_lat": 40.1,
         "start_long": -83.166,
         "latitude": 40.149,
         "longitude": -82.904,
         "_deepnote_index_column": "(8, '008beb5671fb49a92dc0ef9de96979bf')"
        },
        {
         "sequence": 559,
         "start_lat": 40.149,
         "start_long": -82.904,
         "latitude": 40.1,
         "longitude": -83.167,
         "_deepnote_index_column": "(9, '008beb5671fb49a92dc0ef9de96979bf')"
        },
        {
         "sequence": 561,
         "start_lat": 40.1,
         "start_long": -83.167,
         "latitude": 40.149,
         "longitude": -82.904,
         "_deepnote_index_column": "(10, '008beb5671fb49a92dc0ef9de96979bf')"
        },
        {
         "sequence": 562,
         "start_lat": 40.149,
         "start_long": -82.904,
         "latitude": 40.058,
         "longitude": -82.915,
         "_deepnote_index_column": "(11, '008beb5671fb49a92dc0ef9de96979bf')"
        },
        {
         "sequence": 564,
         "start_lat": 40.059,
         "start_long": -82.915,
         "latitude": 39.923,
         "longitude": -82.836,
         "_deepnote_index_column": "(12, '008beb5671fb49a92dc0ef9de96979bf')"
        },
        {
         "sequence": 565,
         "start_lat": 39.922,
         "start_long": -82.836,
         "latitude": 40.149,
         "longitude": -82.904,
         "_deepnote_index_column": "(13, '008beb5671fb49a92dc0ef9de96979bf')"
        },
        {
         "sequence": 567,
         "start_lat": 40.149,
         "start_long": -82.904,
         "latitude": 40.128,
         "longitude": -82.932,
         "_deepnote_index_column": "(14, '008beb5671fb49a92dc0ef9de96979bf')"
        },
        {
         "sequence": 568,
         "start_lat": 40.128,
         "start_long": -82.932,
         "latitude": 40.149,
         "longitude": -82.904,
         "_deepnote_index_column": "(15, '008beb5671fb49a92dc0ef9de96979bf')"
        },
        {
         "sequence": 570,
         "start_lat": 40.149,
         "start_long": -82.904,
         "latitude": 40.149,
         "longitude": -82.904,
         "_deepnote_index_column": "(16, '008beb5671fb49a92dc0ef9de96979bf')"
        },
        {
         "sequence": 571,
         "start_lat": 40.149,
         "start_long": -82.904,
         "latitude": 40.149,
         "longitude": -82.904,
         "_deepnote_index_column": "(17, '008beb5671fb49a92dc0ef9de96979bf')"
        },
        {
         "sequence": 573,
         "start_lat": 40.149,
         "start_long": -82.904,
         "latitude": 40.149,
         "longitude": -82.904,
         "_deepnote_index_column": "(18, '008beb5671fb49a92dc0ef9de96979bf')"
        },
        {
         "sequence": 574,
         "start_lat": 40.149,
         "start_long": -82.904,
         "latitude": 40.14,
         "longitude": -82.982,
         "_deepnote_index_column": "(19, '008beb5671fb49a92dc0ef9de96979bf')"
        },
        {
         "sequence": 576,
         "start_lat": 40.14,
         "start_long": -82.982,
         "latitude": 40.149,
         "longitude": -82.904,
         "_deepnote_index_column": "(20, '008beb5671fb49a92dc0ef9de96979bf')"
        },
        {
         "sequence": 577,
         "start_lat": 40.149,
         "start_long": -82.904,
         "latitude": 40.149,
         "longitude": -82.904,
         "_deepnote_index_column": "(21, '008beb5671fb49a92dc0ef9de96979bf')"
        },
        {
         "sequence": 585,
         "start_lat": 40.149,
         "start_long": -82.904,
         "latitude": 40.1,
         "longitude": -83.167,
         "_deepnote_index_column": "(22, '008beb5671fb49a92dc0ef9de96979bf')"
        },
        {
         "sequence": 586,
         "start_lat": 40.1,
         "start_long": -83.166,
         "latitude": 40.149,
         "longitude": -82.904,
         "_deepnote_index_column": "(23, '008beb5671fb49a92dc0ef9de96979bf')"
        },
        {
         "sequence": 588,
         "start_lat": 40.149,
         "start_long": -82.904,
         "latitude": 40.1,
         "longitude": -83.167,
         "_deepnote_index_column": "(24, '008beb5671fb49a92dc0ef9de96979bf')"
        },
        {
         "sequence": 589,
         "start_lat": 40.1,
         "start_long": -83.167,
         "latitude": 40.146,
         "longitude": -82.916,
         "_deepnote_index_column": "(25, '008beb5671fb49a92dc0ef9de96979bf')"
        },
        {
         "sequence": 591,
         "start_lat": 40.149,
         "start_long": -82.904,
         "latitude": 40.148,
         "longitude": -82.977,
         "_deepnote_index_column": "(26, '008beb5671fb49a92dc0ef9de96979bf')"
        },
        {
         "sequence": 592,
         "start_lat": 40.148,
         "start_long": -82.977,
         "latitude": 40.149,
         "longitude": -82.904,
         "_deepnote_index_column": "(27, '008beb5671fb49a92dc0ef9de96979bf')"
        },
        {
         "sequence": 594,
         "start_lat": 40.148,
         "start_long": -82.905,
         "latitude": 40.149,
         "longitude": -82.979,
         "_deepnote_index_column": "(28, '008beb5671fb49a92dc0ef9de96979bf')"
        },
        {
         "sequence": 595,
         "start_lat": 40.149,
         "start_long": -82.979,
         "latitude": 40.15,
         "longitude": -82.977,
         "_deepnote_index_column": "(29, '008beb5671fb49a92dc0ef9de96979bf')"
        },
        {
         "sequence": 597,
         "start_lat": 40.15,
         "start_long": -82.976,
         "latitude": 40.149,
         "longitude": -82.904,
         "_deepnote_index_column": "(30, '008beb5671fb49a92dc0ef9de96979bf')"
        },
        {
         "sequence": 602,
         "start_lat": 40.149,
         "start_long": -82.904,
         "latitude": 40.101,
         "longitude": -83.166,
         "_deepnote_index_column": "(31, '008beb5671fb49a92dc0ef9de96979bf')"
        },
        {
         "sequence": 603,
         "start_lat": 40.1,
         "start_long": -83.166,
         "latitude": 40.149,
         "longitude": -82.921,
         "_deepnote_index_column": "(32, '008beb5671fb49a92dc0ef9de96979bf')"
        },
        {
         "sequence": 604,
         "start_lat": 40.148,
         "start_long": -82.921,
         "latitude": 40.149,
         "longitude": -82.904,
         "_deepnote_index_column": "(33, '008beb5671fb49a92dc0ef9de96979bf')"
        },
        {
         "sequence": 606,
         "start_lat": 40.149,
         "start_long": -82.904,
         "latitude": 40.127,
         "longitude": -82.932,
         "_deepnote_index_column": "(34, '008beb5671fb49a92dc0ef9de96979bf')"
        },
        {
         "sequence": 607,
         "start_lat": 40.127,
         "start_long": -82.932,
         "latitude": 40.149,
         "longitude": -82.904,
         "_deepnote_index_column": "(35, '008beb5671fb49a92dc0ef9de96979bf')"
        },
        {
         "sequence": 609,
         "start_lat": 40.149,
         "start_long": -82.904,
         "latitude": 41.374,
         "longitude": -83.65,
         "_deepnote_index_column": "(36, '008beb5671fb49a92dc0ef9de96979bf')"
        },
        {
         "sequence": 610,
         "start_lat": 41.374,
         "start_long": -83.65,
         "latitude": 41.379,
         "longitude": -83.629,
         "_deepnote_index_column": "(37, '008beb5671fb49a92dc0ef9de96979bf')"
        },
        {
         "sequence": 612,
         "start_lat": 41.379,
         "start_long": -83.629,
         "latitude": 41.374,
         "longitude": -83.623,
         "_deepnote_index_column": "(38, '008beb5671fb49a92dc0ef9de96979bf')"
        },
        {
         "sequence": 613,
         "start_lat": 41.374,
         "start_long": -83.624,
         "latitude": 41.379,
         "longitude": -83.629,
         "_deepnote_index_column": "(39, '008beb5671fb49a92dc0ef9de96979bf')"
        },
        {
         "sequence": 615,
         "start_lat": 41.379,
         "start_long": -83.629,
         "latitude": 41.379,
         "longitude": -83.629,
         "_deepnote_index_column": "(40, '008beb5671fb49a92dc0ef9de96979bf')"
        },
        {
         "sequence": 616,
         "start_lat": 41.378,
         "start_long": -83.628,
         "latitude": 40.149,
         "longitude": -82.904,
         "_deepnote_index_column": "(41, '008beb5671fb49a92dc0ef9de96979bf')"
        },
        {
         "sequence": 618,
         "start_lat": 40.149,
         "start_long": -82.904,
         "latitude": 40.051,
         "longitude": -82.913,
         "_deepnote_index_column": "(42, '008beb5671fb49a92dc0ef9de96979bf')"
        },
        {
         "sequence": 619,
         "start_lat": 40.052,
         "start_long": -82.914,
         "latitude": 40.055,
         "longitude": -82.909,
         "_deepnote_index_column": "(43, '008beb5671fb49a92dc0ef9de96979bf')"
        },
        {
         "sequence": 621,
         "start_lat": 40.056,
         "start_long": -82.909,
         "latitude": 40.057,
         "longitude": -82.909,
         "_deepnote_index_column": "(44, '008beb5671fb49a92dc0ef9de96979bf')"
        },
        {
         "sequence": 622,
         "start_lat": 40.057,
         "start_long": -82.909,
         "latitude": 40.149,
         "longitude": -82.904,
         "_deepnote_index_column": "(45, '008beb5671fb49a92dc0ef9de96979bf')"
        },
        {
         "sequence": 624,
         "start_lat": 40.149,
         "start_long": -82.904,
         "latitude": 40.1,
         "longitude": -83.163,
         "_deepnote_index_column": "(46, '008beb5671fb49a92dc0ef9de96979bf')"
        },
        {
         "sequence": 628,
         "start_lat": 40.101,
         "start_long": -83.166,
         "latitude": 40.149,
         "longitude": -82.904,
         "_deepnote_index_column": "(47, '008beb5671fb49a92dc0ef9de96979bf')"
        },
        {
         "sequence": 630,
         "start_lat": 40.148,
         "start_long": -82.904,
         "latitude": 40.148,
         "longitude": -82.977,
         "_deepnote_index_column": "(48, '008beb5671fb49a92dc0ef9de96979bf')"
        },
        {
         "sequence": 631,
         "start_lat": 40.148,
         "start_long": -82.978,
         "latitude": 40.149,
         "longitude": -82.976,
         "_deepnote_index_column": "(49, '008beb5671fb49a92dc0ef9de96979bf')"
        },
        {
         "sequence": 633,
         "start_lat": 40.15,
         "start_long": -82.976,
         "latitude": 40.149,
         "longitude": -82.904,
         "_deepnote_index_column": "(50, '008beb5671fb49a92dc0ef9de96979bf')"
        },
        {
         "sequence": 634,
         "start_lat": 40.149,
         "start_long": -82.904,
         "latitude": 39.971,
         "longitude": -83.004,
         "_deepnote_index_column": "(51, '008beb5671fb49a92dc0ef9de96979bf')"
        },
        {
         "sequence": 636,
         "start_lat": 39.971,
         "start_long": -83.004,
         "latitude": 40.149,
         "longitude": -82.904,
         "_deepnote_index_column": "(52, '008beb5671fb49a92dc0ef9de96979bf')"
        },
        {
         "sequence": 637,
         "start_lat": 40.149,
         "start_long": -82.904,
         "latitude": 40.1,
         "longitude": -83.167,
         "_deepnote_index_column": "(53, '008beb5671fb49a92dc0ef9de96979bf')"
        },
        {
         "sequence": 639,
         "start_lat": 40.1,
         "start_long": -83.166,
         "latitude": 40.149,
         "longitude": -82.904,
         "_deepnote_index_column": "(54, '008beb5671fb49a92dc0ef9de96979bf')"
        },
        {
         "sequence": 640,
         "start_lat": 40.148,
         "start_long": -82.904,
         "latitude": 40.148,
         "longitude": -82.977,
         "_deepnote_index_column": "(55, '008beb5671fb49a92dc0ef9de96979bf')"
        },
        {
         "sequence": 642,
         "start_lat": 40.148,
         "start_long": -82.977,
         "latitude": 40.149,
         "longitude": -82.904,
         "_deepnote_index_column": "(56, '008beb5671fb49a92dc0ef9de96979bf')"
        },
        {
         "sequence": 643,
         "start_lat": 40.149,
         "start_long": -82.904,
         "latitude": 40.149,
         "longitude": -82.921,
         "_deepnote_index_column": "(57, '008beb5671fb49a92dc0ef9de96979bf')"
        },
        {
         "sequence": 658,
         "start_lat": 40.149,
         "start_long": -82.904,
         "latitude": 40.148,
         "longitude": -82.977,
         "_deepnote_index_column": "(58, '008beb5671fb49a92dc0ef9de96979bf')"
        },
        {
         "sequence": 660,
         "start_lat": 40.148,
         "start_long": -82.975,
         "latitude": 40.1,
         "longitude": -83.166,
         "_deepnote_index_column": "(59, '008beb5671fb49a92dc0ef9de96979bf')"
        },
        {
         "sequence": 661,
         "start_lat": 40.101,
         "start_long": -83.166,
         "latitude": 40.149,
         "longitude": -82.904,
         "_deepnote_index_column": "(60, '008beb5671fb49a92dc0ef9de96979bf')"
        },
        {
         "sequence": 663,
         "start_lat": 40.149,
         "start_long": -82.904,
         "latitude": 40.1,
         "longitude": -83.166,
         "_deepnote_index_column": "(61, '008beb5671fb49a92dc0ef9de96979bf')"
        },
        {
         "sequence": 664,
         "start_lat": 40.101,
         "start_long": -83.166,
         "latitude": 40.146,
         "longitude": -82.916,
         "_deepnote_index_column": "(62, '008beb5671fb49a92dc0ef9de96979bf')"
        },
        {
         "sequence": 666,
         "start_lat": 40.148,
         "start_long": -82.904,
         "latitude": 40.1,
         "longitude": -83.166,
         "_deepnote_index_column": "(63, '008beb5671fb49a92dc0ef9de96979bf')"
        },
        {
         "sequence": 667,
         "start_lat": 40.101,
         "start_long": -83.165,
         "latitude": 40.149,
         "longitude": -82.904,
         "_deepnote_index_column": "(64, '008beb5671fb49a92dc0ef9de96979bf')"
        },
        {
         "sequence": 669,
         "start_lat": 40.149,
         "start_long": -82.904,
         "latitude": 40.1,
         "longitude": -83.166,
         "_deepnote_index_column": "(65, '008beb5671fb49a92dc0ef9de96979bf')"
        },
        {
         "sequence": 670,
         "start_lat": 40.1,
         "start_long": -83.166,
         "latitude": 40.149,
         "longitude": -82.904,
         "_deepnote_index_column": "(66, '008beb5671fb49a92dc0ef9de96979bf')"
        },
        {
         "sequence": 672,
         "start_lat": 40.148,
         "start_long": -82.904,
         "latitude": 40.149,
         "longitude": -82.976,
         "_deepnote_index_column": "(67, '008beb5671fb49a92dc0ef9de96979bf')"
        },
        {
         "sequence": 673,
         "start_lat": 40.149,
         "start_long": -82.978,
         "latitude": 40.148,
         "longitude": -82.977,
         "_deepnote_index_column": "(68, '008beb5671fb49a92dc0ef9de96979bf')"
        },
        {
         "sequence": 675,
         "start_lat": 40.148,
         "start_long": -82.977,
         "latitude": 40.149,
         "longitude": -82.904,
         "_deepnote_index_column": "(69, '008beb5671fb49a92dc0ef9de96979bf')"
        },
        {
         "sequence": 676,
         "start_lat": 40.149,
         "start_long": -82.904,
         "latitude": 41.976,
         "longitude": -83.34,
         "_deepnote_index_column": "(70, '008beb5671fb49a92dc0ef9de96979bf')"
        },
        {
         "sequence": 692,
         "start_lat": 41.975,
         "start_long": -83.678,
         "latitude": 40.581,
         "longitude": -83.079,
         "_deepnote_index_column": "(71, '008beb5671fb49a92dc0ef9de96979bf')"
        },
        {
         "sequence": 694,
         "start_lat": 40.581,
         "start_long": -83.08,
         "latitude": 40.149,
         "longitude": -82.904,
         "_deepnote_index_column": "(72, '008beb5671fb49a92dc0ef9de96979bf')"
        },
        {
         "sequence": 695,
         "start_lat": 40.148,
         "start_long": -82.904,
         "latitude": 40.149,
         "longitude": -82.921,
         "_deepnote_index_column": "(73, '008beb5671fb49a92dc0ef9de96979bf')"
        },
        {
         "sequence": 697,
         "start_lat": 40.148,
         "start_long": -82.921,
         "latitude": 40.149,
         "longitude": -82.904,
         "_deepnote_index_column": "(74, '008beb5671fb49a92dc0ef9de96979bf')"
        },
        {
         "sequence": 698,
         "start_lat": 40.149,
         "start_long": -82.904,
         "latitude": 40.101,
         "longitude": -83.166,
         "_deepnote_index_column": "(75, '008beb5671fb49a92dc0ef9de96979bf')"
        },
        {
         "sequence": 475,
         "start_lat": 40.087,
         "start_long": -82.833,
         "latitude": 40.087,
         "longitude": -82.833,
         "_deepnote_index_column": "(77, '00c85a67f339889c5cb0f5407156c01e')"
        },
        {
         "sequence": 477,
         "start_lat": 40.087,
         "start_long": -82.833,
         "latitude": 40.996,
         "longitude": -81.997,
         "_deepnote_index_column": "(78, '00c85a67f339889c5cb0f5407156c01e')"
        },
        {
         "sequence": 478,
         "start_lat": 40.996,
         "start_long": -81.997,
         "latitude": 40.881,
         "longitude": -81.571,
         "_deepnote_index_column": "(79, '00c85a67f339889c5cb0f5407156c01e')"
        },
        {
         "sequence": 483,
         "start_lat": 40.881,
         "start_long": -81.542,
         "latitude": 40.879,
         "longitude": -81.442,
         "_deepnote_index_column": "(80, '00c85a67f339889c5cb0f5407156c01e')"
        },
        {
         "sequence": 486,
         "start_lat": 41.003,
         "start_long": -81.494,
         "latitude": 41.869,
         "longitude": -80.68,
         "_deepnote_index_column": "(81, '00c85a67f339889c5cb0f5407156c01e')"
        },
        {
         "sequence": 487,
         "start_lat": 41.878,
         "start_long": -80.666,
         "latitude": 41.878,
         "longitude": -80.666,
         "_deepnote_index_column": "(82, '00c85a67f339889c5cb0f5407156c01e')"
        },
        {
         "sequence": 496,
         "start_lat": 41.937,
         "start_long": -80.519,
         "latitude": 41.878,
         "longitude": -80.666,
         "_deepnote_index_column": "(83, '00c85a67f339889c5cb0f5407156c01e')"
        },
        {
         "sequence": 498,
         "start_lat": 41.878,
         "start_long": -80.666,
         "latitude": 41.21,
         "longitude": -81.667,
         "_deepnote_index_column": "(84, '00c85a67f339889c5cb0f5407156c01e')"
        },
        {
         "sequence": 499,
         "start_lat": 41.21,
         "start_long": -81.667,
         "latitude": 40.089,
         "longitude": -82.824,
         "_deepnote_index_column": "(85, '00c85a67f339889c5cb0f5407156c01e')"
        },
        {
         "sequence": 501,
         "start_lat": 40.089,
         "start_long": -82.824,
         "latitude": 40.087,
         "longitude": -82.833,
         "_deepnote_index_column": "(86, '00c85a67f339889c5cb0f5407156c01e')"
        },
        {
         "sequence": 502,
         "start_lat": 40.087,
         "start_long": -82.833,
         "latitude": 40.087,
         "longitude": -82.833,
         "_deepnote_index_column": "(87, '00c85a67f339889c5cb0f5407156c01e')"
        },
        {
         "sequence": 520,
         "start_lat": 39.713,
         "start_long": -82.194,
         "latitude": 40.071,
         "longitude": -82.862,
         "_deepnote_index_column": "(88, '00c85a67f339889c5cb0f5407156c01e')"
        },
        {
         "sequence": 521,
         "start_lat": 40.071,
         "start_long": -82.862,
         "latitude": 40.147,
         "longitude": -82.937,
         "_deepnote_index_column": "(89, '00c85a67f339889c5cb0f5407156c01e')"
        },
        {
         "sequence": 523,
         "start_lat": 40.147,
         "start_long": -82.937,
         "latitude": 40.148,
         "longitude": -82.936,
         "_deepnote_index_column": "(90, '00c85a67f339889c5cb0f5407156c01e')"
        },
        {
         "sequence": 524,
         "start_lat": 40.148,
         "start_long": -82.936,
         "latitude": 40.087,
         "longitude": -82.833,
         "_deepnote_index_column": "(91, '00c85a67f339889c5cb0f5407156c01e')"
        },
        {
         "sequence": 527,
         "start_lat": 40.087,
         "start_long": -82.833,
         "latitude": 39.93,
         "longitude": -82.835,
         "_deepnote_index_column": "(92, '00c85a67f339889c5cb0f5407156c01e')"
        },
        {
         "sequence": 529,
         "start_lat": 39.931,
         "start_long": -82.834,
         "latitude": 39.931,
         "longitude": -82.834,
         "_deepnote_index_column": "(93, '00c85a67f339889c5cb0f5407156c01e')"
        },
        {
         "sequence": 530,
         "start_lat": 39.931,
         "start_long": -82.834,
         "latitude": 39.931,
         "longitude": -82.834,
         "_deepnote_index_column": "(94, '00c85a67f339889c5cb0f5407156c01e')"
        },
        {
         "sequence": 532,
         "start_lat": 39.931,
         "start_long": -82.834,
         "latitude": 39.931,
         "longitude": -82.834,
         "_deepnote_index_column": "(95, '00c85a67f339889c5cb0f5407156c01e')"
        },
        {
         "sequence": 533,
         "start_lat": 39.931,
         "start_long": -82.834,
         "latitude": 39.93,
         "longitude": -82.834,
         "_deepnote_index_column": "(96, '00c85a67f339889c5cb0f5407156c01e')"
        },
        {
         "sequence": 535,
         "start_lat": 39.93,
         "start_long": -82.835,
         "latitude": 40.089,
         "longitude": -82.825,
         "_deepnote_index_column": "(97, '00c85a67f339889c5cb0f5407156c01e')"
        },
        {
         "sequence": 536,
         "start_lat": 40.089,
         "start_long": -82.825,
         "latitude": 40.087,
         "longitude": -82.833,
         "_deepnote_index_column": "(98, '00c85a67f339889c5cb0f5407156c01e')"
        },
        {
         "sequence": 584,
         "start_lat": 40.087,
         "start_long": -82.833,
         "latitude": 40.132,
         "longitude": -83.017,
         "_deepnote_index_column": "(99, '00c85a67f339889c5cb0f5407156c01e')"
        },
        {
         "sequence": 585,
         "start_lat": 40.132,
         "start_long": -83.017,
         "latitude": 40.098,
         "longitude": -82.817,
         "_deepnote_index_column": "(100, '00c85a67f339889c5cb0f5407156c01e')"
        },
        {
         "sequence": 587,
         "start_lat": 40.098,
         "start_long": -82.817,
         "latitude": 40.087,
         "longitude": -82.833,
         "_deepnote_index_column": "(101, '00c85a67f339889c5cb0f5407156c01e')"
        },
        {
         "sequence": 588,
         "start_lat": 40.087,
         "start_long": -82.833,
         "latitude": 39.713,
         "longitude": -82.194,
         "_deepnote_index_column": "(102, '00c85a67f339889c5cb0f5407156c01e')"
        },
        {
         "sequence": 590,
         "start_lat": 39.713,
         "start_long": -82.194,
         "latitude": 39.713,
         "longitude": -82.194,
         "_deepnote_index_column": "(103, '00c85a67f339889c5cb0f5407156c01e')"
        }
       ],
       "rows_bottom": [
        {
         "sequence": 28,
         "start_lat": 40.046,
         "start_long": -82.864,
         "latitude": 40.084,
         "longitude": -82.84,
         "_deepnote_index_column": "(48115, 'ffabe3f9905f857b5f4c64150c4945f0')"
        },
        {
         "sequence": 29,
         "start_lat": 40.084,
         "start_long": -82.84,
         "latitude": 40.054,
         "longitude": -82.842,
         "_deepnote_index_column": "(48116, 'ffabe3f9905f857b5f4c64150c4945f0')"
        },
        {
         "sequence": 30,
         "start_lat": 40.053,
         "start_long": -82.843,
         "latitude": 40.084,
         "longitude": -82.84,
         "_deepnote_index_column": "(48117, 'ffabe3f9905f857b5f4c64150c4945f0')"
        },
        {
         "sequence": 31,
         "start_lat": 40.083,
         "start_long": -82.839,
         "latitude": 40.081,
         "longitude": -82.816,
         "_deepnote_index_column": "(48118, 'ffabe3f9905f857b5f4c64150c4945f0')"
        },
        {
         "sequence": 32,
         "start_lat": 40.081,
         "start_long": -82.816,
         "latitude": 40.084,
         "longitude": -82.84,
         "_deepnote_index_column": "(48119, 'ffabe3f9905f857b5f4c64150c4945f0')"
        },
        {
         "sequence": 33,
         "start_lat": 40.084,
         "start_long": -82.84,
         "latitude": 40.113,
         "longitude": -83.004,
         "_deepnote_index_column": "(48120, 'ffabe3f9905f857b5f4c64150c4945f0')"
        },
        {
         "sequence": 34,
         "start_lat": 40.114,
         "start_long": -83.004,
         "latitude": 40.084,
         "longitude": -82.84,
         "_deepnote_index_column": "(48121, 'ffabe3f9905f857b5f4c64150c4945f0')"
        },
        {
         "sequence": 35,
         "start_lat": 40.084,
         "start_long": -82.84,
         "latitude": 40.112,
         "longitude": -83.005,
         "_deepnote_index_column": "(48122, 'ffabe3f9905f857b5f4c64150c4945f0')"
        },
        {
         "sequence": 36,
         "start_lat": 40.113,
         "start_long": -83.005,
         "latitude": 40.116,
         "longitude": -83.006,
         "_deepnote_index_column": "(48123, 'ffabe3f9905f857b5f4c64150c4945f0')"
        },
        {
         "sequence": 37,
         "start_lat": 40.114,
         "start_long": -83.006,
         "latitude": 40.084,
         "longitude": -82.84,
         "_deepnote_index_column": "(48124, 'ffabe3f9905f857b5f4c64150c4945f0')"
        },
        {
         "sequence": 38,
         "start_lat": 40.084,
         "start_long": -82.84,
         "latitude": 40.112,
         "longitude": -83.005,
         "_deepnote_index_column": "(48125, 'ffabe3f9905f857b5f4c64150c4945f0')"
        },
        {
         "sequence": 39,
         "start_lat": 40.113,
         "start_long": -83.005,
         "latitude": 40.084,
         "longitude": -82.84,
         "_deepnote_index_column": "(48126, 'ffabe3f9905f857b5f4c64150c4945f0')"
        },
        {
         "sequence": 40,
         "start_lat": 40.083,
         "start_long": -82.84,
         "latitude": 40.114,
         "longitude": -83.004,
         "_deepnote_index_column": "(48127, 'ffabe3f9905f857b5f4c64150c4945f0')"
        },
        {
         "sequence": 41,
         "start_lat": 40.113,
         "start_long": -83.004,
         "latitude": 40.084,
         "longitude": -82.84,
         "_deepnote_index_column": "(48128, 'ffabe3f9905f857b5f4c64150c4945f0')"
        },
        {
         "sequence": 42,
         "start_lat": 40.084,
         "start_long": -82.839,
         "latitude": 40.093,
         "longitude": -82.849,
         "_deepnote_index_column": "(48129, 'ffabe3f9905f857b5f4c64150c4945f0')"
        },
        {
         "sequence": 43,
         "start_lat": 40.092,
         "start_long": -82.849,
         "latitude": 40.113,
         "longitude": -83.005,
         "_deepnote_index_column": "(48130, 'ffabe3f9905f857b5f4c64150c4945f0')"
        },
        {
         "sequence": 44,
         "start_lat": 40.114,
         "start_long": -83.004,
         "latitude": 40.106,
         "longitude": -83.018,
         "_deepnote_index_column": "(48131, 'ffabe3f9905f857b5f4c64150c4945f0')"
        },
        {
         "sequence": 45,
         "start_lat": 40.106,
         "start_long": -83.018,
         "latitude": 40.084,
         "longitude": -82.84,
         "_deepnote_index_column": "(48132, 'ffabe3f9905f857b5f4c64150c4945f0')"
        },
        {
         "sequence": 46,
         "start_lat": 40.084,
         "start_long": -82.84,
         "latitude": 40.05,
         "longitude": -82.922,
         "_deepnote_index_column": "(48133, 'ffabe3f9905f857b5f4c64150c4945f0')"
        },
        {
         "sequence": 47,
         "start_lat": 40.05,
         "start_long": -82.922,
         "latitude": 40.046,
         "longitude": -82.86,
         "_deepnote_index_column": "(48134, 'ffabe3f9905f857b5f4c64150c4945f0')"
        },
        {
         "sequence": 48,
         "start_lat": 40.046,
         "start_long": -82.862,
         "latitude": 40.084,
         "longitude": -82.84,
         "_deepnote_index_column": "(48135, 'ffabe3f9905f857b5f4c64150c4945f0')"
        },
        {
         "sequence": 49,
         "start_lat": 40.084,
         "start_long": -82.84,
         "latitude": 40.063,
         "longitude": -82.862,
         "_deepnote_index_column": "(48136, 'ffabe3f9905f857b5f4c64150c4945f0')"
        },
        {
         "sequence": 50,
         "start_lat": 40.063,
         "start_long": -82.862,
         "latitude": 40.059,
         "longitude": -82.864,
         "_deepnote_index_column": "(48137, 'ffabe3f9905f857b5f4c64150c4945f0')"
        },
        {
         "sequence": 51,
         "start_lat": 40.059,
         "start_long": -82.864,
         "latitude": 40.055,
         "longitude": -82.914,
         "_deepnote_index_column": "(48138, 'ffabe3f9905f857b5f4c64150c4945f0')"
        },
        {
         "sequence": 52,
         "start_lat": 40.055,
         "start_long": -82.914,
         "latitude": 40.084,
         "longitude": -82.84,
         "_deepnote_index_column": "(48139, 'ffabe3f9905f857b5f4c64150c4945f0')"
        },
        {
         "sequence": 53,
         "start_lat": 40.084,
         "start_long": -82.84,
         "latitude": 40.143,
         "longitude": -82.967,
         "_deepnote_index_column": "(48140, 'ffabe3f9905f857b5f4c64150c4945f0')"
        },
        {
         "sequence": 54,
         "start_lat": 40.143,
         "start_long": -82.967,
         "latitude": 40.084,
         "longitude": -82.84,
         "_deepnote_index_column": "(48141, 'ffabe3f9905f857b5f4c64150c4945f0')"
        },
        {
         "sequence": 55,
         "start_lat": 40.084,
         "start_long": -82.839,
         "latitude": 40.084,
         "longitude": -82.84,
         "_deepnote_index_column": "(48142, 'ffabe3f9905f857b5f4c64150c4945f0')"
        },
        {
         "sequence": 56,
         "start_lat": 40.084,
         "start_long": -82.84,
         "latitude": 40.054,
         "longitude": -82.906,
         "_deepnote_index_column": "(48143, 'ffabe3f9905f857b5f4c64150c4945f0')"
        },
        {
         "sequence": 57,
         "start_lat": 40.054,
         "start_long": -82.906,
         "latitude": 40.084,
         "longitude": -82.84,
         "_deepnote_index_column": "(48144, 'ffabe3f9905f857b5f4c64150c4945f0')"
        },
        {
         "sequence": 58,
         "start_lat": 40.084,
         "start_long": -82.84,
         "latitude": 40.085,
         "longitude": -82.817,
         "_deepnote_index_column": "(48145, 'ffabe3f9905f857b5f4c64150c4945f0')"
        },
        {
         "sequence": 59,
         "start_lat": 40.086,
         "start_long": -82.818,
         "latitude": 40.084,
         "longitude": -82.84,
         "_deepnote_index_column": "(48146, 'ffabe3f9905f857b5f4c64150c4945f0')"
        },
        {
         "sequence": 60,
         "start_lat": 40.084,
         "start_long": -82.84,
         "latitude": 40.084,
         "longitude": -82.836,
         "_deepnote_index_column": "(48147, 'ffabe3f9905f857b5f4c64150c4945f0')"
        },
        {
         "sequence": 61,
         "start_lat": 40.084,
         "start_long": -82.84,
         "latitude": 40.113,
         "longitude": -83.004,
         "_deepnote_index_column": "(48148, 'ffabe3f9905f857b5f4c64150c4945f0')"
        },
        {
         "sequence": 62,
         "start_lat": 40.113,
         "start_long": -83.005,
         "latitude": 40.118,
         "longitude": -83.015,
         "_deepnote_index_column": "(48149, 'ffabe3f9905f857b5f4c64150c4945f0')"
        },
        {
         "sequence": 63,
         "start_lat": 40.118,
         "start_long": -83.015,
         "latitude": 40.113,
         "longitude": -83.005,
         "_deepnote_index_column": "(48150, 'ffabe3f9905f857b5f4c64150c4945f0')"
        },
        {
         "sequence": 64,
         "start_lat": 40.113,
         "start_long": -83.005,
         "latitude": 40.084,
         "longitude": -82.84,
         "_deepnote_index_column": "(48151, 'ffabe3f9905f857b5f4c64150c4945f0')"
        },
        {
         "sequence": 70,
         "start_lat": 39.963,
         "start_long": -82.998,
         "latitude": 39.963,
         "longitude": -82.998,
         "_deepnote_index_column": "(48152, 'ffabe3f9905f857b5f4c64150c4945f0')"
        },
        {
         "sequence": 71,
         "start_lat": 39.963,
         "start_long": -82.998,
         "latitude": 40.084,
         "longitude": -82.84,
         "_deepnote_index_column": "(48153, 'ffabe3f9905f857b5f4c64150c4945f0')"
        },
        {
         "sequence": 72,
         "start_lat": 40.084,
         "start_long": -82.84,
         "latitude": 39.96,
         "longitude": -82.995,
         "_deepnote_index_column": "(48154, 'ffabe3f9905f857b5f4c64150c4945f0')"
        },
        {
         "sequence": 73,
         "start_lat": 39.961,
         "start_long": -82.995,
         "latitude": 40.149,
         "longitude": -82.976,
         "_deepnote_index_column": "(48155, 'ffabe3f9905f857b5f4c64150c4945f0')"
        },
        {
         "sequence": 74,
         "start_lat": 40.149,
         "start_long": -82.976,
         "latitude": 40.113,
         "longitude": -83.005,
         "_deepnote_index_column": "(48156, 'ffabe3f9905f857b5f4c64150c4945f0')"
        },
        {
         "sequence": 75,
         "start_lat": 40.113,
         "start_long": -83.005,
         "latitude": 39.973,
         "longitude": -83.003,
         "_deepnote_index_column": "(48157, 'ffabe3f9905f857b5f4c64150c4945f0')"
        },
        {
         "sequence": 76,
         "start_lat": 39.973,
         "start_long": -83.003,
         "latitude": 39.971,
         "longitude": -83.002,
         "_deepnote_index_column": "(48158, 'ffabe3f9905f857b5f4c64150c4945f0')"
        },
        {
         "sequence": 77,
         "start_lat": 39.97,
         "start_long": -83.002,
         "latitude": 39.971,
         "longitude": -83.004,
         "_deepnote_index_column": "(48159, 'ffabe3f9905f857b5f4c64150c4945f0')"
        },
        {
         "sequence": 78,
         "start_lat": 39.972,
         "start_long": -83.003,
         "latitude": 40.084,
         "longitude": -82.84,
         "_deepnote_index_column": "(48160, 'ffabe3f9905f857b5f4c64150c4945f0')"
        },
        {
         "sequence": 79,
         "start_lat": 40.084,
         "start_long": -82.839,
         "latitude": 40.112,
         "longitude": -83.005,
         "_deepnote_index_column": "(48161, 'ffabe3f9905f857b5f4c64150c4945f0')"
        },
        {
         "sequence": 80,
         "start_lat": 40.113,
         "start_long": -83.005,
         "latitude": 40.118,
         "longitude": -83.012,
         "_deepnote_index_column": "(48162, 'ffabe3f9905f857b5f4c64150c4945f0')"
        },
        {
         "sequence": 81,
         "start_lat": 40.118,
         "start_long": -83.012,
         "latitude": 40.084,
         "longitude": -82.84,
         "_deepnote_index_column": "(48163, 'ffabe3f9905f857b5f4c64150c4945f0')"
        },
        {
         "sequence": 82,
         "start_lat": 40.084,
         "start_long": -82.84,
         "latitude": 40.112,
         "longitude": -83.004,
         "_deepnote_index_column": "(48164, 'ffabe3f9905f857b5f4c64150c4945f0')"
        },
        {
         "sequence": 83,
         "start_lat": 40.114,
         "start_long": -83.006,
         "latitude": 40.08,
         "longitude": -82.813,
         "_deepnote_index_column": "(48165, 'ffabe3f9905f857b5f4c64150c4945f0')"
        },
        {
         "sequence": 84,
         "start_lat": 40.08,
         "start_long": -82.814,
         "latitude": 40.084,
         "longitude": -82.84,
         "_deepnote_index_column": "(48166, 'ffabe3f9905f857b5f4c64150c4945f0')"
        },
        {
         "sequence": 85,
         "start_lat": 40.084,
         "start_long": -82.84,
         "latitude": 40.084,
         "longitude": -82.84,
         "_deepnote_index_column": "(48167, 'ffabe3f9905f857b5f4c64150c4945f0')"
        },
        {
         "sequence": 86,
         "start_lat": 40.084,
         "start_long": -82.84,
         "latitude": 40.083,
         "longitude": -82.808,
         "_deepnote_index_column": "(48168, 'ffabe3f9905f857b5f4c64150c4945f0')"
        },
        {
         "sequence": 87,
         "start_lat": 40.083,
         "start_long": -82.808,
         "latitude": 40.084,
         "longitude": -82.84,
         "_deepnote_index_column": "(48169, 'ffabe3f9905f857b5f4c64150c4945f0')"
        },
        {
         "sequence": 88,
         "start_lat": 40.084,
         "start_long": -82.84,
         "latitude": 40.055,
         "longitude": -82.914,
         "_deepnote_index_column": "(48170, 'ffabe3f9905f857b5f4c64150c4945f0')"
        },
        {
         "sequence": 89,
         "start_lat": 40.055,
         "start_long": -82.914,
         "latitude": 40.053,
         "longitude": -82.908,
         "_deepnote_index_column": "(48171, 'ffabe3f9905f857b5f4c64150c4945f0')"
        },
        {
         "sequence": 90,
         "start_lat": 40.053,
         "start_long": -82.908,
         "latitude": 40.054,
         "longitude": -82.906,
         "_deepnote_index_column": "(48172, 'ffabe3f9905f857b5f4c64150c4945f0')"
        },
        {
         "sequence": 91,
         "start_lat": 40.054,
         "start_long": -82.906,
         "latitude": 40.049,
         "longitude": -82.918,
         "_deepnote_index_column": "(48173, 'ffabe3f9905f857b5f4c64150c4945f0')"
        },
        {
         "sequence": 92,
         "start_lat": 40.049,
         "start_long": -82.918,
         "latitude": 40.084,
         "longitude": -82.84,
         "_deepnote_index_column": "(48174, 'ffabe3f9905f857b5f4c64150c4945f0')"
        },
        {
         "sequence": 93,
         "start_lat": 40.084,
         "start_long": -82.84,
         "latitude": 40.04,
         "longitude": -82.863,
         "_deepnote_index_column": "(48175, 'ffabe3f9905f857b5f4c64150c4945f0')"
        },
        {
         "sequence": 94,
         "start_lat": 40.04,
         "start_long": -82.863,
         "latitude": 40.079,
         "longitude": -82.852,
         "_deepnote_index_column": "(48176, 'ffabe3f9905f857b5f4c64150c4945f0')"
        },
        {
         "sequence": 95,
         "start_lat": 40.083,
         "start_long": -82.84,
         "latitude": 40.081,
         "longitude": -82.816,
         "_deepnote_index_column": "(48177, 'ffabe3f9905f857b5f4c64150c4945f0')"
        },
        {
         "sequence": 98,
         "start_lat": 40.084,
         "start_long": -82.839,
         "latitude": 40.113,
         "longitude": -83.005,
         "_deepnote_index_column": "(48178, 'ffabe3f9905f857b5f4c64150c4945f0')"
        },
        {
         "sequence": 99,
         "start_lat": 40.113,
         "start_long": -83.005,
         "latitude": 40.112,
         "longitude": -83.006,
         "_deepnote_index_column": "(48179, 'ffabe3f9905f857b5f4c64150c4945f0')"
        },
        {
         "sequence": 100,
         "start_lat": 40.113,
         "start_long": -83.006,
         "latitude": 40.084,
         "longitude": -82.84,
         "_deepnote_index_column": "(48180, 'ffabe3f9905f857b5f4c64150c4945f0')"
        },
        {
         "sequence": 101,
         "start_lat": 40.084,
         "start_long": -82.84,
         "latitude": 39.962,
         "longitude": -83.002,
         "_deepnote_index_column": "(48181, 'ffabe3f9905f857b5f4c64150c4945f0')"
        },
        {
         "sequence": 102,
         "start_lat": 39.959,
         "start_long": -82.997,
         "latitude": 40.113,
         "longitude": -83.005,
         "_deepnote_index_column": "(48182, 'ffabe3f9905f857b5f4c64150c4945f0')"
        },
        {
         "sequence": 103,
         "start_lat": 40.113,
         "start_long": -83.005,
         "latitude": 40.084,
         "longitude": -82.84,
         "_deepnote_index_column": "(48183, 'ffabe3f9905f857b5f4c64150c4945f0')"
        },
        {
         "sequence": 104,
         "start_lat": 40.084,
         "start_long": -82.839,
         "latitude": 40.04,
         "longitude": -82.863,
         "_deepnote_index_column": "(48184, 'ffabe3f9905f857b5f4c64150c4945f0')"
        },
        {
         "sequence": 105,
         "start_lat": 40.04,
         "start_long": -82.862,
         "latitude": 40.039,
         "longitude": -82.862,
         "_deepnote_index_column": "(48185, 'ffabe3f9905f857b5f4c64150c4945f0')"
        },
        {
         "sequence": 106,
         "start_lat": 40.039,
         "start_long": -82.862,
         "latitude": 40.112,
         "longitude": -83.005,
         "_deepnote_index_column": "(48186, 'ffabe3f9905f857b5f4c64150c4945f0')"
        },
        {
         "sequence": 107,
         "start_lat": 40.113,
         "start_long": -83.004,
         "latitude": 40.095,
         "longitude": -83.066,
         "_deepnote_index_column": "(48187, 'ffabe3f9905f857b5f4c64150c4945f0')"
        },
        {
         "sequence": 108,
         "start_lat": 40.095,
         "start_long": -83.066,
         "latitude": 40.084,
         "longitude": -82.84,
         "_deepnote_index_column": "(48188, 'ffabe3f9905f857b5f4c64150c4945f0')"
        },
        {
         "sequence": 109,
         "start_lat": 40.083,
         "start_long": -82.839,
         "latitude": 40.039,
         "longitude": -82.862,
         "_deepnote_index_column": "(48189, 'ffabe3f9905f857b5f4c64150c4945f0')"
        },
        {
         "sequence": 110,
         "start_lat": 40.039,
         "start_long": -82.862,
         "latitude": 40.084,
         "longitude": -82.84,
         "_deepnote_index_column": "(48190, 'ffabe3f9905f857b5f4c64150c4945f0')"
        },
        {
         "sequence": 111,
         "start_lat": 40.084,
         "start_long": -82.84,
         "latitude": 40.111,
         "longitude": -82.993,
         "_deepnote_index_column": "(48191, 'ffabe3f9905f857b5f4c64150c4945f0')"
        },
        {
         "sequence": 112,
         "start_lat": 40.113,
         "start_long": -83.005,
         "latitude": 40.094,
         "longitude": -82.824,
         "_deepnote_index_column": "(48192, 'ffabe3f9905f857b5f4c64150c4945f0')"
        },
        {
         "sequence": 113,
         "start_lat": 40.095,
         "start_long": -82.825,
         "latitude": 40.084,
         "longitude": -82.84,
         "_deepnote_index_column": "(48193, 'ffabe3f9905f857b5f4c64150c4945f0')"
        },
        {
         "sequence": 114,
         "start_lat": 40.084,
         "start_long": -82.839,
         "latitude": 40.112,
         "longitude": -83.005,
         "_deepnote_index_column": "(48194, 'ffabe3f9905f857b5f4c64150c4945f0')"
        },
        {
         "sequence": 115,
         "start_lat": 40.113,
         "start_long": -83.005,
         "latitude": 40.081,
         "longitude": -82.813,
         "_deepnote_index_column": "(48195, 'ffabe3f9905f857b5f4c64150c4945f0')"
        },
        {
         "sequence": 116,
         "start_lat": 40.081,
         "start_long": -82.813,
         "latitude": 40.081,
         "longitude": -82.827,
         "_deepnote_index_column": "(48196, 'ffabe3f9905f857b5f4c64150c4945f0')"
        },
        {
         "sequence": 117,
         "start_lat": 40.084,
         "start_long": -82.84,
         "latitude": 40.117,
         "longitude": -82.928,
         "_deepnote_index_column": "(48197, 'ffabe3f9905f857b5f4c64150c4945f0')"
        },
        {
         "sequence": 118,
         "start_lat": 40.117,
         "start_long": -82.928,
         "latitude": 40.084,
         "longitude": -82.84,
         "_deepnote_index_column": "(48198, 'ffabe3f9905f857b5f4c64150c4945f0')"
        },
        {
         "sequence": 119,
         "start_lat": 40.084,
         "start_long": -82.84,
         "latitude": 40.081,
         "longitude": -82.816,
         "_deepnote_index_column": "(48199, 'ffabe3f9905f857b5f4c64150c4945f0')"
        },
        {
         "sequence": 120,
         "start_lat": 40.081,
         "start_long": -82.816,
         "latitude": 40.084,
         "longitude": -82.84,
         "_deepnote_index_column": "(48200, 'ffabe3f9905f857b5f4c64150c4945f0')"
        },
        {
         "sequence": 121,
         "start_lat": 40.084,
         "start_long": -82.84,
         "latitude": 40.061,
         "longitude": -82.875,
         "_deepnote_index_column": "(48201, 'ffabe3f9905f857b5f4c64150c4945f0')"
        },
        {
         "sequence": 122,
         "start_lat": 40.061,
         "start_long": -82.875,
         "latitude": 40.084,
         "longitude": -82.84,
         "_deepnote_index_column": "(48202, 'ffabe3f9905f857b5f4c64150c4945f0')"
        },
        {
         "sequence": 123,
         "start_lat": 40.084,
         "start_long": -82.839,
         "latitude": 40.093,
         "longitude": -82.85,
         "_deepnote_index_column": "(48203, 'ffabe3f9905f857b5f4c64150c4945f0')"
        },
        {
         "sequence": 124,
         "start_lat": 40.093,
         "start_long": -82.85,
         "latitude": 40.113,
         "longitude": -83.005,
         "_deepnote_index_column": "(48204, 'ffabe3f9905f857b5f4c64150c4945f0')"
        },
        {
         "sequence": 125,
         "start_lat": 40.114,
         "start_long": -83.006,
         "latitude": 40.105,
         "longitude": -83.018,
         "_deepnote_index_column": "(48205, 'ffabe3f9905f857b5f4c64150c4945f0')"
        },
        {
         "sequence": 126,
         "start_lat": 40.105,
         "start_long": -83.018,
         "latitude": 40.084,
         "longitude": -82.84,
         "_deepnote_index_column": "(48206, 'ffabe3f9905f857b5f4c64150c4945f0')"
        },
        {
         "sequence": 127,
         "start_lat": 40.084,
         "start_long": -82.84,
         "latitude": 40.076,
         "longitude": -82.837,
         "_deepnote_index_column": "(48207, 'ffabe3f9905f857b5f4c64150c4945f0')"
        },
        {
         "sequence": 128,
         "start_lat": 40.076,
         "start_long": -82.837,
         "latitude": 40.084,
         "longitude": -82.84,
         "_deepnote_index_column": "(48208, 'ffabe3f9905f857b5f4c64150c4945f0')"
        },
        {
         "sequence": 643,
         "start_lat": 40.136,
         "start_long": -82.996,
         "latitude": 40.178,
         "longitude": -82.997,
         "_deepnote_index_column": "(48211, 'ffffe9555b16c2d737f6f2e8616b1e68')"
        },
        {
         "sequence": 644,
         "start_lat": 40.178,
         "start_long": -82.997,
         "latitude": 39.943,
         "longitude": -82.827,
         "_deepnote_index_column": "(48212, 'ffffe9555b16c2d737f6f2e8616b1e68')"
        },
        {
         "sequence": 645,
         "start_lat": 39.942,
         "start_long": -82.827,
         "latitude": 40.178,
         "longitude": -82.997,
         "_deepnote_index_column": "(48213, 'ffffe9555b16c2d737f6f2e8616b1e68')"
        },
        {
         "sequence": 646,
         "start_lat": 40.178,
         "start_long": -82.997,
         "latitude": 40.136,
         "longitude": -82.996,
         "_deepnote_index_column": "(48214, 'ffffe9555b16c2d737f6f2e8616b1e68')"
        },
        {
         "sequence": 647,
         "start_lat": 40.136,
         "start_long": -82.997,
         "latitude": 40.15,
         "longitude": -82.997,
         "_deepnote_index_column": "(48215, 'ffffe9555b16c2d737f6f2e8616b1e68')"
        },
        {
         "sequence": 648,
         "start_lat": 40.15,
         "start_long": -82.997,
         "latitude": 40.178,
         "longitude": -82.997,
         "_deepnote_index_column": "(48216, 'ffffe9555b16c2d737f6f2e8616b1e68')"
        }
       ]
      },
      "text/plain": "                                        sequence  start_lat  start_long  \\\n      vin                                                                 \n2     005b420fd9275f080ad79e1c4330357e      1143     41.267     -81.378   \n3     005b420fd9275f080ad79e1c4330357e      1145     41.394     -81.413   \n4     005b420fd9275f080ad79e1c4330357e      1146     41.409     -81.497   \n6     008beb5671fb49a92dc0ef9de96979bf       555     40.100     -83.166   \n7     008beb5671fb49a92dc0ef9de96979bf       556     40.149     -82.904   \n...                                          ...        ...         ...   \n48212 ffffe9555b16c2d737f6f2e8616b1e68       644     40.178     -82.997   \n48213 ffffe9555b16c2d737f6f2e8616b1e68       645     39.942     -82.827   \n48214 ffffe9555b16c2d737f6f2e8616b1e68       646     40.178     -82.997   \n48215 ffffe9555b16c2d737f6f2e8616b1e68       647     40.136     -82.997   \n48216 ffffe9555b16c2d737f6f2e8616b1e68       648     40.150     -82.997   \n\n                                        latitude  longitude  \n      vin                                                    \n2     005b420fd9275f080ad79e1c4330357e    41.410    -81.500  \n3     005b420fd9275f080ad79e1c4330357e    41.414    -81.504  \n4     005b420fd9275f080ad79e1c4330357e    41.379    -81.427  \n6     008beb5671fb49a92dc0ef9de96979bf    40.149    -82.904  \n7     008beb5671fb49a92dc0ef9de96979bf    40.100    -83.166  \n...                                          ...        ...  \n48212 ffffe9555b16c2d737f6f2e8616b1e68    39.943    -82.827  \n48213 ffffe9555b16c2d737f6f2e8616b1e68    40.178    -82.997  \n48214 ffffe9555b16c2d737f6f2e8616b1e68    40.136    -82.996  \n48215 ffffe9555b16c2d737f6f2e8616b1e68    40.150    -82.997  \n48216 ffffe9555b16c2d737f6f2e8616b1e68    40.178    -82.997  \n\n[47141 rows x 5 columns]",
      "text/html": "<div>\n<style scoped>\n    .dataframe tbody tr th:only-of-type {\n        vertical-align: middle;\n    }\n\n    .dataframe tbody tr th {\n        vertical-align: top;\n    }\n\n    .dataframe thead th {\n        text-align: right;\n    }\n</style>\n<table border=\"1\" class=\"dataframe\">\n  <thead>\n    <tr style=\"text-align: right;\">\n      <th></th>\n      <th></th>\n      <th>sequence</th>\n      <th>start_lat</th>\n      <th>start_long</th>\n      <th>latitude</th>\n      <th>longitude</th>\n    </tr>\n    <tr>\n      <th></th>\n      <th>vin</th>\n      <th></th>\n      <th></th>\n      <th></th>\n      <th></th>\n      <th></th>\n    </tr>\n  </thead>\n  <tbody>\n    <tr>\n      <th>2</th>\n      <th>005b420fd9275f080ad79e1c4330357e</th>\n      <td>1143</td>\n      <td>41.267</td>\n      <td>-81.378</td>\n      <td>41.410</td>\n      <td>-81.500</td>\n    </tr>\n    <tr>\n      <th>3</th>\n      <th>005b420fd9275f080ad79e1c4330357e</th>\n      <td>1145</td>\n      <td>41.394</td>\n      <td>-81.413</td>\n      <td>41.414</td>\n      <td>-81.504</td>\n    </tr>\n    <tr>\n      <th>4</th>\n      <th>005b420fd9275f080ad79e1c4330357e</th>\n      <td>1146</td>\n      <td>41.409</td>\n      <td>-81.497</td>\n      <td>41.379</td>\n      <td>-81.427</td>\n    </tr>\n    <tr>\n      <th>6</th>\n      <th>008beb5671fb49a92dc0ef9de96979bf</th>\n      <td>555</td>\n      <td>40.100</td>\n      <td>-83.166</td>\n      <td>40.149</td>\n      <td>-82.904</td>\n    </tr>\n    <tr>\n      <th>7</th>\n      <th>008beb5671fb49a92dc0ef9de96979bf</th>\n      <td>556</td>\n      <td>40.149</td>\n      <td>-82.904</td>\n      <td>40.100</td>\n      <td>-83.166</td>\n    </tr>\n    <tr>\n      <th>...</th>\n      <th>...</th>\n      <td>...</td>\n      <td>...</td>\n      <td>...</td>\n      <td>...</td>\n      <td>...</td>\n    </tr>\n    <tr>\n      <th>48212</th>\n      <th>ffffe9555b16c2d737f6f2e8616b1e68</th>\n      <td>644</td>\n      <td>40.178</td>\n      <td>-82.997</td>\n      <td>39.943</td>\n      <td>-82.827</td>\n    </tr>\n    <tr>\n      <th>48213</th>\n      <th>ffffe9555b16c2d737f6f2e8616b1e68</th>\n      <td>645</td>\n      <td>39.942</td>\n      <td>-82.827</td>\n      <td>40.178</td>\n      <td>-82.997</td>\n    </tr>\n    <tr>\n      <th>48214</th>\n      <th>ffffe9555b16c2d737f6f2e8616b1e68</th>\n      <td>646</td>\n      <td>40.178</td>\n      <td>-82.997</td>\n      <td>40.136</td>\n      <td>-82.996</td>\n    </tr>\n    <tr>\n      <th>48215</th>\n      <th>ffffe9555b16c2d737f6f2e8616b1e68</th>\n      <td>647</td>\n      <td>40.136</td>\n      <td>-82.997</td>\n      <td>40.150</td>\n      <td>-82.997</td>\n    </tr>\n    <tr>\n      <th>48216</th>\n      <th>ffffe9555b16c2d737f6f2e8616b1e68</th>\n      <td>648</td>\n      <td>40.150</td>\n      <td>-82.997</td>\n      <td>40.178</td>\n      <td>-82.997</td>\n    </tr>\n  </tbody>\n</table>\n<p>47141 rows × 5 columns</p>\n</div>"
     },
     "metadata": {}
    }
   ]
  },
  {
   "cell_type": "code",
   "metadata": {
    "tags": [],
    "cell_id": "00007-d32f4b90-fe74-4070-812d-00c9145804c7",
    "deepnote_to_be_reexecuted": false,
    "source_hash": "b88ae9f7",
    "execution_millis": 87,
    "execution_start": 1620331950343,
    "deepnote_cell_type": "code"
   },
   "source": "\"\"\"\n\nResetting the index and dropping the first column. \n\nFinding the car with the highest number of trips for the purpose of testing.\n    \n    Returns:\n    _ _ _ _ _ _ _ _ _ _ _ _ _\n    Dataframe with the vin, sequence number, starting latitude and longitude, and ending latitude\n    for the car with the highest number of trips.\n    \n\"\"\"\ndf = df.reset_index().drop(columns=[\"level_0\"])\ncar = df.groupby(\"vin\").agg('count').sort_values(by=\"start_lat\", ascending=False).iloc[0, :]\ncar_w_most_trips = df[df[\"vin\"] ==\"f9f14cc8f0891d7158cb72ffb949351b\"]\ncar_w_most_trips",
   "execution_count": 61,
   "outputs": [
    {
     "output_type": "execute_result",
     "execution_count": 61,
     "data": {
      "application/vnd.deepnote.dataframe.v2+json": {
       "row_count": 302,
       "column_count": 6,
       "columns": [
        {
         "name": "vin",
         "dtype": "object",
         "stats": {
          "unique_count": 1,
          "nan_count": 0,
          "categories": [
           {
            "name": "f9f14cc8f0891d7158cb72ffb949351b",
            "count": 302
           }
          ]
         }
        },
        {
         "name": "sequence",
         "dtype": "int64",
         "stats": {
          "unique_count": 302,
          "nan_count": 0,
          "min": "1595",
          "max": "2063",
          "histogram": [
           {
            "bin_start": 1595,
            "bin_end": 1641.8,
            "count": 32
           },
           {
            "bin_start": 1641.8,
            "bin_end": 1688.6,
            "count": 32
           },
           {
            "bin_start": 1688.6,
            "bin_end": 1735.4,
            "count": 31
           },
           {
            "bin_start": 1735.4,
            "bin_end": 1782.2,
            "count": 32
           },
           {
            "bin_start": 1782.2,
            "bin_end": 1829,
            "count": 31
           },
           {
            "bin_start": 1829,
            "bin_end": 1875.8,
            "count": 20
           },
           {
            "bin_start": 1875.8,
            "bin_end": 1922.6,
            "count": 32
           },
           {
            "bin_start": 1922.6,
            "bin_end": 1969.4,
            "count": 31
           },
           {
            "bin_start": 1969.4,
            "bin_end": 2016.2,
            "count": 29
           },
           {
            "bin_start": 2016.2,
            "bin_end": 2063,
            "count": 32
           }
          ]
         }
        },
        {
         "name": "start_lat",
         "dtype": "float64",
         "stats": {
          "unique_count": 54,
          "nan_count": 0,
          "min": "39.844",
          "max": "40.172",
          "histogram": [
           {
            "bin_start": 39.844,
            "bin_end": 39.8768,
            "count": 3
           },
           {
            "bin_start": 39.8768,
            "bin_end": 39.9096,
            "count": 54
           },
           {
            "bin_start": 39.9096,
            "bin_end": 39.9424,
            "count": 37
           },
           {
            "bin_start": 39.9424,
            "bin_end": 39.9752,
            "count": 62
           },
           {
            "bin_start": 39.9752,
            "bin_end": 40.007999999999996,
            "count": 4
           },
           {
            "bin_start": 40.007999999999996,
            "bin_end": 40.0408,
            "count": 51
           },
           {
            "bin_start": 40.0408,
            "bin_end": 40.0736,
            "count": 79
           },
           {
            "bin_start": 40.0736,
            "bin_end": 40.1064,
            "count": 8
           },
           {
            "bin_start": 40.1064,
            "bin_end": 40.139199999999995,
            "count": 0
           },
           {
            "bin_start": 40.139199999999995,
            "bin_end": 40.172,
            "count": 4
           }
          ]
         }
        },
        {
         "name": "start_long",
         "dtype": "float64",
         "stats": {
          "unique_count": 74,
          "nan_count": 0,
          "min": "-83.124",
          "max": "-82.781",
          "histogram": [
           {
            "bin_start": -83.124,
            "bin_end": -83.0897,
            "count": 25
           },
           {
            "bin_start": -83.0897,
            "bin_end": -83.05539999999999,
            "count": 1
           },
           {
            "bin_start": -83.05539999999999,
            "bin_end": -83.0211,
            "count": 56
           },
           {
            "bin_start": -83.0211,
            "bin_end": -82.9868,
            "count": 47
           },
           {
            "bin_start": -82.9868,
            "bin_end": -82.9525,
            "count": 58
           },
           {
            "bin_start": -82.9525,
            "bin_end": -82.9182,
            "count": 60
           },
           {
            "bin_start": -82.9182,
            "bin_end": -82.8839,
            "count": 10
           },
           {
            "bin_start": -82.8839,
            "bin_end": -82.84960000000001,
            "count": 15
           },
           {
            "bin_start": -82.84960000000001,
            "bin_end": -82.81530000000001,
            "count": 10
           },
           {
            "bin_start": -82.81530000000001,
            "bin_end": -82.781,
            "count": 20
           }
          ]
         }
        },
        {
         "name": "latitude",
         "dtype": "float64",
         "stats": {
          "unique_count": 48,
          "nan_count": 0,
          "min": "39.844",
          "max": "40.172",
          "histogram": [
           {
            "bin_start": 39.844,
            "bin_end": 39.8768,
            "count": 3
           },
           {
            "bin_start": 39.8768,
            "bin_end": 39.9096,
            "count": 54
           },
           {
            "bin_start": 39.9096,
            "bin_end": 39.9424,
            "count": 38
           },
           {
            "bin_start": 39.9424,
            "bin_end": 39.9752,
            "count": 61
           },
           {
            "bin_start": 39.9752,
            "bin_end": 40.007999999999996,
            "count": 4
           },
           {
            "bin_start": 40.007999999999996,
            "bin_end": 40.0408,
            "count": 51
           },
           {
            "bin_start": 40.0408,
            "bin_end": 40.0736,
            "count": 79
           },
           {
            "bin_start": 40.0736,
            "bin_end": 40.1064,
            "count": 8
           },
           {
            "bin_start": 40.1064,
            "bin_end": 40.139199999999995,
            "count": 0
           },
           {
            "bin_start": 40.139199999999995,
            "bin_end": 40.172,
            "count": 4
           }
          ]
         }
        },
        {
         "name": "longitude",
         "dtype": "float64",
         "stats": {
          "unique_count": 62,
          "nan_count": 0,
          "min": "-83.124",
          "max": "-82.783",
          "histogram": [
           {
            "bin_start": -83.124,
            "bin_end": -83.0899,
            "count": 25
           },
           {
            "bin_start": -83.0899,
            "bin_end": -83.05579999999999,
            "count": 1
           },
           {
            "bin_start": -83.05579999999999,
            "bin_end": -83.0217,
            "count": 57
           },
           {
            "bin_start": -83.0217,
            "bin_end": -82.9876,
            "count": 46
           },
           {
            "bin_start": -82.9876,
            "bin_end": -82.95349999999999,
            "count": 57
           },
           {
            "bin_start": -82.95349999999999,
            "bin_end": -82.9194,
            "count": 59
           },
           {
            "bin_start": -82.9194,
            "bin_end": -82.8853,
            "count": 11
           },
           {
            "bin_start": -82.8853,
            "bin_end": -82.8512,
            "count": 15
           },
           {
            "bin_start": -82.8512,
            "bin_end": -82.8171,
            "count": 9
           },
           {
            "bin_start": -82.8171,
            "bin_end": -82.783,
            "count": 22
           }
          ]
         }
        },
        {
         "name": "_deepnote_index_column",
         "dtype": "int64"
        }
       ],
       "rows_top": [
        {
         "vin": "f9f14cc8f0891d7158cb72ffb949351b",
         "sequence": 1595,
         "start_lat": 39.906,
         "start_long": -82.961,
         "latitude": 39.936,
         "longitude": -82.939,
         "_deepnote_index_column": 45843
        },
        {
         "vin": "f9f14cc8f0891d7158cb72ffb949351b",
         "sequence": 1596,
         "start_lat": 39.936,
         "start_long": -82.93,
         "latitude": 39.928,
         "longitude": -82.926,
         "_deepnote_index_column": 45844
        },
        {
         "vin": "f9f14cc8f0891d7158cb72ffb949351b",
         "sequence": 1598,
         "start_lat": 39.928,
         "start_long": -82.925,
         "latitude": 40.05,
         "longitude": -83.123,
         "_deepnote_index_column": 45845
        },
        {
         "vin": "f9f14cc8f0891d7158cb72ffb949351b",
         "sequence": 1599,
         "start_lat": 40.05,
         "start_long": -83.124,
         "latitude": 40.068,
         "longitude": -83.02,
         "_deepnote_index_column": 45846
        },
        {
         "vin": "f9f14cc8f0891d7158cb72ffb949351b",
         "sequence": 1601,
         "start_lat": 40.068,
         "start_long": -83.02,
         "latitude": 40.171,
         "longitude": -82.911,
         "_deepnote_index_column": 45847
        },
        {
         "vin": "f9f14cc8f0891d7158cb72ffb949351b",
         "sequence": 1602,
         "start_lat": 40.171,
         "start_long": -82.911,
         "latitude": 40.172,
         "longitude": -82.909,
         "_deepnote_index_column": 45848
        },
        {
         "vin": "f9f14cc8f0891d7158cb72ffb949351b",
         "sequence": 1604,
         "start_lat": 40.172,
         "start_long": -82.909,
         "latitude": 40.171,
         "longitude": -82.911,
         "_deepnote_index_column": 45849
        },
        {
         "vin": "f9f14cc8f0891d7158cb72ffb949351b",
         "sequence": 1605,
         "start_lat": 40.171,
         "start_long": -82.911,
         "latitude": 40.034,
         "longitude": -83.034,
         "_deepnote_index_column": 45850
        },
        {
         "vin": "f9f14cc8f0891d7158cb72ffb949351b",
         "sequence": 1607,
         "start_lat": 40.034,
         "start_long": -83.033,
         "latitude": 40.031,
         "longitude": -83.029,
         "_deepnote_index_column": 45851
        },
        {
         "vin": "f9f14cc8f0891d7158cb72ffb949351b",
         "sequence": 1608,
         "start_lat": 40.028,
         "start_long": -83.028,
         "latitude": 39.906,
         "longitude": -82.961,
         "_deepnote_index_column": 45852
        },
        {
         "vin": "f9f14cc8f0891d7158cb72ffb949351b",
         "sequence": 1610,
         "start_lat": 39.907,
         "start_long": -82.961,
         "latitude": 39.938,
         "longitude": -82.793,
         "_deepnote_index_column": 45853
        },
        {
         "vin": "f9f14cc8f0891d7158cb72ffb949351b",
         "sequence": 1611,
         "start_lat": 39.938,
         "start_long": -82.793,
         "latitude": 39.911,
         "longitude": -82.783,
         "_deepnote_index_column": 45854
        },
        {
         "vin": "f9f14cc8f0891d7158cb72ffb949351b",
         "sequence": 1613,
         "start_lat": 39.911,
         "start_long": -82.783,
         "latitude": 39.906,
         "longitude": -82.961,
         "_deepnote_index_column": 45855
        },
        {
         "vin": "f9f14cc8f0891d7158cb72ffb949351b",
         "sequence": 1614,
         "start_lat": 39.906,
         "start_long": -82.961,
         "latitude": 39.928,
         "longitude": -82.926,
         "_deepnote_index_column": 45856
        },
        {
         "vin": "f9f14cc8f0891d7158cb72ffb949351b",
         "sequence": 1615,
         "start_lat": 39.928,
         "start_long": -82.926,
         "latitude": 39.945,
         "longitude": -82.936,
         "_deepnote_index_column": 45857
        },
        {
         "vin": "f9f14cc8f0891d7158cb72ffb949351b",
         "sequence": 1617,
         "start_lat": 39.946,
         "start_long": -82.936,
         "latitude": 40.05,
         "longitude": -83.124,
         "_deepnote_index_column": 45858
        },
        {
         "vin": "f9f14cc8f0891d7158cb72ffb949351b",
         "sequence": 1618,
         "start_lat": 40.05,
         "start_long": -83.124,
         "latitude": 40.068,
         "longitude": -83.02,
         "_deepnote_index_column": 45859
        },
        {
         "vin": "f9f14cc8f0891d7158cb72ffb949351b",
         "sequence": 1620,
         "start_lat": 40.068,
         "start_long": -83.02,
         "latitude": 40.074,
         "longitude": -82.853,
         "_deepnote_index_column": 45860
        },
        {
         "vin": "f9f14cc8f0891d7158cb72ffb949351b",
         "sequence": 1621,
         "start_lat": 40.074,
         "start_long": -82.853,
         "latitude": 40.031,
         "longitude": -83.035,
         "_deepnote_index_column": 45861
        },
        {
         "vin": "f9f14cc8f0891d7158cb72ffb949351b",
         "sequence": 1623,
         "start_lat": 40.031,
         "start_long": -83.035,
         "latitude": 40.066,
         "longitude": -83.022,
         "_deepnote_index_column": 45862
        },
        {
         "vin": "f9f14cc8f0891d7158cb72ffb949351b",
         "sequence": 1624,
         "start_lat": 40.066,
         "start_long": -83.023,
         "latitude": 40.066,
         "longitude": -83.025,
         "_deepnote_index_column": 45863
        },
        {
         "vin": "f9f14cc8f0891d7158cb72ffb949351b",
         "sequence": 1626,
         "start_lat": 40.066,
         "start_long": -83.024,
         "latitude": 40.031,
         "longitude": -83.035,
         "_deepnote_index_column": 45864
        },
        {
         "vin": "f9f14cc8f0891d7158cb72ffb949351b",
         "sequence": 1627,
         "start_lat": 40.031,
         "start_long": -83.035,
         "latitude": 40.074,
         "longitude": -82.852,
         "_deepnote_index_column": 45865
        },
        {
         "vin": "f9f14cc8f0891d7158cb72ffb949351b",
         "sequence": 1629,
         "start_lat": 40.074,
         "start_long": -82.852,
         "latitude": 40.065,
         "longitude": -83.019,
         "_deepnote_index_column": 45866
        },
        {
         "vin": "f9f14cc8f0891d7158cb72ffb949351b",
         "sequence": 1630,
         "start_lat": 40.068,
         "start_long": -83.02,
         "latitude": 40.031,
         "longitude": -83.035,
         "_deepnote_index_column": 45867
        },
        {
         "vin": "f9f14cc8f0891d7158cb72ffb949351b",
         "sequence": 1632,
         "start_lat": 40.031,
         "start_long": -83.035,
         "latitude": 39.956,
         "longitude": -82.9,
         "_deepnote_index_column": 45868
        },
        {
         "vin": "f9f14cc8f0891d7158cb72ffb949351b",
         "sequence": 1633,
         "start_lat": 39.957,
         "start_long": -82.901,
         "latitude": 39.957,
         "longitude": -82.902,
         "_deepnote_index_column": 45869
        },
        {
         "vin": "f9f14cc8f0891d7158cb72ffb949351b",
         "sequence": 1635,
         "start_lat": 39.956,
         "start_long": -82.902,
         "latitude": 39.906,
         "longitude": -82.961,
         "_deepnote_index_column": 45870
        },
        {
         "vin": "f9f14cc8f0891d7158cb72ffb949351b",
         "sequence": 1636,
         "start_lat": 39.906,
         "start_long": -82.961,
         "latitude": 39.945,
         "longitude": -82.936,
         "_deepnote_index_column": 45871
        },
        {
         "vin": "f9f14cc8f0891d7158cb72ffb949351b",
         "sequence": 1638,
         "start_lat": 39.946,
         "start_long": -82.937,
         "latitude": 40.05,
         "longitude": -83.124,
         "_deepnote_index_column": 45872
        },
        {
         "vin": "f9f14cc8f0891d7158cb72ffb949351b",
         "sequence": 1639,
         "start_lat": 40.049,
         "start_long": -83.124,
         "latitude": 40.068,
         "longitude": -83.02,
         "_deepnote_index_column": 45873
        },
        {
         "vin": "f9f14cc8f0891d7158cb72ffb949351b",
         "sequence": 1641,
         "start_lat": 40.068,
         "start_long": -83.02,
         "latitude": 40.034,
         "longitude": -83.034,
         "_deepnote_index_column": 45874
        },
        {
         "vin": "f9f14cc8f0891d7158cb72ffb949351b",
         "sequence": 1642,
         "start_lat": 40.034,
         "start_long": -83.033,
         "latitude": 39.881,
         "longitude": -83.003,
         "_deepnote_index_column": 45875
        },
        {
         "vin": "f9f14cc8f0891d7158cb72ffb949351b",
         "sequence": 1644,
         "start_lat": 39.881,
         "start_long": -83.003,
         "latitude": 39.882,
         "longitude": -83,
         "_deepnote_index_column": 45876
        },
        {
         "vin": "f9f14cc8f0891d7158cb72ffb949351b",
         "sequence": 1645,
         "start_lat": 39.882,
         "start_long": -83,
         "latitude": 39.882,
         "longitude": -83,
         "_deepnote_index_column": 45877
        },
        {
         "vin": "f9f14cc8f0891d7158cb72ffb949351b",
         "sequence": 1647,
         "start_lat": 39.882,
         "start_long": -83,
         "latitude": 39.906,
         "longitude": -82.961,
         "_deepnote_index_column": 45878
        },
        {
         "vin": "f9f14cc8f0891d7158cb72ffb949351b",
         "sequence": 1648,
         "start_lat": 39.906,
         "start_long": -82.961,
         "latitude": 39.944,
         "longitude": -82.937,
         "_deepnote_index_column": 45879
        },
        {
         "vin": "f9f14cc8f0891d7158cb72ffb949351b",
         "sequence": 1650,
         "start_lat": 39.945,
         "start_long": -82.936,
         "latitude": 39.906,
         "longitude": -82.961,
         "_deepnote_index_column": 45880
        },
        {
         "vin": "f9f14cc8f0891d7158cb72ffb949351b",
         "sequence": 1651,
         "start_lat": 39.906,
         "start_long": -82.961,
         "latitude": 40.068,
         "longitude": -83.02,
         "_deepnote_index_column": 45881
        },
        {
         "vin": "f9f14cc8f0891d7158cb72ffb949351b",
         "sequence": 1653,
         "start_lat": 40.068,
         "start_long": -83.02,
         "latitude": 39.906,
         "longitude": -82.961,
         "_deepnote_index_column": 45882
        },
        {
         "vin": "f9f14cc8f0891d7158cb72ffb949351b",
         "sequence": 1654,
         "start_lat": 39.907,
         "start_long": -82.961,
         "latitude": 39.911,
         "longitude": -82.783,
         "_deepnote_index_column": 45883
        },
        {
         "vin": "f9f14cc8f0891d7158cb72ffb949351b",
         "sequence": 1655,
         "start_lat": 39.911,
         "start_long": -82.783,
         "latitude": 39.844,
         "longitude": -82.823,
         "_deepnote_index_column": 45884
        },
        {
         "vin": "f9f14cc8f0891d7158cb72ffb949351b",
         "sequence": 1657,
         "start_lat": 39.845,
         "start_long": -82.823,
         "latitude": 39.911,
         "longitude": -82.783,
         "_deepnote_index_column": 45885
        },
        {
         "vin": "f9f14cc8f0891d7158cb72ffb949351b",
         "sequence": 1658,
         "start_lat": 39.911,
         "start_long": -82.783,
         "latitude": 39.917,
         "longitude": -82.914,
         "_deepnote_index_column": 45886
        },
        {
         "vin": "f9f14cc8f0891d7158cb72ffb949351b",
         "sequence": 1660,
         "start_lat": 39.917,
         "start_long": -82.916,
         "latitude": 39.906,
         "longitude": -82.961,
         "_deepnote_index_column": 45887
        },
        {
         "vin": "f9f14cc8f0891d7158cb72ffb949351b",
         "sequence": 1661,
         "start_lat": 39.906,
         "start_long": -82.961,
         "latitude": 39.945,
         "longitude": -82.936,
         "_deepnote_index_column": 45888
        },
        {
         "vin": "f9f14cc8f0891d7158cb72ffb949351b",
         "sequence": 1663,
         "start_lat": 39.946,
         "start_long": -82.936,
         "latitude": 39.979,
         "longitude": -82.861,
         "_deepnote_index_column": 45889
        },
        {
         "vin": "f9f14cc8f0891d7158cb72ffb949351b",
         "sequence": 1664,
         "start_lat": 39.979,
         "start_long": -82.861,
         "latitude": 39.945,
         "longitude": -82.936,
         "_deepnote_index_column": 45890
        },
        {
         "vin": "f9f14cc8f0891d7158cb72ffb949351b",
         "sequence": 1666,
         "start_lat": 39.945,
         "start_long": -82.936,
         "latitude": 39.911,
         "longitude": -82.783,
         "_deepnote_index_column": 45891
        },
        {
         "vin": "f9f14cc8f0891d7158cb72ffb949351b",
         "sequence": 1667,
         "start_lat": 39.911,
         "start_long": -82.783,
         "latitude": 39.906,
         "longitude": -82.961,
         "_deepnote_index_column": 45892
        },
        {
         "vin": "f9f14cc8f0891d7158cb72ffb949351b",
         "sequence": 1668,
         "start_lat": 39.906,
         "start_long": -82.961,
         "latitude": 40.068,
         "longitude": -83.02,
         "_deepnote_index_column": 45893
        },
        {
         "vin": "f9f14cc8f0891d7158cb72ffb949351b",
         "sequence": 1669,
         "start_lat": 40.068,
         "start_long": -83.02,
         "latitude": 40.052,
         "longitude": -83.021,
         "_deepnote_index_column": 45894
        },
        {
         "vin": "f9f14cc8f0891d7158cb72ffb949351b",
         "sequence": 1671,
         "start_lat": 40.052,
         "start_long": -83.021,
         "latitude": 40.074,
         "longitude": -82.853,
         "_deepnote_index_column": 45895
        },
        {
         "vin": "f9f14cc8f0891d7158cb72ffb949351b",
         "sequence": 1672,
         "start_lat": 40.074,
         "start_long": -82.852,
         "latitude": 40.031,
         "longitude": -83.035,
         "_deepnote_index_column": 45896
        },
        {
         "vin": "f9f14cc8f0891d7158cb72ffb949351b",
         "sequence": 1674,
         "start_lat": 40.032,
         "start_long": -83.036,
         "latitude": 39.956,
         "longitude": -82.9,
         "_deepnote_index_column": 45897
        },
        {
         "vin": "f9f14cc8f0891d7158cb72ffb949351b",
         "sequence": 1675,
         "start_lat": 39.956,
         "start_long": -82.9,
         "latitude": 39.906,
         "longitude": -82.961,
         "_deepnote_index_column": 45898
        },
        {
         "vin": "f9f14cc8f0891d7158cb72ffb949351b",
         "sequence": 1677,
         "start_lat": 39.907,
         "start_long": -82.962,
         "latitude": 39.885,
         "longitude": -82.791,
         "_deepnote_index_column": 45899
        },
        {
         "vin": "f9f14cc8f0891d7158cb72ffb949351b",
         "sequence": 1678,
         "start_lat": 39.91,
         "start_long": -82.781,
         "latitude": 39.938,
         "longitude": -82.793,
         "_deepnote_index_column": 45900
        },
        {
         "vin": "f9f14cc8f0891d7158cb72ffb949351b",
         "sequence": 1680,
         "start_lat": 39.937,
         "start_long": -82.792,
         "latitude": 39.945,
         "longitude": -82.936,
         "_deepnote_index_column": 45901
        },
        {
         "vin": "f9f14cc8f0891d7158cb72ffb949351b",
         "sequence": 1681,
         "start_lat": 39.946,
         "start_long": -82.936,
         "latitude": 39.948,
         "longitude": -82.938,
         "_deepnote_index_column": 45902
        },
        {
         "vin": "f9f14cc8f0891d7158cb72ffb949351b",
         "sequence": 1683,
         "start_lat": 39.948,
         "start_long": -82.939,
         "latitude": 40.068,
         "longitude": -83.02,
         "_deepnote_index_column": 45903
        },
        {
         "vin": "f9f14cc8f0891d7158cb72ffb949351b",
         "sequence": 1684,
         "start_lat": 40.068,
         "start_long": -83.02,
         "latitude": 40.074,
         "longitude": -82.853,
         "_deepnote_index_column": 45904
        },
        {
         "vin": "f9f14cc8f0891d7158cb72ffb949351b",
         "sequence": 1686,
         "start_lat": 40.074,
         "start_long": -82.852,
         "latitude": 40.031,
         "longitude": -83.035,
         "_deepnote_index_column": 45905
        },
        {
         "vin": "f9f14cc8f0891d7158cb72ffb949351b",
         "sequence": 1687,
         "start_lat": 40.031,
         "start_long": -83.035,
         "latitude": 39.906,
         "longitude": -82.961,
         "_deepnote_index_column": 45906
        },
        {
         "vin": "f9f14cc8f0891d7158cb72ffb949351b",
         "sequence": 1689,
         "start_lat": 39.906,
         "start_long": -82.961,
         "latitude": 39.945,
         "longitude": -82.936,
         "_deepnote_index_column": 45907
        },
        {
         "vin": "f9f14cc8f0891d7158cb72ffb949351b",
         "sequence": 1690,
         "start_lat": 39.946,
         "start_long": -82.936,
         "latitude": 40.068,
         "longitude": -83.02,
         "_deepnote_index_column": 45908
        },
        {
         "vin": "f9f14cc8f0891d7158cb72ffb949351b",
         "sequence": 1692,
         "start_lat": 40.068,
         "start_long": -83.02,
         "latitude": 40.031,
         "longitude": -83.035,
         "_deepnote_index_column": 45909
        },
        {
         "vin": "f9f14cc8f0891d7158cb72ffb949351b",
         "sequence": 1693,
         "start_lat": 40.031,
         "start_long": -83.035,
         "latitude": 39.906,
         "longitude": -82.961,
         "_deepnote_index_column": 45910
        },
        {
         "vin": "f9f14cc8f0891d7158cb72ffb949351b",
         "sequence": 1695,
         "start_lat": 39.906,
         "start_long": -82.961,
         "latitude": 39.906,
         "longitude": -82.961,
         "_deepnote_index_column": 45911
        },
        {
         "vin": "f9f14cc8f0891d7158cb72ffb949351b",
         "sequence": 1696,
         "start_lat": 39.906,
         "start_long": -82.961,
         "latitude": 39.945,
         "longitude": -82.936,
         "_deepnote_index_column": 45912
        },
        {
         "vin": "f9f14cc8f0891d7158cb72ffb949351b",
         "sequence": 1698,
         "start_lat": 39.946,
         "start_long": -82.936,
         "latitude": 39.948,
         "longitude": -82.939,
         "_deepnote_index_column": 45913
        },
        {
         "vin": "f9f14cc8f0891d7158cb72ffb949351b",
         "sequence": 1699,
         "start_lat": 39.948,
         "start_long": -82.941,
         "latitude": 40.05,
         "longitude": -83.124,
         "_deepnote_index_column": 45914
        },
        {
         "vin": "f9f14cc8f0891d7158cb72ffb949351b",
         "sequence": 1701,
         "start_lat": 40.05,
         "start_long": -83.124,
         "latitude": 40.068,
         "longitude": -83.02,
         "_deepnote_index_column": 45915
        },
        {
         "vin": "f9f14cc8f0891d7158cb72ffb949351b",
         "sequence": 1702,
         "start_lat": 40.068,
         "start_long": -83.019,
         "latitude": 40.034,
         "longitude": -83.034,
         "_deepnote_index_column": 45916
        },
        {
         "vin": "f9f14cc8f0891d7158cb72ffb949351b",
         "sequence": 1704,
         "start_lat": 40.034,
         "start_long": -83.034,
         "latitude": 40.068,
         "longitude": -83.02,
         "_deepnote_index_column": 45917
        },
        {
         "vin": "f9f14cc8f0891d7158cb72ffb949351b",
         "sequence": 1705,
         "start_lat": 40.068,
         "start_long": -83.02,
         "latitude": 40.031,
         "longitude": -83.035,
         "_deepnote_index_column": 45918
        },
        {
         "vin": "f9f14cc8f0891d7158cb72ffb949351b",
         "sequence": 1707,
         "start_lat": 40.031,
         "start_long": -83.035,
         "latitude": 39.944,
         "longitude": -82.937,
         "_deepnote_index_column": 45919
        },
        {
         "vin": "f9f14cc8f0891d7158cb72ffb949351b",
         "sequence": 1708,
         "start_lat": 39.944,
         "start_long": -82.937,
         "latitude": 39.938,
         "longitude": -82.793,
         "_deepnote_index_column": 45920
        },
        {
         "vin": "f9f14cc8f0891d7158cb72ffb949351b",
         "sequence": 1710,
         "start_lat": 39.938,
         "start_long": -82.793,
         "latitude": 39.941,
         "longitude": -82.791,
         "_deepnote_index_column": 45921
        },
        {
         "vin": "f9f14cc8f0891d7158cb72ffb949351b",
         "sequence": 1711,
         "start_lat": 39.941,
         "start_long": -82.791,
         "latitude": 39.944,
         "longitude": -82.937,
         "_deepnote_index_column": 45922
        },
        {
         "vin": "f9f14cc8f0891d7158cb72ffb949351b",
         "sequence": 1713,
         "start_lat": 39.944,
         "start_long": -82.937,
         "latitude": 40.068,
         "longitude": -83.02,
         "_deepnote_index_column": 45923
        },
        {
         "vin": "f9f14cc8f0891d7158cb72ffb949351b",
         "sequence": 1714,
         "start_lat": 40.068,
         "start_long": -83.02,
         "latitude": 40.032,
         "longitude": -83.031,
         "_deepnote_index_column": 45924
        },
        {
         "vin": "f9f14cc8f0891d7158cb72ffb949351b",
         "sequence": 1716,
         "start_lat": 40.031,
         "start_long": -83.035,
         "latitude": 39.906,
         "longitude": -82.961,
         "_deepnote_index_column": 45925
        }
       ],
       "rows_bottom": [
        {
         "vin": "f9f14cc8f0891d7158cb72ffb949351b",
         "sequence": 1937,
         "start_lat": 40.05,
         "start_long": -83.123,
         "latitude": 40.068,
         "longitude": -83.02,
         "_deepnote_index_column": 46062
        },
        {
         "vin": "f9f14cc8f0891d7158cb72ffb949351b",
         "sequence": 1939,
         "start_lat": 40.068,
         "start_long": -83.02,
         "latitude": 40.031,
         "longitude": -83.035,
         "_deepnote_index_column": 46063
        },
        {
         "vin": "f9f14cc8f0891d7158cb72ffb949351b",
         "sequence": 1940,
         "start_lat": 40.031,
         "start_long": -83.035,
         "latitude": 40.032,
         "longitude": -83.017,
         "_deepnote_index_column": 46064
        },
        {
         "vin": "f9f14cc8f0891d7158cb72ffb949351b",
         "sequence": 1942,
         "start_lat": 40.032,
         "start_long": -83.017,
         "latitude": 40.054,
         "longitude": -83.021,
         "_deepnote_index_column": 46065
        },
        {
         "vin": "f9f14cc8f0891d7158cb72ffb949351b",
         "sequence": 1943,
         "start_lat": 40.054,
         "start_long": -83.02,
         "latitude": 40.056,
         "longitude": -82.964,
         "_deepnote_index_column": 46066
        },
        {
         "vin": "f9f14cc8f0891d7158cb72ffb949351b",
         "sequence": 1945,
         "start_lat": 40.056,
         "start_long": -82.964,
         "latitude": 40.066,
         "longitude": -83.02,
         "_deepnote_index_column": 46067
        },
        {
         "vin": "f9f14cc8f0891d7158cb72ffb949351b",
         "sequence": 1946,
         "start_lat": 40.066,
         "start_long": -83.02,
         "latitude": 40.028,
         "longitude": -83.026,
         "_deepnote_index_column": 46068
        },
        {
         "vin": "f9f14cc8f0891d7158cb72ffb949351b",
         "sequence": 1948,
         "start_lat": 40.028,
         "start_long": -83.026,
         "latitude": 40.031,
         "longitude": -83.035,
         "_deepnote_index_column": 46069
        },
        {
         "vin": "f9f14cc8f0891d7158cb72ffb949351b",
         "sequence": 1950,
         "start_lat": 40.031,
         "start_long": -83.035,
         "latitude": 39.906,
         "longitude": -82.961,
         "_deepnote_index_column": 46070
        },
        {
         "vin": "f9f14cc8f0891d7158cb72ffb949351b",
         "sequence": 1951,
         "start_lat": 39.906,
         "start_long": -82.961,
         "latitude": 39.945,
         "longitude": -82.936,
         "_deepnote_index_column": 46071
        },
        {
         "vin": "f9f14cc8f0891d7158cb72ffb949351b",
         "sequence": 1953,
         "start_lat": 39.945,
         "start_long": -82.936,
         "latitude": 40.05,
         "longitude": -83.124,
         "_deepnote_index_column": 46072
        },
        {
         "vin": "f9f14cc8f0891d7158cb72ffb949351b",
         "sequence": 1954,
         "start_lat": 40.049,
         "start_long": -83.124,
         "latitude": 40.068,
         "longitude": -83.02,
         "_deepnote_index_column": 46073
        },
        {
         "vin": "f9f14cc8f0891d7158cb72ffb949351b",
         "sequence": 1956,
         "start_lat": 40.068,
         "start_long": -83.02,
         "latitude": 40.031,
         "longitude": -83.035,
         "_deepnote_index_column": 46074
        },
        {
         "vin": "f9f14cc8f0891d7158cb72ffb949351b",
         "sequence": 1957,
         "start_lat": 40.032,
         "start_long": -83.037,
         "latitude": 40.034,
         "longitude": -83.034,
         "_deepnote_index_column": 46075
        },
        {
         "vin": "f9f14cc8f0891d7158cb72ffb949351b",
         "sequence": 1959,
         "start_lat": 40.034,
         "start_long": -83.034,
         "latitude": 40.068,
         "longitude": -83.02,
         "_deepnote_index_column": 46076
        },
        {
         "vin": "f9f14cc8f0891d7158cb72ffb949351b",
         "sequence": 1960,
         "start_lat": 40.068,
         "start_long": -83.02,
         "latitude": 40.031,
         "longitude": -83.036,
         "_deepnote_index_column": 46077
        },
        {
         "vin": "f9f14cc8f0891d7158cb72ffb949351b",
         "sequence": 1962,
         "start_lat": 40.032,
         "start_long": -83.036,
         "latitude": 40.034,
         "longitude": -83.034,
         "_deepnote_index_column": 46078
        },
        {
         "vin": "f9f14cc8f0891d7158cb72ffb949351b",
         "sequence": 1963,
         "start_lat": 40.034,
         "start_long": -83.032,
         "latitude": 39.906,
         "longitude": -82.961,
         "_deepnote_index_column": 46079
        },
        {
         "vin": "f9f14cc8f0891d7158cb72ffb949351b",
         "sequence": 1965,
         "start_lat": 39.909,
         "start_long": -82.963,
         "latitude": 39.928,
         "longitude": -82.926,
         "_deepnote_index_column": 46080
        },
        {
         "vin": "f9f14cc8f0891d7158cb72ffb949351b",
         "sequence": 1966,
         "start_lat": 39.928,
         "start_long": -82.926,
         "latitude": 39.945,
         "longitude": -82.936,
         "_deepnote_index_column": 46081
        },
        {
         "vin": "f9f14cc8f0891d7158cb72ffb949351b",
         "sequence": 1968,
         "start_lat": 39.946,
         "start_long": -82.936,
         "latitude": 39.938,
         "longitude": -82.793,
         "_deepnote_index_column": 46082
        },
        {
         "vin": "f9f14cc8f0891d7158cb72ffb949351b",
         "sequence": 1969,
         "start_lat": 39.938,
         "start_long": -82.793,
         "latitude": 39.945,
         "longitude": -82.936,
         "_deepnote_index_column": 46083
        },
        {
         "vin": "f9f14cc8f0891d7158cb72ffb949351b",
         "sequence": 1971,
         "start_lat": 39.945,
         "start_long": -82.935,
         "latitude": 39.906,
         "longitude": -82.961,
         "_deepnote_index_column": 46084
        },
        {
         "vin": "f9f14cc8f0891d7158cb72ffb949351b",
         "sequence": 1972,
         "start_lat": 39.906,
         "start_long": -82.961,
         "latitude": 39.945,
         "longitude": -82.936,
         "_deepnote_index_column": 46085
        },
        {
         "vin": "f9f14cc8f0891d7158cb72ffb949351b",
         "sequence": 1974,
         "start_lat": 39.945,
         "start_long": -82.936,
         "latitude": 40.05,
         "longitude": -83.124,
         "_deepnote_index_column": 46086
        },
        {
         "vin": "f9f14cc8f0891d7158cb72ffb949351b",
         "sequence": 1975,
         "start_lat": 40.049,
         "start_long": -83.123,
         "latitude": 40.068,
         "longitude": -83.02,
         "_deepnote_index_column": 46087
        },
        {
         "vin": "f9f14cc8f0891d7158cb72ffb949351b",
         "sequence": 1977,
         "start_lat": 40.068,
         "start_long": -83.019,
         "latitude": 40.066,
         "longitude": -83.025,
         "_deepnote_index_column": 46088
        },
        {
         "vin": "f9f14cc8f0891d7158cb72ffb949351b",
         "sequence": 1978,
         "start_lat": 40.066,
         "start_long": -83.025,
         "latitude": 40.031,
         "longitude": -83.035,
         "_deepnote_index_column": 46089
        },
        {
         "vin": "f9f14cc8f0891d7158cb72ffb949351b",
         "sequence": 1980,
         "start_lat": 40.031,
         "start_long": -83.035,
         "latitude": 40.034,
         "longitude": -83.034,
         "_deepnote_index_column": 46090
        },
        {
         "vin": "f9f14cc8f0891d7158cb72ffb949351b",
         "sequence": 1981,
         "start_lat": 40.034,
         "start_long": -83.034,
         "latitude": 40.056,
         "longitude": -82.964,
         "_deepnote_index_column": 46091
        },
        {
         "vin": "f9f14cc8f0891d7158cb72ffb949351b",
         "sequence": 1983,
         "start_lat": 40.056,
         "start_long": -82.963,
         "latitude": 40.066,
         "longitude": -83.022,
         "_deepnote_index_column": 46092
        },
        {
         "vin": "f9f14cc8f0891d7158cb72ffb949351b",
         "sequence": 1984,
         "start_lat": 40.066,
         "start_long": -83.021,
         "latitude": 39.944,
         "longitude": -82.937,
         "_deepnote_index_column": 46093
        },
        {
         "vin": "f9f14cc8f0891d7158cb72ffb949351b",
         "sequence": 1986,
         "start_lat": 39.944,
         "start_long": -82.937,
         "latitude": 39.906,
         "longitude": -82.961,
         "_deepnote_index_column": 46094
        },
        {
         "vin": "f9f14cc8f0891d7158cb72ffb949351b",
         "sequence": 1987,
         "start_lat": 39.907,
         "start_long": -82.961,
         "latitude": 39.93,
         "longitude": -82.916,
         "_deepnote_index_column": 46095
        },
        {
         "vin": "f9f14cc8f0891d7158cb72ffb949351b",
         "sequence": 1989,
         "start_lat": 39.946,
         "start_long": -82.936,
         "latitude": 40.05,
         "longitude": -83.124,
         "_deepnote_index_column": 46096
        },
        {
         "vin": "f9f14cc8f0891d7158cb72ffb949351b",
         "sequence": 1990,
         "start_lat": 40.05,
         "start_long": -83.124,
         "latitude": 40.068,
         "longitude": -83.02,
         "_deepnote_index_column": 46097
        },
        {
         "vin": "f9f14cc8f0891d7158cb72ffb949351b",
         "sequence": 1992,
         "start_lat": 40.068,
         "start_long": -83.02,
         "latitude": 40.068,
         "longitude": -83.019,
         "_deepnote_index_column": 46098
        },
        {
         "vin": "f9f14cc8f0891d7158cb72ffb949351b",
         "sequence": 1993,
         "start_lat": 40.068,
         "start_long": -83.019,
         "latitude": 40.066,
         "longitude": -83.025,
         "_deepnote_index_column": 46099
        },
        {
         "vin": "f9f14cc8f0891d7158cb72ffb949351b",
         "sequence": 1995,
         "start_lat": 40.066,
         "start_long": -83.025,
         "latitude": 40.052,
         "longitude": -83.021,
         "_deepnote_index_column": 46100
        },
        {
         "vin": "f9f14cc8f0891d7158cb72ffb949351b",
         "sequence": 1996,
         "start_lat": 40.052,
         "start_long": -83.021,
         "latitude": 40.031,
         "longitude": -83.035,
         "_deepnote_index_column": 46101
        },
        {
         "vin": "f9f14cc8f0891d7158cb72ffb949351b",
         "sequence": 1998,
         "start_lat": 40.031,
         "start_long": -83.035,
         "latitude": 40.034,
         "longitude": -83.034,
         "_deepnote_index_column": 46102
        },
        {
         "vin": "f9f14cc8f0891d7158cb72ffb949351b",
         "sequence": 1999,
         "start_lat": 40.034,
         "start_long": -83.032,
         "latitude": 40.171,
         "longitude": -82.911,
         "_deepnote_index_column": 46103
        },
        {
         "vin": "f9f14cc8f0891d7158cb72ffb949351b",
         "sequence": 2001,
         "start_lat": 40.171,
         "start_long": -82.913,
         "latitude": 40.032,
         "longitude": -83.024,
         "_deepnote_index_column": 46104
        },
        {
         "vin": "f9f14cc8f0891d7158cb72ffb949351b",
         "sequence": 2002,
         "start_lat": 40.034,
         "start_long": -83.033,
         "latitude": 39.93,
         "longitude": -82.834,
         "_deepnote_index_column": 46105
        },
        {
         "vin": "f9f14cc8f0891d7158cb72ffb949351b",
         "sequence": 2006,
         "start_lat": 39.93,
         "start_long": -82.834,
         "latitude": 39.931,
         "longitude": -82.834,
         "_deepnote_index_column": 46106
        },
        {
         "vin": "f9f14cc8f0891d7158cb72ffb949351b",
         "sequence": 2008,
         "start_lat": 39.931,
         "start_long": -82.834,
         "latitude": 39.931,
         "longitude": -82.834,
         "_deepnote_index_column": 46107
        },
        {
         "vin": "f9f14cc8f0891d7158cb72ffb949351b",
         "sequence": 2010,
         "start_lat": 39.931,
         "start_long": -82.834,
         "latitude": 39.93,
         "longitude": -82.834,
         "_deepnote_index_column": 46108
        },
        {
         "vin": "f9f14cc8f0891d7158cb72ffb949351b",
         "sequence": 2011,
         "start_lat": 39.93,
         "start_long": -82.834,
         "latitude": 39.944,
         "longitude": -82.937,
         "_deepnote_index_column": 46109
        },
        {
         "vin": "f9f14cc8f0891d7158cb72ffb949351b",
         "sequence": 2013,
         "start_lat": 39.945,
         "start_long": -82.936,
         "latitude": 39.906,
         "longitude": -82.961,
         "_deepnote_index_column": 46110
        },
        {
         "vin": "f9f14cc8f0891d7158cb72ffb949351b",
         "sequence": 2014,
         "start_lat": 39.906,
         "start_long": -82.961,
         "latitude": 39.979,
         "longitude": -82.861,
         "_deepnote_index_column": 46111
        },
        {
         "vin": "f9f14cc8f0891d7158cb72ffb949351b",
         "sequence": 2016,
         "start_lat": 39.979,
         "start_long": -82.861,
         "latitude": 39.911,
         "longitude": -82.783,
         "_deepnote_index_column": 46112
        },
        {
         "vin": "f9f14cc8f0891d7158cb72ffb949351b",
         "sequence": 2017,
         "start_lat": 39.911,
         "start_long": -82.784,
         "latitude": 39.917,
         "longitude": -82.914,
         "_deepnote_index_column": 46113
        },
        {
         "vin": "f9f14cc8f0891d7158cb72ffb949351b",
         "sequence": 2018,
         "start_lat": 39.917,
         "start_long": -82.914,
         "latitude": 39.906,
         "longitude": -82.961,
         "_deepnote_index_column": 46114
        },
        {
         "vin": "f9f14cc8f0891d7158cb72ffb949351b",
         "sequence": 2020,
         "start_lat": 39.906,
         "start_long": -82.961,
         "latitude": 39.945,
         "longitude": -82.936,
         "_deepnote_index_column": 46115
        },
        {
         "vin": "f9f14cc8f0891d7158cb72ffb949351b",
         "sequence": 2021,
         "start_lat": 39.946,
         "start_long": -82.937,
         "latitude": 39.948,
         "longitude": -82.938,
         "_deepnote_index_column": 46116
        },
        {
         "vin": "f9f14cc8f0891d7158cb72ffb949351b",
         "sequence": 2023,
         "start_lat": 39.948,
         "start_long": -82.94,
         "latitude": 40.068,
         "longitude": -83.02,
         "_deepnote_index_column": 46117
        },
        {
         "vin": "f9f14cc8f0891d7158cb72ffb949351b",
         "sequence": 2024,
         "start_lat": 40.067,
         "start_long": -83.019,
         "latitude": 40.074,
         "longitude": -82.852,
         "_deepnote_index_column": 46118
        },
        {
         "vin": "f9f14cc8f0891d7158cb72ffb949351b",
         "sequence": 2026,
         "start_lat": 40.074,
         "start_long": -82.853,
         "latitude": 40.031,
         "longitude": -83.035,
         "_deepnote_index_column": 46119
        },
        {
         "vin": "f9f14cc8f0891d7158cb72ffb949351b",
         "sequence": 2027,
         "start_lat": 40.031,
         "start_long": -83.035,
         "latitude": 39.945,
         "longitude": -82.936,
         "_deepnote_index_column": 46120
        },
        {
         "vin": "f9f14cc8f0891d7158cb72ffb949351b",
         "sequence": 2029,
         "start_lat": 39.945,
         "start_long": -82.935,
         "latitude": 39.844,
         "longitude": -82.823,
         "_deepnote_index_column": 46121
        },
        {
         "vin": "f9f14cc8f0891d7158cb72ffb949351b",
         "sequence": 2030,
         "start_lat": 39.845,
         "start_long": -82.823,
         "latitude": 39.911,
         "longitude": -82.784,
         "_deepnote_index_column": 46122
        },
        {
         "vin": "f9f14cc8f0891d7158cb72ffb949351b",
         "sequence": 2032,
         "start_lat": 39.911,
         "start_long": -82.785,
         "latitude": 39.906,
         "longitude": -82.961,
         "_deepnote_index_column": 46123
        },
        {
         "vin": "f9f14cc8f0891d7158cb72ffb949351b",
         "sequence": 2033,
         "start_lat": 39.906,
         "start_long": -82.961,
         "latitude": 39.945,
         "longitude": -82.935,
         "_deepnote_index_column": 46124
        },
        {
         "vin": "f9f14cc8f0891d7158cb72ffb949351b",
         "sequence": 2035,
         "start_lat": 39.945,
         "start_long": -82.935,
         "latitude": 39.906,
         "longitude": -82.961,
         "_deepnote_index_column": 46125
        },
        {
         "vin": "f9f14cc8f0891d7158cb72ffb949351b",
         "sequence": 2036,
         "start_lat": 39.908,
         "start_long": -82.958,
         "latitude": 39.945,
         "longitude": -82.936,
         "_deepnote_index_column": 46126
        },
        {
         "vin": "f9f14cc8f0891d7158cb72ffb949351b",
         "sequence": 2038,
         "start_lat": 39.945,
         "start_long": -82.936,
         "latitude": 39.939,
         "longitude": -82.931,
         "_deepnote_index_column": 46127
        },
        {
         "vin": "f9f14cc8f0891d7158cb72ffb949351b",
         "sequence": 2039,
         "start_lat": 39.94,
         "start_long": -82.931,
         "latitude": 39.945,
         "longitude": -82.936,
         "_deepnote_index_column": 46128
        },
        {
         "vin": "f9f14cc8f0891d7158cb72ffb949351b",
         "sequence": 2041,
         "start_lat": 39.946,
         "start_long": -82.936,
         "latitude": 40.031,
         "longitude": -83.035,
         "_deepnote_index_column": 46129
        },
        {
         "vin": "f9f14cc8f0891d7158cb72ffb949351b",
         "sequence": 2042,
         "start_lat": 40.032,
         "start_long": -83.036,
         "latitude": 39.906,
         "longitude": -82.961,
         "_deepnote_index_column": 46130
        },
        {
         "vin": "f9f14cc8f0891d7158cb72ffb949351b",
         "sequence": 2044,
         "start_lat": 39.906,
         "start_long": -82.961,
         "latitude": 39.945,
         "longitude": -82.936,
         "_deepnote_index_column": 46131
        },
        {
         "vin": "f9f14cc8f0891d7158cb72ffb949351b",
         "sequence": 2045,
         "start_lat": 39.946,
         "start_long": -82.936,
         "latitude": 40.05,
         "longitude": -83.124,
         "_deepnote_index_column": 46132
        },
        {
         "vin": "f9f14cc8f0891d7158cb72ffb949351b",
         "sequence": 2047,
         "start_lat": 40.049,
         "start_long": -83.124,
         "latitude": 40.052,
         "longitude": -83.021,
         "_deepnote_index_column": 46133
        },
        {
         "vin": "f9f14cc8f0891d7158cb72ffb949351b",
         "sequence": 2048,
         "start_lat": 40.052,
         "start_long": -83.02,
         "latitude": 40.068,
         "longitude": -83.02,
         "_deepnote_index_column": 46134
        },
        {
         "vin": "f9f14cc8f0891d7158cb72ffb949351b",
         "sequence": 2050,
         "start_lat": 40.067,
         "start_long": -83.019,
         "latitude": 40.074,
         "longitude": -82.852,
         "_deepnote_index_column": 46135
        },
        {
         "vin": "f9f14cc8f0891d7158cb72ffb949351b",
         "sequence": 2051,
         "start_lat": 40.074,
         "start_long": -82.852,
         "latitude": 40.034,
         "longitude": -83.034,
         "_deepnote_index_column": 46136
        },
        {
         "vin": "f9f14cc8f0891d7158cb72ffb949351b",
         "sequence": 2053,
         "start_lat": 40.034,
         "start_long": -83.034,
         "latitude": 39.944,
         "longitude": -82.937,
         "_deepnote_index_column": 46137
        },
        {
         "vin": "f9f14cc8f0891d7158cb72ffb949351b",
         "sequence": 2054,
         "start_lat": 39.944,
         "start_long": -82.936,
         "latitude": 39.906,
         "longitude": -82.961,
         "_deepnote_index_column": 46138
        },
        {
         "vin": "f9f14cc8f0891d7158cb72ffb949351b",
         "sequence": 2056,
         "start_lat": 39.907,
         "start_long": -82.961,
         "latitude": 39.979,
         "longitude": -82.861,
         "_deepnote_index_column": 46139
        },
        {
         "vin": "f9f14cc8f0891d7158cb72ffb949351b",
         "sequence": 2057,
         "start_lat": 39.979,
         "start_long": -82.861,
         "latitude": 39.944,
         "longitude": -82.937,
         "_deepnote_index_column": 46140
        },
        {
         "vin": "f9f14cc8f0891d7158cb72ffb949351b",
         "sequence": 2059,
         "start_lat": 39.944,
         "start_long": -82.937,
         "latitude": 39.906,
         "longitude": -82.961,
         "_deepnote_index_column": 46141
        },
        {
         "vin": "f9f14cc8f0891d7158cb72ffb949351b",
         "sequence": 2060,
         "start_lat": 39.906,
         "start_long": -82.961,
         "latitude": 39.938,
         "longitude": -82.793,
         "_deepnote_index_column": 46142
        },
        {
         "vin": "f9f14cc8f0891d7158cb72ffb949351b",
         "sequence": 2062,
         "start_lat": 39.938,
         "start_long": -82.793,
         "latitude": 39.938,
         "longitude": -82.793,
         "_deepnote_index_column": 46143
        },
        {
         "vin": "f9f14cc8f0891d7158cb72ffb949351b",
         "sequence": 2063,
         "start_lat": 39.938,
         "start_long": -82.793,
         "latitude": 39.911,
         "longitude": -82.783,
         "_deepnote_index_column": 46144
        }
       ]
      },
      "text/plain": "                                    vin  sequence  start_lat  start_long  \\\n45843  f9f14cc8f0891d7158cb72ffb949351b      1595     39.906     -82.961   \n45844  f9f14cc8f0891d7158cb72ffb949351b      1596     39.936     -82.930   \n45845  f9f14cc8f0891d7158cb72ffb949351b      1598     39.928     -82.925   \n45846  f9f14cc8f0891d7158cb72ffb949351b      1599     40.050     -83.124   \n45847  f9f14cc8f0891d7158cb72ffb949351b      1601     40.068     -83.020   \n...                                 ...       ...        ...         ...   \n46140  f9f14cc8f0891d7158cb72ffb949351b      2057     39.979     -82.861   \n46141  f9f14cc8f0891d7158cb72ffb949351b      2059     39.944     -82.937   \n46142  f9f14cc8f0891d7158cb72ffb949351b      2060     39.906     -82.961   \n46143  f9f14cc8f0891d7158cb72ffb949351b      2062     39.938     -82.793   \n46144  f9f14cc8f0891d7158cb72ffb949351b      2063     39.938     -82.793   \n\n       latitude  longitude  \n45843    39.936    -82.939  \n45844    39.928    -82.926  \n45845    40.050    -83.123  \n45846    40.068    -83.020  \n45847    40.171    -82.911  \n...         ...        ...  \n46140    39.944    -82.937  \n46141    39.906    -82.961  \n46142    39.938    -82.793  \n46143    39.938    -82.793  \n46144    39.911    -82.783  \n\n[302 rows x 6 columns]",
      "text/html": "<div>\n<style scoped>\n    .dataframe tbody tr th:only-of-type {\n        vertical-align: middle;\n    }\n\n    .dataframe tbody tr th {\n        vertical-align: top;\n    }\n\n    .dataframe thead th {\n        text-align: right;\n    }\n</style>\n<table border=\"1\" class=\"dataframe\">\n  <thead>\n    <tr style=\"text-align: right;\">\n      <th></th>\n      <th>vin</th>\n      <th>sequence</th>\n      <th>start_lat</th>\n      <th>start_long</th>\n      <th>latitude</th>\n      <th>longitude</th>\n    </tr>\n  </thead>\n  <tbody>\n    <tr>\n      <th>45843</th>\n      <td>f9f14cc8f0891d7158cb72ffb949351b</td>\n      <td>1595</td>\n      <td>39.906</td>\n      <td>-82.961</td>\n      <td>39.936</td>\n      <td>-82.939</td>\n    </tr>\n    <tr>\n      <th>45844</th>\n      <td>f9f14cc8f0891d7158cb72ffb949351b</td>\n      <td>1596</td>\n      <td>39.936</td>\n      <td>-82.930</td>\n      <td>39.928</td>\n      <td>-82.926</td>\n    </tr>\n    <tr>\n      <th>45845</th>\n      <td>f9f14cc8f0891d7158cb72ffb949351b</td>\n      <td>1598</td>\n      <td>39.928</td>\n      <td>-82.925</td>\n      <td>40.050</td>\n      <td>-83.123</td>\n    </tr>\n    <tr>\n      <th>45846</th>\n      <td>f9f14cc8f0891d7158cb72ffb949351b</td>\n      <td>1599</td>\n      <td>40.050</td>\n      <td>-83.124</td>\n      <td>40.068</td>\n      <td>-83.020</td>\n    </tr>\n    <tr>\n      <th>45847</th>\n      <td>f9f14cc8f0891d7158cb72ffb949351b</td>\n      <td>1601</td>\n      <td>40.068</td>\n      <td>-83.020</td>\n      <td>40.171</td>\n      <td>-82.911</td>\n    </tr>\n    <tr>\n      <th>...</th>\n      <td>...</td>\n      <td>...</td>\n      <td>...</td>\n      <td>...</td>\n      <td>...</td>\n      <td>...</td>\n    </tr>\n    <tr>\n      <th>46140</th>\n      <td>f9f14cc8f0891d7158cb72ffb949351b</td>\n      <td>2057</td>\n      <td>39.979</td>\n      <td>-82.861</td>\n      <td>39.944</td>\n      <td>-82.937</td>\n    </tr>\n    <tr>\n      <th>46141</th>\n      <td>f9f14cc8f0891d7158cb72ffb949351b</td>\n      <td>2059</td>\n      <td>39.944</td>\n      <td>-82.937</td>\n      <td>39.906</td>\n      <td>-82.961</td>\n    </tr>\n    <tr>\n      <th>46142</th>\n      <td>f9f14cc8f0891d7158cb72ffb949351b</td>\n      <td>2060</td>\n      <td>39.906</td>\n      <td>-82.961</td>\n      <td>39.938</td>\n      <td>-82.793</td>\n    </tr>\n    <tr>\n      <th>46143</th>\n      <td>f9f14cc8f0891d7158cb72ffb949351b</td>\n      <td>2062</td>\n      <td>39.938</td>\n      <td>-82.793</td>\n      <td>39.938</td>\n      <td>-82.793</td>\n    </tr>\n    <tr>\n      <th>46144</th>\n      <td>f9f14cc8f0891d7158cb72ffb949351b</td>\n      <td>2063</td>\n      <td>39.938</td>\n      <td>-82.793</td>\n      <td>39.911</td>\n      <td>-82.783</td>\n    </tr>\n  </tbody>\n</table>\n<p>302 rows × 6 columns</p>\n</div>"
     },
     "metadata": {}
    }
   ]
  },
  {
   "cell_type": "code",
   "metadata": {
    "tags": [],
    "cell_id": "00008-f354c291-82fe-4562-ac28-985bf2a8e0c1",
    "deepnote_to_be_reexecuted": false,
    "source_hash": "b0dc2384",
    "execution_millis": 33,
    "execution_start": 1620331951445,
    "deepnote_cell_type": "code"
   },
   "source": "\"\"\"\n\nAdding a buffer to allow a  wiggle room of + or - 0.01 from the starting state or location for each car and trip.\n\nEach car can have the same trips to the same place, so we need to find all unique locations for each vin.\n\nStart with an empty dictionary and then add start lat and long locations for one car into it.\n\nThis cell was only used to view the output of the dictionary with locations and was later \nadded into a function that works for every car.\n\n\"\"\"\nnum = 1\nlocations = {}\nmy_buffer = 0.01\nfor i in np.arange(len(car_w_most_trips)):\n    in_chain = False\n    lat = car_w_most_trips.iloc[i, 2]\n    lon = car_w_most_trips.iloc[i, 3]\n    if (i == 0):\n        locations[num] = [lat, lon]\n        num+=1\n        continue\n    for val in locations.values():\n        lat_1 = val[0]\n        lon_1 = val[1]\n        if ((abs(lat_1 - lat) < my_buffer) and (abs(lon_1 - lon) < my_buffer)):\n            in_chain = True\n            break\n    if (not in_chain):\n        locations[num] = [lat, lon]\n        num+=1\nlocations",
   "execution_count": 62,
   "outputs": [
    {
     "output_type": "execute_result",
     "execution_count": 62,
     "data": {
      "text/plain": "{1: [39.906, -82.961],\n 2: [39.936, -82.93],\n 3: [40.05, -83.124],\n 4: [40.068, -83.02],\n 5: [40.171, -82.911],\n 6: [40.034, -83.033],\n 7: [39.938, -82.793],\n 8: [39.911, -82.783],\n 9: [40.074, -82.853],\n 10: [39.957, -82.901],\n 11: [39.881, -83.003],\n 12: [39.845, -82.823],\n 13: [39.917, -82.916],\n 14: [39.979, -82.861],\n 15: [40.052, -83.021],\n 16: [39.948, -82.939],\n 17: [39.96, -82.992],\n 18: [39.924, -82.832],\n 19: [40.032, -83.115],\n 20: [39.915, -82.877],\n 21: [39.925, -82.816],\n 22: [40.059, -82.969],\n 23: [40.054, -82.914],\n 24: [39.909, -82.824],\n 25: [39.923, -82.965],\n 26: [39.893, -82.957],\n 27: [40.055, -83.067],\n 28: [39.996, -83.027],\n 29: [40.034, -83.017],\n 30: [39.956, -82.869]}"
     },
     "metadata": {}
    }
   ]
  },
  {
   "cell_type": "code",
   "metadata": {
    "tags": [],
    "cell_id": "00011-074eeeed-0259-4929-a86d-a7716d26c244",
    "deepnote_to_be_reexecuted": false,
    "source_hash": "34e40a07",
    "execution_millis": 2,
    "execution_start": 1620331953377,
    "deepnote_cell_type": "code"
   },
   "source": "\"\"\"\n\nFunction that finds all the possible locations that each car might go to next given its latest \nlocation with a vin and dataframe argument.\n\nAdded a buffer to allow a  wiggle room of + or - 0.01 from the starting state or location for \neach car and trip since each car can have the same trips to the same place. Thus, we need to find \nall unique locations for each vin.\n\nAdded the location in the first row to begin with and didn't add locations that fell within the buffer zone\nsince they could've been considered the same. If the next location wasn't in the chain or buffer, \nthen we added it to the dictionary as a new location.\n\nStart with an empty dictionary and then add start lat and long locations for one car into it.\n\n    Arguments:\n    _ _ _ _ _ _ _ _ _ _ _ _ _\n    vin_string = string, vin number\n    dataframe = updateed and filtered dataframe from above\n    \n    Parameters:\n    _ _ _ _ _ _ _ _ _ _ _ _ _ \n    num = int, number of locations added to the dictionary\n    locations = dictionary, contains keys for each state and the corresponding lat and long for each\n    my_buffer = float, wiggle room of + or - 0.01\n    new_df = dataframe, only for one car (vin_string) and all columns\n    start_lat = float, start latitude for each trip for a given car\n    start_lon = float, start longitude for each trip for a given car\n    lat_1 = float, latitude for coordinates in location dictionary\n    lon_1 = float, latitude for coordinates in location dictionary\n\n    Returns:\n    _ _ _ _ _ _ _ _ _ _ _ _ _ \n    Dictionary with all possible locations a given car might go to next.\n\n\"\"\"\ndef vehicle_locations(vin_string, dataframe):\n    num = 1\n    locations = {}\n    my_buffer = 0.01\n    new_df = dataframe[dataframe[\"vin\"] == vin_string]\n    for i in np.arange(len(new_df)):\n        in_chain = False\n        start_lat = new_df.iloc[i, 2]\n        start_lon = new_df.iloc[i, 3]\n        if (i == 0):\n            locations[num] = [start_lat, start_lon]\n            num+=1\n            continue\n        for val in locations.values():\n            lat_1 = val[0]\n            lon_1 = val[1]\n            if ((abs(lat_1 - start_lat) < my_buffer) and (abs(lon_1 - start_lon) < my_buffer)):\n                in_chain = True\n                break\n        if (not in_chain):\n            locations[num] = [start_lat, start_lon]\n            num+=1\n    return locations",
   "execution_count": 63,
   "outputs": []
  },
  {
   "cell_type": "code",
   "source": "\"\"\"\n\nMake a Markov function for going from one state to another. This was only used to test the transition\nmatrix output, but we improved it later on in this notebook as make_markov_function().\n\n    Arguments:\n    _ _ _ _ _ _ _ _ _ _ _ _ _\n    i = int, current state (key for location in locations dictionary)\n    j = int, end state (key for location in locations dictionary)\n    \n    Parameters:\n    _ _ _ _ _ _ _ _ _ _ _ _ _ \n    i_lat = float, latitude for starting state i\n    i_lon = float, longitude for starting state i\n    j_lat = float, latitude for every other state j in the dictionary\n    j_lon = float, longitude for every other state j in the dictionary\n    first = dataframe, filter by start latitudes for state i that fall within the buffer\n    second = dataframe, filter by start longitudes for state i that fall within the buffer\n    third = dataframe, filter by end latitudes for state j that fall within the buffer\n    last = dataframe, filter by end longitudes for state j that fall within the buffer\n\n    Returns:\n    _ _ _ _ _ _ _ _ _ _ _ _ _ \n    Probability for going from one state to another based on locations in the dictionary.\n\n\"\"\"\ndef markov(i, j):\n    i_lat = locations.get(i)[0]\n    i_lon = locations.get(i)[1]\n    j_lat = locations.get(j)[0]\n    j_lon = locations.get(j)[1]\n\n    first = car_w_most_trips[abs(car_w_most_trips[\"start_lat\"] - i_lat) <= 0.01]\n    second = first[abs(first[\"start_long\"]- i_lon) <= 0.01]\n    third = second[abs(second[\"latitude\"] - j_lat) <= 0.01]\n    last = third[abs(third[\"longitude\"] - j_lon) <= 0.01]\n    return len(last)/len(second)",
   "metadata": {
    "tags": [],
    "cell_id": "00010-2f051ac6-2243-4163-8f81-fd693d322c0e",
    "deepnote_to_be_reexecuted": false,
    "source_hash": "72547acf",
    "execution_start": 1620333007415,
    "execution_millis": 0,
    "deepnote_cell_type": "code"
   },
   "outputs": [],
   "execution_count": 73
  },
  {
   "cell_type": "code",
   "metadata": {
    "tags": [],
    "cell_id": "00012-837ff7d5-d7eb-4500-88f9-b17f18b51616",
    "deepnote_to_be_reexecuted": false,
    "source_hash": "1150ffa1",
    "execution_millis": 3717,
    "execution_start": 1620332044509,
    "deepnote_cell_type": "code"
   },
   "source": "\"\"\"\n\nChecking the markov matrix for the one vehicle with most trips to visualize output.\n\n\"\"\"\nlocations_len = len(vehicle_locations(\"f9f14cc8f0891d7158cb72ffb949351b\", df))\ns = np.arange(1, locations_len + 1)\n\nreflecting_walk = MarkovChain.from_transition_function(s, markov)\nreflecting_walk",
   "execution_count": 67,
   "outputs": [
    {
     "output_type": "execute_result",
     "execution_count": 67,
     "data": {
      "text/plain": "          1         2         3         4         5         6         7   \\\n1   0.060000  0.600000  0.080000  0.040000  0.000000  0.000000  0.080000   \n2   0.314815  0.111111  0.296296  0.037037  0.000000  0.018519  0.037037   \n3   0.000000  0.083333  0.000000  0.625000  0.000000  0.125000  0.000000   \n4   0.025000  0.025000  0.025000  0.150000  0.025000  0.575000  0.000000   \n5   0.000000  0.000000  0.000000  0.000000  0.500000  0.500000  0.000000   \n6   0.270833  0.062500  0.000000  0.125000  0.020833  0.166667  0.020833   \n7   0.000000  0.400000  0.000000  0.000000  0.000000  0.000000  0.200000   \n8   0.500000  0.000000  0.000000  0.000000  0.000000  0.000000  0.100000   \n9   0.000000  0.000000  0.000000  0.125000  0.000000  0.875000  0.000000   \n10  0.666667  0.000000  0.000000  0.000000  0.000000  0.000000  0.000000   \n11  0.333333  0.000000  0.000000  0.000000  0.000000  0.000000  0.000000   \n12  0.000000  0.000000  0.000000  0.000000  0.000000  0.000000  0.000000   \n13  1.000000  0.000000  0.000000  0.000000  0.000000  0.000000  0.000000   \n14  0.000000  0.666667  0.000000  0.000000  0.000000  0.000000  0.000000   \n15  0.000000  0.142857  0.000000  0.285714  0.000000  0.142857  0.000000   \n16  0.309091  0.072727  0.309091  0.072727  0.000000  0.018182  0.036364   \n17  0.000000  0.000000  0.000000  0.000000  0.000000  0.000000  0.000000   \n18  0.000000  0.400000  0.000000  0.000000  0.000000  0.000000  0.000000   \n19  0.000000  0.000000  0.000000  0.000000  0.000000  1.000000  0.000000   \n20  0.000000  0.000000  0.000000  0.000000  0.000000  0.000000  0.000000   \n21  1.000000  0.000000  0.000000  0.000000  0.000000  0.000000  0.000000   \n22  0.166667  0.000000  0.000000  0.500000  0.000000  0.166667  0.000000   \n23  0.000000  0.000000  0.000000  0.000000  0.000000  0.000000  0.000000   \n24  1.000000  0.000000  0.000000  0.000000  0.000000  0.000000  0.000000   \n25  1.000000  0.000000  0.000000  0.000000  0.000000  0.000000  0.000000   \n26  0.000000  1.000000  0.000000  0.000000  0.000000  0.000000  0.000000   \n27  0.000000  0.000000  0.000000  1.000000  0.000000  0.000000  0.000000   \n28  0.000000  0.000000  0.000000  0.000000  0.000000  1.000000  0.000000   \n29  0.333333  0.000000  0.000000  0.000000  0.000000  0.333333  0.000000   \n30  0.333333  0.000000  0.000000  0.000000  0.000000  0.000000  0.000000   \n\n          8         9         10  ...   21        22        23   24        25  \\\n1   0.020000  0.000000  0.000000  ...  0.0  0.000000  0.000000  0.0  0.000000   \n2   0.018519  0.018519  0.000000  ...  0.0  0.000000  0.000000  0.0  0.000000   \n3   0.000000  0.000000  0.000000  ...  0.0  0.000000  0.000000  0.0  0.000000   \n4   0.000000  0.100000  0.000000  ...  0.0  0.000000  0.000000  0.0  0.000000   \n5   0.000000  0.000000  0.000000  ...  0.0  0.000000  0.000000  0.0  0.000000   \n6   0.000000  0.041667  0.041667  ...  0.0  0.083333  0.000000  0.0  0.020833   \n7   0.400000  0.000000  0.000000  ...  0.0  0.000000  0.000000  0.0  0.000000   \n8   0.000000  0.000000  0.000000  ...  0.0  0.000000  0.000000  0.1  0.000000   \n9   0.000000  0.000000  0.000000  ...  0.0  0.000000  0.000000  0.0  0.000000   \n10  0.000000  0.000000  0.333333  ...  0.0  0.000000  0.000000  0.0  0.000000   \n11  0.000000  0.000000  0.000000  ...  0.0  0.000000  0.000000  0.0  0.000000   \n12  1.000000  0.000000  0.000000  ...  0.0  0.000000  0.000000  0.0  0.000000   \n13  0.000000  0.000000  0.000000  ...  0.0  0.000000  0.000000  0.0  0.000000   \n14  0.333333  0.000000  0.000000  ...  0.0  0.000000  0.000000  0.0  0.000000   \n15  0.000000  0.142857  0.000000  ...  0.0  0.142857  0.000000  0.0  0.000000   \n16  0.018182  0.018182  0.000000  ...  0.0  0.000000  0.000000  0.0  0.000000   \n17  0.000000  0.000000  0.000000  ...  0.0  0.000000  0.000000  0.0  0.000000   \n18  0.000000  0.000000  0.000000  ...  0.0  0.000000  0.000000  0.0  0.000000   \n19  0.000000  0.000000  0.000000  ...  0.0  0.000000  0.000000  0.0  0.000000   \n20  0.000000  0.000000  0.000000  ...  1.0  0.000000  0.000000  0.0  0.000000   \n21  0.000000  0.000000  0.000000  ...  0.0  0.000000  0.000000  0.0  0.000000   \n22  0.000000  0.000000  0.000000  ...  0.0  0.000000  0.166667  0.0  0.000000   \n23  0.000000  0.000000  0.000000  ...  0.0  1.000000  0.000000  0.0  0.000000   \n24  0.000000  0.000000  0.000000  ...  0.0  0.000000  0.000000  0.0  0.000000   \n25  0.000000  0.000000  0.000000  ...  0.0  0.000000  0.000000  0.0  0.000000   \n26  0.000000  0.000000  0.000000  ...  0.0  0.000000  0.000000  0.0  0.000000   \n27  0.000000  0.000000  0.000000  ...  0.0  0.000000  0.000000  0.0  0.000000   \n28  0.000000  0.000000  0.000000  ...  0.0  0.000000  0.000000  0.0  0.000000   \n29  0.000000  0.000000  0.000000  ...  0.0  0.000000  0.000000  0.0  0.000000   \n30  0.000000  0.000000  0.000000  ...  0.0  0.000000  0.000000  0.0  0.000000   \n\n     26        27        28        29        30  \n1   0.0  0.000000  0.000000  0.000000  0.000000  \n2   0.0  0.000000  0.000000  0.000000  0.000000  \n3   0.0  0.041667  0.000000  0.000000  0.000000  \n4   0.0  0.000000  0.000000  0.025000  0.000000  \n5   0.0  0.000000  0.000000  0.250000  0.000000  \n6   0.0  0.000000  0.020833  0.041667  0.000000  \n7   0.0  0.000000  0.000000  0.000000  0.000000  \n8   0.0  0.000000  0.000000  0.000000  0.000000  \n9   0.0  0.000000  0.000000  0.000000  0.000000  \n10  0.0  0.000000  0.000000  0.000000  0.000000  \n11  0.0  0.000000  0.000000  0.000000  0.000000  \n12  0.0  0.000000  0.000000  0.000000  0.000000  \n13  0.0  0.000000  0.000000  0.000000  0.000000  \n14  0.0  0.000000  0.000000  0.000000  0.000000  \n15  0.0  0.000000  0.000000  0.000000  0.000000  \n16  0.0  0.000000  0.000000  0.000000  0.000000  \n17  0.0  0.000000  0.000000  0.000000  0.000000  \n18  0.0  0.000000  0.000000  0.000000  0.000000  \n19  0.0  0.000000  0.000000  0.000000  0.000000  \n20  0.0  0.000000  0.000000  0.000000  0.000000  \n21  0.0  0.000000  0.000000  0.000000  0.000000  \n22  0.0  0.000000  0.000000  0.000000  0.000000  \n23  0.0  0.000000  0.000000  0.000000  0.000000  \n24  0.0  0.000000  0.000000  0.000000  0.000000  \n25  0.0  0.000000  0.000000  0.000000  0.000000  \n26  0.0  0.000000  0.000000  0.000000  0.000000  \n27  0.0  0.000000  0.000000  0.000000  0.000000  \n28  0.0  0.000000  0.000000  0.000000  0.000000  \n29  0.0  0.000000  0.000000  0.000000  0.000000  \n30  0.0  0.000000  0.000000  0.000000  0.666667  \n\n[30 rows x 30 columns]",
      "text/html": "<div>\n<style scoped>\n    .dataframe tbody tr th:only-of-type {\n        vertical-align: middle;\n    }\n\n    .dataframe tbody tr th {\n        vertical-align: top;\n    }\n\n    .dataframe thead th {\n        text-align: right;\n    }\n</style>\n<table border=\"1\" class=\"dataframe\">\n  <thead>\n    <tr style=\"text-align: right;\">\n      <th></th>\n      <th>1</th>\n      <th>2</th>\n      <th>3</th>\n      <th>4</th>\n      <th>5</th>\n      <th>6</th>\n      <th>7</th>\n      <th>8</th>\n      <th>9</th>\n      <th>10</th>\n      <th>...</th>\n      <th>21</th>\n      <th>22</th>\n      <th>23</th>\n      <th>24</th>\n      <th>25</th>\n      <th>26</th>\n      <th>27</th>\n      <th>28</th>\n      <th>29</th>\n      <th>30</th>\n    </tr>\n  </thead>\n  <tbody>\n    <tr>\n      <th>1</th>\n      <td>0.060000</td>\n      <td>0.600000</td>\n      <td>0.080000</td>\n      <td>0.040000</td>\n      <td>0.000000</td>\n      <td>0.000000</td>\n      <td>0.080000</td>\n      <td>0.020000</td>\n      <td>0.000000</td>\n      <td>0.000000</td>\n      <td>...</td>\n      <td>0.0</td>\n      <td>0.000000</td>\n      <td>0.000000</td>\n      <td>0.0</td>\n      <td>0.000000</td>\n      <td>0.0</td>\n      <td>0.000000</td>\n      <td>0.000000</td>\n      <td>0.000000</td>\n      <td>0.000000</td>\n    </tr>\n    <tr>\n      <th>2</th>\n      <td>0.314815</td>\n      <td>0.111111</td>\n      <td>0.296296</td>\n      <td>0.037037</td>\n      <td>0.000000</td>\n      <td>0.018519</td>\n      <td>0.037037</td>\n      <td>0.018519</td>\n      <td>0.018519</td>\n      <td>0.000000</td>\n      <td>...</td>\n      <td>0.0</td>\n      <td>0.000000</td>\n      <td>0.000000</td>\n      <td>0.0</td>\n      <td>0.000000</td>\n      <td>0.0</td>\n      <td>0.000000</td>\n      <td>0.000000</td>\n      <td>0.000000</td>\n      <td>0.000000</td>\n    </tr>\n    <tr>\n      <th>3</th>\n      <td>0.000000</td>\n      <td>0.083333</td>\n      <td>0.000000</td>\n      <td>0.625000</td>\n      <td>0.000000</td>\n      <td>0.125000</td>\n      <td>0.000000</td>\n      <td>0.000000</td>\n      <td>0.000000</td>\n      <td>0.000000</td>\n      <td>...</td>\n      <td>0.0</td>\n      <td>0.000000</td>\n      <td>0.000000</td>\n      <td>0.0</td>\n      <td>0.000000</td>\n      <td>0.0</td>\n      <td>0.041667</td>\n      <td>0.000000</td>\n      <td>0.000000</td>\n      <td>0.000000</td>\n    </tr>\n    <tr>\n      <th>4</th>\n      <td>0.025000</td>\n      <td>0.025000</td>\n      <td>0.025000</td>\n      <td>0.150000</td>\n      <td>0.025000</td>\n      <td>0.575000</td>\n      <td>0.000000</td>\n      <td>0.000000</td>\n      <td>0.100000</td>\n      <td>0.000000</td>\n      <td>...</td>\n      <td>0.0</td>\n      <td>0.000000</td>\n      <td>0.000000</td>\n      <td>0.0</td>\n      <td>0.000000</td>\n      <td>0.0</td>\n      <td>0.000000</td>\n      <td>0.000000</td>\n      <td>0.025000</td>\n      <td>0.000000</td>\n    </tr>\n    <tr>\n      <th>5</th>\n      <td>0.000000</td>\n      <td>0.000000</td>\n      <td>0.000000</td>\n      <td>0.000000</td>\n      <td>0.500000</td>\n      <td>0.500000</td>\n      <td>0.000000</td>\n      <td>0.000000</td>\n      <td>0.000000</td>\n      <td>0.000000</td>\n      <td>...</td>\n      <td>0.0</td>\n      <td>0.000000</td>\n      <td>0.000000</td>\n      <td>0.0</td>\n      <td>0.000000</td>\n      <td>0.0</td>\n      <td>0.000000</td>\n      <td>0.000000</td>\n      <td>0.250000</td>\n      <td>0.000000</td>\n    </tr>\n    <tr>\n      <th>6</th>\n      <td>0.270833</td>\n      <td>0.062500</td>\n      <td>0.000000</td>\n      <td>0.125000</td>\n      <td>0.020833</td>\n      <td>0.166667</td>\n      <td>0.020833</td>\n      <td>0.000000</td>\n      <td>0.041667</td>\n      <td>0.041667</td>\n      <td>...</td>\n      <td>0.0</td>\n      <td>0.083333</td>\n      <td>0.000000</td>\n      <td>0.0</td>\n      <td>0.020833</td>\n      <td>0.0</td>\n      <td>0.000000</td>\n      <td>0.020833</td>\n      <td>0.041667</td>\n      <td>0.000000</td>\n    </tr>\n    <tr>\n      <th>7</th>\n      <td>0.000000</td>\n      <td>0.400000</td>\n      <td>0.000000</td>\n      <td>0.000000</td>\n      <td>0.000000</td>\n      <td>0.000000</td>\n      <td>0.200000</td>\n      <td>0.400000</td>\n      <td>0.000000</td>\n      <td>0.000000</td>\n      <td>...</td>\n      <td>0.0</td>\n      <td>0.000000</td>\n      <td>0.000000</td>\n      <td>0.0</td>\n      <td>0.000000</td>\n      <td>0.0</td>\n      <td>0.000000</td>\n      <td>0.000000</td>\n      <td>0.000000</td>\n      <td>0.000000</td>\n    </tr>\n    <tr>\n      <th>8</th>\n      <td>0.500000</td>\n      <td>0.000000</td>\n      <td>0.000000</td>\n      <td>0.000000</td>\n      <td>0.000000</td>\n      <td>0.000000</td>\n      <td>0.100000</td>\n      <td>0.000000</td>\n      <td>0.000000</td>\n      <td>0.000000</td>\n      <td>...</td>\n      <td>0.0</td>\n      <td>0.000000</td>\n      <td>0.000000</td>\n      <td>0.1</td>\n      <td>0.000000</td>\n      <td>0.0</td>\n      <td>0.000000</td>\n      <td>0.000000</td>\n      <td>0.000000</td>\n      <td>0.000000</td>\n    </tr>\n    <tr>\n      <th>9</th>\n      <td>0.000000</td>\n      <td>0.000000</td>\n      <td>0.000000</td>\n      <td>0.125000</td>\n      <td>0.000000</td>\n      <td>0.875000</td>\n      <td>0.000000</td>\n      <td>0.000000</td>\n      <td>0.000000</td>\n      <td>0.000000</td>\n      <td>...</td>\n      <td>0.0</td>\n      <td>0.000000</td>\n      <td>0.000000</td>\n      <td>0.0</td>\n      <td>0.000000</td>\n      <td>0.0</td>\n      <td>0.000000</td>\n      <td>0.000000</td>\n      <td>0.000000</td>\n      <td>0.000000</td>\n    </tr>\n    <tr>\n      <th>10</th>\n      <td>0.666667</td>\n      <td>0.000000</td>\n      <td>0.000000</td>\n      <td>0.000000</td>\n      <td>0.000000</td>\n      <td>0.000000</td>\n      <td>0.000000</td>\n      <td>0.000000</td>\n      <td>0.000000</td>\n      <td>0.333333</td>\n      <td>...</td>\n      <td>0.0</td>\n      <td>0.000000</td>\n      <td>0.000000</td>\n      <td>0.0</td>\n      <td>0.000000</td>\n      <td>0.0</td>\n      <td>0.000000</td>\n      <td>0.000000</td>\n      <td>0.000000</td>\n      <td>0.000000</td>\n    </tr>\n    <tr>\n      <th>11</th>\n      <td>0.333333</td>\n      <td>0.000000</td>\n      <td>0.000000</td>\n      <td>0.000000</td>\n      <td>0.000000</td>\n      <td>0.000000</td>\n      <td>0.000000</td>\n      <td>0.000000</td>\n      <td>0.000000</td>\n      <td>0.000000</td>\n      <td>...</td>\n      <td>0.0</td>\n      <td>0.000000</td>\n      <td>0.000000</td>\n      <td>0.0</td>\n      <td>0.000000</td>\n      <td>0.0</td>\n      <td>0.000000</td>\n      <td>0.000000</td>\n      <td>0.000000</td>\n      <td>0.000000</td>\n    </tr>\n    <tr>\n      <th>12</th>\n      <td>0.000000</td>\n      <td>0.000000</td>\n      <td>0.000000</td>\n      <td>0.000000</td>\n      <td>0.000000</td>\n      <td>0.000000</td>\n      <td>0.000000</td>\n      <td>1.000000</td>\n      <td>0.000000</td>\n      <td>0.000000</td>\n      <td>...</td>\n      <td>0.0</td>\n      <td>0.000000</td>\n      <td>0.000000</td>\n      <td>0.0</td>\n      <td>0.000000</td>\n      <td>0.0</td>\n      <td>0.000000</td>\n      <td>0.000000</td>\n      <td>0.000000</td>\n      <td>0.000000</td>\n    </tr>\n    <tr>\n      <th>13</th>\n      <td>1.000000</td>\n      <td>0.000000</td>\n      <td>0.000000</td>\n      <td>0.000000</td>\n      <td>0.000000</td>\n      <td>0.000000</td>\n      <td>0.000000</td>\n      <td>0.000000</td>\n      <td>0.000000</td>\n      <td>0.000000</td>\n      <td>...</td>\n      <td>0.0</td>\n      <td>0.000000</td>\n      <td>0.000000</td>\n      <td>0.0</td>\n      <td>0.000000</td>\n      <td>0.0</td>\n      <td>0.000000</td>\n      <td>0.000000</td>\n      <td>0.000000</td>\n      <td>0.000000</td>\n    </tr>\n    <tr>\n      <th>14</th>\n      <td>0.000000</td>\n      <td>0.666667</td>\n      <td>0.000000</td>\n      <td>0.000000</td>\n      <td>0.000000</td>\n      <td>0.000000</td>\n      <td>0.000000</td>\n      <td>0.333333</td>\n      <td>0.000000</td>\n      <td>0.000000</td>\n      <td>...</td>\n      <td>0.0</td>\n      <td>0.000000</td>\n      <td>0.000000</td>\n      <td>0.0</td>\n      <td>0.000000</td>\n      <td>0.0</td>\n      <td>0.000000</td>\n      <td>0.000000</td>\n      <td>0.000000</td>\n      <td>0.000000</td>\n    </tr>\n    <tr>\n      <th>15</th>\n      <td>0.000000</td>\n      <td>0.142857</td>\n      <td>0.000000</td>\n      <td>0.285714</td>\n      <td>0.000000</td>\n      <td>0.142857</td>\n      <td>0.000000</td>\n      <td>0.000000</td>\n      <td>0.142857</td>\n      <td>0.000000</td>\n      <td>...</td>\n      <td>0.0</td>\n      <td>0.142857</td>\n      <td>0.000000</td>\n      <td>0.0</td>\n      <td>0.000000</td>\n      <td>0.0</td>\n      <td>0.000000</td>\n      <td>0.000000</td>\n      <td>0.000000</td>\n      <td>0.000000</td>\n    </tr>\n    <tr>\n      <th>16</th>\n      <td>0.309091</td>\n      <td>0.072727</td>\n      <td>0.309091</td>\n      <td>0.072727</td>\n      <td>0.000000</td>\n      <td>0.018182</td>\n      <td>0.036364</td>\n      <td>0.018182</td>\n      <td>0.018182</td>\n      <td>0.000000</td>\n      <td>...</td>\n      <td>0.0</td>\n      <td>0.000000</td>\n      <td>0.000000</td>\n      <td>0.0</td>\n      <td>0.000000</td>\n      <td>0.0</td>\n      <td>0.000000</td>\n      <td>0.000000</td>\n      <td>0.000000</td>\n      <td>0.000000</td>\n    </tr>\n    <tr>\n      <th>17</th>\n      <td>0.000000</td>\n      <td>0.000000</td>\n      <td>0.000000</td>\n      <td>0.000000</td>\n      <td>0.000000</td>\n      <td>0.000000</td>\n      <td>0.000000</td>\n      <td>0.000000</td>\n      <td>0.000000</td>\n      <td>0.000000</td>\n      <td>...</td>\n      <td>0.0</td>\n      <td>0.000000</td>\n      <td>0.000000</td>\n      <td>0.0</td>\n      <td>0.000000</td>\n      <td>0.0</td>\n      <td>0.000000</td>\n      <td>0.000000</td>\n      <td>0.000000</td>\n      <td>0.000000</td>\n    </tr>\n    <tr>\n      <th>18</th>\n      <td>0.000000</td>\n      <td>0.400000</td>\n      <td>0.000000</td>\n      <td>0.000000</td>\n      <td>0.000000</td>\n      <td>0.000000</td>\n      <td>0.000000</td>\n      <td>0.000000</td>\n      <td>0.000000</td>\n      <td>0.000000</td>\n      <td>...</td>\n      <td>0.0</td>\n      <td>0.000000</td>\n      <td>0.000000</td>\n      <td>0.0</td>\n      <td>0.000000</td>\n      <td>0.0</td>\n      <td>0.000000</td>\n      <td>0.000000</td>\n      <td>0.000000</td>\n      <td>0.000000</td>\n    </tr>\n    <tr>\n      <th>19</th>\n      <td>0.000000</td>\n      <td>0.000000</td>\n      <td>0.000000</td>\n      <td>0.000000</td>\n      <td>0.000000</td>\n      <td>1.000000</td>\n      <td>0.000000</td>\n      <td>0.000000</td>\n      <td>0.000000</td>\n      <td>0.000000</td>\n      <td>...</td>\n      <td>0.0</td>\n      <td>0.000000</td>\n      <td>0.000000</td>\n      <td>0.0</td>\n      <td>0.000000</td>\n      <td>0.0</td>\n      <td>0.000000</td>\n      <td>0.000000</td>\n      <td>0.000000</td>\n      <td>0.000000</td>\n    </tr>\n    <tr>\n      <th>20</th>\n      <td>0.000000</td>\n      <td>0.000000</td>\n      <td>0.000000</td>\n      <td>0.000000</td>\n      <td>0.000000</td>\n      <td>0.000000</td>\n      <td>0.000000</td>\n      <td>0.000000</td>\n      <td>0.000000</td>\n      <td>0.000000</td>\n      <td>...</td>\n      <td>1.0</td>\n      <td>0.000000</td>\n      <td>0.000000</td>\n      <td>0.0</td>\n      <td>0.000000</td>\n      <td>0.0</td>\n      <td>0.000000</td>\n      <td>0.000000</td>\n      <td>0.000000</td>\n      <td>0.000000</td>\n    </tr>\n    <tr>\n      <th>21</th>\n      <td>1.000000</td>\n      <td>0.000000</td>\n      <td>0.000000</td>\n      <td>0.000000</td>\n      <td>0.000000</td>\n      <td>0.000000</td>\n      <td>0.000000</td>\n      <td>0.000000</td>\n      <td>0.000000</td>\n      <td>0.000000</td>\n      <td>...</td>\n      <td>0.0</td>\n      <td>0.000000</td>\n      <td>0.000000</td>\n      <td>0.0</td>\n      <td>0.000000</td>\n      <td>0.0</td>\n      <td>0.000000</td>\n      <td>0.000000</td>\n      <td>0.000000</td>\n      <td>0.000000</td>\n    </tr>\n    <tr>\n      <th>22</th>\n      <td>0.166667</td>\n      <td>0.000000</td>\n      <td>0.000000</td>\n      <td>0.500000</td>\n      <td>0.000000</td>\n      <td>0.166667</td>\n      <td>0.000000</td>\n      <td>0.000000</td>\n      <td>0.000000</td>\n      <td>0.000000</td>\n      <td>...</td>\n      <td>0.0</td>\n      <td>0.000000</td>\n      <td>0.166667</td>\n      <td>0.0</td>\n      <td>0.000000</td>\n      <td>0.0</td>\n      <td>0.000000</td>\n      <td>0.000000</td>\n      <td>0.000000</td>\n      <td>0.000000</td>\n    </tr>\n    <tr>\n      <th>23</th>\n      <td>0.000000</td>\n      <td>0.000000</td>\n      <td>0.000000</td>\n      <td>0.000000</td>\n      <td>0.000000</td>\n      <td>0.000000</td>\n      <td>0.000000</td>\n      <td>0.000000</td>\n      <td>0.000000</td>\n      <td>0.000000</td>\n      <td>...</td>\n      <td>0.0</td>\n      <td>1.000000</td>\n      <td>0.000000</td>\n      <td>0.0</td>\n      <td>0.000000</td>\n      <td>0.0</td>\n      <td>0.000000</td>\n      <td>0.000000</td>\n      <td>0.000000</td>\n      <td>0.000000</td>\n    </tr>\n    <tr>\n      <th>24</th>\n      <td>1.000000</td>\n      <td>0.000000</td>\n      <td>0.000000</td>\n      <td>0.000000</td>\n      <td>0.000000</td>\n      <td>0.000000</td>\n      <td>0.000000</td>\n      <td>0.000000</td>\n      <td>0.000000</td>\n      <td>0.000000</td>\n      <td>...</td>\n      <td>0.0</td>\n      <td>0.000000</td>\n      <td>0.000000</td>\n      <td>0.0</td>\n      <td>0.000000</td>\n      <td>0.0</td>\n      <td>0.000000</td>\n      <td>0.000000</td>\n      <td>0.000000</td>\n      <td>0.000000</td>\n    </tr>\n    <tr>\n      <th>25</th>\n      <td>1.000000</td>\n      <td>0.000000</td>\n      <td>0.000000</td>\n      <td>0.000000</td>\n      <td>0.000000</td>\n      <td>0.000000</td>\n      <td>0.000000</td>\n      <td>0.000000</td>\n      <td>0.000000</td>\n      <td>0.000000</td>\n      <td>...</td>\n      <td>0.0</td>\n      <td>0.000000</td>\n      <td>0.000000</td>\n      <td>0.0</td>\n      <td>0.000000</td>\n      <td>0.0</td>\n      <td>0.000000</td>\n      <td>0.000000</td>\n      <td>0.000000</td>\n      <td>0.000000</td>\n    </tr>\n    <tr>\n      <th>26</th>\n      <td>0.000000</td>\n      <td>1.000000</td>\n      <td>0.000000</td>\n      <td>0.000000</td>\n      <td>0.000000</td>\n      <td>0.000000</td>\n      <td>0.000000</td>\n      <td>0.000000</td>\n      <td>0.000000</td>\n      <td>0.000000</td>\n      <td>...</td>\n      <td>0.0</td>\n      <td>0.000000</td>\n      <td>0.000000</td>\n      <td>0.0</td>\n      <td>0.000000</td>\n      <td>0.0</td>\n      <td>0.000000</td>\n      <td>0.000000</td>\n      <td>0.000000</td>\n      <td>0.000000</td>\n    </tr>\n    <tr>\n      <th>27</th>\n      <td>0.000000</td>\n      <td>0.000000</td>\n      <td>0.000000</td>\n      <td>1.000000</td>\n      <td>0.000000</td>\n      <td>0.000000</td>\n      <td>0.000000</td>\n      <td>0.000000</td>\n      <td>0.000000</td>\n      <td>0.000000</td>\n      <td>...</td>\n      <td>0.0</td>\n      <td>0.000000</td>\n      <td>0.000000</td>\n      <td>0.0</td>\n      <td>0.000000</td>\n      <td>0.0</td>\n      <td>0.000000</td>\n      <td>0.000000</td>\n      <td>0.000000</td>\n      <td>0.000000</td>\n    </tr>\n    <tr>\n      <th>28</th>\n      <td>0.000000</td>\n      <td>0.000000</td>\n      <td>0.000000</td>\n      <td>0.000000</td>\n      <td>0.000000</td>\n      <td>1.000000</td>\n      <td>0.000000</td>\n      <td>0.000000</td>\n      <td>0.000000</td>\n      <td>0.000000</td>\n      <td>...</td>\n      <td>0.0</td>\n      <td>0.000000</td>\n      <td>0.000000</td>\n      <td>0.0</td>\n      <td>0.000000</td>\n      <td>0.0</td>\n      <td>0.000000</td>\n      <td>0.000000</td>\n      <td>0.000000</td>\n      <td>0.000000</td>\n    </tr>\n    <tr>\n      <th>29</th>\n      <td>0.333333</td>\n      <td>0.000000</td>\n      <td>0.000000</td>\n      <td>0.000000</td>\n      <td>0.000000</td>\n      <td>0.333333</td>\n      <td>0.000000</td>\n      <td>0.000000</td>\n      <td>0.000000</td>\n      <td>0.000000</td>\n      <td>...</td>\n      <td>0.0</td>\n      <td>0.000000</td>\n      <td>0.000000</td>\n      <td>0.0</td>\n      <td>0.000000</td>\n      <td>0.0</td>\n      <td>0.000000</td>\n      <td>0.000000</td>\n      <td>0.000000</td>\n      <td>0.000000</td>\n    </tr>\n    <tr>\n      <th>30</th>\n      <td>0.333333</td>\n      <td>0.000000</td>\n      <td>0.000000</td>\n      <td>0.000000</td>\n      <td>0.000000</td>\n      <td>0.000000</td>\n      <td>0.000000</td>\n      <td>0.000000</td>\n      <td>0.000000</td>\n      <td>0.000000</td>\n      <td>...</td>\n      <td>0.0</td>\n      <td>0.000000</td>\n      <td>0.000000</td>\n      <td>0.0</td>\n      <td>0.000000</td>\n      <td>0.0</td>\n      <td>0.000000</td>\n      <td>0.000000</td>\n      <td>0.000000</td>\n      <td>0.666667</td>\n    </tr>\n  </tbody>\n</table>\n<p>30 rows × 30 columns</p>\n</div>"
     },
     "metadata": {}
    }
   ]
  },
  {
   "cell_type": "code",
   "metadata": {
    "tags": [],
    "cell_id": "00018-2ce5693b-9353-4aaf-ae7e-43717922c92c",
    "deepnote_to_be_reexecuted": false,
    "source_hash": "1c6fc5fa",
    "execution_millis": 4,
    "execution_start": 1620332054869,
    "deepnote_cell_type": "code"
   },
   "source": "\"\"\"\n\nMake a Markov function for all locations and states in the dictionary.\n\n    Arguments:\n    _ _ _ _ _ _ _ _ _ _ _ _ _\n    df = filtered dataframe created in the first cell of this notebook\n    vin = string, vehicle id number\n    locations = dictionary with all the next possible locations for a given vehicle\n    \n    Parameters:\n    _ _ _ _ _ _ _ _ _ _ _ _ _ \n    car = filtered dataframe for only one car\n    i_lat = float, latitude for starting state i\n    i_lon = float, longitude for starting state i\n    j_lat = float, latitude for every other state j in the dictionary\n    j_lon = float, longitude for every other state j in the dictionary\n    i_lat_buffer = dataframe, filter by start latitudes for state i that fall within the buffer\n    i_lon_buffer = dataframe, filter by start longitudes for state i that fall within the buffer\n    j_lat_buffer = dataframe, filter by end latitudes for state j that fall within the buffer\n    j_lon_buffer = dataframe, filter by end longitudes for state j that fall within the buffer\n\n    Returns:\n    _ _ _ _ _ _ _ _ _ _ _ _ _ \n    Markov function.\n\n\"\"\"\ndef make_markov_function(df, vin, locations):\n    car = df[df[\"vin\"] == vin]\n    def markov_function(i, j):\n        i_lat = locations.get(i)[0]\n        i_lon = locations.get(i)[1]\n        j_lat = locations.get(j)[0]\n        j_lon = locations.get(j)[1]\n\n        i_lat_buffer = car[abs(car[\"start_lat\"] - i_lat) <= 0.01]\n        i_lon_buffer = i_lat_buffer[abs(i_lat_buffer[\"start_long\"]- i_lon) <= 0.01]\n        if(len(i_lon_buffer) == 0):\n            return 0\n        j_lat_buffer = i_lon_buffer[abs(i_lon_buffer[\"latitude\"] - j_lat) <= 0.01]\n        j_lon_buffer = j_lat_buffer[abs(j_lat_buffer[\"longitude\"] - j_lon) <= 0.01]\n        return len(j_lon_buffer)/len(i_lon_buffer)\n    return markov_function",
   "execution_count": 68,
   "outputs": []
  },
  {
   "cell_type": "code",
   "source": "\"\"\"\nPredicts next location given the vehicle's last recorded location in the dataframe.\n\n    Arguments:\n    _ _ _ _ _ _ _ _ _ _ _ _ _\n    df = filtered dataframe created in the first cell of this notebook\n    vin = string, vehicle id number\n    \n    Parameters:\n    _ _ _ _ _ _ _ _ _ _ _ _ _ \n    locations = dictionary using vehicle_locations function from above\n    car = filtered dataframe for a given vin\n    last_row = most recent trip for one car\n    last_lat = float, most recent latitude for one car\n    last_lon = float, most recent longitude for one car\n    trans_func = transition function with all states and probabilities\n    num = list, contains all location keys\n    s = array, length of num list\n    random_walk = creates random walk for transition function\n    state = int, current state the vehicle is in\n    i_lat = latitude of given location in dictionary\n    i_lon = longitude of given location in dictionary\n    probabilities = list, contains the chances that our car moves from current state to any of the other already visited states\n\n    Returns:\n    _ _ _ _ _ _ _ _ _ _ _ _ _ \n    Location with the highest probability that the car will most likely go to next.\n\n\"\"\"\ndef get_next_location(vin, df):\n    locations = vehicle_locations(vin, df)\n    car = df[df[\"vin\"] == vin]\n    last_row = car.tail(1)\n    last_lat = float(last_row[\"latitude\"])\n    last_lon = float(last_row[\"longitude\"])\n\n    trans_func = make_markov_function(df, vin, locations)\n    num = list(locations.keys())[-1]\n    s = np.arange(1, num+1)\n    random_walk = MarkovChain.from_transition_function(s, trans_func)\n    \n    state = -1 #starting with a state that doesn't exist\n    for key in locations.keys():\n        i_lat = locations[key][0]\n        i_lon = locations[key][1]\n        if ((abs(i_lat - last_lat) <= 0.01) and (abs(i_lon - last_lon) <= 0.01)):\n            state = key\n            break\n    if (state == -1):\n        print(\"This car is in a new location. We cannot predict yet. sorry :(\")\n        return\n    probabilities = [] \n    for i in s:\n        probabilities.append(trans_func(state, i))\n    max_index = probabilities.index(max(probabilities))\n    pred_state = max_index + 1\n    return locations[pred_state]",
   "metadata": {
    "tags": [],
    "cell_id": "00011-c597e5fe-886c-412d-bb7a-6bbef6cd7973",
    "deepnote_to_be_reexecuted": false,
    "source_hash": "92861f09",
    "execution_start": 1620332055595,
    "execution_millis": 3,
    "deepnote_cell_type": "code"
   },
   "outputs": [],
   "execution_count": 69
  },
  {
   "cell_type": "code",
   "metadata": {
    "tags": [],
    "cell_id": "00024-cb5f2bd6-d49c-44b6-bdd7-ff46b2eaff6e",
    "deepnote_to_be_reexecuted": false,
    "source_hash": "1a0e9de4",
    "execution_millis": 4,
    "execution_start": 1620332057411,
    "deepnote_cell_type": "code"
   },
   "source": "\"\"\"\nImproved version of the get_next_location() function above.\n\nPredicts all next possible locations given the vehicle's last recorded location in the dataframe.\n\n    Arguments:\n    _ _ _ _ _ _ _ _ _ _ _ _ _\n    df = filtered dataframe created in the first cell of this notebook\n    vin = string, vehicle id number\n    \n    Parameters:\n    _ _ _ _ _ _ _ _ _ _ _ _ _ \n    locations = dictionary using vehicle_locations function from above\n    car = filtered dataframe for a given vin\n    last_row = most recent trip for one car\n    last_lat = float, most recent latitude for one car\n    last_lon = float, most recent longitude for one car\n    trans_func = transition function with all states and probabilities\n    num = list, contains all location keys\n    s = array, length of num list\n    random_walk = creates random walk for transition function\n    state = int, current state the vehicle is in\n    i_lat = latitude of given location in dictionary\n    i_lon = longitude of given location in dictionary\n    probabilities = list, contains the chances that our car moves from current state to any of the other already visited states\n    existing_lat = float, latitude for existing state in dictionary\n    existing_lon = float, longitude for existing state in dictionary\n    good_lat = dataframe, filtered by removing latitudes in the buffer zone\n    good_lat_n_lon = dataframe, filtered by removing both latitudes and longitudes in the buffer zone\n    proportion = int, proportion of possible locations within the overall dataset\n    sorted_locs = list, zipped probabilities and locations\n    sorted_probs = list, arranging all the locations based on probabilities from sorted_locs in descending order\n    df_latitudes = list, latitudes from sorted_locs\n    df_longitudes = list, longitudes from sorted_locs\n    df_probs = list, all probabilities for each location\n    prob_sum = int, sum of probabilities in sorted probability list (only considering sum of 80% for the most likely locations)\n    predicted_loc_df = dataframe, all predicted futures locations and chances for each\n\n    Returns:\n    _ _ _ _ _ _ _ _ _ _ _ _ _ \n    Dataframe with all the predicted latitudes and longitudes a given vehicle might go to next with the corresponding probabilities.\n    \n\"\"\"\n\ndef get_all_locations(vin, df):\n    locations = vehicle_locations(vin, df)\n    car = df[df[\"vin\"] == vin]\n    last_row = car.tail(1)\n    last_lat = float(last_row[\"latitude\"])\n    last_lon = float(last_row[\"longitude\"])\n\n    trans_func = make_markov_function(df, vin, locations)\n    num = list(locations.keys())[-1]\n    s = np.arange(1, num+1)\n    walk = MarkovChain.from_transition_function(s, trans_func)\n    \n    state = -1 #starting with a state that doesn't exist\n    for key in locations.keys():\n        i_lat = locations[key][0]\n        i_lon = locations[key][1]\n        if ((abs(i_lat - last_lat) <= 0.01) and (abs(i_lon - last_lon) <= 0.01)):\n            state = key\n            break\n    \n    probabilities = []\n    if (state == -1):\n        for existing_state in locations.keys():\n            existing_lat = locations[existing_state][0]\n            existing_lon = locations[existing_state][1]\n            good_lat = car[abs(car[\"latitude\"] - existing_lat) <= 0.01]\n            good_lat_n_lon = good_lat[abs(good_lat[\"longitude\"] - existing_lon) <= 0.01]\n            proportion = len(good_lat_n_lon)/len(car)\n            probabilities.append(proportion)\n    else:\n        for i in s:\n            probabilities.append(trans_func(state, i))\n    \n   \n    sorted_locs = [x for _, x in sorted(zip(probabilities, locations.values()), reverse=True)]\n    sorted_probs = sorted(probabilities, key = lambda x:float(x), reverse=True)\n    \n    df_latitudes = []\n    df_longitudes = []\n    df_probs = []\n    prob_sum = 0\n    for i in range(len(sorted_probs)):\n        if sorted_probs[i] > 0 and prob_sum < 0.8:\n            df_latitudes.append(sorted_locs[i][0])\n            df_longitudes.append(sorted_locs[i][1])\n            df_probs.append(sorted_probs[i])\n            prob_sum += sorted_probs[i]\n            # print(\"Location: \", sorted_locs[i] , \", Chance: \" , sorted_probs[i]*100, \"%\")\n    predicted_loc_df = pd.DataFrame({\"pred_lat\": df_latitudes, \"pred_lon\": df_longitudes, \"prob\": df_probs})\n    return predicted_loc_df",
   "execution_count": 70,
   "outputs": []
  },
  {
   "cell_type": "code",
   "metadata": {
    "tags": [],
    "cell_id": "00022-e9a5dbfd-e6bb-4c3b-a31a-3cf02e161f6c",
    "deepnote_to_be_reexecuted": false,
    "source_hash": "6b20d0ee",
    "execution_start": 1620332058913,
    "execution_millis": 2,
    "deepnote_cell_type": "code"
   },
   "source": "\"\"\"\nConverts all top future locations with corresponding probabilities for each vehicle in the dataset into a dataframe \nand appends each one into a large dataframe.\n\n    Arguments:\n    _ _ _ _ _ _ _ _ _ _ _ _ _\n    df = filtered dataframe created in the first cell of this notebook\n    \n    Parameters:\n    _ _ _ _ _ _ _ _ _ _ _ _ _ \n    all_vins = series of strings for all vins in the dataframe\n    master_df = dataframe with columns for vin, predicted latitude, predicted longitude, and probabilities\n    baby_df = dataframe with future locations and probabilities for one car\n\n    Returns:\n    _ _ _ _ _ _ _ _ _ _ _ _ _ \n    Large dataframe for all vehicles in the dataset with top future locations and corresponding probabilities.\n    \n\"\"\"\ndef master_location_predictions(df):\n    all_vins = df[\"vin\"].unique()\n    master_df = pd.DataFrame(columns=[\"vin\", \"pred_lat\", \"pred_lon\", \"prob\"])\n    for vin in all_vins:\n        baby_df = get_all_locations(vin, df)\n        baby_df[\"vin\"] = vin\n        baby_df = baby_df[[\"vin\", \"pred_lat\", \"pred_lon\", \"prob\"]]\n        master_df = master_df.append(baby_df)\n    return master_df",
   "execution_count": 71,
   "outputs": []
  },
  {
   "cell_type": "code",
   "metadata": {
    "tags": [],
    "cell_id": "00022-dd9f40d1-07cc-4283-a629-144a09c730b4",
    "deepnote_to_be_reexecuted": false,
    "source_hash": "a3f9e225",
    "execution_start": 1620332060741,
    "execution_millis": 946681,
    "output_cleared": false,
    "deepnote_cell_type": "code"
   },
   "source": "\"\"\"\n\nView large dataframe from master_location_predictions() function.\n\n\"\"\"\n\nmaster_dataframe = master_location_predictions(df)\nmaster_dataframe.head(10)",
   "execution_count": 72,
   "outputs": [
    {
     "output_type": "execute_result",
     "execution_count": 72,
     "data": {
      "application/vnd.deepnote.dataframe.v2+json": {
       "row_count": 10,
       "column_count": 4,
       "columns": [
        {
         "name": "vin",
         "dtype": "object",
         "stats": {
          "unique_count": 5,
          "nan_count": 0,
          "categories": [
           {
            "name": "00c85a67f339889c5cb0f5407156c01e",
            "count": 5
           },
           {
            "name": "008beb5671fb49a92dc0ef9de96979bf",
            "count": 2
           },
           {
            "name": "3 others",
            "count": 3
           }
          ]
         }
        },
        {
         "name": "pred_lat",
         "dtype": "float64",
         "stats": {
          "unique_count": 10,
          "nan_count": 0,
          "min": "39.931",
          "max": "41.492",
          "histogram": [
           {
            "bin_start": 39.931,
            "bin_end": 40.0871,
            "count": 3
           },
           {
            "bin_start": 40.0871,
            "bin_end": 40.243199999999995,
            "count": 4
           },
           {
            "bin_start": 40.243199999999995,
            "bin_end": 40.3993,
            "count": 0
           },
           {
            "bin_start": 40.3993,
            "bin_end": 40.5554,
            "count": 0
           },
           {
            "bin_start": 40.5554,
            "bin_end": 40.7115,
            "count": 0
           },
           {
            "bin_start": 40.7115,
            "bin_end": 40.867599999999996,
            "count": 0
           },
           {
            "bin_start": 40.867599999999996,
            "bin_end": 41.0237,
            "count": 1
           },
           {
            "bin_start": 41.0237,
            "bin_end": 41.1798,
            "count": 0
           },
           {
            "bin_start": 41.1798,
            "bin_end": 41.335899999999995,
            "count": 0
           },
           {
            "bin_start": 41.335899999999995,
            "bin_end": 41.492,
            "count": 2
           }
          ]
         }
        },
        {
         "name": "pred_lon",
         "dtype": "float64",
         "stats": {
          "unique_count": 10,
          "nan_count": 0,
          "min": "-83.017",
          "max": "-81.487",
          "histogram": [
           {
            "bin_start": -83.017,
            "bin_end": -82.86399999999999,
            "count": 5
           },
           {
            "bin_start": -82.86399999999999,
            "bin_end": -82.711,
            "count": 2
           },
           {
            "bin_start": -82.711,
            "bin_end": -82.55799999999999,
            "count": 0
           },
           {
            "bin_start": -82.55799999999999,
            "bin_end": -82.405,
            "count": 0
           },
           {
            "bin_start": -82.405,
            "bin_end": -82.252,
            "count": 0
           },
           {
            "bin_start": -82.252,
            "bin_end": -82.09899999999999,
            "count": 0
           },
           {
            "bin_start": -82.09899999999999,
            "bin_end": -81.946,
            "count": 1
           },
           {
            "bin_start": -81.946,
            "bin_end": -81.79299999999999,
            "count": 0
           },
           {
            "bin_start": -81.79299999999999,
            "bin_end": -81.64,
            "count": 0
           },
           {
            "bin_start": -81.64,
            "bin_end": -81.487,
            "count": 2
           }
          ]
         }
        },
        {
         "name": "prob",
         "dtype": "float64",
         "stats": {
          "unique_count": 6,
          "nan_count": 0,
          "min": "0.1111111111111111",
          "max": "0.75",
          "histogram": [
           {
            "bin_start": 0.1111111111111111,
            "bin_end": 0.175,
            "count": 4
           },
           {
            "bin_start": 0.175,
            "bin_end": 0.23888888888888887,
            "count": 0
           },
           {
            "bin_start": 0.23888888888888887,
            "bin_end": 0.30277777777777776,
            "count": 2
           },
           {
            "bin_start": 0.30277777777777776,
            "bin_end": 0.36666666666666664,
            "count": 0
           },
           {
            "bin_start": 0.36666666666666664,
            "bin_end": 0.4305555555555555,
            "count": 0
           },
           {
            "bin_start": 0.4305555555555555,
            "bin_end": 0.4944444444444444,
            "count": 2
           },
           {
            "bin_start": 0.4944444444444444,
            "bin_end": 0.5583333333333333,
            "count": 0
           },
           {
            "bin_start": 0.5583333333333333,
            "bin_end": 0.6222222222222222,
            "count": 0
           },
           {
            "bin_start": 0.6222222222222222,
            "bin_end": 0.6861111111111111,
            "count": 1
           },
           {
            "bin_start": 0.6861111111111111,
            "bin_end": 0.75,
            "count": 1
           }
          ]
         }
        },
        {
         "name": "_deepnote_index_column",
         "dtype": "int64"
        }
       ],
       "rows_top": [
        {
         "vin": "005b420fd9275f080ad79e1c4330357e",
         "pred_lat": 41.409,
         "pred_lon": -81.497,
         "prob": 0.6666666666666666,
         "_deepnote_index_column": 0
        },
        {
         "vin": "008beb5671fb49a92dc0ef9de96979bf",
         "pred_lat": 40.149,
         "pred_lon": -82.904,
         "prob": 0.75,
         "_deepnote_index_column": 0
        },
        {
         "vin": "008beb5671fb49a92dc0ef9de96979bf",
         "pred_lat": 40.148,
         "pred_lon": -82.921,
         "prob": 0.25,
         "_deepnote_index_column": 1
        },
        {
         "vin": "00c85a67f339889c5cb0f5407156c01e",
         "pred_lat": 40.087,
         "pred_lon": -82.833,
         "prob": 0.4444444444444444,
         "_deepnote_index_column": 0
        },
        {
         "vin": "00c85a67f339889c5cb0f5407156c01e",
         "pred_lat": 40.996,
         "pred_lon": -81.997,
         "prob": 0.1111111111111111,
         "_deepnote_index_column": 1
        },
        {
         "vin": "00c85a67f339889c5cb0f5407156c01e",
         "pred_lat": 40.147,
         "pred_lon": -82.937,
         "prob": 0.1111111111111111,
         "_deepnote_index_column": 2
        },
        {
         "vin": "00c85a67f339889c5cb0f5407156c01e",
         "pred_lat": 40.132,
         "pred_lon": -83.017,
         "prob": 0.1111111111111111,
         "_deepnote_index_column": 3
        },
        {
         "vin": "00c85a67f339889c5cb0f5407156c01e",
         "pred_lat": 39.931,
         "pred_lon": -82.834,
         "prob": 0.1111111111111111,
         "_deepnote_index_column": 4
        },
        {
         "vin": "00daedebd0d851923f840d67403e58a6",
         "pred_lat": 41.492,
         "pred_lon": -81.487,
         "prob": 0.25,
         "_deepnote_index_column": 0
        },
        {
         "vin": "00f3381dd2f2ab78011c562fa6127df7",
         "pred_lat": 39.959,
         "pred_lon": -82.985,
         "prob": 0.4642857142857143,
         "_deepnote_index_column": 0
        }
       ],
       "rows_bottom": null
      },
      "text/plain": "                                vin  pred_lat  pred_lon      prob\n0  005b420fd9275f080ad79e1c4330357e    41.409   -81.497  0.666667\n0  008beb5671fb49a92dc0ef9de96979bf    40.149   -82.904  0.750000\n1  008beb5671fb49a92dc0ef9de96979bf    40.148   -82.921  0.250000\n0  00c85a67f339889c5cb0f5407156c01e    40.087   -82.833  0.444444\n1  00c85a67f339889c5cb0f5407156c01e    40.996   -81.997  0.111111\n2  00c85a67f339889c5cb0f5407156c01e    40.147   -82.937  0.111111\n3  00c85a67f339889c5cb0f5407156c01e    40.132   -83.017  0.111111\n4  00c85a67f339889c5cb0f5407156c01e    39.931   -82.834  0.111111\n0  00daedebd0d851923f840d67403e58a6    41.492   -81.487  0.250000\n0  00f3381dd2f2ab78011c562fa6127df7    39.959   -82.985  0.464286",
      "text/html": "<div>\n<style scoped>\n    .dataframe tbody tr th:only-of-type {\n        vertical-align: middle;\n    }\n\n    .dataframe tbody tr th {\n        vertical-align: top;\n    }\n\n    .dataframe thead th {\n        text-align: right;\n    }\n</style>\n<table border=\"1\" class=\"dataframe\">\n  <thead>\n    <tr style=\"text-align: right;\">\n      <th></th>\n      <th>vin</th>\n      <th>pred_lat</th>\n      <th>pred_lon</th>\n      <th>prob</th>\n    </tr>\n  </thead>\n  <tbody>\n    <tr>\n      <th>0</th>\n      <td>005b420fd9275f080ad79e1c4330357e</td>\n      <td>41.409</td>\n      <td>-81.497</td>\n      <td>0.666667</td>\n    </tr>\n    <tr>\n      <th>0</th>\n      <td>008beb5671fb49a92dc0ef9de96979bf</td>\n      <td>40.149</td>\n      <td>-82.904</td>\n      <td>0.750000</td>\n    </tr>\n    <tr>\n      <th>1</th>\n      <td>008beb5671fb49a92dc0ef9de96979bf</td>\n      <td>40.148</td>\n      <td>-82.921</td>\n      <td>0.250000</td>\n    </tr>\n    <tr>\n      <th>0</th>\n      <td>00c85a67f339889c5cb0f5407156c01e</td>\n      <td>40.087</td>\n      <td>-82.833</td>\n      <td>0.444444</td>\n    </tr>\n    <tr>\n      <th>1</th>\n      <td>00c85a67f339889c5cb0f5407156c01e</td>\n      <td>40.996</td>\n      <td>-81.997</td>\n      <td>0.111111</td>\n    </tr>\n    <tr>\n      <th>2</th>\n      <td>00c85a67f339889c5cb0f5407156c01e</td>\n      <td>40.147</td>\n      <td>-82.937</td>\n      <td>0.111111</td>\n    </tr>\n    <tr>\n      <th>3</th>\n      <td>00c85a67f339889c5cb0f5407156c01e</td>\n      <td>40.132</td>\n      <td>-83.017</td>\n      <td>0.111111</td>\n    </tr>\n    <tr>\n      <th>4</th>\n      <td>00c85a67f339889c5cb0f5407156c01e</td>\n      <td>39.931</td>\n      <td>-82.834</td>\n      <td>0.111111</td>\n    </tr>\n    <tr>\n      <th>0</th>\n      <td>00daedebd0d851923f840d67403e58a6</td>\n      <td>41.492</td>\n      <td>-81.487</td>\n      <td>0.250000</td>\n    </tr>\n    <tr>\n      <th>0</th>\n      <td>00f3381dd2f2ab78011c562fa6127df7</td>\n      <td>39.959</td>\n      <td>-82.985</td>\n      <td>0.464286</td>\n    </tr>\n  </tbody>\n</table>\n</div>"
     },
     "metadata": {}
    }
   ]
  },
  {
   "cell_type": "code",
   "metadata": {
    "tags": [],
    "cell_id": "00027-e8328edb-daaf-492a-aeb9-e78b15f239e3",
    "deepnote_to_be_reexecuted": false,
    "source_hash": "2a25bf8c",
    "execution_start": 1620333013008,
    "execution_millis": 64,
    "deepnote_cell_type": "code"
   },
   "source": "\"\"\"\n\nConvert large dataframe from the output of master_location_predictions() into csv file to add dwell times for each.\n\n\"\"\"\nmaster_dataframe.to_csv('/work/Data/locationpredictions.csv')",
   "execution_count": 74,
   "outputs": []
  },
  {
   "cell_type": "code",
   "metadata": {
    "tags": [],
    "cell_id": "00023-b5dbab28-675c-497e-bdfe-abf5f484fb86",
    "deepnote_to_be_reexecuted": false,
    "source_hash": "44d876ba",
    "execution_millis": 903,
    "execution_start": 1620333019209,
    "deepnote_cell_type": "code"
   },
   "source": "get_all_locations(\"01652f6c850a4ed78124a8f06af4391b\", df)",
   "execution_count": 75,
   "outputs": [
    {
     "output_type": "execute_result",
     "execution_count": 75,
     "data": {
      "application/vnd.deepnote.dataframe.v2+json": {
       "row_count": 5,
       "column_count": 3,
       "columns": [
        {
         "name": "pred_lat",
         "dtype": "float64",
         "stats": {
          "unique_count": 5,
          "nan_count": 0,
          "min": "39.968",
          "max": "40.127",
          "histogram": [
           {
            "bin_start": 39.968,
            "bin_end": 39.983900000000006,
            "count": 1
           },
           {
            "bin_start": 39.983900000000006,
            "bin_end": 39.9998,
            "count": 0
           },
           {
            "bin_start": 39.9998,
            "bin_end": 40.0157,
            "count": 0
           },
           {
            "bin_start": 40.0157,
            "bin_end": 40.031600000000005,
            "count": 1
           },
           {
            "bin_start": 40.031600000000005,
            "bin_end": 40.0475,
            "count": 0
           },
           {
            "bin_start": 40.0475,
            "bin_end": 40.0634,
            "count": 0
           },
           {
            "bin_start": 40.0634,
            "bin_end": 40.0793,
            "count": 0
           },
           {
            "bin_start": 40.0793,
            "bin_end": 40.095200000000006,
            "count": 0
           },
           {
            "bin_start": 40.095200000000006,
            "bin_end": 40.1111,
            "count": 2
           },
           {
            "bin_start": 40.1111,
            "bin_end": 40.127,
            "count": 1
           }
          ]
         }
        },
        {
         "name": "pred_lon",
         "dtype": "float64",
         "stats": {
          "unique_count": 5,
          "nan_count": 0,
          "min": "-83.124",
          "max": "-83.01",
          "histogram": [
           {
            "bin_start": -83.124,
            "bin_end": -83.1126,
            "count": 2
           },
           {
            "bin_start": -83.1126,
            "bin_end": -83.10119999999999,
            "count": 1
           },
           {
            "bin_start": -83.10119999999999,
            "bin_end": -83.0898,
            "count": 0
           },
           {
            "bin_start": -83.0898,
            "bin_end": -83.0784,
            "count": 0
           },
           {
            "bin_start": -83.0784,
            "bin_end": -83.06700000000001,
            "count": 0
           },
           {
            "bin_start": -83.06700000000001,
            "bin_end": -83.0556,
            "count": 1
           },
           {
            "bin_start": -83.0556,
            "bin_end": -83.0442,
            "count": 0
           },
           {
            "bin_start": -83.0442,
            "bin_end": -83.03280000000001,
            "count": 0
           },
           {
            "bin_start": -83.03280000000001,
            "bin_end": -83.0214,
            "count": 0
           },
           {
            "bin_start": -83.0214,
            "bin_end": -83.01,
            "count": 1
           }
          ]
         }
        },
        {
         "name": "prob",
         "dtype": "float64",
         "stats": {
          "unique_count": 3,
          "nan_count": 0,
          "min": "0.07692307692307693",
          "max": "0.46153846153846156",
          "histogram": [
           {
            "bin_start": 0.07692307692307693,
            "bin_end": 0.11538461538461539,
            "count": 3
           },
           {
            "bin_start": 0.11538461538461539,
            "bin_end": 0.15384615384615385,
            "count": 1
           },
           {
            "bin_start": 0.15384615384615385,
            "bin_end": 0.19230769230769232,
            "count": 0
           },
           {
            "bin_start": 0.19230769230769232,
            "bin_end": 0.23076923076923078,
            "count": 0
           },
           {
            "bin_start": 0.23076923076923078,
            "bin_end": 0.2692307692307693,
            "count": 0
           },
           {
            "bin_start": 0.2692307692307693,
            "bin_end": 0.3076923076923077,
            "count": 0
           },
           {
            "bin_start": 0.3076923076923077,
            "bin_end": 0.3461538461538462,
            "count": 0
           },
           {
            "bin_start": 0.3461538461538462,
            "bin_end": 0.38461538461538464,
            "count": 0
           },
           {
            "bin_start": 0.38461538461538464,
            "bin_end": 0.4230769230769231,
            "count": 0
           },
           {
            "bin_start": 0.4230769230769231,
            "bin_end": 0.46153846153846156,
            "count": 1
           }
          ]
         }
        },
        {
         "name": "_deepnote_index_column",
         "dtype": "int64"
        }
       ],
       "rows_top": [
        {
         "pred_lat": 39.968,
         "pred_lon": -83.01,
         "prob": 0.46153846153846156,
         "_deepnote_index_column": 0
        },
        {
         "pred_lat": 40.02,
         "pred_lon": -83.058,
         "prob": 0.11538461538461539,
         "_deepnote_index_column": 1
        },
        {
         "pred_lat": 40.127,
         "pred_lon": -83.124,
         "prob": 0.07692307692307693,
         "_deepnote_index_column": 2
        },
        {
         "pred_lat": 40.103,
         "pred_lon": -83.11,
         "prob": 0.07692307692307693,
         "_deepnote_index_column": 3
        },
        {
         "pred_lat": 40.098,
         "pred_lon": -83.122,
         "prob": 0.07692307692307693,
         "_deepnote_index_column": 4
        }
       ],
       "rows_bottom": null
      },
      "text/plain": "   pred_lat  pred_lon      prob\n0    39.968   -83.010  0.461538\n1    40.020   -83.058  0.115385\n2    40.127   -83.124  0.076923\n3    40.103   -83.110  0.076923\n4    40.098   -83.122  0.076923",
      "text/html": "<div>\n<style scoped>\n    .dataframe tbody tr th:only-of-type {\n        vertical-align: middle;\n    }\n\n    .dataframe tbody tr th {\n        vertical-align: top;\n    }\n\n    .dataframe thead th {\n        text-align: right;\n    }\n</style>\n<table border=\"1\" class=\"dataframe\">\n  <thead>\n    <tr style=\"text-align: right;\">\n      <th></th>\n      <th>pred_lat</th>\n      <th>pred_lon</th>\n      <th>prob</th>\n    </tr>\n  </thead>\n  <tbody>\n    <tr>\n      <th>0</th>\n      <td>39.968</td>\n      <td>-83.010</td>\n      <td>0.461538</td>\n    </tr>\n    <tr>\n      <th>1</th>\n      <td>40.020</td>\n      <td>-83.058</td>\n      <td>0.115385</td>\n    </tr>\n    <tr>\n      <th>2</th>\n      <td>40.127</td>\n      <td>-83.124</td>\n      <td>0.076923</td>\n    </tr>\n    <tr>\n      <th>3</th>\n      <td>40.103</td>\n      <td>-83.110</td>\n      <td>0.076923</td>\n    </tr>\n    <tr>\n      <th>4</th>\n      <td>40.098</td>\n      <td>-83.122</td>\n      <td>0.076923</td>\n    </tr>\n  </tbody>\n</table>\n</div>"
     },
     "metadata": {}
    }
   ]
  },
  {
   "cell_type": "code",
   "metadata": {
    "tags": [],
    "cell_id": "00024-efa21c09-99f1-4a80-9fe3-dbfeabd3ce27",
    "deepnote_to_be_reexecuted": false,
    "source_hash": "a41c664a",
    "execution_millis": 3847,
    "execution_start": 1620333020100,
    "deepnote_cell_type": "code"
   },
   "source": "get_all_locations(\"f9f14cc8f0891d7158cb72ffb949351b\", df)",
   "execution_count": 76,
   "outputs": [
    {
     "output_type": "execute_result",
     "execution_count": 76,
     "data": {
      "application/vnd.deepnote.dataframe.v2+json": {
       "row_count": 4,
       "column_count": 3,
       "columns": [
        {
         "name": "pred_lat",
         "dtype": "float64",
         "stats": {
          "unique_count": 4,
          "nan_count": 0,
          "min": "39.906",
          "max": "39.938",
          "histogram": [
           {
            "bin_start": 39.906,
            "bin_end": 39.9092,
            "count": 2
           },
           {
            "bin_start": 39.9092,
            "bin_end": 39.9124,
            "count": 0
           },
           {
            "bin_start": 39.9124,
            "bin_end": 39.9156,
            "count": 0
           },
           {
            "bin_start": 39.9156,
            "bin_end": 39.9188,
            "count": 1
           },
           {
            "bin_start": 39.9188,
            "bin_end": 39.922,
            "count": 0
           },
           {
            "bin_start": 39.922,
            "bin_end": 39.925200000000004,
            "count": 0
           },
           {
            "bin_start": 39.925200000000004,
            "bin_end": 39.9284,
            "count": 0
           },
           {
            "bin_start": 39.9284,
            "bin_end": 39.9316,
            "count": 0
           },
           {
            "bin_start": 39.9316,
            "bin_end": 39.9348,
            "count": 0
           },
           {
            "bin_start": 39.9348,
            "bin_end": 39.938,
            "count": 1
           }
          ]
         }
        },
        {
         "name": "pred_lon",
         "dtype": "float64",
         "stats": {
          "unique_count": 4,
          "nan_count": 0,
          "min": "-82.961",
          "max": "-82.793",
          "histogram": [
           {
            "bin_start": -82.961,
            "bin_end": -82.9442,
            "count": 1
           },
           {
            "bin_start": -82.9442,
            "bin_end": -82.9274,
            "count": 0
           },
           {
            "bin_start": -82.9274,
            "bin_end": -82.9106,
            "count": 1
           },
           {
            "bin_start": -82.9106,
            "bin_end": -82.8938,
            "count": 0
           },
           {
            "bin_start": -82.8938,
            "bin_end": -82.87700000000001,
            "count": 0
           },
           {
            "bin_start": -82.87700000000001,
            "bin_end": -82.8602,
            "count": 0
           },
           {
            "bin_start": -82.8602,
            "bin_end": -82.8434,
            "count": 0
           },
           {
            "bin_start": -82.8434,
            "bin_end": -82.8266,
            "count": 0
           },
           {
            "bin_start": -82.8266,
            "bin_end": -82.80980000000001,
            "count": 1
           },
           {
            "bin_start": -82.80980000000001,
            "bin_end": -82.793,
            "count": 1
           }
          ]
         }
        },
        {
         "name": "prob",
         "dtype": "float64",
         "stats": {
          "unique_count": 3,
          "nan_count": 0,
          "min": "0.1",
          "max": "0.5",
          "histogram": [
           {
            "bin_start": 0.1,
            "bin_end": 0.14,
            "count": 2
           },
           {
            "bin_start": 0.14,
            "bin_end": 0.18,
            "count": 0
           },
           {
            "bin_start": 0.18,
            "bin_end": 0.22,
            "count": 1
           },
           {
            "bin_start": 0.22,
            "bin_end": 0.26,
            "count": 0
           },
           {
            "bin_start": 0.26,
            "bin_end": 0.30000000000000004,
            "count": 0
           },
           {
            "bin_start": 0.30000000000000004,
            "bin_end": 0.33999999999999997,
            "count": 0
           },
           {
            "bin_start": 0.33999999999999997,
            "bin_end": 0.38,
            "count": 0
           },
           {
            "bin_start": 0.38,
            "bin_end": 0.42000000000000004,
            "count": 0
           },
           {
            "bin_start": 0.42000000000000004,
            "bin_end": 0.45999999999999996,
            "count": 0
           },
           {
            "bin_start": 0.45999999999999996,
            "bin_end": 0.5,
            "count": 1
           }
          ]
         }
        },
        {
         "name": "_deepnote_index_column",
         "dtype": "int64"
        }
       ],
       "rows_top": [
        {
         "pred_lat": 39.906,
         "pred_lon": -82.961,
         "prob": 0.5,
         "_deepnote_index_column": 0
        },
        {
         "pred_lat": 39.917,
         "pred_lon": -82.916,
         "prob": 0.2,
         "_deepnote_index_column": 1
        },
        {
         "pred_lat": 39.938,
         "pred_lon": -82.793,
         "prob": 0.1,
         "_deepnote_index_column": 2
        },
        {
         "pred_lat": 39.909,
         "pred_lon": -82.824,
         "prob": 0.1,
         "_deepnote_index_column": 3
        }
       ],
       "rows_bottom": null
      },
      "text/plain": "   pred_lat  pred_lon  prob\n0    39.906   -82.961   0.5\n1    39.917   -82.916   0.2\n2    39.938   -82.793   0.1\n3    39.909   -82.824   0.1",
      "text/html": "<div>\n<style scoped>\n    .dataframe tbody tr th:only-of-type {\n        vertical-align: middle;\n    }\n\n    .dataframe tbody tr th {\n        vertical-align: top;\n    }\n\n    .dataframe thead th {\n        text-align: right;\n    }\n</style>\n<table border=\"1\" class=\"dataframe\">\n  <thead>\n    <tr style=\"text-align: right;\">\n      <th></th>\n      <th>pred_lat</th>\n      <th>pred_lon</th>\n      <th>prob</th>\n    </tr>\n  </thead>\n  <tbody>\n    <tr>\n      <th>0</th>\n      <td>39.906</td>\n      <td>-82.961</td>\n      <td>0.5</td>\n    </tr>\n    <tr>\n      <th>1</th>\n      <td>39.917</td>\n      <td>-82.916</td>\n      <td>0.2</td>\n    </tr>\n    <tr>\n      <th>2</th>\n      <td>39.938</td>\n      <td>-82.793</td>\n      <td>0.1</td>\n    </tr>\n    <tr>\n      <th>3</th>\n      <td>39.909</td>\n      <td>-82.824</td>\n      <td>0.1</td>\n    </tr>\n  </tbody>\n</table>\n</div>"
     },
     "metadata": {}
    }
   ]
  },
  {
   "cell_type": "code",
   "metadata": {
    "tags": [],
    "cell_id": "00023-95dcacb1-369a-4aec-b9cc-38fc93c97b34",
    "deepnote_to_be_reexecuted": false,
    "source_hash": "adba62d2",
    "execution_millis": 663,
    "execution_start": 1620333023983,
    "deepnote_cell_type": "code"
   },
   "source": "get_next_location(\"008beb5671fb49a92dc0ef9de96979bf\", df)\n# should be [40.149, -82.904]",
   "execution_count": 77,
   "outputs": [
    {
     "output_type": "execute_result",
     "execution_count": 77,
     "data": {
      "text/plain": "[40.149, -82.904]"
     },
     "metadata": {}
    }
   ]
  },
  {
   "cell_type": "code",
   "metadata": {
    "tags": [],
    "cell_id": "00024-1192b6d3-1e80-4200-8ea8-5fd20faf8321",
    "deepnote_to_be_reexecuted": false,
    "source_hash": "2c4235a7",
    "execution_millis": 931,
    "execution_start": 1620333024664,
    "deepnote_cell_type": "code"
   },
   "source": "get_next_location(\"01652f6c850a4ed78124a8f06af4391b\", df)\n# should be [39.968, -83.01]",
   "execution_count": 78,
   "outputs": [
    {
     "output_type": "execute_result",
     "execution_count": 78,
     "data": {
      "text/plain": "[39.968, -83.01]"
     },
     "metadata": {}
    }
   ]
  },
  {
   "cell_type": "code",
   "source": "#Test with real dataset\ndf_new = pd.read_csv(\"/work/Data/merged_csv_0506.csv\")\ndf_new",
   "metadata": {
    "tags": [],
    "cell_id": "00021-587d11c8-d934-4b9b-bcb7-9eb11cde9043",
    "deepnote_to_be_reexecuted": false,
    "source_hash": "68140283",
    "execution_start": 1620333025583,
    "execution_millis": 136,
    "deepnote_cell_type": "code"
   },
   "outputs": [
    {
     "output_type": "execute_result",
     "execution_count": 79,
     "data": {
      "application/vnd.deepnote.dataframe.v2+json": {
       "row_count": 29322,
       "column_count": 12,
       "columns": [
        {
         "name": "Unnamed: 0",
         "dtype": "int64",
         "stats": {
          "unique_count": 29322,
          "nan_count": 0,
          "min": "0",
          "max": "29321",
          "histogram": [
           {
            "bin_start": 0,
            "bin_end": 2932.1,
            "count": 2933
           },
           {
            "bin_start": 2932.1,
            "bin_end": 5864.2,
            "count": 2932
           },
           {
            "bin_start": 5864.2,
            "bin_end": 8796.3,
            "count": 2932
           },
           {
            "bin_start": 8796.3,
            "bin_end": 11728.4,
            "count": 2932
           },
           {
            "bin_start": 11728.4,
            "bin_end": 14660.5,
            "count": 2932
           },
           {
            "bin_start": 14660.5,
            "bin_end": 17592.6,
            "count": 2932
           },
           {
            "bin_start": 17592.6,
            "bin_end": 20524.7,
            "count": 2932
           },
           {
            "bin_start": 20524.7,
            "bin_end": 23456.8,
            "count": 2932
           },
           {
            "bin_start": 23456.8,
            "bin_end": 26388.899999999998,
            "count": 2932
           },
           {
            "bin_start": 26388.899999999998,
            "bin_end": 29321,
            "count": 2933
           }
          ]
         }
        },
        {
         "name": "vin",
         "dtype": "object",
         "stats": {
          "unique_count": 889,
          "nan_count": 0,
          "categories": [
           {
            "name": "8066fdfb52daab9b332c537a79e16e7b",
            "count": 222
           },
           {
            "name": "d8538c269b6cb7eec9a1f3b2bd8fc2d7",
            "count": 183
           },
           {
            "name": "887 others",
            "count": 28917
           }
          ]
         }
        },
        {
         "name": "sequence",
         "dtype": "int64",
         "stats": {
          "unique_count": 2058,
          "nan_count": 0,
          "min": "1",
          "max": "4124",
          "histogram": [
           {
            "bin_start": 1,
            "bin_end": 413.3,
            "count": 9918
           },
           {
            "bin_start": 413.3,
            "bin_end": 825.6,
            "count": 12034
           },
           {
            "bin_start": 825.6,
            "bin_end": 1237.9,
            "count": 4965
           },
           {
            "bin_start": 1237.9,
            "bin_end": 1650.2,
            "count": 1476
           },
           {
            "bin_start": 1650.2,
            "bin_end": 2062.5,
            "count": 610
           },
           {
            "bin_start": 2062.5,
            "bin_end": 2474.8,
            "count": 228
           },
           {
            "bin_start": 2474.8,
            "bin_end": 2887.1,
            "count": 12
           },
           {
            "bin_start": 2887.1,
            "bin_end": 3299.4,
            "count": 4
           },
           {
            "bin_start": 3299.4,
            "bin_end": 3711.7000000000003,
            "count": 8
           },
           {
            "bin_start": 3711.7000000000003,
            "bin_end": 4124,
            "count": 67
           }
          ]
         }
        },
        {
         "name": "first",
         "dtype": "float64"
        },
        {
         "name": "last",
         "dtype": "float64"
        },
        {
         "name": "start_lat",
         "dtype": "float64"
        },
        {
         "name": "start_long",
         "dtype": "float64"
        },
        {
         "name": "latitude",
         "dtype": "float64"
        },
        {
         "name": "longitude",
         "dtype": "float64"
        },
        {
         "name": "dwell time duration (seconds)",
         "dtype": "float64"
        },
        {
         "name": "predicted dwell interval greater than 10 hours",
         "dtype": "int64"
        },
        {
         "name": "prob",
         "dtype": "float64"
        },
        {
         "name": "_deepnote_index_column",
         "dtype": "int64"
        }
       ],
       "rows_top": [
        {
         "Unnamed: 0": 0,
         "vin": "005b420fd9275f080ad79e1c4330357e",
         "sequence": 1146,
         "first": 1578953321.966,
         "last": 1578954028.967,
         "start_lat": 41.409,
         "start_long": -81.497,
         "latitude": 41.379,
         "longitude": -81.427,
         "dwell time duration (seconds)": 14185.917,
         "predicted dwell interval greater than 10 hours": 0,
         "prob": "nan",
         "_deepnote_index_column": 0
        },
        {
         "Unnamed: 0": 1,
         "vin": "008beb5671fb49a92dc0ef9de96979bf",
         "sequence": 556,
         "first": 1578482376.448,
         "last": 1578484036.969,
         "start_lat": 40.149,
         "start_long": -82.904,
         "latitude": 40.1,
         "longitude": -83.166,
         "dwell time duration (seconds)": 37768.558,
         "predicted dwell interval greater than 10 hours": 0,
         "prob": "nan",
         "_deepnote_index_column": 1
        },
        {
         "Unnamed: 0": 2,
         "vin": "008beb5671fb49a92dc0ef9de96979bf",
         "sequence": 559,
         "first": 1578569447.929,
         "last": 1578570632.109,
         "start_lat": 40.149,
         "start_long": -82.904,
         "latitude": 40.1,
         "longitude": -83.167,
         "dwell time duration (seconds)": 37819.974,
         "predicted dwell interval greater than 10 hours": 0,
         "prob": "nan",
         "_deepnote_index_column": 2
        },
        {
         "Unnamed: 0": 3,
         "vin": "008beb5671fb49a92dc0ef9de96979bf",
         "sequence": 562,
         "first": 1578696879.961,
         "last": 1578698135.98,
         "start_lat": 40.149,
         "start_long": -82.904,
         "latitude": 40.058,
         "longitude": -82.915,
         "dwell time duration (seconds)": 79243.785,
         "predicted dwell interval greater than 10 hours": 0,
         "prob": "nan",
         "_deepnote_index_column": 3
        },
        {
         "Unnamed: 0": 4,
         "vin": "008beb5671fb49a92dc0ef9de96979bf",
         "sequence": 567,
         "first": 1578746830.985,
         "last": 1578747416.04,
         "start_lat": 40.149,
         "start_long": -82.904,
         "latitude": 40.128,
         "longitude": -82.932,
         "dwell time duration (seconds)": 33563.998,
         "predicted dwell interval greater than 10 hours": 0,
         "prob": "nan",
         "_deepnote_index_column": 4
        },
        {
         "Unnamed: 0": 5,
         "vin": "008beb5671fb49a92dc0ef9de96979bf",
         "sequence": 570,
         "first": 1578758614.962,
         "last": 1578758709.994,
         "start_lat": 40.149,
         "start_long": -82.904,
         "latitude": 40.149,
         "longitude": -82.904,
         "dwell time duration (seconds)": 6298.02,
         "predicted dwell interval greater than 10 hours": 0,
         "prob": "nan",
         "_deepnote_index_column": 5
        },
        {
         "Unnamed: 0": 6,
         "vin": "008beb5671fb49a92dc0ef9de96979bf",
         "sequence": 571,
         "first": 1578762329.788,
         "last": 1578762369.781,
         "start_lat": 40.149,
         "start_long": -82.904,
         "latitude": 40.149,
         "longitude": -82.904,
         "dwell time duration (seconds)": 3619.794,
         "predicted dwell interval greater than 10 hours": 0,
         "prob": "nan",
         "_deepnote_index_column": 6
        },
        {
         "Unnamed: 0": 7,
         "vin": "008beb5671fb49a92dc0ef9de96979bf",
         "sequence": 573,
         "first": 1578766570.212,
         "last": 1578766580.927,
         "start_lat": 40.149,
         "start_long": -82.904,
         "latitude": 40.149,
         "longitude": -82.904,
         "dwell time duration (seconds)": 4200.431,
         "predicted dwell interval greater than 10 hours": 0,
         "prob": "nan",
         "_deepnote_index_column": 7
        },
        {
         "Unnamed: 0": 8,
         "vin": "008beb5671fb49a92dc0ef9de96979bf",
         "sequence": 574,
         "first": 1578778651.983,
         "last": 1578779369.97,
         "start_lat": 40.149,
         "start_long": -82.904,
         "latitude": 40.14,
         "longitude": -82.982,
         "dwell time duration (seconds)": 12071.056,
         "predicted dwell interval greater than 10 hours": 0,
         "prob": "nan",
         "_deepnote_index_column": 8
        },
        {
         "Unnamed: 0": 9,
         "vin": "008beb5671fb49a92dc0ef9de96979bf",
         "sequence": 577,
         "first": 1578782612.904,
         "last": 1578782625.905,
         "start_lat": 40.149,
         "start_long": -82.904,
         "latitude": 40.149,
         "longitude": -82.904,
         "dwell time duration (seconds)": 224.953,
         "predicted dwell interval greater than 10 hours": 0,
         "prob": "nan",
         "_deepnote_index_column": 9
        },
        {
         "Unnamed: 0": 10,
         "vin": "008beb5671fb49a92dc0ef9de96979bf",
         "sequence": 585,
         "first": 1578918291.429,
         "last": 1578919847.554,
         "start_lat": 40.149,
         "start_long": -82.904,
         "latitude": 40.1,
         "longitude": -83.167,
         "dwell time duration (seconds)": 135665.524,
         "predicted dwell interval greater than 10 hours": 0,
         "prob": "nan",
         "_deepnote_index_column": 10
        },
        {
         "Unnamed: 0": 11,
         "vin": "008beb5671fb49a92dc0ef9de96979bf",
         "sequence": 588,
         "first": 1579001282.871,
         "last": 1579002531.966,
         "start_lat": 40.149,
         "start_long": -82.904,
         "latitude": 40.1,
         "longitude": -83.167,
         "dwell time duration (seconds)": 38261.877,
         "predicted dwell interval greater than 10 hours": 0,
         "prob": "nan",
         "_deepnote_index_column": 11
        },
        {
         "Unnamed: 0": 12,
         "vin": "008beb5671fb49a92dc0ef9de96979bf",
         "sequence": 591,
         "first": 1579097522.974,
         "last": 1579098132.712,
         "start_lat": 40.149,
         "start_long": -82.904,
         "latitude": 40.148,
         "longitude": -82.977,
         "dwell time duration (seconds)": 48211.969,
         "predicted dwell interval greater than 10 hours": 0,
         "prob": "nan",
         "_deepnote_index_column": 12
        },
        {
         "Unnamed: 0": 13,
         "vin": "008beb5671fb49a92dc0ef9de96979bf",
         "sequence": 602,
         "first": 1579259789.418,
         "last": 1579261599.369,
         "start_lat": 40.149,
         "start_long": -82.904,
         "latitude": 40.101,
         "longitude": -83.166,
         "dwell time duration (seconds)": 127276.62,
         "predicted dwell interval greater than 10 hours": 0,
         "prob": "nan",
         "_deepnote_index_column": 13
        },
        {
         "Unnamed: 0": 14,
         "vin": "008beb5671fb49a92dc0ef9de96979bf",
         "sequence": 606,
         "first": 1579351401.888,
         "last": 1579351864.878,
         "start_lat": 40.149,
         "start_long": -82.904,
         "latitude": 40.127,
         "longitude": -82.932,
         "dwell time duration (seconds)": 43428.969,
         "predicted dwell interval greater than 10 hours": 0,
         "prob": "nan",
         "_deepnote_index_column": 14
        },
        {
         "Unnamed: 0": 15,
         "vin": "008beb5671fb49a92dc0ef9de96979bf",
         "sequence": 609,
         "first": 1579388261.939,
         "last": 1579395318.138,
         "start_lat": 40.149,
         "start_long": -82.904,
         "latitude": 41.374,
         "longitude": -83.65,
         "dwell time duration (seconds)": 32163.986,
         "predicted dwell interval greater than 10 hours": 0,
         "prob": "nan",
         "_deepnote_index_column": 15
        },
        {
         "Unnamed: 0": 16,
         "vin": "008beb5671fb49a92dc0ef9de96979bf",
         "sequence": 618,
         "first": 1579453611.809,
         "last": 1579455309.844,
         "start_lat": 40.149,
         "start_long": -82.904,
         "latitude": 40.051,
         "longitude": -82.913,
         "dwell time duration (seconds)": 34500.603,
         "predicted dwell interval greater than 10 hours": 0,
         "prob": "nan",
         "_deepnote_index_column": 16
        },
        {
         "Unnamed: 0": 17,
         "vin": "008beb5671fb49a92dc0ef9de96979bf",
         "sequence": 624,
         "first": 1579523409.13,
         "last": 1579524674.106,
         "start_lat": 40.149,
         "start_long": -82.904,
         "latitude": 40.1,
         "longitude": -83.163,
         "dwell time duration (seconds)": 58547.189,
         "predicted dwell interval greater than 10 hours": 0,
         "prob": "nan",
         "_deepnote_index_column": 17
        },
        {
         "Unnamed: 0": 18,
         "vin": "008beb5671fb49a92dc0ef9de96979bf",
         "sequence": 634,
         "first": 1579732011.973,
         "last": 1579734253.069,
         "start_lat": 40.149,
         "start_long": -82.904,
         "latitude": 39.971,
         "longitude": -83.004,
         "dwell time duration (seconds)": 14955.024,
         "predicted dwell interval greater than 10 hours": 0,
         "prob": "nan",
         "_deepnote_index_column": 18
        },
        {
         "Unnamed: 0": 19,
         "vin": "008beb5671fb49a92dc0ef9de96979bf",
         "sequence": 637,
         "first": 1579779230.168,
         "last": 1579780592.938,
         "start_lat": 40.149,
         "start_long": -82.904,
         "latitude": 40.1,
         "longitude": -83.167,
         "dwell time duration (seconds)": 26563.298,
         "predicted dwell interval greater than 10 hours": 0,
         "prob": "nan",
         "_deepnote_index_column": 19
        },
        {
         "Unnamed: 0": 20,
         "vin": "008beb5671fb49a92dc0ef9de96979bf",
         "sequence": 643,
         "first": 1579907978.118,
         "last": 1579908233.896,
         "start_lat": 40.149,
         "start_long": -82.904,
         "latitude": 40.149,
         "longitude": -82.921,
         "dwell time duration (seconds)": 27462.125,
         "predicted dwell interval greater than 10 hours": 0,
         "prob": "nan",
         "_deepnote_index_column": 20
        },
        {
         "Unnamed: 0": 21,
         "vin": "008beb5671fb49a92dc0ef9de96979bf",
         "sequence": 658,
         "first": 1580127521.166,
         "last": 1580128629.188,
         "start_lat": 40.149,
         "start_long": -82.904,
         "latitude": 40.148,
         "longitude": -82.977,
         "dwell time duration (seconds)": 219287.27,
         "predicted dwell interval greater than 10 hours": 0,
         "prob": "nan",
         "_deepnote_index_column": 21
        },
        {
         "Unnamed: 0": 22,
         "vin": "008beb5671fb49a92dc0ef9de96979bf",
         "sequence": 663,
         "first": 1580211005.953,
         "last": 1580212277.111,
         "start_lat": 40.149,
         "start_long": -82.904,
         "latitude": 40.1,
         "longitude": -83.166,
         "dwell time duration (seconds)": 48323.813,
         "predicted dwell interval greater than 10 hours": 0,
         "prob": "nan",
         "_deepnote_index_column": 22
        },
        {
         "Unnamed: 0": 23,
         "vin": "008beb5671fb49a92dc0ef9de96979bf",
         "sequence": 669,
         "first": 1580383664.45,
         "last": 1580384980.935,
         "start_lat": 40.149,
         "start_long": -82.904,
         "latitude": 40.1,
         "longitude": -83.166,
         "dwell time duration (seconds)": 38107.34,
         "predicted dwell interval greater than 10 hours": 0,
         "prob": "nan",
         "_deepnote_index_column": 23
        },
        {
         "Unnamed: 0": 24,
         "vin": "008beb5671fb49a92dc0ef9de96979bf",
         "sequence": 676,
         "first": 1580483749.809,
         "last": 1580494026.017,
         "start_lat": 40.149,
         "start_long": -82.904,
         "latitude": 41.976,
         "longitude": -83.34,
         "dwell time duration (seconds)": 4917.891,
         "predicted dwell interval greater than 10 hours": 0,
         "prob": "nan",
         "_deepnote_index_column": 24
        },
        {
         "Unnamed: 0": 25,
         "vin": "008beb5671fb49a92dc0ef9de96979bf",
         "sequence": 698,
         "first": 1580732907.94,
         "last": 1580734203.778,
         "start_lat": 40.149,
         "start_long": -82.904,
         "latitude": 40.101,
         "longitude": -83.166,
         "dwell time duration (seconds)": 48249.05,
         "predicted dwell interval greater than 10 hours": 0,
         "prob": "nan",
         "_deepnote_index_column": 25
        },
        {
         "Unnamed: 0": 26,
         "vin": "008beb5671fb49a92dc0ef9de96979bf",
         "sequence": 564,
         "first": 1578704475.965,
         "last": 1578705355.95,
         "start_lat": 40.059,
         "start_long": -82.915,
         "latitude": 39.923,
         "longitude": -82.836,
         "dwell time duration (seconds)": 6339.985,
         "predicted dwell interval greater than 10 hours": 0,
         "prob": "nan",
         "_deepnote_index_column": 26
        },
        {
         "Unnamed: 0": 27,
         "vin": "6a854612b790c37a6fdd2d47cac038da",
         "sequence": 302,
         "first": 1578508670.872,
         "last": 1578509679.922,
         "start_lat": 40.059,
         "start_long": -82.915,
         "latitude": 40.019,
         "longitude": -83.025,
         "dwell time duration (seconds)": 1300.93,
         "predicted dwell interval greater than 10 hours": 0,
         "prob": "nan",
         "_deepnote_index_column": 27
        },
        {
         "Unnamed: 0": 28,
         "vin": "6f70008c4bab44b6c38c359765366359",
         "sequence": 929,
         "first": 1580660997.321,
         "last": 1580661124.892,
         "start_lat": 40.059,
         "start_long": -82.915,
         "latitude": 40.056,
         "longitude": -82.92,
         "dwell time duration (seconds)": 483.399,
         "predicted dwell interval greater than 10 hours": 0,
         "prob": "nan",
         "_deepnote_index_column": 28
        },
        {
         "Unnamed: 0": 29,
         "vin": "bf5d0cb9820822b1202a410ac576652e",
         "sequence": 462,
         "first": 1580594816.93,
         "last": 1580595366.031,
         "start_lat": 40.059,
         "start_long": -82.915,
         "latitude": 40.055,
         "longitude": -82.867,
         "dwell time duration (seconds)": 3759.017,
         "predicted dwell interval greater than 10 hours": 0,
         "prob": "nan",
         "_deepnote_index_column": 29
        },
        {
         "Unnamed: 0": 30,
         "vin": "e44c70c100ca1c2be45800bc3b1f5430",
         "sequence": 242,
         "first": 1578692026.912,
         "last": 1578693230.914,
         "start_lat": 40.059,
         "start_long": -82.915,
         "latitude": 40.052,
         "longitude": -82.868,
         "dwell time duration (seconds)": 3705.205,
         "predicted dwell interval greater than 10 hours": 0,
         "prob": "nan",
         "_deepnote_index_column": 30
        },
        {
         "Unnamed: 0": 31,
         "vin": "f441c7574c1d8817ddc2e2e51df52be1",
         "sequence": 633,
         "first": 1579909266.937,
         "last": 1579909519.971,
         "start_lat": 40.059,
         "start_long": -82.915,
         "latitude": 40.054,
         "longitude": -82.908,
         "dwell time duration (seconds)": 4912.236,
         "predicted dwell interval greater than 10 hours": 0,
         "prob": "nan",
         "_deepnote_index_column": 31
        },
        {
         "Unnamed: 0": 32,
         "vin": "008beb5671fb49a92dc0ef9de96979bf",
         "sequence": 568,
         "first": 1578750996.488,
         "last": 1578752316.942,
         "start_lat": 40.128,
         "start_long": -82.932,
         "latitude": 40.149,
         "longitude": -82.904,
         "dwell time duration (seconds)": 3580.448,
         "predicted dwell interval greater than 10 hours": 0,
         "prob": "nan",
         "_deepnote_index_column": 32
        },
        {
         "Unnamed: 0": 33,
         "vin": "3307343060ed16daf3253a4fc37a1a9b",
         "sequence": 760,
         "first": 1579108835.316,
         "last": 1579109249.977,
         "start_lat": 40.128,
         "start_long": -82.932,
         "latitude": 40.123,
         "longitude": -82.931,
         "dwell time duration (seconds)": 5759.354,
         "predicted dwell interval greater than 10 hours": 0,
         "prob": "nan",
         "_deepnote_index_column": 33
        },
        {
         "Unnamed: 0": 34,
         "vin": "cd65e4cd0e46469931d40b1515f482ca",
         "sequence": 961,
         "first": 1580064918.88,
         "last": 1580066530.896,
         "start_lat": 40.128,
         "start_long": -82.932,
         "latitude": 40.154,
         "longitude": -83,
         "dwell time duration (seconds)": 11049.9,
         "predicted dwell interval greater than 10 hours": 0,
         "prob": "nan",
         "_deepnote_index_column": 34
        },
        {
         "Unnamed: 0": 35,
         "vin": "f984143f3463097555efe600e2bca70d",
         "sequence": 450,
         "first": 1578449701.443,
         "last": 1578450925.031,
         "start_lat": 40.128,
         "start_long": -82.932,
         "latitude": 40.036,
         "longitude": -83.132,
         "dwell time duration (seconds)": 6549.485,
         "predicted dwell interval greater than 10 hours": 0,
         "prob": "nan",
         "_deepnote_index_column": 35
        },
        {
         "Unnamed: 0": 36,
         "vin": "008beb5671fb49a92dc0ef9de96979bf",
         "sequence": 576,
         "first": 1578781055.921,
         "last": 1578782387.951,
         "start_lat": 40.14,
         "start_long": -82.982,
         "latitude": 40.149,
         "longitude": -82.904,
         "dwell time duration (seconds)": 1685.951,
         "predicted dwell interval greater than 10 hours": 0,
         "prob": "nan",
         "_deepnote_index_column": 36
        },
        {
         "Unnamed: 0": 37,
         "vin": "123b9a7bbd7775662d3a55656dc2379b",
         "sequence": 289,
         "first": 1580569745.666,
         "last": 1580570345.986,
         "start_lat": 40.14,
         "start_long": -82.982,
         "latitude": 40.149,
         "longitude": -82.921,
         "dwell time duration (seconds)": 1700296.726,
         "predicted dwell interval greater than 10 hours": 0,
         "prob": "nan",
         "_deepnote_index_column": 37
        },
        {
         "Unnamed: 0": 38,
         "vin": "225cb550353c3c50306eb7271c63af93",
         "sequence": 861,
         "first": 1579284305.929,
         "last": 1579286382.072,
         "start_lat": 40.14,
         "start_long": -82.982,
         "latitude": 40.098,
         "longitude": -83.089,
         "dwell time duration (seconds)": 2280.007,
         "predicted dwell interval greater than 10 hours": 0,
         "prob": "nan",
         "_deepnote_index_column": 38
        },
        {
         "Unnamed: 0": 39,
         "vin": "2d4f5b026609d5f361fe65cf6e474871",
         "sequence": 869,
         "first": 1578494633.28,
         "last": 1578495569.931,
         "start_lat": 40.14,
         "start_long": -82.982,
         "latitude": 40.054,
         "longitude": -83.024,
         "dwell time duration (seconds)": 301.328,
         "predicted dwell interval greater than 10 hours": 0,
         "prob": "nan",
         "_deepnote_index_column": 39
        },
        {
         "Unnamed: 0": 40,
         "vin": "2e4f57620d583eacd826ae5b1d59a28a",
         "sequence": 745,
         "first": 1578950203.548,
         "last": 1578950216.904,
         "start_lat": 40.14,
         "start_long": -82.982,
         "latitude": 40.14,
         "longitude": -82.982,
         "dwell time duration (seconds)": 674.317,
         "predicted dwell interval greater than 10 hours": 0,
         "prob": "nan",
         "_deepnote_index_column": 40
        }
       ],
       "rows_bottom": [
        {
         "Unnamed: 0": 29280,
         "vin": "ffabe3f9905f857b5f4c64150c4945f0",
         "sequence": 39,
         "first": 1579041654.865,
         "last": 1579042937.784,
         "start_lat": 40.113,
         "start_long": -83.005,
         "latitude": 40.084,
         "longitude": -82.84,
         "dwell time duration (seconds)": 29533.024,
         "predicted dwell interval greater than 10 hours": 0,
         "prob": "nan",
         "_deepnote_index_column": 29280
        },
        {
         "Unnamed: 0": 29281,
         "vin": "ffabe3f9905f857b5f4c64150c4945f0",
         "sequence": 62,
         "first": 1579543315.368,
         "last": 1579543489.09,
         "start_lat": 40.113,
         "start_long": -83.005,
         "latitude": 40.118,
         "longitude": -83.015,
         "dwell time duration (seconds)": 12517.232,
         "predicted dwell interval greater than 10 hours": 0,
         "prob": "nan",
         "_deepnote_index_column": 29281
        },
        {
         "Unnamed: 0": 29282,
         "vin": "ffabe3f9905f857b5f4c64150c4945f0",
         "sequence": 64,
         "first": 1579558093.738,
         "last": 1579560348.51,
         "start_lat": 40.113,
         "start_long": -83.005,
         "latitude": 40.084,
         "longitude": -82.84,
         "dwell time duration (seconds)": 12933.62,
         "predicted dwell interval greater than 10 hours": 0,
         "prob": "nan",
         "_deepnote_index_column": 29282
        },
        {
         "Unnamed: 0": 29283,
         "vin": "ffabe3f9905f857b5f4c64150c4945f0",
         "sequence": 75,
         "first": 1579728703.432,
         "last": 1579731034.917,
         "start_lat": 40.113,
         "start_long": -83.005,
         "latitude": 39.973,
         "longitude": -83.003,
         "dwell time duration (seconds)": 11883.692,
         "predicted dwell interval greater than 10 hours": 0,
         "prob": "nan",
         "_deepnote_index_column": 29283
        },
        {
         "Unnamed: 0": 29284,
         "vin": "ffabe3f9905f857b5f4c64150c4945f0",
         "sequence": 80,
         "first": 1579812901.153,
         "last": 1579813033.754,
         "start_lat": 40.113,
         "start_long": -83.005,
         "latitude": 40.118,
         "longitude": -83.012,
         "dwell time duration (seconds)": 23910.209,
         "predicted dwell interval greater than 10 hours": 0,
         "prob": "nan",
         "_deepnote_index_column": 29284
        },
        {
         "Unnamed: 0": 29285,
         "vin": "ffabe3f9905f857b5f4c64150c4945f0",
         "sequence": 99,
         "first": 1580134926.897,
         "last": 1580135166.664,
         "start_lat": 40.113,
         "start_long": -83.005,
         "latitude": 40.112,
         "longitude": -83.006,
         "dwell time duration (seconds)": 1752.105,
         "predicted dwell interval greater than 10 hours": 0,
         "prob": "nan",
         "_deepnote_index_column": 29285
        },
        {
         "Unnamed: 0": 29286,
         "vin": "ffabe3f9905f857b5f4c64150c4945f0",
         "sequence": 103,
         "first": 1580254077.19,
         "last": 1580255198.957,
         "start_lat": 40.113,
         "start_long": -83.005,
         "latitude": 40.084,
         "longitude": -82.84,
         "dwell time duration (seconds)": 13279.826,
         "predicted dwell interval greater than 10 hours": 0,
         "prob": "nan",
         "_deepnote_index_column": 29286
        },
        {
         "Unnamed: 0": 29287,
         "vin": "ffabe3f9905f857b5f4c64150c4945f0",
         "sequence": 112,
         "first": 1580427567.265,
         "last": 1580428807.281,
         "start_lat": 40.113,
         "start_long": -83.005,
         "latitude": 40.094,
         "longitude": -82.824,
         "dwell time duration (seconds)": 35505.215,
         "predicted dwell interval greater than 10 hours": 0,
         "prob": "nan",
         "_deepnote_index_column": 29287
        },
        {
         "Unnamed: 0": 29288,
         "vin": "ffabe3f9905f857b5f4c64150c4945f0",
         "sequence": 115,
         "first": 1580503940.169,
         "last": 1580505621.178,
         "start_lat": 40.113,
         "start_long": -83.005,
         "latitude": 40.081,
         "longitude": -82.813,
         "dwell time duration (seconds)": 25729.234,
         "predicted dwell interval greater than 10 hours": 0,
         "prob": "nan",
         "_deepnote_index_column": 29288
        },
        {
         "Unnamed: 0": 29289,
         "vin": "ffabe3f9905f857b5f4c64150c4945f0",
         "sequence": 7,
         "first": 1578485538.227,
         "last": 1578487339.841,
         "start_lat": 40.084,
         "start_long": -82.84,
         "latitude": 40.059,
         "longitude": -83.039,
         "dwell time duration (seconds)": 43608.59,
         "predicted dwell interval greater than 10 hours": 0,
         "prob": "nan",
         "_deepnote_index_column": 29289
        },
        {
         "Unnamed: 0": 29290,
         "vin": "ffabe3f9905f857b5f4c64150c4945f0",
         "sequence": 15,
         "first": 1578576959.629,
         "last": 1578578481.753,
         "start_lat": 40.084,
         "start_long": -82.84,
         "latitude": 39.957,
         "longitude": -82.999,
         "dwell time duration (seconds)": 48495.887,
         "predicted dwell interval greater than 10 hours": 0,
         "prob": "nan",
         "_deepnote_index_column": 29290
        },
        {
         "Unnamed: 0": 29291,
         "vin": "ffabe3f9905f857b5f4c64150c4945f0",
         "sequence": 20,
         "first": 1578693652.938,
         "last": 1578695323.935,
         "start_lat": 40.084,
         "start_long": -82.84,
         "latitude": 40.069,
         "longitude": -82.523,
         "dwell time duration (seconds)": 1968.833,
         "predicted dwell interval greater than 10 hours": 0,
         "prob": "nan",
         "_deepnote_index_column": 29291
        },
        {
         "Unnamed: 0": 29292,
         "vin": "ffabe3f9905f857b5f4c64150c4945f0",
         "sequence": 22,
         "first": 1578700666.962,
         "last": 1578701089.83,
         "start_lat": 40.084,
         "start_long": -82.84,
         "latitude": 40.083,
         "longitude": -82.808,
         "dwell time duration (seconds)": 943.017,
         "predicted dwell interval greater than 10 hours": 0,
         "prob": "nan",
         "_deepnote_index_column": 29292
        },
        {
         "Unnamed: 0": 29293,
         "vin": "ffabe3f9905f857b5f4c64150c4945f0",
         "sequence": 24,
         "first": 1578764847.114,
         "last": 1578765397.96,
         "start_lat": 40.084,
         "start_long": -82.84,
         "latitude": 40.061,
         "longitude": -82.875,
         "dwell time duration (seconds)": 63272.328,
         "predicted dwell interval greater than 10 hours": 0,
         "prob": "nan",
         "_deepnote_index_column": 29293
        },
        {
         "Unnamed: 0": 29294,
         "vin": "ffabe3f9905f857b5f4c64150c4945f0",
         "sequence": 26,
         "first": 1578767400.929,
         "last": 1578768640.927,
         "start_lat": 40.084,
         "start_long": -82.84,
         "latitude": 40.069,
         "longitude": -82.524,
         "dwell time duration (seconds)": 1380.892,
         "predicted dwell interval greater than 10 hours": 0,
         "prob": "nan",
         "_deepnote_index_column": 29294
        },
        {
         "Unnamed: 0": 29295,
         "vin": "ffabe3f9905f857b5f4c64150c4945f0",
         "sequence": 29,
         "first": 1578786285.91,
         "last": 1578786869.994,
         "start_lat": 40.084,
         "start_long": -82.84,
         "latitude": 40.054,
         "longitude": -82.842,
         "dwell time duration (seconds)": 9232.968,
         "predicted dwell interval greater than 10 hours": 0,
         "prob": "nan",
         "_deepnote_index_column": 29295
        },
        {
         "Unnamed: 0": 29296,
         "vin": "ffabe3f9905f857b5f4c64150c4945f0",
         "sequence": 33,
         "first": 1578844441.982,
         "last": 1578845450.926,
         "start_lat": 40.084,
         "start_long": -82.84,
         "latitude": 40.113,
         "longitude": -83.004,
         "dwell time duration (seconds)": 5077.051,
         "predicted dwell interval greater than 10 hours": 0,
         "prob": "nan",
         "_deepnote_index_column": 29296
        },
        {
         "Unnamed: 0": 29297,
         "vin": "ffabe3f9905f857b5f4c64150c4945f0",
         "sequence": 35,
         "first": 1578918880.956,
         "last": 1578920120.123,
         "start_lat": 40.084,
         "start_long": -82.84,
         "latitude": 40.112,
         "longitude": -83.005,
         "dwell time duration (seconds)": 55574.347,
         "predicted dwell interval greater than 10 hours": 0,
         "prob": "nan",
         "_deepnote_index_column": 29297
        },
        {
         "Unnamed: 0": 29298,
         "vin": "ffabe3f9905f857b5f4c64150c4945f0",
         "sequence": 38,
         "first": 1579011066.99,
         "last": 1579012121.841,
         "start_lat": 40.084,
         "start_long": -82.84,
         "latitude": 40.112,
         "longitude": -83.005,
         "dwell time duration (seconds)": 48950.04,
         "predicted dwell interval greater than 10 hours": 0,
         "prob": "nan",
         "_deepnote_index_column": 29298
        },
        {
         "Unnamed: 0": 29299,
         "vin": "ffabe3f9905f857b5f4c64150c4945f0",
         "sequence": 46,
         "first": 1579267294.964,
         "last": 1579269763.975,
         "start_lat": 40.084,
         "start_long": -82.84,
         "latitude": 40.05,
         "longitude": -82.922,
         "dwell time duration (seconds)": 55192.005,
         "predicted dwell interval greater than 10 hours": 0,
         "prob": "nan",
         "_deepnote_index_column": 29299
        },
        {
         "Unnamed: 0": 29300,
         "vin": "ffabe3f9905f857b5f4c64150c4945f0",
         "sequence": 49,
         "first": 1579291107.907,
         "last": 1579291661.913,
         "start_lat": 40.084,
         "start_long": -82.84,
         "latitude": 40.063,
         "longitude": -82.862,
         "dwell time duration (seconds)": 17890.8,
         "predicted dwell interval greater than 10 hours": 0,
         "prob": "nan",
         "_deepnote_index_column": 29300
        },
        {
         "Unnamed: 0": 29301,
         "vin": "ffabe3f9905f857b5f4c64150c4945f0",
         "sequence": 53,
         "first": 1579304770.938,
         "last": 1579306211.057,
         "start_lat": 40.084,
         "start_long": -82.84,
         "latitude": 40.143,
         "longitude": -82.967,
         "dwell time duration (seconds)": 8365.97,
         "predicted dwell interval greater than 10 hours": 0,
         "prob": "nan",
         "_deepnote_index_column": 29301
        },
        {
         "Unnamed: 0": 29302,
         "vin": "ffabe3f9905f857b5f4c64150c4945f0",
         "sequence": 56,
         "first": 1579361788.983,
         "last": 1579363907.111,
         "start_lat": 40.084,
         "start_long": -82.84,
         "latitude": 40.054,
         "longitude": -82.906,
         "dwell time duration (seconds)": 1887.88,
         "predicted dwell interval greater than 10 hours": 0,
         "prob": "nan",
         "_deepnote_index_column": 29302
        },
        {
         "Unnamed: 0": 29303,
         "vin": "ffabe3f9905f857b5f4c64150c4945f0",
         "sequence": 58,
         "first": 1579370303.105,
         "last": 1579370612.963,
         "start_lat": 40.084,
         "start_long": -82.84,
         "latitude": 40.085,
         "longitude": -82.817,
         "dwell time duration (seconds)": 3561.135,
         "predicted dwell interval greater than 10 hours": 0,
         "prob": "nan",
         "_deepnote_index_column": 29303
        },
        {
         "Unnamed: 0": 29304,
         "vin": "ffabe3f9905f857b5f4c64150c4945f0",
         "sequence": 60,
         "first": 1579377334.199,
         "last": 1579379231.209,
         "start_lat": 40.084,
         "start_long": -82.84,
         "latitude": 40.084,
         "longitude": -82.836,
         "dwell time duration (seconds)": 2057.324,
         "predicted dwell interval greater than 10 hours": 0,
         "prob": "nan",
         "_deepnote_index_column": 29304
        },
        {
         "Unnamed: 0": 29305,
         "vin": "ffabe3f9905f857b5f4c64150c4945f0",
         "sequence": 61,
         "first": 1579529575.173,
         "last": 1579530798.136,
         "start_lat": 40.084,
         "start_long": -82.84,
         "latitude": 40.113,
         "longitude": -83.004,
         "dwell time duration (seconds)": 150343.964,
         "predicted dwell interval greater than 10 hours": 0,
         "prob": "nan",
         "_deepnote_index_column": 29305
        },
        {
         "Unnamed: 0": 29306,
         "vin": "ffabe3f9905f857b5f4c64150c4945f0",
         "sequence": 72,
         "first": 1579698834.362,
         "last": 1579700871.824,
         "start_lat": 40.084,
         "start_long": -82.84,
         "latitude": 39.96,
         "longitude": -82.995,
         "dwell time duration (seconds)": 33222.491,
         "predicted dwell interval greater than 10 hours": 0,
         "prob": "nan",
         "_deepnote_index_column": 29306
        },
        {
         "Unnamed: 0": 29307,
         "vin": "ffabe3f9905f857b5f4c64150c4945f0",
         "sequence": 82,
         "first": 1579872682.93,
         "last": 1579873976.93,
         "start_lat": 40.084,
         "start_long": -82.84,
         "latitude": 40.112,
         "longitude": -83.004,
         "dwell time duration (seconds)": 50213.977,
         "predicted dwell interval greater than 10 hours": 0,
         "prob": "nan",
         "_deepnote_index_column": 29307
        },
        {
         "Unnamed: 0": 29308,
         "vin": "ffabe3f9905f857b5f4c64150c4945f0",
         "sequence": 85,
         "first": 1579906527.991,
         "last": 1579907514.972,
         "start_lat": 40.084,
         "start_long": -82.84,
         "latitude": 40.084,
         "longitude": -82.84,
         "dwell time duration (seconds)": 2821.003,
         "predicted dwell interval greater than 10 hours": 0,
         "prob": "nan",
         "_deepnote_index_column": 29308
        },
        {
         "Unnamed: 0": 29309,
         "vin": "ffabe3f9905f857b5f4c64150c4945f0",
         "sequence": 86,
         "first": 1579909338.959,
         "last": 1579909734.136,
         "start_lat": 40.084,
         "start_long": -82.84,
         "latitude": 40.083,
         "longitude": -82.808,
         "dwell time duration (seconds)": 1823.987,
         "predicted dwell interval greater than 10 hours": 0,
         "prob": "nan",
         "_deepnote_index_column": 29309
        },
        {
         "Unnamed: 0": 29310,
         "vin": "ffabe3f9905f857b5f4c64150c4945f0",
         "sequence": 88,
         "first": 1579966501.92,
         "last": 1579967362.928,
         "start_lat": 40.084,
         "start_long": -82.84,
         "latitude": 40.055,
         "longitude": -82.914,
         "dwell time duration (seconds)": 56159.933,
         "predicted dwell interval greater than 10 hours": 0,
         "prob": "nan",
         "_deepnote_index_column": 29310
        },
        {
         "Unnamed: 0": 29311,
         "vin": "ffabe3f9905f857b5f4c64150c4945f0",
         "sequence": 93,
         "first": 1579977164.259,
         "last": 1579977821.899,
         "start_lat": 40.084,
         "start_long": -82.84,
         "latitude": 40.04,
         "longitude": -82.863,
         "dwell time duration (seconds)": 2452.295,
         "predicted dwell interval greater than 10 hours": 0,
         "prob": "nan",
         "_deepnote_index_column": 29311
        },
        {
         "Unnamed: 0": 29312,
         "vin": "ffabe3f9905f857b5f4c64150c4945f0",
         "sequence": 101,
         "first": 1580213191.198,
         "last": 1580215213.864,
         "start_lat": 40.084,
         "start_long": -82.84,
         "latitude": 39.962,
         "longitude": -83.002,
         "dwell time duration (seconds)": 45470.239,
         "predicted dwell interval greater than 10 hours": 0,
         "prob": "nan",
         "_deepnote_index_column": 29312
        },
        {
         "Unnamed: 0": 29313,
         "vin": "ffabe3f9905f857b5f4c64150c4945f0",
         "sequence": 111,
         "first": 1580390836.782,
         "last": 1580392062.05,
         "start_lat": 40.084,
         "start_long": -82.84,
         "latitude": 40.111,
         "longitude": -82.993,
         "dwell time duration (seconds)": 50678.681,
         "predicted dwell interval greater than 10 hours": 0,
         "prob": "nan",
         "_deepnote_index_column": 29313
        },
        {
         "Unnamed: 0": 29314,
         "vin": "ffabe3f9905f857b5f4c64150c4945f0",
         "sequence": 117,
         "first": 1580561093.867,
         "last": 1580562037.944,
         "start_lat": 40.084,
         "start_long": -82.84,
         "latitude": 40.117,
         "longitude": -82.928,
         "dwell time duration (seconds)": 55044.835,
         "predicted dwell interval greater than 10 hours": 0,
         "prob": "nan",
         "_deepnote_index_column": 29314
        },
        {
         "Unnamed: 0": 29315,
         "vin": "ffabe3f9905f857b5f4c64150c4945f0",
         "sequence": 119,
         "first": 1580661648.505,
         "last": 1580661923.01,
         "start_lat": 40.084,
         "start_long": -82.84,
         "latitude": 40.081,
         "longitude": -82.816,
         "dwell time duration (seconds)": 95886.384,
         "predicted dwell interval greater than 10 hours": 0,
         "prob": "nan",
         "_deepnote_index_column": 29315
        },
        {
         "Unnamed: 0": 29316,
         "vin": "ffabe3f9905f857b5f4c64150c4945f0",
         "sequence": 121,
         "first": 1580680514.903,
         "last": 1580681271.769,
         "start_lat": 40.084,
         "start_long": -82.84,
         "latitude": 40.061,
         "longitude": -82.875,
         "dwell time duration (seconds)": 14128.948,
         "predicted dwell interval greater than 10 hours": 0,
         "prob": "nan",
         "_deepnote_index_column": 29316
        },
        {
         "Unnamed: 0": 29317,
         "vin": "ffabe3f9905f857b5f4c64150c4945f0",
         "sequence": 127,
         "first": 1580767493.25,
         "last": 1580767692.922,
         "start_lat": 40.084,
         "start_long": -82.84,
         "latitude": 40.076,
         "longitude": -82.837,
         "dwell time duration (seconds)": 1915.343,
         "predicted dwell interval greater than 10 hours": 0,
         "prob": "nan",
         "_deepnote_index_column": 29317
        },
        {
         "Unnamed: 0": 29318,
         "vin": "ffabe3f9905f857b5f4c64150c4945f0",
         "sequence": 21,
         "first": 1578698138.946,
         "last": 1578699723.945,
         "start_lat": 40.069,
         "start_long": -82.523,
         "latitude": 40.084,
         "longitude": -82.84,
         "dwell time duration (seconds)": 2815.011,
         "predicted dwell interval greater than 10 hours": 0,
         "prob": "nan",
         "_deepnote_index_column": 29318
        },
        {
         "Unnamed: 0": 29319,
         "vin": "ffabe3f9905f857b5f4c64150c4945f0",
         "sequence": 25,
         "first": 1578765575.962,
         "last": 1578766020.037,
         "start_lat": 40.061,
         "start_long": -82.875,
         "latitude": 40.079,
         "longitude": -82.852,
         "dwell time duration (seconds)": 178.002,
         "predicted dwell interval greater than 10 hours": 0,
         "prob": "nan",
         "_deepnote_index_column": 29319
        },
        {
         "Unnamed: 0": 29320,
         "vin": "ffabe3f9905f857b5f4c64150c4945f0",
         "sequence": 122,
         "first": 1580693301.963,
         "last": 1580694098.976,
         "start_lat": 40.061,
         "start_long": -82.875,
         "latitude": 40.084,
         "longitude": -82.84,
         "dwell time duration (seconds)": 12030.194,
         "predicted dwell interval greater than 10 hours": 0,
         "prob": "nan",
         "_deepnote_index_column": 29320
        },
        {
         "Unnamed: 0": 29321,
         "vin": "ffffe9555b16c2d737f6f2e8616b1e68",
         "sequence": 643,
         "first": 1578853591.445,
         "last": 1578854077.922,
         "start_lat": 40.136,
         "start_long": -82.996,
         "latitude": 40.178,
         "longitude": -82.997,
         "dwell time duration (seconds)": 48941.494,
         "predicted dwell interval greater than 10 hours": 0,
         "prob": "nan",
         "_deepnote_index_column": 29321
        }
       ]
      },
      "text/plain": "       Unnamed: 0                               vin  sequence         first  \\\n0               0  005b420fd9275f080ad79e1c4330357e      1146  1.578953e+09   \n1               1  008beb5671fb49a92dc0ef9de96979bf       556  1.578482e+09   \n2               2  008beb5671fb49a92dc0ef9de96979bf       559  1.578569e+09   \n3               3  008beb5671fb49a92dc0ef9de96979bf       562  1.578697e+09   \n4               4  008beb5671fb49a92dc0ef9de96979bf       567  1.578747e+09   \n...           ...                               ...       ...           ...   \n29317       29317  ffabe3f9905f857b5f4c64150c4945f0       127  1.580767e+09   \n29318       29318  ffabe3f9905f857b5f4c64150c4945f0        21  1.578698e+09   \n29319       29319  ffabe3f9905f857b5f4c64150c4945f0        25  1.578766e+09   \n29320       29320  ffabe3f9905f857b5f4c64150c4945f0       122  1.580693e+09   \n29321       29321  ffffe9555b16c2d737f6f2e8616b1e68       643  1.578854e+09   \n\n               last  start_lat  start_long  latitude  longitude  \\\n0      1.578954e+09     41.409     -81.497    41.379    -81.427   \n1      1.578484e+09     40.149     -82.904    40.100    -83.166   \n2      1.578571e+09     40.149     -82.904    40.100    -83.167   \n3      1.578698e+09     40.149     -82.904    40.058    -82.915   \n4      1.578747e+09     40.149     -82.904    40.128    -82.932   \n...             ...        ...         ...       ...        ...   \n29317  1.580768e+09     40.084     -82.840    40.076    -82.837   \n29318  1.578700e+09     40.069     -82.523    40.084    -82.840   \n29319  1.578766e+09     40.061     -82.875    40.079    -82.852   \n29320  1.580694e+09     40.061     -82.875    40.084    -82.840   \n29321  1.578854e+09     40.136     -82.996    40.178    -82.997   \n\n       dwell time duration (seconds)  \\\n0                          14185.917   \n1                          37768.558   \n2                          37819.974   \n3                          79243.785   \n4                          33563.998   \n...                              ...   \n29317                       1915.343   \n29318                       2815.011   \n29319                        178.002   \n29320                      12030.194   \n29321                      48941.494   \n\n       predicted dwell interval greater than 10 hours  prob  \n0                                                   0   NaN  \n1                                                   0   NaN  \n2                                                   0   NaN  \n3                                                   0   NaN  \n4                                                   0   NaN  \n...                                               ...   ...  \n29317                                               0   NaN  \n29318                                               0   NaN  \n29319                                               0   NaN  \n29320                                               0   NaN  \n29321                                               0   NaN  \n\n[29322 rows x 12 columns]",
      "text/html": "<div>\n<style scoped>\n    .dataframe tbody tr th:only-of-type {\n        vertical-align: middle;\n    }\n\n    .dataframe tbody tr th {\n        vertical-align: top;\n    }\n\n    .dataframe thead th {\n        text-align: right;\n    }\n</style>\n<table border=\"1\" class=\"dataframe\">\n  <thead>\n    <tr style=\"text-align: right;\">\n      <th></th>\n      <th>Unnamed: 0</th>\n      <th>vin</th>\n      <th>sequence</th>\n      <th>first</th>\n      <th>last</th>\n      <th>start_lat</th>\n      <th>start_long</th>\n      <th>latitude</th>\n      <th>longitude</th>\n      <th>dwell time duration (seconds)</th>\n      <th>predicted dwell interval greater than 10 hours</th>\n      <th>prob</th>\n    </tr>\n  </thead>\n  <tbody>\n    <tr>\n      <th>0</th>\n      <td>0</td>\n      <td>005b420fd9275f080ad79e1c4330357e</td>\n      <td>1146</td>\n      <td>1.578953e+09</td>\n      <td>1.578954e+09</td>\n      <td>41.409</td>\n      <td>-81.497</td>\n      <td>41.379</td>\n      <td>-81.427</td>\n      <td>14185.917</td>\n      <td>0</td>\n      <td>NaN</td>\n    </tr>\n    <tr>\n      <th>1</th>\n      <td>1</td>\n      <td>008beb5671fb49a92dc0ef9de96979bf</td>\n      <td>556</td>\n      <td>1.578482e+09</td>\n      <td>1.578484e+09</td>\n      <td>40.149</td>\n      <td>-82.904</td>\n      <td>40.100</td>\n      <td>-83.166</td>\n      <td>37768.558</td>\n      <td>0</td>\n      <td>NaN</td>\n    </tr>\n    <tr>\n      <th>2</th>\n      <td>2</td>\n      <td>008beb5671fb49a92dc0ef9de96979bf</td>\n      <td>559</td>\n      <td>1.578569e+09</td>\n      <td>1.578571e+09</td>\n      <td>40.149</td>\n      <td>-82.904</td>\n      <td>40.100</td>\n      <td>-83.167</td>\n      <td>37819.974</td>\n      <td>0</td>\n      <td>NaN</td>\n    </tr>\n    <tr>\n      <th>3</th>\n      <td>3</td>\n      <td>008beb5671fb49a92dc0ef9de96979bf</td>\n      <td>562</td>\n      <td>1.578697e+09</td>\n      <td>1.578698e+09</td>\n      <td>40.149</td>\n      <td>-82.904</td>\n      <td>40.058</td>\n      <td>-82.915</td>\n      <td>79243.785</td>\n      <td>0</td>\n      <td>NaN</td>\n    </tr>\n    <tr>\n      <th>4</th>\n      <td>4</td>\n      <td>008beb5671fb49a92dc0ef9de96979bf</td>\n      <td>567</td>\n      <td>1.578747e+09</td>\n      <td>1.578747e+09</td>\n      <td>40.149</td>\n      <td>-82.904</td>\n      <td>40.128</td>\n      <td>-82.932</td>\n      <td>33563.998</td>\n      <td>0</td>\n      <td>NaN</td>\n    </tr>\n    <tr>\n      <th>...</th>\n      <td>...</td>\n      <td>...</td>\n      <td>...</td>\n      <td>...</td>\n      <td>...</td>\n      <td>...</td>\n      <td>...</td>\n      <td>...</td>\n      <td>...</td>\n      <td>...</td>\n      <td>...</td>\n      <td>...</td>\n    </tr>\n    <tr>\n      <th>29317</th>\n      <td>29317</td>\n      <td>ffabe3f9905f857b5f4c64150c4945f0</td>\n      <td>127</td>\n      <td>1.580767e+09</td>\n      <td>1.580768e+09</td>\n      <td>40.084</td>\n      <td>-82.840</td>\n      <td>40.076</td>\n      <td>-82.837</td>\n      <td>1915.343</td>\n      <td>0</td>\n      <td>NaN</td>\n    </tr>\n    <tr>\n      <th>29318</th>\n      <td>29318</td>\n      <td>ffabe3f9905f857b5f4c64150c4945f0</td>\n      <td>21</td>\n      <td>1.578698e+09</td>\n      <td>1.578700e+09</td>\n      <td>40.069</td>\n      <td>-82.523</td>\n      <td>40.084</td>\n      <td>-82.840</td>\n      <td>2815.011</td>\n      <td>0</td>\n      <td>NaN</td>\n    </tr>\n    <tr>\n      <th>29319</th>\n      <td>29319</td>\n      <td>ffabe3f9905f857b5f4c64150c4945f0</td>\n      <td>25</td>\n      <td>1.578766e+09</td>\n      <td>1.578766e+09</td>\n      <td>40.061</td>\n      <td>-82.875</td>\n      <td>40.079</td>\n      <td>-82.852</td>\n      <td>178.002</td>\n      <td>0</td>\n      <td>NaN</td>\n    </tr>\n    <tr>\n      <th>29320</th>\n      <td>29320</td>\n      <td>ffabe3f9905f857b5f4c64150c4945f0</td>\n      <td>122</td>\n      <td>1.580693e+09</td>\n      <td>1.580694e+09</td>\n      <td>40.061</td>\n      <td>-82.875</td>\n      <td>40.084</td>\n      <td>-82.840</td>\n      <td>12030.194</td>\n      <td>0</td>\n      <td>NaN</td>\n    </tr>\n    <tr>\n      <th>29321</th>\n      <td>29321</td>\n      <td>ffffe9555b16c2d737f6f2e8616b1e68</td>\n      <td>643</td>\n      <td>1.578854e+09</td>\n      <td>1.578854e+09</td>\n      <td>40.136</td>\n      <td>-82.996</td>\n      <td>40.178</td>\n      <td>-82.997</td>\n      <td>48941.494</td>\n      <td>0</td>\n      <td>NaN</td>\n    </tr>\n  </tbody>\n</table>\n<p>29322 rows × 12 columns</p>\n</div>"
     },
     "metadata": {}
    }
   ],
   "execution_count": 79
  },
  {
   "cell_type": "code",
   "source": "",
   "metadata": {
    "tags": [],
    "cell_id": "00023-d63d578b-a368-451f-b31a-6edfb911480b",
    "deepnote_cell_type": "code"
   },
   "outputs": [],
   "execution_count": null
  },
  {
   "cell_type": "markdown",
   "source": "<a style='text-decoration:none;line-height:16px;display:flex;color:#5B5B62;padding:10px;justify-content:end;' href='https://deepnote.com?utm_source=created-in-deepnote-cell&projectId=608d4940-9d52-4d53-8e1b-b72eb309e61f' target=\"_blank\">\n<img alt='Created in deepnote.com' style='display:inline;max-height:16px;margin:0px;margin-right:7.5px;' src='data:image/svg+xml;base64,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' > </img>\nCreated in <span style='font-weight:600;margin-left:4px;'>Deepnote</span></a>",
   "metadata": {
    "tags": [],
    "created_in_deepnote_cell": true,
    "deepnote_cell_type": "markdown"
   }
  }
 ],
 "nbformat": 4,
 "nbformat_minor": 2,
 "metadata": {
  "orig_nbformat": 2,
  "deepnote": {
   "is_reactive": false
  },
  "deepnote_notebook_id": "4a6a29da-dfda-4249-ad54-4ccfb6b44a92",
  "deepnote_execution_queue": []
 }
}