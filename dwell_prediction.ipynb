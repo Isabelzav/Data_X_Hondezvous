{
 "cells": [
  {
   "cell_type": "markdown",
   "source": "Step by step approach to running the Dwell Time Prediction Model\n\nData Preprocessing:\n\n1.\tFilter the dataframe to (Vin, Sequence} multiindex format \n2.\tCreate a daylight column that is one if a trip is during the day and 0 if the trip is at night\n3.\tOptional: Filter the range of locations to be within the city of Columbus, Ohio.\n4.\tRemove outliers where trips are less than 5 minutes.\n\nModel Development\n\n1.\tUse DB scan to create your clusters.\n>* a.\tUse gen_dbs_clusters \n>* b.\tDecide what eps and min_samples you would like\n2.\tPlot the DB_Scan clusters\n>* a.\tUse Plot_clusters to see the various clusters on a geographical map\n3.\tTrain model to predict which cluster a given point belongs to based on either XGBoost or KNN methodology\n>* a.\tUse train_pred_model to build the optimal model for predicting clusters (Warning: Extremely computationally expensive)\n>* b.\tUse predicted_cluster_vals to predict the clusters your data belongs to.\n4.\tGet accuracy measurements for dwell time interval prediction\n>* a.\tUse interval_pred_accuracy to assess the quality of your model\n>>* i.\tUse get_interval_pred to connect the dwell time intervals with your associated predicted clusters\n>>* ii.\tUse accuracy to compare the interval predictions to the actual intervals\n",
   "metadata": {
    "tags": [],
    "cell_id": "00001-7848b632-aa64-4b89-954b-c91fd7059a85",
    "deepnote_cell_type": "markdown"
   }
  },
  {
   "cell_type": "code",
   "metadata": {
    "tags": [],
    "cell_id": "00000-ca94f643-d95a-4457-a155-6a18974a214d",
    "deepnote_to_be_reexecuted": false,
    "source_hash": "2caa98f7",
    "execution_millis": 1,
    "execution_start": 1620295382854,
    "deepnote_cell_type": "code"
   },
   "source": "import numpy as np\nimport pandas as pd\nimport seaborn as sns\nimport geopandas as gpd\nfrom shapely.geometry import Point, Polygon\nfrom geopandas import GeoDataFrame\nimport matplotlib.pyplot as plt\nimport sklearn\nimport sklearn.utils\nfrom sklearn.pipeline import Pipeline\nfrom sklearn.preprocessing import StandardScaler\nfrom sklearn.cluster import DBSCAN\nimport matplotlib.pyplot as plt\nimport scipy.stats as stats\nfrom datetime import datetime\nimport datetime\nfrom datetime import timedelta\nfrom sklearn.model_selection import cross_val_score, KFold, cross_validate, RandomizedSearchCV, GridSearchCV\nfrom sklearn.model_selection import train_test_split\nfrom sklearn.neighbors import KNeighborsClassifier\nfrom sklearn import metrics\nfrom hyperopt import STATUS_OK, Trials, fmin, hp, tpe\nimport xgboost as xgb\nfrom sklearn.metrics import accuracy_score\nfrom xgboost import XGBClassifier,plot_tree\nfrom sklearn.multioutput import MultiOutputClassifier\nfrom pandas_profiling import ProfileReport\nfrom sklearn.svm import SVC",
   "execution_count": 110,
   "outputs": []
  },
  {
   "cell_type": "code",
   "metadata": {
    "tags": [],
    "cell_id": "00001-c20d9a68-2d54-4a06-b224-6ca4bfbb75de",
    "deepnote_to_be_reexecuted": false,
    "source_hash": "db69026c",
    "execution_millis": 413,
    "execution_start": 1620258577055,
    "deepnote_cell_type": "code"
   },
   "source": "df = pd.read_csv(\"/work/Data/newdataset.csv\", index_col= [0,1])\ndf = df.dropna()\ndf = df.reset_index()\ndf = df.drop(columns = [\"level_0\"])\ndf = df.set_index([\"vin\",\"sequence\"])\ndf = df.sort_index()\ndf.sort_values('dwell time duration (seconds)', ascending = False)\ndf['datetime'] = pd.to_datetime(df['last'], unit = 's').dt.hour\ndf['daylight'] = ((df.datetime > 7) & (df.datetime < 19)) * 1\ndf",
   "execution_count": 2,
   "outputs": [
    {
     "output_type": "execute_result",
     "execution_count": 2,
     "data": {
      "application/vnd.deepnote.dataframe.v2+json": {
       "row_count": 47141,
       "column_count": 9,
       "columns": [
        {
         "name": "first",
         "dtype": "float64",
         "stats": {
          "unique_count": 47141,
          "nan_count": 0,
          "min": "1578401607.944",
          "max": "1580774376.581",
          "histogram": [
           {
            "bin_start": 1578401607.944,
            "bin_end": 1578638884.8077,
            "count": 3901
           },
           {
            "bin_start": 1578638884.8077,
            "bin_end": 1578876161.6714,
            "count": 4893
           },
           {
            "bin_start": 1578876161.6714,
            "bin_end": 1579113438.5351,
            "count": 4956
           },
           {
            "bin_start": 1579113438.5351,
            "bin_end": 1579350715.3988001,
            "count": 5127
           },
           {
            "bin_start": 1579350715.3988001,
            "bin_end": 1579587992.2625,
            "count": 4605
           },
           {
            "bin_start": 1579587992.2625,
            "bin_end": 1579825269.1262,
            "count": 3759
           },
           {
            "bin_start": 1579825269.1262,
            "bin_end": 1580062545.9899,
            "count": 4371
           },
           {
            "bin_start": 1580062545.9899,
            "bin_end": 1580299822.8536,
            "count": 4390
           },
           {
            "bin_start": 1580299822.8536,
            "bin_end": 1580537099.7173002,
            "count": 5939
           },
           {
            "bin_start": 1580537099.7173002,
            "bin_end": 1580774376.581,
            "count": 5200
           }
          ]
         }
        },
        {
         "name": "last",
         "dtype": "float64",
         "stats": {
          "unique_count": 47138,
          "nan_count": 0,
          "min": "1578401611.547",
          "max": "1580774399.995",
          "histogram": [
           {
            "bin_start": 1578401611.547,
            "bin_end": 1578638890.3918,
            "count": 3900
           },
           {
            "bin_start": 1578638890.3918,
            "bin_end": 1578876169.2366,
            "count": 4882
           },
           {
            "bin_start": 1578876169.2366,
            "bin_end": 1579113448.0814,
            "count": 4947
           },
           {
            "bin_start": 1579113448.0814,
            "bin_end": 1579350726.9262,
            "count": 5136
           },
           {
            "bin_start": 1579350726.9262,
            "bin_end": 1579588005.771,
            "count": 4616
           },
           {
            "bin_start": 1579588005.771,
            "bin_end": 1579825284.6158,
            "count": 3732
           },
           {
            "bin_start": 1579825284.6158,
            "bin_end": 1580062563.4606,
            "count": 4357
           },
           {
            "bin_start": 1580062563.4606,
            "bin_end": 1580299842.3054,
            "count": 4384
           },
           {
            "bin_start": 1580299842.3054,
            "bin_end": 1580537121.1502,
            "count": 5981
           },
           {
            "bin_start": 1580537121.1502,
            "bin_end": 1580774399.995,
            "count": 5206
           }
          ]
         }
        },
        {
         "name": "start_lat",
         "dtype": "float64"
        },
        {
         "name": "start_long",
         "dtype": "float64"
        },
        {
         "name": "latitude",
         "dtype": "float64"
        },
        {
         "name": "longitude",
         "dtype": "float64"
        },
        {
         "name": "dwell time duration (seconds)",
         "dtype": "float64"
        },
        {
         "name": "datetime",
         "dtype": "int64"
        },
        {
         "name": "daylight",
         "dtype": "int64"
        },
        {
         "name": "_deepnote_index_column",
         "dtype": "object"
        }
       ],
       "rows_top": [
        {
         "first": 1578927144.985,
         "last": 1578927994.968,
         "start_lat": 41.267,
         "start_long": -81.378,
         "latitude": 41.41,
         "longitude": -81.5,
         "dwell time duration (seconds)": 8938.025,
         "datetime": 15,
         "daylight": 1,
         "_deepnote_index_column": "('005b420fd9275f080ad79e1c4330357e', 1143)"
        },
        {
         "first": 1578938069.94,
         "last": 1578939136.049,
         "start_lat": 41.394,
         "start_long": -81.413,
         "latitude": 41.414,
         "longitude": -81.504,
         "dwell time duration (seconds)": 10074.972,
         "datetime": 18,
         "daylight": 1,
         "_deepnote_index_column": "('005b420fd9275f080ad79e1c4330357e', 1145)"
        },
        {
         "first": 1578953321.966,
         "last": 1578954028.967,
         "start_lat": 41.409,
         "start_long": -81.497,
         "latitude": 41.379,
         "longitude": -81.427,
         "dwell time duration (seconds)": 14185.917,
         "datetime": 22,
         "daylight": 0,
         "_deepnote_index_column": "('005b420fd9275f080ad79e1c4330357e', 1146)"
        },
        {
         "first": 1578443263.896,
         "last": 1578444607.89,
         "start_lat": 40.1,
         "start_long": -83.166,
         "latitude": 40.149,
         "longitude": -82.904,
         "dwell time duration (seconds)": 45104.446,
         "datetime": 0,
         "daylight": 0,
         "_deepnote_index_column": "('008beb5671fb49a92dc0ef9de96979bf', 555)"
        },
        {
         "first": 1578482376.448,
         "last": 1578484036.969,
         "start_lat": 40.149,
         "start_long": -82.904,
         "latitude": 40.1,
         "longitude": -83.166,
         "dwell time duration (seconds)": 37768.558,
         "datetime": 11,
         "daylight": 1,
         "_deepnote_index_column": "('008beb5671fb49a92dc0ef9de96979bf', 556)"
        },
        {
         "first": 1578530126.928,
         "last": 1578531627.955,
         "start_lat": 40.1,
         "start_long": -83.166,
         "latitude": 40.149,
         "longitude": -82.904,
         "dwell time duration (seconds)": 46089.959,
         "datetime": 1,
         "daylight": 0,
         "_deepnote_index_column": "('008beb5671fb49a92dc0ef9de96979bf', 558)"
        },
        {
         "first": 1578569447.929,
         "last": 1578570632.109,
         "start_lat": 40.149,
         "start_long": -82.904,
         "latitude": 40.1,
         "longitude": -83.167,
         "dwell time duration (seconds)": 37819.974,
         "datetime": 11,
         "daylight": 1,
         "_deepnote_index_column": "('008beb5671fb49a92dc0ef9de96979bf', 559)"
        },
        {
         "first": 1578616173.954,
         "last": 1578617636.176,
         "start_lat": 40.1,
         "start_long": -83.167,
         "latitude": 40.149,
         "longitude": -82.904,
         "dwell time duration (seconds)": 45541.845,
         "datetime": 0,
         "daylight": 0,
         "_deepnote_index_column": "('008beb5671fb49a92dc0ef9de96979bf', 561)"
        },
        {
         "first": 1578696879.961,
         "last": 1578698135.98,
         "start_lat": 40.149,
         "start_long": -82.904,
         "latitude": 40.058,
         "longitude": -82.915,
         "dwell time duration (seconds)": 79243.785,
         "datetime": 23,
         "daylight": 0,
         "_deepnote_index_column": "('008beb5671fb49a92dc0ef9de96979bf', 562)"
        },
        {
         "first": 1578704475.965,
         "last": 1578705355.95,
         "start_lat": 40.059,
         "start_long": -82.915,
         "latitude": 39.923,
         "longitude": -82.836,
         "dwell time duration (seconds)": 6339.985,
         "datetime": 1,
         "daylight": 0,
         "_deepnote_index_column": "('008beb5671fb49a92dc0ef9de96979bf', 564)"
        },
        {
         "first": 1578711521.029,
         "last": 1578713266.987,
         "start_lat": 39.922,
         "start_long": -82.836,
         "latitude": 40.149,
         "longitude": -82.904,
         "dwell time duration (seconds)": 6165.079,
         "datetime": 3,
         "daylight": 0,
         "_deepnote_index_column": "('008beb5671fb49a92dc0ef9de96979bf', 565)"
        },
        {
         "first": 1578746830.985,
         "last": 1578747416.04,
         "start_lat": 40.149,
         "start_long": -82.904,
         "latitude": 40.128,
         "longitude": -82.932,
         "dwell time duration (seconds)": 33563.998,
         "datetime": 12,
         "daylight": 1,
         "_deepnote_index_column": "('008beb5671fb49a92dc0ef9de96979bf', 567)"
        },
        {
         "first": 1578750996.488,
         "last": 1578752316.942,
         "start_lat": 40.128,
         "start_long": -82.932,
         "latitude": 40.149,
         "longitude": -82.904,
         "dwell time duration (seconds)": 3580.448,
         "datetime": 14,
         "daylight": 1,
         "_deepnote_index_column": "('008beb5671fb49a92dc0ef9de96979bf', 568)"
        },
        {
         "first": 1578758614.962,
         "last": 1578758709.994,
         "start_lat": 40.149,
         "start_long": -82.904,
         "latitude": 40.149,
         "longitude": -82.904,
         "dwell time duration (seconds)": 6298.02,
         "datetime": 16,
         "daylight": 1,
         "_deepnote_index_column": "('008beb5671fb49a92dc0ef9de96979bf', 570)"
        },
        {
         "first": 1578762329.788,
         "last": 1578762369.781,
         "start_lat": 40.149,
         "start_long": -82.904,
         "latitude": 40.149,
         "longitude": -82.904,
         "dwell time duration (seconds)": 3619.794,
         "datetime": 17,
         "daylight": 1,
         "_deepnote_index_column": "('008beb5671fb49a92dc0ef9de96979bf', 571)"
        },
        {
         "first": 1578766570.212,
         "last": 1578766580.927,
         "start_lat": 40.149,
         "start_long": -82.904,
         "latitude": 40.149,
         "longitude": -82.904,
         "dwell time duration (seconds)": 4200.431,
         "datetime": 18,
         "daylight": 1,
         "_deepnote_index_column": "('008beb5671fb49a92dc0ef9de96979bf', 573)"
        },
        {
         "first": 1578778651.983,
         "last": 1578779369.97,
         "start_lat": 40.149,
         "start_long": -82.904,
         "latitude": 40.14,
         "longitude": -82.982,
         "dwell time duration (seconds)": 12071.056,
         "datetime": 21,
         "daylight": 0,
         "_deepnote_index_column": "('008beb5671fb49a92dc0ef9de96979bf', 574)"
        },
        {
         "first": 1578781055.921,
         "last": 1578782387.951,
         "start_lat": 40.14,
         "start_long": -82.982,
         "latitude": 40.149,
         "longitude": -82.904,
         "dwell time duration (seconds)": 1685.951,
         "datetime": 22,
         "daylight": 0,
         "_deepnote_index_column": "('008beb5671fb49a92dc0ef9de96979bf', 576)"
        },
        {
         "first": 1578782612.904,
         "last": 1578782625.905,
         "start_lat": 40.149,
         "start_long": -82.904,
         "latitude": 40.149,
         "longitude": -82.904,
         "dwell time duration (seconds)": 224.953,
         "datetime": 22,
         "daylight": 0,
         "_deepnote_index_column": "('008beb5671fb49a92dc0ef9de96979bf', 577)"
        },
        {
         "first": 1578918291.429,
         "last": 1578919847.554,
         "start_lat": 40.149,
         "start_long": -82.904,
         "latitude": 40.1,
         "longitude": -83.167,
         "dwell time duration (seconds)": 135665.524,
         "datetime": 12,
         "daylight": 1,
         "_deepnote_index_column": "('008beb5671fb49a92dc0ef9de96979bf', 585)"
        },
        {
         "first": 1578961627.98,
         "last": 1578963020.994,
         "start_lat": 40.1,
         "start_long": -83.166,
         "latitude": 40.149,
         "longitude": -82.904,
         "dwell time duration (seconds)": 41780.426,
         "datetime": 0,
         "daylight": 0,
         "_deepnote_index_column": "('008beb5671fb49a92dc0ef9de96979bf', 586)"
        },
        {
         "first": 1579001282.871,
         "last": 1579002531.966,
         "start_lat": 40.149,
         "start_long": -82.904,
         "latitude": 40.1,
         "longitude": -83.167,
         "dwell time duration (seconds)": 38261.877,
         "datetime": 11,
         "daylight": 1,
         "_deepnote_index_column": "('008beb5671fb49a92dc0ef9de96979bf', 588)"
        },
        {
         "first": 1579048090.911,
         "last": 1579049311.005,
         "start_lat": 40.1,
         "start_long": -83.167,
         "latitude": 40.146,
         "longitude": -82.916,
         "dwell time duration (seconds)": 45558.945,
         "datetime": 0,
         "daylight": 0,
         "_deepnote_index_column": "('008beb5671fb49a92dc0ef9de96979bf', 589)"
        },
        {
         "first": 1579097522.974,
         "last": 1579098132.712,
         "start_lat": 40.149,
         "start_long": -82.904,
         "latitude": 40.148,
         "longitude": -82.977,
         "dwell time duration (seconds)": 48211.969,
         "datetime": 14,
         "daylight": 1,
         "_deepnote_index_column": "('008beb5671fb49a92dc0ef9de96979bf', 591)"
        },
        {
         "first": 1579102549.942,
         "last": 1579103031.927,
         "start_lat": 40.148,
         "start_long": -82.977,
         "latitude": 40.149,
         "longitude": -82.904,
         "dwell time duration (seconds)": 4417.23,
         "datetime": 15,
         "daylight": 1,
         "_deepnote_index_column": "('008beb5671fb49a92dc0ef9de96979bf', 592)"
        },
        {
         "first": 1579120513.309,
         "last": 1579121189.165,
         "start_lat": 40.148,
         "start_long": -82.905,
         "latitude": 40.149,
         "longitude": -82.979,
         "dwell time duration (seconds)": 17481.382,
         "datetime": 20,
         "daylight": 0,
         "_deepnote_index_column": "('008beb5671fb49a92dc0ef9de96979bf', 594)"
        },
        {
         "first": 1579130062.821,
         "last": 1579130197.943,
         "start_lat": 40.149,
         "start_long": -82.979,
         "latitude": 40.15,
         "longitude": -82.977,
         "dwell time duration (seconds)": 8873.656,
         "datetime": 23,
         "daylight": 0,
         "_deepnote_index_column": "('008beb5671fb49a92dc0ef9de96979bf', 595)"
        },
        {
         "first": 1579131686.796,
         "last": 1579132512.798,
         "start_lat": 40.15,
         "start_long": -82.976,
         "latitude": 40.149,
         "longitude": -82.904,
         "dwell time duration (seconds)": 1488.853,
         "datetime": 23,
         "daylight": 0,
         "_deepnote_index_column": "('008beb5671fb49a92dc0ef9de96979bf', 597)"
        },
        {
         "first": 1579259789.418,
         "last": 1579261599.369,
         "start_lat": 40.149,
         "start_long": -82.904,
         "latitude": 40.101,
         "longitude": -83.166,
         "dwell time duration (seconds)": 127276.62,
         "datetime": 11,
         "daylight": 1,
         "_deepnote_index_column": "('008beb5671fb49a92dc0ef9de96979bf', 602)"
        },
        {
         "first": 1579305819.931,
         "last": 1579306991.942,
         "start_lat": 40.1,
         "start_long": -83.166,
         "latitude": 40.149,
         "longitude": -82.921,
         "dwell time duration (seconds)": 44220.562,
         "datetime": 0,
         "daylight": 0,
         "_deepnote_index_column": "('008beb5671fb49a92dc0ef9de96979bf', 603)"
        },
        {
         "first": 1579307775.954,
         "last": 1579307972.919,
         "start_lat": 40.148,
         "start_long": -82.921,
         "latitude": 40.149,
         "longitude": -82.904,
         "dwell time duration (seconds)": 784.012,
         "datetime": 0,
         "daylight": 0,
         "_deepnote_index_column": "('008beb5671fb49a92dc0ef9de96979bf', 604)"
        },
        {
         "first": 1579351401.888,
         "last": 1579351864.878,
         "start_lat": 40.149,
         "start_long": -82.904,
         "latitude": 40.127,
         "longitude": -82.932,
         "dwell time duration (seconds)": 43428.969,
         "datetime": 12,
         "daylight": 1,
         "_deepnote_index_column": "('008beb5671fb49a92dc0ef9de96979bf', 606)"
        },
        {
         "first": 1579355684.948,
         "last": 1579356097.953,
         "start_lat": 40.127,
         "start_long": -82.932,
         "latitude": 40.149,
         "longitude": -82.904,
         "dwell time duration (seconds)": 3820.07,
         "datetime": 14,
         "daylight": 1,
         "_deepnote_index_column": "('008beb5671fb49a92dc0ef9de96979bf', 607)"
        },
        {
         "first": 1579388261.939,
         "last": 1579395318.138,
         "start_lat": 40.149,
         "start_long": -82.904,
         "latitude": 41.374,
         "longitude": -83.65,
         "dwell time duration (seconds)": 32163.986,
         "datetime": 0,
         "daylight": 0,
         "_deepnote_index_column": "('008beb5671fb49a92dc0ef9de96979bf', 609)"
        },
        {
         "first": 1579401451.914,
         "last": 1579401859.914,
         "start_lat": 41.374,
         "start_long": -83.65,
         "latitude": 41.379,
         "longitude": -83.629,
         "dwell time duration (seconds)": 6133.776,
         "datetime": 2,
         "daylight": 0,
         "_deepnote_index_column": "('008beb5671fb49a92dc0ef9de96979bf', 610)"
        },
        {
         "first": 1579405215.904,
         "last": 1579405360.9,
         "start_lat": 41.379,
         "start_long": -83.629,
         "latitude": 41.374,
         "longitude": -83.623,
         "dwell time duration (seconds)": 3355.99,
         "datetime": 3,
         "daylight": 0,
         "_deepnote_index_column": "('008beb5671fb49a92dc0ef9de96979bf', 612)"
        },
        {
         "first": 1579405625.87,
         "last": 1579405780.007,
         "start_lat": 41.374,
         "start_long": -83.624,
         "latitude": 41.379,
         "longitude": -83.629,
         "dwell time duration (seconds)": 264.97,
         "datetime": 3,
         "daylight": 0,
         "_deepnote_index_column": "('008beb5671fb49a92dc0ef9de96979bf', 613)"
        },
        {
         "first": 1579411077.949,
         "last": 1579411306.953,
         "start_lat": 41.379,
         "start_long": -83.629,
         "latitude": 41.379,
         "longitude": -83.629,
         "dwell time duration (seconds)": 5297.942,
         "datetime": 5,
         "daylight": 0,
         "_deepnote_index_column": "('008beb5671fb49a92dc0ef9de96979bf', 615)"
        },
        {
         "first": 1579412482.902,
         "last": 1579419111.206,
         "start_lat": 41.378,
         "start_long": -83.628,
         "latitude": 40.149,
         "longitude": -82.904,
         "dwell time duration (seconds)": 1175.949,
         "datetime": 7,
         "daylight": 0,
         "_deepnote_index_column": "('008beb5671fb49a92dc0ef9de96979bf', 616)"
        },
        {
         "first": 1579453611.809,
         "last": 1579455309.844,
         "start_lat": 40.149,
         "start_long": -82.904,
         "latitude": 40.051,
         "longitude": -82.913,
         "dwell time duration (seconds)": 34500.603,
         "datetime": 17,
         "daylight": 1,
         "_deepnote_index_column": "('008beb5671fb49a92dc0ef9de96979bf', 618)"
        },
        {
         "first": 1579459887.693,
         "last": 1579460138.9,
         "start_lat": 40.052,
         "start_long": -82.914,
         "latitude": 40.055,
         "longitude": -82.909,
         "dwell time duration (seconds)": 4577.849,
         "datetime": 18,
         "daylight": 1,
         "_deepnote_index_column": "('008beb5671fb49a92dc0ef9de96979bf', 619)"
        },
        {
         "first": 1579462143.889,
         "last": 1579462365.932,
         "start_lat": 40.056,
         "start_long": -82.909,
         "latitude": 40.057,
         "longitude": -82.909,
         "dwell time duration (seconds)": 2004.989,
         "datetime": 19,
         "daylight": 0,
         "_deepnote_index_column": "('008beb5671fb49a92dc0ef9de96979bf', 621)"
        },
        {
         "first": 1579463900.983,
         "last": 1579464861.941,
         "start_lat": 40.057,
         "start_long": -82.909,
         "latitude": 40.149,
         "longitude": -82.904,
         "dwell time duration (seconds)": 1535.051,
         "datetime": 20,
         "daylight": 0,
         "_deepnote_index_column": "('008beb5671fb49a92dc0ef9de96979bf', 622)"
        },
        {
         "first": 1579523409.13,
         "last": 1579524674.106,
         "start_lat": 40.149,
         "start_long": -82.904,
         "latitude": 40.1,
         "longitude": -83.163,
         "dwell time duration (seconds)": 58547.189,
         "datetime": 12,
         "daylight": 1,
         "_deepnote_index_column": "('008beb5671fb49a92dc0ef9de96979bf', 624)"
        },
        {
         "first": 1579653171.373,
         "last": 1579654579.971,
         "start_lat": 40.101,
         "start_long": -83.166,
         "latitude": 40.149,
         "longitude": -82.904,
         "dwell time duration (seconds)": 128497.267,
         "datetime": 0,
         "daylight": 0,
         "_deepnote_index_column": "('008beb5671fb49a92dc0ef9de96979bf', 628)"
        },
        {
         "first": 1579711418.708,
         "last": 1579712150.96,
         "start_lat": 40.148,
         "start_long": -82.904,
         "latitude": 40.148,
         "longitude": -82.977,
         "dwell time duration (seconds)": 56838.737,
         "datetime": 16,
         "daylight": 1,
         "_deepnote_index_column": "('008beb5671fb49a92dc0ef9de96979bf', 630)"
        },
        {
         "first": 1579715973.74,
         "last": 1579716152.955,
         "start_lat": 40.148,
         "start_long": -82.978,
         "latitude": 40.149,
         "longitude": -82.976,
         "dwell time duration (seconds)": 3822.78,
         "datetime": 18,
         "daylight": 1,
         "_deepnote_index_column": "('008beb5671fb49a92dc0ef9de96979bf', 631)"
        },
        {
         "first": 1579716334.418,
         "last": 1579717056.949,
         "start_lat": 40.15,
         "start_long": -82.976,
         "latitude": 40.149,
         "longitude": -82.904,
         "dwell time duration (seconds)": 181.463,
         "datetime": 18,
         "daylight": 1,
         "_deepnote_index_column": "('008beb5671fb49a92dc0ef9de96979bf', 633)"
        },
        {
         "first": 1579732011.973,
         "last": 1579734253.069,
         "start_lat": 40.149,
         "start_long": -82.904,
         "latitude": 39.971,
         "longitude": -83.004,
         "dwell time duration (seconds)": 14955.024,
         "datetime": 23,
         "daylight": 0,
         "_deepnote_index_column": "('008beb5671fb49a92dc0ef9de96979bf', 634)"
        },
        {
         "first": 1579749725.74,
         "last": 1579752666.87,
         "start_lat": 39.971,
         "start_long": -83.004,
         "latitude": 40.149,
         "longitude": -82.904,
         "dwell time duration (seconds)": 15472.671,
         "datetime": 4,
         "daylight": 0,
         "_deepnote_index_column": "('008beb5671fb49a92dc0ef9de96979bf', 636)"
        },
        {
         "first": 1579779230.168,
         "last": 1579780592.938,
         "start_lat": 40.149,
         "start_long": -82.904,
         "latitude": 40.1,
         "longitude": -83.167,
         "dwell time duration (seconds)": 26563.298,
         "datetime": 11,
         "daylight": 1,
         "_deepnote_index_column": "('008beb5671fb49a92dc0ef9de96979bf', 637)"
        },
        {
         "first": 1579824258.983,
         "last": 1579825707.962,
         "start_lat": 40.1,
         "start_long": -83.166,
         "latitude": 40.149,
         "longitude": -82.904,
         "dwell time duration (seconds)": 43666.045,
         "datetime": 0,
         "daylight": 0,
         "_deepnote_index_column": "('008beb5671fb49a92dc0ef9de96979bf', 639)"
        },
        {
         "first": 1579874994.679,
         "last": 1579875633.689,
         "start_lat": 40.148,
         "start_long": -82.904,
         "latitude": 40.148,
         "longitude": -82.977,
         "dwell time duration (seconds)": 49286.717,
         "datetime": 14,
         "daylight": 1,
         "_deepnote_index_column": "('008beb5671fb49a92dc0ef9de96979bf', 640)"
        },
        {
         "first": 1579880039.503,
         "last": 1579880515.993,
         "start_lat": 40.148,
         "start_long": -82.977,
         "latitude": 40.149,
         "longitude": -82.904,
         "dwell time duration (seconds)": 4405.814,
         "datetime": 15,
         "daylight": 1,
         "_deepnote_index_column": "('008beb5671fb49a92dc0ef9de96979bf', 642)"
        },
        {
         "first": 1579907978.118,
         "last": 1579908233.896,
         "start_lat": 40.149,
         "start_long": -82.904,
         "latitude": 40.149,
         "longitude": -82.921,
         "dwell time duration (seconds)": 27462.125,
         "datetime": 23,
         "daylight": 0,
         "_deepnote_index_column": "('008beb5671fb49a92dc0ef9de96979bf', 643)"
        }
       ],
       "rows_bottom": [
        {
         "first": 1579732465.026,
         "last": 1579732823.859,
         "start_lat": 39.97,
         "start_long": -83.002,
         "latitude": 39.971,
         "longitude": -83.004,
         "dwell time duration (seconds)": 241.008,
         "datetime": 22,
         "daylight": 0,
         "_deepnote_index_column": "('ffabe3f9905f857b5f4c64150c4945f0', 77)"
        },
        {
         "first": 1579744251.977,
         "last": 1579745995.983,
         "start_lat": 39.972,
         "start_long": -83.003,
         "latitude": 40.084,
         "longitude": -82.84,
         "dwell time duration (seconds)": 11428.118,
         "datetime": 2,
         "daylight": 0,
         "_deepnote_index_column": "('ffabe3f9905f857b5f4c64150c4945f0', 78)"
        },
        {
         "first": 1579787801,
         "last": 1579788990.944,
         "start_lat": 40.084,
         "start_long": -82.839,
         "latitude": 40.112,
         "longitude": -83.005,
         "dwell time duration (seconds)": 41805.017,
         "datetime": 14,
         "daylight": 1,
         "_deepnote_index_column": "('ffabe3f9905f857b5f4c64150c4945f0', 79)"
        },
        {
         "first": 1579812901.153,
         "last": 1579813033.754,
         "start_lat": 40.113,
         "start_long": -83.005,
         "latitude": 40.118,
         "longitude": -83.012,
         "dwell time duration (seconds)": 23910.209,
         "datetime": 20,
         "daylight": 0,
         "_deepnote_index_column": "('ffabe3f9905f857b5f4c64150c4945f0', 80)"
        },
        {
         "first": 1579821462.418,
         "last": 1579822468.953,
         "start_lat": 40.118,
         "start_long": -83.012,
         "latitude": 40.084,
         "longitude": -82.84,
         "dwell time duration (seconds)": 8428.664,
         "datetime": 23,
         "daylight": 0,
         "_deepnote_index_column": "('ffabe3f9905f857b5f4c64150c4945f0', 81)"
        },
        {
         "first": 1579872682.93,
         "last": 1579873976.93,
         "start_lat": 40.084,
         "start_long": -82.84,
         "latitude": 40.112,
         "longitude": -83.004,
         "dwell time duration (seconds)": 50213.977,
         "datetime": 13,
         "daylight": 1,
         "_deepnote_index_column": "('ffabe3f9905f857b5f4c64150c4945f0', 82)"
        },
        {
         "first": 1579901202.193,
         "last": 1579902951.204,
         "start_lat": 40.114,
         "start_long": -83.006,
         "latitude": 40.08,
         "longitude": -82.813,
         "dwell time duration (seconds)": 27225.263,
         "datetime": 21,
         "daylight": 0,
         "_deepnote_index_column": "('ffabe3f9905f857b5f4c64150c4945f0', 83)"
        },
        {
         "first": 1579903309.016,
         "last": 1579903706.988,
         "start_lat": 40.08,
         "start_long": -82.814,
         "latitude": 40.084,
         "longitude": -82.84,
         "dwell time duration (seconds)": 357.812,
         "datetime": 22,
         "daylight": 0,
         "_deepnote_index_column": "('ffabe3f9905f857b5f4c64150c4945f0', 84)"
        },
        {
         "first": 1579906527.991,
         "last": 1579907514.972,
         "start_lat": 40.084,
         "start_long": -82.84,
         "latitude": 40.084,
         "longitude": -82.84,
         "dwell time duration (seconds)": 2821.003,
         "datetime": 23,
         "daylight": 0,
         "_deepnote_index_column": "('ffabe3f9905f857b5f4c64150c4945f0', 85)"
        },
        {
         "first": 1579909338.959,
         "last": 1579909734.136,
         "start_lat": 40.084,
         "start_long": -82.84,
         "latitude": 40.083,
         "longitude": -82.808,
         "dwell time duration (seconds)": 1823.987,
         "datetime": 23,
         "daylight": 0,
         "_deepnote_index_column": "('ffabe3f9905f857b5f4c64150c4945f0', 86)"
        },
        {
         "first": 1579909937.023,
         "last": 1579910341.987,
         "start_lat": 40.083,
         "start_long": -82.808,
         "latitude": 40.084,
         "longitude": -82.84,
         "dwell time duration (seconds)": 202.887,
         "datetime": 23,
         "daylight": 0,
         "_deepnote_index_column": "('ffabe3f9905f857b5f4c64150c4945f0', 87)"
        },
        {
         "first": 1579966501.92,
         "last": 1579967362.928,
         "start_lat": 40.084,
         "start_long": -82.84,
         "latitude": 40.055,
         "longitude": -82.914,
         "dwell time duration (seconds)": 56159.933,
         "datetime": 15,
         "daylight": 1,
         "_deepnote_index_column": "('ffabe3f9905f857b5f4c64150c4945f0', 88)"
        },
        {
         "first": 1579969723.045,
         "last": 1579969983.958,
         "start_lat": 40.055,
         "start_long": -82.914,
         "latitude": 40.053,
         "longitude": -82.908,
         "dwell time duration (seconds)": 2360.117,
         "datetime": 16,
         "daylight": 1,
         "_deepnote_index_column": "('ffabe3f9905f857b5f4c64150c4945f0', 89)"
        },
        {
         "first": 1579970141.06,
         "last": 1579970208.778,
         "start_lat": 40.053,
         "start_long": -82.908,
         "latitude": 40.054,
         "longitude": -82.906,
         "dwell time duration (seconds)": 157.102,
         "datetime": 16,
         "daylight": 1,
         "_deepnote_index_column": "('ffabe3f9905f857b5f4c64150c4945f0', 90)"
        },
        {
         "first": 1579972035.984,
         "last": 1579972403.988,
         "start_lat": 40.054,
         "start_long": -82.906,
         "latitude": 40.049,
         "longitude": -82.918,
         "dwell time duration (seconds)": 1827.206,
         "datetime": 17,
         "daylight": 1,
         "_deepnote_index_column": "('ffabe3f9905f857b5f4c64150c4945f0', 91)"
        },
        {
         "first": 1579973751.894,
         "last": 1579974711.964,
         "start_lat": 40.049,
         "start_long": -82.918,
         "latitude": 40.084,
         "longitude": -82.84,
         "dwell time duration (seconds)": 1347.906,
         "datetime": 17,
         "daylight": 1,
         "_deepnote_index_column": "('ffabe3f9905f857b5f4c64150c4945f0', 92)"
        },
        {
         "first": 1579977164.259,
         "last": 1579977821.899,
         "start_lat": 40.084,
         "start_long": -82.84,
         "latitude": 40.04,
         "longitude": -82.863,
         "dwell time duration (seconds)": 2452.295,
         "datetime": 18,
         "daylight": 1,
         "_deepnote_index_column": "('ffabe3f9905f857b5f4c64150c4945f0', 93)"
        },
        {
         "first": 1579979794.403,
         "last": 1579983385.039,
         "start_lat": 40.04,
         "start_long": -82.863,
         "latitude": 40.079,
         "longitude": -82.852,
         "dwell time duration (seconds)": 1972.504,
         "datetime": 20,
         "daylight": 0,
         "_deepnote_index_column": "('ffabe3f9905f857b5f4c64150c4945f0', 94)"
        },
        {
         "first": 1579994818.877,
         "last": 1579995536.039,
         "start_lat": 40.083,
         "start_long": -82.84,
         "latitude": 40.081,
         "longitude": -82.816,
         "dwell time duration (seconds)": 11433.838,
         "datetime": 23,
         "daylight": 0,
         "_deepnote_index_column": "('ffabe3f9905f857b5f4c64150c4945f0', 95)"
        },
        {
         "first": 1580131985.753,
         "last": 1580133174.792,
         "start_lat": 40.084,
         "start_long": -82.839,
         "latitude": 40.113,
         "longitude": -83.005,
         "dwell time duration (seconds)": 136449.714,
         "datetime": 13,
         "daylight": 1,
         "_deepnote_index_column": "('ffabe3f9905f857b5f4c64150c4945f0', 98)"
        },
        {
         "first": 1580134926.897,
         "last": 1580135166.664,
         "start_lat": 40.113,
         "start_long": -83.005,
         "latitude": 40.112,
         "longitude": -83.006,
         "dwell time duration (seconds)": 1752.105,
         "datetime": 14,
         "daylight": 1,
         "_deepnote_index_column": "('ffabe3f9905f857b5f4c64150c4945f0', 99)"
        },
        {
         "first": 1580166484.198,
         "last": 1580167720.959,
         "start_lat": 40.113,
         "start_long": -83.006,
         "latitude": 40.084,
         "longitude": -82.84,
         "dwell time duration (seconds)": 31317.534,
         "datetime": 23,
         "daylight": 0,
         "_deepnote_index_column": "('ffabe3f9905f857b5f4c64150c4945f0', 100)"
        },
        {
         "first": 1580213191.198,
         "last": 1580215213.864,
         "start_lat": 40.084,
         "start_long": -82.84,
         "latitude": 39.962,
         "longitude": -83.002,
         "dwell time duration (seconds)": 45470.239,
         "datetime": 12,
         "daylight": 1,
         "_deepnote_index_column": "('ffabe3f9905f857b5f4c64150c4945f0', 101)"
        },
        {
         "first": 1580239551.264,
         "last": 1580240797.364,
         "start_lat": 39.959,
         "start_long": -82.997,
         "latitude": 40.113,
         "longitude": -83.005,
         "dwell time duration (seconds)": 24337.4,
         "datetime": 19,
         "daylight": 0,
         "_deepnote_index_column": "('ffabe3f9905f857b5f4c64150c4945f0', 102)"
        },
        {
         "first": 1580254077.19,
         "last": 1580255198.957,
         "start_lat": 40.113,
         "start_long": -83.005,
         "latitude": 40.084,
         "longitude": -82.84,
         "dwell time duration (seconds)": 13279.826,
         "datetime": 23,
         "daylight": 0,
         "_deepnote_index_column": "('ffabe3f9905f857b5f4c64150c4945f0', 103)"
        },
        {
         "first": 1580310943.252,
         "last": 1580311637.152,
         "start_lat": 40.084,
         "start_long": -82.839,
         "latitude": 40.04,
         "longitude": -82.863,
         "dwell time duration (seconds)": 55744.295,
         "datetime": 15,
         "daylight": 1,
         "_deepnote_index_column": "('ffabe3f9905f857b5f4c64150c4945f0', 104)"
        },
        {
         "first": 1580312264.302,
         "last": 1580312332.961,
         "start_lat": 40.04,
         "start_long": -82.862,
         "latitude": 40.039,
         "longitude": -82.862,
         "dwell time duration (seconds)": 627.15,
         "datetime": 15,
         "daylight": 1,
         "_deepnote_index_column": "('ffabe3f9905f857b5f4c64150c4945f0', 105)"
        },
        {
         "first": 1580312715.187,
         "last": 1580316344.961,
         "start_lat": 40.039,
         "start_long": -82.862,
         "latitude": 40.112,
         "longitude": -83.005,
         "dwell time duration (seconds)": 382.226,
         "datetime": 16,
         "daylight": 1,
         "_deepnote_index_column": "('ffabe3f9905f857b5f4c64150c4945f0', 106)"
        },
        {
         "first": 1580326921.193,
         "last": 1580327653.755,
         "start_lat": 40.113,
         "start_long": -83.004,
         "latitude": 40.095,
         "longitude": -83.066,
         "dwell time duration (seconds)": 10576.232,
         "datetime": 19,
         "daylight": 0,
         "_deepnote_index_column": "('ffabe3f9905f857b5f4c64150c4945f0', 107)"
        },
        {
         "first": 1580333273.89,
         "last": 1580334865.995,
         "start_lat": 40.095,
         "start_long": -83.066,
         "latitude": 40.084,
         "longitude": -82.84,
         "dwell time duration (seconds)": 5620.135,
         "datetime": 21,
         "daylight": 0,
         "_deepnote_index_column": "('ffabe3f9905f857b5f4c64150c4945f0', 108)"
        },
        {
         "first": 1580336404.632,
         "last": 1580337106.887,
         "start_lat": 40.083,
         "start_long": -82.839,
         "latitude": 40.039,
         "longitude": -82.862,
         "dwell time duration (seconds)": 1538.637,
         "datetime": 22,
         "daylight": 0,
         "_deepnote_index_column": "('ffabe3f9905f857b5f4c64150c4945f0', 109)"
        },
        {
         "first": 1580338235.061,
         "last": 1580340158.101,
         "start_lat": 40.039,
         "start_long": -82.862,
         "latitude": 40.084,
         "longitude": -82.84,
         "dwell time duration (seconds)": 1128.174,
         "datetime": 23,
         "daylight": 0,
         "_deepnote_index_column": "('ffabe3f9905f857b5f4c64150c4945f0', 110)"
        },
        {
         "first": 1580390836.782,
         "last": 1580392062.05,
         "start_lat": 40.084,
         "start_long": -82.84,
         "latitude": 40.111,
         "longitude": -82.993,
         "dwell time duration (seconds)": 50678.681,
         "datetime": 13,
         "daylight": 1,
         "_deepnote_index_column": "('ffabe3f9905f857b5f4c64150c4945f0', 111)"
        },
        {
         "first": 1580427567.265,
         "last": 1580428807.281,
         "start_lat": 40.113,
         "start_long": -83.005,
         "latitude": 40.094,
         "longitude": -82.824,
         "dwell time duration (seconds)": 35505.215,
         "datetime": 0,
         "daylight": 0,
         "_deepnote_index_column": "('ffabe3f9905f857b5f4c64150c4945f0', 112)"
        },
        {
         "first": 1580429227.539,
         "last": 1580429538.991,
         "start_lat": 40.095,
         "start_long": -82.825,
         "latitude": 40.084,
         "longitude": -82.84,
         "dwell time duration (seconds)": 420.258,
         "datetime": 0,
         "daylight": 0,
         "_deepnote_index_column": "('ffabe3f9905f857b5f4c64150c4945f0', 113)"
        },
        {
         "first": 1580477158.963,
         "last": 1580478210.935,
         "start_lat": 40.084,
         "start_long": -82.839,
         "latitude": 40.112,
         "longitude": -83.005,
         "dwell time duration (seconds)": 47619.972,
         "datetime": 13,
         "daylight": 1,
         "_deepnote_index_column": "('ffabe3f9905f857b5f4c64150c4945f0', 114)"
        },
        {
         "first": 1580503940.169,
         "last": 1580505621.178,
         "start_lat": 40.113,
         "start_long": -83.005,
         "latitude": 40.081,
         "longitude": -82.813,
         "dwell time duration (seconds)": 25729.234,
         "datetime": 21,
         "daylight": 0,
         "_deepnote_index_column": "('ffabe3f9905f857b5f4c64150c4945f0', 115)"
        },
        {
         "first": 1580505872.001,
         "last": 1580506049.032,
         "start_lat": 40.081,
         "start_long": -82.813,
         "latitude": 40.081,
         "longitude": -82.827,
         "dwell time duration (seconds)": 250.823,
         "datetime": 21,
         "daylight": 0,
         "_deepnote_index_column": "('ffabe3f9905f857b5f4c64150c4945f0', 116)"
        },
        {
         "first": 1580561093.867,
         "last": 1580562037.944,
         "start_lat": 40.084,
         "start_long": -82.84,
         "latitude": 40.117,
         "longitude": -82.928,
         "dwell time duration (seconds)": 55044.835,
         "datetime": 13,
         "daylight": 1,
         "_deepnote_index_column": "('ffabe3f9905f857b5f4c64150c4945f0', 117)"
        },
        {
         "first": 1580565045.967,
         "last": 1580565762.121,
         "start_lat": 40.117,
         "start_long": -82.928,
         "latitude": 40.084,
         "longitude": -82.84,
         "dwell time duration (seconds)": 3008.023,
         "datetime": 14,
         "daylight": 1,
         "_deepnote_index_column": "('ffabe3f9905f857b5f4c64150c4945f0', 118)"
        },
        {
         "first": 1580661648.505,
         "last": 1580661923.01,
         "start_lat": 40.084,
         "start_long": -82.84,
         "latitude": 40.081,
         "longitude": -82.816,
         "dwell time duration (seconds)": 95886.384,
         "datetime": 16,
         "daylight": 1,
         "_deepnote_index_column": "('ffabe3f9905f857b5f4c64150c4945f0', 119)"
        },
        {
         "first": 1580665962.962,
         "last": 1580666385.955,
         "start_lat": 40.081,
         "start_long": -82.816,
         "latitude": 40.084,
         "longitude": -82.84,
         "dwell time duration (seconds)": 4039.952,
         "datetime": 17,
         "daylight": 1,
         "_deepnote_index_column": "('ffabe3f9905f857b5f4c64150c4945f0', 120)"
        },
        {
         "first": 1580680514.903,
         "last": 1580681271.769,
         "start_lat": 40.084,
         "start_long": -82.84,
         "latitude": 40.061,
         "longitude": -82.875,
         "dwell time duration (seconds)": 14128.948,
         "datetime": 22,
         "daylight": 0,
         "_deepnote_index_column": "('ffabe3f9905f857b5f4c64150c4945f0', 121)"
        },
        {
         "first": 1580693301.963,
         "last": 1580694098.976,
         "start_lat": 40.061,
         "start_long": -82.875,
         "latitude": 40.084,
         "longitude": -82.84,
         "dwell time duration (seconds)": 12030.194,
         "datetime": 1,
         "daylight": 0,
         "_deepnote_index_column": "('ffabe3f9905f857b5f4c64150c4945f0', 122)"
        },
        {
         "first": 1580738070.91,
         "last": 1580738492.89,
         "start_lat": 40.084,
         "start_long": -82.839,
         "latitude": 40.093,
         "longitude": -82.85,
         "dwell time duration (seconds)": 43971.934,
         "datetime": 14,
         "daylight": 1,
         "_deepnote_index_column": "('ffabe3f9905f857b5f4c64150c4945f0', 123)"
        },
        {
         "first": 1580738868.938,
         "last": 1580739808.998,
         "start_lat": 40.093,
         "start_long": -82.85,
         "latitude": 40.113,
         "longitude": -83.005,
         "dwell time duration (seconds)": 376.048,
         "datetime": 14,
         "daylight": 1,
         "_deepnote_index_column": "('ffabe3f9905f857b5f4c64150c4945f0', 124)"
        },
        {
         "first": 1580763670.126,
         "last": 1580764072.126,
         "start_lat": 40.114,
         "start_long": -83.006,
         "latitude": 40.105,
         "longitude": -83.018,
         "dwell time duration (seconds)": 23861.128,
         "datetime": 21,
         "daylight": 0,
         "_deepnote_index_column": "('ffabe3f9905f857b5f4c64150c4945f0', 125)"
        },
        {
         "first": 1580764474.946,
         "last": 1580765577.907,
         "start_lat": 40.105,
         "start_long": -83.018,
         "latitude": 40.084,
         "longitude": -82.84,
         "dwell time duration (seconds)": 402.82,
         "datetime": 21,
         "daylight": 0,
         "_deepnote_index_column": "('ffabe3f9905f857b5f4c64150c4945f0', 126)"
        },
        {
         "first": 1580767493.25,
         "last": 1580767692.922,
         "start_lat": 40.084,
         "start_long": -82.84,
         "latitude": 40.076,
         "longitude": -82.837,
         "dwell time duration (seconds)": 1915.343,
         "datetime": 22,
         "daylight": 0,
         "_deepnote_index_column": "('ffabe3f9905f857b5f4c64150c4945f0', 127)"
        },
        {
         "first": 1580770148.914,
         "last": 1580770677.937,
         "start_lat": 40.076,
         "start_long": -82.837,
         "latitude": 40.084,
         "longitude": -82.84,
         "dwell time duration (seconds)": 2455.992,
         "datetime": 22,
         "daylight": 0,
         "_deepnote_index_column": "('ffabe3f9905f857b5f4c64150c4945f0', 128)"
        },
        {
         "first": 1578853591.445,
         "last": 1578854077.922,
         "start_lat": 40.136,
         "start_long": -82.996,
         "latitude": 40.178,
         "longitude": -82.997,
         "dwell time duration (seconds)": 48941.494,
         "datetime": 18,
         "daylight": 1,
         "_deepnote_index_column": "('ffffe9555b16c2d737f6f2e8616b1e68', 643)"
        },
        {
         "first": 1578858341.968,
         "last": 1578860348.915,
         "start_lat": 40.178,
         "start_long": -82.997,
         "latitude": 39.943,
         "longitude": -82.827,
         "dwell time duration (seconds)": 4264.046,
         "datetime": 20,
         "daylight": 0,
         "_deepnote_index_column": "('ffffe9555b16c2d737f6f2e8616b1e68', 644)"
        },
        {
         "first": 1578877323.191,
         "last": 1578880133.103,
         "start_lat": 39.942,
         "start_long": -82.827,
         "latitude": 40.178,
         "longitude": -82.997,
         "dwell time duration (seconds)": 16974.276,
         "datetime": 1,
         "daylight": 0,
         "_deepnote_index_column": "('ffffe9555b16c2d737f6f2e8616b1e68', 645)"
        },
        {
         "first": 1578886381.313,
         "last": 1578886996.91,
         "start_lat": 40.178,
         "start_long": -82.997,
         "latitude": 40.136,
         "longitude": -82.996,
         "dwell time duration (seconds)": 6248.21,
         "datetime": 3,
         "daylight": 0,
         "_deepnote_index_column": "('ffffe9555b16c2d737f6f2e8616b1e68', 646)"
        },
        {
         "first": 1578954185.29,
         "last": 1578954441.243,
         "start_lat": 40.136,
         "start_long": -82.997,
         "latitude": 40.15,
         "longitude": -82.997,
         "dwell time duration (seconds)": 67188.38,
         "datetime": 22,
         "daylight": 0,
         "_deepnote_index_column": "('ffffe9555b16c2d737f6f2e8616b1e68', 647)"
        },
        {
         "first": 1578955030.99,
         "last": 1578955433.963,
         "start_lat": 40.15,
         "start_long": -82.997,
         "latitude": 40.178,
         "longitude": -82.997,
         "dwell time duration (seconds)": 589.747,
         "datetime": 22,
         "daylight": 0,
         "_deepnote_index_column": "('ffffe9555b16c2d737f6f2e8616b1e68', 648)"
        }
       ]
      },
      "text/plain": "                                                  first          last  \\\nvin                              sequence                               \n005b420fd9275f080ad79e1c4330357e 1143      1.578927e+09  1.578928e+09   \n                                 1145      1.578938e+09  1.578939e+09   \n                                 1146      1.578953e+09  1.578954e+09   \n008beb5671fb49a92dc0ef9de96979bf 555       1.578443e+09  1.578445e+09   \n                                 556       1.578482e+09  1.578484e+09   \n...                                                 ...           ...   \nffffe9555b16c2d737f6f2e8616b1e68 644       1.578858e+09  1.578860e+09   \n                                 645       1.578877e+09  1.578880e+09   \n                                 646       1.578886e+09  1.578887e+09   \n                                 647       1.578954e+09  1.578954e+09   \n                                 648       1.578955e+09  1.578955e+09   \n\n                                           start_lat  start_long  latitude  \\\nvin                              sequence                                    \n005b420fd9275f080ad79e1c4330357e 1143         41.267     -81.378    41.410   \n                                 1145         41.394     -81.413    41.414   \n                                 1146         41.409     -81.497    41.379   \n008beb5671fb49a92dc0ef9de96979bf 555          40.100     -83.166    40.149   \n                                 556          40.149     -82.904    40.100   \n...                                              ...         ...       ...   \nffffe9555b16c2d737f6f2e8616b1e68 644          40.178     -82.997    39.943   \n                                 645          39.942     -82.827    40.178   \n                                 646          40.178     -82.997    40.136   \n                                 647          40.136     -82.997    40.150   \n                                 648          40.150     -82.997    40.178   \n\n                                           longitude  \\\nvin                              sequence              \n005b420fd9275f080ad79e1c4330357e 1143        -81.500   \n                                 1145        -81.504   \n                                 1146        -81.427   \n008beb5671fb49a92dc0ef9de96979bf 555         -82.904   \n                                 556         -83.166   \n...                                              ...   \nffffe9555b16c2d737f6f2e8616b1e68 644         -82.827   \n                                 645         -82.997   \n                                 646         -82.996   \n                                 647         -82.997   \n                                 648         -82.997   \n\n                                           dwell time duration (seconds)  \\\nvin                              sequence                                  \n005b420fd9275f080ad79e1c4330357e 1143                           8938.025   \n                                 1145                          10074.972   \n                                 1146                          14185.917   \n008beb5671fb49a92dc0ef9de96979bf 555                           45104.446   \n                                 556                           37768.558   \n...                                                                  ...   \nffffe9555b16c2d737f6f2e8616b1e68 644                            4264.046   \n                                 645                           16974.276   \n                                 646                            6248.210   \n                                 647                           67188.380   \n                                 648                             589.747   \n\n                                           datetime  daylight  \nvin                              sequence                      \n005b420fd9275f080ad79e1c4330357e 1143            15         1  \n                                 1145            18         1  \n                                 1146            22         0  \n008beb5671fb49a92dc0ef9de96979bf 555              0         0  \n                                 556             11         1  \n...                                             ...       ...  \nffffe9555b16c2d737f6f2e8616b1e68 644             20         0  \n                                 645              1         0  \n                                 646              3         0  \n                                 647             22         0  \n                                 648             22         0  \n\n[47141 rows x 9 columns]",
      "text/html": "<div>\n<style scoped>\n    .dataframe tbody tr th:only-of-type {\n        vertical-align: middle;\n    }\n\n    .dataframe tbody tr th {\n        vertical-align: top;\n    }\n\n    .dataframe thead th {\n        text-align: right;\n    }\n</style>\n<table border=\"1\" class=\"dataframe\">\n  <thead>\n    <tr style=\"text-align: right;\">\n      <th></th>\n      <th></th>\n      <th>first</th>\n      <th>last</th>\n      <th>start_lat</th>\n      <th>start_long</th>\n      <th>latitude</th>\n      <th>longitude</th>\n      <th>dwell time duration (seconds)</th>\n      <th>datetime</th>\n      <th>daylight</th>\n    </tr>\n    <tr>\n      <th>vin</th>\n      <th>sequence</th>\n      <th></th>\n      <th></th>\n      <th></th>\n      <th></th>\n      <th></th>\n      <th></th>\n      <th></th>\n      <th></th>\n      <th></th>\n    </tr>\n  </thead>\n  <tbody>\n    <tr>\n      <th rowspan=\"3\" valign=\"top\">005b420fd9275f080ad79e1c4330357e</th>\n      <th>1143</th>\n      <td>1.578927e+09</td>\n      <td>1.578928e+09</td>\n      <td>41.267</td>\n      <td>-81.378</td>\n      <td>41.410</td>\n      <td>-81.500</td>\n      <td>8938.025</td>\n      <td>15</td>\n      <td>1</td>\n    </tr>\n    <tr>\n      <th>1145</th>\n      <td>1.578938e+09</td>\n      <td>1.578939e+09</td>\n      <td>41.394</td>\n      <td>-81.413</td>\n      <td>41.414</td>\n      <td>-81.504</td>\n      <td>10074.972</td>\n      <td>18</td>\n      <td>1</td>\n    </tr>\n    <tr>\n      <th>1146</th>\n      <td>1.578953e+09</td>\n      <td>1.578954e+09</td>\n      <td>41.409</td>\n      <td>-81.497</td>\n      <td>41.379</td>\n      <td>-81.427</td>\n      <td>14185.917</td>\n      <td>22</td>\n      <td>0</td>\n    </tr>\n    <tr>\n      <th rowspan=\"2\" valign=\"top\">008beb5671fb49a92dc0ef9de96979bf</th>\n      <th>555</th>\n      <td>1.578443e+09</td>\n      <td>1.578445e+09</td>\n      <td>40.100</td>\n      <td>-83.166</td>\n      <td>40.149</td>\n      <td>-82.904</td>\n      <td>45104.446</td>\n      <td>0</td>\n      <td>0</td>\n    </tr>\n    <tr>\n      <th>556</th>\n      <td>1.578482e+09</td>\n      <td>1.578484e+09</td>\n      <td>40.149</td>\n      <td>-82.904</td>\n      <td>40.100</td>\n      <td>-83.166</td>\n      <td>37768.558</td>\n      <td>11</td>\n      <td>1</td>\n    </tr>\n    <tr>\n      <th>...</th>\n      <th>...</th>\n      <td>...</td>\n      <td>...</td>\n      <td>...</td>\n      <td>...</td>\n      <td>...</td>\n      <td>...</td>\n      <td>...</td>\n      <td>...</td>\n      <td>...</td>\n    </tr>\n    <tr>\n      <th rowspan=\"5\" valign=\"top\">ffffe9555b16c2d737f6f2e8616b1e68</th>\n      <th>644</th>\n      <td>1.578858e+09</td>\n      <td>1.578860e+09</td>\n      <td>40.178</td>\n      <td>-82.997</td>\n      <td>39.943</td>\n      <td>-82.827</td>\n      <td>4264.046</td>\n      <td>20</td>\n      <td>0</td>\n    </tr>\n    <tr>\n      <th>645</th>\n      <td>1.578877e+09</td>\n      <td>1.578880e+09</td>\n      <td>39.942</td>\n      <td>-82.827</td>\n      <td>40.178</td>\n      <td>-82.997</td>\n      <td>16974.276</td>\n      <td>1</td>\n      <td>0</td>\n    </tr>\n    <tr>\n      <th>646</th>\n      <td>1.578886e+09</td>\n      <td>1.578887e+09</td>\n      <td>40.178</td>\n      <td>-82.997</td>\n      <td>40.136</td>\n      <td>-82.996</td>\n      <td>6248.210</td>\n      <td>3</td>\n      <td>0</td>\n    </tr>\n    <tr>\n      <th>647</th>\n      <td>1.578954e+09</td>\n      <td>1.578954e+09</td>\n      <td>40.136</td>\n      <td>-82.997</td>\n      <td>40.150</td>\n      <td>-82.997</td>\n      <td>67188.380</td>\n      <td>22</td>\n      <td>0</td>\n    </tr>\n    <tr>\n      <th>648</th>\n      <td>1.578955e+09</td>\n      <td>1.578955e+09</td>\n      <td>40.150</td>\n      <td>-82.997</td>\n      <td>40.178</td>\n      <td>-82.997</td>\n      <td>589.747</td>\n      <td>22</td>\n      <td>0</td>\n    </tr>\n  </tbody>\n</table>\n<p>47141 rows × 9 columns</p>\n</div>"
     },
     "metadata": {}
    }
   ]
  },
  {
   "cell_type": "code",
   "metadata": {
    "tags": [],
    "cell_id": "00002-31c324fe-e85b-4e7a-9f82-f16cebd8af87",
    "deepnote_to_be_reexecuted": false,
    "source_hash": "66692ca5",
    "execution_millis": 0,
    "execution_start": 1620258577508,
    "deepnote_cell_type": "code"
   },
   "source": "## Geofencing again to only keep points in the city, set boundary coords for mapping\n\ndf = df[(df[\"latitude\"] <= 40.5) \\\n            & (df[\"latitude\"] >= 39.5) \\\n            & (df[\"longitude\"] >= -84)\\\n            & (df[\"longitude\"] <= -82.5)]\ny_boundaries = max(df['latitude']), min(df['latitude'])\nx_boundaries = min(df['longitude']), max(df['longitude'])\n",
   "execution_count": 3,
   "outputs": []
  },
  {
   "cell_type": "code",
   "metadata": {
    "tags": [],
    "cell_id": "00005-2dfb3271-e0f1-413b-ab5f-a723e3b981cc",
    "deepnote_to_be_reexecuted": false,
    "source_hash": "9da1f4a5",
    "execution_millis": 50,
    "execution_start": 1620258577509,
    "deepnote_cell_type": "code"
   },
   "source": "## Drop columns that interfere with dbscan clustering\ndbs_data = df[['latitude', 'longitude', 'dwell time duration (seconds)','daylight' ]]\ndbs_data.head(1)",
   "execution_count": 4,
   "outputs": [
    {
     "output_type": "execute_result",
     "execution_count": 4,
     "data": {
      "application/vnd.deepnote.dataframe.v2+json": {
       "row_count": 1,
       "column_count": 4,
       "columns": [
        {
         "name": "latitude",
         "dtype": "float64",
         "stats": {
          "unique_count": 1,
          "nan_count": 0,
          "min": "40.149",
          "max": "40.149",
          "histogram": [
           {
            "bin_start": 39.649,
            "bin_end": 39.749,
            "count": 0
           },
           {
            "bin_start": 39.749,
            "bin_end": 39.849000000000004,
            "count": 0
           },
           {
            "bin_start": 39.849000000000004,
            "bin_end": 39.949,
            "count": 0
           },
           {
            "bin_start": 39.949,
            "bin_end": 40.049,
            "count": 0
           },
           {
            "bin_start": 40.049,
            "bin_end": 40.149,
            "count": 0
           },
           {
            "bin_start": 40.149,
            "bin_end": 40.249,
            "count": 1
           },
           {
            "bin_start": 40.249,
            "bin_end": 40.349000000000004,
            "count": 0
           },
           {
            "bin_start": 40.349000000000004,
            "bin_end": 40.449,
            "count": 0
           },
           {
            "bin_start": 40.449,
            "bin_end": 40.549,
            "count": 0
           },
           {
            "bin_start": 40.549,
            "bin_end": 40.649,
            "count": 0
           }
          ]
         }
        },
        {
         "name": "longitude",
         "dtype": "float64",
         "stats": {
          "unique_count": 1,
          "nan_count": 0,
          "min": "-82.904",
          "max": "-82.904",
          "histogram": [
           {
            "bin_start": -83.404,
            "bin_end": -83.304,
            "count": 0
           },
           {
            "bin_start": -83.304,
            "bin_end": -83.204,
            "count": 0
           },
           {
            "bin_start": -83.204,
            "bin_end": -83.104,
            "count": 0
           },
           {
            "bin_start": -83.104,
            "bin_end": -83.00399999999999,
            "count": 0
           },
           {
            "bin_start": -83.00399999999999,
            "bin_end": -82.904,
            "count": 0
           },
           {
            "bin_start": -82.904,
            "bin_end": -82.804,
            "count": 1
           },
           {
            "bin_start": -82.804,
            "bin_end": -82.704,
            "count": 0
           },
           {
            "bin_start": -82.704,
            "bin_end": -82.604,
            "count": 0
           },
           {
            "bin_start": -82.604,
            "bin_end": -82.50399999999999,
            "count": 0
           },
           {
            "bin_start": -82.50399999999999,
            "bin_end": -82.404,
            "count": 0
           }
          ]
         }
        },
        {
         "name": "dwell time duration (seconds)",
         "dtype": "float64",
         "stats": {
          "unique_count": 1,
          "nan_count": 0,
          "min": "45104.446",
          "max": "45104.446",
          "histogram": [
           {
            "bin_start": 45103.946,
            "bin_end": 45104.046,
            "count": 0
           },
           {
            "bin_start": 45104.046,
            "bin_end": 45104.146,
            "count": 0
           },
           {
            "bin_start": 45104.146,
            "bin_end": 45104.24600000001,
            "count": 0
           },
           {
            "bin_start": 45104.24600000001,
            "bin_end": 45104.346000000005,
            "count": 0
           },
           {
            "bin_start": 45104.346000000005,
            "bin_end": 45104.446,
            "count": 0
           },
           {
            "bin_start": 45104.446,
            "bin_end": 45104.546,
            "count": 1
           },
           {
            "bin_start": 45104.546,
            "bin_end": 45104.646,
            "count": 0
           },
           {
            "bin_start": 45104.646,
            "bin_end": 45104.74600000001,
            "count": 0
           },
           {
            "bin_start": 45104.74600000001,
            "bin_end": 45104.846000000005,
            "count": 0
           },
           {
            "bin_start": 45104.846000000005,
            "bin_end": 45104.946,
            "count": 0
           }
          ]
         }
        },
        {
         "name": "daylight",
         "dtype": "int64",
         "stats": {
          "unique_count": 1,
          "nan_count": 0,
          "min": "0",
          "max": "0",
          "histogram": [
           {
            "bin_start": -0.5,
            "bin_end": -0.4,
            "count": 0
           },
           {
            "bin_start": -0.4,
            "bin_end": -0.3,
            "count": 0
           },
           {
            "bin_start": -0.3,
            "bin_end": -0.19999999999999996,
            "count": 0
           },
           {
            "bin_start": -0.19999999999999996,
            "bin_end": -0.09999999999999998,
            "count": 0
           },
           {
            "bin_start": -0.09999999999999998,
            "bin_end": 0,
            "count": 0
           },
           {
            "bin_start": 0,
            "bin_end": 0.10000000000000009,
            "count": 1
           },
           {
            "bin_start": 0.10000000000000009,
            "bin_end": 0.20000000000000007,
            "count": 0
           },
           {
            "bin_start": 0.20000000000000007,
            "bin_end": 0.30000000000000004,
            "count": 0
           },
           {
            "bin_start": 0.30000000000000004,
            "bin_end": 0.4,
            "count": 0
           },
           {
            "bin_start": 0.4,
            "bin_end": 0.5,
            "count": 0
           }
          ]
         }
        },
        {
         "name": "_deepnote_index_column",
         "dtype": "object"
        }
       ],
       "rows_top": [
        {
         "latitude": 40.149,
         "longitude": -82.904,
         "dwell time duration (seconds)": 45104.446,
         "daylight": 0,
         "_deepnote_index_column": "('008beb5671fb49a92dc0ef9de96979bf', 555)"
        }
       ],
       "rows_bottom": null
      },
      "text/plain": "                                           latitude  longitude  \\\nvin                              sequence                        \n008beb5671fb49a92dc0ef9de96979bf 555         40.149    -82.904   \n\n                                           dwell time duration (seconds)  \\\nvin                              sequence                                  \n008beb5671fb49a92dc0ef9de96979bf 555                           45104.446   \n\n                                           daylight  \nvin                              sequence            \n008beb5671fb49a92dc0ef9de96979bf 555              0  ",
      "text/html": "<div>\n<style scoped>\n    .dataframe tbody tr th:only-of-type {\n        vertical-align: middle;\n    }\n\n    .dataframe tbody tr th {\n        vertical-align: top;\n    }\n\n    .dataframe thead th {\n        text-align: right;\n    }\n</style>\n<table border=\"1\" class=\"dataframe\">\n  <thead>\n    <tr style=\"text-align: right;\">\n      <th></th>\n      <th></th>\n      <th>latitude</th>\n      <th>longitude</th>\n      <th>dwell time duration (seconds)</th>\n      <th>daylight</th>\n    </tr>\n    <tr>\n      <th>vin</th>\n      <th>sequence</th>\n      <th></th>\n      <th></th>\n      <th></th>\n      <th></th>\n    </tr>\n  </thead>\n  <tbody>\n    <tr>\n      <th>008beb5671fb49a92dc0ef9de96979bf</th>\n      <th>555</th>\n      <td>40.149</td>\n      <td>-82.904</td>\n      <td>45104.446</td>\n      <td>0</td>\n    </tr>\n  </tbody>\n</table>\n</div>"
     },
     "metadata": {}
    }
   ]
  },
  {
   "cell_type": "code",
   "source": "## Drop values with dwell times shorter than 5 minutes, drop dwell times with values greater than 200000\ndbs_data = dbs_data[dbs_data[\"dwell time duration (seconds)\"] >= 300]\ndbs_data = dbs_data[dbs_data[\"dwell time duration (seconds)\"] <= 200000]\ndbs_data.sort_values('dwell time duration (seconds)', ascending = False)",
   "metadata": {
    "tags": [],
    "cell_id": "00005-f4edf4f6-8c16-43b4-9a42-33368c2d92f4",
    "deepnote_to_be_reexecuted": false,
    "source_hash": "9dd10c1b",
    "execution_start": 1620258577551,
    "execution_millis": 54,
    "output_cleared": false,
    "deepnote_cell_type": "code"
   },
   "outputs": [
    {
     "output_type": "execute_result",
     "execution_count": 5,
     "data": {
      "application/vnd.deepnote.dataframe.v2+json": {
       "row_count": 38988,
       "column_count": 4,
       "columns": [
        {
         "name": "latitude",
         "dtype": "float64",
         "stats": {
          "unique_count": 661,
          "nan_count": 0,
          "min": "39.502",
          "max": "40.499",
          "histogram": [
           {
            "bin_start": 39.502,
            "bin_end": 39.6017,
            "count": 49
           },
           {
            "bin_start": 39.6017,
            "bin_end": 39.7014,
            "count": 53
           },
           {
            "bin_start": 39.7014,
            "bin_end": 39.801100000000005,
            "count": 215
           },
           {
            "bin_start": 39.801100000000005,
            "bin_end": 39.900800000000004,
            "count": 2103
           },
           {
            "bin_start": 39.900800000000004,
            "bin_end": 40.0005,
            "count": 10435
           },
           {
            "bin_start": 40.0005,
            "bin_end": 40.1002,
            "count": 14549
           },
           {
            "bin_start": 40.1002,
            "bin_end": 40.1999,
            "count": 9793
           },
           {
            "bin_start": 40.1999,
            "bin_end": 40.299600000000005,
            "count": 1265
           },
           {
            "bin_start": 40.299600000000005,
            "bin_end": 40.399300000000004,
            "count": 494
           },
           {
            "bin_start": 40.399300000000004,
            "bin_end": 40.499,
            "count": 32
           }
          ]
         }
        },
        {
         "name": "longitude",
         "dtype": "float64",
         "stats": {
          "unique_count": 908,
          "nan_count": 0,
          "min": "-83.998",
          "max": "-82.507",
          "histogram": [
           {
            "bin_start": -83.998,
            "bin_end": -83.8489,
            "count": 34
           },
           {
            "bin_start": -83.8489,
            "bin_end": -83.69980000000001,
            "count": 152
           },
           {
            "bin_start": -83.69980000000001,
            "bin_end": -83.5507,
            "count": 165
           },
           {
            "bin_start": -83.5507,
            "bin_end": -83.4016,
            "count": 504
           },
           {
            "bin_start": -83.4016,
            "bin_end": -83.2525,
            "count": 517
           },
           {
            "bin_start": -83.2525,
            "bin_end": -83.10340000000001,
            "count": 7014
           },
           {
            "bin_start": -83.10340000000001,
            "bin_end": -82.9543,
            "count": 18684
           },
           {
            "bin_start": -82.9543,
            "bin_end": -82.8052,
            "count": 9287
           },
           {
            "bin_start": -82.8052,
            "bin_end": -82.65610000000001,
            "count": 2315
           },
           {
            "bin_start": -82.65610000000001,
            "bin_end": -82.507,
            "count": 316
           }
          ]
         }
        },
        {
         "name": "dwell time duration (seconds)",
         "dtype": "float64"
        },
        {
         "name": "daylight",
         "dtype": "int64"
        },
        {
         "name": "_deepnote_index_column",
         "dtype": "object"
        }
       ],
       "rows_top": [
        {
         "latitude": 40.065,
         "longitude": -83.182,
         "dwell time duration (seconds)": 198417.194,
         "daylight": 0,
         "_deepnote_index_column": "('9033f867c45fa1c1d012618c12cb151c', 517)"
        },
        {
         "latitude": 40.119,
         "longitude": -83.07,
         "dwell time duration (seconds)": 197617.719,
         "daylight": 0,
         "_deepnote_index_column": "('6ae4777dfd345edab79e8c7c92578a33', 66)"
        },
        {
         "latitude": 39.986,
         "longitude": -83.064,
         "dwell time duration (seconds)": 197571.994,
         "daylight": 0,
         "_deepnote_index_column": "('f43f8e1926cc96f17d3c8f4d8d659dcb', 67)"
        },
        {
         "latitude": 40.069,
         "longitude": -82.517,
         "dwell time duration (seconds)": 197263.569,
         "daylight": 0,
         "_deepnote_index_column": "('1a09a210968e732766df2090b9273a7e', 1076)"
        },
        {
         "latitude": 40.103,
         "longitude": -83.162,
         "dwell time duration (seconds)": 197040.85,
         "daylight": 0,
         "_deepnote_index_column": "('1b7dd7dc301db346717ae7c31d3b8447', 84)"
        },
        {
         "latitude": 40.087,
         "longitude": -83.018,
         "dwell time duration (seconds)": 196667.691,
         "daylight": 0,
         "_deepnote_index_column": "('47f05f240fe5005587aff77154f32305', 543)"
        },
        {
         "latitude": 40.15,
         "longitude": -82.954,
         "dwell time duration (seconds)": 196420.952,
         "daylight": 0,
         "_deepnote_index_column": "('68fe7874e875a4557bce9b72468dfc4e', 854)"
        },
        {
         "latitude": 40.119,
         "longitude": -83.175,
         "dwell time duration (seconds)": 195882.377,
         "daylight": 0,
         "_deepnote_index_column": "('653c7690ff0f28b928d9ebbed2a29c89', 1234)"
        },
        {
         "latitude": 40.108,
         "longitude": -82.798,
         "dwell time duration (seconds)": 194970.964,
         "daylight": 0,
         "_deepnote_index_column": "('49957111f245c6f223838badf511b99a', 446)"
        },
        {
         "latitude": 39.522,
         "longitude": -83.847,
         "dwell time duration (seconds)": 194742.995,
         "daylight": 0,
         "_deepnote_index_column": "('5eda5775febfd5689a67df1f6120a131', 891)"
        },
        {
         "latitude": 40.039,
         "longitude": -83.074,
         "dwell time duration (seconds)": 193177.931,
         "daylight": 0,
         "_deepnote_index_column": "('f488e1fea2c0840a972b0a03eec865fc', 342)"
        },
        {
         "latitude": 40.108,
         "longitude": -83.018,
         "dwell time duration (seconds)": 193165.954,
         "daylight": 0,
         "_deepnote_index_column": "('614f6baa1738f44f48646dee3aa81270', 54)"
        },
        {
         "latitude": 40.098,
         "longitude": -83.132,
         "dwell time duration (seconds)": 192413.917,
         "daylight": 1,
         "_deepnote_index_column": "('1c653dc93c7c43aa66093360d3fd9742', 792)"
        },
        {
         "latitude": 39.95,
         "longitude": -83.004,
         "dwell time duration (seconds)": 192164.416,
         "daylight": 0,
         "_deepnote_index_column": "('78e3eb0766534aefa261bd9c5a2fae8e', 439)"
        },
        {
         "latitude": 40.106,
         "longitude": -83.163,
         "dwell time duration (seconds)": 191066.04,
         "daylight": 0,
         "_deepnote_index_column": "('badb574dcb311c3eaa30c6a5f0a78bab', 60)"
        },
        {
         "latitude": 40.137,
         "longitude": -83.163,
         "dwell time duration (seconds)": 190470.073,
         "daylight": 0,
         "_deepnote_index_column": "('6709b6d35b1b9154e7ca655a89f38e4f', 414)"
        },
        {
         "latitude": 40.146,
         "longitude": -82.96,
         "dwell time duration (seconds)": 190032.275,
         "daylight": 0,
         "_deepnote_index_column": "('dc711110b2f39c209705708ccdc7320f', 574)"
        },
        {
         "latitude": 39.942,
         "longitude": -82.83,
         "dwell time duration (seconds)": 190013.998,
         "daylight": 0,
         "_deepnote_index_column": "('ae7a0e72fa8340b4f473754c031e624e', 371)"
        },
        {
         "latitude": 40.279,
         "longitude": -83.511,
         "dwell time duration (seconds)": 189200.624,
         "daylight": 0,
         "_deepnote_index_column": "('123b9a7bbd7775662d3a55656dc2379b', 248)"
        },
        {
         "latitude": 39.938,
         "longitude": -82.786,
         "dwell time duration (seconds)": 189067.457,
         "daylight": 0,
         "_deepnote_index_column": "('afb4d244354cf873f6503aed4f548763', 415)"
        },
        {
         "latitude": 40.132,
         "longitude": -83.17,
         "dwell time duration (seconds)": 189046.835,
         "daylight": 0,
         "_deepnote_index_column": "('db44b54d672622e0585da335d49260c9', 387)"
        },
        {
         "latitude": 39.913,
         "longitude": -82.776,
         "dwell time duration (seconds)": 189043.724,
         "daylight": 0,
         "_deepnote_index_column": "('d698c44f6e2e52617aeddf603fd85e66', 1139)"
        },
        {
         "latitude": 40.167,
         "longitude": -82.922,
         "dwell time duration (seconds)": 188992.712,
         "daylight": 0,
         "_deepnote_index_column": "('2ab28b818240ffed1a7a5b2ca31936d0', 270)"
        },
        {
         "latitude": 40.077,
         "longitude": -83.146,
         "dwell time duration (seconds)": 188933.04,
         "daylight": 0,
         "_deepnote_index_column": "('47c2462e9a2c7386529bcbd0a752a2d9', 241)"
        },
        {
         "latitude": 39.989,
         "longitude": -83.052,
         "dwell time duration (seconds)": 188592.946,
         "daylight": 0,
         "_deepnote_index_column": "('f9b95877a07ee52c777220c400349c5f', 1398)"
        },
        {
         "latitude": 40.003,
         "longitude": -83.008,
         "dwell time duration (seconds)": 188486.726,
         "daylight": 0,
         "_deepnote_index_column": "('0d469ef9e8c941cc29cc53ff21566bec', 248)"
        },
        {
         "latitude": 40.312,
         "longitude": -83.111,
         "dwell time duration (seconds)": 188277.895,
         "daylight": 0,
         "_deepnote_index_column": "('025cfdc5696c5334e53cfb7758c3c07d', 877)"
        },
        {
         "latitude": 40.1,
         "longitude": -83.108,
         "dwell time duration (seconds)": 187902.829,
         "daylight": 0,
         "_deepnote_index_column": "('ebff47897cbbe4007aee5bfff3d680db', 106)"
        },
        {
         "latitude": 40.039,
         "longitude": -82.964,
         "dwell time duration (seconds)": 187802.111,
         "daylight": 0,
         "_deepnote_index_column": "('d42c4c8e3c470409c09d5ffa9e6f74ca', 838)"
        },
        {
         "latitude": 39.906,
         "longitude": -83.075,
         "dwell time duration (seconds)": 187772.094,
         "daylight": 0,
         "_deepnote_index_column": "('563315f6d36956072242ccaa4a020552', 928)"
        },
        {
         "latitude": 40.1,
         "longitude": -83.108,
         "dwell time duration (seconds)": 187129.696,
         "daylight": 0,
         "_deepnote_index_column": "('ebff47897cbbe4007aee5bfff3d680db', 94)"
        },
        {
         "latitude": 40.067,
         "longitude": -83.153,
         "dwell time duration (seconds)": 186230.785,
         "daylight": 0,
         "_deepnote_index_column": "('65444318a73c03ebe53f7fd467f4593d', 615)"
        },
        {
         "latitude": 40.077,
         "longitude": -83.146,
         "dwell time duration (seconds)": 185822.656,
         "daylight": 0,
         "_deepnote_index_column": "('9a8ca4d02f27405b5592fd1500bcbf6b', 436)"
        },
        {
         "latitude": 40.073,
         "longitude": -82.812,
         "dwell time duration (seconds)": 185656.141,
         "daylight": 0,
         "_deepnote_index_column": "('6fea70f450b2319e611ab1ccc05460c7', 699)"
        },
        {
         "latitude": 40.054,
         "longitude": -83.109,
         "dwell time duration (seconds)": 185583.851,
         "daylight": 1,
         "_deepnote_index_column": "('635bdb9321d2641fc3469e62aca386ca', 650)"
        },
        {
         "latitude": 40.136,
         "longitude": -82.905,
         "dwell time duration (seconds)": 185517.848,
         "daylight": 0,
         "_deepnote_index_column": "('7f3888f3a632f807c45eeb3d566c49a9', 459)"
        },
        {
         "latitude": 39.954,
         "longitude": -82.831,
         "dwell time duration (seconds)": 185490.992,
         "daylight": 0,
         "_deepnote_index_column": "('49115b055e217ca05f156354943aabc3', 363)"
        },
        {
         "latitude": 39.83,
         "longitude": -82.815,
         "dwell time duration (seconds)": 185446.913,
         "daylight": 0,
         "_deepnote_index_column": "('e78011bbaf3071bd3b85484cda61b559', 803)"
        },
        {
         "latitude": 40.156,
         "longitude": -82.89,
         "dwell time duration (seconds)": 185431.366,
         "daylight": 0,
         "_deepnote_index_column": "('e8071daabe57377cf6f49f093c112ab6', 644)"
        },
        {
         "latitude": 39.995,
         "longitude": -83.236,
         "dwell time duration (seconds)": 185180.6,
         "daylight": 0,
         "_deepnote_index_column": "('fb923ac25c44fe2dcddacd4912141bbd', 557)"
        },
        {
         "latitude": 40.149,
         "longitude": -83.149,
         "dwell time duration (seconds)": 185101.038,
         "daylight": 0,
         "_deepnote_index_column": "('b5c95e922b6cb1a47572c8c4792c4603', 712)"
        },
        {
         "latitude": 40.106,
         "longitude": -83.287,
         "dwell time duration (seconds)": 184865.053,
         "daylight": 0,
         "_deepnote_index_column": "('6c4aca4083ccfd4b4c8008c98c1cface', 485)"
        },
        {
         "latitude": 40.239,
         "longitude": -83.348,
         "dwell time duration (seconds)": 184708.617,
         "daylight": 0,
         "_deepnote_index_column": "('f69123422a9ae61e6983299abf3c8ab8', 900)"
        },
        {
         "latitude": 40.159,
         "longitude": -83.09,
         "dwell time duration (seconds)": 184531.176,
         "daylight": 0,
         "_deepnote_index_column": "('50b7843051981548c451839e1f53c2c9', 488)"
        },
        {
         "latitude": 40.013,
         "longitude": -82.867,
         "dwell time duration (seconds)": 183867.936,
         "daylight": 0,
         "_deepnote_index_column": "('57764acf29ab19abc03b6c7597a77704', 436)"
        },
        {
         "latitude": 40.141,
         "longitude": -82.99,
         "dwell time duration (seconds)": 183391.115,
         "daylight": 0,
         "_deepnote_index_column": "('9a4af5d8059a405574d92f735fb21239', 691)"
        },
        {
         "latitude": 39.898,
         "longitude": -83.104,
         "dwell time duration (seconds)": 183234.026,
         "daylight": 0,
         "_deepnote_index_column": "('563315f6d36956072242ccaa4a020552', 1048)"
        },
        {
         "latitude": 39.913,
         "longitude": -82.776,
         "dwell time duration (seconds)": 183003.889,
         "daylight": 0,
         "_deepnote_index_column": "('d698c44f6e2e52617aeddf603fd85e66', 1201)"
        },
        {
         "latitude": 40.145,
         "longitude": -82.984,
         "dwell time duration (seconds)": 182974.669,
         "daylight": 0,
         "_deepnote_index_column": "('6a8380efe35a2fd39a3ffe916e4a8d93', 131)"
        },
        {
         "latitude": 39.928,
         "longitude": -82.788,
         "dwell time duration (seconds)": 182771.422,
         "daylight": 0,
         "_deepnote_index_column": "('ba929e099af20c46a8403b0ace77239b', 609)"
        },
        {
         "latitude": 39.98,
         "longitude": -83.003,
         "dwell time duration (seconds)": 182680.11,
         "daylight": 0,
         "_deepnote_index_column": "('12315154e0b2c3f55a0eef27f0b58c21', 471)"
        },
        {
         "latitude": 39.952,
         "longitude": -83.001,
         "dwell time duration (seconds)": 182128.146,
         "daylight": 0,
         "_deepnote_index_column": "('a576b5fad451f4148d82fa6fb53e8e74', 496)"
        },
        {
         "latitude": 39.998,
         "longitude": -82.885,
         "dwell time duration (seconds)": 182015.345,
         "daylight": 1,
         "_deepnote_index_column": "('50b7843051981548c451839e1f53c2c9', 466)"
        },
        {
         "latitude": 40.247,
         "longitude": -83.035,
         "dwell time duration (seconds)": 181877.419,
         "daylight": 0,
         "_deepnote_index_column": "('68234ddc3ec9b62a42ca2795f088321a', 854)"
        },
        {
         "latitude": 40.117,
         "longitude": -83.014,
         "dwell time duration (seconds)": 181775.024,
         "daylight": 0,
         "_deepnote_index_column": "('621b9c5cfb2ed7d0385def227966457d', 478)"
        },
        {
         "latitude": 40.186,
         "longitude": -83.148,
         "dwell time duration (seconds)": 181640.293,
         "daylight": 0,
         "_deepnote_index_column": "('5f71478c1cfe330edbcf8c96f2ada3c8', 341)"
        },
        {
         "latitude": 39.942,
         "longitude": -82.783,
         "dwell time duration (seconds)": 181505.984,
         "daylight": 0,
         "_deepnote_index_column": "('51f75af17d07d80878de6786a97944ef', 1192)"
        },
        {
         "latitude": 40.001,
         "longitude": -83.156,
         "dwell time duration (seconds)": 181490.386,
         "daylight": 0,
         "_deepnote_index_column": "('6fd813356045958dc38e123349e0bf71', 632)"
        },
        {
         "latitude": 39.94,
         "longitude": -82.792,
         "dwell time duration (seconds)": 181286.731,
         "daylight": 0,
         "_deepnote_index_column": "('d698c44f6e2e52617aeddf603fd85e66', 1066)"
        },
        {
         "latitude": 40.203,
         "longitude": -83.027,
         "dwell time duration (seconds)": 181185.978,
         "daylight": 0,
         "_deepnote_index_column": "('025cfdc5696c5334e53cfb7758c3c07d', 988)"
        },
        {
         "latitude": 40.105,
         "longitude": -82.891,
         "dwell time duration (seconds)": 181156.393,
         "daylight": 0,
         "_deepnote_index_column": "('d83dc67162db2660fb0c3c83e7e2f2e7', 598)"
        },
        {
         "latitude": 40.099,
         "longitude": -83.114,
         "dwell time duration (seconds)": 180712.968,
         "daylight": 0,
         "_deepnote_index_column": "('ad0b6e13a2a918b28d8ff91cace2cfc6', 458)"
        },
        {
         "latitude": 39.989,
         "longitude": -82.677,
         "dwell time duration (seconds)": 180612.212,
         "daylight": 0,
         "_deepnote_index_column": "('b72366a1f551d1dd0984db2064437a5b', 1264)"
        },
        {
         "latitude": 39.931,
         "longitude": -83.145,
         "dwell time duration (seconds)": 180557.091,
         "daylight": 0,
         "_deepnote_index_column": "('d1f08d2b2b4fe8167c765fb3115705a7', 874)"
        },
        {
         "latitude": 40.103,
         "longitude": -83.164,
         "dwell time duration (seconds)": 180240.032,
         "daylight": 0,
         "_deepnote_index_column": "('2e6179f758c351242b5ba67b3d9dbbf7', 716)"
        },
        {
         "latitude": 40.098,
         "longitude": -83.106,
         "dwell time duration (seconds)": 180150.26,
         "daylight": 1,
         "_deepnote_index_column": "('e593a05b751fd18804918edaf12918ca', 1136)"
        },
        {
         "latitude": 39.995,
         "longitude": -83.236,
         "dwell time duration (seconds)": 180132.454,
         "daylight": 0,
         "_deepnote_index_column": "('fb923ac25c44fe2dcddacd4912141bbd', 583)"
        },
        {
         "latitude": 39.952,
         "longitude": -83.008,
         "dwell time duration (seconds)": 179863.48,
         "daylight": 0,
         "_deepnote_index_column": "('b27d5e0f81b0e2d285f52a05fa54ce62', 257)"
        },
        {
         "latitude": 40.054,
         "longitude": -82.867,
         "dwell time duration (seconds)": 179393.027,
         "daylight": 0,
         "_deepnote_index_column": "('8b22ef031d6802a55e0d57dc8dd4232c', 535)"
        },
        {
         "latitude": 40.14,
         "longitude": -83.013,
         "dwell time duration (seconds)": 179375.681,
         "daylight": 0,
         "_deepnote_index_column": "('6c4aca4083ccfd4b4c8008c98c1cface', 523)"
        },
        {
         "latitude": 39.989,
         "longitude": -83.054,
         "dwell time duration (seconds)": 179310.022,
         "daylight": 1,
         "_deepnote_index_column": "('bacccf449d810e67f9612f0b5a7e064b', 840)"
        },
        {
         "latitude": 39.945,
         "longitude": -82.911,
         "dwell time duration (seconds)": 179247.91,
         "daylight": 0,
         "_deepnote_index_column": "('95bacc94551f40f2da541ab6e98576ee', 613)"
        },
        {
         "latitude": 39.984,
         "longitude": -83.003,
         "dwell time duration (seconds)": 179130.939,
         "daylight": 1,
         "_deepnote_index_column": "('07f1d399d29a318f27b9d4a34a63d303', 387)"
        },
        {
         "latitude": 40.139,
         "longitude": -82.979,
         "dwell time duration (seconds)": 178917.745,
         "daylight": 0,
         "_deepnote_index_column": "('7b2af12cefa8d7ff017ac67561bfd432', 1425)"
        },
        {
         "latitude": 40.164,
         "longitude": -82.918,
         "dwell time duration (seconds)": 178904.701,
         "daylight": 0,
         "_deepnote_index_column": "('2ab28b818240ffed1a7a5b2ca31936d0', 274)"
        },
        {
         "latitude": 39.96,
         "longitude": -82.88,
         "dwell time duration (seconds)": 178798.02,
         "daylight": 0,
         "_deepnote_index_column": "('4e8daaa72083d7c535706dc885b5297e', 1372)"
        },
        {
         "latitude": 40.027,
         "longitude": -83.001,
         "dwell time duration (seconds)": 178744.83,
         "daylight": 1,
         "_deepnote_index_column": "('c77d5a032c8438573484d89867422d20', 501)"
        },
        {
         "latitude": 40.186,
         "longitude": -83.148,
         "dwell time duration (seconds)": 178693.571,
         "daylight": 0,
         "_deepnote_index_column": "('5f71478c1cfe330edbcf8c96f2ada3c8', 301)"
        },
        {
         "latitude": 40.29,
         "longitude": -83.074,
         "dwell time duration (seconds)": 178533.798,
         "daylight": 0,
         "_deepnote_index_column": "('bcf4d29d33be7f23f22d3215299f4359', 533)"
        },
        {
         "latitude": 40.074,
         "longitude": -83.139,
         "dwell time duration (seconds)": 178092.406,
         "daylight": 0,
         "_deepnote_index_column": "('9a8ca4d02f27405b5592fd1500bcbf6b', 422)"
        },
        {
         "latitude": 39.99,
         "longitude": -82.784,
         "dwell time duration (seconds)": 178043.952,
         "daylight": 0,
         "_deepnote_index_column": "('58a469cb4c1bb1d74958b961b3921c7b', 1095)"
        },
        {
         "latitude": 40.109,
         "longitude": -83.191,
         "dwell time duration (seconds)": 177935.352,
         "daylight": 0,
         "_deepnote_index_column": "('656b66c541f00a1b823614adbe749a14', 969)"
        },
        {
         "latitude": 39.961,
         "longitude": -82.775,
         "dwell time duration (seconds)": 177821.021,
         "daylight": 0,
         "_deepnote_index_column": "('58a469cb4c1bb1d74958b961b3921c7b', 1017)"
        },
        {
         "latitude": 39.962,
         "longitude": -82.693,
         "dwell time duration (seconds)": 177787.776,
         "daylight": 0,
         "_deepnote_index_column": "('1d33d6e7436b505b4003ac07f629a807', 1458)"
        },
        {
         "latitude": 39.834,
         "longitude": -82.816,
         "dwell time duration (seconds)": 177779.071,
         "daylight": 0,
         "_deepnote_index_column": "('6ecd26c3c4dc5be1aaacc5f514b926ce', 734)"
        },
        {
         "latitude": 40.152,
         "longitude": -82.996,
         "dwell time duration (seconds)": 177764.021,
         "daylight": 0,
         "_deepnote_index_column": "('7a54919c3242bed2d7d5e4b4ae3a034c', 949)"
        },
        {
         "latitude": 40.017,
         "longitude": -83.013,
         "dwell time duration (seconds)": 177506.306,
         "daylight": 0,
         "_deepnote_index_column": "('700fc19aab8d44011aaa2cbf1a5e4009', 778)"
        },
        {
         "latitude": 40.161,
         "longitude": -83,
         "dwell time duration (seconds)": 177458.497,
         "daylight": 1,
         "_deepnote_index_column": "('12ae149cf6daf367c4f99f43c91eca86', 453)"
        },
        {
         "latitude": 39.853,
         "longitude": -82.826,
         "dwell time duration (seconds)": 177164.861,
         "daylight": 0,
         "_deepnote_index_column": "('0a47f8e97bd2d53d62a34e71cfd93271', 678)"
        },
        {
         "latitude": 39.803,
         "longitude": -82.808,
         "dwell time duration (seconds)": 176853.988,
         "daylight": 1,
         "_deepnote_index_column": "('f441c7574c1d8817ddc2e2e51df52be1', 624)"
        },
        {
         "latitude": 39.996,
         "longitude": -83.027,
         "dwell time duration (seconds)": 176740.931,
         "daylight": 0,
         "_deepnote_index_column": "('f488e1fea2c0840a972b0a03eec865fc', 362)"
        },
        {
         "latitude": 40.156,
         "longitude": -83.097,
         "dwell time duration (seconds)": 176734.83,
         "daylight": 0,
         "_deepnote_index_column": "('e36d6673006260df73d11a5b6dce042e', 315)"
        },
        {
         "latitude": 39.971,
         "longitude": -82.922,
         "dwell time duration (seconds)": 176717.643,
         "daylight": 0,
         "_deepnote_index_column": "('faa637326e152101272e91366cbba3a8', 1305)"
        },
        {
         "latitude": 40.072,
         "longitude": -82.952,
         "dwell time duration (seconds)": 176640.936,
         "daylight": 0,
         "_deepnote_index_column": "('badb574dcb311c3eaa30c6a5f0a78bab', 72)"
        },
        {
         "latitude": 39.954,
         "longitude": -82.979,
         "dwell time duration (seconds)": 176511.026,
         "daylight": 1,
         "_deepnote_index_column": "('5d99d3fadba9f9de1d50d88f05ffaffa', 488)"
        },
        {
         "latitude": 40.051,
         "longitude": -82.917,
         "dwell time duration (seconds)": 176459.799,
         "daylight": 1,
         "_deepnote_index_column": "('b4759ddf86b52e4893ec81503e0e63b3', 238)"
        },
        {
         "latitude": 40.142,
         "longitude": -82.988,
         "dwell time duration (seconds)": 176453.828,
         "daylight": 0,
         "_deepnote_index_column": "('7b2af12cefa8d7ff017ac67561bfd432', 1444)"
        },
        {
         "latitude": 40.104,
         "longitude": -83.161,
         "dwell time duration (seconds)": 176422.143,
         "daylight": 0,
         "_deepnote_index_column": "('63302f824c07f3d0204c2ca239ea37de', 2065)"
        },
        {
         "latitude": 40.221,
         "longitude": -83.466,
         "dwell time duration (seconds)": 176279.949,
         "daylight": 0,
         "_deepnote_index_column": "('8d1f399da53eb25fb2498a04616726a2', 913)"
        },
        {
         "latitude": 39.915,
         "longitude": -82.846,
         "dwell time duration (seconds)": 176216.907,
         "daylight": 0,
         "_deepnote_index_column": "('ea940278de4d179c3bf8771a76dded55', 85)"
        },
        {
         "latitude": 39.903,
         "longitude": -82.86,
         "dwell time duration (seconds)": 176077.875,
         "daylight": 0,
         "_deepnote_index_column": "('c08bd90c183cbc36703cda52bbcb149e', 324)"
        },
        {
         "latitude": 40.142,
         "longitude": -82.959,
         "dwell time duration (seconds)": 176052.167,
         "daylight": 0,
         "_deepnote_index_column": "('61f246179bfd65e85d54bb2c9c536561', 70)"
        },
        {
         "latitude": 40.023,
         "longitude": -83.162,
         "dwell time duration (seconds)": 176045.94,
         "daylight": 0,
         "_deepnote_index_column": "('9775d903c572135bccb43d358edce489', 719)"
        },
        {
         "latitude": 39.617,
         "longitude": -83.605,
         "dwell time duration (seconds)": 175929.154,
         "daylight": 0,
         "_deepnote_index_column": "('92e64fbb0355adc2c4cd663d288b7932', 17)"
        },
        {
         "latitude": 39.946,
         "longitude": -82.536,
         "dwell time duration (seconds)": 175822.155,
         "daylight": 0,
         "_deepnote_index_column": "('a48e51a42c4c340b7a28d6aadef421bd', 982)"
        },
        {
         "latitude": 39.986,
         "longitude": -83.064,
         "dwell time duration (seconds)": 175768.057,
         "daylight": 1,
         "_deepnote_index_column": "('f43f8e1926cc96f17d3c8f4d8d659dcb', 64)"
        },
        {
         "latitude": 40.073,
         "longitude": -82.812,
         "dwell time duration (seconds)": 175748.363,
         "daylight": 0,
         "_deepnote_index_column": "('6fea70f450b2319e611ab1ccc05460c7', 715)"
        },
        {
         "latitude": 39.918,
         "longitude": -83.073,
         "dwell time duration (seconds)": 175456.346,
         "daylight": 0,
         "_deepnote_index_column": "('2e14c46563dcf129d00a9937120a0f50', 73)"
        },
        {
         "latitude": 39.987,
         "longitude": -82.839,
         "dwell time duration (seconds)": 175317.802,
         "daylight": 0,
         "_deepnote_index_column": "('579410eeda8b089fd3606a334746276b', 1265)"
        },
        {
         "latitude": 39.945,
         "longitude": -83.146,
         "dwell time duration (seconds)": 175248.067,
         "daylight": 1,
         "_deepnote_index_column": "('e8a3d7b1856dddae61e11a2411cf514f', 680)"
        },
        {
         "latitude": 40.098,
         "longitude": -83.089,
         "dwell time duration (seconds)": 175115.057,
         "daylight": 0,
         "_deepnote_index_column": "('dc78cb0fe12fb7e70c7e47106cca1a5d', 538)"
        },
        {
         "latitude": 40.1,
         "longitude": -83.108,
         "dwell time duration (seconds)": 174962.549,
         "daylight": 1,
         "_deepnote_index_column": "('0487b74cc9ce0b6d394b527b80cca67d', 458)"
        },
        {
         "latitude": 39.98,
         "longitude": -83.019,
         "dwell time duration (seconds)": 174943.632,
         "daylight": 0,
         "_deepnote_index_column": "('697b9384cfde1330324dc92f5ff1bd44', 383)"
        },
        {
         "latitude": 40.139,
         "longitude": -82.979,
         "dwell time duration (seconds)": 174920.095,
         "daylight": 0,
         "_deepnote_index_column": "('6d75a85ec7ccadcbe13c501c00fac4cb', 283)"
        },
        {
         "latitude": 40.119,
         "longitude": -83.182,
         "dwell time duration (seconds)": 174905.067,
         "daylight": 0,
         "_deepnote_index_column": "('282e7a2aafff76a5ba7c39db6f12de54', 839)"
        },
        {
         "latitude": 40.089,
         "longitude": -83.091,
         "dwell time duration (seconds)": 174745.916,
         "daylight": 0,
         "_deepnote_index_column": "('31acdeda9fa6b46430ee89a9c773b11d', 587)"
        },
        {
         "latitude": 40.091,
         "longitude": -83.05,
         "dwell time duration (seconds)": 174686.925,
         "daylight": 0,
         "_deepnote_index_column": "('d67ea5287324ef81a3b09b19538d32cf', 82)"
        },
        {
         "latitude": 39.939,
         "longitude": -83.532,
         "dwell time duration (seconds)": 174596.741,
         "daylight": 0,
         "_deepnote_index_column": "('8d861cd75769a7ea56f0da749e44c491', 1161)"
        },
        {
         "latitude": 39.803,
         "longitude": -83.041,
         "dwell time duration (seconds)": 174590.7,
         "daylight": 1,
         "_deepnote_index_column": "('c88b4b0104bd9ce6b235613436761cb1', 135)"
        },
        {
         "latitude": 40.156,
         "longitude": -83.055,
         "dwell time duration (seconds)": 174491.057,
         "daylight": 0,
         "_deepnote_index_column": "('e95a1bea084366933472ad71122c1adc', 199)"
        },
        {
         "latitude": 40.054,
         "longitude": -82.908,
         "dwell time duration (seconds)": 174470.987,
         "daylight": 1,
         "_deepnote_index_column": "('423f3c69c7862a2e4e53d682ee160b4e', 462)"
        },
        {
         "latitude": 40.103,
         "longitude": -83.164,
         "dwell time duration (seconds)": 174309.988,
         "daylight": 0,
         "_deepnote_index_column": "('282e7a2aafff76a5ba7c39db6f12de54', 750)"
        },
        {
         "latitude": 39.996,
         "longitude": -83.022,
         "dwell time duration (seconds)": 174226.042,
         "daylight": 0,
         "_deepnote_index_column": "('7b2af12cefa8d7ff017ac67561bfd432', 1536)"
        },
        {
         "latitude": 39.947,
         "longitude": -82.937,
         "dwell time duration (seconds)": 174143.964,
         "daylight": 1,
         "_deepnote_index_column": "('78e3eb0766534aefa261bd9c5a2fae8e', 449)"
        },
        {
         "latitude": 40.036,
         "longitude": -83.121,
         "dwell time duration (seconds)": 174028.868,
         "daylight": 1,
         "_deepnote_index_column": "('635bdb9321d2641fc3469e62aca386ca', 686)"
        }
       ],
       "rows_bottom": [
        {
         "latitude": 40.12,
         "longitude": -83.162,
         "dwell time duration (seconds)": 307.948,
         "daylight": 0,
         "_deepnote_index_column": "('6fd813356045958dc38e123349e0bf71', 647)"
        },
        {
         "latitude": 40.098,
         "longitude": -82.817,
         "dwell time duration (seconds)": 307.945,
         "daylight": 1,
         "_deepnote_index_column": "('14d57839959dbb8943d89e88e3bed43e', 129)"
        },
        {
         "latitude": 40.226,
         "longitude": -82.939,
         "dwell time duration (seconds)": 307.895,
         "daylight": 0,
         "_deepnote_index_column": "('dc711110b2f39c209705708ccdc7320f', 490)"
        },
        {
         "latitude": 40.082,
         "longitude": -83.141,
         "dwell time duration (seconds)": 307.842,
         "daylight": 0,
         "_deepnote_index_column": "('99e5e62498bf96df7f638ba75a099d13', 1053)"
        },
        {
         "latitude": 40.117,
         "longitude": -83.089,
         "dwell time duration (seconds)": 307.766,
         "daylight": 1,
         "_deepnote_index_column": "('1b125fdb98fb568d04066ad0c249e11f', 1684)"
        },
        {
         "latitude": 40.109,
         "longitude": -82.925,
         "dwell time duration (seconds)": 307.429,
         "daylight": 1,
         "_deepnote_index_column": "('a9d676293d407ce555f78dbe1269becf', 820)"
        },
        {
         "latitude": 40.061,
         "longitude": -83.166,
         "dwell time duration (seconds)": 307.248,
         "daylight": 1,
         "_deepnote_index_column": "('bf6441a0c3bbd38d61e3ce9d364d51d0', 771)"
        },
        {
         "latitude": 40.023,
         "longitude": -83.06,
         "dwell time duration (seconds)": 307.241,
         "daylight": 0,
         "_deepnote_index_column": "('2d6c9aa04685c968f09bfbbca1cc0649', 903)"
        },
        {
         "latitude": 40.032,
         "longitude": -83.116,
         "dwell time duration (seconds)": 307.137,
         "daylight": 0,
         "_deepnote_index_column": "('ebf873adcc56165600968a54836cb3f8', 222)"
        },
        {
         "latitude": 40.118,
         "longitude": -82.996,
         "dwell time duration (seconds)": 307.015,
         "daylight": 0,
         "_deepnote_index_column": "('ca6f0a0096680f4d456d78b0a103cd55', 356)"
        },
        {
         "latitude": 40.07,
         "longitude": -83.105,
         "dwell time duration (seconds)": 307.012,
         "daylight": 0,
         "_deepnote_index_column": "('e6f064ebfa7670b4af729b50f8fb2131', 563)"
        },
        {
         "latitude": 40.149,
         "longitude": -82.974,
         "dwell time duration (seconds)": 306.994,
         "daylight": 0,
         "_deepnote_index_column": "('10b7483d5c27400306696359a1f14acd', 888)"
        },
        {
         "latitude": 40.128,
         "longitude": -83.083,
         "dwell time duration (seconds)": 306.931,
         "daylight": 0,
         "_deepnote_index_column": "('f02830d2bf6b1e287c4c25774f52713c', 278)"
        },
        {
         "latitude": 40.139,
         "longitude": -83.133,
         "dwell time duration (seconds)": 306.895,
         "daylight": 1,
         "_deepnote_index_column": "('478ba97d9f3b1ece2518c701dd6462db', 58)"
        },
        {
         "latitude": 40.072,
         "longitude": -82.958,
         "dwell time duration (seconds)": 306.874,
         "daylight": 1,
         "_deepnote_index_column": "('44437231a10e798e0ef2f308b2e4df7c', 678)"
        },
        {
         "latitude": 40.108,
         "longitude": -82.798,
         "dwell time duration (seconds)": 306.762,
         "daylight": 0,
         "_deepnote_index_column": "('49957111f245c6f223838badf511b99a', 413)"
        },
        {
         "latitude": 39.955,
         "longitude": -82.829,
         "dwell time duration (seconds)": 306.668,
         "daylight": 1,
         "_deepnote_index_column": "('8a08e0dc95eb6550ca70c18ba22479d0', 861)"
        },
        {
         "latitude": 39.84,
         "longitude": -82.825,
         "dwell time duration (seconds)": 306.597,
         "daylight": 0,
         "_deepnote_index_column": "('118f29cba8ccee95a0511d56621cd7e8', 343)"
        },
        {
         "latitude": 39.926,
         "longitude": -82.785,
         "dwell time duration (seconds)": 306.549,
         "daylight": 1,
         "_deepnote_index_column": "('9e1650a81da52ef52e6740fb9bf03eb8', 1080)"
        },
        {
         "latitude": 39.861,
         "longitude": -82.768,
         "dwell time duration (seconds)": 306.465,
         "daylight": 0,
         "_deepnote_index_column": "('c9eefdaf5365b9cbbfe1fcea2b0d2ca0', 194)"
        },
        {
         "latitude": 39.84,
         "longitude": -83.086,
         "dwell time duration (seconds)": 306.459,
         "daylight": 0,
         "_deepnote_index_column": "('8c02506b50f908df746f0f5b3ebd3cee', 946)"
        },
        {
         "latitude": 40.115,
         "longitude": -83.073,
         "dwell time duration (seconds)": 306.382,
         "daylight": 0,
         "_deepnote_index_column": "('1b9830dc95145ef4eaa8458fecbb90fd', 1354)"
        },
        {
         "latitude": 40.067,
         "longitude": -83.13,
         "dwell time duration (seconds)": 306.227,
         "daylight": 0,
         "_deepnote_index_column": "('cb2b53745476e50ab322079b1e27f104', 1000)"
        },
        {
         "latitude": 40.174,
         "longitude": -83.07,
         "dwell time duration (seconds)": 306.211,
         "daylight": 0,
         "_deepnote_index_column": "('652ffbeb395dc9e384e9e6cdaf3c2efb', 3836)"
        },
        {
         "latitude": 40.1,
         "longitude": -83.107,
         "dwell time duration (seconds)": 306.189,
         "daylight": 1,
         "_deepnote_index_column": "('ebff47897cbbe4007aee5bfff3d680db', 115)"
        },
        {
         "latitude": 40.321,
         "longitude": -83.669,
         "dwell time duration (seconds)": 306.148,
         "daylight": 0,
         "_deepnote_index_column": "('9ef643c9278e18ab75f78e529be3e5f7', 61)"
        },
        {
         "latitude": 40.303,
         "longitude": -83.527,
         "dwell time duration (seconds)": 306.135,
         "daylight": 0,
         "_deepnote_index_column": "('e67f0b3f01128fab1e0e5d253e33e0f7', 201)"
        },
        {
         "latitude": 40.118,
         "longitude": -83.069,
         "dwell time duration (seconds)": 306.092,
         "daylight": 1,
         "_deepnote_index_column": "('1b125fdb98fb568d04066ad0c249e11f', 1686)"
        },
        {
         "latitude": 39.876,
         "longitude": -83.038,
         "dwell time duration (seconds)": 306.087,
         "daylight": 0,
         "_deepnote_index_column": "('5d4cddfd7e4ac754a7d67cbadd79e9e5', 395)"
        },
        {
         "latitude": 39.98,
         "longitude": -83.005,
         "dwell time duration (seconds)": 306.003,
         "daylight": 0,
         "_deepnote_index_column": "('9b73f0efb8d3dc198d1f631fbc919620', 653)"
        },
        {
         "latitude": 39.962,
         "longitude": -82.976,
         "dwell time duration (seconds)": 305.998,
         "daylight": 0,
         "_deepnote_index_column": "('75745529f421c99f0636efa2f5ba6a4e', 1359)"
        },
        {
         "latitude": 40.036,
         "longitude": -83.016,
         "dwell time duration (seconds)": 305.984,
         "daylight": 0,
         "_deepnote_index_column": "('e5c4530221f99a5c410f7664ee62d712', 432)"
        },
        {
         "latitude": 40.075,
         "longitude": -82.938,
         "dwell time duration (seconds)": 305.943,
         "daylight": 0,
         "_deepnote_index_column": "('7408cbdb035c75f7d0c1b014c56e8e31', 198)"
        },
        {
         "latitude": 39.948,
         "longitude": -82.952,
         "dwell time duration (seconds)": 305.886,
         "daylight": 0,
         "_deepnote_index_column": "('6ddc428c7aaf667bcb90bd11e1b9961b', 476)"
        },
        {
         "latitude": 40.015,
         "longitude": -82.779,
         "dwell time duration (seconds)": 305.79,
         "daylight": 0,
         "_deepnote_index_column": "('93b8ada03f83f02d32443bc7ae92aa7c', 805)"
        },
        {
         "latitude": 39.916,
         "longitude": -82.782,
         "dwell time duration (seconds)": 305.117,
         "daylight": 1,
         "_deepnote_index_column": "('3575bb8d41b976c9dfce25a71e5feb69', 2068)"
        },
        {
         "latitude": 39.907,
         "longitude": -82.824,
         "dwell time duration (seconds)": 305.113,
         "daylight": 0,
         "_deepnote_index_column": "('ec1170503891e5b0d53384e94966b857', 1039)"
        },
        {
         "latitude": 39.984,
         "longitude": -83.057,
         "dwell time duration (seconds)": 305.102,
         "daylight": 0,
         "_deepnote_index_column": "('c99bf9409496a1a1b99958cf364cda23', 329)"
        },
        {
         "latitude": 40.099,
         "longitude": -83.125,
         "dwell time duration (seconds)": 305.089,
         "daylight": 0,
         "_deepnote_index_column": "('70ffa0a0faa2cdfef5585d31085ad786', 487)"
        },
        {
         "latitude": 39.99,
         "longitude": -83.006,
         "dwell time duration (seconds)": 305.024,
         "daylight": 0,
         "_deepnote_index_column": "('96e49f659f0ecb52c8874ff84d4e7145', 668)"
        },
        {
         "latitude": 39.98,
         "longitude": -83.004,
         "dwell time duration (seconds)": 305.008,
         "daylight": 1,
         "_deepnote_index_column": "('06aea654af8dea9d037ae04b449c62fe', 330)"
        },
        {
         "latitude": 40.166,
         "longitude": -83.169,
         "dwell time duration (seconds)": 304.997,
         "daylight": 0,
         "_deepnote_index_column": "('09cfa87579471cb6521bb652d03b655b', 14)"
        },
        {
         "latitude": 40.057,
         "longitude": -83.05,
         "dwell time duration (seconds)": 304.992,
         "daylight": 1,
         "_deepnote_index_column": "('1356f34861fd4cf3d98dd81d3b2efeb2', 275)"
        },
        {
         "latitude": 39.983,
         "longitude": -82.81,
         "dwell time duration (seconds)": 304.989,
         "daylight": 0,
         "_deepnote_index_column": "('08d7d58c4e946ba754427fb018d9f0f2', 583)"
        },
        {
         "latitude": 40.085,
         "longitude": -83.158,
         "dwell time duration (seconds)": 304.979,
         "daylight": 1,
         "_deepnote_index_column": "('dbe2f858b4809171f398088a5eb826c4', 666)"
        },
        {
         "latitude": 40.087,
         "longitude": -83.173,
         "dwell time duration (seconds)": 304.915,
         "daylight": 1,
         "_deepnote_index_column": "('5b829e08f4610f638675da0b6871866e', 264)"
        },
        {
         "latitude": 40.151,
         "longitude": -83,
         "dwell time duration (seconds)": 304.878,
         "daylight": 0,
         "_deepnote_index_column": "('7b2af12cefa8d7ff017ac67561bfd432', 1439)"
        },
        {
         "latitude": 40.087,
         "longitude": -83.096,
         "dwell time duration (seconds)": 304.867,
         "daylight": 0,
         "_deepnote_index_column": "('ddfe3638b230b4c7067fc69a7b44f9d2', 210)"
        },
        {
         "latitude": 39.619,
         "longitude": -83.605,
         "dwell time duration (seconds)": 304.591,
         "daylight": 1,
         "_deepnote_index_column": "('e5d8c59f32a606504710f75f2f815e89', 449)"
        },
        {
         "latitude": 40.267,
         "longitude": -82.932,
         "dwell time duration (seconds)": 304.501,
         "daylight": 0,
         "_deepnote_index_column": "('61acbaca74520d52027b0abee94fd79f', 563)"
        },
        {
         "latitude": 40.133,
         "longitude": -83.148,
         "dwell time duration (seconds)": 304.428,
         "daylight": 0,
         "_deepnote_index_column": "('99b771684bbd76ab6c2642ef79182320', 883)"
        },
        {
         "latitude": 39.97,
         "longitude": -83.003,
         "dwell time duration (seconds)": 304.377,
         "daylight": 1,
         "_deepnote_index_column": "('6f582c3cb6e16666f870fe247ebe1627', 565)"
        },
        {
         "latitude": 40.226,
         "longitude": -82.93,
         "dwell time duration (seconds)": 304.373,
         "daylight": 0,
         "_deepnote_index_column": "('8bba7fb4128a9900775dc4e32714d0f0', 437)"
        },
        {
         "latitude": 40.031,
         "longitude": -83.116,
         "dwell time duration (seconds)": 304.373,
         "daylight": 1,
         "_deepnote_index_column": "('4a8a9118bb0d1aa27ab3e06b5e3e772c', 372)"
        },
        {
         "latitude": 40.148,
         "longitude": -82.979,
         "dwell time duration (seconds)": 304.133,
         "daylight": 0,
         "_deepnote_index_column": "('fd1bcc2bec121784262d3d8597622e0a', 1092)"
        },
        {
         "latitude": 40.051,
         "longitude": -82.924,
         "dwell time duration (seconds)": 304.102,
         "daylight": 0,
         "_deepnote_index_column": "('50bb82527f8db815ff1223bd744bcb21', 387)"
        },
        {
         "latitude": 39.959,
         "longitude": -82.956,
         "dwell time duration (seconds)": 304.042,
         "daylight": 1,
         "_deepnote_index_column": "('0a47f8e97bd2d53d62a34e71cfd93271', 737)"
        },
        {
         "latitude": 40.102,
         "longitude": -83.083,
         "dwell time duration (seconds)": 303.996,
         "daylight": 1,
         "_deepnote_index_column": "('9b61fcc59ca059a1faa845ace4ce6776', 381)"
        },
        {
         "latitude": 40.15,
         "longitude": -83.25,
         "dwell time duration (seconds)": 303.992,
         "daylight": 0,
         "_deepnote_index_column": "('66a02b0e75d867e2188ed37d9804c095', 1445)"
        },
        {
         "latitude": 39.985,
         "longitude": -83.147,
         "dwell time duration (seconds)": 303.934,
         "daylight": 1,
         "_deepnote_index_column": "('ba607d23c42693d4a5b951b5a2ee7b4e', 383)"
        },
        {
         "latitude": 40.147,
         "longitude": -82.979,
         "dwell time duration (seconds)": 303.902,
         "daylight": 1,
         "_deepnote_index_column": "('86752012e17bbc28fb9b8f938412626a', 681)"
        },
        {
         "latitude": 40.067,
         "longitude": -82.853,
         "dwell time duration (seconds)": 303.876,
         "daylight": 0,
         "_deepnote_index_column": "('f64c8f71f2d1212884d57cb9d0fe283e', 623)"
        },
        {
         "latitude": 39.967,
         "longitude": -82.838,
         "dwell time duration (seconds)": 303.852,
         "daylight": 0,
         "_deepnote_index_column": "('cc63c9825a40f6dc03a7ccfc6cdc7e8d', 563)"
        },
        {
         "latitude": 40.024,
         "longitude": -83.199,
         "dwell time duration (seconds)": 303.789,
         "daylight": 0,
         "_deepnote_index_column": "('ad67ad63a7b50ff64d10be5d0ee35a8d', 138)"
        },
        {
         "latitude": 40.115,
         "longitude": -83.09,
         "dwell time duration (seconds)": 303.77,
         "daylight": 0,
         "_deepnote_index_column": "('39f023f8ab98188376eca5a5641bfe15', 1315)"
        },
        {
         "latitude": 40.025,
         "longitude": -83.052,
         "dwell time duration (seconds)": 303.761,
         "daylight": 0,
         "_deepnote_index_column": "('d7d00023fa5c7c9339c1f72a96581950', 434)"
        },
        {
         "latitude": 40.102,
         "longitude": -82.823,
         "dwell time duration (seconds)": 303.738,
         "daylight": 0,
         "_deepnote_index_column": "('87b9e254ea425720795e09f29057aab1', 180)"
        },
        {
         "latitude": 39.943,
         "longitude": -82.955,
         "dwell time duration (seconds)": 303.723,
         "daylight": 0,
         "_deepnote_index_column": "('6ddc428c7aaf667bcb90bd11e1b9961b', 465)"
        },
        {
         "latitude": 39.917,
         "longitude": -82.782,
         "dwell time duration (seconds)": 303.527,
         "daylight": 0,
         "_deepnote_index_column": "('51f75af17d07d80878de6786a97944ef', 31)"
        },
        {
         "latitude": 40.194,
         "longitude": -82.992,
         "dwell time duration (seconds)": 303.494,
         "daylight": 0,
         "_deepnote_index_column": "('61e36026910571f7169390eb06908ea8', 591)"
        },
        {
         "latitude": 40.012,
         "longitude": -83.387,
         "dwell time duration (seconds)": 303.49,
         "daylight": 0,
         "_deepnote_index_column": "('63302f824c07f3d0204c2ca239ea37de', 2262)"
        },
        {
         "latitude": 40.082,
         "longitude": -82.951,
         "dwell time duration (seconds)": 303.453,
         "daylight": 0,
         "_deepnote_index_column": "('3307343060ed16daf3253a4fc37a1a9b', 751)"
        },
        {
         "latitude": 39.936,
         "longitude": -82.784,
         "dwell time duration (seconds)": 303.407,
         "daylight": 0,
         "_deepnote_index_column": "('8a08e0dc95eb6550ca70c18ba22479d0', 682)"
        },
        {
         "latitude": 40.12,
         "longitude": -83.162,
         "dwell time duration (seconds)": 303.298,
         "daylight": 0,
         "_deepnote_index_column": "('6fd813356045958dc38e123349e0bf71', 635)"
        },
        {
         "latitude": 40.07,
         "longitude": -82.919,
         "dwell time duration (seconds)": 303.169,
         "daylight": 1,
         "_deepnote_index_column": "('423f3c69c7862a2e4e53d682ee160b4e', 450)"
        },
        {
         "latitude": 40.022,
         "longitude": -83.038,
         "dwell time duration (seconds)": 303.151,
         "daylight": 0,
         "_deepnote_index_column": "('d796ddaa2faa20d54e54e5d0b5555cb1', 1108)"
        },
        {
         "latitude": 40.052,
         "longitude": -83.022,
         "dwell time duration (seconds)": 303.052,
         "daylight": 0,
         "_deepnote_index_column": "('4daf590a08eafe6cc6d110938ac31500', 272)"
        },
        {
         "latitude": 39.906,
         "longitude": -83.075,
         "dwell time duration (seconds)": 303.015,
         "daylight": 0,
         "_deepnote_index_column": "('621b9c5cfb2ed7d0385def227966457d', 442)"
        },
        {
         "latitude": 40.021,
         "longitude": -83.058,
         "dwell time duration (seconds)": 303.013,
         "daylight": 1,
         "_deepnote_index_column": "('b6765523e3f99728c1a5c74ab4329704', 455)"
        },
        {
         "latitude": 39.985,
         "longitude": -83.065,
         "dwell time duration (seconds)": 303.008,
         "daylight": 1,
         "_deepnote_index_column": "('2de217aca79b0e1de252635d5b93ca21', 473)"
        },
        {
         "latitude": 40.103,
         "longitude": -83.161,
         "dwell time duration (seconds)": 302.996,
         "daylight": 1,
         "_deepnote_index_column": "('c53dd6d9a7f0c117441fc1d7114b3c2c', 218)"
        },
        {
         "latitude": 40.086,
         "longitude": -82.951,
         "dwell time duration (seconds)": 302.981,
         "daylight": 0,
         "_deepnote_index_column": "('9ae63b5ae225daadf809e83f16c66631', 1990)"
        },
        {
         "latitude": 40.033,
         "longitude": -82.909,
         "dwell time duration (seconds)": 302.943,
         "daylight": 0,
         "_deepnote_index_column": "('adf29b2118b8a1e6109fa6386870a918', 267)"
        },
        {
         "latitude": 40.093,
         "longitude": -82.924,
         "dwell time duration (seconds)": 302.923,
         "daylight": 1,
         "_deepnote_index_column": "('50a2c9ccfb71396d1ba97266ed452d4a', 611)"
        },
        {
         "latitude": 40.086,
         "longitude": -82.965,
         "dwell time duration (seconds)": 302.89,
         "daylight": 0,
         "_deepnote_index_column": "('65f89c5e23abc639336bcdb6f19c811d', 738)"
        },
        {
         "latitude": 39.984,
         "longitude": -83.149,
         "dwell time duration (seconds)": 302.859,
         "daylight": 0,
         "_deepnote_index_column": "('ebf873adcc56165600968a54836cb3f8', 133)"
        },
        {
         "latitude": 39.99,
         "longitude": -83.038,
         "dwell time duration (seconds)": 302.835,
         "daylight": 1,
         "_deepnote_index_column": "('8dc3b336f4b901a540aec2a10b5412cd', 485)"
        },
        {
         "latitude": 40.117,
         "longitude": -82.91,
         "dwell time duration (seconds)": 302.823,
         "daylight": 0,
         "_deepnote_index_column": "('4a293d6b5177c1d371cbdcfe09b524e2', 481)"
        },
        {
         "latitude": 40.106,
         "longitude": -83.161,
         "dwell time duration (seconds)": 302.804,
         "daylight": 1,
         "_deepnote_index_column": "('ddfe3638b230b4c7067fc69a7b44f9d2', 361)"
        },
        {
         "latitude": 40.109,
         "longitude": -83.191,
         "dwell time duration (seconds)": 302.762,
         "daylight": 0,
         "_deepnote_index_column": "('cd43e1f1519156675d19a2f938f163f4', 494)"
        },
        {
         "latitude": 39.958,
         "longitude": -82.939,
         "dwell time duration (seconds)": 302.67,
         "daylight": 0,
         "_deepnote_index_column": "('3a52b7758a8d388c4322834f62c1afc3', 262)"
        },
        {
         "latitude": 40.031,
         "longitude": -83.117,
         "dwell time duration (seconds)": 302.644,
         "daylight": 0,
         "_deepnote_index_column": "('1852b24fc10012fd312cef83a01fd498', 362)"
        },
        {
         "latitude": 40.001,
         "longitude": -83.033,
         "dwell time duration (seconds)": 302.637,
         "daylight": 1,
         "_deepnote_index_column": "('2dc46992d2177a8ecd85bc5311865718', 377)"
        },
        {
         "latitude": 39.912,
         "longitude": -82.801,
         "dwell time duration (seconds)": 302.544,
         "daylight": 1,
         "_deepnote_index_column": "('3eb344f830fedb48d027c25f83842893', 1210)"
        },
        {
         "latitude": 40.016,
         "longitude": -83.066,
         "dwell time duration (seconds)": 302.38,
         "daylight": 0,
         "_deepnote_index_column": "('6a854612b790c37a6fdd2d47cac038da', 459)"
        },
        {
         "latitude": 39.912,
         "longitude": -82.739,
         "dwell time duration (seconds)": 302.269,
         "daylight": 1,
         "_deepnote_index_column": "('9e1650a81da52ef52e6740fb9bf03eb8', 1030)"
        },
        {
         "latitude": 40.102,
         "longitude": -83.018,
         "dwell time duration (seconds)": 302.149,
         "daylight": 1,
         "_deepnote_index_column": "('62f873d1239cee318441adce4282eae2', 420)"
        },
        {
         "latitude": 40.151,
         "longitude": -83.154,
         "dwell time duration (seconds)": 302.126,
         "daylight": 0,
         "_deepnote_index_column": "('b5c707e9372a82649261c02cc013ea0b', 338)"
        },
        {
         "latitude": 39.956,
         "longitude": -82.772,
         "dwell time duration (seconds)": 302.103,
         "daylight": 1,
         "_deepnote_index_column": "('a690b4ec3aecd3e792b3d777f6999652', 1017)"
        },
        {
         "latitude": 40.017,
         "longitude": -83.032,
         "dwell time duration (seconds)": 302.016,
         "daylight": 1,
         "_deepnote_index_column": "('3fda28d4c87a8df52101aff112042237', 477)"
        },
        {
         "latitude": 40.135,
         "longitude": -83.168,
         "dwell time duration (seconds)": 301.976,
         "daylight": 0,
         "_deepnote_index_column": "('c4cb127fe36f7d6771608a32e0597d9a', 744)"
        },
        {
         "latitude": 39.947,
         "longitude": -82.938,
         "dwell time duration (seconds)": 301.935,
         "daylight": 0,
         "_deepnote_index_column": "('50bb82527f8db815ff1223bd744bcb21', 390)"
        },
        {
         "latitude": 40.16,
         "longitude": -83.093,
         "dwell time duration (seconds)": 301.917,
         "daylight": 1,
         "_deepnote_index_column": "('e755edfdd0768f7784d2a20f00cb52aa', 76)"
        },
        {
         "latitude": 40.095,
         "longitude": -82.925,
         "dwell time duration (seconds)": 301.914,
         "daylight": 0,
         "_deepnote_index_column": "('706ca0b8cbd7f74a8af1d6849c1b9114', 767)"
        },
        {
         "latitude": 40.247,
         "longitude": -83.035,
         "dwell time duration (seconds)": 301.901,
         "daylight": 0,
         "_deepnote_index_column": "('68234ddc3ec9b62a42ca2795f088321a', 757)"
        },
        {
         "latitude": 40.15,
         "longitude": -82.975,
         "dwell time duration (seconds)": 301.872,
         "daylight": 0,
         "_deepnote_index_column": "('025cfdc5696c5334e53cfb7758c3c07d', 957)"
        },
        {
         "latitude": 40.161,
         "longitude": -83.02,
         "dwell time duration (seconds)": 301.643,
         "daylight": 0,
         "_deepnote_index_column": "('50b7843051981548c451839e1f53c2c9', 494)"
        },
        {
         "latitude": 39.852,
         "longitude": -82.787,
         "dwell time duration (seconds)": 301.546,
         "daylight": 1,
         "_deepnote_index_column": "('ab32d7d8cb2094da1c8649d715621085', 523)"
        },
        {
         "latitude": 39.991,
         "longitude": -83.071,
         "dwell time duration (seconds)": 301.492,
         "daylight": 1,
         "_deepnote_index_column": "('d26e69bdf4fe7e4880b28995e7eb8268', 204)"
        },
        {
         "latitude": 39.891,
         "longitude": -82.723,
         "dwell time duration (seconds)": 301.385,
         "daylight": 0,
         "_deepnote_index_column": "('95bacc94551f40f2da541ab6e98576ee', 676)"
        },
        {
         "latitude": 40.054,
         "longitude": -83.024,
         "dwell time duration (seconds)": 301.328,
         "daylight": 1,
         "_deepnote_index_column": "('2d4f5b026609d5f361fe65cf6e474871', 869)"
        },
        {
         "latitude": 40.161,
         "longitude": -83.067,
         "dwell time duration (seconds)": 301.299,
         "daylight": 1,
         "_deepnote_index_column": "('a2b3f23851166bc90059dde892c90a9e', 1406)"
        },
        {
         "latitude": 40.302,
         "longitude": -83.051,
         "dwell time duration (seconds)": 301.231,
         "daylight": 0,
         "_deepnote_index_column": "('0ff362f2ca8f21fd8f004a3caeffbf4a', 638)"
        },
        {
         "latitude": 39.957,
         "longitude": -82.927,
         "dwell time duration (seconds)": 301.223,
         "daylight": 1,
         "_deepnote_index_column": "('dc1133b0088aacfd4583783ff9ee06cb', 751)"
        },
        {
         "latitude": 40.025,
         "longitude": -83.024,
         "dwell time duration (seconds)": 301.138,
         "daylight": 0,
         "_deepnote_index_column": "('344947ef2511cd7300c2caa490297aa6', 154)"
        },
        {
         "latitude": 39.971,
         "longitude": -82.763,
         "dwell time duration (seconds)": 301.055,
         "daylight": 0,
         "_deepnote_index_column": "('ed42c997282216c4ed0395d62b349784', 787)"
        },
        {
         "latitude": 39.906,
         "longitude": -82.742,
         "dwell time duration (seconds)": 301.045,
         "daylight": 0,
         "_deepnote_index_column": "('d698c44f6e2e52617aeddf603fd85e66', 1273)"
        },
        {
         "latitude": 39.99,
         "longitude": -83.038,
         "dwell time duration (seconds)": 301.026,
         "daylight": 1,
         "_deepnote_index_column": "('8dc3b336f4b901a540aec2a10b5412cd', 448)"
        },
        {
         "latitude": 40.061,
         "longitude": -83.181,
         "dwell time duration (seconds)": 300.834,
         "daylight": 1,
         "_deepnote_index_column": "('01f4e4cedb80dac7964dc386729f16f7', 107)"
        },
        {
         "latitude": 39.921,
         "longitude": -82.956,
         "dwell time duration (seconds)": 300.709,
         "daylight": 1,
         "_deepnote_index_column": "('9e1650a81da52ef52e6740fb9bf03eb8', 1124)"
        },
        {
         "latitude": 40.108,
         "longitude": -83.016,
         "dwell time duration (seconds)": 300.295,
         "daylight": 0,
         "_deepnote_index_column": "('2d6c9aa04685c968f09bfbbca1cc0649', 950)"
        },
        {
         "latitude": 40.11,
         "longitude": -83.019,
         "dwell time duration (seconds)": 300.283,
         "daylight": 1,
         "_deepnote_index_column": "('70ffa0a0faa2cdfef5585d31085ad786', 484)"
        },
        {
         "latitude": 40.121,
         "longitude": -83.033,
         "dwell time duration (seconds)": 300.177,
         "daylight": 1,
         "_deepnote_index_column": "('0e03252bf67bdb84e7eaaa759bf9e03e', 634)"
        },
        {
         "latitude": 39.956,
         "longitude": -82.823,
         "dwell time duration (seconds)": 300.047,
         "daylight": 1,
         "_deepnote_index_column": "('b4759ddf86b52e4893ec81503e0e63b3', 226)"
        },
        {
         "latitude": 40.089,
         "longitude": -83.094,
         "dwell time duration (seconds)": 300.03,
         "daylight": 0,
         "_deepnote_index_column": "('47f05f240fe5005587aff77154f32305', 613)"
        }
       ]
      },
      "text/plain": "                                           latitude  longitude  \\\nvin                              sequence                        \n9033f867c45fa1c1d012618c12cb151c 517         40.065    -83.182   \n6ae4777dfd345edab79e8c7c92578a33 66          40.119    -83.070   \nf43f8e1926cc96f17d3c8f4d8d659dcb 67          39.986    -83.064   \n1a09a210968e732766df2090b9273a7e 1076        40.069    -82.517   \n1b7dd7dc301db346717ae7c31d3b8447 84          40.103    -83.162   \n...                                             ...        ...   \n2d6c9aa04685c968f09bfbbca1cc0649 950         40.108    -83.016   \n70ffa0a0faa2cdfef5585d31085ad786 484         40.110    -83.019   \n0e03252bf67bdb84e7eaaa759bf9e03e 634         40.121    -83.033   \nb4759ddf86b52e4893ec81503e0e63b3 226         39.956    -82.823   \n47f05f240fe5005587aff77154f32305 613         40.089    -83.094   \n\n                                           dwell time duration (seconds)  \\\nvin                              sequence                                  \n9033f867c45fa1c1d012618c12cb151c 517                          198417.194   \n6ae4777dfd345edab79e8c7c92578a33 66                           197617.719   \nf43f8e1926cc96f17d3c8f4d8d659dcb 67                           197571.994   \n1a09a210968e732766df2090b9273a7e 1076                         197263.569   \n1b7dd7dc301db346717ae7c31d3b8447 84                           197040.850   \n...                                                                  ...   \n2d6c9aa04685c968f09bfbbca1cc0649 950                             300.295   \n70ffa0a0faa2cdfef5585d31085ad786 484                             300.283   \n0e03252bf67bdb84e7eaaa759bf9e03e 634                             300.177   \nb4759ddf86b52e4893ec81503e0e63b3 226                             300.047   \n47f05f240fe5005587aff77154f32305 613                             300.030   \n\n                                           daylight  \nvin                              sequence            \n9033f867c45fa1c1d012618c12cb151c 517              0  \n6ae4777dfd345edab79e8c7c92578a33 66               0  \nf43f8e1926cc96f17d3c8f4d8d659dcb 67               0  \n1a09a210968e732766df2090b9273a7e 1076             0  \n1b7dd7dc301db346717ae7c31d3b8447 84               0  \n...                                             ...  \n2d6c9aa04685c968f09bfbbca1cc0649 950              0  \n70ffa0a0faa2cdfef5585d31085ad786 484              1  \n0e03252bf67bdb84e7eaaa759bf9e03e 634              1  \nb4759ddf86b52e4893ec81503e0e63b3 226              1  \n47f05f240fe5005587aff77154f32305 613              0  \n\n[38988 rows x 4 columns]",
      "text/html": "<div>\n<style scoped>\n    .dataframe tbody tr th:only-of-type {\n        vertical-align: middle;\n    }\n\n    .dataframe tbody tr th {\n        vertical-align: top;\n    }\n\n    .dataframe thead th {\n        text-align: right;\n    }\n</style>\n<table border=\"1\" class=\"dataframe\">\n  <thead>\n    <tr style=\"text-align: right;\">\n      <th></th>\n      <th></th>\n      <th>latitude</th>\n      <th>longitude</th>\n      <th>dwell time duration (seconds)</th>\n      <th>daylight</th>\n    </tr>\n    <tr>\n      <th>vin</th>\n      <th>sequence</th>\n      <th></th>\n      <th></th>\n      <th></th>\n      <th></th>\n    </tr>\n  </thead>\n  <tbody>\n    <tr>\n      <th>9033f867c45fa1c1d012618c12cb151c</th>\n      <th>517</th>\n      <td>40.065</td>\n      <td>-83.182</td>\n      <td>198417.194</td>\n      <td>0</td>\n    </tr>\n    <tr>\n      <th>6ae4777dfd345edab79e8c7c92578a33</th>\n      <th>66</th>\n      <td>40.119</td>\n      <td>-83.070</td>\n      <td>197617.719</td>\n      <td>0</td>\n    </tr>\n    <tr>\n      <th>f43f8e1926cc96f17d3c8f4d8d659dcb</th>\n      <th>67</th>\n      <td>39.986</td>\n      <td>-83.064</td>\n      <td>197571.994</td>\n      <td>0</td>\n    </tr>\n    <tr>\n      <th>1a09a210968e732766df2090b9273a7e</th>\n      <th>1076</th>\n      <td>40.069</td>\n      <td>-82.517</td>\n      <td>197263.569</td>\n      <td>0</td>\n    </tr>\n    <tr>\n      <th>1b7dd7dc301db346717ae7c31d3b8447</th>\n      <th>84</th>\n      <td>40.103</td>\n      <td>-83.162</td>\n      <td>197040.850</td>\n      <td>0</td>\n    </tr>\n    <tr>\n      <th>...</th>\n      <th>...</th>\n      <td>...</td>\n      <td>...</td>\n      <td>...</td>\n      <td>...</td>\n    </tr>\n    <tr>\n      <th>2d6c9aa04685c968f09bfbbca1cc0649</th>\n      <th>950</th>\n      <td>40.108</td>\n      <td>-83.016</td>\n      <td>300.295</td>\n      <td>0</td>\n    </tr>\n    <tr>\n      <th>70ffa0a0faa2cdfef5585d31085ad786</th>\n      <th>484</th>\n      <td>40.110</td>\n      <td>-83.019</td>\n      <td>300.283</td>\n      <td>1</td>\n    </tr>\n    <tr>\n      <th>0e03252bf67bdb84e7eaaa759bf9e03e</th>\n      <th>634</th>\n      <td>40.121</td>\n      <td>-83.033</td>\n      <td>300.177</td>\n      <td>1</td>\n    </tr>\n    <tr>\n      <th>b4759ddf86b52e4893ec81503e0e63b3</th>\n      <th>226</th>\n      <td>39.956</td>\n      <td>-82.823</td>\n      <td>300.047</td>\n      <td>1</td>\n    </tr>\n    <tr>\n      <th>47f05f240fe5005587aff77154f32305</th>\n      <th>613</th>\n      <td>40.089</td>\n      <td>-83.094</td>\n      <td>300.030</td>\n      <td>0</td>\n    </tr>\n  </tbody>\n</table>\n<p>38988 rows × 4 columns</p>\n</div>"
     },
     "metadata": {}
    }
   ],
   "execution_count": 5
  },
  {
   "cell_type": "code",
   "source": "sns.histplot(data = dbs_data, x = 'dwell time duration (seconds)', kde = True)",
   "metadata": {
    "tags": [],
    "cell_id": "00005-ee7e04c3-d992-4571-958c-11872aa1be09",
    "deepnote_to_be_reexecuted": false,
    "source_hash": "445053d8",
    "execution_start": 1620258577602,
    "execution_millis": 744,
    "deepnote_cell_type": "code"
   },
   "outputs": [
    {
     "output_type": "execute_result",
     "execution_count": 6,
     "data": {
      "text/plain": "<AxesSubplot:xlabel='dwell time duration (seconds)', ylabel='Count'>"
     },
     "metadata": {}
    },
    {
     "data": {
      "text/plain": "<Figure size 432x288 with 1 Axes>",
      "image/png": "[encoded data removed]"
     },
     "metadata": {
      "needs_background": "light",
      "image/png": {
       "width": 407,
       "height": 262
      }
     },
     "output_type": "display_data"
    }
   ],
   "execution_count": 6
  },
  {
   "cell_type": "code",
   "source": "sns.histplot(data = dbs_data, x = 'daylight')",
   "metadata": {
    "tags": [],
    "cell_id": "00006-fc31b9dd-b826-4920-b2c5-e38de4047f9f",
    "deepnote_to_be_reexecuted": false,
    "source_hash": "c62afd68",
    "execution_start": 1620258578348,
    "execution_millis": 196,
    "deepnote_cell_type": "code"
   },
   "outputs": [
    {
     "output_type": "execute_result",
     "execution_count": 7,
     "data": {
      "text/plain": "<AxesSubplot:xlabel='daylight', ylabel='Count'>"
     },
     "metadata": {}
    },
    {
     "data": {
      "text/plain": "<Figure size 432x288 with 1 Axes>",
      "image/png": "[encoded data removed]"
     },
     "metadata": {
      "needs_background": "light",
      "image/png": {
       "width": 401,
       "height": 262
      }
     },
     "output_type": "display_data"
    }
   ],
   "execution_count": 7
  },
  {
   "cell_type": "code",
   "metadata": {
    "tags": [],
    "cell_id": "00009-b1d9fc5c-a3ad-4aee-87b4-e252d708a036",
    "deepnote_to_be_reexecuted": false,
    "source_hash": "8c7d30f0",
    "execution_millis": 3,
    "execution_start": 1620258578548,
    "deepnote_cell_type": "code"
   },
   "source": "\ndef gen_dbs_clusters(df1, eps, min_samples):\n    \"\"\" \n    Generates the clusters based off of location and dwell time using DBScan\n    \n    Parameters:\n    _ _ _ _ _ _ _ _ _ _ _ _ _ \n        df1 = DataFrame, containing lat, long, dwell time interval\n        eps = Float, epsilon value for DBScan \n        min_sample = Integer, mininimum number of samples in a given cluster for DBScan\n       \n    \n    Returns\n    _ _ _ _ _ _ _ _ _ _ _ _ _\n        A DataFrame containing lat, long, dwell time interval, associated DBS Cluster\n    \n    \"\"\" \n\n    df = df1.copy()\n    ## eps .14, .2, .17\n    ## min_samples = 2,3,4,5\n    scaled = StandardScaler().fit_transform(df)\n    dbs = DBSCAN(eps = eps, min_samples = min_samples).fit(df)\n    labels = dbs.labels_\n    df['dbs_cluster'] = labels\n    n_clusters = len(set(labels)) - (1 if -1 in labels else 0)\n    print(n_clusters, 'clusters')\n    n_noise = list(labels).count(-1)\n    print(n_noise, 'noisey values')\n    # n_clusters, \"clusters\"\n    n_noise, 'noisey values'\n    \n    return df\n# eps_vals = [.2, .15]",
   "execution_count": 8,
   "outputs": []
  },
  {
   "cell_type": "code",
   "metadata": {
    "tags": [],
    "cell_id": "00010-1a0a4e38-295b-4938-b746-6cf8948cd669",
    "deepnote_to_be_reexecuted": false,
    "source_hash": "929ada19",
    "execution_millis": 2,
    "output_cleared": true,
    "execution_start": 1620258578555,
    "deepnote_cell_type": "code"
   },
   "source": "\ndef plot_clusters(df1):\n    \"\"\" \n    Plots the DBScan clusters on a geographical map\n    \n    Parameters:\n    _ _ _ _ _ _ _ _ _ _ _ _ _ \n        df1 = DataFrame, containing lat, long, dwell time interval, associated dbs cluster for each point \n       \n    \n    Returns\n    _ _ _ _ _ _ _ _ _ _ _ _ _\n        A geographic visualisation of the data points and their associated cluster\n    \n    \"\"\" \n    df = df1.copy()\n    geometry = [Point(xy) for xy in zip(df['longitude'], df['latitude'])]\n    gdf = GeoDataFrame(df, crs=\"EPSG:4326\", geometry=geometry)\n    ohio_shape = gpd.read_file('/work/Data/cb_2018_39_bg_500k.zip')\n    ax = ohio_shape.boundary.plot(figsize=(15, 15), alpha=0.1,)\n    gdf.reset_index().plot(ax = ax,cmap = 'jet', alpha = 0.2,column='dbs_cluster',legend=True)\n    plt.xlim(x_boundaries[0], x_boundaries[1])\n    plt.ylim(y_boundaries[0], y_boundaries[1])",
   "execution_count": 9,
   "outputs": []
  },
  {
   "cell_type": "code",
   "source": "\ndef gen_bins_pointwise(df1, min_interval, max_interval):\n    \"\"\" \n    Assigns interval bins with ranges (0, min_interval),(min_interval, max_interval),(max_interval,∞) to each cluster in the inputted DataFrame\n    \n    Parameters:\n    _ _ _ _ _ _ _ _ _ _ _ _ _ \n        df1 = DataFrame, containing lat,long, dwell time duration (seconds)\n        min_interval = Integer, minimum interval value  \n        max_interval = Integer, maximum interval value \n       \n    \n    Returns\n    _ _ _ _ _ _ _ _ _ _ _ _ _\n        A DataFrame containing lat, long, dwell time interval, associated interval bins\n    \n    \"\"\" \n    \n    df = df1.copy() \n    df['0-{}hr'.format(min_interval)] = 1* (df[\"dwell time duration (seconds)\"]/3600 <= min_interval)\n    df['{}-{}hr'.format(min_interval, max_interval)] = 1* ((df[\"dwell time duration (seconds)\"]/3600 > min_interval) & (df[\"dwell time duration (seconds)\"]/3600 <= max_interval))\n    df['+{}hr'.format(max_interval)] = 1 * (df[\"dwell time duration (seconds)\"]/3600 > max_interval)\n    return df",
   "metadata": {
    "tags": [],
    "cell_id": "00007-af11e39c-6fa3-4b10-8e45-9c9acde91ef7",
    "deepnote_to_be_reexecuted": false,
    "source_hash": "7f4460ce",
    "execution_start": 1620258578606,
    "execution_millis": 0,
    "deepnote_cell_type": "code"
   },
   "outputs": [],
   "execution_count": 10
  },
  {
   "cell_type": "code",
   "metadata": {
    "tags": [],
    "cell_id": "00007-428eb002-9d37-42c6-a2f7-da9bb3183c45",
    "deepnote_to_be_reexecuted": false,
    "source_hash": "6170cb9e",
    "execution_millis": 9978,
    "execution_start": 1620331003734,
    "deepnote_cell_type": "code"
   },
   "source": "dbs_df = gen_bins_pointwise(dbs_data, 3, 6)\n\n# dbs_df_noiseless = dbs_df.loc[dbs_df['dbs_cluster'] != -1]\n\n# dbs_df.dbs_cluster.value_counts()\ndbs_interval = dbs_df.drop(columns = ['dwell time duration (seconds)'])\ndbs_interval = gen_dbs_clusters(dbs_interval, .0075, 10)\ndbs_interval_noiseless = dbs_interval.loc[dbs_interval['dbs_cluster'] != -1]\nplot_clusters(dbs_interval_noiseless)\ndbs_interval_noiseless",
   "execution_count": 133,
   "outputs": [
    {
     "name": "stdout",
     "text": "476 clusters\n6114 noisey values\n",
     "output_type": "stream"
    },
    {
     "output_type": "execute_result",
     "execution_count": 133,
     "data": {
      "application/vnd.deepnote.dataframe.v2+json": {
       "row_count": 32874,
       "column_count": 7,
       "columns": [
        {
         "name": "latitude",
         "dtype": "float64",
         "stats": {
          "unique_count": 451,
          "nan_count": 0,
          "min": "39.737",
          "max": "40.365",
          "histogram": [
           {
            "bin_start": 39.737,
            "bin_end": 39.799800000000005,
            "count": 51
           },
           {
            "bin_start": 39.799800000000005,
            "bin_end": 39.8626,
            "count": 615
           },
           {
            "bin_start": 39.8626,
            "bin_end": 39.9254,
            "count": 1504
           },
           {
            "bin_start": 39.9254,
            "bin_end": 39.9882,
            "count": 6649
           },
           {
            "bin_start": 39.9882,
            "bin_end": 40.051,
            "count": 7170
           },
           {
            "bin_start": 40.051,
            "bin_end": 40.113800000000005,
            "count": 10343
           },
           {
            "bin_start": 40.113800000000005,
            "bin_end": 40.1766,
            "count": 5389
           },
           {
            "bin_start": 40.1766,
            "bin_end": 40.2394,
            "count": 600
           },
           {
            "bin_start": 40.2394,
            "bin_end": 40.3022,
            "count": 290
           },
           {
            "bin_start": 40.3022,
            "bin_end": 40.365,
            "count": 263
           }
          ]
         }
        },
        {
         "name": "longitude",
         "dtype": "float64",
         "stats": {
          "unique_count": 579,
          "nan_count": 0,
          "min": "-83.738",
          "max": "-82.516",
          "histogram": [
           {
            "bin_start": -83.738,
            "bin_end": -83.61580000000001,
            "count": 20
           },
           {
            "bin_start": -83.61580000000001,
            "bin_end": -83.4936,
            "count": 382
           },
           {
            "bin_start": -83.4936,
            "bin_end": -83.3714,
            "count": 47
           },
           {
            "bin_start": -83.3714,
            "bin_end": -83.2492,
            "count": 213
           },
           {
            "bin_start": -83.2492,
            "bin_end": -83.12700000000001,
            "count": 3996
           },
           {
            "bin_start": -83.12700000000001,
            "bin_end": -83.0048,
            "count": 14628
           },
           {
            "bin_start": -83.0048,
            "bin_end": -82.8826,
            "count": 8583
           },
           {
            "bin_start": -82.8826,
            "bin_end": -82.7604,
            "count": 4715
           },
           {
            "bin_start": -82.7604,
            "bin_end": -82.63820000000001,
            "count": 241
           },
           {
            "bin_start": -82.63820000000001,
            "bin_end": -82.516,
            "count": 49
           }
          ]
         }
        },
        {
         "name": "daylight",
         "dtype": "int64",
         "stats": {
          "unique_count": 2,
          "nan_count": 0,
          "min": "0",
          "max": "1",
          "histogram": [
           {
            "bin_start": 0,
            "bin_end": 0.1,
            "count": 18460
           },
           {
            "bin_start": 0.1,
            "bin_end": 0.2,
            "count": 0
           },
           {
            "bin_start": 0.2,
            "bin_end": 0.30000000000000004,
            "count": 0
           },
           {
            "bin_start": 0.30000000000000004,
            "bin_end": 0.4,
            "count": 0
           },
           {
            "bin_start": 0.4,
            "bin_end": 0.5,
            "count": 0
           },
           {
            "bin_start": 0.5,
            "bin_end": 0.6000000000000001,
            "count": 0
           },
           {
            "bin_start": 0.6000000000000001,
            "bin_end": 0.7000000000000001,
            "count": 0
           },
           {
            "bin_start": 0.7000000000000001,
            "bin_end": 0.8,
            "count": 0
           },
           {
            "bin_start": 0.8,
            "bin_end": 0.9,
            "count": 0
           },
           {
            "bin_start": 0.9,
            "bin_end": 1,
            "count": 14414
           }
          ]
         }
        },
        {
         "name": "0-3hr",
         "dtype": "int64"
        },
        {
         "name": "3-6hr",
         "dtype": "int64"
        },
        {
         "name": "+6hr",
         "dtype": "int64"
        },
        {
         "name": "dbs_cluster",
         "dtype": "int64"
        },
        {
         "name": "_deepnote_index_column",
         "dtype": "object"
        }
       ],
       "rows_top": [
        {
         "latitude": 40.149,
         "longitude": -82.904,
         "daylight": 0,
         "0-3hr": 0,
         "3-6hr": 0,
         "+6hr": 1,
         "dbs_cluster": 0,
         "_deepnote_index_column": "('008beb5671fb49a92dc0ef9de96979bf', 555)"
        },
        {
         "latitude": 40.1,
         "longitude": -83.166,
         "daylight": 1,
         "0-3hr": 0,
         "3-6hr": 0,
         "+6hr": 1,
         "dbs_cluster": 1,
         "_deepnote_index_column": "('008beb5671fb49a92dc0ef9de96979bf', 556)"
        },
        {
         "latitude": 40.149,
         "longitude": -82.904,
         "daylight": 0,
         "0-3hr": 0,
         "3-6hr": 0,
         "+6hr": 1,
         "dbs_cluster": 0,
         "_deepnote_index_column": "('008beb5671fb49a92dc0ef9de96979bf', 558)"
        },
        {
         "latitude": 40.1,
         "longitude": -83.167,
         "daylight": 1,
         "0-3hr": 0,
         "3-6hr": 0,
         "+6hr": 1,
         "dbs_cluster": 1,
         "_deepnote_index_column": "('008beb5671fb49a92dc0ef9de96979bf', 559)"
        },
        {
         "latitude": 40.149,
         "longitude": -82.904,
         "daylight": 0,
         "0-3hr": 0,
         "3-6hr": 0,
         "+6hr": 1,
         "dbs_cluster": 0,
         "_deepnote_index_column": "('008beb5671fb49a92dc0ef9de96979bf', 561)"
        },
        {
         "latitude": 40.058,
         "longitude": -82.915,
         "daylight": 0,
         "0-3hr": 0,
         "3-6hr": 0,
         "+6hr": 1,
         "dbs_cluster": 2,
         "_deepnote_index_column": "('008beb5671fb49a92dc0ef9de96979bf', 562)"
        },
        {
         "latitude": 39.923,
         "longitude": -82.836,
         "daylight": 0,
         "0-3hr": 1,
         "3-6hr": 0,
         "+6hr": 0,
         "dbs_cluster": 3,
         "_deepnote_index_column": "('008beb5671fb49a92dc0ef9de96979bf', 564)"
        },
        {
         "latitude": 40.149,
         "longitude": -82.904,
         "daylight": 0,
         "0-3hr": 1,
         "3-6hr": 0,
         "+6hr": 0,
         "dbs_cluster": 4,
         "_deepnote_index_column": "('008beb5671fb49a92dc0ef9de96979bf', 565)"
        },
        {
         "latitude": 40.128,
         "longitude": -82.932,
         "daylight": 1,
         "0-3hr": 0,
         "3-6hr": 0,
         "+6hr": 1,
         "dbs_cluster": 5,
         "_deepnote_index_column": "('008beb5671fb49a92dc0ef9de96979bf', 567)"
        },
        {
         "latitude": 40.149,
         "longitude": -82.904,
         "daylight": 1,
         "0-3hr": 1,
         "3-6hr": 0,
         "+6hr": 0,
         "dbs_cluster": 6,
         "_deepnote_index_column": "('008beb5671fb49a92dc0ef9de96979bf', 568)"
        },
        {
         "latitude": 40.149,
         "longitude": -82.904,
         "daylight": 1,
         "0-3hr": 1,
         "3-6hr": 0,
         "+6hr": 0,
         "dbs_cluster": 6,
         "_deepnote_index_column": "('008beb5671fb49a92dc0ef9de96979bf', 570)"
        },
        {
         "latitude": 40.149,
         "longitude": -82.904,
         "daylight": 1,
         "0-3hr": 1,
         "3-6hr": 0,
         "+6hr": 0,
         "dbs_cluster": 6,
         "_deepnote_index_column": "('008beb5671fb49a92dc0ef9de96979bf', 571)"
        },
        {
         "latitude": 40.149,
         "longitude": -82.904,
         "daylight": 1,
         "0-3hr": 1,
         "3-6hr": 0,
         "+6hr": 0,
         "dbs_cluster": 6,
         "_deepnote_index_column": "('008beb5671fb49a92dc0ef9de96979bf', 573)"
        },
        {
         "latitude": 40.14,
         "longitude": -82.982,
         "daylight": 0,
         "0-3hr": 0,
         "3-6hr": 1,
         "+6hr": 0,
         "dbs_cluster": 7,
         "_deepnote_index_column": "('008beb5671fb49a92dc0ef9de96979bf', 574)"
        },
        {
         "latitude": 40.149,
         "longitude": -82.904,
         "daylight": 0,
         "0-3hr": 1,
         "3-6hr": 0,
         "+6hr": 0,
         "dbs_cluster": 4,
         "_deepnote_index_column": "('008beb5671fb49a92dc0ef9de96979bf', 576)"
        },
        {
         "latitude": 40.1,
         "longitude": -83.167,
         "daylight": 1,
         "0-3hr": 0,
         "3-6hr": 0,
         "+6hr": 1,
         "dbs_cluster": 1,
         "_deepnote_index_column": "('008beb5671fb49a92dc0ef9de96979bf', 585)"
        },
        {
         "latitude": 40.149,
         "longitude": -82.904,
         "daylight": 0,
         "0-3hr": 0,
         "3-6hr": 0,
         "+6hr": 1,
         "dbs_cluster": 0,
         "_deepnote_index_column": "('008beb5671fb49a92dc0ef9de96979bf', 586)"
        },
        {
         "latitude": 40.1,
         "longitude": -83.167,
         "daylight": 1,
         "0-3hr": 0,
         "3-6hr": 0,
         "+6hr": 1,
         "dbs_cluster": 1,
         "_deepnote_index_column": "('008beb5671fb49a92dc0ef9de96979bf', 588)"
        },
        {
         "latitude": 40.146,
         "longitude": -82.916,
         "daylight": 0,
         "0-3hr": 0,
         "3-6hr": 0,
         "+6hr": 1,
         "dbs_cluster": 8,
         "_deepnote_index_column": "('008beb5671fb49a92dc0ef9de96979bf', 589)"
        },
        {
         "latitude": 40.148,
         "longitude": -82.977,
         "daylight": 1,
         "0-3hr": 0,
         "3-6hr": 0,
         "+6hr": 1,
         "dbs_cluster": 9,
         "_deepnote_index_column": "('008beb5671fb49a92dc0ef9de96979bf', 591)"
        },
        {
         "latitude": 40.149,
         "longitude": -82.904,
         "daylight": 1,
         "0-3hr": 1,
         "3-6hr": 0,
         "+6hr": 0,
         "dbs_cluster": 6,
         "_deepnote_index_column": "('008beb5671fb49a92dc0ef9de96979bf', 592)"
        },
        {
         "latitude": 40.149,
         "longitude": -82.979,
         "daylight": 0,
         "0-3hr": 0,
         "3-6hr": 1,
         "+6hr": 0,
         "dbs_cluster": 7,
         "_deepnote_index_column": "('008beb5671fb49a92dc0ef9de96979bf', 594)"
        },
        {
         "latitude": 40.15,
         "longitude": -82.977,
         "daylight": 0,
         "0-3hr": 1,
         "3-6hr": 0,
         "+6hr": 0,
         "dbs_cluster": 10,
         "_deepnote_index_column": "('008beb5671fb49a92dc0ef9de96979bf', 595)"
        },
        {
         "latitude": 40.149,
         "longitude": -82.904,
         "daylight": 0,
         "0-3hr": 1,
         "3-6hr": 0,
         "+6hr": 0,
         "dbs_cluster": 4,
         "_deepnote_index_column": "('008beb5671fb49a92dc0ef9de96979bf', 597)"
        },
        {
         "latitude": 40.101,
         "longitude": -83.166,
         "daylight": 1,
         "0-3hr": 0,
         "3-6hr": 0,
         "+6hr": 1,
         "dbs_cluster": 1,
         "_deepnote_index_column": "('008beb5671fb49a92dc0ef9de96979bf', 602)"
        },
        {
         "latitude": 40.149,
         "longitude": -82.921,
         "daylight": 0,
         "0-3hr": 0,
         "3-6hr": 0,
         "+6hr": 1,
         "dbs_cluster": 8,
         "_deepnote_index_column": "('008beb5671fb49a92dc0ef9de96979bf', 603)"
        },
        {
         "latitude": 40.149,
         "longitude": -82.904,
         "daylight": 0,
         "0-3hr": 1,
         "3-6hr": 0,
         "+6hr": 0,
         "dbs_cluster": 4,
         "_deepnote_index_column": "('008beb5671fb49a92dc0ef9de96979bf', 604)"
        },
        {
         "latitude": 40.127,
         "longitude": -82.932,
         "daylight": 1,
         "0-3hr": 0,
         "3-6hr": 0,
         "+6hr": 1,
         "dbs_cluster": 5,
         "_deepnote_index_column": "('008beb5671fb49a92dc0ef9de96979bf', 606)"
        },
        {
         "latitude": 40.149,
         "longitude": -82.904,
         "daylight": 1,
         "0-3hr": 1,
         "3-6hr": 0,
         "+6hr": 0,
         "dbs_cluster": 6,
         "_deepnote_index_column": "('008beb5671fb49a92dc0ef9de96979bf', 607)"
        },
        {
         "latitude": 40.149,
         "longitude": -82.904,
         "daylight": 0,
         "0-3hr": 1,
         "3-6hr": 0,
         "+6hr": 0,
         "dbs_cluster": 4,
         "_deepnote_index_column": "('008beb5671fb49a92dc0ef9de96979bf', 616)"
        },
        {
         "latitude": 40.051,
         "longitude": -82.913,
         "daylight": 1,
         "0-3hr": 0,
         "3-6hr": 0,
         "+6hr": 1,
         "dbs_cluster": 11,
         "_deepnote_index_column": "('008beb5671fb49a92dc0ef9de96979bf', 618)"
        },
        {
         "latitude": 40.055,
         "longitude": -82.909,
         "daylight": 1,
         "0-3hr": 1,
         "3-6hr": 0,
         "+6hr": 0,
         "dbs_cluster": 12,
         "_deepnote_index_column": "('008beb5671fb49a92dc0ef9de96979bf', 619)"
        },
        {
         "latitude": 40.057,
         "longitude": -82.909,
         "daylight": 0,
         "0-3hr": 1,
         "3-6hr": 0,
         "+6hr": 0,
         "dbs_cluster": 13,
         "_deepnote_index_column": "('008beb5671fb49a92dc0ef9de96979bf', 621)"
        },
        {
         "latitude": 40.149,
         "longitude": -82.904,
         "daylight": 0,
         "0-3hr": 1,
         "3-6hr": 0,
         "+6hr": 0,
         "dbs_cluster": 4,
         "_deepnote_index_column": "('008beb5671fb49a92dc0ef9de96979bf', 622)"
        },
        {
         "latitude": 40.1,
         "longitude": -83.163,
         "daylight": 1,
         "0-3hr": 0,
         "3-6hr": 0,
         "+6hr": 1,
         "dbs_cluster": 1,
         "_deepnote_index_column": "('008beb5671fb49a92dc0ef9de96979bf', 624)"
        },
        {
         "latitude": 40.149,
         "longitude": -82.904,
         "daylight": 0,
         "0-3hr": 0,
         "3-6hr": 0,
         "+6hr": 1,
         "dbs_cluster": 0,
         "_deepnote_index_column": "('008beb5671fb49a92dc0ef9de96979bf', 628)"
        },
        {
         "latitude": 40.148,
         "longitude": -82.977,
         "daylight": 1,
         "0-3hr": 0,
         "3-6hr": 0,
         "+6hr": 1,
         "dbs_cluster": 9,
         "_deepnote_index_column": "('008beb5671fb49a92dc0ef9de96979bf', 630)"
        },
        {
         "latitude": 40.149,
         "longitude": -82.976,
         "daylight": 1,
         "0-3hr": 1,
         "3-6hr": 0,
         "+6hr": 0,
         "dbs_cluster": 14,
         "_deepnote_index_column": "('008beb5671fb49a92dc0ef9de96979bf', 631)"
        },
        {
         "latitude": 39.971,
         "longitude": -83.004,
         "daylight": 0,
         "0-3hr": 0,
         "3-6hr": 1,
         "+6hr": 0,
         "dbs_cluster": 15,
         "_deepnote_index_column": "('008beb5671fb49a92dc0ef9de96979bf', 634)"
        },
        {
         "latitude": 40.149,
         "longitude": -82.904,
         "daylight": 0,
         "0-3hr": 0,
         "3-6hr": 1,
         "+6hr": 0,
         "dbs_cluster": 409,
         "_deepnote_index_column": "('008beb5671fb49a92dc0ef9de96979bf', 636)"
        },
        {
         "latitude": 40.1,
         "longitude": -83.167,
         "daylight": 1,
         "0-3hr": 0,
         "3-6hr": 0,
         "+6hr": 1,
         "dbs_cluster": 1,
         "_deepnote_index_column": "('008beb5671fb49a92dc0ef9de96979bf', 637)"
        },
        {
         "latitude": 40.149,
         "longitude": -82.904,
         "daylight": 0,
         "0-3hr": 0,
         "3-6hr": 0,
         "+6hr": 1,
         "dbs_cluster": 0,
         "_deepnote_index_column": "('008beb5671fb49a92dc0ef9de96979bf', 639)"
        },
        {
         "latitude": 40.148,
         "longitude": -82.977,
         "daylight": 1,
         "0-3hr": 0,
         "3-6hr": 0,
         "+6hr": 1,
         "dbs_cluster": 9,
         "_deepnote_index_column": "('008beb5671fb49a92dc0ef9de96979bf', 640)"
        },
        {
         "latitude": 40.149,
         "longitude": -82.904,
         "daylight": 1,
         "0-3hr": 1,
         "3-6hr": 0,
         "+6hr": 0,
         "dbs_cluster": 6,
         "_deepnote_index_column": "('008beb5671fb49a92dc0ef9de96979bf', 642)"
        },
        {
         "latitude": 40.149,
         "longitude": -82.921,
         "daylight": 0,
         "0-3hr": 0,
         "3-6hr": 0,
         "+6hr": 1,
         "dbs_cluster": 8,
         "_deepnote_index_column": "('008beb5671fb49a92dc0ef9de96979bf', 643)"
        },
        {
         "latitude": 40.1,
         "longitude": -83.166,
         "daylight": 1,
         "0-3hr": 1,
         "3-6hr": 0,
         "+6hr": 0,
         "dbs_cluster": 16,
         "_deepnote_index_column": "('008beb5671fb49a92dc0ef9de96979bf', 660)"
        },
        {
         "latitude": 40.149,
         "longitude": -82.904,
         "daylight": 0,
         "0-3hr": 0,
         "3-6hr": 0,
         "+6hr": 1,
         "dbs_cluster": 0,
         "_deepnote_index_column": "('008beb5671fb49a92dc0ef9de96979bf', 661)"
        },
        {
         "latitude": 40.1,
         "longitude": -83.166,
         "daylight": 1,
         "0-3hr": 0,
         "3-6hr": 0,
         "+6hr": 1,
         "dbs_cluster": 1,
         "_deepnote_index_column": "('008beb5671fb49a92dc0ef9de96979bf', 663)"
        },
        {
         "latitude": 40.146,
         "longitude": -82.916,
         "daylight": 0,
         "0-3hr": 0,
         "3-6hr": 0,
         "+6hr": 1,
         "dbs_cluster": 8,
         "_deepnote_index_column": "('008beb5671fb49a92dc0ef9de96979bf', 664)"
        },
        {
         "latitude": 40.1,
         "longitude": -83.166,
         "daylight": 1,
         "0-3hr": 0,
         "3-6hr": 0,
         "+6hr": 1,
         "dbs_cluster": 1,
         "_deepnote_index_column": "('008beb5671fb49a92dc0ef9de96979bf', 666)"
        },
        {
         "latitude": 40.149,
         "longitude": -82.904,
         "daylight": 0,
         "0-3hr": 0,
         "3-6hr": 0,
         "+6hr": 1,
         "dbs_cluster": 0,
         "_deepnote_index_column": "('008beb5671fb49a92dc0ef9de96979bf', 667)"
        },
        {
         "latitude": 40.1,
         "longitude": -83.166,
         "daylight": 1,
         "0-3hr": 0,
         "3-6hr": 0,
         "+6hr": 1,
         "dbs_cluster": 1,
         "_deepnote_index_column": "('008beb5671fb49a92dc0ef9de96979bf', 669)"
        },
        {
         "latitude": 40.149,
         "longitude": -82.904,
         "daylight": 0,
         "0-3hr": 0,
         "3-6hr": 0,
         "+6hr": 1,
         "dbs_cluster": 0,
         "_deepnote_index_column": "('008beb5671fb49a92dc0ef9de96979bf', 670)"
        },
        {
         "latitude": 40.149,
         "longitude": -82.976,
         "daylight": 1,
         "0-3hr": 0,
         "3-6hr": 0,
         "+6hr": 1,
         "dbs_cluster": 9,
         "_deepnote_index_column": "('008beb5671fb49a92dc0ef9de96979bf', 672)"
        },
        {
         "latitude": 40.149,
         "longitude": -82.904,
         "daylight": 1,
         "0-3hr": 1,
         "3-6hr": 0,
         "+6hr": 0,
         "dbs_cluster": 6,
         "_deepnote_index_column": "('008beb5671fb49a92dc0ef9de96979bf', 675)"
        },
        {
         "latitude": 40.149,
         "longitude": -82.904,
         "daylight": 0,
         "0-3hr": 1,
         "3-6hr": 0,
         "+6hr": 0,
         "dbs_cluster": 4,
         "_deepnote_index_column": "('008beb5671fb49a92dc0ef9de96979bf', 694)"
        },
        {
         "latitude": 40.149,
         "longitude": -82.921,
         "daylight": 0,
         "0-3hr": 1,
         "3-6hr": 0,
         "+6hr": 0,
         "dbs_cluster": 4,
         "_deepnote_index_column": "('008beb5671fb49a92dc0ef9de96979bf', 695)"
        },
        {
         "latitude": 40.149,
         "longitude": -82.904,
         "daylight": 0,
         "0-3hr": 1,
         "3-6hr": 0,
         "+6hr": 0,
         "dbs_cluster": 4,
         "_deepnote_index_column": "('008beb5671fb49a92dc0ef9de96979bf', 697)"
        },
        {
         "latitude": 40.101,
         "longitude": -83.166,
         "daylight": 1,
         "0-3hr": 0,
         "3-6hr": 0,
         "+6hr": 1,
         "dbs_cluster": 1,
         "_deepnote_index_column": "('008beb5671fb49a92dc0ef9de96979bf', 698)"
        },
        {
         "latitude": 40.087,
         "longitude": -82.833,
         "daylight": 0,
         "0-3hr": 1,
         "3-6hr": 0,
         "+6hr": 0,
         "dbs_cluster": 17,
         "_deepnote_index_column": "('00c85a67f339889c5cb0f5407156c01e', 475)"
        },
        {
         "latitude": 40.089,
         "longitude": -82.824,
         "daylight": 0,
         "0-3hr": 1,
         "3-6hr": 0,
         "+6hr": 0,
         "dbs_cluster": 17,
         "_deepnote_index_column": "('00c85a67f339889c5cb0f5407156c01e', 499)"
        },
        {
         "latitude": 40.087,
         "longitude": -82.833,
         "daylight": 0,
         "0-3hr": 1,
         "3-6hr": 0,
         "+6hr": 0,
         "dbs_cluster": 17,
         "_deepnote_index_column": "('00c85a67f339889c5cb0f5407156c01e', 501)"
        },
        {
         "latitude": 40.087,
         "longitude": -82.833,
         "daylight": 0,
         "0-3hr": 1,
         "3-6hr": 0,
         "+6hr": 0,
         "dbs_cluster": 17,
         "_deepnote_index_column": "('00c85a67f339889c5cb0f5407156c01e', 502)"
        },
        {
         "latitude": 40.147,
         "longitude": -82.937,
         "daylight": 0,
         "0-3hr": 1,
         "3-6hr": 0,
         "+6hr": 0,
         "dbs_cluster": 4,
         "_deepnote_index_column": "('00c85a67f339889c5cb0f5407156c01e', 521)"
        },
        {
         "latitude": 40.087,
         "longitude": -82.833,
         "daylight": 0,
         "0-3hr": 1,
         "3-6hr": 0,
         "+6hr": 0,
         "dbs_cluster": 17,
         "_deepnote_index_column": "('00c85a67f339889c5cb0f5407156c01e', 524)"
        },
        {
         "latitude": 39.93,
         "longitude": -82.835,
         "daylight": 1,
         "0-3hr": 0,
         "3-6hr": 0,
         "+6hr": 1,
         "dbs_cluster": 18,
         "_deepnote_index_column": "('00c85a67f339889c5cb0f5407156c01e', 527)"
        },
        {
         "latitude": 39.931,
         "longitude": -82.834,
         "daylight": 1,
         "0-3hr": 1,
         "3-6hr": 0,
         "+6hr": 0,
         "dbs_cluster": 19,
         "_deepnote_index_column": "('00c85a67f339889c5cb0f5407156c01e', 529)"
        },
        {
         "latitude": 39.931,
         "longitude": -82.834,
         "daylight": 1,
         "0-3hr": 1,
         "3-6hr": 0,
         "+6hr": 0,
         "dbs_cluster": 19,
         "_deepnote_index_column": "('00c85a67f339889c5cb0f5407156c01e', 530)"
        },
        {
         "latitude": 39.931,
         "longitude": -82.834,
         "daylight": 1,
         "0-3hr": 1,
         "3-6hr": 0,
         "+6hr": 0,
         "dbs_cluster": 19,
         "_deepnote_index_column": "('00c85a67f339889c5cb0f5407156c01e', 532)"
        },
        {
         "latitude": 40.089,
         "longitude": -82.825,
         "daylight": 0,
         "0-3hr": 1,
         "3-6hr": 0,
         "+6hr": 0,
         "dbs_cluster": 17,
         "_deepnote_index_column": "('00c85a67f339889c5cb0f5407156c01e', 535)"
        },
        {
         "latitude": 40.087,
         "longitude": -82.833,
         "daylight": 0,
         "0-3hr": 1,
         "3-6hr": 0,
         "+6hr": 0,
         "dbs_cluster": 17,
         "_deepnote_index_column": "('00c85a67f339889c5cb0f5407156c01e', 536)"
        }
       ],
       "rows_bottom": [
        {
         "latitude": 40.084,
         "longitude": -82.84,
         "daylight": 0,
         "0-3hr": 0,
         "3-6hr": 0,
         "+6hr": 1,
         "dbs_cluster": 211,
         "_deepnote_index_column": "('ffabe3f9905f857b5f4c64150c4945f0', 41)"
        },
        {
         "latitude": 40.113,
         "longitude": -83.005,
         "daylight": 1,
         "0-3hr": 1,
         "3-6hr": 0,
         "+6hr": 0,
         "dbs_cluster": 14,
         "_deepnote_index_column": "('ffabe3f9905f857b5f4c64150c4945f0', 43)"
        },
        {
         "latitude": 40.106,
         "longitude": -83.018,
         "daylight": 0,
         "0-3hr": 0,
         "3-6hr": 0,
         "+6hr": 1,
         "dbs_cluster": 180,
         "_deepnote_index_column": "('ffabe3f9905f857b5f4c64150c4945f0', 44)"
        },
        {
         "latitude": 40.084,
         "longitude": -82.84,
         "daylight": 0,
         "0-3hr": 1,
         "3-6hr": 0,
         "+6hr": 0,
         "dbs_cluster": 17,
         "_deepnote_index_column": "('ffabe3f9905f857b5f4c64150c4945f0', 45)"
        },
        {
         "latitude": 40.05,
         "longitude": -82.922,
         "daylight": 1,
         "0-3hr": 0,
         "3-6hr": 0,
         "+6hr": 1,
         "dbs_cluster": 11,
         "_deepnote_index_column": "('ffabe3f9905f857b5f4c64150c4945f0', 46)"
        },
        {
         "latitude": 40.046,
         "longitude": -82.86,
         "daylight": 1,
         "0-3hr": 1,
         "3-6hr": 0,
         "+6hr": 0,
         "dbs_cluster": 71,
         "_deepnote_index_column": "('ffabe3f9905f857b5f4c64150c4945f0', 47)"
        },
        {
         "latitude": 40.084,
         "longitude": -82.84,
         "daylight": 1,
         "0-3hr": 1,
         "3-6hr": 0,
         "+6hr": 0,
         "dbs_cluster": 20,
         "_deepnote_index_column": "('ffabe3f9905f857b5f4c64150c4945f0', 48)"
        },
        {
         "latitude": 40.063,
         "longitude": -82.862,
         "daylight": 0,
         "0-3hr": 0,
         "3-6hr": 1,
         "+6hr": 0,
         "dbs_cluster": 139,
         "_deepnote_index_column": "('ffabe3f9905f857b5f4c64150c4945f0', 49)"
        },
        {
         "latitude": 40.059,
         "longitude": -82.864,
         "daylight": 0,
         "0-3hr": 1,
         "3-6hr": 0,
         "+6hr": 0,
         "dbs_cluster": 63,
         "_deepnote_index_column": "('ffabe3f9905f857b5f4c64150c4945f0', 50)"
        },
        {
         "latitude": 40.084,
         "longitude": -82.84,
         "daylight": 0,
         "0-3hr": 1,
         "3-6hr": 0,
         "+6hr": 0,
         "dbs_cluster": 17,
         "_deepnote_index_column": "('ffabe3f9905f857b5f4c64150c4945f0', 52)"
        },
        {
         "latitude": 40.143,
         "longitude": -82.967,
         "daylight": 0,
         "0-3hr": 1,
         "3-6hr": 0,
         "+6hr": 0,
         "dbs_cluster": 10,
         "_deepnote_index_column": "('ffabe3f9905f857b5f4c64150c4945f0', 53)"
        },
        {
         "latitude": 40.084,
         "longitude": -82.84,
         "daylight": 0,
         "0-3hr": 1,
         "3-6hr": 0,
         "+6hr": 0,
         "dbs_cluster": 17,
         "_deepnote_index_column": "('ffabe3f9905f857b5f4c64150c4945f0', 54)"
        },
        {
         "latitude": 40.054,
         "longitude": -82.906,
         "daylight": 1,
         "0-3hr": 1,
         "3-6hr": 0,
         "+6hr": 0,
         "dbs_cluster": 12,
         "_deepnote_index_column": "('ffabe3f9905f857b5f4c64150c4945f0', 56)"
        },
        {
         "latitude": 40.084,
         "longitude": -82.84,
         "daylight": 1,
         "0-3hr": 1,
         "3-6hr": 0,
         "+6hr": 0,
         "dbs_cluster": 20,
         "_deepnote_index_column": "('ffabe3f9905f857b5f4c64150c4945f0', 57)"
        },
        {
         "latitude": 40.085,
         "longitude": -82.817,
         "daylight": 1,
         "0-3hr": 1,
         "3-6hr": 0,
         "+6hr": 0,
         "dbs_cluster": 20,
         "_deepnote_index_column": "('ffabe3f9905f857b5f4c64150c4945f0', 58)"
        },
        {
         "latitude": 40.084,
         "longitude": -82.84,
         "daylight": 0,
         "0-3hr": 1,
         "3-6hr": 0,
         "+6hr": 0,
         "dbs_cluster": 17,
         "_deepnote_index_column": "('ffabe3f9905f857b5f4c64150c4945f0', 59)"
        },
        {
         "latitude": 40.084,
         "longitude": -82.836,
         "daylight": 0,
         "0-3hr": 1,
         "3-6hr": 0,
         "+6hr": 0,
         "dbs_cluster": 17,
         "_deepnote_index_column": "('ffabe3f9905f857b5f4c64150c4945f0', 60)"
        },
        {
         "latitude": 40.113,
         "longitude": -83.004,
         "daylight": 1,
         "0-3hr": 0,
         "3-6hr": 0,
         "+6hr": 1,
         "dbs_cluster": 179,
         "_deepnote_index_column": "('ffabe3f9905f857b5f4c64150c4945f0', 61)"
        },
        {
         "latitude": 40.118,
         "longitude": -83.015,
         "daylight": 1,
         "0-3hr": 0,
         "3-6hr": 1,
         "+6hr": 0,
         "dbs_cluster": 64,
         "_deepnote_index_column": "('ffabe3f9905f857b5f4c64150c4945f0', 62)"
        },
        {
         "latitude": 40.113,
         "longitude": -83.005,
         "daylight": 1,
         "0-3hr": 1,
         "3-6hr": 0,
         "+6hr": 0,
         "dbs_cluster": 14,
         "_deepnote_index_column": "('ffabe3f9905f857b5f4c64150c4945f0', 63)"
        },
        {
         "latitude": 39.963,
         "longitude": -82.998,
         "daylight": 0,
         "0-3hr": 0,
         "3-6hr": 0,
         "+6hr": 1,
         "dbs_cluster": 27,
         "_deepnote_index_column": "('ffabe3f9905f857b5f4c64150c4945f0', 70)"
        },
        {
         "latitude": 40.084,
         "longitude": -82.84,
         "daylight": 0,
         "0-3hr": 1,
         "3-6hr": 0,
         "+6hr": 0,
         "dbs_cluster": 17,
         "_deepnote_index_column": "('ffabe3f9905f857b5f4c64150c4945f0', 71)"
        },
        {
         "latitude": 39.96,
         "longitude": -82.995,
         "daylight": 1,
         "0-3hr": 0,
         "3-6hr": 0,
         "+6hr": 1,
         "dbs_cluster": 22,
         "_deepnote_index_column": "('ffabe3f9905f857b5f4c64150c4945f0', 72)"
        },
        {
         "latitude": 40.149,
         "longitude": -82.976,
         "daylight": 1,
         "0-3hr": 0,
         "3-6hr": 1,
         "+6hr": 0,
         "dbs_cluster": 296,
         "_deepnote_index_column": "('ffabe3f9905f857b5f4c64150c4945f0', 73)"
        },
        {
         "latitude": 39.973,
         "longitude": -83.003,
         "daylight": 0,
         "0-3hr": 0,
         "3-6hr": 1,
         "+6hr": 0,
         "dbs_cluster": 15,
         "_deepnote_index_column": "('ffabe3f9905f857b5f4c64150c4945f0', 75)"
        },
        {
         "latitude": 40.112,
         "longitude": -83.005,
         "daylight": 1,
         "0-3hr": 0,
         "3-6hr": 0,
         "+6hr": 1,
         "dbs_cluster": 179,
         "_deepnote_index_column": "('ffabe3f9905f857b5f4c64150c4945f0', 79)"
        },
        {
         "latitude": 40.118,
         "longitude": -83.012,
         "daylight": 0,
         "0-3hr": 0,
         "3-6hr": 0,
         "+6hr": 1,
         "dbs_cluster": 180,
         "_deepnote_index_column": "('ffabe3f9905f857b5f4c64150c4945f0', 80)"
        },
        {
         "latitude": 40.084,
         "longitude": -82.84,
         "daylight": 0,
         "0-3hr": 1,
         "3-6hr": 0,
         "+6hr": 0,
         "dbs_cluster": 17,
         "_deepnote_index_column": "('ffabe3f9905f857b5f4c64150c4945f0', 81)"
        },
        {
         "latitude": 40.112,
         "longitude": -83.004,
         "daylight": 1,
         "0-3hr": 0,
         "3-6hr": 0,
         "+6hr": 1,
         "dbs_cluster": 179,
         "_deepnote_index_column": "('ffabe3f9905f857b5f4c64150c4945f0', 82)"
        },
        {
         "latitude": 40.08,
         "longitude": -82.813,
         "daylight": 0,
         "0-3hr": 0,
         "3-6hr": 0,
         "+6hr": 1,
         "dbs_cluster": 293,
         "_deepnote_index_column": "('ffabe3f9905f857b5f4c64150c4945f0', 83)"
        },
        {
         "latitude": 40.084,
         "longitude": -82.84,
         "daylight": 0,
         "0-3hr": 1,
         "3-6hr": 0,
         "+6hr": 0,
         "dbs_cluster": 17,
         "_deepnote_index_column": "('ffabe3f9905f857b5f4c64150c4945f0', 84)"
        },
        {
         "latitude": 40.084,
         "longitude": -82.84,
         "daylight": 0,
         "0-3hr": 1,
         "3-6hr": 0,
         "+6hr": 0,
         "dbs_cluster": 17,
         "_deepnote_index_column": "('ffabe3f9905f857b5f4c64150c4945f0', 85)"
        },
        {
         "latitude": 40.083,
         "longitude": -82.808,
         "daylight": 0,
         "0-3hr": 1,
         "3-6hr": 0,
         "+6hr": 0,
         "dbs_cluster": 17,
         "_deepnote_index_column": "('ffabe3f9905f857b5f4c64150c4945f0', 86)"
        },
        {
         "latitude": 40.055,
         "longitude": -82.914,
         "daylight": 1,
         "0-3hr": 0,
         "3-6hr": 0,
         "+6hr": 1,
         "dbs_cluster": 11,
         "_deepnote_index_column": "('ffabe3f9905f857b5f4c64150c4945f0', 88)"
        },
        {
         "latitude": 40.053,
         "longitude": -82.908,
         "daylight": 1,
         "0-3hr": 1,
         "3-6hr": 0,
         "+6hr": 0,
         "dbs_cluster": 12,
         "_deepnote_index_column": "('ffabe3f9905f857b5f4c64150c4945f0', 89)"
        },
        {
         "latitude": 40.049,
         "longitude": -82.918,
         "daylight": 1,
         "0-3hr": 1,
         "3-6hr": 0,
         "+6hr": 0,
         "dbs_cluster": 12,
         "_deepnote_index_column": "('ffabe3f9905f857b5f4c64150c4945f0', 91)"
        },
        {
         "latitude": 40.084,
         "longitude": -82.84,
         "daylight": 1,
         "0-3hr": 1,
         "3-6hr": 0,
         "+6hr": 0,
         "dbs_cluster": 20,
         "_deepnote_index_column": "('ffabe3f9905f857b5f4c64150c4945f0', 92)"
        },
        {
         "latitude": 40.04,
         "longitude": -82.863,
         "daylight": 1,
         "0-3hr": 1,
         "3-6hr": 0,
         "+6hr": 0,
         "dbs_cluster": 71,
         "_deepnote_index_column": "('ffabe3f9905f857b5f4c64150c4945f0', 93)"
        },
        {
         "latitude": 40.079,
         "longitude": -82.852,
         "daylight": 0,
         "0-3hr": 1,
         "3-6hr": 0,
         "+6hr": 0,
         "dbs_cluster": 63,
         "_deepnote_index_column": "('ffabe3f9905f857b5f4c64150c4945f0', 94)"
        },
        {
         "latitude": 40.081,
         "longitude": -82.816,
         "daylight": 0,
         "0-3hr": 0,
         "3-6hr": 1,
         "+6hr": 0,
         "dbs_cluster": 227,
         "_deepnote_index_column": "('ffabe3f9905f857b5f4c64150c4945f0', 95)"
        },
        {
         "latitude": 40.113,
         "longitude": -83.005,
         "daylight": 1,
         "0-3hr": 0,
         "3-6hr": 0,
         "+6hr": 1,
         "dbs_cluster": 179,
         "_deepnote_index_column": "('ffabe3f9905f857b5f4c64150c4945f0', 98)"
        },
        {
         "latitude": 40.112,
         "longitude": -83.006,
         "daylight": 1,
         "0-3hr": 1,
         "3-6hr": 0,
         "+6hr": 0,
         "dbs_cluster": 14,
         "_deepnote_index_column": "('ffabe3f9905f857b5f4c64150c4945f0', 99)"
        },
        {
         "latitude": 40.084,
         "longitude": -82.84,
         "daylight": 0,
         "0-3hr": 0,
         "3-6hr": 0,
         "+6hr": 1,
         "dbs_cluster": 211,
         "_deepnote_index_column": "('ffabe3f9905f857b5f4c64150c4945f0', 100)"
        },
        {
         "latitude": 39.962,
         "longitude": -83.002,
         "daylight": 1,
         "0-3hr": 0,
         "3-6hr": 0,
         "+6hr": 1,
         "dbs_cluster": 22,
         "_deepnote_index_column": "('ffabe3f9905f857b5f4c64150c4945f0', 101)"
        },
        {
         "latitude": 40.113,
         "longitude": -83.005,
         "daylight": 0,
         "0-3hr": 0,
         "3-6hr": 0,
         "+6hr": 1,
         "dbs_cluster": 180,
         "_deepnote_index_column": "('ffabe3f9905f857b5f4c64150c4945f0', 102)"
        },
        {
         "latitude": 40.04,
         "longitude": -82.863,
         "daylight": 1,
         "0-3hr": 0,
         "3-6hr": 0,
         "+6hr": 1,
         "dbs_cluster": 62,
         "_deepnote_index_column": "('ffabe3f9905f857b5f4c64150c4945f0', 104)"
        },
        {
         "latitude": 40.039,
         "longitude": -82.862,
         "daylight": 1,
         "0-3hr": 1,
         "3-6hr": 0,
         "+6hr": 0,
         "dbs_cluster": 71,
         "_deepnote_index_column": "('ffabe3f9905f857b5f4c64150c4945f0', 105)"
        },
        {
         "latitude": 40.112,
         "longitude": -83.005,
         "daylight": 1,
         "0-3hr": 1,
         "3-6hr": 0,
         "+6hr": 0,
         "dbs_cluster": 14,
         "_deepnote_index_column": "('ffabe3f9905f857b5f4c64150c4945f0', 106)"
        },
        {
         "latitude": 40.095,
         "longitude": -83.066,
         "daylight": 0,
         "0-3hr": 1,
         "3-6hr": 0,
         "+6hr": 0,
         "dbs_cluster": 75,
         "_deepnote_index_column": "('ffabe3f9905f857b5f4c64150c4945f0', 107)"
        },
        {
         "latitude": 40.084,
         "longitude": -82.84,
         "daylight": 0,
         "0-3hr": 1,
         "3-6hr": 0,
         "+6hr": 0,
         "dbs_cluster": 17,
         "_deepnote_index_column": "('ffabe3f9905f857b5f4c64150c4945f0', 108)"
        },
        {
         "latitude": 40.039,
         "longitude": -82.862,
         "daylight": 0,
         "0-3hr": 1,
         "3-6hr": 0,
         "+6hr": 0,
         "dbs_cluster": 63,
         "_deepnote_index_column": "('ffabe3f9905f857b5f4c64150c4945f0', 109)"
        },
        {
         "latitude": 40.084,
         "longitude": -82.84,
         "daylight": 0,
         "0-3hr": 1,
         "3-6hr": 0,
         "+6hr": 0,
         "dbs_cluster": 17,
         "_deepnote_index_column": "('ffabe3f9905f857b5f4c64150c4945f0', 110)"
        },
        {
         "latitude": 40.111,
         "longitude": -82.993,
         "daylight": 1,
         "0-3hr": 0,
         "3-6hr": 0,
         "+6hr": 1,
         "dbs_cluster": 216,
         "_deepnote_index_column": "('ffabe3f9905f857b5f4c64150c4945f0', 111)"
        },
        {
         "latitude": 40.094,
         "longitude": -82.824,
         "daylight": 0,
         "0-3hr": 0,
         "3-6hr": 0,
         "+6hr": 1,
         "dbs_cluster": 126,
         "_deepnote_index_column": "('ffabe3f9905f857b5f4c64150c4945f0', 112)"
        },
        {
         "latitude": 40.084,
         "longitude": -82.84,
         "daylight": 0,
         "0-3hr": 1,
         "3-6hr": 0,
         "+6hr": 0,
         "dbs_cluster": 17,
         "_deepnote_index_column": "('ffabe3f9905f857b5f4c64150c4945f0', 113)"
        },
        {
         "latitude": 40.112,
         "longitude": -83.005,
         "daylight": 1,
         "0-3hr": 0,
         "3-6hr": 0,
         "+6hr": 1,
         "dbs_cluster": 179,
         "_deepnote_index_column": "('ffabe3f9905f857b5f4c64150c4945f0', 114)"
        },
        {
         "latitude": 40.081,
         "longitude": -82.813,
         "daylight": 0,
         "0-3hr": 0,
         "3-6hr": 0,
         "+6hr": 1,
         "dbs_cluster": 293,
         "_deepnote_index_column": "('ffabe3f9905f857b5f4c64150c4945f0', 115)"
        },
        {
         "latitude": 40.117,
         "longitude": -82.928,
         "daylight": 1,
         "0-3hr": 0,
         "3-6hr": 0,
         "+6hr": 1,
         "dbs_cluster": 5,
         "_deepnote_index_column": "('ffabe3f9905f857b5f4c64150c4945f0', 117)"
        },
        {
         "latitude": 40.084,
         "longitude": -82.84,
         "daylight": 1,
         "0-3hr": 1,
         "3-6hr": 0,
         "+6hr": 0,
         "dbs_cluster": 20,
         "_deepnote_index_column": "('ffabe3f9905f857b5f4c64150c4945f0', 118)"
        },
        {
         "latitude": 40.081,
         "longitude": -82.816,
         "daylight": 1,
         "0-3hr": 0,
         "3-6hr": 0,
         "+6hr": 1,
         "dbs_cluster": 128,
         "_deepnote_index_column": "('ffabe3f9905f857b5f4c64150c4945f0', 119)"
        },
        {
         "latitude": 40.084,
         "longitude": -82.84,
         "daylight": 1,
         "0-3hr": 1,
         "3-6hr": 0,
         "+6hr": 0,
         "dbs_cluster": 20,
         "_deepnote_index_column": "('ffabe3f9905f857b5f4c64150c4945f0', 120)"
        },
        {
         "latitude": 40.061,
         "longitude": -82.875,
         "daylight": 0,
         "0-3hr": 0,
         "3-6hr": 1,
         "+6hr": 0,
         "dbs_cluster": 139,
         "_deepnote_index_column": "('ffabe3f9905f857b5f4c64150c4945f0', 121)"
        },
        {
         "latitude": 40.113,
         "longitude": -83.005,
         "daylight": 1,
         "0-3hr": 1,
         "3-6hr": 0,
         "+6hr": 0,
         "dbs_cluster": 14,
         "_deepnote_index_column": "('ffabe3f9905f857b5f4c64150c4945f0', 124)"
        },
        {
         "latitude": 40.105,
         "longitude": -83.018,
         "daylight": 0,
         "0-3hr": 0,
         "3-6hr": 0,
         "+6hr": 1,
         "dbs_cluster": 180,
         "_deepnote_index_column": "('ffabe3f9905f857b5f4c64150c4945f0', 125)"
        },
        {
         "latitude": 40.084,
         "longitude": -82.84,
         "daylight": 0,
         "0-3hr": 1,
         "3-6hr": 0,
         "+6hr": 0,
         "dbs_cluster": 17,
         "_deepnote_index_column": "('ffabe3f9905f857b5f4c64150c4945f0', 126)"
        },
        {
         "latitude": 40.076,
         "longitude": -82.837,
         "daylight": 0,
         "0-3hr": 1,
         "3-6hr": 0,
         "+6hr": 0,
         "dbs_cluster": 140,
         "_deepnote_index_column": "('ffabe3f9905f857b5f4c64150c4945f0', 127)"
        },
        {
         "latitude": 40.084,
         "longitude": -82.84,
         "daylight": 0,
         "0-3hr": 1,
         "3-6hr": 0,
         "+6hr": 0,
         "dbs_cluster": 17,
         "_deepnote_index_column": "('ffabe3f9905f857b5f4c64150c4945f0', 128)"
        },
        {
         "latitude": 39.943,
         "longitude": -82.827,
         "daylight": 0,
         "0-3hr": 1,
         "3-6hr": 0,
         "+6hr": 0,
         "dbs_cluster": 3,
         "_deepnote_index_column": "('ffffe9555b16c2d737f6f2e8616b1e68', 644)"
        },
        {
         "latitude": 40.136,
         "longitude": -82.996,
         "daylight": 0,
         "0-3hr": 1,
         "3-6hr": 0,
         "+6hr": 0,
         "dbs_cluster": 10,
         "_deepnote_index_column": "('ffffe9555b16c2d737f6f2e8616b1e68', 646)"
        },
        {
         "latitude": 40.15,
         "longitude": -82.997,
         "daylight": 0,
         "0-3hr": 0,
         "3-6hr": 0,
         "+6hr": 1,
         "dbs_cluster": 68,
         "_deepnote_index_column": "('ffffe9555b16c2d737f6f2e8616b1e68', 647)"
        },
        {
         "latitude": 40.178,
         "longitude": -82.997,
         "daylight": 0,
         "0-3hr": 1,
         "3-6hr": 0,
         "+6hr": 0,
         "dbs_cluster": 80,
         "_deepnote_index_column": "('ffffe9555b16c2d737f6f2e8616b1e68', 648)"
        }
       ]
      },
      "text/plain": "                                           latitude  longitude  daylight  \\\nvin                              sequence                                  \n008beb5671fb49a92dc0ef9de96979bf 555         40.149    -82.904         0   \n                                 556         40.100    -83.166         1   \n                                 558         40.149    -82.904         0   \n                                 559         40.100    -83.167         1   \n                                 561         40.149    -82.904         0   \n...                                             ...        ...       ...   \nffabe3f9905f857b5f4c64150c4945f0 128         40.084    -82.840         0   \nffffe9555b16c2d737f6f2e8616b1e68 644         39.943    -82.827         0   \n                                 646         40.136    -82.996         0   \n                                 647         40.150    -82.997         0   \n                                 648         40.178    -82.997         0   \n\n                                           0-3hr  3-6hr  +6hr  dbs_cluster  \nvin                              sequence                                   \n008beb5671fb49a92dc0ef9de96979bf 555           0      0     1            0  \n                                 556           0      0     1            1  \n                                 558           0      0     1            0  \n                                 559           0      0     1            1  \n                                 561           0      0     1            0  \n...                                          ...    ...   ...          ...  \nffabe3f9905f857b5f4c64150c4945f0 128           1      0     0           17  \nffffe9555b16c2d737f6f2e8616b1e68 644           1      0     0            3  \n                                 646           1      0     0           10  \n                                 647           0      0     1           68  \n                                 648           1      0     0           80  \n\n[32874 rows x 7 columns]",
      "text/html": "<div>\n<style scoped>\n    .dataframe tbody tr th:only-of-type {\n        vertical-align: middle;\n    }\n\n    .dataframe tbody tr th {\n        vertical-align: top;\n    }\n\n    .dataframe thead th {\n        text-align: right;\n    }\n</style>\n<table border=\"1\" class=\"dataframe\">\n  <thead>\n    <tr style=\"text-align: right;\">\n      <th></th>\n      <th></th>\n      <th>latitude</th>\n      <th>longitude</th>\n      <th>daylight</th>\n      <th>0-3hr</th>\n      <th>3-6hr</th>\n      <th>+6hr</th>\n      <th>dbs_cluster</th>\n    </tr>\n    <tr>\n      <th>vin</th>\n      <th>sequence</th>\n      <th></th>\n      <th></th>\n      <th></th>\n      <th></th>\n      <th></th>\n      <th></th>\n      <th></th>\n    </tr>\n  </thead>\n  <tbody>\n    <tr>\n      <th rowspan=\"5\" valign=\"top\">008beb5671fb49a92dc0ef9de96979bf</th>\n      <th>555</th>\n      <td>40.149</td>\n      <td>-82.904</td>\n      <td>0</td>\n      <td>0</td>\n      <td>0</td>\n      <td>1</td>\n      <td>0</td>\n    </tr>\n    <tr>\n      <th>556</th>\n      <td>40.100</td>\n      <td>-83.166</td>\n      <td>1</td>\n      <td>0</td>\n      <td>0</td>\n      <td>1</td>\n      <td>1</td>\n    </tr>\n    <tr>\n      <th>558</th>\n      <td>40.149</td>\n      <td>-82.904</td>\n      <td>0</td>\n      <td>0</td>\n      <td>0</td>\n      <td>1</td>\n      <td>0</td>\n    </tr>\n    <tr>\n      <th>559</th>\n      <td>40.100</td>\n      <td>-83.167</td>\n      <td>1</td>\n      <td>0</td>\n      <td>0</td>\n      <td>1</td>\n      <td>1</td>\n    </tr>\n    <tr>\n      <th>561</th>\n      <td>40.149</td>\n      <td>-82.904</td>\n      <td>0</td>\n      <td>0</td>\n      <td>0</td>\n      <td>1</td>\n      <td>0</td>\n    </tr>\n    <tr>\n      <th>...</th>\n      <th>...</th>\n      <td>...</td>\n      <td>...</td>\n      <td>...</td>\n      <td>...</td>\n      <td>...</td>\n      <td>...</td>\n      <td>...</td>\n    </tr>\n    <tr>\n      <th>ffabe3f9905f857b5f4c64150c4945f0</th>\n      <th>128</th>\n      <td>40.084</td>\n      <td>-82.840</td>\n      <td>0</td>\n      <td>1</td>\n      <td>0</td>\n      <td>0</td>\n      <td>17</td>\n    </tr>\n    <tr>\n      <th rowspan=\"4\" valign=\"top\">ffffe9555b16c2d737f6f2e8616b1e68</th>\n      <th>644</th>\n      <td>39.943</td>\n      <td>-82.827</td>\n      <td>0</td>\n      <td>1</td>\n      <td>0</td>\n      <td>0</td>\n      <td>3</td>\n    </tr>\n    <tr>\n      <th>646</th>\n      <td>40.136</td>\n      <td>-82.996</td>\n      <td>0</td>\n      <td>1</td>\n      <td>0</td>\n      <td>0</td>\n      <td>10</td>\n    </tr>\n    <tr>\n      <th>647</th>\n      <td>40.150</td>\n      <td>-82.997</td>\n      <td>0</td>\n      <td>0</td>\n      <td>0</td>\n      <td>1</td>\n      <td>68</td>\n    </tr>\n    <tr>\n      <th>648</th>\n      <td>40.178</td>\n      <td>-82.997</td>\n      <td>0</td>\n      <td>1</td>\n      <td>0</td>\n      <td>0</td>\n      <td>80</td>\n    </tr>\n  </tbody>\n</table>\n<p>32874 rows × 7 columns</p>\n</div>"
     },
     "metadata": {}
    },
    {
     "data": {
      "text/plain": "<Figure size 1080x1080 with 2 Axes>",
      "image/png": "[encoded data removed]"
     },
     "metadata": {
      "needs_background": "light",
      "image/png": {
       "width": 821,
       "height": 835
      }
     },
     "output_type": "display_data"
    }
   ]
  },
  {
   "cell_type": "code",
   "metadata": {
    "tags": [],
    "cell_id": "00010-24710a55-fef6-4a4c-9cc3-e190251fe0b3",
    "deepnote_to_be_reexecuted": false,
    "source_hash": "1e86c272",
    "execution_millis": 0,
    "output_cleared": true,
    "execution_start": 1620248855983,
    "deepnote_cell_type": "code"
   },
   "source": "def cluster_metrics(df):\n    \"\"\" \n    \n    Generates the clusters based off of location and dwell time using DBScan\n    \n    Parameters:\n    _ _ _ _ _ _ _ _ _ _ _ _ _ \n        df1 = DataFrame, containing lat,long, dwell time interval\n        eps = Float, epsilon value for DBScan \n        min_sample = Integer, mininimum number of samples in a given cluster for DBScan\n       \n    \n    Returns\n    _ _ _ _ _ _ _ _ _ _ _ _ _\n        A DataFrame containing lat, long, dwell time interval, associated DBS Cluster\n    \n    \"\"\" \n    ## Takes in DataFrame with dbs cluster labels and return summary metrics per Cluster\n    cluster_hour_info = pd.DataFrame()\n\n    # Grouped by labels to find the average dwell time in hours for each cluster\n    cluster_hour_info[\"avg duration (hr)\"] = (df.groupby(\"dbs_cluster\")[\"dwell time duration (seconds)\"].agg('mean'))/3600\n\n    # Grouped by labels to find the median dwell time in hours for each cluster\n    cluster_hour_info[\"median duration (hr)\"] = (df.groupby(\"dbs_cluster\")[\"dwell time duration (seconds)\"].agg('median'))/3600\n\n    # Grouped by labels to find the min and max dwell times in hours for each cluster\n    cluster_hour_info[\"min duration (hr)\"] = (df.groupby(\"dbs_cluster\")[\"dwell time duration (seconds)\"].agg('min'))/3600\n    cluster_hour_info[\"max duration (hr)\"] = (df.groupby(\"dbs_cluster\")[\"dwell time duration (seconds)\"].agg('max'))/3600\n    cluster_hour_info[\"std duration (hr)\"] = (df.groupby(\"dbs_cluster\")[\"dwell time duration (seconds)\"].agg('std'))/3600\n    cluster_hour_info[\"cluster size\"] = df.groupby(\"dbs_cluster\").size()\n    cluster_hour_info.sort_values(by = 'std duration (hr)')\n    return cluster_hour_info\n\n",
   "execution_count": null,
   "outputs": []
  },
  {
   "cell_type": "code",
   "metadata": {
    "tags": [],
    "cell_id": "00026-3170e613-c417-466f-96f0-40bb11db7878",
    "deepnote_to_be_reexecuted": false,
    "source_hash": "772bb0e3",
    "execution_millis": 0,
    "output_cleared": false,
    "execution_start": 1620336935306,
    "deepnote_cell_type": "code"
   },
   "source": "def train_pred_model(dbs_df1, knn = True, svm = False):\n\n    \"\"\" \n    Trains a provided predictive model on dataset for cluster-prediction.\n    Performs hyper-parameter tuning using a randomised Cross-Validaiton Search.\n\n    Parameters:\n    _ _ _ _ _ _ _ _ _ _ _ _ _ \n    dbs_df1 = DataFrame, containing lat, long, associated DBS Cluster\n    knn = Boolean, specifies if model is knn or not. If not knn, then XGBoost\n\n\n    Returns\n    _ _ _ _ _ _ _ _ _ _ _ _ _\n    A trained predictedive model with tuned hyperparameters to predict dbs_cluster, prints CV score.\n    BEWARE MAY BE COMPUTATIONALLY EXPENSIVE DUE TO HYPER-PARAMETER TUNING, USE OF GPU ADVISED\n\n    \"\"\"\n\n    dbs_df = dbs_df1.copy()\n    X = dbs_df.loc[: , ['latitude','longitude', 'daylight']]\n    y = dbs_df.loc[:, 'dbs_cluster']\n    X_train, X_test, y_train, y_test = train_test_split(X,y, test_size=0.3, random_state=0)\n    if svm:\n        kf = KFold(4, shuffle=True, random_state=0)\n        pipe = Pipeline([('scaler', StandardScaler()), ('svc', SVC())])\n        param_grid = {\n            'svc__kernel': ['poly', 'rbf'],\n            'svc__coef0' : np.logspace(-2,2,9),\n            'svc__degree': [1,2,3,4,5,6],\n            'svc__C': np.logspace(-2,2,9),\n            'svc__cache_size': [ 12000]\n        }\n        search = RandomizedSearchCV(pipe, param_grid, cv =kf, n_jobs = -1)\n        best_model = search.fit(X_train, y_train)\n        print(\"Best parameter (CV score=%0.3f):\" % search.best_score_)\n        print(search.best_params_)\n        cv_scores = cross_val_score(best_knn,X_train,y_train, cv=3)\n        print (\"Cross-Validation Accuracies:\", cv_scores)\n        print (\"Overall CV score is:\", np.mean(cv_scores))\n        return best_model\n    if knn:\n        print(KNeighborsClassifier().get_params().keys())\n        N_grid = range(3,50)\n        kf = KFold(4, shuffle=True, random_state=0)\n        param_grid = {\n        'n_neighbors': N_grid, \n        'algorithm':['ball_tree', 'kd_tree','brute'],\n        'p':[1,2, 3,4, 5, 6, 7, 8, 9, 10, 15, 20],\n        'leaf_size':np.arange(10,80),\n        'weights': ['uniform', 'distance'],\n        'n_jobs': [-1]}\n        knn = KNeighborsClassifier()\n        search = GridSearchCV(knn, param_grid, cv = kf, n_jobs = -1)\n        best_model = search.fit(X_train, y_train)\n        best_knn = best_model.best_estimator_\n        cv_scores = cross_val_score(best_knn,X_train,y_train, cv=3)\n        print (\"Cross-Validation Accuracies:\", cv_scores)\n        print (\"Overall CV score is:\", np.mean(cv_scores))\n        return best_knn\n    else:\n        kf = KFold(4, shuffle=True, random_state=0)\n        params = {\n                'min_child_weight': range(2,8),\n                'eta' : [.3, .2, .1, .05, .01, .005],\n                'subsample': [0.65, 0.8, 1.0],\n                'gamma': [0.5, 1, 1.5, 2, 3.5, 5],\n                'colsample_bytree': [0.6, 0.8, 1.0],\n                'max_depth': [3, 4, 5, 7, 10],\n                'njobs': [-1]}\n        model = XGBClassifier()\n        model.get_params().keys()\n        search = GridSearchCV(model, params, cv = kf, n_jobs = -1)\n        best_model = search.fit(X_train, y_train)\n        best_xg = best_model.best_estimator_\n        cv_scores = cross_val_score(best_xg,X_train,y_train, cv=3)\n        print (\"Cross-Validation Accuracies:\", cv_scores)\n        print (\"Overall CV score is:\", np.mean(cv_scores))\n        return best_xg\n\n\ndef predicted_cluster_vals(df1,best_model):\n    \"\"\" \n    Fits best_model and predicts the cluster of each datapoint in the dataframe using either KNN or XGBoost\n    \n    Parameters\n    _ _ _ _ _ _ _ _ _ _ _ _ _ \n    df1 = DataFrame, containing lat, long, daylight, dbs_cluster\n    pred_model = KNN or XGBoost model\n\n\n    Returns\n    _ _ _ _ _ _ _ _ _ _ _ _ _\n    A dataframe containing Lat,Long, predicted_cluster\n    \"\"\"\n    X = df1.loc[: , ['latitude','longitude', 'daylight']]\n    y = df1.loc[:, 'dbs_cluster']\n    X_train, X_test, y_train, y_test = train_test_split(X,y, test_size=0.3)\n    best_model = best_model.fit(X_train, y_train)\n    pred_df = df1.loc[: , ['latitude','longitude','daylight']]\n    pred_df['predicted_cluster'] = best_model.predict(pred_df)\n    return pred_df\n",
   "execution_count": 153,
   "outputs": []
  },
  {
   "cell_type": "code",
   "source": "##CHANGE TO GENERAL CASE FOR INTERVAL BINS (FROM 0-3, 3-6, +6)\ndef get_interval_pred(pred, actual):\n    \"\"\" \n    Connects your prediction DataFrame with the associated cluster intervals to retrieve interval bin predictions\n\n    Parameters:\n    _ _ _ _ _ _ _ _ _ _ _ _ _ \n    pred = DataFrame, containing lat,long, predicted DBS Cluster\n    actual = DataFrame, containing cluster, lat, long, dwell time interval bins\n\n\n    Returns\n    _ _ _ _ _ _ _ _ _ _ _ _ _\n    A DataFrame containing lat, long, dwell time interval, associated interval bins (Predictions for interval bins)\n\n    \"\"\" \n    actual = dbs_interval_noiseless.drop_duplicates(subset =\"dbs_cluster\")\n    actual = actual.copy()\n    pred = pred.copy()\n    merged_data = pd.merge(pred.reset_index(),actual,how='inner',left_on=['predicted_cluster'],right_on=['dbs_cluster'])\n    merged_data = merged_data.set_index([\"vin\",\"sequence\"]).sort_index()\n    #uncomment the previous line, decide how you want to reset the index. it was working without any reset\n    #still need to connect data to a cluster average rather than a random point in the actual dataframe.\n    sortedvals = merged_data[[\"latitude_x\",\"longitude_x\",\"predicted_cluster\",\"0-3hr\",\"3-6hr\",\"+6hr\"]]\n    return sortedvals.sort_index()",
   "metadata": {
    "tags": [],
    "cell_id": "00019-1cfa6430-71fe-4ac6-adc1-cd9f5b6ac91d",
    "deepnote_to_be_reexecuted": false,
    "source_hash": "175ef48a",
    "execution_start": 1620328937618,
    "execution_millis": 0,
    "deepnote_cell_type": "code"
   },
   "outputs": [],
   "execution_count": 130
  },
  {
   "cell_type": "code",
   "source": "SVM_cluster_predmodel = train_pred_model(dbs_interval_noiseless, knn = False, svm = True)\nSVM_cluster_predmodel",
   "metadata": {
    "tags": [],
    "cell_id": "00018-87bf154c-c698-4d9e-a051-0c55f0966907",
    "deepnote_to_be_reexecuted": false,
    "source_hash": "2e0376d1",
    "execution_start": 1620296496601,
    "execution_millis": 1820020,
    "output_cleared": true,
    "deepnote_cell_type": "code"
   },
   "outputs": [],
   "execution_count": 129
  },
  {
   "cell_type": "code",
   "source": "xgb_model = XGBClassifier(base_score=0.5, booster='gbtree', colsample_bylevel=1,\n              colsample_bynode=1, colsample_bytree=0.6, eta=0.2, gamma=2,\n              gpu_id=-1, importance_type='gain', interaction_constraints='',\n              learning_rate=0.200000003, max_delta_step=0, max_depth=3,\n              min_child_weight=3, monotone_constraints='()',\n              n_estimators=100, n_jobs=4, njobs=-1, num_parallel_tree=1,\n              objective='multi:softprob', random_state=0, reg_alpha=0,\n              reg_lambda=1, scale_pos_weight=None, subsample=1.0,\n              tree_method='exact', validate_parameters=1, verbosity=None)",
   "metadata": {
    "tags": [],
    "cell_id": "00020-625d4038-afba-4c0a-b289-89c2034af1c8",
    "deepnote_to_be_reexecuted": false,
    "source_hash": "2621fd6a",
    "execution_start": 1620337107028,
    "execution_millis": 5,
    "deepnote_cell_type": "code"
   },
   "outputs": [],
   "execution_count": 156
  },
  {
   "cell_type": "code",
   "source": "\nbest_SVC = SVC(kernel= 'poly', degree= 5, coef0= 0.01, cache_size = 12000, C= 31.622776601683793)\nbest_SVC",
   "metadata": {
    "tags": [],
    "cell_id": "00019-73dc0fdb-cf99-41cc-97fc-2d2b2ed6dc51",
    "deepnote_to_be_reexecuted": false,
    "source_hash": "cafa615a",
    "execution_start": 1620336062009,
    "execution_millis": 13,
    "deepnote_cell_type": "code"
   },
   "outputs": [
    {
     "output_type": "execute_result",
     "execution_count": 137,
     "data": {
      "text/plain": "SVC(C=31.622776601683793, cache_size=12000, coef0=0.01, degree=5, kernel='poly')"
     },
     "metadata": {}
    }
   ],
   "execution_count": 137
  },
  {
   "cell_type": "code",
   "source": "Best_KNN_Model = train_pred_model(dbs_interval_noiseless, knn = True)\nBest_KNN_Model",
   "metadata": {
    "tags": [],
    "cell_id": "00020-f9cad0ad-deff-47b4-bc82-a3b00fecc7dd",
    "deepnote_to_be_reexecuted": false,
    "source_hash": "9358cfa5",
    "execution_start": 1620329003322,
    "execution_millis": 260914,
    "output_cleared": true,
    "deepnote_cell_type": "code"
   },
   "outputs": [],
   "execution_count": 132
  },
  {
   "cell_type": "code",
   "source": "Best_KNN_Model = KNeighborsClassifier(algorithm='kd_tree', leaf_size=69, n_jobs=-1,\n                     n_neighbors=20, p=6, weights='distance')",
   "metadata": {
    "tags": [],
    "cell_id": "00019-3973b6b7-082d-43ae-b3b6-885f347dcf34",
    "deepnote_to_be_reexecuted": false,
    "source_hash": "78dfe50a",
    "execution_start": 1620336729878,
    "execution_millis": 0,
    "deepnote_cell_type": "code"
   },
   "outputs": [],
   "execution_count": 141
  },
  {
   "cell_type": "code",
   "source": "#Add this to get_interval_pred\npred = dbs_interval_noiseless[['latitude', 'longitude', 'daylight']]\nactual_clusters_with_intervals = dbs_interval_noiseless.drop_duplicates(subset =\"dbs_cluster\")\ndbs_interval_noiseless",
   "metadata": {
    "tags": [],
    "cell_id": "00018-0b794984-505f-4e8e-89bd-9b4300137ce6",
    "deepnote_to_be_reexecuted": false,
    "source_hash": "213653bd",
    "execution_start": 1620336093909,
    "execution_millis": 103,
    "output_cleared": false,
    "deepnote_cell_type": "code"
   },
   "outputs": [
    {
     "output_type": "execute_result",
     "execution_count": 138,
     "data": {
      "application/vnd.deepnote.dataframe.v2+json": {
       "row_count": 32874,
       "column_count": 7,
       "columns": [
        {
         "name": "latitude",
         "dtype": "float64",
         "stats": {
          "unique_count": 451,
          "nan_count": 0,
          "min": "39.737",
          "max": "40.365",
          "histogram": [
           {
            "bin_start": 39.737,
            "bin_end": 39.799800000000005,
            "count": 51
           },
           {
            "bin_start": 39.799800000000005,
            "bin_end": 39.8626,
            "count": 615
           },
           {
            "bin_start": 39.8626,
            "bin_end": 39.9254,
            "count": 1504
           },
           {
            "bin_start": 39.9254,
            "bin_end": 39.9882,
            "count": 6649
           },
           {
            "bin_start": 39.9882,
            "bin_end": 40.051,
            "count": 7170
           },
           {
            "bin_start": 40.051,
            "bin_end": 40.113800000000005,
            "count": 10343
           },
           {
            "bin_start": 40.113800000000005,
            "bin_end": 40.1766,
            "count": 5389
           },
           {
            "bin_start": 40.1766,
            "bin_end": 40.2394,
            "count": 600
           },
           {
            "bin_start": 40.2394,
            "bin_end": 40.3022,
            "count": 290
           },
           {
            "bin_start": 40.3022,
            "bin_end": 40.365,
            "count": 263
           }
          ]
         }
        },
        {
         "name": "longitude",
         "dtype": "float64",
         "stats": {
          "unique_count": 579,
          "nan_count": 0,
          "min": "-83.738",
          "max": "-82.516",
          "histogram": [
           {
            "bin_start": -83.738,
            "bin_end": -83.61580000000001,
            "count": 20
           },
           {
            "bin_start": -83.61580000000001,
            "bin_end": -83.4936,
            "count": 382
           },
           {
            "bin_start": -83.4936,
            "bin_end": -83.3714,
            "count": 47
           },
           {
            "bin_start": -83.3714,
            "bin_end": -83.2492,
            "count": 213
           },
           {
            "bin_start": -83.2492,
            "bin_end": -83.12700000000001,
            "count": 3996
           },
           {
            "bin_start": -83.12700000000001,
            "bin_end": -83.0048,
            "count": 14628
           },
           {
            "bin_start": -83.0048,
            "bin_end": -82.8826,
            "count": 8583
           },
           {
            "bin_start": -82.8826,
            "bin_end": -82.7604,
            "count": 4715
           },
           {
            "bin_start": -82.7604,
            "bin_end": -82.63820000000001,
            "count": 241
           },
           {
            "bin_start": -82.63820000000001,
            "bin_end": -82.516,
            "count": 49
           }
          ]
         }
        },
        {
         "name": "daylight",
         "dtype": "int64",
         "stats": {
          "unique_count": 2,
          "nan_count": 0,
          "min": "0",
          "max": "1",
          "histogram": [
           {
            "bin_start": 0,
            "bin_end": 0.1,
            "count": 18460
           },
           {
            "bin_start": 0.1,
            "bin_end": 0.2,
            "count": 0
           },
           {
            "bin_start": 0.2,
            "bin_end": 0.30000000000000004,
            "count": 0
           },
           {
            "bin_start": 0.30000000000000004,
            "bin_end": 0.4,
            "count": 0
           },
           {
            "bin_start": 0.4,
            "bin_end": 0.5,
            "count": 0
           },
           {
            "bin_start": 0.5,
            "bin_end": 0.6000000000000001,
            "count": 0
           },
           {
            "bin_start": 0.6000000000000001,
            "bin_end": 0.7000000000000001,
            "count": 0
           },
           {
            "bin_start": 0.7000000000000001,
            "bin_end": 0.8,
            "count": 0
           },
           {
            "bin_start": 0.8,
            "bin_end": 0.9,
            "count": 0
           },
           {
            "bin_start": 0.9,
            "bin_end": 1,
            "count": 14414
           }
          ]
         }
        },
        {
         "name": "0-3hr",
         "dtype": "int64"
        },
        {
         "name": "3-6hr",
         "dtype": "int64"
        },
        {
         "name": "+6hr",
         "dtype": "int64"
        },
        {
         "name": "dbs_cluster",
         "dtype": "int64"
        },
        {
         "name": "_deepnote_index_column",
         "dtype": "object"
        }
       ],
       "rows_top": [
        {
         "latitude": 40.149,
         "longitude": -82.904,
         "daylight": 0,
         "0-3hr": 0,
         "3-6hr": 0,
         "+6hr": 1,
         "dbs_cluster": 0,
         "_deepnote_index_column": "('008beb5671fb49a92dc0ef9de96979bf', 555)"
        },
        {
         "latitude": 40.1,
         "longitude": -83.166,
         "daylight": 1,
         "0-3hr": 0,
         "3-6hr": 0,
         "+6hr": 1,
         "dbs_cluster": 1,
         "_deepnote_index_column": "('008beb5671fb49a92dc0ef9de96979bf', 556)"
        },
        {
         "latitude": 40.149,
         "longitude": -82.904,
         "daylight": 0,
         "0-3hr": 0,
         "3-6hr": 0,
         "+6hr": 1,
         "dbs_cluster": 0,
         "_deepnote_index_column": "('008beb5671fb49a92dc0ef9de96979bf', 558)"
        },
        {
         "latitude": 40.1,
         "longitude": -83.167,
         "daylight": 1,
         "0-3hr": 0,
         "3-6hr": 0,
         "+6hr": 1,
         "dbs_cluster": 1,
         "_deepnote_index_column": "('008beb5671fb49a92dc0ef9de96979bf', 559)"
        },
        {
         "latitude": 40.149,
         "longitude": -82.904,
         "daylight": 0,
         "0-3hr": 0,
         "3-6hr": 0,
         "+6hr": 1,
         "dbs_cluster": 0,
         "_deepnote_index_column": "('008beb5671fb49a92dc0ef9de96979bf', 561)"
        },
        {
         "latitude": 40.058,
         "longitude": -82.915,
         "daylight": 0,
         "0-3hr": 0,
         "3-6hr": 0,
         "+6hr": 1,
         "dbs_cluster": 2,
         "_deepnote_index_column": "('008beb5671fb49a92dc0ef9de96979bf', 562)"
        },
        {
         "latitude": 39.923,
         "longitude": -82.836,
         "daylight": 0,
         "0-3hr": 1,
         "3-6hr": 0,
         "+6hr": 0,
         "dbs_cluster": 3,
         "_deepnote_index_column": "('008beb5671fb49a92dc0ef9de96979bf', 564)"
        },
        {
         "latitude": 40.149,
         "longitude": -82.904,
         "daylight": 0,
         "0-3hr": 1,
         "3-6hr": 0,
         "+6hr": 0,
         "dbs_cluster": 4,
         "_deepnote_index_column": "('008beb5671fb49a92dc0ef9de96979bf', 565)"
        },
        {
         "latitude": 40.128,
         "longitude": -82.932,
         "daylight": 1,
         "0-3hr": 0,
         "3-6hr": 0,
         "+6hr": 1,
         "dbs_cluster": 5,
         "_deepnote_index_column": "('008beb5671fb49a92dc0ef9de96979bf', 567)"
        },
        {
         "latitude": 40.149,
         "longitude": -82.904,
         "daylight": 1,
         "0-3hr": 1,
         "3-6hr": 0,
         "+6hr": 0,
         "dbs_cluster": 6,
         "_deepnote_index_column": "('008beb5671fb49a92dc0ef9de96979bf', 568)"
        },
        {
         "latitude": 40.149,
         "longitude": -82.904,
         "daylight": 1,
         "0-3hr": 1,
         "3-6hr": 0,
         "+6hr": 0,
         "dbs_cluster": 6,
         "_deepnote_index_column": "('008beb5671fb49a92dc0ef9de96979bf', 570)"
        },
        {
         "latitude": 40.149,
         "longitude": -82.904,
         "daylight": 1,
         "0-3hr": 1,
         "3-6hr": 0,
         "+6hr": 0,
         "dbs_cluster": 6,
         "_deepnote_index_column": "('008beb5671fb49a92dc0ef9de96979bf', 571)"
        },
        {
         "latitude": 40.149,
         "longitude": -82.904,
         "daylight": 1,
         "0-3hr": 1,
         "3-6hr": 0,
         "+6hr": 0,
         "dbs_cluster": 6,
         "_deepnote_index_column": "('008beb5671fb49a92dc0ef9de96979bf', 573)"
        },
        {
         "latitude": 40.14,
         "longitude": -82.982,
         "daylight": 0,
         "0-3hr": 0,
         "3-6hr": 1,
         "+6hr": 0,
         "dbs_cluster": 7,
         "_deepnote_index_column": "('008beb5671fb49a92dc0ef9de96979bf', 574)"
        },
        {
         "latitude": 40.149,
         "longitude": -82.904,
         "daylight": 0,
         "0-3hr": 1,
         "3-6hr": 0,
         "+6hr": 0,
         "dbs_cluster": 4,
         "_deepnote_index_column": "('008beb5671fb49a92dc0ef9de96979bf', 576)"
        },
        {
         "latitude": 40.1,
         "longitude": -83.167,
         "daylight": 1,
         "0-3hr": 0,
         "3-6hr": 0,
         "+6hr": 1,
         "dbs_cluster": 1,
         "_deepnote_index_column": "('008beb5671fb49a92dc0ef9de96979bf', 585)"
        },
        {
         "latitude": 40.149,
         "longitude": -82.904,
         "daylight": 0,
         "0-3hr": 0,
         "3-6hr": 0,
         "+6hr": 1,
         "dbs_cluster": 0,
         "_deepnote_index_column": "('008beb5671fb49a92dc0ef9de96979bf', 586)"
        },
        {
         "latitude": 40.1,
         "longitude": -83.167,
         "daylight": 1,
         "0-3hr": 0,
         "3-6hr": 0,
         "+6hr": 1,
         "dbs_cluster": 1,
         "_deepnote_index_column": "('008beb5671fb49a92dc0ef9de96979bf', 588)"
        },
        {
         "latitude": 40.146,
         "longitude": -82.916,
         "daylight": 0,
         "0-3hr": 0,
         "3-6hr": 0,
         "+6hr": 1,
         "dbs_cluster": 8,
         "_deepnote_index_column": "('008beb5671fb49a92dc0ef9de96979bf', 589)"
        },
        {
         "latitude": 40.148,
         "longitude": -82.977,
         "daylight": 1,
         "0-3hr": 0,
         "3-6hr": 0,
         "+6hr": 1,
         "dbs_cluster": 9,
         "_deepnote_index_column": "('008beb5671fb49a92dc0ef9de96979bf', 591)"
        },
        {
         "latitude": 40.149,
         "longitude": -82.904,
         "daylight": 1,
         "0-3hr": 1,
         "3-6hr": 0,
         "+6hr": 0,
         "dbs_cluster": 6,
         "_deepnote_index_column": "('008beb5671fb49a92dc0ef9de96979bf', 592)"
        },
        {
         "latitude": 40.149,
         "longitude": -82.979,
         "daylight": 0,
         "0-3hr": 0,
         "3-6hr": 1,
         "+6hr": 0,
         "dbs_cluster": 7,
         "_deepnote_index_column": "('008beb5671fb49a92dc0ef9de96979bf', 594)"
        },
        {
         "latitude": 40.15,
         "longitude": -82.977,
         "daylight": 0,
         "0-3hr": 1,
         "3-6hr": 0,
         "+6hr": 0,
         "dbs_cluster": 10,
         "_deepnote_index_column": "('008beb5671fb49a92dc0ef9de96979bf', 595)"
        },
        {
         "latitude": 40.149,
         "longitude": -82.904,
         "daylight": 0,
         "0-3hr": 1,
         "3-6hr": 0,
         "+6hr": 0,
         "dbs_cluster": 4,
         "_deepnote_index_column": "('008beb5671fb49a92dc0ef9de96979bf', 597)"
        },
        {
         "latitude": 40.101,
         "longitude": -83.166,
         "daylight": 1,
         "0-3hr": 0,
         "3-6hr": 0,
         "+6hr": 1,
         "dbs_cluster": 1,
         "_deepnote_index_column": "('008beb5671fb49a92dc0ef9de96979bf', 602)"
        },
        {
         "latitude": 40.149,
         "longitude": -82.921,
         "daylight": 0,
         "0-3hr": 0,
         "3-6hr": 0,
         "+6hr": 1,
         "dbs_cluster": 8,
         "_deepnote_index_column": "('008beb5671fb49a92dc0ef9de96979bf', 603)"
        },
        {
         "latitude": 40.149,
         "longitude": -82.904,
         "daylight": 0,
         "0-3hr": 1,
         "3-6hr": 0,
         "+6hr": 0,
         "dbs_cluster": 4,
         "_deepnote_index_column": "('008beb5671fb49a92dc0ef9de96979bf', 604)"
        },
        {
         "latitude": 40.127,
         "longitude": -82.932,
         "daylight": 1,
         "0-3hr": 0,
         "3-6hr": 0,
         "+6hr": 1,
         "dbs_cluster": 5,
         "_deepnote_index_column": "('008beb5671fb49a92dc0ef9de96979bf', 606)"
        },
        {
         "latitude": 40.149,
         "longitude": -82.904,
         "daylight": 1,
         "0-3hr": 1,
         "3-6hr": 0,
         "+6hr": 0,
         "dbs_cluster": 6,
         "_deepnote_index_column": "('008beb5671fb49a92dc0ef9de96979bf', 607)"
        },
        {
         "latitude": 40.149,
         "longitude": -82.904,
         "daylight": 0,
         "0-3hr": 1,
         "3-6hr": 0,
         "+6hr": 0,
         "dbs_cluster": 4,
         "_deepnote_index_column": "('008beb5671fb49a92dc0ef9de96979bf', 616)"
        },
        {
         "latitude": 40.051,
         "longitude": -82.913,
         "daylight": 1,
         "0-3hr": 0,
         "3-6hr": 0,
         "+6hr": 1,
         "dbs_cluster": 11,
         "_deepnote_index_column": "('008beb5671fb49a92dc0ef9de96979bf', 618)"
        },
        {
         "latitude": 40.055,
         "longitude": -82.909,
         "daylight": 1,
         "0-3hr": 1,
         "3-6hr": 0,
         "+6hr": 0,
         "dbs_cluster": 12,
         "_deepnote_index_column": "('008beb5671fb49a92dc0ef9de96979bf', 619)"
        },
        {
         "latitude": 40.057,
         "longitude": -82.909,
         "daylight": 0,
         "0-3hr": 1,
         "3-6hr": 0,
         "+6hr": 0,
         "dbs_cluster": 13,
         "_deepnote_index_column": "('008beb5671fb49a92dc0ef9de96979bf', 621)"
        },
        {
         "latitude": 40.149,
         "longitude": -82.904,
         "daylight": 0,
         "0-3hr": 1,
         "3-6hr": 0,
         "+6hr": 0,
         "dbs_cluster": 4,
         "_deepnote_index_column": "('008beb5671fb49a92dc0ef9de96979bf', 622)"
        },
        {
         "latitude": 40.1,
         "longitude": -83.163,
         "daylight": 1,
         "0-3hr": 0,
         "3-6hr": 0,
         "+6hr": 1,
         "dbs_cluster": 1,
         "_deepnote_index_column": "('008beb5671fb49a92dc0ef9de96979bf', 624)"
        },
        {
         "latitude": 40.149,
         "longitude": -82.904,
         "daylight": 0,
         "0-3hr": 0,
         "3-6hr": 0,
         "+6hr": 1,
         "dbs_cluster": 0,
         "_deepnote_index_column": "('008beb5671fb49a92dc0ef9de96979bf', 628)"
        },
        {
         "latitude": 40.148,
         "longitude": -82.977,
         "daylight": 1,
         "0-3hr": 0,
         "3-6hr": 0,
         "+6hr": 1,
         "dbs_cluster": 9,
         "_deepnote_index_column": "('008beb5671fb49a92dc0ef9de96979bf', 630)"
        },
        {
         "latitude": 40.149,
         "longitude": -82.976,
         "daylight": 1,
         "0-3hr": 1,
         "3-6hr": 0,
         "+6hr": 0,
         "dbs_cluster": 14,
         "_deepnote_index_column": "('008beb5671fb49a92dc0ef9de96979bf', 631)"
        },
        {
         "latitude": 39.971,
         "longitude": -83.004,
         "daylight": 0,
         "0-3hr": 0,
         "3-6hr": 1,
         "+6hr": 0,
         "dbs_cluster": 15,
         "_deepnote_index_column": "('008beb5671fb49a92dc0ef9de96979bf', 634)"
        },
        {
         "latitude": 40.149,
         "longitude": -82.904,
         "daylight": 0,
         "0-3hr": 0,
         "3-6hr": 1,
         "+6hr": 0,
         "dbs_cluster": 409,
         "_deepnote_index_column": "('008beb5671fb49a92dc0ef9de96979bf', 636)"
        },
        {
         "latitude": 40.1,
         "longitude": -83.167,
         "daylight": 1,
         "0-3hr": 0,
         "3-6hr": 0,
         "+6hr": 1,
         "dbs_cluster": 1,
         "_deepnote_index_column": "('008beb5671fb49a92dc0ef9de96979bf', 637)"
        },
        {
         "latitude": 40.149,
         "longitude": -82.904,
         "daylight": 0,
         "0-3hr": 0,
         "3-6hr": 0,
         "+6hr": 1,
         "dbs_cluster": 0,
         "_deepnote_index_column": "('008beb5671fb49a92dc0ef9de96979bf', 639)"
        },
        {
         "latitude": 40.148,
         "longitude": -82.977,
         "daylight": 1,
         "0-3hr": 0,
         "3-6hr": 0,
         "+6hr": 1,
         "dbs_cluster": 9,
         "_deepnote_index_column": "('008beb5671fb49a92dc0ef9de96979bf', 640)"
        },
        {
         "latitude": 40.149,
         "longitude": -82.904,
         "daylight": 1,
         "0-3hr": 1,
         "3-6hr": 0,
         "+6hr": 0,
         "dbs_cluster": 6,
         "_deepnote_index_column": "('008beb5671fb49a92dc0ef9de96979bf', 642)"
        },
        {
         "latitude": 40.149,
         "longitude": -82.921,
         "daylight": 0,
         "0-3hr": 0,
         "3-6hr": 0,
         "+6hr": 1,
         "dbs_cluster": 8,
         "_deepnote_index_column": "('008beb5671fb49a92dc0ef9de96979bf', 643)"
        },
        {
         "latitude": 40.1,
         "longitude": -83.166,
         "daylight": 1,
         "0-3hr": 1,
         "3-6hr": 0,
         "+6hr": 0,
         "dbs_cluster": 16,
         "_deepnote_index_column": "('008beb5671fb49a92dc0ef9de96979bf', 660)"
        },
        {
         "latitude": 40.149,
         "longitude": -82.904,
         "daylight": 0,
         "0-3hr": 0,
         "3-6hr": 0,
         "+6hr": 1,
         "dbs_cluster": 0,
         "_deepnote_index_column": "('008beb5671fb49a92dc0ef9de96979bf', 661)"
        },
        {
         "latitude": 40.1,
         "longitude": -83.166,
         "daylight": 1,
         "0-3hr": 0,
         "3-6hr": 0,
         "+6hr": 1,
         "dbs_cluster": 1,
         "_deepnote_index_column": "('008beb5671fb49a92dc0ef9de96979bf', 663)"
        },
        {
         "latitude": 40.146,
         "longitude": -82.916,
         "daylight": 0,
         "0-3hr": 0,
         "3-6hr": 0,
         "+6hr": 1,
         "dbs_cluster": 8,
         "_deepnote_index_column": "('008beb5671fb49a92dc0ef9de96979bf', 664)"
        },
        {
         "latitude": 40.1,
         "longitude": -83.166,
         "daylight": 1,
         "0-3hr": 0,
         "3-6hr": 0,
         "+6hr": 1,
         "dbs_cluster": 1,
         "_deepnote_index_column": "('008beb5671fb49a92dc0ef9de96979bf', 666)"
        },
        {
         "latitude": 40.149,
         "longitude": -82.904,
         "daylight": 0,
         "0-3hr": 0,
         "3-6hr": 0,
         "+6hr": 1,
         "dbs_cluster": 0,
         "_deepnote_index_column": "('008beb5671fb49a92dc0ef9de96979bf', 667)"
        },
        {
         "latitude": 40.1,
         "longitude": -83.166,
         "daylight": 1,
         "0-3hr": 0,
         "3-6hr": 0,
         "+6hr": 1,
         "dbs_cluster": 1,
         "_deepnote_index_column": "('008beb5671fb49a92dc0ef9de96979bf', 669)"
        },
        {
         "latitude": 40.149,
         "longitude": -82.904,
         "daylight": 0,
         "0-3hr": 0,
         "3-6hr": 0,
         "+6hr": 1,
         "dbs_cluster": 0,
         "_deepnote_index_column": "('008beb5671fb49a92dc0ef9de96979bf', 670)"
        },
        {
         "latitude": 40.149,
         "longitude": -82.976,
         "daylight": 1,
         "0-3hr": 0,
         "3-6hr": 0,
         "+6hr": 1,
         "dbs_cluster": 9,
         "_deepnote_index_column": "('008beb5671fb49a92dc0ef9de96979bf', 672)"
        },
        {
         "latitude": 40.149,
         "longitude": -82.904,
         "daylight": 1,
         "0-3hr": 1,
         "3-6hr": 0,
         "+6hr": 0,
         "dbs_cluster": 6,
         "_deepnote_index_column": "('008beb5671fb49a92dc0ef9de96979bf', 675)"
        },
        {
         "latitude": 40.149,
         "longitude": -82.904,
         "daylight": 0,
         "0-3hr": 1,
         "3-6hr": 0,
         "+6hr": 0,
         "dbs_cluster": 4,
         "_deepnote_index_column": "('008beb5671fb49a92dc0ef9de96979bf', 694)"
        },
        {
         "latitude": 40.149,
         "longitude": -82.921,
         "daylight": 0,
         "0-3hr": 1,
         "3-6hr": 0,
         "+6hr": 0,
         "dbs_cluster": 4,
         "_deepnote_index_column": "('008beb5671fb49a92dc0ef9de96979bf', 695)"
        },
        {
         "latitude": 40.149,
         "longitude": -82.904,
         "daylight": 0,
         "0-3hr": 1,
         "3-6hr": 0,
         "+6hr": 0,
         "dbs_cluster": 4,
         "_deepnote_index_column": "('008beb5671fb49a92dc0ef9de96979bf', 697)"
        },
        {
         "latitude": 40.101,
         "longitude": -83.166,
         "daylight": 1,
         "0-3hr": 0,
         "3-6hr": 0,
         "+6hr": 1,
         "dbs_cluster": 1,
         "_deepnote_index_column": "('008beb5671fb49a92dc0ef9de96979bf', 698)"
        },
        {
         "latitude": 40.087,
         "longitude": -82.833,
         "daylight": 0,
         "0-3hr": 1,
         "3-6hr": 0,
         "+6hr": 0,
         "dbs_cluster": 17,
         "_deepnote_index_column": "('00c85a67f339889c5cb0f5407156c01e', 475)"
        },
        {
         "latitude": 40.089,
         "longitude": -82.824,
         "daylight": 0,
         "0-3hr": 1,
         "3-6hr": 0,
         "+6hr": 0,
         "dbs_cluster": 17,
         "_deepnote_index_column": "('00c85a67f339889c5cb0f5407156c01e', 499)"
        },
        {
         "latitude": 40.087,
         "longitude": -82.833,
         "daylight": 0,
         "0-3hr": 1,
         "3-6hr": 0,
         "+6hr": 0,
         "dbs_cluster": 17,
         "_deepnote_index_column": "('00c85a67f339889c5cb0f5407156c01e', 501)"
        },
        {
         "latitude": 40.087,
         "longitude": -82.833,
         "daylight": 0,
         "0-3hr": 1,
         "3-6hr": 0,
         "+6hr": 0,
         "dbs_cluster": 17,
         "_deepnote_index_column": "('00c85a67f339889c5cb0f5407156c01e', 502)"
        },
        {
         "latitude": 40.147,
         "longitude": -82.937,
         "daylight": 0,
         "0-3hr": 1,
         "3-6hr": 0,
         "+6hr": 0,
         "dbs_cluster": 4,
         "_deepnote_index_column": "('00c85a67f339889c5cb0f5407156c01e', 521)"
        },
        {
         "latitude": 40.087,
         "longitude": -82.833,
         "daylight": 0,
         "0-3hr": 1,
         "3-6hr": 0,
         "+6hr": 0,
         "dbs_cluster": 17,
         "_deepnote_index_column": "('00c85a67f339889c5cb0f5407156c01e', 524)"
        },
        {
         "latitude": 39.93,
         "longitude": -82.835,
         "daylight": 1,
         "0-3hr": 0,
         "3-6hr": 0,
         "+6hr": 1,
         "dbs_cluster": 18,
         "_deepnote_index_column": "('00c85a67f339889c5cb0f5407156c01e', 527)"
        },
        {
         "latitude": 39.931,
         "longitude": -82.834,
         "daylight": 1,
         "0-3hr": 1,
         "3-6hr": 0,
         "+6hr": 0,
         "dbs_cluster": 19,
         "_deepnote_index_column": "('00c85a67f339889c5cb0f5407156c01e', 529)"
        },
        {
         "latitude": 39.931,
         "longitude": -82.834,
         "daylight": 1,
         "0-3hr": 1,
         "3-6hr": 0,
         "+6hr": 0,
         "dbs_cluster": 19,
         "_deepnote_index_column": "('00c85a67f339889c5cb0f5407156c01e', 530)"
        },
        {
         "latitude": 39.931,
         "longitude": -82.834,
         "daylight": 1,
         "0-3hr": 1,
         "3-6hr": 0,
         "+6hr": 0,
         "dbs_cluster": 19,
         "_deepnote_index_column": "('00c85a67f339889c5cb0f5407156c01e', 532)"
        },
        {
         "latitude": 40.089,
         "longitude": -82.825,
         "daylight": 0,
         "0-3hr": 1,
         "3-6hr": 0,
         "+6hr": 0,
         "dbs_cluster": 17,
         "_deepnote_index_column": "('00c85a67f339889c5cb0f5407156c01e', 535)"
        },
        {
         "latitude": 40.087,
         "longitude": -82.833,
         "daylight": 0,
         "0-3hr": 1,
         "3-6hr": 0,
         "+6hr": 0,
         "dbs_cluster": 17,
         "_deepnote_index_column": "('00c85a67f339889c5cb0f5407156c01e', 536)"
        }
       ],
       "rows_bottom": [
        {
         "latitude": 40.084,
         "longitude": -82.84,
         "daylight": 0,
         "0-3hr": 0,
         "3-6hr": 0,
         "+6hr": 1,
         "dbs_cluster": 211,
         "_deepnote_index_column": "('ffabe3f9905f857b5f4c64150c4945f0', 41)"
        },
        {
         "latitude": 40.113,
         "longitude": -83.005,
         "daylight": 1,
         "0-3hr": 1,
         "3-6hr": 0,
         "+6hr": 0,
         "dbs_cluster": 14,
         "_deepnote_index_column": "('ffabe3f9905f857b5f4c64150c4945f0', 43)"
        },
        {
         "latitude": 40.106,
         "longitude": -83.018,
         "daylight": 0,
         "0-3hr": 0,
         "3-6hr": 0,
         "+6hr": 1,
         "dbs_cluster": 180,
         "_deepnote_index_column": "('ffabe3f9905f857b5f4c64150c4945f0', 44)"
        },
        {
         "latitude": 40.084,
         "longitude": -82.84,
         "daylight": 0,
         "0-3hr": 1,
         "3-6hr": 0,
         "+6hr": 0,
         "dbs_cluster": 17,
         "_deepnote_index_column": "('ffabe3f9905f857b5f4c64150c4945f0', 45)"
        },
        {
         "latitude": 40.05,
         "longitude": -82.922,
         "daylight": 1,
         "0-3hr": 0,
         "3-6hr": 0,
         "+6hr": 1,
         "dbs_cluster": 11,
         "_deepnote_index_column": "('ffabe3f9905f857b5f4c64150c4945f0', 46)"
        },
        {
         "latitude": 40.046,
         "longitude": -82.86,
         "daylight": 1,
         "0-3hr": 1,
         "3-6hr": 0,
         "+6hr": 0,
         "dbs_cluster": 71,
         "_deepnote_index_column": "('ffabe3f9905f857b5f4c64150c4945f0', 47)"
        },
        {
         "latitude": 40.084,
         "longitude": -82.84,
         "daylight": 1,
         "0-3hr": 1,
         "3-6hr": 0,
         "+6hr": 0,
         "dbs_cluster": 20,
         "_deepnote_index_column": "('ffabe3f9905f857b5f4c64150c4945f0', 48)"
        },
        {
         "latitude": 40.063,
         "longitude": -82.862,
         "daylight": 0,
         "0-3hr": 0,
         "3-6hr": 1,
         "+6hr": 0,
         "dbs_cluster": 139,
         "_deepnote_index_column": "('ffabe3f9905f857b5f4c64150c4945f0', 49)"
        },
        {
         "latitude": 40.059,
         "longitude": -82.864,
         "daylight": 0,
         "0-3hr": 1,
         "3-6hr": 0,
         "+6hr": 0,
         "dbs_cluster": 63,
         "_deepnote_index_column": "('ffabe3f9905f857b5f4c64150c4945f0', 50)"
        },
        {
         "latitude": 40.084,
         "longitude": -82.84,
         "daylight": 0,
         "0-3hr": 1,
         "3-6hr": 0,
         "+6hr": 0,
         "dbs_cluster": 17,
         "_deepnote_index_column": "('ffabe3f9905f857b5f4c64150c4945f0', 52)"
        },
        {
         "latitude": 40.143,
         "longitude": -82.967,
         "daylight": 0,
         "0-3hr": 1,
         "3-6hr": 0,
         "+6hr": 0,
         "dbs_cluster": 10,
         "_deepnote_index_column": "('ffabe3f9905f857b5f4c64150c4945f0', 53)"
        },
        {
         "latitude": 40.084,
         "longitude": -82.84,
         "daylight": 0,
         "0-3hr": 1,
         "3-6hr": 0,
         "+6hr": 0,
         "dbs_cluster": 17,
         "_deepnote_index_column": "('ffabe3f9905f857b5f4c64150c4945f0', 54)"
        },
        {
         "latitude": 40.054,
         "longitude": -82.906,
         "daylight": 1,
         "0-3hr": 1,
         "3-6hr": 0,
         "+6hr": 0,
         "dbs_cluster": 12,
         "_deepnote_index_column": "('ffabe3f9905f857b5f4c64150c4945f0', 56)"
        },
        {
         "latitude": 40.084,
         "longitude": -82.84,
         "daylight": 1,
         "0-3hr": 1,
         "3-6hr": 0,
         "+6hr": 0,
         "dbs_cluster": 20,
         "_deepnote_index_column": "('ffabe3f9905f857b5f4c64150c4945f0', 57)"
        },
        {
         "latitude": 40.085,
         "longitude": -82.817,
         "daylight": 1,
         "0-3hr": 1,
         "3-6hr": 0,
         "+6hr": 0,
         "dbs_cluster": 20,
         "_deepnote_index_column": "('ffabe3f9905f857b5f4c64150c4945f0', 58)"
        },
        {
         "latitude": 40.084,
         "longitude": -82.84,
         "daylight": 0,
         "0-3hr": 1,
         "3-6hr": 0,
         "+6hr": 0,
         "dbs_cluster": 17,
         "_deepnote_index_column": "('ffabe3f9905f857b5f4c64150c4945f0', 59)"
        },
        {
         "latitude": 40.084,
         "longitude": -82.836,
         "daylight": 0,
         "0-3hr": 1,
         "3-6hr": 0,
         "+6hr": 0,
         "dbs_cluster": 17,
         "_deepnote_index_column": "('ffabe3f9905f857b5f4c64150c4945f0', 60)"
        },
        {
         "latitude": 40.113,
         "longitude": -83.004,
         "daylight": 1,
         "0-3hr": 0,
         "3-6hr": 0,
         "+6hr": 1,
         "dbs_cluster": 179,
         "_deepnote_index_column": "('ffabe3f9905f857b5f4c64150c4945f0', 61)"
        },
        {
         "latitude": 40.118,
         "longitude": -83.015,
         "daylight": 1,
         "0-3hr": 0,
         "3-6hr": 1,
         "+6hr": 0,
         "dbs_cluster": 64,
         "_deepnote_index_column": "('ffabe3f9905f857b5f4c64150c4945f0', 62)"
        },
        {
         "latitude": 40.113,
         "longitude": -83.005,
         "daylight": 1,
         "0-3hr": 1,
         "3-6hr": 0,
         "+6hr": 0,
         "dbs_cluster": 14,
         "_deepnote_index_column": "('ffabe3f9905f857b5f4c64150c4945f0', 63)"
        },
        {
         "latitude": 39.963,
         "longitude": -82.998,
         "daylight": 0,
         "0-3hr": 0,
         "3-6hr": 0,
         "+6hr": 1,
         "dbs_cluster": 27,
         "_deepnote_index_column": "('ffabe3f9905f857b5f4c64150c4945f0', 70)"
        },
        {
         "latitude": 40.084,
         "longitude": -82.84,
         "daylight": 0,
         "0-3hr": 1,
         "3-6hr": 0,
         "+6hr": 0,
         "dbs_cluster": 17,
         "_deepnote_index_column": "('ffabe3f9905f857b5f4c64150c4945f0', 71)"
        },
        {
         "latitude": 39.96,
         "longitude": -82.995,
         "daylight": 1,
         "0-3hr": 0,
         "3-6hr": 0,
         "+6hr": 1,
         "dbs_cluster": 22,
         "_deepnote_index_column": "('ffabe3f9905f857b5f4c64150c4945f0', 72)"
        },
        {
         "latitude": 40.149,
         "longitude": -82.976,
         "daylight": 1,
         "0-3hr": 0,
         "3-6hr": 1,
         "+6hr": 0,
         "dbs_cluster": 296,
         "_deepnote_index_column": "('ffabe3f9905f857b5f4c64150c4945f0', 73)"
        },
        {
         "latitude": 39.973,
         "longitude": -83.003,
         "daylight": 0,
         "0-3hr": 0,
         "3-6hr": 1,
         "+6hr": 0,
         "dbs_cluster": 15,
         "_deepnote_index_column": "('ffabe3f9905f857b5f4c64150c4945f0', 75)"
        },
        {
         "latitude": 40.112,
         "longitude": -83.005,
         "daylight": 1,
         "0-3hr": 0,
         "3-6hr": 0,
         "+6hr": 1,
         "dbs_cluster": 179,
         "_deepnote_index_column": "('ffabe3f9905f857b5f4c64150c4945f0', 79)"
        },
        {
         "latitude": 40.118,
         "longitude": -83.012,
         "daylight": 0,
         "0-3hr": 0,
         "3-6hr": 0,
         "+6hr": 1,
         "dbs_cluster": 180,
         "_deepnote_index_column": "('ffabe3f9905f857b5f4c64150c4945f0', 80)"
        },
        {
         "latitude": 40.084,
         "longitude": -82.84,
         "daylight": 0,
         "0-3hr": 1,
         "3-6hr": 0,
         "+6hr": 0,
         "dbs_cluster": 17,
         "_deepnote_index_column": "('ffabe3f9905f857b5f4c64150c4945f0', 81)"
        },
        {
         "latitude": 40.112,
         "longitude": -83.004,
         "daylight": 1,
         "0-3hr": 0,
         "3-6hr": 0,
         "+6hr": 1,
         "dbs_cluster": 179,
         "_deepnote_index_column": "('ffabe3f9905f857b5f4c64150c4945f0', 82)"
        },
        {
         "latitude": 40.08,
         "longitude": -82.813,
         "daylight": 0,
         "0-3hr": 0,
         "3-6hr": 0,
         "+6hr": 1,
         "dbs_cluster": 293,
         "_deepnote_index_column": "('ffabe3f9905f857b5f4c64150c4945f0', 83)"
        },
        {
         "latitude": 40.084,
         "longitude": -82.84,
         "daylight": 0,
         "0-3hr": 1,
         "3-6hr": 0,
         "+6hr": 0,
         "dbs_cluster": 17,
         "_deepnote_index_column": "('ffabe3f9905f857b5f4c64150c4945f0', 84)"
        },
        {
         "latitude": 40.084,
         "longitude": -82.84,
         "daylight": 0,
         "0-3hr": 1,
         "3-6hr": 0,
         "+6hr": 0,
         "dbs_cluster": 17,
         "_deepnote_index_column": "('ffabe3f9905f857b5f4c64150c4945f0', 85)"
        },
        {
         "latitude": 40.083,
         "longitude": -82.808,
         "daylight": 0,
         "0-3hr": 1,
         "3-6hr": 0,
         "+6hr": 0,
         "dbs_cluster": 17,
         "_deepnote_index_column": "('ffabe3f9905f857b5f4c64150c4945f0', 86)"
        },
        {
         "latitude": 40.055,
         "longitude": -82.914,
         "daylight": 1,
         "0-3hr": 0,
         "3-6hr": 0,
         "+6hr": 1,
         "dbs_cluster": 11,
         "_deepnote_index_column": "('ffabe3f9905f857b5f4c64150c4945f0', 88)"
        },
        {
         "latitude": 40.053,
         "longitude": -82.908,
         "daylight": 1,
         "0-3hr": 1,
         "3-6hr": 0,
         "+6hr": 0,
         "dbs_cluster": 12,
         "_deepnote_index_column": "('ffabe3f9905f857b5f4c64150c4945f0', 89)"
        },
        {
         "latitude": 40.049,
         "longitude": -82.918,
         "daylight": 1,
         "0-3hr": 1,
         "3-6hr": 0,
         "+6hr": 0,
         "dbs_cluster": 12,
         "_deepnote_index_column": "('ffabe3f9905f857b5f4c64150c4945f0', 91)"
        },
        {
         "latitude": 40.084,
         "longitude": -82.84,
         "daylight": 1,
         "0-3hr": 1,
         "3-6hr": 0,
         "+6hr": 0,
         "dbs_cluster": 20,
         "_deepnote_index_column": "('ffabe3f9905f857b5f4c64150c4945f0', 92)"
        },
        {
         "latitude": 40.04,
         "longitude": -82.863,
         "daylight": 1,
         "0-3hr": 1,
         "3-6hr": 0,
         "+6hr": 0,
         "dbs_cluster": 71,
         "_deepnote_index_column": "('ffabe3f9905f857b5f4c64150c4945f0', 93)"
        },
        {
         "latitude": 40.079,
         "longitude": -82.852,
         "daylight": 0,
         "0-3hr": 1,
         "3-6hr": 0,
         "+6hr": 0,
         "dbs_cluster": 63,
         "_deepnote_index_column": "('ffabe3f9905f857b5f4c64150c4945f0', 94)"
        },
        {
         "latitude": 40.081,
         "longitude": -82.816,
         "daylight": 0,
         "0-3hr": 0,
         "3-6hr": 1,
         "+6hr": 0,
         "dbs_cluster": 227,
         "_deepnote_index_column": "('ffabe3f9905f857b5f4c64150c4945f0', 95)"
        },
        {
         "latitude": 40.113,
         "longitude": -83.005,
         "daylight": 1,
         "0-3hr": 0,
         "3-6hr": 0,
         "+6hr": 1,
         "dbs_cluster": 179,
         "_deepnote_index_column": "('ffabe3f9905f857b5f4c64150c4945f0', 98)"
        },
        {
         "latitude": 40.112,
         "longitude": -83.006,
         "daylight": 1,
         "0-3hr": 1,
         "3-6hr": 0,
         "+6hr": 0,
         "dbs_cluster": 14,
         "_deepnote_index_column": "('ffabe3f9905f857b5f4c64150c4945f0', 99)"
        },
        {
         "latitude": 40.084,
         "longitude": -82.84,
         "daylight": 0,
         "0-3hr": 0,
         "3-6hr": 0,
         "+6hr": 1,
         "dbs_cluster": 211,
         "_deepnote_index_column": "('ffabe3f9905f857b5f4c64150c4945f0', 100)"
        },
        {
         "latitude": 39.962,
         "longitude": -83.002,
         "daylight": 1,
         "0-3hr": 0,
         "3-6hr": 0,
         "+6hr": 1,
         "dbs_cluster": 22,
         "_deepnote_index_column": "('ffabe3f9905f857b5f4c64150c4945f0', 101)"
        },
        {
         "latitude": 40.113,
         "longitude": -83.005,
         "daylight": 0,
         "0-3hr": 0,
         "3-6hr": 0,
         "+6hr": 1,
         "dbs_cluster": 180,
         "_deepnote_index_column": "('ffabe3f9905f857b5f4c64150c4945f0', 102)"
        },
        {
         "latitude": 40.04,
         "longitude": -82.863,
         "daylight": 1,
         "0-3hr": 0,
         "3-6hr": 0,
         "+6hr": 1,
         "dbs_cluster": 62,
         "_deepnote_index_column": "('ffabe3f9905f857b5f4c64150c4945f0', 104)"
        },
        {
         "latitude": 40.039,
         "longitude": -82.862,
         "daylight": 1,
         "0-3hr": 1,
         "3-6hr": 0,
         "+6hr": 0,
         "dbs_cluster": 71,
         "_deepnote_index_column": "('ffabe3f9905f857b5f4c64150c4945f0', 105)"
        },
        {
         "latitude": 40.112,
         "longitude": -83.005,
         "daylight": 1,
         "0-3hr": 1,
         "3-6hr": 0,
         "+6hr": 0,
         "dbs_cluster": 14,
         "_deepnote_index_column": "('ffabe3f9905f857b5f4c64150c4945f0', 106)"
        },
        {
         "latitude": 40.095,
         "longitude": -83.066,
         "daylight": 0,
         "0-3hr": 1,
         "3-6hr": 0,
         "+6hr": 0,
         "dbs_cluster": 75,
         "_deepnote_index_column": "('ffabe3f9905f857b5f4c64150c4945f0', 107)"
        },
        {
         "latitude": 40.084,
         "longitude": -82.84,
         "daylight": 0,
         "0-3hr": 1,
         "3-6hr": 0,
         "+6hr": 0,
         "dbs_cluster": 17,
         "_deepnote_index_column": "('ffabe3f9905f857b5f4c64150c4945f0', 108)"
        },
        {
         "latitude": 40.039,
         "longitude": -82.862,
         "daylight": 0,
         "0-3hr": 1,
         "3-6hr": 0,
         "+6hr": 0,
         "dbs_cluster": 63,
         "_deepnote_index_column": "('ffabe3f9905f857b5f4c64150c4945f0', 109)"
        },
        {
         "latitude": 40.084,
         "longitude": -82.84,
         "daylight": 0,
         "0-3hr": 1,
         "3-6hr": 0,
         "+6hr": 0,
         "dbs_cluster": 17,
         "_deepnote_index_column": "('ffabe3f9905f857b5f4c64150c4945f0', 110)"
        },
        {
         "latitude": 40.111,
         "longitude": -82.993,
         "daylight": 1,
         "0-3hr": 0,
         "3-6hr": 0,
         "+6hr": 1,
         "dbs_cluster": 216,
         "_deepnote_index_column": "('ffabe3f9905f857b5f4c64150c4945f0', 111)"
        },
        {
         "latitude": 40.094,
         "longitude": -82.824,
         "daylight": 0,
         "0-3hr": 0,
         "3-6hr": 0,
         "+6hr": 1,
         "dbs_cluster": 126,
         "_deepnote_index_column": "('ffabe3f9905f857b5f4c64150c4945f0', 112)"
        },
        {
         "latitude": 40.084,
         "longitude": -82.84,
         "daylight": 0,
         "0-3hr": 1,
         "3-6hr": 0,
         "+6hr": 0,
         "dbs_cluster": 17,
         "_deepnote_index_column": "('ffabe3f9905f857b5f4c64150c4945f0', 113)"
        },
        {
         "latitude": 40.112,
         "longitude": -83.005,
         "daylight": 1,
         "0-3hr": 0,
         "3-6hr": 0,
         "+6hr": 1,
         "dbs_cluster": 179,
         "_deepnote_index_column": "('ffabe3f9905f857b5f4c64150c4945f0', 114)"
        },
        {
         "latitude": 40.081,
         "longitude": -82.813,
         "daylight": 0,
         "0-3hr": 0,
         "3-6hr": 0,
         "+6hr": 1,
         "dbs_cluster": 293,
         "_deepnote_index_column": "('ffabe3f9905f857b5f4c64150c4945f0', 115)"
        },
        {
         "latitude": 40.117,
         "longitude": -82.928,
         "daylight": 1,
         "0-3hr": 0,
         "3-6hr": 0,
         "+6hr": 1,
         "dbs_cluster": 5,
         "_deepnote_index_column": "('ffabe3f9905f857b5f4c64150c4945f0', 117)"
        },
        {
         "latitude": 40.084,
         "longitude": -82.84,
         "daylight": 1,
         "0-3hr": 1,
         "3-6hr": 0,
         "+6hr": 0,
         "dbs_cluster": 20,
         "_deepnote_index_column": "('ffabe3f9905f857b5f4c64150c4945f0', 118)"
        },
        {
         "latitude": 40.081,
         "longitude": -82.816,
         "daylight": 1,
         "0-3hr": 0,
         "3-6hr": 0,
         "+6hr": 1,
         "dbs_cluster": 128,
         "_deepnote_index_column": "('ffabe3f9905f857b5f4c64150c4945f0', 119)"
        },
        {
         "latitude": 40.084,
         "longitude": -82.84,
         "daylight": 1,
         "0-3hr": 1,
         "3-6hr": 0,
         "+6hr": 0,
         "dbs_cluster": 20,
         "_deepnote_index_column": "('ffabe3f9905f857b5f4c64150c4945f0', 120)"
        },
        {
         "latitude": 40.061,
         "longitude": -82.875,
         "daylight": 0,
         "0-3hr": 0,
         "3-6hr": 1,
         "+6hr": 0,
         "dbs_cluster": 139,
         "_deepnote_index_column": "('ffabe3f9905f857b5f4c64150c4945f0', 121)"
        },
        {
         "latitude": 40.113,
         "longitude": -83.005,
         "daylight": 1,
         "0-3hr": 1,
         "3-6hr": 0,
         "+6hr": 0,
         "dbs_cluster": 14,
         "_deepnote_index_column": "('ffabe3f9905f857b5f4c64150c4945f0', 124)"
        },
        {
         "latitude": 40.105,
         "longitude": -83.018,
         "daylight": 0,
         "0-3hr": 0,
         "3-6hr": 0,
         "+6hr": 1,
         "dbs_cluster": 180,
         "_deepnote_index_column": "('ffabe3f9905f857b5f4c64150c4945f0', 125)"
        },
        {
         "latitude": 40.084,
         "longitude": -82.84,
         "daylight": 0,
         "0-3hr": 1,
         "3-6hr": 0,
         "+6hr": 0,
         "dbs_cluster": 17,
         "_deepnote_index_column": "('ffabe3f9905f857b5f4c64150c4945f0', 126)"
        },
        {
         "latitude": 40.076,
         "longitude": -82.837,
         "daylight": 0,
         "0-3hr": 1,
         "3-6hr": 0,
         "+6hr": 0,
         "dbs_cluster": 140,
         "_deepnote_index_column": "('ffabe3f9905f857b5f4c64150c4945f0', 127)"
        },
        {
         "latitude": 40.084,
         "longitude": -82.84,
         "daylight": 0,
         "0-3hr": 1,
         "3-6hr": 0,
         "+6hr": 0,
         "dbs_cluster": 17,
         "_deepnote_index_column": "('ffabe3f9905f857b5f4c64150c4945f0', 128)"
        },
        {
         "latitude": 39.943,
         "longitude": -82.827,
         "daylight": 0,
         "0-3hr": 1,
         "3-6hr": 0,
         "+6hr": 0,
         "dbs_cluster": 3,
         "_deepnote_index_column": "('ffffe9555b16c2d737f6f2e8616b1e68', 644)"
        },
        {
         "latitude": 40.136,
         "longitude": -82.996,
         "daylight": 0,
         "0-3hr": 1,
         "3-6hr": 0,
         "+6hr": 0,
         "dbs_cluster": 10,
         "_deepnote_index_column": "('ffffe9555b16c2d737f6f2e8616b1e68', 646)"
        },
        {
         "latitude": 40.15,
         "longitude": -82.997,
         "daylight": 0,
         "0-3hr": 0,
         "3-6hr": 0,
         "+6hr": 1,
         "dbs_cluster": 68,
         "_deepnote_index_column": "('ffffe9555b16c2d737f6f2e8616b1e68', 647)"
        },
        {
         "latitude": 40.178,
         "longitude": -82.997,
         "daylight": 0,
         "0-3hr": 1,
         "3-6hr": 0,
         "+6hr": 0,
         "dbs_cluster": 80,
         "_deepnote_index_column": "('ffffe9555b16c2d737f6f2e8616b1e68', 648)"
        }
       ]
      },
      "text/plain": "                                           latitude  longitude  daylight  \\\nvin                              sequence                                  \n008beb5671fb49a92dc0ef9de96979bf 555         40.149    -82.904         0   \n                                 556         40.100    -83.166         1   \n                                 558         40.149    -82.904         0   \n                                 559         40.100    -83.167         1   \n                                 561         40.149    -82.904         0   \n...                                             ...        ...       ...   \nffabe3f9905f857b5f4c64150c4945f0 128         40.084    -82.840         0   \nffffe9555b16c2d737f6f2e8616b1e68 644         39.943    -82.827         0   \n                                 646         40.136    -82.996         0   \n                                 647         40.150    -82.997         0   \n                                 648         40.178    -82.997         0   \n\n                                           0-3hr  3-6hr  +6hr  dbs_cluster  \nvin                              sequence                                   \n008beb5671fb49a92dc0ef9de96979bf 555           0      0     1            0  \n                                 556           0      0     1            1  \n                                 558           0      0     1            0  \n                                 559           0      0     1            1  \n                                 561           0      0     1            0  \n...                                          ...    ...   ...          ...  \nffabe3f9905f857b5f4c64150c4945f0 128           1      0     0           17  \nffffe9555b16c2d737f6f2e8616b1e68 644           1      0     0            3  \n                                 646           1      0     0           10  \n                                 647           0      0     1           68  \n                                 648           1      0     0           80  \n\n[32874 rows x 7 columns]",
      "text/html": "<div>\n<style scoped>\n    .dataframe tbody tr th:only-of-type {\n        vertical-align: middle;\n    }\n\n    .dataframe tbody tr th {\n        vertical-align: top;\n    }\n\n    .dataframe thead th {\n        text-align: right;\n    }\n</style>\n<table border=\"1\" class=\"dataframe\">\n  <thead>\n    <tr style=\"text-align: right;\">\n      <th></th>\n      <th></th>\n      <th>latitude</th>\n      <th>longitude</th>\n      <th>daylight</th>\n      <th>0-3hr</th>\n      <th>3-6hr</th>\n      <th>+6hr</th>\n      <th>dbs_cluster</th>\n    </tr>\n    <tr>\n      <th>vin</th>\n      <th>sequence</th>\n      <th></th>\n      <th></th>\n      <th></th>\n      <th></th>\n      <th></th>\n      <th></th>\n      <th></th>\n    </tr>\n  </thead>\n  <tbody>\n    <tr>\n      <th rowspan=\"5\" valign=\"top\">008beb5671fb49a92dc0ef9de96979bf</th>\n      <th>555</th>\n      <td>40.149</td>\n      <td>-82.904</td>\n      <td>0</td>\n      <td>0</td>\n      <td>0</td>\n      <td>1</td>\n      <td>0</td>\n    </tr>\n    <tr>\n      <th>556</th>\n      <td>40.100</td>\n      <td>-83.166</td>\n      <td>1</td>\n      <td>0</td>\n      <td>0</td>\n      <td>1</td>\n      <td>1</td>\n    </tr>\n    <tr>\n      <th>558</th>\n      <td>40.149</td>\n      <td>-82.904</td>\n      <td>0</td>\n      <td>0</td>\n      <td>0</td>\n      <td>1</td>\n      <td>0</td>\n    </tr>\n    <tr>\n      <th>559</th>\n      <td>40.100</td>\n      <td>-83.167</td>\n      <td>1</td>\n      <td>0</td>\n      <td>0</td>\n      <td>1</td>\n      <td>1</td>\n    </tr>\n    <tr>\n      <th>561</th>\n      <td>40.149</td>\n      <td>-82.904</td>\n      <td>0</td>\n      <td>0</td>\n      <td>0</td>\n      <td>1</td>\n      <td>0</td>\n    </tr>\n    <tr>\n      <th>...</th>\n      <th>...</th>\n      <td>...</td>\n      <td>...</td>\n      <td>...</td>\n      <td>...</td>\n      <td>...</td>\n      <td>...</td>\n      <td>...</td>\n    </tr>\n    <tr>\n      <th>ffabe3f9905f857b5f4c64150c4945f0</th>\n      <th>128</th>\n      <td>40.084</td>\n      <td>-82.840</td>\n      <td>0</td>\n      <td>1</td>\n      <td>0</td>\n      <td>0</td>\n      <td>17</td>\n    </tr>\n    <tr>\n      <th rowspan=\"4\" valign=\"top\">ffffe9555b16c2d737f6f2e8616b1e68</th>\n      <th>644</th>\n      <td>39.943</td>\n      <td>-82.827</td>\n      <td>0</td>\n      <td>1</td>\n      <td>0</td>\n      <td>0</td>\n      <td>3</td>\n    </tr>\n    <tr>\n      <th>646</th>\n      <td>40.136</td>\n      <td>-82.996</td>\n      <td>0</td>\n      <td>1</td>\n      <td>0</td>\n      <td>0</td>\n      <td>10</td>\n    </tr>\n    <tr>\n      <th>647</th>\n      <td>40.150</td>\n      <td>-82.997</td>\n      <td>0</td>\n      <td>0</td>\n      <td>0</td>\n      <td>1</td>\n      <td>68</td>\n    </tr>\n    <tr>\n      <th>648</th>\n      <td>40.178</td>\n      <td>-82.997</td>\n      <td>0</td>\n      <td>1</td>\n      <td>0</td>\n      <td>0</td>\n      <td>80</td>\n    </tr>\n  </tbody>\n</table>\n<p>32874 rows × 7 columns</p>\n</div>"
     },
     "metadata": {}
    }
   ],
   "execution_count": 138
  },
  {
   "cell_type": "code",
   "source": "pred_dataframe = predicted_cluster_vals(dbs_interval_noiseless, Best_KNN_Model)\n",
   "metadata": {
    "tags": [],
    "cell_id": "00018-0086ee13-c19a-4106-b6e9-00c7ed5fceba",
    "deepnote_to_be_reexecuted": false,
    "source_hash": "62a004d1",
    "execution_start": 1620336952630,
    "execution_millis": 3216,
    "output_cleared": true,
    "deepnote_cell_type": "code"
   },
   "outputs": [],
   "execution_count": 154
  },
  {
   "cell_type": "markdown",
   "source": "",
   "metadata": {
    "tags": [],
    "cell_id": "00021-88a277ae-07cb-45a4-b02a-393c3f0816ea",
    "deepnote_cell_type": "markdown"
   }
  },
  {
   "cell_type": "code",
   "metadata": {
    "tags": [],
    "cell_id": "00024-52479121-c6e2-49db-bfbf-b54397df8dc8",
    "deepnote_to_be_reexecuted": false,
    "source_hash": "4990631f",
    "execution_millis": 5,
    "execution_start": 1620294314560,
    "deepnote_cell_type": "code"
   },
   "source": "def accuracy(pred_df,actual_df):\n    \"\"\" \n    Creates an accuracy measurement for the predicted cluster dwell times\n    \n    Parameters:\n    _ _ _ _ _ _ _ _ _ _ _ _ _ \n    pred_df = DataFrame, containing lat,long, predicted DBS Cluster, predicted interval bin\n    actual_df = DataFrame, containing cluster, lat, long, dwell time interval bins, actual interval bin\n\n\n    Returns\n    _ _ _ _ _ _ _ _ _ _ _ _ _\n    A Float value of the accuracy of the predictions\n\n    \"\"\" \n    pred = pred_df[['0-3hr', '3-6hr','+6hr']].values\n    actual = actual_df.loc[pred_df.index.values][['0-3hr', '3-6hr','+6hr']].values\n    return metrics.accuracy_score(pred, actual)\n\ndef interval_pred_accuracy(cluster_pred_df, actual):\n    \"\"\" \n    Generates interval predictions for predicted clusters and returns accuracy for interval predictions\n\n    Parameters\n    _ _ _ _ _ _ _ _ _ _ _ _ _ \n    cluster_pred_df = DataFrame, containing lat, long, predicted DBS Cluster\n    actual = DataFrame, containing lat, long, actual DBS Cluster\n    \n\n\n    Returns\n    _ _ _ _ _ _ _ _ _ _ _ _ _\n    An accuracy score for interval predictions\n\n    \"\"\"\n    pred = get_interval_pred(cluster_pred_df, actual)\n    return accuracy(pred, actual)",
   "execution_count": 81,
   "outputs": []
  },
  {
   "cell_type": "code",
   "source": "interval_pred_accuracy(pred_dataframe, dbs_interval_noiseless)\n",
   "metadata": {
    "tags": [],
    "cell_id": "00022-585713b2-f66b-4fc3-b18e-9d675002f03a",
    "deepnote_to_be_reexecuted": false,
    "source_hash": "90ac5f40",
    "execution_start": 1620336960211,
    "execution_millis": 116,
    "deepnote_cell_type": "code"
   },
   "outputs": [
    {
     "output_type": "execute_result",
     "execution_count": 155,
     "data": {
      "text/plain": "0.7761757011620125"
     },
     "metadata": {}
    }
   ],
   "execution_count": 155
  },
  {
   "cell_type": "markdown",
   "source": "0.7761757011620125 ACCURACY IN PREDICTING DWELL TIME INTERVAL USING KNN",
   "metadata": {
    "tags": [],
    "cell_id": "00029-d83c4145-735c-4159-a606-5d096f26b608",
    "deepnote_cell_type": "markdown"
   }
  },
  {
   "cell_type": "code",
   "metadata": {
    "tags": [],
    "cell_id": "00010-302a4516-01eb-4358-9ca2-5c5e2a435c06",
    "deepnote_to_be_reexecuted": false,
    "source_hash": null,
    "execution_millis": 29,
    "execution_start": 1618123894071,
    "output_cleared": true,
    "deepnote_cell_type": "code"
   },
   "source": "'http://www.ccs.neu.edu/home/vip/teach/DMcourse/2_cluster_EM_mixt/notes_slides/revisitofrevisitDBSCAN.pdf \\\nhttps://link.springer.com/article/10.1023%2FA%3A1009745219419 \\\nhttps://www.datanovia.com/en/lessons/dbscan-density-based-clustering-essentials/' ",
   "execution_count": null,
   "outputs": []
  },
  {
   "cell_type": "code",
   "metadata": {
    "tags": [],
    "cell_id": "00038-a055953e-2009-457c-9455-3a317a38db5e",
    "deepnote_to_be_reexecuted": false,
    "source_hash": "d68f018",
    "execution_millis": 474089,
    "execution_start": 1620291951765,
    "deepnote_cell_type": "code"
   },
   "source": "## Binary > 10 hours classification, no pre-clustering\ndbs_copy = dbs_data.copy()\ndbs_copy['more than 10 hr'] = 1 * 1* (dbs_data[\"dwell time duration (seconds)\"]/3600 > 10)\nX = dbs_copy.loc[: , ['latitude','longitude']]\ny = dbs_copy.loc[:, ['more than 10 hr']]\nX_train, X_test, y_train, y_test = train_test_split(X,y, random_state=0)\nkf = KFold(4, shuffle=True, random_state=0)\nparams = {\n        'min_child_weight': range(2,8),\n        'eta' : [.3, .2, .1, .05, .01, .005],\n        'subsample': [0.65, 0.8, 1.0],\n        'gamma': [0.5, 1, 1.5, 2, 3.5, 5],\n        'colsample_bytree': [0.6, 0.8, 1.0],\n        'max_depth': [3, 4, 5, 7, 10],\n        'n_jobs': [-1]}\nmodel = XGBClassifier()\nsearch = RandomizedSearchCV(model, params, cv = kf, n_jobs = -1)\nbest_model = search.fit(X_train, y_train)\nbest_xg = best_model.best_estimator_\ncv_scores = cross_val_score(best_xg,X_train,y_train, cv=3)\nprint (\"Cross-Validation Accuracies:\", cv_scores)\nprint (\"Overall CV score is:\", np.mean(cv_scores))\n\nmetrics.accuracy_score(best_xg.predict(X_train), y_train)",
   "execution_count": 38,
   "outputs": [
    {
     "name": "stderr",
     "text": "/root/venv/lib/python3.9/site-packages/xgboost/sklearn.py:1146: UserWarning: The use of label encoder in XGBClassifier is deprecated and will be removed in a future release. To remove this warning, do the following: 1) Pass option use_label_encoder=False when constructing XGBClassifier object; and 2) Encode your labels (y) as integers starting with 0, i.e. 0, 1, 2, ..., [num_class - 1].\n  warnings.warn(label_encoder_deprecation_msg, UserWarning)\n/shared-libs/python3.9/py/lib/python3.9/site-packages/sklearn/utils/validation.py:63: DataConversionWarning: A column-vector y was passed when a 1d array was expected. Please change the shape of y to (n_samples, ), for example using ravel().\n  return f(*args, **kwargs)\n[09:12:40] WARNING: ../src/learner.cc:1095: Starting in XGBoost 1.3.0, the default evaluation metric used with the objective 'binary:logistic' was changed from 'error' to 'logloss'. Explicitly set eval_metric if you'd like to restore the old behavior.\n/root/venv/lib/python3.9/site-packages/xgboost/sklearn.py:1146: UserWarning: The use of label encoder in XGBClassifier is deprecated and will be removed in a future release. To remove this warning, do the following: 1) Pass option use_label_encoder=False when constructing XGBClassifier object; and 2) Encode your labels (y) as integers starting with 0, i.e. 0, 1, 2, ..., [num_class - 1].\n  warnings.warn(label_encoder_deprecation_msg, UserWarning)\n/shared-libs/python3.9/py/lib/python3.9/site-packages/sklearn/utils/validation.py:63: DataConversionWarning: A column-vector y was passed when a 1d array was expected. Please change the shape of y to (n_samples, ), for example using ravel().\n  return f(*args, **kwargs)\n[09:12:58] WARNING: ../src/learner.cc:1095: Starting in XGBoost 1.3.0, the default evaluation metric used with the objective 'binary:logistic' was changed from 'error' to 'logloss'. Explicitly set eval_metric if you'd like to restore the old behavior.\n/root/venv/lib/python3.9/site-packages/xgboost/data.py:112: UserWarning: Use subset (sliced data) of np.ndarray is not recommended because it will generate extra copies and increase memory consumption\n  warnings.warn(\n/root/venv/lib/python3.9/site-packages/xgboost/sklearn.py:1146: UserWarning: The use of label encoder in XGBClassifier is deprecated and will be removed in a future release. To remove this warning, do the following: 1) Pass option use_label_encoder=False when constructing XGBClassifier object; and 2) Encode your labels (y) as integers starting with 0, i.e. 0, 1, 2, ..., [num_class - 1].\n  warnings.warn(label_encoder_deprecation_msg, UserWarning)\n/shared-libs/python3.9/py/lib/python3.9/site-packages/sklearn/utils/validation.py:63: DataConversionWarning: A column-vector y was passed when a 1d array was expected. Please change the shape of y to (n_samples, ), for example using ravel().\n  return f(*args, **kwargs)\n[09:13:13] WARNING: ../src/learner.cc:1095: Starting in XGBoost 1.3.0, the default evaluation metric used with the objective 'binary:logistic' was changed from 'error' to 'logloss'. Explicitly set eval_metric if you'd like to restore the old behavior.\n/root/venv/lib/python3.9/site-packages/xgboost/data.py:112: UserWarning: Use subset (sliced data) of np.ndarray is not recommended because it will generate extra copies and increase memory consumption\n  warnings.warn(\n/root/venv/lib/python3.9/site-packages/xgboost/sklearn.py:1146: UserWarning: The use of label encoder in XGBClassifier is deprecated and will be removed in a future release. To remove this warning, do the following: 1) Pass option use_label_encoder=False when constructing XGBClassifier object; and 2) Encode your labels (y) as integers starting with 0, i.e. 0, 1, 2, ..., [num_class - 1].\n  warnings.warn(label_encoder_deprecation_msg, UserWarning)\n/shared-libs/python3.9/py/lib/python3.9/site-packages/sklearn/utils/validation.py:63: DataConversionWarning: A column-vector y was passed when a 1d array was expected. Please change the shape of y to (n_samples, ), for example using ravel().\n  return f(*args, **kwargs)\n[09:13:30] WARNING: ../src/learner.cc:1095: Starting in XGBoost 1.3.0, the default evaluation metric used with the objective 'binary:logistic' was changed from 'error' to 'logloss'. Explicitly set eval_metric if you'd like to restore the old behavior.\nCross-Validation Accuracies: [0.78413871 0.78742177 0.78937109]\nOverall CV score is: 0.7869771895626005\n/root/venv/lib/python3.9/site-packages/xgboost/data.py:112: UserWarning: Use subset (sliced data) of np.ndarray is not recommended because it will generate extra copies and increase memory consumption\n  warnings.warn(\n/root/venv/lib/python3.9/site-packages/xgboost/data.py:112: UserWarning: Use subset (sliced data) of np.ndarray is not recommended because it will generate extra copies and increase memory consumption\n  warnings.warn(\n",
     "output_type": "stream"
    },
    {
     "output_type": "execute_result",
     "execution_count": 38,
     "data": {
      "text/plain": "0.7971341609384084"
     },
     "metadata": {}
    }
   ]
  },
  {
   "cell_type": "code",
   "source": "",
   "metadata": {
    "tags": [],
    "cell_id": "00043-fac71c0b-c884-4538-9845-bc05a61d6980",
    "deepnote_cell_type": "code"
   },
   "outputs": [],
   "execution_count": null
  },
  {
   "cell_type": "markdown",
   "source": "<a style='text-decoration:none;line-height:16px;display:flex;color:#5B5B62;padding:10px;justify-content:end;' href='https://deepnote.com?utm_source=created-in-deepnote-cell&projectId=608d4940-9d52-4d53-8e1b-b72eb309e61f' target=\"_blank\">\n<img alt='Created in deepnote.com' style='display:inline;max-height:16px;margin:0px;margin-right:7.5px;' src='data:image/svg+xml;base64,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' > </img>\nCreated in <span style='font-weight:600;margin-left:4px;'>Deepnote</span></a>",
   "metadata": {
    "tags": [],
    "created_in_deepnote_cell": true,
    "deepnote_cell_type": "markdown"
   }
  }
 ],
 "nbformat": 4,
 "nbformat_minor": 2,
 "metadata": {
  "orig_nbformat": 2,
  "deepnote_notebook_id": "12d85b38-024d-4ba5-9427-99166f9754e5",
  "deepnote": {},
  "deepnote_execution_queue": []
 }
}